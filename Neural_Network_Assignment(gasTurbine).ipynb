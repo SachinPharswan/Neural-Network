{
  "cells": [
    {
      "cell_type": "code",
      "execution_count": 1,
      "metadata": {
        "colab": {
          "base_uri": "https://localhost:8080/"
        },
        "id": "V6C78NdlymRM",
        "outputId": "34d49150-da0c-423e-d718-01210c299974"
      },
      "outputs": [
        {
          "output_type": "stream",
          "name": "stdout",
          "text": [
            "Collecting scikeras\n",
            "  Downloading scikeras-0.11.0-py3-none-any.whl (27 kB)\n",
            "Requirement already satisfied: packaging>=0.21 in /usr/local/lib/python3.10/dist-packages (from scikeras) (23.1)\n",
            "Requirement already satisfied: scikit-learn>=1.0.0 in /usr/local/lib/python3.10/dist-packages (from scikeras) (1.2.2)\n",
            "Requirement already satisfied: numpy>=1.17.3 in /usr/local/lib/python3.10/dist-packages (from scikit-learn>=1.0.0->scikeras) (1.23.5)\n",
            "Requirement already satisfied: scipy>=1.3.2 in /usr/local/lib/python3.10/dist-packages (from scikit-learn>=1.0.0->scikeras) (1.11.2)\n",
            "Requirement already satisfied: joblib>=1.1.1 in /usr/local/lib/python3.10/dist-packages (from scikit-learn>=1.0.0->scikeras) (1.3.2)\n",
            "Requirement already satisfied: threadpoolctl>=2.0.0 in /usr/local/lib/python3.10/dist-packages (from scikit-learn>=1.0.0->scikeras) (3.2.0)\n",
            "Installing collected packages: scikeras\n",
            "Successfully installed scikeras-0.11.0\n"
          ]
        }
      ],
      "source": [
        "!pip install scikeras"
      ]
    },
    {
      "cell_type": "code",
      "execution_count": 2,
      "metadata": {
        "id": "_Vfmp9XyDKdH"
      },
      "outputs": [],
      "source": [
        "import numpy as np\n",
        "import pandas as pd\n",
        "import matplotlib.pyplot as plt\n",
        "from sklearn.preprocessing import MinMaxScaler,StandardScaler\n",
        "from sklearn.model_selection import train_test_split,KFold,GridSearchCV\n",
        "from scikeras.wrappers import KerasClassifier\n",
        "from tensorflow.keras.layers import Dense,Dropout\n",
        "from sklearn.metrics import accuracy_score,confusion_matrix\n",
        "from keras.models import Sequential\n",
        "from tensorflow.keras.optimizers import Adam,RMSprop"
      ]
    },
    {
      "cell_type": "code",
      "execution_count": 3,
      "metadata": {
        "colab": {
          "base_uri": "https://localhost:8080/",
          "height": 73
        },
        "id": "-p1FwtDmDTeg",
        "outputId": "033a555f-72c5-4bc1-9d58-2e6e50c3a5db"
      },
      "outputs": [
        {
          "output_type": "display_data",
          "data": {
            "text/plain": [
              "<IPython.core.display.HTML object>"
            ],
            "text/html": [
              "\n",
              "     <input type=\"file\" id=\"files-4366f05d-dc89-454c-9e12-8c0ac995a0d2\" name=\"files[]\" multiple disabled\n",
              "        style=\"border:none\" />\n",
              "     <output id=\"result-4366f05d-dc89-454c-9e12-8c0ac995a0d2\">\n",
              "      Upload widget is only available when the cell has been executed in the\n",
              "      current browser session. Please rerun this cell to enable.\n",
              "      </output>\n",
              "      <script>// Copyright 2017 Google LLC\n",
              "//\n",
              "// Licensed under the Apache License, Version 2.0 (the \"License\");\n",
              "// you may not use this file except in compliance with the License.\n",
              "// You may obtain a copy of the License at\n",
              "//\n",
              "//      http://www.apache.org/licenses/LICENSE-2.0\n",
              "//\n",
              "// Unless required by applicable law or agreed to in writing, software\n",
              "// distributed under the License is distributed on an \"AS IS\" BASIS,\n",
              "// WITHOUT WARRANTIES OR CONDITIONS OF ANY KIND, either express or implied.\n",
              "// See the License for the specific language governing permissions and\n",
              "// limitations under the License.\n",
              "\n",
              "/**\n",
              " * @fileoverview Helpers for google.colab Python module.\n",
              " */\n",
              "(function(scope) {\n",
              "function span(text, styleAttributes = {}) {\n",
              "  const element = document.createElement('span');\n",
              "  element.textContent = text;\n",
              "  for (const key of Object.keys(styleAttributes)) {\n",
              "    element.style[key] = styleAttributes[key];\n",
              "  }\n",
              "  return element;\n",
              "}\n",
              "\n",
              "// Max number of bytes which will be uploaded at a time.\n",
              "const MAX_PAYLOAD_SIZE = 100 * 1024;\n",
              "\n",
              "function _uploadFiles(inputId, outputId) {\n",
              "  const steps = uploadFilesStep(inputId, outputId);\n",
              "  const outputElement = document.getElementById(outputId);\n",
              "  // Cache steps on the outputElement to make it available for the next call\n",
              "  // to uploadFilesContinue from Python.\n",
              "  outputElement.steps = steps;\n",
              "\n",
              "  return _uploadFilesContinue(outputId);\n",
              "}\n",
              "\n",
              "// This is roughly an async generator (not supported in the browser yet),\n",
              "// where there are multiple asynchronous steps and the Python side is going\n",
              "// to poll for completion of each step.\n",
              "// This uses a Promise to block the python side on completion of each step,\n",
              "// then passes the result of the previous step as the input to the next step.\n",
              "function _uploadFilesContinue(outputId) {\n",
              "  const outputElement = document.getElementById(outputId);\n",
              "  const steps = outputElement.steps;\n",
              "\n",
              "  const next = steps.next(outputElement.lastPromiseValue);\n",
              "  return Promise.resolve(next.value.promise).then((value) => {\n",
              "    // Cache the last promise value to make it available to the next\n",
              "    // step of the generator.\n",
              "    outputElement.lastPromiseValue = value;\n",
              "    return next.value.response;\n",
              "  });\n",
              "}\n",
              "\n",
              "/**\n",
              " * Generator function which is called between each async step of the upload\n",
              " * process.\n",
              " * @param {string} inputId Element ID of the input file picker element.\n",
              " * @param {string} outputId Element ID of the output display.\n",
              " * @return {!Iterable<!Object>} Iterable of next steps.\n",
              " */\n",
              "function* uploadFilesStep(inputId, outputId) {\n",
              "  const inputElement = document.getElementById(inputId);\n",
              "  inputElement.disabled = false;\n",
              "\n",
              "  const outputElement = document.getElementById(outputId);\n",
              "  outputElement.innerHTML = '';\n",
              "\n",
              "  const pickedPromise = new Promise((resolve) => {\n",
              "    inputElement.addEventListener('change', (e) => {\n",
              "      resolve(e.target.files);\n",
              "    });\n",
              "  });\n",
              "\n",
              "  const cancel = document.createElement('button');\n",
              "  inputElement.parentElement.appendChild(cancel);\n",
              "  cancel.textContent = 'Cancel upload';\n",
              "  const cancelPromise = new Promise((resolve) => {\n",
              "    cancel.onclick = () => {\n",
              "      resolve(null);\n",
              "    };\n",
              "  });\n",
              "\n",
              "  // Wait for the user to pick the files.\n",
              "  const files = yield {\n",
              "    promise: Promise.race([pickedPromise, cancelPromise]),\n",
              "    response: {\n",
              "      action: 'starting',\n",
              "    }\n",
              "  };\n",
              "\n",
              "  cancel.remove();\n",
              "\n",
              "  // Disable the input element since further picks are not allowed.\n",
              "  inputElement.disabled = true;\n",
              "\n",
              "  if (!files) {\n",
              "    return {\n",
              "      response: {\n",
              "        action: 'complete',\n",
              "      }\n",
              "    };\n",
              "  }\n",
              "\n",
              "  for (const file of files) {\n",
              "    const li = document.createElement('li');\n",
              "    li.append(span(file.name, {fontWeight: 'bold'}));\n",
              "    li.append(span(\n",
              "        `(${file.type || 'n/a'}) - ${file.size} bytes, ` +\n",
              "        `last modified: ${\n",
              "            file.lastModifiedDate ? file.lastModifiedDate.toLocaleDateString() :\n",
              "                                    'n/a'} - `));\n",
              "    const percent = span('0% done');\n",
              "    li.appendChild(percent);\n",
              "\n",
              "    outputElement.appendChild(li);\n",
              "\n",
              "    const fileDataPromise = new Promise((resolve) => {\n",
              "      const reader = new FileReader();\n",
              "      reader.onload = (e) => {\n",
              "        resolve(e.target.result);\n",
              "      };\n",
              "      reader.readAsArrayBuffer(file);\n",
              "    });\n",
              "    // Wait for the data to be ready.\n",
              "    let fileData = yield {\n",
              "      promise: fileDataPromise,\n",
              "      response: {\n",
              "        action: 'continue',\n",
              "      }\n",
              "    };\n",
              "\n",
              "    // Use a chunked sending to avoid message size limits. See b/62115660.\n",
              "    let position = 0;\n",
              "    do {\n",
              "      const length = Math.min(fileData.byteLength - position, MAX_PAYLOAD_SIZE);\n",
              "      const chunk = new Uint8Array(fileData, position, length);\n",
              "      position += length;\n",
              "\n",
              "      const base64 = btoa(String.fromCharCode.apply(null, chunk));\n",
              "      yield {\n",
              "        response: {\n",
              "          action: 'append',\n",
              "          file: file.name,\n",
              "          data: base64,\n",
              "        },\n",
              "      };\n",
              "\n",
              "      let percentDone = fileData.byteLength === 0 ?\n",
              "          100 :\n",
              "          Math.round((position / fileData.byteLength) * 100);\n",
              "      percent.textContent = `${percentDone}% done`;\n",
              "\n",
              "    } while (position < fileData.byteLength);\n",
              "  }\n",
              "\n",
              "  // All done.\n",
              "  yield {\n",
              "    response: {\n",
              "      action: 'complete',\n",
              "    }\n",
              "  };\n",
              "}\n",
              "\n",
              "scope.google = scope.google || {};\n",
              "scope.google.colab = scope.google.colab || {};\n",
              "scope.google.colab._files = {\n",
              "  _uploadFiles,\n",
              "  _uploadFilesContinue,\n",
              "};\n",
              "})(self);\n",
              "</script> "
            ]
          },
          "metadata": {}
        },
        {
          "output_type": "stream",
          "name": "stdout",
          "text": [
            "Saving gas_turbines.csv to gas_turbines.csv\n"
          ]
        }
      ],
      "source": [
        "from google.colab import files\n",
        "uploaded = files.upload()"
      ]
    },
    {
      "cell_type": "code",
      "execution_count": 4,
      "metadata": {
        "colab": {
          "base_uri": "https://localhost:8080/",
          "height": 423
        },
        "id": "a_3z8NOFDeaD",
        "outputId": "78db466f-7fd8-4676-f715-03e70fb44a70"
      },
      "outputs": [
        {
          "output_type": "execute_result",
          "data": {
            "text/plain": [
              "           AT      AP      AH     TEY\n",
              "0      6.8594  1007.9  96.799  114.70\n",
              "1      6.7850  1008.4  97.118  114.72\n",
              "2      6.8977  1008.8  95.939  114.71\n",
              "3      7.0569  1009.2  95.249  114.72\n",
              "4      7.3978  1009.7  95.150  114.72\n",
              "...       ...     ...     ...     ...\n",
              "15034  9.0301  1005.6  98.460  111.61\n",
              "15035  7.8879  1005.9  99.093  111.78\n",
              "15036  7.2647  1006.3  99.496  110.19\n",
              "15037  7.0060  1006.8  99.008  110.74\n",
              "15038  6.9279  1007.2  97.533  111.58\n",
              "\n",
              "[15039 rows x 4 columns]"
            ],
            "text/html": [
              "\n",
              "  <div id=\"df-46c8beb8-5dd9-4f65-85e3-d84a0351f0c7\" class=\"colab-df-container\">\n",
              "    <div>\n",
              "<style scoped>\n",
              "    .dataframe tbody tr th:only-of-type {\n",
              "        vertical-align: middle;\n",
              "    }\n",
              "\n",
              "    .dataframe tbody tr th {\n",
              "        vertical-align: top;\n",
              "    }\n",
              "\n",
              "    .dataframe thead th {\n",
              "        text-align: right;\n",
              "    }\n",
              "</style>\n",
              "<table border=\"1\" class=\"dataframe\">\n",
              "  <thead>\n",
              "    <tr style=\"text-align: right;\">\n",
              "      <th></th>\n",
              "      <th>AT</th>\n",
              "      <th>AP</th>\n",
              "      <th>AH</th>\n",
              "      <th>TEY</th>\n",
              "    </tr>\n",
              "  </thead>\n",
              "  <tbody>\n",
              "    <tr>\n",
              "      <th>0</th>\n",
              "      <td>6.8594</td>\n",
              "      <td>1007.9</td>\n",
              "      <td>96.799</td>\n",
              "      <td>114.70</td>\n",
              "    </tr>\n",
              "    <tr>\n",
              "      <th>1</th>\n",
              "      <td>6.7850</td>\n",
              "      <td>1008.4</td>\n",
              "      <td>97.118</td>\n",
              "      <td>114.72</td>\n",
              "    </tr>\n",
              "    <tr>\n",
              "      <th>2</th>\n",
              "      <td>6.8977</td>\n",
              "      <td>1008.8</td>\n",
              "      <td>95.939</td>\n",
              "      <td>114.71</td>\n",
              "    </tr>\n",
              "    <tr>\n",
              "      <th>3</th>\n",
              "      <td>7.0569</td>\n",
              "      <td>1009.2</td>\n",
              "      <td>95.249</td>\n",
              "      <td>114.72</td>\n",
              "    </tr>\n",
              "    <tr>\n",
              "      <th>4</th>\n",
              "      <td>7.3978</td>\n",
              "      <td>1009.7</td>\n",
              "      <td>95.150</td>\n",
              "      <td>114.72</td>\n",
              "    </tr>\n",
              "    <tr>\n",
              "      <th>...</th>\n",
              "      <td>...</td>\n",
              "      <td>...</td>\n",
              "      <td>...</td>\n",
              "      <td>...</td>\n",
              "    </tr>\n",
              "    <tr>\n",
              "      <th>15034</th>\n",
              "      <td>9.0301</td>\n",
              "      <td>1005.6</td>\n",
              "      <td>98.460</td>\n",
              "      <td>111.61</td>\n",
              "    </tr>\n",
              "    <tr>\n",
              "      <th>15035</th>\n",
              "      <td>7.8879</td>\n",
              "      <td>1005.9</td>\n",
              "      <td>99.093</td>\n",
              "      <td>111.78</td>\n",
              "    </tr>\n",
              "    <tr>\n",
              "      <th>15036</th>\n",
              "      <td>7.2647</td>\n",
              "      <td>1006.3</td>\n",
              "      <td>99.496</td>\n",
              "      <td>110.19</td>\n",
              "    </tr>\n",
              "    <tr>\n",
              "      <th>15037</th>\n",
              "      <td>7.0060</td>\n",
              "      <td>1006.8</td>\n",
              "      <td>99.008</td>\n",
              "      <td>110.74</td>\n",
              "    </tr>\n",
              "    <tr>\n",
              "      <th>15038</th>\n",
              "      <td>6.9279</td>\n",
              "      <td>1007.2</td>\n",
              "      <td>97.533</td>\n",
              "      <td>111.58</td>\n",
              "    </tr>\n",
              "  </tbody>\n",
              "</table>\n",
              "<p>15039 rows × 4 columns</p>\n",
              "</div>\n",
              "    <div class=\"colab-df-buttons\">\n",
              "\n",
              "  <div class=\"colab-df-container\">\n",
              "    <button class=\"colab-df-convert\" onclick=\"convertToInteractive('df-46c8beb8-5dd9-4f65-85e3-d84a0351f0c7')\"\n",
              "            title=\"Convert this dataframe to an interactive table.\"\n",
              "            style=\"display:none;\">\n",
              "\n",
              "  <svg xmlns=\"http://www.w3.org/2000/svg\" height=\"24px\" viewBox=\"0 -960 960 960\">\n",
              "    <path d=\"M120-120v-720h720v720H120Zm60-500h600v-160H180v160Zm220 220h160v-160H400v160Zm0 220h160v-160H400v160ZM180-400h160v-160H180v160Zm440 0h160v-160H620v160ZM180-180h160v-160H180v160Zm440 0h160v-160H620v160Z\"/>\n",
              "  </svg>\n",
              "    </button>\n",
              "\n",
              "  <style>\n",
              "    .colab-df-container {\n",
              "      display:flex;\n",
              "      gap: 12px;\n",
              "    }\n",
              "\n",
              "    .colab-df-convert {\n",
              "      background-color: #E8F0FE;\n",
              "      border: none;\n",
              "      border-radius: 50%;\n",
              "      cursor: pointer;\n",
              "      display: none;\n",
              "      fill: #1967D2;\n",
              "      height: 32px;\n",
              "      padding: 0 0 0 0;\n",
              "      width: 32px;\n",
              "    }\n",
              "\n",
              "    .colab-df-convert:hover {\n",
              "      background-color: #E2EBFA;\n",
              "      box-shadow: 0px 1px 2px rgba(60, 64, 67, 0.3), 0px 1px 3px 1px rgba(60, 64, 67, 0.15);\n",
              "      fill: #174EA6;\n",
              "    }\n",
              "\n",
              "    .colab-df-buttons div {\n",
              "      margin-bottom: 4px;\n",
              "    }\n",
              "\n",
              "    [theme=dark] .colab-df-convert {\n",
              "      background-color: #3B4455;\n",
              "      fill: #D2E3FC;\n",
              "    }\n",
              "\n",
              "    [theme=dark] .colab-df-convert:hover {\n",
              "      background-color: #434B5C;\n",
              "      box-shadow: 0px 1px 3px 1px rgba(0, 0, 0, 0.15);\n",
              "      filter: drop-shadow(0px 1px 2px rgba(0, 0, 0, 0.3));\n",
              "      fill: #FFFFFF;\n",
              "    }\n",
              "  </style>\n",
              "\n",
              "    <script>\n",
              "      const buttonEl =\n",
              "        document.querySelector('#df-46c8beb8-5dd9-4f65-85e3-d84a0351f0c7 button.colab-df-convert');\n",
              "      buttonEl.style.display =\n",
              "        google.colab.kernel.accessAllowed ? 'block' : 'none';\n",
              "\n",
              "      async function convertToInteractive(key) {\n",
              "        const element = document.querySelector('#df-46c8beb8-5dd9-4f65-85e3-d84a0351f0c7');\n",
              "        const dataTable =\n",
              "          await google.colab.kernel.invokeFunction('convertToInteractive',\n",
              "                                                    [key], {});\n",
              "        if (!dataTable) return;\n",
              "\n",
              "        const docLinkHtml = 'Like what you see? Visit the ' +\n",
              "          '<a target=\"_blank\" href=https://colab.research.google.com/notebooks/data_table.ipynb>data table notebook</a>'\n",
              "          + ' to learn more about interactive tables.';\n",
              "        element.innerHTML = '';\n",
              "        dataTable['output_type'] = 'display_data';\n",
              "        await google.colab.output.renderOutput(dataTable, element);\n",
              "        const docLink = document.createElement('div');\n",
              "        docLink.innerHTML = docLinkHtml;\n",
              "        element.appendChild(docLink);\n",
              "      }\n",
              "    </script>\n",
              "  </div>\n",
              "\n",
              "\n",
              "<div id=\"df-a582ab12-cb53-4445-a907-164d0f117e98\">\n",
              "  <button class=\"colab-df-quickchart\" onclick=\"quickchart('df-a582ab12-cb53-4445-a907-164d0f117e98')\"\n",
              "            title=\"Suggest charts.\"\n",
              "            style=\"display:none;\">\n",
              "\n",
              "<svg xmlns=\"http://www.w3.org/2000/svg\" height=\"24px\"viewBox=\"0 0 24 24\"\n",
              "     width=\"24px\">\n",
              "    <g>\n",
              "        <path d=\"M19 3H5c-1.1 0-2 .9-2 2v14c0 1.1.9 2 2 2h14c1.1 0 2-.9 2-2V5c0-1.1-.9-2-2-2zM9 17H7v-7h2v7zm4 0h-2V7h2v10zm4 0h-2v-4h2v4z\"/>\n",
              "    </g>\n",
              "</svg>\n",
              "  </button>\n",
              "\n",
              "<style>\n",
              "  .colab-df-quickchart {\n",
              "      --bg-color: #E8F0FE;\n",
              "      --fill-color: #1967D2;\n",
              "      --hover-bg-color: #E2EBFA;\n",
              "      --hover-fill-color: #174EA6;\n",
              "      --disabled-fill-color: #AAA;\n",
              "      --disabled-bg-color: #DDD;\n",
              "  }\n",
              "\n",
              "  [theme=dark] .colab-df-quickchart {\n",
              "      --bg-color: #3B4455;\n",
              "      --fill-color: #D2E3FC;\n",
              "      --hover-bg-color: #434B5C;\n",
              "      --hover-fill-color: #FFFFFF;\n",
              "      --disabled-bg-color: #3B4455;\n",
              "      --disabled-fill-color: #666;\n",
              "  }\n",
              "\n",
              "  .colab-df-quickchart {\n",
              "    background-color: var(--bg-color);\n",
              "    border: none;\n",
              "    border-radius: 50%;\n",
              "    cursor: pointer;\n",
              "    display: none;\n",
              "    fill: var(--fill-color);\n",
              "    height: 32px;\n",
              "    padding: 0;\n",
              "    width: 32px;\n",
              "  }\n",
              "\n",
              "  .colab-df-quickchart:hover {\n",
              "    background-color: var(--hover-bg-color);\n",
              "    box-shadow: 0 1px 2px rgba(60, 64, 67, 0.3), 0 1px 3px 1px rgba(60, 64, 67, 0.15);\n",
              "    fill: var(--button-hover-fill-color);\n",
              "  }\n",
              "\n",
              "  .colab-df-quickchart-complete:disabled,\n",
              "  .colab-df-quickchart-complete:disabled:hover {\n",
              "    background-color: var(--disabled-bg-color);\n",
              "    fill: var(--disabled-fill-color);\n",
              "    box-shadow: none;\n",
              "  }\n",
              "\n",
              "  .colab-df-spinner {\n",
              "    border: 2px solid var(--fill-color);\n",
              "    border-color: transparent;\n",
              "    border-bottom-color: var(--fill-color);\n",
              "    animation:\n",
              "      spin 1s steps(1) infinite;\n",
              "  }\n",
              "\n",
              "  @keyframes spin {\n",
              "    0% {\n",
              "      border-color: transparent;\n",
              "      border-bottom-color: var(--fill-color);\n",
              "      border-left-color: var(--fill-color);\n",
              "    }\n",
              "    20% {\n",
              "      border-color: transparent;\n",
              "      border-left-color: var(--fill-color);\n",
              "      border-top-color: var(--fill-color);\n",
              "    }\n",
              "    30% {\n",
              "      border-color: transparent;\n",
              "      border-left-color: var(--fill-color);\n",
              "      border-top-color: var(--fill-color);\n",
              "      border-right-color: var(--fill-color);\n",
              "    }\n",
              "    40% {\n",
              "      border-color: transparent;\n",
              "      border-right-color: var(--fill-color);\n",
              "      border-top-color: var(--fill-color);\n",
              "    }\n",
              "    60% {\n",
              "      border-color: transparent;\n",
              "      border-right-color: var(--fill-color);\n",
              "    }\n",
              "    80% {\n",
              "      border-color: transparent;\n",
              "      border-right-color: var(--fill-color);\n",
              "      border-bottom-color: var(--fill-color);\n",
              "    }\n",
              "    90% {\n",
              "      border-color: transparent;\n",
              "      border-bottom-color: var(--fill-color);\n",
              "    }\n",
              "  }\n",
              "</style>\n",
              "\n",
              "  <script>\n",
              "    async function quickchart(key) {\n",
              "      const quickchartButtonEl =\n",
              "        document.querySelector('#' + key + ' button');\n",
              "      quickchartButtonEl.disabled = true;  // To prevent multiple clicks.\n",
              "      quickchartButtonEl.classList.add('colab-df-spinner');\n",
              "      try {\n",
              "        const charts = await google.colab.kernel.invokeFunction(\n",
              "            'suggestCharts', [key], {});\n",
              "      } catch (error) {\n",
              "        console.error('Error during call to suggestCharts:', error);\n",
              "      }\n",
              "      quickchartButtonEl.classList.remove('colab-df-spinner');\n",
              "      quickchartButtonEl.classList.add('colab-df-quickchart-complete');\n",
              "    }\n",
              "    (() => {\n",
              "      let quickchartButtonEl =\n",
              "        document.querySelector('#df-a582ab12-cb53-4445-a907-164d0f117e98 button');\n",
              "      quickchartButtonEl.style.display =\n",
              "        google.colab.kernel.accessAllowed ? 'block' : 'none';\n",
              "    })();\n",
              "  </script>\n",
              "</div>\n",
              "    </div>\n",
              "  </div>\n"
            ]
          },
          "metadata": {},
          "execution_count": 4
        }
      ],
      "source": [
        "data=pd.read_csv('gas_turbines.csv')\n",
        "data=data.iloc[:,[0,1,2,7]]\n",
        "data"
      ]
    },
    {
      "cell_type": "code",
      "execution_count": 5,
      "metadata": {
        "colab": {
          "base_uri": "https://localhost:8080/"
        },
        "id": "KzvpDcR3D4XJ",
        "outputId": "18a36c82-0a8f-4e71-8467-87c097e3e274"
      },
      "outputs": [
        {
          "output_type": "execute_result",
          "data": {
            "text/plain": [
              "AT     0\n",
              "AP     0\n",
              "AH     0\n",
              "TEY    0\n",
              "dtype: int64"
            ]
          },
          "metadata": {},
          "execution_count": 5
        }
      ],
      "source": [
        "data.isnull().sum()"
      ]
    },
    {
      "cell_type": "code",
      "execution_count": 6,
      "metadata": {
        "colab": {
          "base_uri": "https://localhost:8080/",
          "height": 300
        },
        "id": "VFKqzdHIEBuG",
        "outputId": "f61269d3-a462-4ee7-ab5d-4362af7afa02"
      },
      "outputs": [
        {
          "output_type": "execute_result",
          "data": {
            "text/plain": [
              "<pandas.io.formats.style.Styler at 0x7e9268d32e60>"
            ],
            "text/html": [
              "<style type=\"text/css\">\n",
              "#T_9723c_row0_col0, #T_9723c_row0_col1, #T_9723c_row0_col2, #T_9723c_row0_col3 {\n",
              "  background-color: #000000;\n",
              "  color: #f1f1f1;\n",
              "}\n",
              "#T_9723c_row1_col0, #T_9723c_row2_col0, #T_9723c_row2_col1, #T_9723c_row2_col2, #T_9723c_row2_col3, #T_9723c_row3_col0, #T_9723c_row3_col2, #T_9723c_row4_col0, #T_9723c_row4_col2, #T_9723c_row5_col0, #T_9723c_row6_col0, #T_9723c_row7_col0 {\n",
              "  background-color: #ffffff;\n",
              "  color: #000000;\n",
              "}\n",
              "#T_9723c_row1_col1, #T_9723c_row4_col1, #T_9723c_row5_col1, #T_9723c_row6_col1, #T_9723c_row7_col1 {\n",
              "  background-color: #ffff2a;\n",
              "  color: #000000;\n",
              "}\n",
              "#T_9723c_row1_col2, #T_9723c_row3_col3, #T_9723c_row4_col3, #T_9723c_row5_col2, #T_9723c_row6_col2, #T_9723c_row7_col2 {\n",
              "  background-color: #fffff3;\n",
              "  color: #000000;\n",
              "}\n",
              "#T_9723c_row1_col3, #T_9723c_row5_col3, #T_9723c_row6_col3, #T_9723c_row7_col3 {\n",
              "  background-color: #ffffe6;\n",
              "  color: #000000;\n",
              "}\n",
              "#T_9723c_row3_col1 {\n",
              "  background-color: #ffff37;\n",
              "  color: #000000;\n",
              "}\n",
              "</style>\n",
              "<table id=\"T_9723c\" class=\"dataframe\">\n",
              "  <thead>\n",
              "    <tr>\n",
              "      <th class=\"blank level0\" >&nbsp;</th>\n",
              "      <th id=\"T_9723c_level0_col0\" class=\"col_heading level0 col0\" >AT</th>\n",
              "      <th id=\"T_9723c_level0_col1\" class=\"col_heading level0 col1\" >AP</th>\n",
              "      <th id=\"T_9723c_level0_col2\" class=\"col_heading level0 col2\" >AH</th>\n",
              "      <th id=\"T_9723c_level0_col3\" class=\"col_heading level0 col3\" >TEY</th>\n",
              "    </tr>\n",
              "  </thead>\n",
              "  <tbody>\n",
              "    <tr>\n",
              "      <th id=\"T_9723c_level0_row0\" class=\"row_heading level0 row0\" >count</th>\n",
              "      <td id=\"T_9723c_row0_col0\" class=\"data row0 col0\" >15039.000000</td>\n",
              "      <td id=\"T_9723c_row0_col1\" class=\"data row0 col1\" >15039.000000</td>\n",
              "      <td id=\"T_9723c_row0_col2\" class=\"data row0 col2\" >15039.000000</td>\n",
              "      <td id=\"T_9723c_row0_col3\" class=\"data row0 col3\" >15039.000000</td>\n",
              "    </tr>\n",
              "    <tr>\n",
              "      <th id=\"T_9723c_level0_row1\" class=\"row_heading level0 row1\" >mean</th>\n",
              "      <td id=\"T_9723c_row1_col0\" class=\"data row1 col0\" >17.764381</td>\n",
              "      <td id=\"T_9723c_row1_col1\" class=\"data row1 col1\" >1013.199240</td>\n",
              "      <td id=\"T_9723c_row1_col2\" class=\"data row1 col2\" >79.124174</td>\n",
              "      <td id=\"T_9723c_row1_col3\" class=\"data row1 col3\" >134.188464</td>\n",
              "    </tr>\n",
              "    <tr>\n",
              "      <th id=\"T_9723c_level0_row2\" class=\"row_heading level0 row2\" >std</th>\n",
              "      <td id=\"T_9723c_row2_col0\" class=\"data row2 col0\" >7.574323</td>\n",
              "      <td id=\"T_9723c_row2_col1\" class=\"data row2 col1\" >6.410760</td>\n",
              "      <td id=\"T_9723c_row2_col2\" class=\"data row2 col2\" >13.793439</td>\n",
              "      <td id=\"T_9723c_row2_col3\" class=\"data row2 col3\" >15.829717</td>\n",
              "    </tr>\n",
              "    <tr>\n",
              "      <th id=\"T_9723c_level0_row3\" class=\"row_heading level0 row3\" >min</th>\n",
              "      <td id=\"T_9723c_row3_col0\" class=\"data row3 col0\" >0.522300</td>\n",
              "      <td id=\"T_9723c_row3_col1\" class=\"data row3 col1\" >985.850000</td>\n",
              "      <td id=\"T_9723c_row3_col2\" class=\"data row3 col2\" >30.344000</td>\n",
              "      <td id=\"T_9723c_row3_col3\" class=\"data row3 col3\" >100.170000</td>\n",
              "    </tr>\n",
              "    <tr>\n",
              "      <th id=\"T_9723c_level0_row4\" class=\"row_heading level0 row4\" >25%</th>\n",
              "      <td id=\"T_9723c_row4_col0\" class=\"data row4 col0\" >11.408000</td>\n",
              "      <td id=\"T_9723c_row4_col1\" class=\"data row4 col1\" >1008.900000</td>\n",
              "      <td id=\"T_9723c_row4_col2\" class=\"data row4 col2\" >69.750000</td>\n",
              "      <td id=\"T_9723c_row4_col3\" class=\"data row4 col3\" >127.985000</td>\n",
              "    </tr>\n",
              "    <tr>\n",
              "      <th id=\"T_9723c_level0_row5\" class=\"row_heading level0 row5\" >50%</th>\n",
              "      <td id=\"T_9723c_row5_col0\" class=\"data row5 col0\" >18.186000</td>\n",
              "      <td id=\"T_9723c_row5_col1\" class=\"data row5 col1\" >1012.800000</td>\n",
              "      <td id=\"T_9723c_row5_col2\" class=\"data row5 col2\" >82.266000</td>\n",
              "      <td id=\"T_9723c_row5_col3\" class=\"data row5 col3\" >133.780000</td>\n",
              "    </tr>\n",
              "    <tr>\n",
              "      <th id=\"T_9723c_level0_row6\" class=\"row_heading level0 row6\" >75%</th>\n",
              "      <td id=\"T_9723c_row6_col0\" class=\"data row6 col0\" >23.862500</td>\n",
              "      <td id=\"T_9723c_row6_col1\" class=\"data row6 col1\" >1016.900000</td>\n",
              "      <td id=\"T_9723c_row6_col2\" class=\"data row6 col2\" >90.043500</td>\n",
              "      <td id=\"T_9723c_row6_col3\" class=\"data row6 col3\" >140.895000</td>\n",
              "    </tr>\n",
              "    <tr>\n",
              "      <th id=\"T_9723c_level0_row7\" class=\"row_heading level0 row7\" >max</th>\n",
              "      <td id=\"T_9723c_row7_col0\" class=\"data row7 col0\" >34.929000</td>\n",
              "      <td id=\"T_9723c_row7_col1\" class=\"data row7 col1\" >1034.200000</td>\n",
              "      <td id=\"T_9723c_row7_col2\" class=\"data row7 col2\" >100.200000</td>\n",
              "      <td id=\"T_9723c_row7_col3\" class=\"data row7 col3\" >174.610000</td>\n",
              "    </tr>\n",
              "  </tbody>\n",
              "</table>\n"
            ]
          },
          "metadata": {},
          "execution_count": 6
        }
      ],
      "source": [
        "data.describe().style.background_gradient(cmap='gnuplot2_r')"
      ]
    },
    {
      "cell_type": "code",
      "execution_count": 7,
      "metadata": {
        "colab": {
          "base_uri": "https://localhost:8080/",
          "height": 175
        },
        "id": "NK7dgVMQEEt_",
        "outputId": "9e100792-99b4-42df-9ce5-118f40f9b2d6"
      },
      "outputs": [
        {
          "output_type": "execute_result",
          "data": {
            "text/plain": [
              "           AT        AP        AH       TEY\n",
              "AT   1.000000 -0.412953 -0.549432 -0.207495\n",
              "AP  -0.412953  1.000000  0.042573  0.146939\n",
              "AH  -0.549432  0.042573  1.000000 -0.110272\n",
              "TEY -0.207495  0.146939 -0.110272  1.000000"
            ],
            "text/html": [
              "\n",
              "  <div id=\"df-d45a2ca7-a1af-4965-8b26-175d191bbeb2\" class=\"colab-df-container\">\n",
              "    <div>\n",
              "<style scoped>\n",
              "    .dataframe tbody tr th:only-of-type {\n",
              "        vertical-align: middle;\n",
              "    }\n",
              "\n",
              "    .dataframe tbody tr th {\n",
              "        vertical-align: top;\n",
              "    }\n",
              "\n",
              "    .dataframe thead th {\n",
              "        text-align: right;\n",
              "    }\n",
              "</style>\n",
              "<table border=\"1\" class=\"dataframe\">\n",
              "  <thead>\n",
              "    <tr style=\"text-align: right;\">\n",
              "      <th></th>\n",
              "      <th>AT</th>\n",
              "      <th>AP</th>\n",
              "      <th>AH</th>\n",
              "      <th>TEY</th>\n",
              "    </tr>\n",
              "  </thead>\n",
              "  <tbody>\n",
              "    <tr>\n",
              "      <th>AT</th>\n",
              "      <td>1.000000</td>\n",
              "      <td>-0.412953</td>\n",
              "      <td>-0.549432</td>\n",
              "      <td>-0.207495</td>\n",
              "    </tr>\n",
              "    <tr>\n",
              "      <th>AP</th>\n",
              "      <td>-0.412953</td>\n",
              "      <td>1.000000</td>\n",
              "      <td>0.042573</td>\n",
              "      <td>0.146939</td>\n",
              "    </tr>\n",
              "    <tr>\n",
              "      <th>AH</th>\n",
              "      <td>-0.549432</td>\n",
              "      <td>0.042573</td>\n",
              "      <td>1.000000</td>\n",
              "      <td>-0.110272</td>\n",
              "    </tr>\n",
              "    <tr>\n",
              "      <th>TEY</th>\n",
              "      <td>-0.207495</td>\n",
              "      <td>0.146939</td>\n",
              "      <td>-0.110272</td>\n",
              "      <td>1.000000</td>\n",
              "    </tr>\n",
              "  </tbody>\n",
              "</table>\n",
              "</div>\n",
              "    <div class=\"colab-df-buttons\">\n",
              "\n",
              "  <div class=\"colab-df-container\">\n",
              "    <button class=\"colab-df-convert\" onclick=\"convertToInteractive('df-d45a2ca7-a1af-4965-8b26-175d191bbeb2')\"\n",
              "            title=\"Convert this dataframe to an interactive table.\"\n",
              "            style=\"display:none;\">\n",
              "\n",
              "  <svg xmlns=\"http://www.w3.org/2000/svg\" height=\"24px\" viewBox=\"0 -960 960 960\">\n",
              "    <path d=\"M120-120v-720h720v720H120Zm60-500h600v-160H180v160Zm220 220h160v-160H400v160Zm0 220h160v-160H400v160ZM180-400h160v-160H180v160Zm440 0h160v-160H620v160ZM180-180h160v-160H180v160Zm440 0h160v-160H620v160Z\"/>\n",
              "  </svg>\n",
              "    </button>\n",
              "\n",
              "  <style>\n",
              "    .colab-df-container {\n",
              "      display:flex;\n",
              "      gap: 12px;\n",
              "    }\n",
              "\n",
              "    .colab-df-convert {\n",
              "      background-color: #E8F0FE;\n",
              "      border: none;\n",
              "      border-radius: 50%;\n",
              "      cursor: pointer;\n",
              "      display: none;\n",
              "      fill: #1967D2;\n",
              "      height: 32px;\n",
              "      padding: 0 0 0 0;\n",
              "      width: 32px;\n",
              "    }\n",
              "\n",
              "    .colab-df-convert:hover {\n",
              "      background-color: #E2EBFA;\n",
              "      box-shadow: 0px 1px 2px rgba(60, 64, 67, 0.3), 0px 1px 3px 1px rgba(60, 64, 67, 0.15);\n",
              "      fill: #174EA6;\n",
              "    }\n",
              "\n",
              "    .colab-df-buttons div {\n",
              "      margin-bottom: 4px;\n",
              "    }\n",
              "\n",
              "    [theme=dark] .colab-df-convert {\n",
              "      background-color: #3B4455;\n",
              "      fill: #D2E3FC;\n",
              "    }\n",
              "\n",
              "    [theme=dark] .colab-df-convert:hover {\n",
              "      background-color: #434B5C;\n",
              "      box-shadow: 0px 1px 3px 1px rgba(0, 0, 0, 0.15);\n",
              "      filter: drop-shadow(0px 1px 2px rgba(0, 0, 0, 0.3));\n",
              "      fill: #FFFFFF;\n",
              "    }\n",
              "  </style>\n",
              "\n",
              "    <script>\n",
              "      const buttonEl =\n",
              "        document.querySelector('#df-d45a2ca7-a1af-4965-8b26-175d191bbeb2 button.colab-df-convert');\n",
              "      buttonEl.style.display =\n",
              "        google.colab.kernel.accessAllowed ? 'block' : 'none';\n",
              "\n",
              "      async function convertToInteractive(key) {\n",
              "        const element = document.querySelector('#df-d45a2ca7-a1af-4965-8b26-175d191bbeb2');\n",
              "        const dataTable =\n",
              "          await google.colab.kernel.invokeFunction('convertToInteractive',\n",
              "                                                    [key], {});\n",
              "        if (!dataTable) return;\n",
              "\n",
              "        const docLinkHtml = 'Like what you see? Visit the ' +\n",
              "          '<a target=\"_blank\" href=https://colab.research.google.com/notebooks/data_table.ipynb>data table notebook</a>'\n",
              "          + ' to learn more about interactive tables.';\n",
              "        element.innerHTML = '';\n",
              "        dataTable['output_type'] = 'display_data';\n",
              "        await google.colab.output.renderOutput(dataTable, element);\n",
              "        const docLink = document.createElement('div');\n",
              "        docLink.innerHTML = docLinkHtml;\n",
              "        element.appendChild(docLink);\n",
              "      }\n",
              "    </script>\n",
              "  </div>\n",
              "\n",
              "\n",
              "<div id=\"df-61c8ba91-11c6-4c15-84ed-9428be29e830\">\n",
              "  <button class=\"colab-df-quickchart\" onclick=\"quickchart('df-61c8ba91-11c6-4c15-84ed-9428be29e830')\"\n",
              "            title=\"Suggest charts.\"\n",
              "            style=\"display:none;\">\n",
              "\n",
              "<svg xmlns=\"http://www.w3.org/2000/svg\" height=\"24px\"viewBox=\"0 0 24 24\"\n",
              "     width=\"24px\">\n",
              "    <g>\n",
              "        <path d=\"M19 3H5c-1.1 0-2 .9-2 2v14c0 1.1.9 2 2 2h14c1.1 0 2-.9 2-2V5c0-1.1-.9-2-2-2zM9 17H7v-7h2v7zm4 0h-2V7h2v10zm4 0h-2v-4h2v4z\"/>\n",
              "    </g>\n",
              "</svg>\n",
              "  </button>\n",
              "\n",
              "<style>\n",
              "  .colab-df-quickchart {\n",
              "      --bg-color: #E8F0FE;\n",
              "      --fill-color: #1967D2;\n",
              "      --hover-bg-color: #E2EBFA;\n",
              "      --hover-fill-color: #174EA6;\n",
              "      --disabled-fill-color: #AAA;\n",
              "      --disabled-bg-color: #DDD;\n",
              "  }\n",
              "\n",
              "  [theme=dark] .colab-df-quickchart {\n",
              "      --bg-color: #3B4455;\n",
              "      --fill-color: #D2E3FC;\n",
              "      --hover-bg-color: #434B5C;\n",
              "      --hover-fill-color: #FFFFFF;\n",
              "      --disabled-bg-color: #3B4455;\n",
              "      --disabled-fill-color: #666;\n",
              "  }\n",
              "\n",
              "  .colab-df-quickchart {\n",
              "    background-color: var(--bg-color);\n",
              "    border: none;\n",
              "    border-radius: 50%;\n",
              "    cursor: pointer;\n",
              "    display: none;\n",
              "    fill: var(--fill-color);\n",
              "    height: 32px;\n",
              "    padding: 0;\n",
              "    width: 32px;\n",
              "  }\n",
              "\n",
              "  .colab-df-quickchart:hover {\n",
              "    background-color: var(--hover-bg-color);\n",
              "    box-shadow: 0 1px 2px rgba(60, 64, 67, 0.3), 0 1px 3px 1px rgba(60, 64, 67, 0.15);\n",
              "    fill: var(--button-hover-fill-color);\n",
              "  }\n",
              "\n",
              "  .colab-df-quickchart-complete:disabled,\n",
              "  .colab-df-quickchart-complete:disabled:hover {\n",
              "    background-color: var(--disabled-bg-color);\n",
              "    fill: var(--disabled-fill-color);\n",
              "    box-shadow: none;\n",
              "  }\n",
              "\n",
              "  .colab-df-spinner {\n",
              "    border: 2px solid var(--fill-color);\n",
              "    border-color: transparent;\n",
              "    border-bottom-color: var(--fill-color);\n",
              "    animation:\n",
              "      spin 1s steps(1) infinite;\n",
              "  }\n",
              "\n",
              "  @keyframes spin {\n",
              "    0% {\n",
              "      border-color: transparent;\n",
              "      border-bottom-color: var(--fill-color);\n",
              "      border-left-color: var(--fill-color);\n",
              "    }\n",
              "    20% {\n",
              "      border-color: transparent;\n",
              "      border-left-color: var(--fill-color);\n",
              "      border-top-color: var(--fill-color);\n",
              "    }\n",
              "    30% {\n",
              "      border-color: transparent;\n",
              "      border-left-color: var(--fill-color);\n",
              "      border-top-color: var(--fill-color);\n",
              "      border-right-color: var(--fill-color);\n",
              "    }\n",
              "    40% {\n",
              "      border-color: transparent;\n",
              "      border-right-color: var(--fill-color);\n",
              "      border-top-color: var(--fill-color);\n",
              "    }\n",
              "    60% {\n",
              "      border-color: transparent;\n",
              "      border-right-color: var(--fill-color);\n",
              "    }\n",
              "    80% {\n",
              "      border-color: transparent;\n",
              "      border-right-color: var(--fill-color);\n",
              "      border-bottom-color: var(--fill-color);\n",
              "    }\n",
              "    90% {\n",
              "      border-color: transparent;\n",
              "      border-bottom-color: var(--fill-color);\n",
              "    }\n",
              "  }\n",
              "</style>\n",
              "\n",
              "  <script>\n",
              "    async function quickchart(key) {\n",
              "      const quickchartButtonEl =\n",
              "        document.querySelector('#' + key + ' button');\n",
              "      quickchartButtonEl.disabled = true;  // To prevent multiple clicks.\n",
              "      quickchartButtonEl.classList.add('colab-df-spinner');\n",
              "      try {\n",
              "        const charts = await google.colab.kernel.invokeFunction(\n",
              "            'suggestCharts', [key], {});\n",
              "      } catch (error) {\n",
              "        console.error('Error during call to suggestCharts:', error);\n",
              "      }\n",
              "      quickchartButtonEl.classList.remove('colab-df-spinner');\n",
              "      quickchartButtonEl.classList.add('colab-df-quickchart-complete');\n",
              "    }\n",
              "    (() => {\n",
              "      let quickchartButtonEl =\n",
              "        document.querySelector('#df-61c8ba91-11c6-4c15-84ed-9428be29e830 button');\n",
              "      quickchartButtonEl.style.display =\n",
              "        google.colab.kernel.accessAllowed ? 'block' : 'none';\n",
              "    })();\n",
              "  </script>\n",
              "</div>\n",
              "    </div>\n",
              "  </div>\n"
            ]
          },
          "metadata": {},
          "execution_count": 7
        }
      ],
      "source": [
        "corr=data.corr()\n",
        "corr"
      ]
    },
    {
      "cell_type": "code",
      "execution_count": 8,
      "metadata": {
        "colab": {
          "base_uri": "https://localhost:8080/",
          "height": 452
        },
        "id": "75DDY9TXEJEJ",
        "outputId": "95520d32-958f-43e0-96ff-1593a09fd2b0"
      },
      "outputs": [
        {
          "output_type": "execute_result",
          "data": {
            "text/plain": [
              "<Axes: >"
            ]
          },
          "metadata": {},
          "execution_count": 8
        },
        {
          "output_type": "display_data",
          "data": {
            "text/plain": [
              "<Figure size 640x480 with 2 Axes>"
            ],
            "image/png": "[encoded data removed]"
          },
          "metadata": {}
        }
      ],
      "source": [
        "import seaborn as sns\n",
        "sns.heatmap(corr,annot=True)"
      ]
    },
    {
      "cell_type": "code",
      "execution_count": 9,
      "metadata": {
        "colab": {
          "base_uri": "https://localhost:8080/"
        },
        "id": "wOZKSrIIENgQ",
        "outputId": "26649ac6-aa8c-4eb8-99ab-99e16b36af40"
      },
      "outputs": [
        {
          "output_type": "execute_result",
          "data": {
            "text/plain": [
              "4207"
            ]
          },
          "metadata": {},
          "execution_count": 9
        }
      ],
      "source": [
        "data['TEY'].nunique()"
      ]
    },
    {
      "cell_type": "code",
      "execution_count": 10,
      "metadata": {
        "colab": {
          "base_uri": "https://localhost:8080/"
        },
        "id": "lx5jMjPrEP7x",
        "outputId": "3da8a31c-3d7c-45a3-8c60-5a21b96de525"
      },
      "outputs": [
        {
          "output_type": "execute_result",
          "data": {
            "text/plain": [
              "174.61"
            ]
          },
          "metadata": {},
          "execution_count": 10
        }
      ],
      "source": [
        "data['TEY'].max()"
      ]
    },
    {
      "cell_type": "code",
      "execution_count": 11,
      "metadata": {
        "id": "QdRJ96UZETKg"
      },
      "outputs": [],
      "source": [
        "data['TEY']=data['TEY'].apply(lambda x:1 if x>150 else 0)"
      ]
    },
    {
      "cell_type": "code",
      "execution_count": 12,
      "metadata": {
        "colab": {
          "base_uri": "https://localhost:8080/"
        },
        "id": "_-zGkZr7EVgP",
        "outputId": "77ec2bab-e1dd-4649-b747-e5e279892b96"
      },
      "outputs": [
        {
          "output_type": "execute_result",
          "data": {
            "text/plain": [
              "array([0, 1])"
            ]
          },
          "metadata": {},
          "execution_count": 12
        }
      ],
      "source": [
        "data['TEY'].unique()"
      ]
    },
    {
      "cell_type": "code",
      "execution_count": 13,
      "metadata": {
        "colab": {
          "base_uri": "https://localhost:8080/",
          "height": 466
        },
        "id": "o6cpMfswEXk-",
        "outputId": "a4492a9b-a68c-4666-d53d-5a4a7735ed74"
      },
      "outputs": [
        {
          "output_type": "execute_result",
          "data": {
            "text/plain": [
              "<Axes: xlabel='TEY', ylabel='count'>"
            ]
          },
          "metadata": {},
          "execution_count": 13
        },
        {
          "output_type": "display_data",
          "data": {
            "text/plain": [
              "<Figure size 640x480 with 1 Axes>"
            ],
            "image/png": "[encoded data removed]"
          },
          "metadata": {}
        }
      ],
      "source": [
        "sns.countplot(x=data['TEY'])"
      ]
    },
    {
      "cell_type": "code",
      "execution_count": 14,
      "metadata": {
        "colab": {
          "base_uri": "https://localhost:8080/",
          "height": 423
        },
        "id": "GkPNkotvEbet",
        "outputId": "6bb942b3-ae53-4f53-94f3-7d83fa6ba6bb"
      },
      "outputs": [
        {
          "output_type": "execute_result",
          "data": {
            "text/plain": [
              "           AT      AP      AH  TEY\n",
              "0      6.8594  1007.9  96.799    0\n",
              "1      6.7850  1008.4  97.118    0\n",
              "2      6.8977  1008.8  95.939    0\n",
              "3      7.0569  1009.2  95.249    0\n",
              "4      7.3978  1009.7  95.150    0\n",
              "...       ...     ...     ...  ...\n",
              "15034  9.0301  1005.6  98.460    0\n",
              "15035  7.8879  1005.9  99.093    0\n",
              "15036  7.2647  1006.3  99.496    0\n",
              "15037  7.0060  1006.8  99.008    0\n",
              "15038  6.9279  1007.2  97.533    0\n",
              "\n",
              "[15039 rows x 4 columns]"
            ],
            "text/html": [
              "\n",
              "  <div id=\"df-7c128f61-dfde-4945-8698-07026a854e2a\" class=\"colab-df-container\">\n",
              "    <div>\n",
              "<style scoped>\n",
              "    .dataframe tbody tr th:only-of-type {\n",
              "        vertical-align: middle;\n",
              "    }\n",
              "\n",
              "    .dataframe tbody tr th {\n",
              "        vertical-align: top;\n",
              "    }\n",
              "\n",
              "    .dataframe thead th {\n",
              "        text-align: right;\n",
              "    }\n",
              "</style>\n",
              "<table border=\"1\" class=\"dataframe\">\n",
              "  <thead>\n",
              "    <tr style=\"text-align: right;\">\n",
              "      <th></th>\n",
              "      <th>AT</th>\n",
              "      <th>AP</th>\n",
              "      <th>AH</th>\n",
              "      <th>TEY</th>\n",
              "    </tr>\n",
              "  </thead>\n",
              "  <tbody>\n",
              "    <tr>\n",
              "      <th>0</th>\n",
              "      <td>6.8594</td>\n",
              "      <td>1007.9</td>\n",
              "      <td>96.799</td>\n",
              "      <td>0</td>\n",
              "    </tr>\n",
              "    <tr>\n",
              "      <th>1</th>\n",
              "      <td>6.7850</td>\n",
              "      <td>1008.4</td>\n",
              "      <td>97.118</td>\n",
              "      <td>0</td>\n",
              "    </tr>\n",
              "    <tr>\n",
              "      <th>2</th>\n",
              "      <td>6.8977</td>\n",
              "      <td>1008.8</td>\n",
              "      <td>95.939</td>\n",
              "      <td>0</td>\n",
              "    </tr>\n",
              "    <tr>\n",
              "      <th>3</th>\n",
              "      <td>7.0569</td>\n",
              "      <td>1009.2</td>\n",
              "      <td>95.249</td>\n",
              "      <td>0</td>\n",
              "    </tr>\n",
              "    <tr>\n",
              "      <th>4</th>\n",
              "      <td>7.3978</td>\n",
              "      <td>1009.7</td>\n",
              "      <td>95.150</td>\n",
              "      <td>0</td>\n",
              "    </tr>\n",
              "    <tr>\n",
              "      <th>...</th>\n",
              "      <td>...</td>\n",
              "      <td>...</td>\n",
              "      <td>...</td>\n",
              "      <td>...</td>\n",
              "    </tr>\n",
              "    <tr>\n",
              "      <th>15034</th>\n",
              "      <td>9.0301</td>\n",
              "      <td>1005.6</td>\n",
              "      <td>98.460</td>\n",
              "      <td>0</td>\n",
              "    </tr>\n",
              "    <tr>\n",
              "      <th>15035</th>\n",
              "      <td>7.8879</td>\n",
              "      <td>1005.9</td>\n",
              "      <td>99.093</td>\n",
              "      <td>0</td>\n",
              "    </tr>\n",
              "    <tr>\n",
              "      <th>15036</th>\n",
              "      <td>7.2647</td>\n",
              "      <td>1006.3</td>\n",
              "      <td>99.496</td>\n",
              "      <td>0</td>\n",
              "    </tr>\n",
              "    <tr>\n",
              "      <th>15037</th>\n",
              "      <td>7.0060</td>\n",
              "      <td>1006.8</td>\n",
              "      <td>99.008</td>\n",
              "      <td>0</td>\n",
              "    </tr>\n",
              "    <tr>\n",
              "      <th>15038</th>\n",
              "      <td>6.9279</td>\n",
              "      <td>1007.2</td>\n",
              "      <td>97.533</td>\n",
              "      <td>0</td>\n",
              "    </tr>\n",
              "  </tbody>\n",
              "</table>\n",
              "<p>15039 rows × 4 columns</p>\n",
              "</div>\n",
              "    <div class=\"colab-df-buttons\">\n",
              "\n",
              "  <div class=\"colab-df-container\">\n",
              "    <button class=\"colab-df-convert\" onclick=\"convertToInteractive('df-7c128f61-dfde-4945-8698-07026a854e2a')\"\n",
              "            title=\"Convert this dataframe to an interactive table.\"\n",
              "            style=\"display:none;\">\n",
              "\n",
              "  <svg xmlns=\"http://www.w3.org/2000/svg\" height=\"24px\" viewBox=\"0 -960 960 960\">\n",
              "    <path d=\"M120-120v-720h720v720H120Zm60-500h600v-160H180v160Zm220 220h160v-160H400v160Zm0 220h160v-160H400v160ZM180-400h160v-160H180v160Zm440 0h160v-160H620v160ZM180-180h160v-160H180v160Zm440 0h160v-160H620v160Z\"/>\n",
              "  </svg>\n",
              "    </button>\n",
              "\n",
              "  <style>\n",
              "    .colab-df-container {\n",
              "      display:flex;\n",
              "      gap: 12px;\n",
              "    }\n",
              "\n",
              "    .colab-df-convert {\n",
              "      background-color: #E8F0FE;\n",
              "      border: none;\n",
              "      border-radius: 50%;\n",
              "      cursor: pointer;\n",
              "      display: none;\n",
              "      fill: #1967D2;\n",
              "      height: 32px;\n",
              "      padding: 0 0 0 0;\n",
              "      width: 32px;\n",
              "    }\n",
              "\n",
              "    .colab-df-convert:hover {\n",
              "      background-color: #E2EBFA;\n",
              "      box-shadow: 0px 1px 2px rgba(60, 64, 67, 0.3), 0px 1px 3px 1px rgba(60, 64, 67, 0.15);\n",
              "      fill: #174EA6;\n",
              "    }\n",
              "\n",
              "    .colab-df-buttons div {\n",
              "      margin-bottom: 4px;\n",
              "    }\n",
              "\n",
              "    [theme=dark] .colab-df-convert {\n",
              "      background-color: #3B4455;\n",
              "      fill: #D2E3FC;\n",
              "    }\n",
              "\n",
              "    [theme=dark] .colab-df-convert:hover {\n",
              "      background-color: #434B5C;\n",
              "      box-shadow: 0px 1px 3px 1px rgba(0, 0, 0, 0.15);\n",
              "      filter: drop-shadow(0px 1px 2px rgba(0, 0, 0, 0.3));\n",
              "      fill: #FFFFFF;\n",
              "    }\n",
              "  </style>\n",
              "\n",
              "    <script>\n",
              "      const buttonEl =\n",
              "        document.querySelector('#df-7c128f61-dfde-4945-8698-07026a854e2a button.colab-df-convert');\n",
              "      buttonEl.style.display =\n",
              "        google.colab.kernel.accessAllowed ? 'block' : 'none';\n",
              "\n",
              "      async function convertToInteractive(key) {\n",
              "        const element = document.querySelector('#df-7c128f61-dfde-4945-8698-07026a854e2a');\n",
              "        const dataTable =\n",
              "          await google.colab.kernel.invokeFunction('convertToInteractive',\n",
              "                                                    [key], {});\n",
              "        if (!dataTable) return;\n",
              "\n",
              "        const docLinkHtml = 'Like what you see? Visit the ' +\n",
              "          '<a target=\"_blank\" href=https://colab.research.google.com/notebooks/data_table.ipynb>data table notebook</a>'\n",
              "          + ' to learn more about interactive tables.';\n",
              "        element.innerHTML = '';\n",
              "        dataTable['output_type'] = 'display_data';\n",
              "        await google.colab.output.renderOutput(dataTable, element);\n",
              "        const docLink = document.createElement('div');\n",
              "        docLink.innerHTML = docLinkHtml;\n",
              "        element.appendChild(docLink);\n",
              "      }\n",
              "    </script>\n",
              "  </div>\n",
              "\n",
              "\n",
              "<div id=\"df-1a32f185-f5dd-4ea3-979b-d1e2e11d00ec\">\n",
              "  <button class=\"colab-df-quickchart\" onclick=\"quickchart('df-1a32f185-f5dd-4ea3-979b-d1e2e11d00ec')\"\n",
              "            title=\"Suggest charts.\"\n",
              "            style=\"display:none;\">\n",
              "\n",
              "<svg xmlns=\"http://www.w3.org/2000/svg\" height=\"24px\"viewBox=\"0 0 24 24\"\n",
              "     width=\"24px\">\n",
              "    <g>\n",
              "        <path d=\"M19 3H5c-1.1 0-2 .9-2 2v14c0 1.1.9 2 2 2h14c1.1 0 2-.9 2-2V5c0-1.1-.9-2-2-2zM9 17H7v-7h2v7zm4 0h-2V7h2v10zm4 0h-2v-4h2v4z\"/>\n",
              "    </g>\n",
              "</svg>\n",
              "  </button>\n",
              "\n",
              "<style>\n",
              "  .colab-df-quickchart {\n",
              "      --bg-color: #E8F0FE;\n",
              "      --fill-color: #1967D2;\n",
              "      --hover-bg-color: #E2EBFA;\n",
              "      --hover-fill-color: #174EA6;\n",
              "      --disabled-fill-color: #AAA;\n",
              "      --disabled-bg-color: #DDD;\n",
              "  }\n",
              "\n",
              "  [theme=dark] .colab-df-quickchart {\n",
              "      --bg-color: #3B4455;\n",
              "      --fill-color: #D2E3FC;\n",
              "      --hover-bg-color: #434B5C;\n",
              "      --hover-fill-color: #FFFFFF;\n",
              "      --disabled-bg-color: #3B4455;\n",
              "      --disabled-fill-color: #666;\n",
              "  }\n",
              "\n",
              "  .colab-df-quickchart {\n",
              "    background-color: var(--bg-color);\n",
              "    border: none;\n",
              "    border-radius: 50%;\n",
              "    cursor: pointer;\n",
              "    display: none;\n",
              "    fill: var(--fill-color);\n",
              "    height: 32px;\n",
              "    padding: 0;\n",
              "    width: 32px;\n",
              "  }\n",
              "\n",
              "  .colab-df-quickchart:hover {\n",
              "    background-color: var(--hover-bg-color);\n",
              "    box-shadow: 0 1px 2px rgba(60, 64, 67, 0.3), 0 1px 3px 1px rgba(60, 64, 67, 0.15);\n",
              "    fill: var(--button-hover-fill-color);\n",
              "  }\n",
              "\n",
              "  .colab-df-quickchart-complete:disabled,\n",
              "  .colab-df-quickchart-complete:disabled:hover {\n",
              "    background-color: var(--disabled-bg-color);\n",
              "    fill: var(--disabled-fill-color);\n",
              "    box-shadow: none;\n",
              "  }\n",
              "\n",
              "  .colab-df-spinner {\n",
              "    border: 2px solid var(--fill-color);\n",
              "    border-color: transparent;\n",
              "    border-bottom-color: var(--fill-color);\n",
              "    animation:\n",
              "      spin 1s steps(1) infinite;\n",
              "  }\n",
              "\n",
              "  @keyframes spin {\n",
              "    0% {\n",
              "      border-color: transparent;\n",
              "      border-bottom-color: var(--fill-color);\n",
              "      border-left-color: var(--fill-color);\n",
              "    }\n",
              "    20% {\n",
              "      border-color: transparent;\n",
              "      border-left-color: var(--fill-color);\n",
              "      border-top-color: var(--fill-color);\n",
              "    }\n",
              "    30% {\n",
              "      border-color: transparent;\n",
              "      border-left-color: var(--fill-color);\n",
              "      border-top-color: var(--fill-color);\n",
              "      border-right-color: var(--fill-color);\n",
              "    }\n",
              "    40% {\n",
              "      border-color: transparent;\n",
              "      border-right-color: var(--fill-color);\n",
              "      border-top-color: var(--fill-color);\n",
              "    }\n",
              "    60% {\n",
              "      border-color: transparent;\n",
              "      border-right-color: var(--fill-color);\n",
              "    }\n",
              "    80% {\n",
              "      border-color: transparent;\n",
              "      border-right-color: var(--fill-color);\n",
              "      border-bottom-color: var(--fill-color);\n",
              "    }\n",
              "    90% {\n",
              "      border-color: transparent;\n",
              "      border-bottom-color: var(--fill-color);\n",
              "    }\n",
              "  }\n",
              "</style>\n",
              "\n",
              "  <script>\n",
              "    async function quickchart(key) {\n",
              "      const quickchartButtonEl =\n",
              "        document.querySelector('#' + key + ' button');\n",
              "      quickchartButtonEl.disabled = true;  // To prevent multiple clicks.\n",
              "      quickchartButtonEl.classList.add('colab-df-spinner');\n",
              "      try {\n",
              "        const charts = await google.colab.kernel.invokeFunction(\n",
              "            'suggestCharts', [key], {});\n",
              "      } catch (error) {\n",
              "        console.error('Error during call to suggestCharts:', error);\n",
              "      }\n",
              "      quickchartButtonEl.classList.remove('colab-df-spinner');\n",
              "      quickchartButtonEl.classList.add('colab-df-quickchart-complete');\n",
              "    }\n",
              "    (() => {\n",
              "      let quickchartButtonEl =\n",
              "        document.querySelector('#df-1a32f185-f5dd-4ea3-979b-d1e2e11d00ec button');\n",
              "      quickchartButtonEl.style.display =\n",
              "        google.colab.kernel.accessAllowed ? 'block' : 'none';\n",
              "    })();\n",
              "  </script>\n",
              "</div>\n",
              "    </div>\n",
              "  </div>\n"
            ]
          },
          "metadata": {},
          "execution_count": 14
        }
      ],
      "source": [
        "data"
      ]
    },
    {
      "cell_type": "code",
      "execution_count": 15,
      "metadata": {
        "colab": {
          "base_uri": "https://localhost:8080/",
          "height": 562
        },
        "id": "0Yveb7JUEepX",
        "outputId": "d3fc15ac-7b3c-4d84-f46b-38dba76694e5"
      },
      "outputs": [
        {
          "output_type": "display_data",
          "data": {
            "text/html": [
              "<html>\n",
              "<head><meta charset=\"utf-8\" /></head>\n",
              "<body>\n",
              "    <div>            <script src=\"https://cdnjs.cloudflare.com/ajax/libs/mathjax/2.7.5/MathJax.js?config=TeX-AMS-MML_SVG\"></script><script type=\"text/javascript\">if (window.MathJax && window.MathJax.Hub && window.MathJax.Hub.Config) {window.MathJax.Hub.Config({SVG: {font: \"STIX-Web\"}});}</script>                <script type=\"text/javascript\">window.PlotlyConfig = {MathJaxConfig: 'local'};</script>\n",
              "        <script charset=\"utf-8\" src=\"https://cdn.plot.ly/plotly-2.24.1.min.js\"></script>                <div id=\"d35a0e54-c9e3-4323-9b77-61da2bb6462c\" class=\"plotly-graph-div\" style=\"height:525px; width:100%;\"></div>            <script type=\"text/javascript\">                                    window.PLOTLYENV=window.PLOTLYENV || {};                                    if (document.getElementById(\"d35a0e54-c9e3-4323-9b77-61da2bb6462c\")) {                    Plotly.newPlot(                        \"d35a0e54-c9e3-4323-9b77-61da2bb6462c\",                        [{\"alignmentgroup\":\"True\",\"bingroup\":\"x\",\"histfunc\":\"sum\",\"hovertemplate\":\"TEY=%{x}\\u003cbr\\u003esum of AT=%{y}\\u003cextra\\u003e\\u003c\\u002fextra\\u003e\",\"legendgroup\":\"\",\"marker\":{\"color\":\"#636efa\",\"pattern\":{\"shape\":\"\"}},\"name\":\"\",\"offsetgroup\":\"\",\"orientation\":\"v\",\"showlegend\":false,\"texttemplate\":\"%{value}\",\"x\":[0,0,0,0,0,0,0,0,0,0,0,0,0,0,0,0,0,0,0,0,0,0,0,0,0,0,1,0,1,1,0,1,0,0,0,0,0,0,0,0,0,0,0,0,0,0,0,1,1,1,0,0,1,0,0,0,0,0,0,0,0,0,0,0,0,0,0,0,0,0,0,0,0,0,0,0,0,0,0,0,0,0,0,0,0,0,0,0,0,0,0,0,0,0,0,0,0,0,0,0,0,0,0,0,0,0,0,0,0,0,0,0,0,0,0,0,0,0,0,0,0,0,0,0,0,0,0,0,0,0,0,0,0,0,0,0,0,0,0,0,0,0,0,0,0,0,0,0,0,0,0,0,0,0,0,0,0,0,0,0,0,0,0,0,0,0,0,0,0,0,0,0,0,0,0,0,0,0,0,0,0,0,0,0,0,0,0,1,1,0,0,0,0,0,0,0,0,0,0,0,0,0,0,0,0,0,0,0,0,0,1,1,0,0,0,0,0,0,0,0,0,0,0,0,0,0,0,1,1,1,1,1,1,1,1,1,0,0,0,0,0,0,1,1,1,1,1,1,1,1,1,1,1,1,1,0,0,0,0,0,0,0,0,0,0,0,0,0,1,1,1,0,0,1,1,1,1,1,0,0,0,0,0,0,0,0,0,0,0,0,0,0,0,1,1,1,1,1,0,0,0,0,0,0,0,0,0,0,0,0,0,0,0,0,0,0,0,0,1,0,0,0,0,0,0,0,0,1,1,1,1,1,1,1,1,1,1,1,1,1,1,1,0,0,0,0,0,0,1,1,1,1,1,1,1,1,1,1,1,1,1,1,1,1,1,1,1,1,1,1,1,1,0,1,1,1,0,0,0,0,0,0,0,0,0,0,0,0,0,0,0,0,0,0,0,0,0,0,0,0,0,0,0,0,0,0,0,0,0,0,0,0,0,0,0,0,0,0,0,0,0,0,0,0,0,0,0,0,0,0,0,0,0,0,0,0,0,0,0,0,0,0,0,0,0,0,0,0,1,1,0,0,0,0,0,0,0,0,0,1,1,1,1,1,1,1,1,0,0,0,1,1,1,1,1,1,0,0,0,0,0,0,0,0,0,0,0,0,0,0,1,1,1,1,1,0,0,0,0,1,1,1,1,1,1,1,1,1,1,1,1,1,1,1,1,0,0,0,0,0,1,1,1,1,1,1,1,1,1,1,1,1,1,1,1,1,0,0,0,0,0,1,1,1,1,1,1,1,1,1,0,0,1,0,1,1,1,1,1,1,1,1,1,1,1,1,1,1,1,1,1,1,1,1,1,1,1,1,1,1,1,1,1,1,1,1,1,1,1,1,1,1,1,1,1,1,0,0,0,0,0,1,1,1,1,1,1,1,1,1,1,1,1,1,1,1,1,1,1,1,0,0,0,0,0,1,1,1,1,1,1,1,1,1,1,1,1,1,1,1,1,1,0,0,0,0,0,1,1,1,1,1,1,1,1,1,1,1,1,1,1,1,1,1,1,1,1,1,1,1,1,1,0,1,1,1,1,1,1,1,0,1,1,1,1,1,1,1,1,0,0,0,0,0,0,0,0,1,1,1,0,0,0,0,0,1,1,1,1,1,1,1,1,1,0,0,0,0,1,1,1,1,1,1,1,1,1,1,1,1,1,1,1,1,1,1,1,0,0,0,0,0,1,1,1,1,1,1,1,1,1,1,1,1,1,1,1,1,1,0,0,0,0,0,0,0,0,0,1,1,1,1,1,1,1,1,1,1,1,1,1,1,1,1,1,1,1,0,0,0,1,1,1,1,1,1,1,1,1,1,1,1,1,1,1,1,1,1,1,1,1,1,1,0,0,1,1,1,1,1,1,1,1,1,1,1,1,1,1,1,1,1,0,0,0,0,0,0,0,0,1,1,1,1,0,0,0,0,0,0,0,0,0,0,0,1,0,0,0,0,0,0,0,1,1,1,1,0,0,0,0,0,0,0,0,0,0,0,0,0,0,0,0,0,0,1,0,1,1,1,1,1,1,0,1,0,0,0,0,0,0,0,1,0,0,0,1,0,0,1,1,1,1,1,1,1,1,1,1,1,1,1,1,1,1,1,1,0,0,0,0,0,0,1,1,1,1,1,1,0,1,1,1,1,1,1,1,1,0,0,1,0,0,0,0,0,0,0,1,1,1,1,1,1,1,1,1,1,1,1,0,0,0,1,1,1,1,1,1,1,0,0,0,0,0,0,1,1,0,0,0,0,0,0,0,0,0,0,0,0,0,0,0,0,0,0,0,0,0,0,0,0,1,0,0,0,0,0,0,1,1,1,1,1,1,1,1,1,1,1,1,1,1,1,1,1,1,0,0,0,0,0,0,0,1,1,1,1,1,1,1,1,1,1,1,1,1,1,1,1,0,0,0,0,0,1,0,1,1,1,1,1,1,1,1,1,1,1,1,1,1,1,0,0,1,1,0,1,1,1,1,1,1,1,1,1,1,1,1,1,1,1,1,1,0,0,0,0,0,0,0,0,0,1,1,1,1,1,1,1,1,0,0,0,0,0,0,0,0,0,0,0,1,1,1,1,1,0,0,0,0,1,1,1,0,1,1,0,0,0,0,0,0,0,0,0,0,0,0,0,0,0,0,0,0,0,0,0,0,0,0,0,0,0,0,0,0,0,0,0,0,0,0,0,0,0,0,0,0,0,0,0,0,0,0,0,0,0,0,0,0,0,0,0,0,0,0,0,0,0,0,0,0,0,0,0,0,0,0,0,0,0,0,0,0,0,0,0,0,0,0,0,0,0,0,0,0,0,0,0,0,0,0,0,0,0,0,0,0,0,0,0,0,0,0,0,0,0,0,0,0,0,0,0,0,0,0,0,0,0,0,0,0,0,0,0,0,0,0,0,0,0,0,0,0,0,0,0,0,0,0,0,0,0,0,0,0,0,0,0,0,0,0,0,0,0,0,0,0,0,0,0,0,0,0,0,0,0,0,0,0,0,0,0,0,0,0,0,0,0,0,0,0,0,0,0,0,0,0,0,0,0,0,0,0,0,0,0,0,0,0,0,0,0,0,0,0,0,0,0,0,0,0,0,0,0,0,0,0,0,0,0,0,0,0,0,0,0,0,0,0,0,0,0,0,0,0,0,0,0,0,0,0,0,0,0,0,0,0,0,0,0,0,0,0,0,0,0,0,0,0,0,0,0,0,0,0,0,0,0,0,0,0,0,0,0,0,0,0,0,0,0,0,0,0,0,0,1,0,1,1,1,1,0,0,1,0,0,0,0,0,0,0,0,0,0,0,0,0,1,1,0,0,1,0,0,0,0,0,1,1,0,0,0,0,0,0,0,0,0,0,0,0,0,0,0,0,0,0,0,0,0,0,0,0,0,0,0,0,0,0,0,0,0,0,0,0,0,0,0,0,0,0,0,0,0,0,0,0,0,0,0,0,0,0,0,0,0,0,0,0,0,0,0,0,0,0,0,0,0,0,0,0,0,0,0,0,0,0,0,0,0,0,1,1,1,1,1,0,1,1,1,0,0,0,0,0,0,0,0,0,0,0,0,0,0,0,0,1,1,1,0,0,0,0,0,0,0,0,0,0,0,0,0,0,0,0,0,0,0,0,0,1,1,1,1,1,0,0,0,0,0,0,0,0,0,0,0,0,0,0,0,0,0,1,1,1,0,0,1,0,0,0,0,1,1,1,1,0,0,0,0,0,0,0,0,0,0,0,0,0,0,0,0,0,0,0,0,0,0,0,0,0,0,0,0,0,0,0,0,0,0,0,1,1,1,1,1,1,1,1,1,1,1,1,1,1,1,0,0,0,0,0,0,0,0,1,1,1,1,1,1,1,1,1,1,1,1,1,1,1,0,0,0,0,0,0,0,0,0,1,1,1,1,1,1,1,1,1,1,1,1,1,1,1,0,0,0,0,0,0,0,0,0,1,1,1,1,1,1,1,1,1,1,1,1,1,1,1,0,0,0,0,0,0,0,0,0,1,1,1,1,1,1,1,1,1,1,1,1,1,1,1,0,0,0,0,0,0,0,0,0,0,0,0,0,1,1,1,1,1,1,1,1,1,1,1,0,0,0,0,0,0,0,0,0,0,0,0,0,0,0,0,0,0,0,0,0,0,0,1,1,1,1,1,1,1,1,0,0,0,0,0,0,0,0,0,0,0,0,0,0,0,0,1,1,1,1,0,0,0,1,0,0,0,0,0,0,0,0,0,0,0,0,0,0,0,0,1,0,0,1,1,1,1,1,1,1,1,1,1,1,0,0,0,0,0,0,0,0,0,0,1,1,1,1,1,1,1,0,1,1,0,0,0,0,0,1,1,1,1,1,1,1,1,1,1,1,1,0,0,0,0,0,0,0,0,0,0,0,0,1,1,1,1,1,1,0,0,0,0,1,0,0,0,0,0,0,0,0,0,0,0,0,0,0,0,0,0,0,0,0,0,0,0,0,0,0,0,0,0,0,0,0,0,0,0,1,1,1,1,1,1,1,1,1,1,1,1,1,0,0,0,0,0,0,0,0,0,0,1,1,1,1,1,1,1,1,1,1,0,0,0,0,0,0,0,0,0,0,0,0,0,0,0,1,1,1,1,1,1,1,1,1,0,0,1,0,0,0,0,0,0,0,0,0,0,0,1,1,1,1,1,1,1,1,1,1,1,1,1,0,0,0,0,0,0,0,0,1,0,0,0,0,0,0,0,0,0,0,0,0,0,0,0,0,0,0,0,0,0,0,0,0,0,0,0,1,1,1,1,1,1,1,1,1,0,0,0,0,0,0,0,0,0,0,0,0,0,0,0,0,0,0,0,0,0,0,0,0,0,0,0,0,0,0,0,0,1,1,1,1,1,1,1,0,0,0,0,0,0,0,0,0,0,1,1,1,1,1,1,1,1,1,0,0,0,0,0,0,0,0,0,0,0,0,0,1,1,1,1,1,1,0,0,0,0,0,0,0,0,0,0,0,0,0,0,0,0,0,0,0,0,0,0,0,0,0,0,0,0,0,0,0,0,0,0,0,0,0,0,0,0,0,0,0,0,0,0,0,0,0,0,0,0,0,0,0,0,0,0,0,0,0,0,0,0,0,0,0,0,0,0,0,0,0,0,0,0,0,0,0,0,0,0,0,0,0,0,0,0,0,0,0,0,0,0,0,0,0,0,0,0,0,0,0,0,0,0,0,0,0,0,0,0,0,0,0,0,0,0,0,0,0,0,0,0,0,0,0,0,0,0,0,0,0,0,0,0,0,0,0,0,0,0,0,0,0,0,0,0,0,0,0,0,0,0,0,0,0,0,0,0,0,0,0,0,0,0,0,0,0,1,1,0,0,0,0,0,1,1,1,1,0,0,0,0,0,0,0,0,0,0,0,0,0,0,0,0,0,0,0,0,0,0,0,0,0,0,0,0,0,0,0,0,0,0,0,1,0,0,0,0,0,0,0,0,0,0,0,0,0,0,0,0,0,0,0,0,0,0,0,0,0,0,0,0,0,0,0,0,0,0,0,0,0,0,0,0,0,0,0,0,0,0,0,0,0,0,0,0,0,0,0,0,0,0,0,0,0,0,0,0,0,0,0,0,0,0,0,0,0,0,0,0,0,0,0,0,0,0,0,0,0,0,0,0,0,0,0,0,0,0,0,0,0,0,0,0,0,0,0,0,0,0,0,0,0,0,0,0,0,0,0,0,0,0,0,0,0,0,0,0,0,0,0,0,0,0,0,0,0,0,0,0,0,0,0,0,0,0,0,0,0,0,0,0,0,0,0,0,0,0,0,0,0,0,0,0,0,0,0,0,0,0,0,0,0,0,0,0,0,0,0,0,0,0,0,0,0,0,0,0,0,0,0,0,0,0,0,0,0,0,0,0,0,0,0,0,0,0,0,0,0,0,0,0,0,0,0,0,0,0,0,0,0,0,0,0,0,0,0,0,0,0,0,0,0,0,0,0,0,0,0,0,0,0,0,0,0,0,0,0,0,0,0,1,1,1,0,1,0,0,0,0,0,0,0,0,0,0,0,0,0,0,0,0,0,0,0,0,0,0,1,1,1,1,1,1,1,1,1,1,1,1,0,0,1,1,1,1,1,1,1,1,1,1,1,1,1,1,1,1,1,1,1,1,0,0,1,0,0,0,1,1,1,1,1,0,0,0,0,0,0,0,0,0,0,0,0,0,0,0,0,0,0,0,0,0,0,0,0,0,0,0,0,0,0,0,0,0,0,0,0,0,0,0,0,0,0,0,0,0,0,0,0,0,0,0,0,0,0,0,0,0,0,0,0,0,0,0,0,0,0,0,0,0,0,0,0,0,0,0,0,0,0,0,0,0,0,0,0,0,0,0,0,0,0,0,0,0,0,0,0,0,0,0,0,0,0,0,0,0,1,1,0,0,0,0,0,0,0,0,0,0,0,0,0,0,0,0,0,0,0,0,0,0,0,0,0,0,0,0,0,0,0,0,0,0,0,0,0,0,0,0,0,0,0,0,0,0,0,0,0,0,0,0,0,0,0,0,0,0,0,0,0,0,0,0,0,0,0,0,0,0,0,0,0,0,0,0,0,0,0,0,0,0,0,0,0,0,0,0,0,0,0,0,0,0,0,0,0,0,0,0,0,0,0,0,0,0,0,0,0,0,0,0,0,0,0,0,1,1,1,0,0,0,0,0,0,0,1,0,0,0,1,0,0,0,0,0,0,0,0,0,0,0,0,0,0,0,0,0,0,0,0,0,0,0,0,0,0,0,0,0,0,0,0,0,0,0,0,0,0,0,0,0,0,0,0,0,0,0,0,0,0,0,0,0,0,0,0,0,0,0,0,0,0,0,0,0,0,0,0,0,0,0,0,0,0,0,0,0,0,0,0,0,0,0,0,0,1,0,0,0,0,0,0,0,0,0,0,0,0,0,0,0,0,0,0,0,0,0,0,0,0,0,0,0,0,0,0,0,0,0,0,0,0,0,0,0,0,0,0,0,0,0,0,0,0,0,0,0,0,0,0,0,0,0,0,0,0,0,0,0,0,0,0,0,0,0,0,0,0,0,0,0,0,0,0,0,0,0,0,0,0,0,0,0,0,0,0,0,0,1,0,0,0,1,0,0,0,0,0,0,0,0,0,0,0,0,0,0,0,0,0,0,0,0,0,0,1,1,0,1,0,1,0,0,0,0,0,0,0,0,0,0,0,0,0,0,0,0,0,0,0,0,0,0,0,0,0,0,0,0,0,0,0,0,0,0,0,0,0,0,0,0,0,0,0,0,0,0,0,0,0,0,0,0,0,0,0,0,0,0,0,0,0,0,0,0,0,0,0,0,0,0,0,0,0,0,0,0,0,0,0,0,0,0,0,0,0,0,0,0,0,0,0,0,0,0,0,0,0,0,0,0,0,0,0,0,0,0,0,0,0,0,0,0,0,0,0,0,0,0,0,0,0,0,0,0,0,0,0,0,0,0,0,0,0,0,0,0,0,0,0,0,0,0,0,0,0,0,0,0,0,0,0,0,0,0,0,0,0,0,0,0,0,0,0,0,0,0,0,0,0,0,0,0,0,0,0,0,0,0,0,0,0,0,0,0,0,0,0,0,0,0,0,0,0,0,0,0,0,0,0,0,0,0,0,0,0,0,0,0,0,0,0,0,0,0,0,0,0,0,0,0,0,0,0,0,0,0,0,0,0,0,0,0,0,0,0,0,0,0,0,0,0,0,0,0,0,0,0,0,0,0,0,0,0,0,0,0,0,0,0,0,0,0,0,0,0,0,0,0,0,0,0,0,0,0,0,0,0,0,0,0,0,0,0,0,0,0,0,0,0,0,0,0,0,0,0,0,0,0,0,0,0,0,0,0,0,0,0,0,0,0,0,0,0,0,0,0,0,0,0,0,0,0,0,0,0,0,0,0,0,0,0,0,0,0,0,0,0,0,0,0,0,0,0,0,0,0,0,0,0,0,0,0,0,0,0,0,0,0,0,0,0,0,0,0,0,0,0,0,0,0,0,0,0,0,0,0,0,0,0,0,0,0,0,0,0,0,0,0,0,0,0,0,0,0,0,0,0,0,0,0,0,0,0,0,0,0,0,0,0,0,0,0,0,0,0,0,0,0,0,0,0,0,0,0,0,0,0,0,0,0,0,0,0,0,0,0,0,0,0,0,0,0,0,0,0,0,0,0,0,0,0,0,0,0,0,0,0,0,0,0,0,0,0,0,0,0,0,0,0,0,0,0,0,0,0,0,0,0,0,0,0,0,0,0,0,0,0,0,0,0,0,0,0,0,0,0,0,0,0,0,0,0,0,0,0,0,0,0,0,0,0,0,0,0,0,0,0,0,0,0,0,0,0,0,0,0,0,0,0,0,0,0,0,0,0,0,0,0,0,0,0,0,0,0,0,0,0,0,0,0,0,0,0,0,0,0,0,0,0,0,0,0,0,0,0,0,0,0,0,0,0,0,0,0,0,0,0,0,0,0,0,0,0,0,0,0,0,0,0,0,0,0,0,0,0,0,0,0,0,0,0,0,0,0,0,0,0,0,0,0,0,0,0,0,0,0,0,0,0,0,0,0,0,0,0,0,0,0,0,0,0,0,0,0,0,0,0,0,0,0,0,0,0,0,0,0,0,0,0,0,0,0,0,0,0,0,0,0,0,0,0,0,0,0,0,0,0,0,0,0,0,0,0,0,0,0,0,0,0,0,0,0,0,0,0,0,0,0,0,0,0,0,0,0,0,0,0,0,0,0,0,0,0,0,0,0,0,0,0,0,0,0,0,0,0,0,0,0,0,0,0,0,0,0,0,0,0,0,0,0,0,0,0,0,0,0,0,0,0,0,0,0,0,0,0,0,0,0,0,0,0,0,0,0,0,0,0,0,0,0,0,0,0,0,0,0,0,0,0,0,0,0,0,0,0,0,0,0,0,0,0,0,0,0,0,0,0,0,0,0,0,0,0,0,0,0,0,0,0,0,0,0,0,0,0,0,0,0,0,0,0,0,0,0,0,0,0,0,0,0,0,0,0,0,0,0,0,0,0,0,0,0,0,0,0,0,0,0,0,0,0,0,0,0,0,0,0,0,0,0,0,0,0,0,0,0,0,0,0,0,0,0,0,0,0,0,0,0,0,0,0,0,0,0,0,0,0,0,0,0,0,0,0,0,0,0,0,0,0,0,0,0,0,0,0,0,0,0,0,0,0,0,0,0,0,0,0,0,0,0,0,0,0,0,0,0,0,0,0,0,0,0,0,0,0,0,0,0,0,0,0,0,0,0,0,0,0,0,0,0,0,0,0,0,0,0,0,0,0,0,0,0,0,0,0,0,0,0,0,0,0,0,0,0,0,0,0,0,0,0,0,0,0,0,0,0,0,0,0,0,0,0,0,0,0,0,0,0,0,0,0,0,0,0,0,0,0,0,0,0,0,0,0,0,0,0,0,0,0,0,0,0,0,0,0,0,0,0,0,0,0,0,0,0,0,0,0,0,0,0,0,0,0,0,0,0,0,0,0,0,0,0,0,0,0,0,0,0,0,0,0,0,0,0,0,0,0,0,0,0,0,0,0,0,0,0,0,0,0,0,0,0,0,0,0,0,0,0,0,0,0,0,0,0,0,0,0,0,0,0,0,0,0,0,0,0,0,0,0,0,0,0,0,0,0,0,0,0,0,0,0,0,0,0,0,0,0,0,0,0,0,0,0,0,0,0,0,0,0,0,0,0,0,0,0,0,0,0,0,0,0,0,0,0,0,0,0,0,0,0,0,0,0,0,0,0,0,0,0,0,0,0,0,0,0,0,0,0,0,0,0,0,0,0,0,0,0,0,0,0,0,0,0,0,0,0,0,0,0,0,0,0,0,0,0,0,0,0,0,0,0,0,0,0,0,0,0,0,0,0,0,0,0,0,0,0,0,0,0,0,0,0,0,0,0,0,0,0,0,0,0,0,0,0,0,0,0,0,0,0,0,0,0,0,0,0,0,0,0,0,0,0,0,0,0,0,0,0,0,0,0,0,0,0,0,0,0,0,0,0,0,0,0,0,0,0,0,0,0,0,0,0,0,0,0,0,0,0,0,0,0,0,0,0,0,0,0,0,0,0,0,0,0,0,0,0,0,0,0,0,0,0,0,0,0,0,0,0,0,0,0,0,0,0,0,0,0,0,0,0,0,0,0,0,0,0,0,0,0,0,0,0,0,0,0,0,0,0,0,0,0,0,0,0,0,0,0,0,0,0,0,0,0,0,0,0,0,0,0,0,0,0,0,0,0,0,0,0,0,0,0,0,0,0,0,0,0,0,0,0,0,0,0,0,0,0,0,0,0,0,0,0,0,0,0,0,0,0,0,0,0,0,0,0,0,0,0,0,0,0,0,0,0,0,0,0,0,0,0,0,0,0,0,0,0,0,0,0,0,0,0,0,0,0,0,0,0,0,0,0,0,0,0,0,0,0,0,0,0,0,0,0,0,0,0,0,0,0,0,0,0,0,0,0,0,0,0,0,0,0,0,0,0,0,0,0,0,0,0,0,0,0,0,0,0,0,0,0,0,0,1,0,0,0,0,0,0,0,0,0,0,0,0,0,0,0,0,0,0,0,0,0,0,0,0,0,0,0,0,0,0,0,0,0,0,0,0,0,0,0,0,0,0,0,0,0,0,0,0,0,0,0,0,0,0,0,0,0,0,0,0,0,0,0,0,0,0,0,0,0,0,0,0,0,0,0,0,0,0,0,0,0,0,0,0,0,0,0,0,0,0,0,0,0,0,0,0,0,0,0,0,0,0,0,0,0,0,0,0,0,0,0,0,0,0,0,0,0,0,0,0,0,0,0,0,0,0,0,0,0,0,0,0,0,0,0,0,0,0,0,0,0,0,0,0,0,0,0,0,0,0,0,0,0,0,0,0,0,0,0,0,0,0,0,0,0,0,0,0,0,0,0,0,0,0,0,0,0,0,0,0,0,0,0,0,0,0,0,0,0,0,0,0,0,0,0,0,0,0,0,0,0,0,0,0,0,0,0,0,0,0,0,0,0,0,0,0,0,0,0,0,0,0,0,0,0,0,0,0,0,0,0,0,0,0,0,0,0,0,0,0,0,0,0,0,0,0,0,0,0,0,0,0,0,0,0,0,0,0,0,0,0,0,0,0,0,0,0,0,0,0,0,0,0,0,0,0,0,0,0,0,0,0,0,0,0,0,0,0,0,0,0,0,0,0,0,0,0,0,0,0,0,0,0,0,0,0,0,0,0,0,0,0,0,0,0,0,0,0,0,0,0,0,0,0,0,0,0,0,0,0,0,0,0,0,0,0,0,0,0,0,0,0,0,0,0,0,0,0,0,0,0,0,0,0,0,0,0,0,0,0,0,0,0,0,0,0,0,0,0,0,0,0,0,0,0,0,0,0,0,0,0,0,0,0,0,0,0,0,0,0,0,0,0,0,0,0,0,0,0,0,0,0,0,0,0,0,0,0,0,0,0,0,0,0,0,0,0,0,0,0,0,0,0,0,0,0,0,0,0,0,0,0,0,0,0,0,0,0,0,0,0,0,0,0,0,0,0,0,0,0,0,0,0,0,0,0,0,0,0,0,0,0,0,0,0,0,0,0,0,0,0,0,0,0,0,0,0,0,0,0,0,0,0,0,0,0,0,0,0,0,0,0,0,0,0,0,0,0,0,0,0,0,0,0,0,0,0,0,0,0,0,0,0,0,0,0,0,0,0,0,0,0,0,0,0,0,0,0,0,0,0,0,0,0,0,0,0,0,0,0,0,0,0,0,0,0,0,0,0,0,0,0,0,0,0,0,0,0,0,0,0,0,0,0,0,0,0,0,0,0,0,0,0,0,0,0,0,0,0,0,0,0,0,0,0,0,0,0,0,0,0,0,0,0,0,0,0,0,0,0,0,0,0,0,0,0,0,0,0,0,0,0,0,0,0,0,0,0,0,0,0,0,0,0,0,0,0,0,0,0,0,0,0,0,0,0,0,0,0,0,0,0,0,0,0,0,0,0,0,0,0,0,0,0,0,0,0,0,0,0,0,0,0,0,0,0,0,0,0,0,0,0,0,0,0,0,0,0,0,0,0,0,0,0,0,0,0,0,0,0,0,0,0,0,0,0,0,0,0,0,0,0,0,0,0,0,0,0,0,0,0,0,0,0,0,0,0,0,0,0,0,0,0,0,0,0,0,0,0,0,0,0,0,0,0,0,0,0,0,0,0,0,0,0,0,0,0,0,0,0,0,0,0,0,0,0,0,0,0,0,0,0,0,0,0,0,0,0,0,0,0,0,0,0,0,0,0,0,0,0,0,0,0,0,0,0,0,0,0,0,0,0,0,0,0,0,0,0,0,0,0,0,0,0,0,0,0,0,0,0,0,0,0,0,0,0,0,0,0,0,0,0,0,0,0,0,0,0,0,0,0,0,0,0,0,0,0,0,0,0,0,0,0,0,0,0,0,0,0,0,0,0,0,0,0,0,0,0,0,0,0,0,0,0,0,0,0,0,0,0,0,0,1,0,0,0,0,0,0,0,0,0,0,0,0,0,0,0,0,0,0,0,0,0,0,0,0,0,0,0,0,0,0,0,0,0,0,0,0,0,0,0,0,0,0,0,0,0,0,0,0,0,0,0,0,0,0,0,1,1,0,0,0,0,0,0,0,0,1,1,1,0,0,0,0,0,0,0,0,0,0,0,0,0,0,0,0,0,0,0,0,0,0,0,0,0,0,0,0,0,0,0,0,0,0,1,0,1,1,0,0,0,0,0,0,0,0,1,1,0,0,0,0,0,0,0,0,0,1,0,0,0,0,0,0,0,0,0,0,0,0,0,0,0,0,0,0,0,0,0,0,0,0,0,0,0,0,0,0,0,0,0,0,0,0,0,0,0,0,0,0,0,0,0,0,0,0,0,0,0,0,0,0,0,0,0,0,0,0,0,0,0,0,0,0,0,0,0,0,0,0,0,0,0,0,0,0,0,0,0,0,0,0,0,0,0,0,0,0,0,0,0,0,0,0,0,0,0,0,0,0,0,0,0,0,0,0,0,0,0,0,0,0,0,0,0,0,0,0,0,0,0,0,0,0,0,0,0,0,0,0,0,0,0,0,0,0,0,0,0,0,0,0,0,0,0,0,0,0,0,0,0,0,0,0,0,0,0,0,0,0,0,0,0,0,0,0,0,0,0,0,0,0,0,0,0,0,0,0,0,0,0,0,0,0,0,0,0,0,0,0,0,0,0,0,0,0,0,0,0,0,0,0,0,0,0,0,0,0,0,0,0,0,0,0,0,0,0,0,0,0,0,0,0,0,0,0,0,0,0,0,0,0,0,0,0,0,0,0,0,0,0,0,0,0,0,0,0,0,0,0,0,0,0,0,0,0,0,0,0,0,0,0,0,0,0,0,0,0,0,0,0,0,0,0,0,0,0,0,0,0,0,0,0,0,0,0,0,0,0,0,0,0,0,0,0,0,0,0,0,0,0,0,0,0,0,0,0,0,0,0,0,0,0,0,0,0,0,0,0,0,0,0,0,0,0,0,0,0,0,0,0,0,0,0,0,0,0,0,0,0,0,0,0,0,0,0,0,0,0,0,0,0,0,0,0,0,0,0,0,0,0,0,0,0,0,0,0,0,0,0,0,0,0,0,0,0,0,0,0,0,0,0,0,0,0,0,0,0,0,0,0,0,0,0,0,0,0,0,0,0,0,0,0,0,0,0,0,0,0,0,0,0,0,0,0,0,0,0,0,0,0,0,0,0,0,0,0,0,0,0,0,0,0,0,0,0,0,0,0,0,0,0,0,0,0,0,0,0,0,0,0,0,0,0,0,0,0,0,0,0,0,0,0,0,0,0,0,0,0,0,0,0,0,0,0,0,0,0,0,0,0,0,0,0,0,0,0,0,0,0,0,0,0,0,0,0,0,0,0,0,0,0,0,0,0,0,0,0,0,0,0,0,0,0,0,0,0,0,0,0,0,0,0,0,0,0,0,0,0,0,0,0,0,0,0,0,0,0,0,0,0,0,0,0,0,0,0,0,0,0,0,0,0,0,0,0,0,0,0,0,0,0,0,0,0,0,0,0,0,0,1,1,0,0,0,0,0,1,1,0,0,0,0,0,1,0,0,0,0,0,0,0,0,1,0,1,0,0,0,0,0,0,0,0,0,0,0,0,0,0,0,0,0,0,0,1,1,1,1,1,0,0,0,0,0,1,0,0,0,0,0,0,0,0,0,0,0,0,0,0,0,0,0,0,0,0,0,0,0,0,0,0,0,0,0,0,0,0,0,0,0,0,0,0,0,0,0,0,0,0,0,0,0,0,0,0,0,0,0,0,0,0,0,0,0,0,0,0,0,0,0,0,0,0,0,0,0,0,0,0,0,0,0,0,0,0,0,0,0,0,0,0,0,0,0,0,0,0,0,0,0,0,0,0,0,0,0,0,0,0,0,0,0,0,0,0,0,0,0,0,0,0,0,0,0,0,0,0,0,0,0,0,0,0,0,0,0,0,0,0,0,0,0,0,0,0,0,0,0,0,0,0,0,0,0,0,0,0,0,0,0,0,0,0,0,0,0,0,0,0,0,0,0,0,0,0,0,0,0,0,0,0,0,0,0,0,0,0,0,0,0,0,0,0,0,0,0,0,0,0,0,0,0,0,0,0,0,0,0,0,0,0,0,0,0,0,0,0,0,0,0,0,0,0,0,0,0,0,0,0,0,0,0,0,0,0,0,0,0,0,0,0,0,0,0,0,0,0,0,0,0,0,0,0,0,0,0,0,0,0,0,1,1,0,0,0,0,0,1,1,1,0,0,0,0,0,0,0,0,0,0,0,0,0,0,0,0,0,0,0,0,0,0,0,0,0,0,0,0,1,0,0,0,0,0,0,0,0,1,0,0,0,0,0,0,0,0,0,0,0,0,0,0,0,0,0,0,0,0,0,0,1,0,0,0,0,0,1,1,0,0,0,0,0,0,0,0,0,0,0,0,0,0,0,0,0,0,0,0,0,0,1,1,0,0,0,0,0,0,0,0,0,0,0,0,0,0,0,0,0,0,0,0,0,0,0,0,0,0,0,0,0,1,1,1,0,0,0,0,0,0,0,0,0,0,0,0,0,0,0,0,0,0,0,0,0,1,1,1,1,1,1,0,0,0,0,0,0,0,0,0,0,0,0,0,0,0,0,0,0,0,0,0,0,0,0,0,0,1,1,1,0,0,0,0,0,0,0,0,0,0,0,0,0,0,0,0,0,0,0,0,0,0,0,0,0,0,0,0,0,0,0,0,0,0,0,0,0,0,0,0,0,0,0,0,0,0,0,0,0,0,0,0,0,0,0,0,0,0,0,0,0,0,0,0,0,0,0,0,0,0,0,0,0,0,0,0,0,0,0,0,0,0,0,0,0,1,0,0,0,1,1,1,1,0,0,0,0,0,0,0,0,0,0,0,0,0,0,1,1,1,1,0,0,0,0,0,0,0,0,0,0,0,0,0,0,0,0,0,0,0,0,0,0,0,0,0,0,0,0,0,0,0,0,0,0,0,0,0,0,0,0,0,0,0,0,0,0,0,0,0,0,0,0,0,0,0,0,0,0,0,0,0,0,0,0,0,0,0,0,0,0,0,0,0,0,0,0,0,0,0,0,0,0,0,0,0,0,0,0,0,0,1,1,1,0,0,0,1,1,0,0,0,0,0,0,0,0,0,0,0,0,0,0,0,0,0,0,0,0,0,0,0,0,0,0,0,0,0,0,0,0,0,0,0,0,0,0,0,0,0,0,0,0,0,0,0,0,0,0,0,0,0,0,0,0,0,0,0,0,0,0,0,0,0,0,0,0,0,0,0,0,0,0,0,0,0,0,0,0,0,0,0,0,0,0,0,0,1,1,0,0,0,0,0,0,0,0,0,0,0,0,0,0,0,0,0,0,0,0,0,0,1,1,0,1,1,1,1,1,1,1,0,0,0,0,0,1,0,0,0,0,0,0,1,0,1,1,1,1,1,1,1,1,1,0,1,1,1,1,1,1,1,1,1,1,1,1,1,1,1,1,1,1,1,1,1,1,1,1,1,1,1,1,1,1,1,1,1,1,1,1,1,1,1,1,1,1,1,1,1,1,1,1,1,1,1,1,0,0,0,0,0,0,1,1,1,1,1,1,1,1,1,1,1,1,1,1,1,1,1,1,0,0,0,0,0,0,1,1,1,1,1,1,1,1,1,1,1,1,1,0,1,1,1,1,0,0,0,1,0,1,1,1,1,1,1,1,1,1,1,1,1,1,1,1,1,1,1,0,1,1,0,0,0,1,1,1,1,1,1,1,1,1,1,1,0,0,1,1,1,0,0,0,0,0,0,0,0,0,0,0,0,0,0,0,0,0,0,0,0,0,0,0,0,0,0,0,0,0,0,0,0,0,0,0,0,0,0,0,0,0,0,0,0,0,0,0,0,0,0,0,0,0,0,0,0,0,0,0,0,0,0,0,0,0,0,0,0,0,0,0,0,0,0,0,0,0,0,0,0,0,0,0,0,0,0,0,0,0,0,0,0,0,0,0,0,0,1,0,0,0,0,0,0,0,0,0,0,0,0,0,0,1,1,0,0,0,0,0,0,0,0,0,0,0,0,0,0,0,0,1,1,1,1,0,0,0,0,0,0,0,0,1,1,1,1,1,1,1,1,1,0,0,0,0,0,0,0,0,0,0,0,0,0,0,0,0,0,0,0,1,1,0,0,0,0,0,0,0,0,0,0,0,0,0,0,0,0,0,0,0,0,1,1,1,0,0,0,0,0,0,0,0,0,0,0,0,0,0,0,0,0,0,0,0,0,0,0,0,0,0,0,0,0,0,0,0,0,0,0,0,0,0,0,0,1,1,1,0,0,0,0,0,0,0,0,1,1,1,1,1,1,1,1,1,1,0,0,0,0,0,0,0,0,0,0,0,0,0,0,0,1,1,1,1,1,1,1,1,0,0,0,0,0,0,0,0,0,0,0,0,0,0,0,0,0,1,1,0,0,0,0,0,0,0,0,0,0,0,0,0,0,0,0,0,0,0,0,1,1,0,0,0,0,0,0,0,0,0,0,0,0,0,0,0,0,0,0,0,0,0,1,1,1,1,1,1,1,1,1,0,0,0,0,0,0,0,0,0,0,0,0,0,0,0,0,0,0,0,0,0,0,0,0,0,0,0,0,0,0,0,0,0,0,0,0,0,0,0,1,1,1,1,1,1,1,1,0,0,0,0,0,0,0,0,0,0,0,0,0,0,0,0,0,0,1,1,1,1,1,0,0,0,0,0,0,0,0,0,0,0,1,1,1,1,1,1,1,1,1,1,1,1,0,0,0,0,0,0,0,0,0,0,1,1,1,1,1,0,0,0,0,0,0,0,0,0,0,0,0,0,1,1,1,1,1,1,1,1,1,0,0,0,0,0,0,0,0,0,0,0,1,1,1,1,1,1,1,1,1,1,1,1,1,0,0,0,0,0,0,0,0,0,1,1,1,1,1,1,1,1,1,1,1,1,0,0,0,0,0,0,0,0,1,1,1,1,1,1,1,1,1,1,0,0,0,0,0,0,0,0,0,1,1,0,0,0,0,0,1,1,1,1,1,0,0,0,0,0,0,0,0,1,1,1,1,1,1,1,1,1,1,1,1,0,0,0,0,0,0,0,1,1,1,1,1,1,1,1,1,1,1,1,0,0,0,0,0,0,0,0,1,1,1,1,1,1,1,1,1,1,1,1,1,0,0,0,0,0,0,0,0,1,1,1,1,1,1,1,1,1,1,1,1,1,1,1,0,0,0,0,0,0,0,0,0,1,1,1,1,1,1,1,0,0,0,0,0,0,0,0,1,1,1,1,1,1,0,1,1,1,1,0,0,0,0,0,0,0,0,0,0,0,0,1,1,1,1,1,1,1,1,1,1,1,1,0,0,0,0,0,0,0,0,0,1,1,1,1,1,1,1,1,1,1,1,1,0,0,0,0,0,0,0,0,0,0,0,0,1,1,1,1,1,1,1,1,1,1,1,1,1,1,1,1,1,0,0,0,0,0,0,0,0,0,1,1,1,1,1,1,1,1,1,1,1,0,0,0,0,0,0,0,0,0,1,1,1,1,0,1,1,1,1,1,1,1,1,1,1,0,0,0,0,0,0,0,0,0,0,1,1,1,1,1,1,1,1,1,1,1,1,1,0,0,0,0,0,0,0,0,0,0,0,0,0,0,0,0,0,0,0,1,0,0,0,0,0,0,0,0,0,0,0,0,1,1,1,1,1,1,1,1,1,1,1,1,1,1,1,1,0,0,0,0,0,0,0,0,1,1,1,1,1,1,1,1,1,1,1,1,1,1,1,1,0,0,0,0,0,0,0,0,1,1,1,1,1,1,1,1,1,1,1,1,1,0,0,0,0,0,0,0,0,0,0,0,0,1,1,1,1,1,1,1,1,1,1,0,0,0,0,0,0,0,0,0,0,0,0,0,0,1,1,1,0,0,1,0,0,1,0,0,0,0,0,0,0,0,0,0,0,0,0,0,0,0,0,1,1,1,1,0,0,0,0,0,0,0,0,0,0,0,0,0,0,0,0,0,0,0,0,0,0,0,0,0,0,0,0,0,0,0,0,0,0,0,0,1,1,1,1,1,1,1,1,1,0,0,1,1,0,0,0,0,0,0,0,0,0,0,1,1,1,1,1,1,1,0,0,0,1,0,0,0,0,0,0,0,0,0,0,1,1,1,1,1,1,1,1,1,1,1,0,0,0,0,0,0,0,0,0,0,0,0,0,1,1,1,1,1,1,1,1,1,1,0,0,0,0,0,0,0,0,0,0,0,0,0,0,1,1,1,0,1,1,1,0,0,0,0,0,0,0,0,0,0,0,0,0,0,0,1,1,1,1,1,1,1,1,1,1,0,0,0,0,0,0,0,0,0,0,0,0,0,0,0,0,0,0,0,0,0,0,0,0,0,0,0,0,0,0,0,0,0,0,0,0,0,1,1,1,1,1,1,1,1,1,1,1,1,1,0,0,0,0,0,0,0,0,0,0,1,1,1,1,1,1,1,0,0,0,0,0,0,0,0,0,0,0,0,0,0,0,0,1,1,1,1,1,1,1,0,0,0,0,0,0,0,0,0,0,0,0,0,0,0,0,1,1,1,1,1,1,1,1,0,0,0,0,0,0,0,0,0,1,1,1,1,1,1,1,1,1,1,1,1,1,1,0,0,0,0,0,0,0,1,1,1,1,1,1,1,1,1,1,0,0,0,1,0,0,0,0,0,0,0,0,0,0,0,0,0,0,0,0,0,1,1,1,0,0,0,0,0,0,0,0,0,0,0,1,1,1,1,1,1,1,1,1,1,1,0,0,0,0,0,0,0,0,0,1,1,1,1,1,1,1,1,1,1,1,1,1,0,0,0,0,0,0,0,0,0,0,0,1,1,1,0,1,1,1,1,1,1,1,0,0,0,0,0,0,0,0,0,0,0,0,0,1,1,1,0,1,1,1,1,1,1,1,1,1,0,0,0,0,0,0,0,0,0,0,0,0,0,1,0,0,0,0,0,0,0,0,0,0,0,0,0,0,0,0,0,0,0,1,0,0,0,0,0,0,0,0,0,0,0,0,0,0,0,0,0,0,0,0,0,0,0,0,0,0,0,0,0,0,0,0,0,0,0,0,0,0,1,1,1,1,1,1,1,1,1,1,1,0,0,0,0,0,0,0,0,0,0,0,0,0,0,1,1,1,1,1,1,1,1,1,0,0,0,0,0,0,0,0,0,0,0,0,0,0,1,1,1,1,1,1,1,0,0,0,0,0,0,0,1,1,1,1,1,1,1,0,0,0,0,0,0,0,0,1,1,1,1,1,0,0,0,0,0,0,0,0,0,0,1,1,1,1,1,1,1,1,1,1,1,0,0,0,0,0,0,0,0,0,0,0,0,0,0,0,0,0,0,0,0,0,0,0,0,0,0,1,1,1,1,1,1,1,1,1,1,1,1,0,0,0,0,0,0,0,0,0,0,0,1,1,1,1,1,1,1,1,1,1,1,1,1,1,0,0,0,0,0,0,0,0,0,0,1,1,1,1,1,1,1,1,1,1,1,1,0,0,0,0,0,0,0,0,0,0,0,1,1,1,1,1,1,1,1,1,1,1,1,0,0,0,0,0,0,0,0,0,0,0,0,1,1,1,1,1,1,1,1,1,1,1,1,1,1,0,0,0,0,0,0,1,1,1,1,1,1,1,1,1,0,0,0,0,0,0,0,0,0,0,0,1,1,1,1,1,1,1,0,0,1,0,0,0,0,0,0,0,0,0,0,0,1,1,1,1,1,1,1,1,1,1,1,1,1,0,0,0,0,0,0,0,0,0,0,0,0,0,0,0,0,0,0,0,1,0,0,0,0,0,0,0,0,0,0,0,0,0,1,1,0,1,1,1,1,1,1,1,1,0,0,0,0,0,0,0,0,0,0,0,0,0,1,1,1,1,0,1,1,1,1,1,0,0,0,0,0,0,0,0,0,0,0,0,0,0,1,1,1,1,1,1,1,1,0,0,1,0,0,1,0,1,0,0,0,0,0,0,0,0,0,1,1,1,1,1,1,1,0,0,0,0,0,0,0,0,0,0,0,0,0,0,0,0,1,1,1,1,1,1,1,1,1,0,0,0,0,0,0,0,0,0,0,0,0,0,0,0,0,0,1,1,1,1,1,0,0,0,0,0,0,0,0,0,0,0,0,0,0,0,0,0,0,0,0,0,0,0,0,0,0,0,0,0,0,0,0,0,0,0,0,0,0,0,0,0,1,1,1,1,1,1,1,1,1,1,1,1,1,0,0,0,0,0,0,0,0,0,0,0,1,1,1,1,1,1,1,1,1,1,0,0,0,0,0,0,0,0,0,0,0,0,0,0,1,1,1,0,1,1,1,1,1,1,1,1,0,0,0,0,0,0,0,0,0,0,0,0,1,1,1,0,0,0,0,0,0,0,0,0,0,0,0,0,0,0,0,0,0,0,0,0,1,1,1,0,0,0,0,0,0,0,0,0,0,0,0,0,0,0,0,0,0,0,0,0,0,0,0,0,0,0,0,0,0,0,0,0,0,0,0,0,0,0,0,0,0,0,0,0,0,0,0,0,0,0,0,1,1,0,0,0,0,0,0,0,0,0,0,1,1,1,0,0,0,0,0,0,0,0,0,0,0,0,0,0,0,0,0,0,0,0,1,1,1,1,1,1,1,1,1,1,1,1,1,1,1,0,0,0,0,0,0,0,0,0,0,0,0,0,0,0,0,0,0,0,0,0,0,0,0,0,0,0,0,0,0,0,0,0,1,1,1,1,1,0,0,0,0,1,1,1,0,1,0,0,0,0,0,0,0,0,0,0,0,1,0,1,0,0,1,1,1,1,1,1,1,0,0,0,0,0,0,0,0,0,0,0,0,0,0,1,0,0,0,0,0,0,0,0,0,1,0,0,1,0,0,0,0,0,0,0,0,0,0,1,1,0,0,0,0,0,0,1,1,0,1,0,0,0,0,0,0,0,0,0,0,1,1,1,1,1,1,1,1,1,1,1,1,0,0,0,0,0,0,0,0,0,0,0,0,0,1,1,1,1,1,1,1,1,0,0,0,0,0,0,0,0,0,0,0,0,0,0,0,1,1,1,1,1,1,1,1,1,0,0,0,0,0,0,0,0,0,0,0,0,1,1,1,1,1,1,1,1,0,0,0,0,0,0,0,0,0,0,0,0,0,0,0,0,0,0,0,0,0,1,1,1,1,1,0,0,0,0,0,0,0,0,0,0,0,0,0,1,1,0,0,0,0,0,0,0,0,0,0,0,0,0,0,0,0,0,0,0,0,0,0,0,0,0,0,0,0,0,0,0,0,0,0,0,0,0,0,0,1,1,1,1,1,1,1,1,1,1,1,1,1,1,1,0,0,1,1,1,1,1,1,0,0,0,0,0,0,0,0,0,0,1,1,1,1,1,1,1,1,1,1,1,0,0,0,0,0,0,0,0,1,1,1,1,1,0,1,1,1,1,0,0,0,0,0,1,1,1,1,1,1,1,1,0,0,0,0,1,1,1,1,1,1,1,1,1,1,1,1,1,1,1,1,1,1,1,1,1,1,1,1,1,1,1,1,1,1,1,1,1,1,1,1,1,1,1,1,1,1,1,1,1,1,1,1,1,1,1,1,1,1,1,1,1,1,1,1,1,1,1,1,1,1,1,1,1,1,1,1,1,1,1,1,0,0,0,1,1,1,1,1,1,1,1,1,1,1,0,0,0,0,0,0,0,0,1,1,1,1,1,1,0,0,0,0,0,0,0,0,0,0,0,0,0,0,0,0,0,0,0,0,0,0,1,1,1,1,1,1,1,1,1,1,1,1,1,0,0,0,0,0,0,1,1,1,1,1,1,1,1,1,1,0,0,0,0,0,0,1,1,1,1,1,1,1,1,1,1,1,0,0,0,0,0,0,0,0,1,1,1,1,1,1,1,1,1,0,1,1,0,0,0,0,0,1,1,1,1,1,1,1,1,1,1,1,1,1,0,0,0,0,0,0,1,1,1,0,0,0,0,0,0,0,0,0,0,0,0,0,0,0,0,0,0,0,0,0,0,0,0,0,0,0,0,0,0,0,0,0,0,0,0,0,0,0,0,0,0,0,0,1,1,1,0,0,0,0,0,0,0,0,0,0,0,0,0,0,0,0,0,0,0,0,0,1,1,1,1,1,1,1,1,0,0,0,0,0,0,0,0,0,0,0,0,0,0,0,0,1,1,1,1,1,1,1,1,0,0,0,0,0,0,0,0,0,0,0,0,0,0,0,0,1,1,1,1,1,1,1,1,1,1,0,0,0,0,0,0,0,0,0,0,0,0,0,0,0,0,0,0,0,0,0,0,0,0,0,0,0,0,0,0,0,0,0,0,0,0,0,0,0,0,0,0,0,0,0,0,0,0,0,0,0,0,0,0,0,0,0,0,0,0,0,0,0,0,0,0,0,0,0,0,1,1,1,1,1,1,1,1,1,1,0,0,0,0,0,0,0,0,0,0,0,0,0,0,0,1,1,1,1,1,1,1,1,1,0,0,0,0,0,0,0,0,0,0,0,0,0,0,0,1,1,1,1,1,1,1,1,0,0,0,0,0,0,0,0,0,0,0,0,0,0,0,1,1,1,1,1,1,1,1,1,0,0,0,0,0,0,0,0,0,0,0,0,0,0,0,0,1,1,1,1,1,1,1,1,1,1,1,1,1,0,0,0,0,0,0,0,0,0,0,1,1,1,1,1,1,1,0,0,0,0,0,1,0,0,0,0,0,0,0,0,0,0,0,0,1,1,1,1,1,1,1,1,0,0,0,0,0,0,0,0,0,0,0,0,0,0,0,1,0,0,1,0,0,1,0,0,0,0,1,1,1,0,0,1,0,0,0,0,0,0,0,1,1,1,1,1,1,1,1,1,1,1,1,1,1,0,0,1,0,0,0,0,0,0,0,1,1,1,1,1,1,1,1,1,1,1,1,1,0,0,0,0,0,0,0,0,0,0,0,0,1,1,1,1,1,1,1,1,0,0,0,0,1,0,0,0,0,0,0,0,0,0,0,1,1,1,1,1,1,1,1,1,1,1,1,1,1,0,0,0,0,0,0,0,0,0,0,0,1,1,1,1,1,1,1,1,1,1,0,1,0,0,0,0,0,0,0,0,1,1,1,1,1,1,0,0,0,0,0,0,0,0,0,0,0,0,0,0,0,0,0,0,0,0,0,0,0,0,1,1,1,1,1,1,1,1,1,1,0,0,0,0,0,0,0,0,0,0,0,1,1,1,1,1,1,1,1,1,1,1,1,1,1,0,0,0,0,0,0,0,0,0,0,0,1,1,1,1,1,1,1,1,1,0,0,0,0,0,0,0,0,0,0,0,0,0,0,0,1,1,1,1,1,1,1,0,0,0,0,0,0,0,1,0,0,0,0,0,0,0,0,1,1,1,1,1,1,1,1,1,1,0,0,1,1,1,1,0,0,0,0,0,0,0,0,0,0,1,1,0,1,0,0,0,0,0,0,0,0,0,0,0,0,0,0,0,0,0,0,0,0,0,0,0,0,0,0,0,0,0,0,0,0,0,0,0,0,0,0,0,0,0,0,0,1,1,0,0,0,0,0,0,0,0,0,0,0,0,0,0,0,0,1,0,0,0,0,0,0,0,0,1,1,1,1,0,1,0,0,0,1,0,0,0,0,0,0,0,0,0,0,0,0,1,1,0,0,0,0,0,0,0,0,0,0,0,0,0,0,0,0,0,0,0,0,0,0,0,0,0,0,0,0,0,0,0,0,0,0,0,0,0,0,0,0,0,0,0,0,0,0,0,0,0,0,0,0,0,0,0,0,0,0,0,0,0,0,0,0,0,0,0,0,0,0,1,0,0,0,0,0,0,0,0,0,0,0,0,0,0,0,0,0,0,0,0,0,0,0,0,0,0,0,0,0,0,0,0,0,0,0,0,0,0,0,0,0,0,0,0,0,0,0,0,0,1,1,1,1,1,1,1,1,1,1,0,0,0,0,0,0,0,0,0,0,0,0,1,0,0,0,1,1,1,1,0,0,0,0,0,0,0,0,0,0,0,0,0,0,0,0,0,0,0,0,1,1,0,0,0,0,0,0,0,0,0,0,0,0,0,0,0,0,0,0,1,0,0,0,0,0,0,0,0,0,0,0,0,0,0,0,0,0,0,0,0,0,0,0,1,0,0,0,0,0,0,0,0,0,0,0,0,0,0,0,0,0,0,0,0,0,0,0,0,0,0,0,0,0,0,0,0,0,0,0,0,0,0,0,0,0,0,0,0,0,0,0,0,0,0,0,0,0,0,0,0,0,0,0,0,0,0,0,0,0,0,0,0,0,0,0,1,1,0,1,0,0,0,0,0,0,0,0,0,0,0,0,0,0,0,0,0,0,0,0,0,0,0,0,0,0,0,0,0,0,0,0,0,0,0,0,0,0,0,0,0,0,0,1,0,0,0,0,0,1,0,1,0,0,0,0,0,0,0,0,0,0,0,0,0,0,0,0,1,0,1,1,1,0,0,0,0,0,0,0,0,0,0,0,0,0,0,0,0,0,0,0,0,0,0,0,0,0,0,0,0,0,0,1,0,0,0,0,0,0,0,0,0,0,0,0,0,0,0,0,0,0,0,0,0,0,0,0,0,0,0,0,0,0,0,0,0,0,0,0,0,0,0,0,0,0,0,0,0,0,0,0,0,0,0,0,0,0,0,0,0,0,0,0,0,0,0,0,0,0,0,0,0,0,0,0,0,0,0,0,0,0,0,0,0,0,0,0,0,1,0,0,0,1,1,0,0,0,0,0,0,0,0,0,0,0,0,0,0,0,0,0,0,0,0,0,0,1,1,0,0,0,0,0,0,0,0,0,0,0,0,0,0,0,0,0,0,1,1,0,0,1,0,0,0,0,0,0,0,0,0,0,0,0,0,0,0,0,0,0,0,0,0,0,0,0,0,0,0,0,0,0,0,0,0,0,0,0,0,0,0,0,0,0,0,0,0,0,0,0,0,0,0,0,0,0,0,0,0,0,0,0,0,0,0,0,0,0,0,0,0,0,0,0,0,0,0,0,0,0,0,0,0,0,0,0,0,0,0,0,0,1,1,1,1,0,0,0,0,0,0,0,0,0,0,0,0,0,0,0,0,0,0,1,0,0,0,0,0,0,0,0,0,0,0,0,0,0,0,0,0,0,0,0,0,0,0,0,0,0,0,0,0,0,0,0,0,0,0,0,0,0,0,0,0,0,0,0,0,0,0,0,0,0,0,0,0,0,0,0,0,0,0,0,0,0,0,0,0,0,0,0,0,0,0,0,0,0,0,0,0,0,0,0,0,0,0,0,0,0,0,0,0,0,0,0,0,0,0,0,0,0,0,0,0,0,0,0,0,0,0,0,0,0,0,0,0,0,0,0,0,0,0,0,0,0,0,0,0,0,0,0,0,0,0,0,0,0,0,0,0,0,0,0,0,0,0,0,0,0,0,0,0,0,0,0,0,0,0,0,0,0,0,0,0,0,0,0,0,0,0,0,0,0,0,0,0,0,0,0,0,0,0,0,0,0,0,0,0,0,0,0,0,0,0,0,0,0,0,0,0,0,0,0,0,0,0,0,0,0,0,0,0,0,0,0,0,0,0,1,1,0,0,0,0,0,0,0,0,0,0,0,0,0,0,0,0,0,0,0,0,0,0,0,0,0,0,0,0,0,0,0,0,0,0,0,0,0,0,0,0,0,0,0,0,0,0,0,0,0,0,0,0,0,0,0,0,0,0,0,0,0,0,0,0,0,0,0,0,0,0,0,0,0,0,0,0,0,0,0,0,0,0,0,0,0,0,0,0,0,0,0,0,0,0,0,0,0,0,0,0,0,0,0,0,0,0,0,0,0,0,0,0,0,0,0,0,0,0,0,0,0,0,0,0,0,0,0,0,0,0,0,0,0,0,0,0,0,0,0,0,0,0,0,0,0,0,0,0,0,0,0,0,0,0,0,0,0,0,0,0,0,0,0,0,0,0,0,0,0,0,0,0,0,0,0,0,0,0,0,0,0,0,0,0,0,0,0,0,1,1,0,0,0,0,0,0,0,0,1,0,0,0,0,0,0,0,0,0,0,0,0,0,0,0,0,0,0,0,0,0,0,0,0,0,0,0,0,0,0,0,0,0,0,0,0,0,0,0,0,0,0,0,0,0,0,0,0,0,0,0,0,0,0,0,1,1,0,0,0,0,0,0,0,0,0,0,0,0,0,0,0,0,0,0,0,0,0,0,0,0,0,0,0,0,0,0,0,0,0,0,0,0,0,0,0,0,0,0,0,0,0,0,0,0,0,0,0,0,0,0,0,0,0,0,0,0,0,0,0,0,0,0,0,0,0,0,0,0,0,0,0,0,0,0,0,0,0,0,0,0,0,0,0,0,0,1,0,0,0,0,0,0,0,0,0,0,0,0,0,0,0,0,0,0,0,0,0,0,0,0,0,0,0,0,0,0,0,0,0,0,0,0,0,0,0,0,0,0,0,0,0,0,0,0,0,0,0,0,0,0,0,0,0,0,0,0,0,0,0,0,0,0,0,0,0,0,0,0,0,0,0,0,0,0,0,0,0,0,0,0,0,0,0,0,1,0,0,0,1,0,0,1,0,0,0,0,0,0,0,0,0,0,0,0,0,0,0,0,0,0,0,0,0,0,0,0,0,0,0,0,0,0,0,0,0,0,0,0,0,0,0,0,0,0,0,0,0,0,0,0,0,0,0,0,0,0,0,0,0,0,0,0,0,0,0,0,0,0,0,0,0,0,0,0,0,0,0,0,0,0,0,0,0,0,0,0,0,0,0,0,0,0,0,0,0,0,0,0,0,0,0,0,0,0,0,0,0,0,0,0,0,0,0,0,0,0,0,0,0,0,0,0,0,0,0,0,0,0,0,0,0,0,0,0,0,0,0,0,0,0,0,0,1,0,0,0,0,0,0,0,0,0,0,0,0,0,0,0,0,0,0,0,0,0,0,0,0,0,0,0,0,0,0,0,0,0,0,0,0,0,0,0,0,0,0,0,0,0,0,0,1,0,0,0,0,0,0,0,0,0,0,0,0,0,0,0,0,0,0,0,0,0,0,0,0,0,0,0,0,0,0,0,0,0,0,0,0,0,0,0,0,0,0,0,0,0,0,0,0,0,0,0,0,0,0,0,0,0,0,0,0,0,0,0,0,0,0,0,0,0,0,0,0,0,0,0,0,0,0,0,0,0,0,0,0,0,0,0,0,0,0,0,1,0,0,0,0,0,0,0,0,0,0,0,0,0,0,0,0,0,0,0,0,0,0,0,0,0,0,0,0,0,0,0,0,0,0,0,0,0,0,0,0,0,0,0,0,0,0,0,0,0,0,0,0,0,0,0,0,0,0,0,0,0,0,0,0,0,0,0,0,0,0,0,0,0,0,0,0,0,0,0,0,0,0,0,0,0,0,0,1,1,0,0,0,0,0,0,0,0,0,0,0,0,0,0,0,0,0,0,0,0,0,0,0,0,0,0,0,0,0,0,0,0,0,0,0,0,0,0,0,0,0,0,0,0,0,0,0,0,0,0,0,0,0,0,0,0,0,0,0,0,0,0,0,0,0,0,0,0,0,0,0,0,0,0,0,0,0,0,0,0,0,0,0,0,0,0,0,0,0,0,0,0,0,0,0,0,0,0,0,0,0,0,0,0,0,0,0,0,0,0,0,0,0,0,0,0,0,0,0,0,0,0,0,0,0,0,0,0,0,0,0,0,0,0,0,0,0,0,0,0,0,0,0,0,0,0,0,0,0,0,0,0,0,0,0,0,0,0,0,0,0,0,0,0,0,0,0,0,0,0,0,0,0,0,0,0,0,0,0,0,0,0,0,0,0,0,0,0,0,0,0,0,0,0,0,0,0,0,0,0,0,0,0,0,0,0,0,0,0,0,0,0,0,0,0,0,0,0,0,0,0,0,0,0,0,0,0,0,0,0,0,0,0,0,0,0,0,0,0,0,0,0,0,0,0,0,0,0,0,0,0,0,0,0,0,0,0,0,0,0,0,0,0,0,0,0,0,0,0,0,0,0,0,0,0,0,0,0,0,0,0,0,0,0,0,0,0,0,0,0,0,0,0,0,0,0,0,0,0,0,0,0,0,0,0,0,0,0,0,0,0,0,0,0,0,0,0,0,0,0,0,0,0,0,0,0,0,0,0,0,0,0,0,0,0,0,0,0,0,0,0,0,0,0,0,0,0,0,0,0,0,0,0,0,0,0,0,0,0,0,0,0,0,0,0,0,0,0,0,0,0,0,0,0,0,0,0,0,0,0,0,0,0,0,0,0,0,0,0,0,0,0,0,0,0,0,0,0,0,0,0,0,0,0,0,0,0,0,0,0,0,0,0,0,0,0,0,0,0,0,0,0,0,0,0,0,0,0,0,0,0,0,0,0,0,0,0,0,0,0,0,0,0,0,0,0,0,0,0,0,0,0,0,0,0,0,0,0,0,0,0,0,0,0,0,0,0,0,0,0,0,0,0,0,0,0,0,0,0,0,0,0,0,0,0,0,0,0,0,0,0,0,0,0,0,0,0,0,0,0,0,0,0,0,0,0,0,0,0,0,0,0,0,0,0,0,0,0,0,0,0,0,0,0,0,0,0,0,0,0,0,0,0,0,0,0,0,0,0,0,0,0,0,0,0,0,0,0,0,0,0,0,0,0,0,0,0,0,0,0,0,0,0,0,0,0,0,0,0,0,0,0,0,0,0,0,0,0,0,0,0,0,0,0,0,0,0,0,1,0,0,0,0,0,0,0,0,0,0,0,0,1,0,0,0,0,0,0,0,0,0,0,0,0,0,0,0,0,0,0,0,0,0,0,0,0,0,0,0,0,0,0,0,0,0,0,0,0,0,0,0,0,0,0,0,0,0,0,0,0,0,0,0,0,0,0,0,0,0,0,0,0,0,0,0,0,0,0,0,0,0,0,0,0,0,0,0,0,0,0,0,0,0,0,0,0,0,0,0,0,0,0,0,0,0,0,0,0,0,0,0,0,0,0,0,0,0,0,0,0,0,0,0,0,0,0,0,0,0,0,0,0,0,0,0,0,0,0,0,0,0,0,0,0,0,0,0,0,0,0,0,0,0,0,0,0,0,0,0,0,0,0,0,0,0,0,0,0,0,0,0,0,0,0,0,0,0,0,0,0,0,0,0,0,0,0,0,0,0,0,0,0,0,0,0,0,0,0,0,0,0,0,0,0,0,0,0,0,0,0,0,0,0,0,0,0,0,0,0,0,0,0,0,0,0,0,0,0,0,0,0,0,0,0,0,0,0,0,0,0,0,0,0,0,0,0,0,0,0,0,0,0,0,0,0,0,0,0,0,0,0,0,0,0,0,0,0,0,0,1,0,0,0,0,0,0,0,0,0,0,0,0,0,0,0,0,0,0,0,0,0,0,0,0,0,0,0,0,0,0,0,0,0,0,0,0,0,0,0,0,0,0,0,0,0,0,0,0,0,0,0,0,0,0,0,0,0,0,0,0,0,0,0,0,0,0,0,0,0,0,0,0,0,0,0,0,0,0,0,0,0,0,0,0,0,0,0,0,0,0,0,0,0,0,0,0,0,0,0,0,0,0,0,0,0,0,0,0,0,0,0,0,0,0,0,0,0,0,0,0,0,0,0,0,0,0,1,1,1,1,1,1,1,0,0,0,0,0,0,0,0,0,0,0,0,0,0,0,0,0,0,0,0,0,0,0,0,0,0,0,0,0,0,0,0,0,0,0,0,0,0,0,0,0,0,0,0,0,0,0,0,0,0,0,0,0,0,0,0,0,0,1,1,1,1,1,1,1,1,1,1,1,1,1,1,0,0,0,0,0,0,0,0,0,1,1,1,1,1,1,1,1,1,1,0,1,0,0,0,0,0,0,0,0,0,0,0,0,0,0,0,0,0,0,0,0,0,0,0,0,0,0,0,0,0,0,0,0,0,0,0,0,0,0,0,0,0,0,0,0,0,0,0,0,1,1,1,1,1,1,1,1,1,1,1,1,1,1,1,1,1,1,1,1,1,1,1,1,1,1,1,1,1,1,1,1,1,1,1,1,1,1,1,1,0,1,1,1,1,1,1,1,1,1,1,1,1,1,1,1,1,1,1,1,0,0,0,0,0,0,0,0,0,0,0,0,0,0,1,1,1,1,1,1,1,1,1,0,0,0,1,0,0,0,0,0,1,0,1,1,1,1,1,1,1,1,1,1,1,1,1,1,0,0,0,0,1,1,1,1,1,1,1,1,1,1,1,1,1,1,1,1,1,1,1,1,1,1,1,1,1,1,1,1,1,1,1,1,1,1,1,1,1,1,0,0,0,0,0,0,0,0,1,1,1,1,1,1,1,1,1,1,1,1,1,1,1,1,1,1,1,1,1,1,1,1,1,1,1,1,1,1,1,1,1,1,1,1,1,1,1,1,1,1,1,1,1,1,1,1,1,1,1,1,1,1,1,1,1,0,0,1,1,1,1,1,1,1,1,1,1,1,0,1,1,1,0,1,0,0,0,0,0,0,0,0,0,0,0,0,0,0,0,0,0,0,0,0,0,0,0,0,0,0,0,0,0,0,0,0,0,0,0,0,1,1,1,1,1,1,1,0,0,0,0,0,0,1,0,0,0,0,0,0,0,0,1,1,1,1,1,1,1,1,1,0,0,0,0,0,0,0,0,0,0,1,1,0,0,0,0,0,0,0,0,0,0,0,0,0,0,0,0,0,0,0,0,0,0,0,1,0,0,0,0,0,0,0,0,0,0,0,0,0,0,0,0,0,0,0,0,0,0,0,0,0,0,0,0,0,0,0,0,0,0,0,0,0,0,0,0,0,0,0,0,0,0,0,0,0,0,0,0,0,0,0,0,0,0,0,0,0,0,0,0,0,0,0,0,0,0,0,0,0,0,0,0,0,0,0,0,0,0,0,0,0,0,0,0,0,0,0,0,0,0,0,0,0,0,0,0,0,1,0,0,0,0,0,0,0,0,0,0,0,0,0,0,0,0,0,0,0,0,0,0,0,0,0,0,0,0,0,0,0,0,0,0,0,0,0,0,0,0,0,0,0,0,0,0,0,0,0,0,0,0,0,0,1,0,0,0,0,0,0,1,1,0,0,0,0,0,0,0,0,0,1,1,1,1,1,1,1,1,0,0,0,0,0,0,1,0,0,1,1,1,1,1,1,1,1,1,1,1,0,0,0,0,0,1,1,1,1,1,1,1,1,1,1,1,0,0,0,0,0,0,1,1,1,1,1,1,1,1,1,1,1,1,0,0,0,1,1,1,1,1,1,1,1,1,1,1,1,0,0,0,0,1,1,1,1,1,1,1,1,1,1,1,0,0,0,0,0,0,0,0,0,0,0,0,0,0,0,0,0,0,0,0,0,1,1,1,1,1,1,1,1,1,0,0,0,0,0,0,0,0,0,0,0,0,0,0,1,0,0,0,0,0,0,0,0,0,0,0,0,0,1,1,1,1,0,0,0,0,0,0,0,0,0,0,0,0,0,0,0,0,0,0,0,0,0,0,0,1,1,1,0,1,1,1,1,1,1,0,0,0,0,0,0,0,0,0,0,0,1,1,1,1,1,1,1,1,1,1,0,0,0,0,0,0,0,0,0,0,0,0,0,0,0,0,0,0,0,0,0,0,0,0,0,0,0,1,1,1,1,1,1,1,1,1,1,1,1,1,1,0,0,0,0,0,0,0,0,0,0,1,1,1,1,1,1,1,1,1,1,1,1,1,1,1,0,0,0,0,0,0,1,1,1,1,1,1,1,1,1,1,0,0,0,0,0,1,1,1,1,1,1,1,1,1,1,1,1,1,1,1,0,0,0,0,0,0,0,0,0,0,0,0,0,0,1,0,0,0,0,0,0,0,0,0,0,0,0,0,0,0,0,0,0,0,0,0,0,0,0,0,0,0,0,0,0,0,0,0,0,0,0,0,0,0,0,0,0,0,0,0,0,0,0,0,0,0,0,0,0,0,0,0,0,0,0,0,0,0,0,0,0,0,0,0,0,0,0,0,0,0,0,0,0,0,0,0,0,0,0,0,0,0,0,0,0,0,0,0,0,0,0,0,0,0,0,0,0,0,0,0,0,0,0,0,0,0,0,0,0,0,0,0,0,0,0,0,0,0,0,0,0,0,0,0,0,0,0,0,0,0,0,0,0,0,0,0,0,0,0,0,0,0,0,0,0,0,0,0,0,0,0,0,0,0,0,0,0,0,0,0,0,0,0,0,0,0,0,0,0,0,0,0,0,0,0,0,0,0,0,0,0,0,0,0,0,0,0,0,0,0,0,0,0,0,0,0,0,0,0,0,0,0,0,0,0,0,0,0,0,0,0,0,0,0,0,0,0,0,0,0,0,0,0,0,0,0,0,0,0,0,0,0,0,0,0,0,0,0,0,0,0,0,0,0,0,0,0,0,0,0,0,0,0,0,0,0,0,0,0,0,0,0,0,0,0,0,0,0,0,0,0,0,0,0,0,0,0,0,0,0,0,0,0,0,0,0,0,0,0,1,1,1,0,0,0,0,0,0,0,0,0,0,0,0,0,0,0,0,0,0,0,0,0,0,0,0,0,0,0,0,0,0,0,0,0,0,0,0,0,0,0,0,0,0,0,0,0,0,0,0,0,0,0,0,0,0,0,0,0,0,0,0,0,0,0,0,0,0,0,0,0,0,0,0,0,0,0,0,0,0,0,0,0,0,0,0,0,0,0,0,0,0,0,0,0,0,0,0,0,0,0,0,0,0,0,0,0,0,0,0,0,0,0,0,0,0,0,0,0,0,0,0,0,0,0,0,0,0,0,0,0,0,0,1,0,0,0,0,0,0,0,0,0,0,0,0,0,0,0,0,0,0,0,0,0,0,1,1,0,0,0,0,0,0,0,0,0,0,0,0,0,0,0,0,0,0,0,0,0,0,0,0,0,0,0,0,0,0,0,0,0,0,0,0,0,0,0,0,0,0,0,0,0,0,0,0,0,0,0,0,0,0,0,0,0,1,1,1,0,0,0,0,0,0,0,0,0,0,0,0,0,1,1,1,1,1,1,1,1,1,1,1,1,1,0,0,0,0,0,0,0,0,0,0,0,1,1,0,0,0,0,0,0,0,0,0,0,0,0,0,0,0,0,0,0,0,0,0,0,0,0,0,0,0,0,0,0,0,0,0,0,0,0,0,0,0,0,0,0,0,0,0,0,0,0,0,0,0,0,0,0,0,0,0,0,0,0,0,0,0,0,0,0,0,0,0,0,0,0,0,0],\"xaxis\":\"x\",\"y\":[6.8594,6.785,6.8977,7.0569,7.3978,7.6998,7.7901,7.7139,7.7975,8.082,8.3047,8.4684,8.8856,9.3714,9.7962,9.6996,9.3111,8.6702,8.1375,7.0396,6.5345,6.4893,6.4935,6.079,5.4134,5.4755,5.9958,6.7455,7.9304,9.3818,10.005,10.197,10.362,10.071,9.0326,8.6055,7.815,6.3292,5.2115,4.9731,4.5728,4.2643,4.2732,4.2691,4.393,3.8907,3.7124,5.1136,6.3887,8.2123,10.198,11.121,11.246,11.291,11.052,9.9509,9.0512,8.2406,7.8063,6.9265,6.2019,5.838,5.6929,5.5346,5.7913,5.3449,5.1123,5.3562,6.094,7.4314,8.5936,9.8173,10.343,10.712,10.599,10.69,10.247,9.2286,8.8895,8.5251,6.8583,5.4839,5.1159,4.9338,4.8061,5.2138,5.746,5.9927,6.3223,6.734,7.1418,7.4561,7.4089,7.3384,8.2968,9.3303,10.137,10.438,9.8976,9.94,9.9082,10.508,10.462,12.184,12.62,13.981,14.742,14.991,14.867,14.475,14.936,14.956,15.399,16.093,15.829,16.092,16.295,16.397,16.881,16.977,17.435,18.118,18.256,17.916,17.937,17.99,18.345,18.925,18.864,17.91,17.167,15.17,15.144,15.802,15.794,15.327,15.212,15.034,15.403,15.461,15.821,16.402,16.416,14.628,13.126,12.453,11.837,11.218,10.958,11.133,10.816,10.367,9.8253,9.1004,8.4583,7.0444,7.4793,7.757,7.9574,8.0879,8.1587,8.0879,7.9906,7.9425,8.0706,8.0643,8.0512,8.0003,7.7199,7.346,7.1416,7.2742,7.2804,7.1797,7.2261,7.3346,7.2752,7.2419,7.334,7.6131,8.0856,8.3858,8.5583,8.8214,9.2077,9.3188,9.2426,8.7846,8.3514,8.1364,7.6534,7.4401,6.8768,6.0245,5.4182,5.7219,5.8848,5.5817,5.4317,5.2603,4.9838,5.0631,5.1721,6.2324,7.315,8.3328,9.025,9.3045,9.2169,8.8609,8.3759,7.6279,7.2977,7.5282,7.5387,7.5363,7.3843,7.4267,7.7222,7.6417,7.6345,7.4278,6.9381,6.991,7.2087,7.1966,7.296,7.3752,7.3361,7.4467,7.2602,6.9274,7.0533,7.1476,7.2451,7.3472,7.2666,7.2007,7.2855,7.3476,7.3896,5.7826,5.6669,6.0859,7.2745,8.8629,9.6107,9.7717,9.9905,9.8237,9.8056,9.2066,8.7413,8.1971,6.8928,5.6221,5.0085,5.3039,5.6397,5.866,5.8573,5.6602,5.0232,4.4065,4.2052,5.0307,7.8042,9.3252,9.9308,10.554,11.127,11.612,11.76,11.722,11.257,10.859,10.649,10.619,10.03,9.0172,8.8861,7.9027,7.5923,7.3109,6.6235,7.0321,8.1267,8.4214,7.6014,6.7555,6.4174,6.0853,5.9799,6.4816,6.0479,6.1547,5.8473,5.5259,4.9922,4.5208,4.3754,4.4465,4.128,3.7288,4.9469,5.442,6.1658,7.2118,7.8582,8.0043,7.6406,6.3196,5.6147,5.3847,5.3236,4.9114,4.6504,4.2032,3.8848,3.7718,3.5608,3.2378,3.4337,3.6819,3.2929,3.2696,3.4786,3.6541,3.876,4.6557,5.51,5.9982,5.9881,5.4841,5.1745,4.9214,4.7494,4.0273,3.7054,3.4226,3.3332,3.3198,3.0095,3.3885,3.2612,2.7919,2.4947,1.5895,1.2156,1.066,1.8092,3.0133,4.0092,4.6915,4.8825,4.9828,4.9065,4.7921,4.3736,3.9773,3.7387,3.6869,3.747,7.8287,8.9876,10.056,10.872,11.039,11.051,11.125,10.725,10.083,9.6114,9.0137,8.353,7.9903,7.9469,8.2818,6.0117,6.8112,10.051,11.744,12.581,13.222,13.454,13.408,13.353,12.377,11.944,11.685,11.397,10.779,11.187,11.023,10.19,9.2874,8.5052,8.8312,9.108,10.415,11.465,11.895,11.392,11.243,11.141,10.977,11.035,11.525,10.267,9.8921,10.052,10.437,10.814,10.85,10.366,10.013,10.204,10.361,10.362,10.389,10.824,10.986,11.421,11.559,11.585,11.888,11.809,11.182,10.882,10.616,10.344,10.381,10.504,10.587,10.731,10.602,10.597,10.634,11.113,10.416,10.513,11.145,11.937,11.725,11.691,11.373,9.983,8.6494,7.4819,6.0853,5.1309,4.3253,3.425,2.5549,2.0414,1.6049,0.96726,1.0269,1.8178,1.7382,1.4308,1.5376,1.3562,2.1448,2.1902,1.4993,1.2887,0.91765,1.7212,2.2605,1.8587,1.3718,1.2597,1.3499,1.6283,1.7572,1.8597,2.4281,2.9889,3.7768,4.8568,5.5214,5.3292,5.3256,4.9795,5.0385,5.2707,5.7183,5.8282,6.0684,7.1127,5.7784,4.81,4.6623,5.1146,5.501,5.5635,5.3953,4.5505,3.5168,2.8258,2.4415,2.4212,2.8924,3.4934,4.3653,5.047,5.4218,5.3312,5.0618,4.6693,4.2584,3.9148,3.6207,3.2349,3.0792,3.0143,2.7754,2.4809,2.3309,1.2954,2.445,3.9659,5.27,6.1424,6.4672,6.5781,6.5522,6.5265,6.6011,6.1482,4.9249,4.2008,3.9947,4.0597,3.9213,3.7667,3.6891,4.0969,4.9549,6.2545,7.3431,7.7227,8.3036,8.472,8.3054,7.5717,7.248,6.9269,6.0407,5.3375,4.7007,4.0485,3.5532,4.0228,4.3023,5.8738,8.4404,9.5155,9.9104,10.055,10.137,10.25,9.7506,9.0844,8.5527,7.6729,6.6798,5.5429,4.9102,4.8649,4.72,4.567,4.5357,4.493,4.3607,4.1392,4.2432,5.0159,7.0302,9.4356,10.321,10.856,11.063,10.937,10.97,11.166,10.467,9.6933,8.7432,7.8701,7.2747,6.7789,6.5287,6.5382,6.3957,6.402,6.8741,7.2455,7.3387,7.295,7.1854,7.0234,8.1581,9.3873,9.9721,10.56,11.37,12.174,11.612,10.72,9.8731,8.9965,8.5196,8.3643,8.159,7.8923,7.6564,7.6039,7.561,7.5737,7.9615,8.133,7.997,7.9755,7.9101,7.4956,7.5119,7.901,8.3782,8.7986,9.6556,10.4,10.718,10.223,9.6708,9.1702,7.7287,6.6479,5.7614,4.9524,4.2089,3.6143,3.8517,4.077,4.1953,4.4968,4.4969,4.9799,6.5029,8.6184,9.9847,10.559,11.303,11.791,12.053,11.7,11.101,10.37,9.8421,8.7709,7.5485,6.9993,6.6824,7.1712,7.8341,8.1149,7.9048,7.9897,8.1502,8.2613,8.8988,9.7865,10.99,12.067,12.666,13.431,14.239,15.424,15.797,15.548,14.755,13.913,13.531,14.075,13.977,12.95,11.457,10.773,9.6582,8.6185,7.5867,6.5983,5.995,5.6687,5.8889,6.5454,8.7803,11.516,12.312,13.808,14.709,14.237,14.063,13.477,12.163,11.408,11.113,11.125,11.048,11.154,11.402,10.616,10.047,9.5064,8.7489,8.0869,7.8284,7.5069,7.3024,7.2795,7.3923,7.6688,8.0621,7.9425,7.8278,7.4341,7.1572,6.7802,6.5286,6.4634,6.6235,6.6168,6.3199,6.2745,6.1014,5.5053,5.348,5.4308,5.1585,4.8755,4.5102,4.0106,3.8119,4.105,4.7733,5.1621,5.1748,5.4596,5.629,5.7278,5.7394,5.5005,5.089,4.4514,3.8377,3.2981,2.8821,2.7701,2.7021,2.1517,2.1272,2.0724,1.813,1.4988,0.97877,0.5223,0.86433,2.0014,3.2082,4.3447,5.3209,5.8359,6.1231,6.2781,6.5627,6.2695,5.7297,5.3738,3.8875,3.9597,5.2582,5.1415,5.1638,5.2961,5.2792,5.3605,5.1887,4.2271,4.1087,3.9354,4.5527,5.8873,7.0457,7.7507,8.5377,9.3349,10.028,10.776,11.24,11.091,10.584,10.362,10.524,10.581,10.531,10.241,10.221,10.248,10.066,9.737,10.087,10.131,9.9144,9.7772,10.283,11.1,11.11,11.261,10.387,7.9717,7.4957,7.2314,7.9111,8.4593,8.363,8.3858,8.3781,8.212,7.6578,7.4637,6.7666,5.7683,5.0621,4.9066,4.8103,4.3321,3.6425,3.7836,5.0853,6.9968,8.3821,9.1193,9.8277,10.436,11.122,11.743,12.006,11.483,10.434,9.3597,8.332,7.4976,6.9722,6.9926,6.9365,6.7853,6.4929,5.8821,5.2343,5.3891,5.7918,6.2251,7.3166,8.0507,8.7816,9.3256,10.214,11.035,10.897,10.748,10.423,10.065,9.9875,9.3863,8.8793,8.4103,8.1437,8.1429,8.0826,7.7149,7.4535,7.5426,6.9868,6.4709,6.446,7.0186,7.5736,8.1595,8.9244,9.6768,10.703,11.538,11.65,11.048,9.8987,8.9222,7.7949,7.2231,6.7918,6.261,6.0532,5.8301,5.5908,4.7111,4.0458,4.1452,3.8668,3.5375,3.944,5.4884,7.3725,8.7768,9.7695,10.501,11.088,11.255,11.127,10.586,9.6208,8.5556,8.0244,7.7445,7.2553,6.9787,6.8985,6.8918,6.9417,7.0737,7.1695,7.1353,7.1697,7.2756,7.3547,7.6603,8.2358,8.7179,9.5046,9.8142,9.6964,10.179,10.402,10.287,10.14,9.9266,9.3463,8.9833,8.8908,8.8296,8.7702,8.6452,8.6801,8.7494,8.4856,8.4358,8.4151,8.2148,8.1513,8.2555,8.8711,9.8002,10.425,10.435,10.449,10.621,10.491,9.788,8.9717,8.3444,7.4232,5.9728,6.8821,8.0409,8.4225,8.6516,8.9849,9.3453,9.7199,9.8347,9.4939,9.0388,8.4946,7.82,7.1078,6.7861,6.5148,6.2776,6.1052,5.5635,5.3652,5.2119,4.9688,4.8785,4.3657,4.317,5.2695,6.485,7.0672,7.93,8.1108,8.3218,8.18,8.0702,7.9232,7.8488,7.4863,7.1256,6.6922,6.3432,5.7562,4.9798,5.3343,5.3862,5.1999,4.9542,5.225,5.4947,5.6443,5.9188,5.9949,6.1332,6.4016,6.6176,6.779,7.1495,7.2656,7.3435,7.5233,7.5102,7.5081,7.0953,6.7563,6.8548,7.0374,7.105,7.2746,7.5522,7.5611,7.7575,7.7184,7.4574,7.355,7.0337,7.3533,8.0443,8.759,8.9862,9.3424,9.9163,10.11,9.9517,9.4628,9.2354,8.8681,8.3642,7.9429,7.5183,6.6875,6.2502,6.3809,6.7443,7.1312,7.4427,7.65,7.7547,7.7127,7.5791,8.7578,9.7396,10.51,11.358,12.382,13.261,12.176,10.91,10.173,9.5559,9.2141,8.8031,8.0673,8.4188,8.8239,9.1092,9.4314,10.003,9.6899,9.4025,9.3669,9.0844,8.8795,8.9166,9.3549,10.714,11.193,10.233,8.8748,7.6626,7.0193,6.6451,5.9363,5.8975,6.2154,6.1006,5.7867,5.2769,4.9111,4.5365,4.5224,4.5285,5.3809,5.2986,4.5053,5.5349,6.9742,8.1487,9.2559,10.258,11.124,11.723,11.245,11.061,10.703,10.019,9.316,7.7928,6.9397,5.8946,5.7588,5.4678,4.7724,4.492,7.4977,9.7135,10.633,11.579,12.25,12.954,13.688,13.819,13.871,13.517,12.66,11.843,11.244,9.7124,8.0714,7.047,6.4857,5.8712,6.2453,6.8875,6.7141,5.7417,5.4011,5.938,7.6193,10.428,12.455,13.873,14.836,15.85,16.792,17.139,17.035,16.797,15.358,13.239,12.135,11.74,11.5,11.245,10.592,9.2208,8.9181,8.3057,8.0645,7.4048,6.9507,7.3963,9.4318,12.255,14.57,15.593,16.393,17.327,18.178,18.387,18.771,18.101,15.899,14.364,13.291,13.023,12.2,11.523,11.207,10.283,9.8083,9.2652,8.6929,8.2899,8.2515,8.913,11.421,13.109,14.493,15.851,17.001,18.467,19.521,18.526,17.451,16.459,14.888,13.335,12.452,11.946,11.242,10.5,9.7297,9.3381,9.636,9.6415,9.5042,9.3677,9.4411,9.59,10.541,11.786,12.364,13.768,14.945,15.525,16.136,16.447,15.242,14.148,14.411,14.31,13.091,12.061,10.912,10.152,9.8837,10.481,10.009,9.4059,8.8245,8.5787,8.4456,8.9254,11.128,13.123,14.243,14.403,16.51,17.392,17.521,17.342,16.999,15.973,15.438,14.95,14.411,13.458,12.601,9.8045,9.3398,8.7751,8.3303,8.2342,7.9094,8.0315,8.7476,10.744,13.698,15.046,15.64,16.483,17.737,18.639,18.228,18.24,17.662,15.629,14.809,14.254,13.584,11.994,10.716,10.031,9.7321,9.7232,9.6306,9.6312,8.8999,7.8267,8.4497,10.304,12.669,13.335,14.561,16.397,18.292,19.523,19.863,19.018,19.013,18.663,17.484,15.59,14.686,14.483,14.536,13.841,13.357,13.264,12.417,12.092,11.967,11.979,13.459,15.166,16.556,17.543,18.531,19.13,20.091,19.616,18.695,17.902,17.525,16.948,15.745,14.437,13.352,12.534,11.007,10.894,10.538,9.6686,12.71,14.371,16.402,17.861,17.243,16.518,15.952,15.456,14.34,13.033,11.974,11.404,11.031,10.853,10.708,10.523,9.5861,9.1649,9.3639,9.3576,8.9657,9.1492,10.103,10.775,11.845,12.773,13.284,13.482,13.485,13.309,13.336,12.877,12.367,11.989,11.732,11.652,11.638,10.764,10.128,9.7494,9.7201,9.9345,10.048,10.382,10.271,10.559,11.494,12.926,13.57,13.748,13.959,13.027,13.077,14.058,14.316,14.441,13.485,12.859,12.164,10.534,9.4447,8.4787,7.678,7.4612,8.37,8.6738,8.572,7.945,7.0877,7.4901,10.096,12.274,13.637,14.74,15.615,16.761,17.506,17.662,17.934,17.445,15.869,14.686,13.976,14.065,14.105,14.277,14.223,14.096,13.74,13.584,13.532,13.762,14.016,14.049,14.697,15.023,15.338,15.773,15.715,15.236,14.76,13.602,12.582,12.5,12.767,12.851,12.484,12.106,12.223,11.786,11.016,10.385,10.695,10.147,10.484,9.58,9.5177,11.237,12.611,13.772,14.746,15.256,16.092,16.931,17.201,17.1,17.637,17.394,15.629,14.749,14.009,12.892,12.128,11.585,13.119,13.566,13.081,11.436,10.111,9.8025,10.278,12.612,15.168,16.454,17.115,18.544,19.338,19.359,19.827,20.151,19.619,14.971,10.73,9.7444,9.0928,8.3819,7.544,6.2941,5.8088,6.2205,6.6964,7.2194,7.9963,7.9468,7.5976,7.5437,8.0626,9.1867,10.465,11.512,12.172,12.8,13.288,13.303,13.125,12.653,11.34,10.506,10.212,9.4016,7.9999,7.1834,6.4643,6.2771,6.2723,6.1406,5.8519,6.5204,8.5815,11.428,13.024,13.89,14.657,15.65,16.163,16.132,15.887,15.482,14.746,13.951,13.354,13.016,12.674,12.206,11.108,10.741,10.301,9.2585,8.8932,8.4635,8.3597,9.2776,11.524,14.043,15.144,15.571,16.147,17.299,18.139,18.67,18.487,18.98,17.898,16.294,16.132,16.47,16.615,16.925,16.099,15.228,14.907,14.381,13.863,13.064,12.878,13.044,13.812,15.448,17.741,19.221,20.097,21.313,20.932,19.317,19.07,19.176,18.585,17.423,17.124,17.254,17.459,16.993,16.917,16.649,15.771,15.343,14.585,14.136,13.548,14.009,15.828,18.021,18.938,19.879,20.839,21.365,21.643,21.916,21.368,20.402,19.042,18.158,17.385,16.99,17.109,16.449,16.149,16.812,17.364,17.203,16.972,16.653,16.445,16.769,17.7,18.799,19.372,20.16,21.005,22.458,23.174,23.418,22.321,21.468,20.081,18.399,17.71,17.43,16.399,16.028,15.984,15.959,15.575,15.23,15.347,15.75,15.688,15.768,17.196,19.198,20.797,21.44,22.314,22.568,22.876,22.698,22.18,21.517,20.086,19.474,17.838,17.168,15.822,15.078,14.725,14.138,12.608,11.509,10.022,9.3354,8.5757,7.951,7.7117,7.9822,8.4235,8.8852,9.4622,9.7432,9.9506,10.386,10.16,9.8192,9.714,9.6745,9.6601,9.6448,9.6601,9.594,9.5558,9.5951,9.5903,9.5949,9.6275,9.6967,9.8815,10.068,9.7014,9.3269,9.4451,9.5119,9.4983,9.5105,9.6245,9.7617,9.7551,9.761,9.7543,9.6098,9.6129,9.6841,9.7505,9.4637,8.8422,8.1064,7.7849,7.9967,7.9972,7.7246,7.6627,8.4694,9.6082,10.749,11.612,12.603,13.463,14.31,14.765,15.017,14.908,14.6,14.491,14.991,14.475,14.091,11.689,9.3743,8.4214,7.6596,7.1266,6.8967,6.8863,6.6236,6.929,8.505,10.75,13.874,15.509,17.015,17.752,18.37,19.772,20.092,20.438,20.434,18.833,16.397,16.159,15.326,14.672,13.537,12.853,12.585,11.941,11.378,10.675,9.9557,9.8183,10.476,12.784,15.434,16.353,17.978,18.076,18.007,18.588,18.503,18.349,18.693,18.561,17.747,16.818,16.6,16.515,16.538,16.413,16.261,16.208,16.167,15.794,15.25,14.845,15.309,15.735,16.557,17.468,17.158,17.442,18.504,17.695,17.724,18.454,18.245,18.612,18.378,19.091,19.795,20.201,18.492,19.221,19.73,20.861,21.353,21.116,20.72,20.09,18.8,19.142,19.26,19.115,18.993,17.479,16.894,15.583,15.093,15.179,14.926,15.623,15.955,16.394,17.657,18.502,19.395,20.387,21.559,21.996,22.548,22.542,21.992,21.464,20.314,17.919,17.271,17.058,17.09,17.096,16.654,16.006,15.245,16.562,19.395,18.604,19.375,18.575,17.988,17.96,18.378,19.04,20.261,21.217,21.685,20.772,19.845,19.931,19.689,18.708,18.067,17.852,17.646,17.478,17.322,17.357,18.575,19.431,19.899,19.905,19.033,18.406,18.842,19.486,20.401,19.65,18.618,18.789,18.924,19.008,18.439,17.027,17.045,16.279,16.18,15.912,14.705,14.247,14.212,14.288,14.217,14.27,14.472,14.827,15.087,15.22,15.338,16.176,16.983,18.02,19.26,20.199,20.132,20.459,20.271,19.541,19.013,18.194,17.483,17.114,17.702,19.342,19.912,20.095,21.217,21.972,23.274,23.946,24.005,22.917,21.701,21.217,20.494,19.382,18.209,15.622,15.907,16.018,16.489,16.745,16.48,17.004,16.666,16.119,14.897,15.162,16.788,18.065,19.073,20.336,21.788,21.975,21.434,20.378,19.202,17.401,16.29,15.622,15.201,14.545,13.845,13.497,12.418,11.911,10.746,10.293,10.897,12.32,14.643,16.334,17.835,19.213,19.831,20.799,21.538,22.252,22.581,21.894,20.973,19.043,17.695,16.351,15.098,13.797,12.401,12.068,11.697,11.63,11.421,11.601,13.387,16.097,17.608,18.435,19.777,21.747,21.604,21.741,21.27,21.038,21.714,21.121,19.112,18.665,17.832,16.689,15.488,14.42,13.802,13.375,13.099,12.906,12.792,13.107,14.678,17.14,18.192,19.227,19.861,20.535,21.23,21.452,21.621,22.237,23.292,22.947,20.932,20.852,20.616,19.586,18.887,18.391,17.905,16.814,15.823,14.885,13.951,13.869,14.665,16.795,18.66,19.84,20.712,21.629,22.549,23.52,23.6,23.306,22.743,21.866,20.033,19.001,18.164,17.529,16.076,14.916,14.424,14.55,15.257,16.118,16.105,16.299,17.057,17.27,17.541,18.614,19.041,19.503,20.283,20.537,20.773,21.123,20.325,19.664,18.355,17.06,16.387,15.719,15.147,14.289,15.519,17.159,18.662,20.428,22.033,23.296,23.826,24.013,24.141,24.008,22.945,21.519,19.678,17.765,16.441,16.145,15.026,15.748,22.625,23.025,24.328,23.667,22.507,20.802,19.05,15.24,14.794,14.782,15.055,15.618,16.732,18.448,20.201,21.301,21.875,22.772,23.453,23.403,23.746,24.5,23.594,21.604,20.628,19.365,18.17,16.816,15.832,15.288,14.861,14.477,13.208,13.083,15.043,17.518,19.139,19.98,20.473,21.107,22.026,22.558,23.036,23.063,24.317,23.827,22.053,20.087,18.47,17.696,16.955,14.496,17.102,19.654,21.38,22.689,23.914,24.841,25.586,25.475,25.112,24.903,24.601,23.612,21.818,19.759,18.497,17.899,17.506,16.162,17.158,18.396,19.823,21.242,22.431,23.343,23.953,24.639,24.479,22.818,22.68,22.696,21.622,20.489,19.454,18.294,17.337,16.043,15.429,15.029,14.827,15.348,16.278,18.288,20.028,20.681,22.096,23.792,24.836,25.39,25.352,24.457,22.704,21.556,19.816,18.717,18.669,18.081,16.83,16.268,16.033,15.843,15.252,15.383,15.491,16.961,19.14,21.184,22.706,23.994,24.438,25.194,25.693,25.798,25.578,25.104,23.629,22.577,21.237,19.99,19.019,19.245,18.455,17.963,17.283,16.844,16.513,16.566,17.299,19.161,21.575,22.776,23.721,25.063,25.869,25.744,25.471,25.312,24.857,24.329,23.294,21.841,20.14,19.114,18.773,18.426,18.255,18.266,18.239,18.031,17.88,17.828,18.254,18.944,19.575,20.142,20.731,21.609,22.092,22.386,22.717,22.723,21.583,19.975,19.265,18.922,18.637,18.546,18.572,18.609,18.608,18.608,18.679,18.709,18.68,18.559,18.615,18.949,19.417,19.646,19.746,20.352,20.836,20.903,21.416,21.751,21.994,21.78,21.339,20.955,20.677,20.2,19.853,19.567,19.72,19.628,19.413,19.296,19.331,19.371,19.588,19.767,20.212,21.611,22.972,24.096,24.703,23.999,24.252,25.353,24.907,24.335,23.83,22.265,21.02,20.369,19.759,19.294,19.303,19.427,19.132,18.298,18.48,19.41,20.387,21.34,21.972,22.175,21.673,21.598,22.23,21.971,21.385,20.601,19.922,19.312,18.575,18.286,18.347,18.205,17.81,21.075,20.801,20.638,20.085,19.496,18.897,18.673,18.373,17.927,17.363,17.005,16.862,17.246,17.987,18.869,19.676,20.179,20.941,21.698,22.681,21.367,20.308,19.812,18.901,18.077,17.378,16.861,15.991,15.359,14.827,14.388,14.51,14.722,14.96,15.167,15.811,16.8,17.746,18.91,19.707,20.658,21.388,22.002,21.347,20.636,21.554,21.515,21.129,20.257,18.664,18.316,21.094,21.76,21.823,20.047,20.44,22.191,21.559,20.198,18.712,19.424,20.806,22.461,21.147,19.263,20.14,21.379,22.007,21.992,22.002,21.842,21.02,19.687,18.765,18.17,17.851,18.3,17.558,16.632,15.7,14.98,14.263,13.795,14.302,16.854,19.774,21.231,22.181,22.116,22.564,22.715,22.766,22.521,23.08,23.1,22.932,21.832,20.863,19.78,18.417,18.048,17.989,17.987,17.465,17.357,17.359,17.347,17.703,18.356,18.688,18.678,18.672,18.906,18.908,18.812,18.907,18.876,18.406,17.697,17.354,17.016,16.925,16.972,17.267,17.527,17.511,17.316,16.807,16.353,16.202,16.078,16.604,17.569,18.692,19.379,20.378,21.155,20.135,20.087,21.148,21.655,22.073,21.7,21.586,20.883,19.524,18.801,18.35,18.131,17.708,17.458,17.344,17.208,16.843,16.443,16.447,16.765,17.636,18.258,19.386,20.72,21.382,21.878,23.066,21.821,20.387,19.932,20.174,20.447,19.81,19.227,18.212,17.689,17.487,17.413,17.045,16.481,15.891,16.014,17.013,18.331,19.569,20.584,21.842,23.144,23.478,23.696,23.81,23.754,23.933,23.639,22.824,21.397,20.282,19.712,18.785,17.895,17.205,16.322,15.616,15.062,14.589,14.569,15.546,17.573,19.644,20.957,21.578,22.522,23.942,24.565,24.915,25.356,25.439,25.132,23.695,22.692,22.167,21.073,19.833,18.999,18.478,17.577,17.14,16.468,15.719,14.921,14.598,16.748,19.144,20.73,22.184,23.467,24.232,24.334,23.796,24.542,24.885,24.904,24.117,22.172,19.942,19.827,19.408,18.317,17.434,16.942,16.746,16.303,16.12,15.58,15.741,17.753,20.139,22.185,23.395,24.512,25.387,23.824,22.319,21.642,21.468,22.316,22.919,21.892,20.974,18.868,17.678,17.193,17.009,17.094,17.058,16.642,16.668,17.161,17.843,18.507,19.391,20.491,21.227,21.77,23.106,23.758,23.781,22.142,19.755,19.311,18.509,17.568,17.172,18.133,17.773,17.702,17.638,18.048,18.091,18.231,18.67,19.318,20.041,20.733,21.652,21.385,20.197,20.801,19.515,18.232,17.787,17.432,17.351,17.126,16.571,16.432,16.659,17.24,17.019,16.341,16.39,16.518,17.548,19.056,20.023,20.89,22.214,23.202,23.783,22.676,22.452,21.827,20.427,19.676,18.977,18.168,18.497,18.728,18.639,18.381,18.159,17.9,17.257,17.203,17.057,17.36,17.884,18.443,19.183,20.049,21.639,22.87,23.487,24.011,24.247,24.431,24.165,23.404,22.381,20.745,19.816,19.183,18.142,17.327,17.0,16.364,15.831,15.411,15.207,15.245,15.899,17.128,19.659,22.181,24.244,25.024,25.125,25.204,25.677,25.68,24.824,23.609,22.249,21.516,20.939,20.604,19.725,20.804,18.938,18.623,18.557,18.113,18.179,18.81,21.084,22.592,23.942,25.419,26.011,26.836,27.996,28.735,28.999,29.225,29.075,27.437,25.364,24.478,24.023,22.326,20.752,19.7,19.047,18.487,18.308,17.842,17.868,18.496,20.612,23.328,24.836,26.564,27.094,27.876,28.399,28.695,29.141,30.64,30.098,28.843,27.692,25.4,23.483,21.587,20.28,19.562,18.945,18.379,18.091,17.899,18.054,18.95,21.347,23.673,25.197,27.159,27.705,28.007,28.751,29.631,30.511,30.609,29.641,28.083,26.463,25.557,24.164,22.488,21.359,20.313,19.53,19.007,18.727,18.542,18.516,19.322,21.966,24.296,25.778,27.807,28.79,28.945,29.144,28.79,28.857,28.426,27.083,25.866,25.257,24.787,23.779,22.755,21.83,20.647,20.176,20.062,20.107,20.929,22.272,23.281,23.959,24.695,25.548,26.513,27.582,28.016,27.529,25.287,23.575,22.949,22.553,22.137,21.69,21.157,21.128,20.946,20.641,20.062,19.254,18.819,18.679,18.787,20.096,21.694,22.887,24.332,25.685,26.009,26.51,26.842,26.896,26.382,26.004,25.363,24.698,23.428,22.141,21.035,19.785,18.193,17.244,16.671,16.159,15.989,16.023,17.081,19.72,22.278,23.66,25.118,26.398,27.863,28.533,29.026,28.856,29.014,29.036,27.923,26.083,24.749,23.746,23.125,22.313,21.359,19.792,18.523,17.824,17.3,17.387,18.882,21.314,22.66,24.182,26.337,27.515,28.402,28.711,28.634,28.147,27.995,27.499,26.197,24.525,23.152,22.099,21.397,20.926,20.16,19.822,19.654,19.985,20.231,20.251,20.928,22.077,23.102,24.199,25.604,26.481,27.232,27.878,27.731,27.447,27.107,26.728,25.892,24.166,23.021,22.332,21.564,21.023,20.431,19.986,19.529,19.255,18.481,18.2,18.804,20.683,22.11,23.591,25.426,26.03,26.745,27.678,28.072,28.389,28.304,27.85,27.347,26.554,25.899,25.374,23.937,22.452,21.681,20.851,20.439,19.506,19.297,19.12,20.35,23.444,25.4,27.403,29.598,30.245,30.72,31.773,31.74,31.958,32.518,32.855,32.285,31.506,28.546,26.713,25.149,23.828,22.823,22.323,21.968,21.832,21.509,21.13,21.921,24.328,26.245,28.528,31.505,32.036,32.573,33.287,33.111,32.735,32.585,32.363,31.03,29.676,28.839,27.948,26.285,24.909,24.092,23.605,23.041,22.691,22.282,22.287,23.572,25.073,26.502,28.416,30.949,31.95,31.997,32.238,32.399,31.221,30.271,29.223,27.947,26.469,25.501,25.093,24.844,24.478,24.648,24.594,24.005,23.947,23.472,23.667,25.344,26.828,28.182,29.105,29.077,29.406,29.756,30.001,29.781,29.162,28.621,27.936,26.741,25.497,24.6,23.765,22.959,22.102,21.999,21.997,21.951,22.057,22.331,23.093,24.573,26.043,27.352,28.471,28.666,28.83,29.065,29.192,29.067,28.53,27.783,26.793,25.43,24.09,23.343,22.915,22.539,22.295,21.787,20.176,19.149,19.236,18.908,20.054,22.544,24.413,25.674,26.645,26.741,27.029,27.29,27.465,27.536,27.339,26.887,25.949,24.828,23.613,22.799,22.411,22.221,21.974,20.72,19.896,19.687,19.374,19.477,20.639,22.966,24.515,25.997,26.966,27.008,27.369,27.692,28.042,28.136,27.976,27.486,26.755,25.721,24.668,24.086,23.612,23.304,23.123,23.146,23.342,23.579,23.601,23.693,24.389,25.359,26.164,27.084,27.946,27.813,27.977,28.371,28.408,28.391,28.276,28.051,27.561,26.62,25.859,25.543,25.384,25.467,25.414,25.599,25.705,25.327,25.077,24.875,25.222,26.169,27.307,28.381,29.57,29.66,29.9,30.025,29.832,29.45,29.011,28.336,27.303,26.187,25.096,23.984,22.805,21.64,21.046,20.541,20.086,20.294,20.543,20.882,22.112,24.452,26.015,27.317,28.111,28.273,28.965,29.551,29.57,29.449,29.394,29.024,28.033,26.679,25.38,24.536,23.359,22.716,22.079,21.932,22.0,22.471,22.349,21.892,22.963,24.852,26.27,28.095,29.074,29.361,29.654,30.529,31.028,31.233,31.154,30.936,29.97,28.527,27.182,26.126,25.564,25.113,23.799,23.119,23.32,23.282,23.04,23.47,24.289,26.126,27.485,28.578,29.792,30.658,31.169,32.003,32.879,32.892,32.305,31.639,30.783,29.282,27.721,26.539,25.425,24.349,24.224,23.709,23.204,23.072,23.045,23.347,24.427,25.43,26.773,28.384,29.767,30.192,30.75,31.125,31.429,31.314,30.809,30.062,28.806,27.587,26.863,26.357,25.796,25.506,25.368,25.153,24.778,24.552,24.47,24.408,24.887,25.448,26.86,27.801,28.751,29.462,30.12,30.378,30.771,30.474,30.123,29.744,28.793,27.73,26.674,25.581,25.117,24.503,23.845,23.164,22.701,22.307,21.949,21.895,22.442,24.263,26.324,28.337,30.801,31.1,30.577,30.919,31.536,31.932,30.261,28.517,27.205,26.479,26.106,25.762,25.412,25.229,25.389,25.501,25.413,25.151,24.576,24.106,24.148,24.503,25.213,26.448,27.002,26.772,26.743,27.05,27.128,27.133,27.153,26.957,26.311,25.37,24.574,23.657,22.198,21.219,20.608,20.101,19.796,19.697,19.524,19.35,19.833,21.504,24.177,25.701,26.809,27.568,28.446,28.718,27.875,27.542,27.648,27.477,26.854,25.637,24.522,23.346,22.157,21.418,20.611,20.169,20.01,19.165,18.593,18.525,19.254,21.672,24.081,25.448,26.925,28.312,29.097,29.307,29.341,29.058,29.267,28.975,28.114,26.999,25.483,24.45,23.785,23.102,22.803,21.941,21.206,20.45,19.848,20.183,21.425,23.7,25.634,26.807,28.103,28.456,28.602,28.906,29.16,29.046,28.69,28.129,27.312,26.174,25.117,24.173,22.653,21.972,22.02,20.996,20.394,19.542,19.047,18.981,20.049,22.531,23.935,25.341,26.103,27.039,27.194,27.495,27.9,27.846,27.604,27.084,26.399,25.58,24.826,23.989,23.358,22.412,20.888,19.931,19.466,19.397,19.246,19.571,20.809,23.726,25.468,26.58,27.54,27.758,28.027,28.187,28.212,28.253,28.006,27.606,26.978,26.01,25.066,24.42,23.579,22.478,21.976,21.929,21.116,20.786,20.687,20.684,21.841,23.964,25.833,27.103,28.116,28.701,29.147,29.571,29.651,29.679,29.628,29.265,28.62,27.497,25.932,24.131,22.822,21.539,20.989,20.662,19.657,18.733,18.431,18.82,20.078,22.38,25.331,27.869,29.977,30.078,30.206,30.614,31.182,31.286,31.643,31.416,30.623,29.065,27.766,26.905,25.454,24.412,23.328,22.175,21.615,21.48,21.449,21.63,22.997,25.521,28.033,29.469,31.133,32.133,32.648,33.115,33.445,33.648,31.936,30.85,30.303,29.769,28.801,27.586,26.713,26.14,25.65,24.943,24.196,23.972,24.161,24.777,25.544,26.381,27.437,28.096,28.569,29.369,29.549,29.8,29.979,29.986,29.823,29.692,29.255,28.136,26.9,25.623,24.493,23.619,23.112,22.411,21.659,20.968,20.555,20.537,21.716,23.881,26.499,28.881,30.855,31.087,31.285,31.826,32.426,32.573,32.323,32.529,31.363,29.997,29.469,28.064,27.226,26.235,25.413,24.874,24.408,24.254,24.11,24.263,24.924,26.206,27.863,29.086,30.71,31.303,31.395,31.805,31.925,31.874,31.44,31.024,30.151,28.83,27.702,26.674,25.969,24.785,24.097,23.757,23.248,22.95,22.914,22.889,23.72,25.388,27.258,28.692,30.201,31.06,31.456,31.859,32.492,32.788,32.342,32.054,31.256,30.156,29.4,28.479,27.293,25.852,24.726,24.141,23.36,22.888,22.338,22.026,23.208,25.386,27.85,29.606,31.251,31.362,31.565,33.146,33.456,32.724,32.698,31.65,29.712,28.641,28.006,27.346,26.746,26.251,25.672,24.972,24.352,23.865,24.398,25.875,27.97,28.864,29.754,30.845,31.919,33.316,34.052,34.118,33.372,32.508,31.363,30.803,29.574,28.362,27.302,26.835,26.272,25.611,24.586,23.671,23.194,23.074,23.675,25.311,27.38,28.54,30.293,31.657,32.076,32.511,33.253,33.677,33.895,33.642,32.857,31.017,29.131,28.411,27.31,26.098,25.513,26.845,27.351,27.102,26.545,25.861,25.371,27.059,29.493,30.854,32.056,32.817,32.651,31.782,31.629,31.63,31.584,30.801,29.891,28.85,27.911,27.381,27.168,26.988,26.539,25.948,25.501,25.458,25.351,25.155,25.443,26.509,27.225,28.745,30.933,31.91,32.834,33.369,33.805,33.266,31.87,31.049,30.529,29.366,28.313,27.441,26.838,26.353,26.195,25.974,25.599,24.771,24.56,24.246,24.527,26.001,27.401,29.078,30.907,32.331,33.218,33.647,33.506,33.059,32.53,31.857,31.111,30.089,28.78,27.706,26.837,26.304,25.773,24.255,23.314,22.935,22.54,22.364,22.754,24.925,26.79,28.09,30.281,31.816,32.529,32.853,33.645,33.903,33.479,32.238,32.164,31.236,29.743,28.887,28.336,27.639,27.237,27.301,27.418,27.146,26.783,26.434,26.28,26.759,27.662,28.1,28.691,28.541,28.707,29.103,28.612,28.186,28.003,27.578,27.079,26.381,25.786,25.371,25.063,24.831,24.506,24.42,24.248,23.592,22.631,21.787,22.266,24.514,26.345,27.532,28.49,28.876,29.012,29.208,29.175,29.013,28.79,28.403,27.669,26.566,25.659,25.083,24.601,22.701,21.756,21.393,20.896,20.587,20.488,20.525,21.818,24.674,26.496,27.484,28.406,28.971,29.353,29.547,29.577,29.421,29.103,28.483,27.756,26.839,25.773,24.569,23.034,21.927,21.237,20.772,20.625,20.442,20.169,20.149,21.049,23.673,26.361,27.759,28.781,29.447,29.969,30.352,30.486,30.356,29.966,29.37,28.542,27.507,26.677,26.028,25.285,24.647,23.524,23.45,23.673,23.739,22.915,22.223,22.59,24.703,26.573,27.653,28.68,29.441,29.8,30.008,30.341,30.373,30.063,29.435,28.557,27.504,26.561,25.841,24.916,23.916,23.618,23.318,23.388,23.145,23.019,22.592,23.067,24.458,26.456,27.961,29.537,30.384,30.651,31.057,31.556,31.786,31.519,31.007,30.178,29.238,27.937,26.747,26.033,25.546,24.994,25.012,25.123,25.035,24.914,24.795,24.885,26.569,28.261,29.221,30.056,30.739,30.932,30.584,29.867,29.915,29.64,29.105,28.844,28.143,27.593,27.161,26.575,25.911,25.482,25.597,25.917,25.867,25.66,26.035,26.413,27.297,28.067,28.9,29.692,30.697,31.159,31.534,31.777,31.769,31.783,31.145,29.975,28.871,28.124,27.621,27.378,27.146,27.099,27.115,26.926,26.402,25.909,25.526,25.883,27.001,27.77,28.825,29.339,30.682,31.663,31.841,32.134,31.876,31.424,31.329,30.775,29.353,28.391,27.882,27.57,27.26,26.734,26.135,25.836,25.517,25.296,25.181,25.839,27.209,28.243,29.451,32.067,32.714,33.041,33.038,32.715,32.316,31.737,30.628,29.504,28.6,27.88,27.382,27.074,26.727,26.518,25.83,25.394,25.445,25.004,24.407,25.714,27.263,29.085,30.535,31.274,31.806,32.461,33.018,33.145,32.904,32.514,31.689,29.934,28.337,27.465,26.539,25.617,25.366,25.192,25.237,25.01,24.802,24.767,24.945,26.149,28.024,29.786,30.887,31.609,32.435,33.017,33.293,33.44,33.617,33.031,32.322,31.299,29.751,27.899,26.33,25.448,25.54,24.657,24.247,24.064,24.001,24.07,24.499,26.698,29.186,30.635,31.483,32.248,32.621,33.131,33.283,33.005,32.803,32.583,32.094,30.957,29.411,27.811,26.38,25.194,24.377,23.975,23.709,23.441,22.669,22.294,23.098,24.833,27.585,29.85,31.075,32.1,32.575,32.828,33.159,33.101,33.657,33.597,32.637,30.576,28.909,27.809,27.022,26.586,26.544,26.434,26.265,26.026,25.797,25.539,25.592,26.328,27.214,28.556,29.762,30.652,31.205,31.626,31.857,31.957,31.555,30.73,30.042,28.892,27.794,26.841,26.027,25.311,24.511,23.936,23.816,23.519,22.864,22.377,22.922,24.748,26.674,27.867,28.864,30.036,30.491,29.962,31.19,30.943,30.616,30.367,29.575,29.038,27.85,26.134,24.264,22.857,21.929,22.022,22.507,22.773,22.484,22.454,22.805,24.056,26.003,28.261,29.752,30.798,30.557,30.752,31.344,31.609,31.004,30.454,29.756,28.652,27.782,26.85,25.773,24.905,24.433,23.863,23.376,23.236,22.944,23.08,23.323,24.942,26.704,27.988,29.204,30.33,30.66,30.935,31.475,31.068,30.183,28.956,28.098,27.519,27.211,26.545,25.743,25.165,24.67,24.358,23.944,23.63,23.39,23.101,23.414,24.709,26.703,28.654,30.169,30.635,31.324,31.666,32.32,32.84,32.588,31.938,31.505,29.968,28.231,26.811,25.439,24.564,23.981,23.555,23.279,23.304,23.357,23.141,23.938,25.569,27.562,29.435,30.599,31.445,32.07,32.466,32.966,33.334,33.609,33.294,32.865,31.65,30.111,29.285,28.052,27.049,25.98,25.257,24.411,23.031,22.134,21.947,21.976,24.484,27.907,30.623,32.207,32.785,33.364,34.067,34.598,34.665,34.619,34.047,33.699,32.355,30.83,29.136,27.565,26.325,25.597,25.398,25.213,24.351,23.817,23.884,24.336,26.134,28.94,30.937,32.248,33.188,34.167,34.748,34.903,34.831,34.929,34.491,33.825,32.467,31.42,30.619,29.318,28.992,28.315,27.052,26.75,26.265,24.725,24.326,24.742,27.43,30.103,30.819,31.148,31.956,32.431,32.705,32.989,32.756,32.489,31.808,30.781,29.379,28.596,28.163,27.916,27.575,27.422,27.29,26.931,26.498,26.123,25.674,25.721,26.614,27.757,29.081,30.068,30.671,30.948,31.42,31.652,31.453,31.031,30.351,29.122,27.849,27.07,26.743,26.392,25.897,25.356,24.761,24.665,24.602,24.446,23.969,23.812,25.462,27.406,28.554,29.475,30.163,30.729,31.109,31.198,31.249,30.722,29.406,28.289,27.558,27.08,26.047,25.185,24.69,24.558,24.577,24.493,24.429,24.311,24.191,24.444,25.878,27.586,28.628,29.356,29.902,30.35,30.468,30.403,30.101,29.518,28.77,27.717,27.065,26.554,26.145,25.932,25.749,25.583,25.541,25.314,24.91,24.354,24.001,24.237,25.641,26.87,27.704,27.919,26.439,22.104,21.312,21.466,21.907,22.713,23.544,24.201,24.451,24.191,23.103,22.372,21.772,21.043,20.483,20.106,19.557,19.263,18.581,18.453,19.798,21.981,24.133,25.34,26.664,27.699,28.251,28.596,28.78,28.654,28.357,28.032,28.209,26.805,25.373,24.067,22.921,22.833,22.308,21.797,21.084,20.169,19.837,20.032,21.316,24.013,26.501,28.266,29.339,29.592,29.979,30.346,30.79,30.957,30.466,29.785,28.699,27.586,25.723,24.275,23.12,22.065,21.239,20.787,20.331,20.114,20.033,20.032,20.918,23.688,26.782,28.362,29.672,30.221,30.818,31.175,30.719,30.287,29.602,28.563,26.833,25.634,24.232,22.947,22.451,22.188,21.703,21.236,20.858,20.915,22.308,25.19,29.36,30.412,30.908,31.31,31.948,31.445,29.63,28.204,26.915,25.94,25.561,25.35,24.812,23.937,22.615,22.26,21.554,20.887,21.006,22.475,25.452,27.214,28.799,30.137,30.716,30.914,30.851,30.177,29.93,29.232,28.154,26.884,25.969,25.395,24.946,24.721,24.389,23.817,23.432,22.915,22.237,21.307,21.001,22.467,24.967,26.478,27.068,28.384,28.745,28.981,29.01,28.484,27.628,26.931,25.929,22.257,21.835,21.385,20.878,20.626,20.363,20.409,20.978,22.381,24.684,26.362,27.244,27.693,28.174,28.572,28.542,28.452,28.164,27.638,26.841,25.776,24.971,23.655,22.611,21.773,21.394,21.127,20.814,20.422,20.025,19.913,20.37,22.042,24.529,26.208,27.351,28.076,28.617,28.891,29.05,28.757,28.18,27.226,26.073,25.184,23.754,22.711,21.706,21.114,20.888,20.523,20.248,19.976,19.987,20.447,22.119,24.452,25.868,27.645,28.813,29.655,30.424,31.014,31.611,30.919,29.9,29.404,28.783,28.296,27.026,25.559,24.626,23.72,23.277,22.898,22.341,21.749,22.413,23.0,24.637,27.237,28.953,30.46,31.615,32.55,33.077,33.639,33.577,33.097,32.869,32.389,30.109,28.955,28.19,27.612,26.85,25.766,25.741,24.892,23.871,23.699,23.309,23.395,24.926,26.213,27.407,29.063,30.452,33.691,33.897,33.888,32.347,30.628,30.16,29.25,28.379,27.481,26.611,26.171,25.866,25.862,25.495,24.582,23.411,23.317,24.654,26.207,27.635,29.491,30.855,31.709,31.766,32.499,30.31,28.972,27.261,26.332,25.564,25.19,24.658,24.276,23.545,23.201,22.953,23.187,23.403,24.209,25.616,27.185,28.991,30.325,31.454,32.279,32.559,31.71,32.014,31.5,30.083,28.218,26.804,25.905,25.458,25.385,24.93,24.495,24.185,23.954,23.584,23.252,23.36,24.177,25.845,27.581,32.021,32.411,32.366,31.996,30.774,29.504,27.987,26.832,26.255,25.593,24.817,23.969,23.676,23.453,23.0,22.315,21.477,21.277,22.538,25.127,26.973,28.432,29.514,29.976,30.445,30.855,31.091,29.555,27.16,23.627,23.946,23.838,23.963,23.696,22.155,21.186,20.519,20.112,20.465,20.735,20.66,20.731,20.941,21.898,22.403,23.221,24.003,24.655,25.746,26.04,26.349,26.476,26.244,25.204,24.092,23.648,22.913,21.876,20.503,19.274,18.412,17.792,17.367,17.477,17.65,18.098,19.365,21.842,24.291,25.111,25.591,26.133,26.411,26.558,26.573,26.236,25.692,24.924,24.189,23.421,22.351,21.379,20.085,17.473,16.99,16.708,16.439,16.434,17.881,20.967,24.834,25.828,26.507,26.991,27.149,26.971,26.693,26.139,25.125,24.059,23.331,20.531,19.867,19.153,18.578,18.207,17.798,17.628,18.015,19.86,22.82,24.293,25.307,26.058,26.657,26.934,26.943,26.714,26.442,25.683,24.613,23.586,22.595,21.732,21.411,21.092,20.646,20.197,19.295,18.689,18.446,18.238,18.641,20.061,23.09,24.871,25.899,26.716,26.913,27.152,27.38,26.984,26.5,26.188,25.198,24.356,23.864,23.555,23.188,22.644,22.264,21.268,21.407,21.259,21.096,21.149,21.118,22.446,24.206,25.24,26.061,26.61,27.252,27.496,27.364,26.673,25.816,24.99,23.986,23.465,23.283,23.08,22.734,22.418,21.872,20.611,19.336,18.72,18.24,18.384,20.059,22.863,24.472,25.273,25.927,26.452,27.018,27.172,26.948,26.589,25.972,24.939,24.044,23.391,22.424,21.538,21.181,20.519,19.79,19.308,18.975,18.921,18.515,18.499,19.777,22.708,24.451,25.394,26.25,27.032,27.467,27.663,27.396,26.982,26.231,25.218,24.428,23.925,23.448,22.695,21.966,21.461,21.231,21.382,21.65,21.645,21.601,21.599,23.057,24.43,25.45,26.101,26.862,27.436,28.013,28.044,27.827,27.203,26.347,25.297,24.546,24.19,23.723,22.802,22.218,21.553,21.034,20.628,20.484,20.246,20.184,20.485,21.396,23.166,24.886,26.133,27.594,28.505,29.174,29.499,29.661,29.122,28.697,26.927,25.493,24.587,23.688,22.939,22.356,21.906,21.412,21.09,21.481,21.794,21.513,21.38,21.913,23.734,25.525,26.326,26.993,27.495,27.128,25.867,25.804,25.792,24.931,24.067,23.328,22.882,22.342,21.756,21.868,21.962,21.725,20.705,20.035,19.294,18.205,17.76,19.13,22.254,24.021,24.79,25.254,25.587,25.89,25.775,25.574,25.377,24.791,23.848,23.1,22.167,20.74,19.558,18.974,18.547,18.194,18.087,18.065,17.912,17.974,18.229,19.661,21.984,23.609,24.96,26.309,26.956,27.624,27.804,26.803,26.258,25.747,24.926,24.015,23.544,22.851,22.196,21.898,21.385,20.226,19.555,19.197,18.999,19.322,19.44,20.929,23.237,24.411,25.199,25.911,26.405,26.879,26.493,26.155,25.462,24.715,23.816,23.141,22.607,22.209,21.984,21.618,21.16,21.594,21.664,20.566,20.589,20.865,21.402,22.132,23.041,23.748,24.231,24.707,25.207,25.431,25.255,25.001,24.386,23.811,22.956,22.221,21.603,21.177,20.351,19.565,18.838,18.111,17.589,17.186,17.098,17.104,17.283,18.66,21.333,23.522,24.247,24.879,25.491,25.815,25.891,25.86,25.551,24.973,24.054,23.179,22.283,21.51,20.657,20.026,19.476,19.132,18.905,18.687,19.064,18.782,18.775,19.802,21.687,23.648,25.041,25.852,26.228,26.59,26.921,27.276,27.226,26.815,26.335,24.876,23.604,22.619,21.397,20.135,19.003,18.339,17.709,17.463,17.289,17.11,17.285,18.532,21.366,24.126,25.558,26.421,26.672,26.771,26.924,26.994,26.427,26.349,26.232,25.327,24.791,24.556,24.265,23.651,22.525,21.39,20.788,20.842,19.991,19.937,19.871,20.583,22.814,25.792,27.333,28.772,29.483,29.721,29.631,29.33,29.399,29.371,28.466,26.885,26.555,26.268,25.306,24.451,23.621,23.649,24.042,23.77,24.749,26.323,25.54,25.787,26.769,27.304,28.283,29.096,29.133,28.667,27.86,26.811,26.166,25.248,24.554,24.181,24.127,23.905,23.902,23.781,23.725,23.775,23.584,22.627,21.9,21.564,21.912,22.407,23.627,24.805,25.734,26.179,26.678,27.083,27.258,27.252,26.511,25.568,24.796,24.565,24.681,24.341,23.436,23.275,23.108,22.605,22.258,22.188,22.377,22.561,22.572,22.855,23.16,23.621,24.265,22.753,22.223,22.162,21.309,21.943,22.391,22.328,21.936,21.628,21.23,20.997,20.976,21.155,21.369,21.594,21.974,21.901,21.587,21.736,21.907,22.217,22.995,23.934,24.94,25.293,23.445,21.65,21.295,22.039,23.342,23.722,23.105,22.519,21.903,21.12,20.461,19.828,19.465,19.027,18.622,18.536,18.502,18.225,17.992,18.61,20.092,22.045,23.797,25.138,25.969,26.396,27.066,26.996,26.612,26.12,25.472,24.937,23.041,22.825,22.606,22.679,22.89,22.571,21.506,20.216,19.263,18.228,17.329,17.382,17.691,18.753,19.301,19.004,19.383,20.551,21.497,21.771,21.902,22.16,21.181,19.966,18.985,18.213,18.091,18.057,18.053,17.715,16.761,16.377,16.478,16.704,16.636,16.77,17.421,18.475,19.539,20.595,21.657,22.851,23.163,23.283,23.481,23.63,22.598,22.489,21.651,19.679,18.115,17.168,16.593,16.002,15.317,15.054,14.782,14.543,14.378,14.92,17.169,20.232,22.304,23.371,24.201,25.241,26.04,25.871,25.637,25.195,23.415,22.449,21.481,20.681,19.396,18.242,17.386,16.478,15.77,15.316,14.949,14.768,14.561,15.566,18.079,21.06,22.781,23.819,24.752,25.698,26.13,26.155,26.206,25.897,24.093,22.886,22.193,21.194,20.222,19.077,17.962,17.331,17.078,16.534,16.132,15.883,15.752,16.395,18.802,22.022,24.054,25.547,26.705,27.921,28.409,28.242,27.839,26.96,25.623,24.803,24.171,23.623,22.219,20.436,19.621,19.303,18.912,18.624,18.525,18.663,18.655,19.103,20.981,23.544,25.104,25.996,26.729,27.57,27.782,27.828,27.774,26.385,25.379,25.171,24.293,23.359,22.613,22.006,21.662,21.496,21.339,21.221,21.062,20.834,20.696,21.123,22.48,24.322,25.549,26.299,26.929,27.459,28.034,27.971,27.663,26.918,25.495,24.346,23.436,22.604,21.909,21.477,21.13,20.882,20.757,20.615,20.561,20.67,20.473,20.575,22.062,23.813,25.176,26.062,26.986,27.583,28.376,28.973,28.296,27.199,25.362,23.872,23.055,22.578,22.209,22.06,21.7,21.396,20.965,20.604,20.995,20.747,20.962,21.157,22.296,23.518,24.359,25.139,25.883,26.829,27.597,27.382,26.686,25.575,23.935,23.063,22.789,22.826,22.807,21.773,21.466,21.976,22.189,21.686,20.599,19.673,19.688,21.399,23.232,24.184,25.077,25.904,26.486,26.99,27.126,26.513,25.438,24.109,23.181,22.736,21.709,21.12,21.064,20.76,20.135,19.868,19.223,18.845,19.539,21.396,23.404,24.681,25.475,26.152,26.981,27.057,26.941,26.286,25.08,24.112,23.493,23.118,22.93,22.773,22.034,21.029,20.562,20.052,19.486,19.583,19.572,19.878,20.2,21.089,22.404,23.807,25.2,26.739,27.321,26.594,25.815,25.304,24.715,24.207,23.817,23.464,22.96,21.865,22.105,21.525,20.75,20.323,20.672,20.737,20.82,21.257,22.415,23.831,25.238,26.191,26.8,27.469,26.629,25.683,24.419,23.933,23.338,22.871,22.161,21.725,21.188,21.291,21.608,21.773,22.126,22.105,21.973,22.887,23.923,24.986,26.07,26.725,26.928,26.936,25.698,24.642,24.048,23.634,23.19,22.615,21.789,20.997,20.559,19.945,19.631,19.568,19.32,19.021,18.872,20.102,22.272,24.236,25.653,26.058,26.389,26.487,26.452,26.027,25.323,24.395,23.2,22.496,21.634,21.243,20.566,20.181,19.913,19.586,19.383,19.1,18.885,18.831,19.468,21.188,22.868,23.831,24.751,25.571,26.165,26.128,25.939,25.468,24.422,23.451,22.556,21.809,21.287,20.759,19.676,18.583,17.987,17.703,17.58,17.293,16.97,16.751,16.96,18.693,21.17,22.614,23.642,24.53,25.51,26.204,25.996,25.58,24.303,22.711,21.98,21.552,18.139,17.541,17.233,16.94,16.608,16.417,16.792,16.95,17.5,19.931,22.502,23.062,23.285,23.308,23.203,23.222,23.096,22.177,20.666,20.196,19.867,19.571,19.094,18.511,17.78,16.875,16.212,15.618,14.37,13.762,13.586,13.393,13.685,16.16,18.688,19.589,20.406,21.251,22.084,22.428,22.303,21.854,20.72,19.446,18.934,18.804,18.554,17.706,16.9,16.704,16.252,14.692,13.282,12.629,12.202,12.166,12.555,14.895,18.364,20.932,22.031,22.685,22.72,22.56,22.45,21.823,20.854,20.062,19.65,19.317,19.295,19.098,18.808,18.107,17.274,17.003,16.771,16.81,16.893,16.937,17.671,19.399,20.889,21.841,22.48,23.19,23.82,23.675,23.61,22.943,21.875,20.778,19.081,18.422,17.275,16.128,15.298,14.681,14.306,13.847,13.592,13.617,13.649,13.808,15.751,19.121,21.436,22.481,23.006,23.385,23.655,23.559,23.228,22.684,22.137,20.902,18.99,17.331,15.84,14.921,14.426,14.077,13.889,14.251,13.76,13.371,13.469,13.917,16.181,19.422,22.138,23.588,24.173,25.009,25.691,25.468,25.067,24.18,23.216,22.507,21.682,21.077,20.491,19.507,17.99,17.865,17.598,16.932,16.73,16.758,17.328,19.692,22.369,23.528,24.157,24.791,25.767,26.586,25.69,24.862,24.511,24.153,23.75,23.277,22.467,21.782,21.116,20.335,19.739,19.278,18.965,18.687,19.796,20.563,20.71,21.896,23.777,24.991,25.893,26.771,28.329,28.823,28.586,27.873,26.461,24.748,24.662,24.804,23.866,23.85,23.693,22.833,22.412,21.876,21.975,21.261,20.866,20.278,20.05,21.473,23.653,25.175,25.726,26.379,26.764,27.057,27.379,26.602,25.354,24.605,24.107,23.262,22.475,21.956,21.491,20.727,20.336,19.357,19.1,18.189,18.014,18.217,18.957,21.076,23.13,24.526,25.948,27.035,27.343,26.651,25.582,24.88,24.502,23.801,23.256,22.833,22.492,22.405,22.212,21.854,21.449,20.679,20.199,20.295,20.102,19.841,19.856,20.936,22.101,23.035,23.802,24.463,24.834,24.915,24.47,23.657,22.533,21.747,21.368,20.984,20.608,20.28,20.014,19.715,19.375,18.479,17.827,17.162,16.584,16.462,16.879,19.075,20.712,21.631,22.293,22.945,23.274,23.331,22.998,22.366,21.205,19.872,18.817,17.784,16.484,15.478,14.63,14.175,14.006,13.501,13.153,13.17,13.106,13.263,13.993,15.813,18.232,20.216,21.474,22.039,22.3,21.963,21.742,21.306,20.521,19.954,19.412,19.205,19.19,18.669,18.226,17.824,17.246,17.058,16.99,16.715,17.051,16.734,16.45,16.534,16.776,17.059,18.817,20.256,21.183,21.445,21.641,21.11,20.782,20.683,20.379,19.848,19.942,19.914,19.64,19.714,19.676,19.545,19.526,18.876,18.247,18.395,18.732,20.406,21.624,22.503,23.217,23.107,23.293,22.856,22.007,21.242,20.445,20.268,20.32,20.658,20.772,20.752,20.424,20.335,20.299,20.164,20.028,19.922,19.921,19.848,19.84,19.056,18.18,18.232,19.54,20.263,19.715,19.222,18.513,18.338,18.331,17.871,17.67,17.911,18.082,18.092,18.417,18.669,18.824,18.652,18.271,17.954,17.668,17.451,17.274,17.657,18.466,19.038,19.3,19.69,19.909,19.867,19.43,18.824,18.183,17.466,16.694,16.335,16.127,16.07,15.857,15.634,15.799,16.143,16.465,16.825,17.123,17.142,17.247,17.535,18.475,19.676,20.538,20.785,20.598,20.434,20.522,20.544,20.117,19.452,18.794,17.733,16.264,14.854,20.48,19.101,18.525,17.992,16.993,16.242,15.518,13.631,16.471,19.346,20.813,21.725,22.392,22.935,22.605,22.54,23.472,24.25,24.468,24.193,25.085,25.515,25.449,26.303,26.577,25.759,25.627,26.396,26.052,25.426,25.219,25.551,25.584,25.562,24.608,25.227,25.0,24.596,25.335,25.171,25.075,24.833,21.957,21.175,20.975,19.609,18.017,16.646,17.867,18.362,18.554,18.433,18.546,18.996,19.282,19.468,19.909,20.169,20.38,20.623,19.306,18.585,19.812,20.81,19.966,18.953,18.553,17.98,17.131,16.197,15.934,15.144,14.71,14.243,13.857,13.121,12.722,12.648,12.601,12.462,12.292,12.536,13.312,15.231,17.772,19.294,19.891,19.558,19.712,20.266,20.384,19.772,18.478,17.799,17.712,17.537,16.851,16.138,15.549,15.182,14.765,14.375,14.378,14.299,14.491,15.102,16.602,18.067,19.395,20.705,21.583,21.421,21.182,21.032,20.725,20.799,21.093,21.044,21.318,21.653,21.437,21.175,21.058,21.005,21.367,20.796,19.924,19.926,20.063,20.196,21.075,21.616,22.483,23.413,24.042,24.003,23.279,22.911,22.098,21.032,20.921,21.071,20.584,20.36,20.196,19.585,19.487,19.519,19.052,18.928,18.921,18.757,18.713,18.88,19.191,19.783,20.732,21.262,21.457,22.13,22.295,22.177,21.33,20.647,20.382,19.947,19.484,19.209,18.913,18.909,18.167,17.565,17.419,17.382,17.432,17.489,17.347,17.278,17.998,18.538,19.121,19.585,19.821,20.509,21.178,21.239,20.82,20.399,19.536,19.069,18.761,18.553,18.169,18.15,18.335,17.981,16.943,16.307,16.035,16.079,16.121,16.234,17.048,18.997,20.262,21.147,21.61,22.109,22.226,22.498,22.107,21.503,21.354,21.101,20.69,20.525,20.392,20.359,20.302,19.702,20.501,20.943,20.949,21.125,21.326,21.238,21.067,21.48,21.78,22.358,23.193,23.539,23.33,23.044,22.674,22.584,22.187,21.693,21.373,20.889,19.972,19.37,19.386,18.781,18.03,17.759,17.23,16.803,16.568,16.566,16.604,16.402,15.796,15.681,16.721,17.137,16.831,16.17,16.036,15.891,15.884,15.84,15.586,15.11,14.44,13.834,13.681,13.826,13.927,14.371,14.798,14.903,14.845,14.463,14.146,13.906,14.048,14.585,15.201,15.593,15.593,15.866,15.681,15.022,14.505,14.209,13.484,12.863,12.854,12.641,12.702,12.979,13.172,12.793,12.144,11.818,11.11,10.999,11.902,13.667,15.441,16.587,17.743,18.369,18.368,18.045,17.377,16.306,15.499,14.809,14.589,14.218,14.016,13.96,13.826,13.474,13.336,13.415,13.531,13.37,13.194,13.115,13.441,13.714,14.003,14.894,15.649,16.093,16.595,16.033,14.877,14.458,14.295,14.394,14.281,14.074,13.798,13.169,12.71,12.619,13.049,12.917,12.716,12.352,12.226,13.257,14.176,15.327,16.121,16.857,17.449,17.703,17.603,17.273,16.356,15.536,14.466,13.468,12.79,12.18,12.036,12.105,12.131,12.046,12.337,13.042,13.413,13.179,12.833,13.302,14.903,16.848,17.553,18.048,18.431,18.754,18.69,18.276,17.21,16.15,15.061,13.918,13.167,12.938,12.497,12.311,12.229,12.215,11.88,11.466,11.422,11.619,11.89,12.771,14.64,16.26,16.908,17.445,17.836,18.248,18.059,17.468,16.664,15.753,15.079,14.367,13.506,13.31,13.398,13.613,13.862,13.954,13.855,13.153,12.91,12.783,12.559,12.997,14.742,17.568,18.061,18.045,17.872,17.439,16.976,16.508,15.953,15.466,14.901,14.562,14.298,14.268,14.16,13.961,14.311,15.502,15.944,15.637,15.37,14.872,15.281,16.874,18.116,19.006,19.068,18.522,18.052,18.048,18.101,17.536,16.309,15.295,14.653,14.576,14.665,14.865,14.699,14.554,13.925,14.696,13.901,13.432,13.552,13.496,13.849,15.744,16.909,17.617,18.054,18.114,17.945,17.528,16.966,16.217,12.937,12.919,12.91,13.407,14.709,16.204,17.183,18.594,19.232,19.396,19.079,18.436,17.664,17.165,16.766,16.562,16.438,15.99,15.391,14.42,14.043,14.219,14.796,15.101,15.161,15.68,15.648,15.845,16.658,17.33,18.083,18.657,19.158,19.08,18.67,18.038,17.431,17.004,16.729,16.736,16.888,16.768,16.71,16.466,16.286,16.357,16.378,16.276,16.109,15.972,15.895,15.94,16.012,16.15,15.892,15.556,15.752,16.129,16.345,15.988,15.665,16.071,15.93,15.799,15.532,15.486,15.492,15.318,14.973,14.466,14.341,14.162,14.259,14.399,14.662,15.004,15.385,15.593,15.717,15.879,16.099,16.024,15.553,15.247,15.008,14.951,14.926,14.729,14.521,14.338,14.308,14.321,14.124,13.647,13.176,12.677,12.264,12.271,12.404,12.837,13.6,14.272,14.967,15.439,15.608,15.565,14.966,14.358,13.355,12.692,12.358,12.023,11.808,11.546,11.324,10.99,10.987,11.155,11.326,11.169,10.994,11.288,11.279,11.864,12.458,13.163,13.433,13.368,13.693,13.957,13.544,12.994,12.614,12.17,11.857,11.579,11.074,10.542,10.08,9.801,9.394,9.1087,9.0681,8.999,8.7143,8.3494,7.9799,8.2789,9.5956,11.705,13.361,14.231,14.84,14.693,14.413,14.231,13.269,12.459,12.279,12.065,11.964,11.762,11.178,10.445,9.5583,9.0017,8.6161,8.3827,8.313,7.9801,7.7243,8.424,10.249,14.344,14.825,15.13,15.368,15.146,14.351,13.394,12.384,11.682,11.348,11.017,11.164,10.85,9.9323,9.0596,8.5092,8.1883,8.1276,8.1408,8.6149,9.5213,11.105,12.883,13.967,14.927,15.897,15.904,15.405,14.106,13.097,12.625,11.746,10.82,9.5545,8.6773,8.1028,7.7893,7.6055,10.157,12.226,13.364,14.421,15.044,15.594,16.144,17.244,17.795,18.524,20.231,20.996,21.083,20.288,19.348,19.056,17.871,17.507,18.046,18.002,17.956,17.573,17.132,16.8,16.468,16.143,16.343,16.452,17.401,18.4,19.213,19.627,20.046,20.752,21.556,22.03,21.735,21.074,21.144,21.239,20.722,20.338,20.749,21.835,21.777,21.285,20.794,20.314,20.291,20.477,20.408,20.283,20.528,20.863,20.288,19.915,19.282,18.486,17.777,18.656,18.799,18.712,18.34,17.347,16.854,16.848,17.022,17.199,17.387,17.68,17.972,17.534,17.239,16.952,16.665,16.479,16.396,16.282,16.255,16.169,16.07,15.942,15.799,15.759,15.885,15.835,15.736,15.646,15.691,15.689,15.164,15.258,15.426,15.511,15.591,15.579,14.861,13.784,13.118,12.667,12.773,13.387,15.013,16.581,17.615,17.72,17.637,17.113,16.871,16.778,17.133,17.514,17.422,17.695,18.525,19.39,18.39,16.498,16.299,16.133,16.16,16.1,16.096,15.721,15.332,16.162,17.079,17.888,18.548,18.882,18.556,18.119,17.611,17.205,16.917,17.087,17.441,17.702,16.929,13.361,12.229,12.104,10.513,9.0709,7.9887,7.0276,6.5878,6.4236,6.1095,6.1574,7.2254,7.4523,7.647,8.307,8.8155,9.3635,9.4163,8.7067,8.2807,8.0303,7.6979,7.2705,6.6724,6.0894,6.2394,8.1178,7.842,7.8416,8.0082,11.354,13.118,13.451,13.316,13.841,14.436,14.662,14.265,14.979,15.304,15.27,15.46,15.57,15.758,16.261,16.391,15.318,14.024,13.442,13.611,13.648,12.783,10.558,9.6926,9.272,9.537,9.9103,10.306,10.741,11.173,11.476,11.804,11.98,11.038,9.9787,9.1733,8.915,8.7713,8.7135,8.8023,8.9396,9.0585,9.0361,8.9567,8.6659,8.6312,8.6473,8.6998,8.8148,8.9245,9.0342,9.235,9.7925,9.9855,9.9542,9.5485,8.7674,8.516,8.6076,8.6174,8.3284,8.1697,7.7712,7.1462,6.9076,6.9409,7.0061,6.9753,6.8461,6.6299,6.2338,5.7141,5.325,5.7691,6.6872,8.1562,9.8691,10.983,11.899,12.471,12.853,13.074,13.004,12.78,12.649,12.793,13.543,13.74,13.841,13.948,13.957,14.052,14.212,14.352,14.506,14.826,15.001,14.954,15.023,15.624,15.93,16.472,16.253,16.263,16.47,15.476,14.447,14.602,14.533,14.189,13.111,12.048,12.811,13.275,13.336,13.498,13.966,13.573,11.646,10.191,9.9658,10.614,10.728,10.524,10.143,9.5944,9.5342,9.5019,9.1604,8.6365,8.2486,8.1635,8.2292,8.3201,8.4097,8.3644,8.1411,8.0531,7.7545,7.0551,6.6849,6.2969,6.0482,5.7728,5.5146,5.3582,5.9043,11.781,13.017,13.353,13.649,14.007,14.313,14.379,14.19,14.589,14.978,13.369,12.5,12.603,13.323,13.682,13.007,10.487,7.7751,6.3457,5.5119,4.7477,4.6432,5.1269,5.8191,6.3897,6.9633,7.5705,7.9927,7.9324,7.7357,7.3585,7.1229,6.6338,6.3307,6.3127,6.1984,5.5905,5.208,4.8946,5.047,5.1059,4.5435,4.2096,4.3033,4.2398,4.3932,4.623,5.0857,6.7912,6.9457,6.9842,7.1608,6.6611,5.8945,5.3709,4.9768,4.4151,4.0547,3.6881,3.3885,3.1978,2.9453,3.0524,3.141,3.1708,3.1686,3.0993,3.0577,3.3868,4.3892,5.8146,7.5136,8.3294,8.7208,8.9533,9.142,9.1442,8.0774,6.8728,6.326,6.0301,5.6762,5.3596,5.0308,4.7662,4.6065,4.4894,4.3861,4.2486,4.2851,4.3997,4.6749,5.6564,7.0965,8.6922,10.034,10.606,10.918,11.267,11.308,10.415,9.3203,7.9978,7.1961,6.4522,5.9803,6.0233,6.1226,6.2831,7.8015,8.0973,8.3027,8.8225,9.5834,10.435,11.144,11.517,11.981,12.232,12.129,11.91,11.404,11.043,10.759,10.848,11.199,11.225,11.539,11.98,12.146,12.047,11.697,11.081,10.868,10.929,10.911,10.778,11.247,11.644,11.92,11.811,11.737,11.452,10.749,10.212,10.023,10.122,10.389,10.52,10.49,10.542,10.738,10.798,10.899,11.178,11.145,11.315,11.412,11.201,11.572,12.089,12.549,12.959,13.174,13.253,13.112,12.905,12.709,12.646,12.723,12.554,12.439,12.615,12.341,11.85,11.834,12.099,12.379,12.57,12.655,12.783,12.93,13.05,13.172,12.905,10.391,9.8242,9.5531,9.0357,8.1931,7.3262,6.5327,5.9579,5.3029,4.903,4.5317,4.3515,4.0341,3.5906,2.1922,2.3623,2.4395,2.586,2.582,2.1006,1.0891,0.93979,0.91206,0.60394,0.58759,0.76744,1.6462,1.9711,2.0124,2.2186,2.2158,2.0817,1.3883,1.2645,1.7359,2.4109,2.6609,2.981,3.4203,3.5955,3.7,4.1564,4.5143,4.8178,4.792,4.9154,4.6804,4.3299,4.4561,4.5552,4.524,4.2429,3.9984,3.7477,3.7533,3.8868,3.8799,4.0742,4.1992,4.1811,4.3819,4.5844,4.593,4.5716,4.7357,4.7076,4.626,4.4809,4.3686,4.355,4.4445,4.6788,4.692,4.812,4.5756,5.0728,5.2528,5.1017,4.874,5.3061,5.5379,5.9451,6.2801,6.6343,6.854,6.8955,6.7757,6.6694,6.6571,6.4944,6.4484,6.5559,6.6575,6.827,7.0876,7.0473,7.4933,7.6369,7.2086,6.6429,6.2206,5.7933,5.897,6.8391,7.6493,8.8889,9.9736,10.453,10.743,11.137,11.137,10.397,9.5352,8.7929,7.5881,6.7075,6.1001,6.3297,6.3592,5.9141,5.5813,5.72,6.1369,7.438,9.7338,11.534,12.386,13.081,12.791,12.495,12.11,11.319,10.186,9.0964,8.3157,7.4388,6.6618,6.3491,6.4457,6.5022,6.9756,7.2363,6.8455,6.4714,6.688,7.5165,8.1786,10.131,12.582,14.306,15.501,15.618,15.331,14.834,13.72,12.772,12.187,11.672,10.923,10.249,9.3804,8.7265,8.5931,9.498,9.3796,9.8141,10.042,9.9414,9.0429,8.7325,9.1327,12.969,14.139,14.668,14.778,14.84,14.786,14.561,14.482,14.452,14.454,13.875,13.382,13.152,12.396,11.837,11.956,12.035,12.054,12.068,11.848,12.182,12.35,13.02,13.936,14.736,15.436,15.041,14.88,14.34,14.036,13.895,14.036,14.133,14.072,14.043,13.958,13.296,12.59,12.342,11.799,10.746,9.8758,9.2996,9.3005,9.2241,9.4274,9.6638,10.147,10.659,11.036,11.147,10.843,10.62,10.471,9.9856,9.6251,9.6011,9.5169,9.5322,9.514,9.5168,9.5615,9.4756,9.3561,9.2134,9.1066,9.2796,9.4301,9.8798,10.265,10.781,11.27,11.537,11.407,11.305,10.966,10.488,10.037,9.8921,9.8723,10.026,10.059,4.5878,4.2932,3.9045,3.7436,3.7516,3.8858,3.6697,3.5892,3.7108,4.8281,6.0334,7.9896,9.8712,10.722,11.017,10.946,10.755,10.175,9.5069,5.388,5.4906,5.4522,5.4774,5.3784,5.2236,5.2513,5.2734,5.9776,6.7676,7.571,9.2719,11.351,12.518,13.1,13.458,13.429,12.861,12.259,12.275,12.005,11.601,11.782,12.624,12.308,11.432,11.387,11.736,11.728,11.384,11.087,10.584,10.181,10.301,10.422,10.593,10.555,10.528,10.254,9.8215,8.7987,7.9529,7.4649,7.321,6.9685,6.9214,6.9549,7.0389,7.1611,7.3617,7.2594,6.9188,6.8903,6.7569,6.7155,6.817,6.8973,6.9282,6.9957,7.2848,7.4902,7.3078,7.3157,7.3168,7.1878,7.1168,7.1325,7.2618,7.6137,7.8848,7.9395,7.9592,7.9442,8.0315,8.1683,8.4858,9.2573,10.061,10.577,10.628,10.451,10.281,10.055,6.988,6.6543,5.4611,5.8372,7.0528,7.1873,6.6405,6.1033,5.4546,5.1361,4.9719,6.7097,7.3372,7.6952,7.4018,7.8167,8.5781,9.841,10.084,9.5484,8.7161,8.3411,7.9543,7.5402,6.4237,6.3186,5.9587,5.9384,5.7952,5.7183,5.9779,6.0551,6.1375,6.1271,6.4082,7.6426,9.4701,10.94,11.613,12.066,12.451,12.165,10.893,9.7483,8.6902,5.3738,5.4462,5.6988,5.8975,6.2033,6.664,7.2426,7.7232,8.2577,8.7557,10.034,11.602,12.244,12.406,12.235,11.162,10.391,5.6607,5.0722,4.8119,5.087,5.6301,5.912,6.126,6.3422,6.5693,7.2088,8.7186,10.116,11.933,12.712,12.786,12.644,12.359,11.775,11.103,10.288,10.327,10.118,9.7843,9.4768,8.9205,8.2064,7.2737,6.8282,6.5604,6.2478,8.3623,12.438,12.5,12.734,13.173,13.22,12.585,11.631,10.248,9.3432,8.672,8.2761,8.8891,9.2962,9.2916,9.2871,9.2303,9.1345,9.1202,9.2353,9.5996,10.721,11.886,12.592,13.208,13.182,13.311,13.56,13.103,10.367,9.7836,8.2631,7.7477,7.3956,7.0925,7.4034,7.2227,7.0146,6.861,9.5474,11.265,11.983,12.924,13.483,13.906,13.739,13.411,13.029,10.725,10.419,10.106,9.6368,9.3112,9.1255,9.0689,9.0954,9.196,9.2193,9.1515,9.2894,9.5514,10.214,11.576,12.255,12.773,12.873,12.83,12.744,12.596,11.997,11.629,11.328,11.371,11.288,11.065,11.039,11.015,10.946,10.93,10.819,10.743,10.679,10.727,10.71,10.681,11.737,12.167,12.717,12.857,12.378,12.09,7.5096,7.1508,6.7584,6.5279,8.7447,9.2724,9.7363,9.8085,10.242,11.288,12.344,12.952,13.315,13.55,13.777,13.692,13.514,13.021,10.908,9.4039,9.5635,9.4239,9.6916,10.562,11.31,11.565,11.531,11.353,11.251,11.351,11.743,12.047,11.916,11.684,11.751,11.868,11.863,11.715,11.718,11.68,11.627,11.443,11.106,10.812,10.616,10.481,10.416,10.319,10.264,10.159,10.074,9.8291,9.7479,9.8288,10.317,10.756,11.256,11.558,11.416,11.091,10.397,9.4127,8.8544,8.3351,7.6761,7.1663,6.688,6.5309,6.4385,6.361,6.0249,5.6936,5.5752,5.6362,5.6416,5.5981,5.783,6.4367,8.0541,9.6791,10.467,11.205,11.766,12.189,8.148,10.05,10.995,11.678,12.042,12.194,12.186,11.668,10.673,7.4653,7.7144,7.7605,7.8805,7.8172,7.6759,7.803,7.8899,7.904,7.6227,7.9799,9.3495,11.006,11.595,11.705,11.842,12.191,12.191,11.54,11.164,7.7408,7.3334,7.1875,7.808,8.278,8.5484,8.6131,8.5669,8.6192,8.9742,9.4873,10.947,12.181,12.928,13.434,14.02,14.44,14.376,14.075,13.545,12.542,11.638,12.035,12.446,12.695,12.85,12.203,11.746,11.514,11.972,12.716,12.544,12.426,12.539,12.887,13.323,13.615,13.813,13.818,14.043,13.926,13.83,13.801,13.896,13.949,14.403,14.805,14.778,13.779,13.085,13.135,12.975,13.252,14.153,14.576,14.717,14.648,14.919,15.883,15.964,14.647,14.526,14.485,14.727,14.401,14.32,13.978,13.585,13.89,12.157,10.013,9.4511,8.3283,7.4789,7.1925,7.0393,7.2172,7.6758,7.9616,8.3524,8.8093,9.2692,9.3438,9.2048,8.9018,8.7658,8.6679,8.5987,8.3521,8.2285,8.2809,8.3435,8.532,8.2247,7.9803,7.9837,7.9106,7.785,7.5117,7.3019,7.2812,7.2218,6.8968,6.7758,6.8688,7.0694,7.1122,6.7531,6.3999,5.9429,5.4257,4.6971,4.1467,3.9427,3.9986,4.1496,4.2385,3.9975,3.9917,4.2277,4.5002,4.3771,4.0772,4.1564,4.3561,4.4922,4.7781,4.7968,4.8595,4.7803,4.8608,5.1055,5.4001,6.1384,6.7452,7.1703,7.1935,7.141,6.8359,6.6964,6.5686,6.766,6.8864,7.0153,5.8524,5.1642,5.1003,5.4117,5.4251,5.2061,5.016,5.1759,5.3294,5.7167,5.9797,6.6103,7.825,8.208,8.3568,7.9557,7.1863,6.7158,6.2824,5.7675,5.2219,5.1186,5.0959,5.2282,5.2353,5.0342,5.1305,5.1481,5.4407,5.9846,6.4945,6.5905,7.2289,8.1818,9.6763,10.554,11.046,11.082,10.897,10.604,10.132,10.024,10.009,9.8537,9.8118,9.6955,9.5991,9.359,9.2014,9.0852,8.9575,8.8845,8.7066,8.8455,8.7519,8.6391,8.6229,9.1053,9.141,8.8335,9.2317,9.5031,8.8846,8.3176,7.8225,7.096,6.5748,6.3669,6.019,5.2055,4.7427,4.6404,4.5034,4.5008,5.1002,6.299,7.0567,7.7453,8.106,8.1465,8.1627,7.9658,7.2061,6.1806,5.2588,4.6801,4.4363,4.4067,4.0644,3.6613,3.4304,3.1848,2.9468,2.5856,2.3981,2.3323,2.3419,2.8864,4.286,5.3698,6.6413,7.7326,8.0233,7.9698,7.8002,6.2488,4.9889,5.2592,5.4882,5.5021,5.2458,4.8703,4.4546,4.1162,3.7782,3.6309,3.2926,3.2833,3.1912,3.4002,4.1443,5.1362,5.9469,7.0062,7.8543,8.034,6.7981,5.74,4.9057,4.7055,4.695,4.313,4.1112,3.9896,3.3475,2.8071,2.4609,2.3284,2.2007,2.1163,2.4392,3.143,3.9261,5.1585,6.9957,8.5434,9.3427,9.5793,9.5481,9.0151,8.3282,7.5475,6.862,5.4249,4.5596,4.2446,3.7933,3.647,3.6128,3.2907,3.2959,4.1687,5.0733,5.1324,5.2317,5.4516,6.9665,8.4092,9.5288,10.224,10.307,10.024,9.302,8.529,7.6368,6.7718,6.3647,6.3244,6.6493,7.248,7.6843,7.6884,7.608,7.5538,7.6821,7.6714,7.3944,7.4408,7.7345,7.5732,6.8494,6.8259,7.2384,7.7793,7.688,7.7465,7.6774,7.2517,6.8228,6.2108,5.7572,5.2828,4.7938,4.7429,5.1013,5.1529,4.9803,4.68,4.2975,4.2351,4.551,5.7782,7.8002,9.5111,10.268,10.593,10.87,10.677,10.354,9.5336,8.5805,8.0537,7.5792,7.0783,6.2913,5.8975,5.6982,5.541,5.7519,7.3717,7.5535,6.6335,5.5764,4.6285,4.5385,6.2147,10.838,12.845,13.582,14.331,14.851,15.099,14.847,13.621,12.725,12.233,10.965,10.256,10.315,10.092,10.38,9.5309,8.3966,8.0138,7.88,8.0725,7.7127,7.0338,7.3118,8.565,10.947,12.87,14.185,15.061,15.712,15.688,15.071,13.522,12.874,12.566,9.063,8.1642,7.4266,7.1727,7.0461,6.8157,6.545,6.6655,6.5393,6.483,7.0419,8.478,11.117,12.821,14.198,15.303,15.861,15.91,15.671,14.746,12.902,11.716,10.576,8.3257,6.9457,6.258,6.4636,6.0124,5.7899,5.9533,6.0913,5.9415,5.5376,6.2598,8.293,11.666,13.331,13.779,13.971,13.939,13.614,13.075,12.447,11.43,10.373,8.9732,8.2502,7.2318,6.8058,6.9194,6.4506,5.8949,5.6442,5.3749,5.2595,5.6379,5.9483,6.5105,7.9872,10.01,11.621,12.583,12.697,12.592,12.579,7.301,5.4382,4.2183,3.7964,3.6416,3.4034,3.5126,3.3044,2.9335,3.6177,5.5503,8.1045,10.145,10.928,11.383,11.682,11.69,11.493,10.953,9.5084,8.3753,7.5518,6.762,5.3448,7.8236,10.242,10.703,10.74,10.63,10.42,11.548,12.525,13.256,14.096,14.925,15.919,16.626,16.966,16.739,15.683,15.123,14.9,14.63,14.154,13.881,13.526,12.451,11.448,10.759,9.9604,8.8774,7.3684,8.0533,9.8091,10.629,10.837,11.702,12.51,13.024,13.261,12.469,10.649,9.2974,8.2747,7.7626,7.5794,7.5866,7.8365,7.9721,8.055,7.9662,7.6381,7.3889,7.4341,7.5727,8.0161,8.8955,9.4791,10.08,10.682,11.058,11.731,12.452,12.405,11.729,11.48,10.905,8.9315,9.0098,9.069,9.3502,9.3257,8.9451,8.7121,8.4984,8.1354,7.9054,8.2669,8.6147,8.4192,8.2509,8.1367,7.9499,7.5737,7.0739,6.8095,6.85,6.9148,6.7617,6.3235,7.1817,7.5311,7.7563,7.7772,7.7579,7.8715,8.0019,8.0984,8.121,8.1416,7.9176,8.0593,8.3941,8.7373,9.0553,9.0694,8.883,8.7511,8.2998,7.65,6.4926,5.698,5.7387,5.8658,5.7326,5.4797,5.4225,5.2746,4.7963,4.7049,4.8819,5.4795,5.9368,6.6213,7.8015,9.8941,11.014,11.451,11.479,11.197,10.856,10.457,10.371,10.589,10.96,11.18,11.108,11.188,11.205,11.183,11.303,10.715,10.358,10.641,10.627,10.691,10.61,11.118,11.898,13.586,13.671,13.815,14.221,14.892,14.569,13.37,13.15,13.2,13.541,14.055,14.08,13.772,13.498,13.375,12.976,12.508,12.15,12.262,12.602,13.07,13.295,12.518,11.675,11.498,11.403,11.396,11.322,10.509,10.463,10.284,10.178,10.19,9.7291,9.2525,9.1992,9.0287,8.703,8.3955,8.3609,8.1959,8.1107,7.8131,7.545,7.501,7.5912,7.6426,7.4898,7.1942,6.8139,6.6059,6.5057,6.5053,6.5795,6.5162,6.4512,6.4094,6.4753,6.4331,6.6515,7.6511,8.9323,9.5941,10.351,10.248,10.093,10.191,10.047,9.7038,9.4282,9.0291,8.6401,8.494,8.5074,8.551,8.6087,8.6814,8.5124,8.2682,7.8995,7.8101,7.948,8.3075,8.8239,9.5071,10.094,10.367,10.219,9.8815,9.8241,9.8568,10.061,10.364,10.443,10.569,10.726,10.744,10.835,10.88,10.846,10.773,10.764,10.579,10.044,9.8142,9.7702,9.8586,9.9265,10.312,10.818,10.478,10.341,10.507,10.976,10.873,10.378,9.9367,9.3684,8.876,8.4025,8.2673,8.3744,8.3155,8.3761,8.6398,6.999,6.69,6.6096,6.4783,6.2282,6.3061,6.1577,6.1553,6.1867,6.0069,5.914,6.105,6.1265,5.7551,6.0091,6.0813,5.6594,6.7431,6.8108,6.2663,5.7327,5.1602,4.7822,4.4527,4.0245,3.5311,3.2689,3.231,3.1618,3.5141,3.9513,3.8227,3.8472,3.9118,3.9759,4.0435,4.1553,4.3198,4.4862,4.5641,4.6905,4.6215,4.5042,4.4248,4.3404,3.9128,4.0467,4.1606,4.5897,5.2032,5.5787,5.73,5.8211,5.7865,5.6956,5.4389,5.2066,5.0729,5.7492,5.356,5.4418,5.4242,5.4322,5.6292,5.538,5.743,6.7427,7.4925,7.9914,8.2939,8.2972,7.9162,7.2558,6.912,6.6724,6.4251,6.4112,6.7219,6.8042,6.6964,6.765,6.7837,6.8998,6.9161,6.5318,6.3725,6.4551,6.1651,6.0731,6.3753,6.4218,6.4906,6.5225,6.3892,5.9497,5.5085,5.2329,5.1714,5.0513,5.0951,5.3539,5.5488,5.8593,5.6686,5.4235,5.3242,5.2569,5.2576,5.2221,5.4035,5.633,5.7625,6.0417,6.1005,5.9681,5.9629,6.1661,6.7619,8.6609,8.8271,8.7158,8.5525,8.4878,8.4755,8.4566,8.354,8.2788,8.1684,8.0706,7.972,7.8324,7.746,7.7496,7.8426,8.1803,8.6452,8.9015,8.9929,9.3157,9.8384,9.7489,9.4577,9.1053,8.8843,8.6,8.6689,8.7568,8.6382,9.0771,9.2377,9.3003,9.4701,9.4882,9.3307,8.9579,8.4567,8.3076,8.9145,9.2799,9.7828,10.065,10.061,9.7692,9.5878,9.4099,4.6227,4.4366,4.2287,3.947,3.6902,3.213,3.2111,3.3018,3.257,3.0069,3.0755,3.0997,3.3894,3.8933,4.2781,4.908,6.0546,6.6147,6.932,6.4962,6.4941,6.2177,5.9191,5.8165,6.2972,6.3536,6.1675,6.3059,6.5689,6.3711,5.7488,5.3565,6.187,7.4907,8.4423,9.7482,10.722,11.202,10.181,8.2717,7.9563,7.132,6.3481,5.5613,4.9199,4.781,4.953,4.656,4.5507,4.3956,4.2673,4.6008,6.0535,8.2786,10.507,11.716,12.587,13.19,13.562,13.349,13.121,12.574,11.521,10.839,10.13,9.0047,6.3992,5.7849,5.4366,5.3341,5.2609,5.3509,5.5016,5.9275,6.2603,7.8169,10.555,11.509,11.92,12.173,12.752,13.338,13.672,13.721,13.386,12.82,11.868,10.433,9.3846,8.0497,7.0769,6.7869,6.9721,6.5225,6.0249,6.0871,5.7261,5.2598,5.4875,7.1217,10.307,13.595,15.703,16.582,16.773,16.74,16.473,16.402,16.166,15.038,13.872,13.006,11.73,10.905,10.477,10.601,10.683,10.334,10.185,10.023,9.8489,10.249,10.626,11.443,12.891,14.436,15.686,16.218,16.488,15.693,15.24,15.228,16.0,15.633,14.477,14.043,13.445,12.944,13.672,13.376,13.55,12.894,12.531,12.767,12.194,11.682,11.886,13.085,13.878,15.657,17.699,18.395,18.977,19.937,19.92,19.446,19.143,17.946,16.811,15.61,14.2,13.173,12.288,11.356,10.816,10.253,9.8396,9.461,8.8396,8.6281,9.1686,10.946,13.204,14.427,15.021,15.694,16.578,15.924,15.464,15.152,15.246,15.327,14.924,14.61,14.251,14.151,14.129,14.415,14.292,14.283,14.25,14.186,14.452,14.482,14.839,15.13,15.273,15.601,15.649,14.293,13.905,14.049,14.167,14.293,14.145,13.591,13.505,14.049,12.81,12.578,12.54,12.614,12.643,12.52,11.984,11.658,11.395,11.415,11.347,11.39,11.587,11.849,12.106,12.12,12.12,11.985,11.021,10.46,10.226,10.205,10.345,10.426,10.486,10.697,10.806,10.749,10.657,10.533,10.483,10.402,10.34,10.413,10.47,10.695,11.253,11.826,12.24,12.321,12.066,11.926,11.739,11.367,11.06,10.838,10.649,10.666,10.632,10.52,10.348,9.9634,9.4909,9.2932,9.3801,9.4079,9.3648,9.4185,9.588,9.7946,10.265,10.68,11.06,10.688,10.413,10.571,10.57,10.478,9.9893,9.4539,9.0781,8.9379,8.8647,8.8685,8.4491,8.0488,8.0236,8.1756,8.1262,7.6278,7.2845,6.907,7.1994,8.6708,9.5721,9.1015,9.3335,9.3224,9.3212,9.0465,8.996,8.9929,9.2659,8.8281,7.6019,6.5644,5.7236,5.2519,5.0448,4.9857,4.9653,4.8523,4.8438,4.7451,4.595,4.5126,4.79,6.4563,8.3009,9.6518,10.571,11.783,12.314,12.335,12.733,12.361,11.673,10.381,9.5995,9.3189,9.8164,9.8868,9.8288,9.6706,9.3772,9.3521,9.4762,9.4971,9.3244,9.1483,9.0965,9.902,12.292,13.659,14.566,15.37,16.111,16.642,16.435,15.649,14.853,13.355,11.59,11.268,10.949,10.933,10.155,8.8719,8.7508,8.1847,7.3032,6.9384,6.6417,6.5991,7.2577,9.2207,11.903,13.495,14.435,15.338,16.29,16.654,16.701,17.347,16.763,14.947,14.027,13.016,11.718,10.993,10.068,10.346,11.557,12.424,13.784,14.94,16.115,16.767,18.2,18.603,20.185,20.882,21.137,20.597,19.682,18.202,16.826,15.714,16.468,16.307,15.21,14.761,14.471,12.798,11.69,11.05,10.52,10.895,12.906,15.953,17.64,18.705,20.098,20.794,21.361,20.788,19.799,18.665,18.321,17.676,16.87,15.301,13.679,12.815,12.377,12.004,11.687,11.618,11.508,11.205,11.092,11.006,11.248,11.635,12.521,13.178,13.304,14.036,14.024,14.566,15.264,15.59,15.666,14.294,12.824,11.687,11.311,10.952,11.032,10.919,10.252,9.6985,9.2362,9.215,9.7822,10.047,10.27,10.845,11.804,13.381,15.559,17.228,18.732,17.79,17.078,17.04,17.888,16.953,15.503,15.707,15.616,15.314,14.793,14.843,15.01,14.816,14.338,14.079,13.973,13.713,14.328,15.182,16.27,17.418,18.374,18.652,19.502,20.021,19.842,19.423,17.743,15.881,15.317,14.63,13.442,13.036,12.503,12.809,13.405,13.032,12.418,12.209,11.89,12.125,12.639,12.938,14.076,15.598,15.887,15.727,15.943,16.034,16.121,15.661,14.547,13.684,13.48,13.32,12.988,12.591,12.574,12.776,12.924,12.817,12.814,12.613,12.395,12.241,12.1,12.019,12.201,12.516,12.963,13.434,13.969,13.933,13.978,13.91,13.182,12.42,12.079,12.115,11.994,11.906,11.842,11.835,11.498,11.585,11.674,11.7,11.582,11.502,11.456,11.382,11.362,11.455,11.755,11.883,11.817,11.676,11.4,11.06,11.159,11.236,11.35,11.6,11.678,11.63,11.4,11.192,11.132,11.175,11.255,11.325,11.273,11.43,11.625,11.926,12.502,12.738,12.724,12.944,12.918,12.68,12.333,11.757,11.042,10.556,10.255,10.178,10.044,10.025,10.031,9.9294,9.8797,9.8932,9.8577,9.8221,9.8517,9.9836,10.235,10.59,11.146,11.365,11.644,11.825,11.92,12.416,12.472,12.486,12.068,12.04,12.091,11.847,11.618,11.492,11.36,11.412,11.208,11.451,11.642,11.724,11.346,11.248,11.635,12.296,13.038,13.777,14.426,15.624,16.045,15.786,15.643,14.868,13.683,13.503,12.818,12.616,12.791,12.371,11.524,11.663,11.679,11.672,11.839,12.084,12.029,12.076,12.556,13.253,13.885,14.439,14.499,14.483,15.197,14.527,14.014,13.693,13.378,13.246,13.079,12.598,12.364,12.557,12.705,12.631,12.346,12.268,12.22,12.716,13.337,13.789,14.784,15.426,16.262,17.084,16.881,16.9,17.18,15.565,14.09,13.505,13.404,13.09,12.966,13.074,13.133,13.274,13.244,13.578,13.549,13.355,14.256,15.347,16.325,16.828,17.708,18.523,18.806,18.945,18.925,18.126,16.006,13.767,11.965,11.774,12.095,12.654,12.728,11.485,10.992,10.708,10.242,10.841,11.256,12.819,14.627,16.246,17.679,18.63,19.954,21.117,20.298,19.481,19.914,17.91,15.178,13.97,14.316,14.117,13.646,13.286,12.682,11.68,11.052,11.163,11.283,12.717,13.638,16.04,16.308,16.937,16.469,14.806,15.208,14.582,14.162,13.902,13.889,13.893,13.62,13.072,12.066,11.543,10.847,10.104,9.0196,9.3865,11.298,12.884,13.262,13.398,13.199,13.493,13.863,14.002,14.023,13.726,13.058,11.867,10.652,10.516,10.119,8.6918,8.0988,18.323,19.396,20.001,19.438,19.958,20.58,19.07,17.668,17.173,17.175,18.461,19.477,19.689,19.331,18.753,19.205,19.258,13.896,9.0751,8.5672,8.6376,9.7882,10.395,10.449,10.943,12.016,11.611,10.367,9.9591,10.054,10.53,11.219,11.77,10.267,10.841,11.891,13.123,13.822,14.573,15.294,14.656,14.559,15.928,16.612,16.164,15.781,15.337,14.821,14.323,10.997,11.206,10.591,10.733,10.939,11.244,11.302,11.474,11.704,11.425,11.129,10.529,10.172,10.168,10.331,10.382,10.302,10.381,10.627,10.767,10.722,10.544,10.519,10.909,11.09,11.449,11.935,12.53,13.414,14.124,15.02,15.626,15.642,15.237,15.032,14.714,14.153,13.93,13.592,13.073,12.862,12.887,12.798,12.823,12.954,12.655,12.269,12.565,13.325,13.702,13.594,14.478,15.743,16.508,16.236,15.578,15.891,15.556,14.138,12.48,11.374,10.777,10.506,9.8114,8.5863,7.9271,7.5885,7.3726,7.2108,6.8229,7.1763,9.5705,12.699,14.176,15.181,15.981,16.424,16.668,16.766,16.495,15.964,15.43,14.397,12.699,10.973,9.6385,8.7713,8.1392,7.7092,7.5524,8.2388,8.6642,10.094,11.958,13.155,13.891,14.349,14.691,14.868,15.03,14.892,14.589,13.859,12.912,11.888,11.019,10.426,10.07,9.3165,8.4778,10.492,12.439,13.382,14.648,15.209,15.351,15.615,15.976,16.28,15.878,15.508,14.614,12.949,10.928,10.268,12.582,14.084,15.313,16.366,17.063,17.253,17.477,17.617,16.576,15.179,12.51,12.05,11.977,10.851,12.055,13.465,14.307,14.118,14.192,14.244,14.791,15.007,15.089,14.73,14.124,13.555,13.034,12.594,12.603,12.749,12.874,9.3501,11.089,12.28,13.427,14.276,15.328,16.732,17.945,18.303,17.806,17.192,16.778,15.669,14.434,13.562,13.055,12.846,12.411,12.846,13.316,13.389,13.857,14.216,14.859,15.135,15.083,15.417,14.289,13.445,13.627,13.547,13.416,13.345,13.201,13.437,13.916,13.957,14.259,14.914,15.336,15.745,16.187,16.337,16.372,16.704,16.752,16.334,15.52,14.728,14.472,14.253,14.151,13.854,14.007,14.355,15.033,15.559,15.992,16.783,17.977,18.197,18.22,17.578,16.84,16.86,16.304,15.546,14.75,14.369,13.599,12.968,13.445,14.081,14.609,15.954,17.459,18.609,19.272,20.131,20.968,21.251,21.163,20.057,18.588,17.504,17.234,16.78,15.914,15.158,14.75,14.344,14.031,13.668,13.511,13.46,13.861,14.277,15.029,15.716,15.786,16.518,17.308,17.217,17.608,17.729,18.081,18.784,19.295,17.958,16.764,16.926,16.941,16.98,16.917,16.82,16.503,16.274,15.957,16.048,16.89,17.876,19.08,20.132,20.989,21.989,22.731,23.498,23.451,23.114,22.755,21.626,20.347,19.935,19.193,19.04,18.202,17.887,17.196,16.602,16.049,15.675,15.306,15.554,16.285,17.411,17.97,18.401,18.84,18.884,19.129,19.501,19.995,20.086,18.974,18.341,18.431,18.369,18.15,18.07,18.241,18.435,18.45,18.541,18.443,18.594,18.482,18.339,18.412,18.468,18.6,19.128,19.663,18.859,18.565,18.456,18.323,16.819,16.238,16.189,16.077,15.926,15.868,15.933,16.216,16.44,16.658,16.654,16.713,16.618,16.72,16.913,17.099,16.845,17.005,17.674,18.186,18.401,18.164,17.362,16.909,16.439,15.892,15.536,15.201,15.037,15.103,15.302,15.475,15.389,14.89,14.29,13.765,12.993,12.564,12.379,12.455,12.622,13.066,14.257,15.239,16.214,17.08,17.572,17.695,17.337,16.803,15.874,14.67,13.865,13.131,12.619,11.853,11.386,9.1413,10.971,13.093,14.306,15.289,16.349,17.652,18.699,19.201,18.867,18.342,17.988,17.42,16.897,15.763,15.309,14.656,14.033,14.89,16.253,17.607,18.325,18.209,17.821,17.95,17.746,16.443,15.352,14.582,14.183,13.639,13.326,13.249,13.27,13.229,13.467,13.52,13.533,13.788,14.174,14.788,15.374,15.948,16.516,16.853,17.315,17.302,17.533,17.746,17.71,17.012,15.821,14.733,13.698,13.053,12.331,11.48,11.761,12.482,12.767,12.931,13.278,13.665,13.897,13.883,14.289,15.063,16.145,17.511,18.502,18.549,18.189,18.206,17.894,17.039,15.896,14.871,14.3,13.584,13.475,13.296,12.952,12.928,12.131,11.692,12.247,12.976,13.964,15.586,17.055,18.41,19.459,20.11,20.684,20.589,19.55,18.538,18.155,17.209,16.147,15.332,14.53,13.926,13.623,13.818,14.09,14.594,14.886,14.865,14.818,14.694,14.899,15.39,16.035,16.809,17.089,17.464,17.544,17.893,17.759,17.35,17.039,16.544,15.764,15.427,14.979,14.636,14.357,14.161,14.14,14.633,14.854,14.728,14.358,14.331,14.738,16.027,17.333,18.307,19.647,20.505,20.98,21.767,21.685,20.984,20.067,18.946,17.495,16.747,16.577,16.441,16.103,15.58,14.872,14.389,14.096,13.659,13.5,14.703,16.908,18.73,20.455,21.309,22.608,23.493,24.258,24.412,23.764,23.538,22.473,21.349,20.572,19.683,19.217,18.461,17.5,16.526,15.451,14.727,14.021,13.561,13.355,13.961,15.812,17.099,18.934,20.662,21.614,22.077,22.37,22.583,22.451,22.265,22.398,22.104,21.326,20.29,18.746,17.303,16.155,15.15,14.531,14.407,13.855,13.464,13.096,13.774,16.2,18.446,19.475,21.189,22.199,22.434,22.972,22.943,23.345,23.827,23.907,24.012,21.988,20.047,19.668,19.085,17.828,16.595,16.193,15.823,15.69,16.244,16.427,16.547,18.252,20.336,21.388,22.997,24.566,25.28,24.671,25.336,26.38,26.349,23.741,20.146,18.237,17.119,16.95,16.744,16.716,16.041,15.344,15.586,15.41,15.411,15.544,15.864,16.465,17.767,18.841,19.743,20.604,21.162,21.885,22.5,22.61,21.504,20.508,19.13,18.445,18.073,17.797,17.967,17.72,17.203,16.794,16.707,16.812,16.975,17.014,17.18,17.197,17.092,17.56,18.499,19.463,20.056,20.13,19.723,19.878,20.685,21.04,19.99,18.082,17.339,17.319,17.449,17.379,17.159,17.33,17.759,18.033,17.863,17.461,17.514,18.025,18.932,20.513,22.059,22.63,22.078,22.948,23.189,23.454,24.129,23.335,22.49,21.364,20.713,19.962,19.126,18.779,17.802,16.803,16.454,16.158,15.932,15.667,16.543,18.232,20.474,22.42,23.348,24.383,24.925,25.158,25.639,25.866,25.578,24.931,24.109,23.46,22.592,21.147,19.358,18.107,17.277,16.555,16.053,15.798,15.673,15.56,16.352,18.564,20.99,22.817,24.725,25.511,25.883,26.425,26.803,26.869,25.382,24.581,24.182,22.81,21.348,20.376,19.826,18.811,18.437,18.042,17.767,17.412,17.237,17.426,18.132,19.762,20.982,21.833,23.505,23.705,23.908,24.478,24.796,24.703,25.207,24.971,24.185,22.875,21.313,20.553,20.243,19.595,18.53,18.335,18.359,18.19,18.262,18.153,19.106,20.653,22.483,23.728,24.494,24.571,25.213,25.717,25.993,26.222,26.238,25.315,24.216,23.186,21.755,20.559,19.79,19.244,18.895,18.543,18.372,18.151,17.944,18.217,18.931,20.032,21.443,23.069,24.654,25.062,24.876,25.606,26.108,26.163,26.181,25.939,24.991,23.713,22.157,20.997,20.434,20.041,19.836,19.661,19.443,19.122,18.69,18.713,19.37,21.184,23.056,24.264,25.317,26.059,26.362,26.448,26.373,25.777,24.724,23.467,22.402,21.731,21.175,20.773,20.579,20.472,20.273,20.228,20.385,20.332,20.113,19.993,20.024,20.138,20.661,21.876,22.605,23.029,23.383,23.43,23.406,23.495,22.347,21.116,20.388,20.083,19.782,19.697,19.766,19.629,19.468,19.457,19.614,19.697,19.653,19.55,19.532,19.876,20.606,21.119,21.464,21.468,21.336,21.503,21.006,20.917,20.853,20.657,20.422,20.152,19.884,19.773,19.59,19.656,19.768,19.661,19.512,19.437,19.343,19.016,19.206,20.076,21.391,22.506,23.273,23.454,23.787,24.777,25.453,25.905,25.912,25.053,23.695,22.005,21.65,21.294,20.583,19.917,19.205,18.44,17.777,16.875,16.663,16.438,16.997,19.14,21.759,23.447,25.112,25.852,26.202,26.375,26.315,26.246,25.878,24.729,23.965,22.533,21.358,20.489,19.634,19.208,19.174,19.282,19.154,19.293,19.434,19.699,20.177,20.834,21.717,22.211,22.494,23.862,24.704,25.002,25.502,25.898,25.731,25.392,24.683,23.501,22.55,21.654,20.722,19.776,19.03,18.505,18.159,18.026,17.682,17.784,18.558,19.77,20.445,22.087,23.868,24.806,25.256,25.69,26.374,26.738,26.552,24.952,23.986,23.153,22.208,21.651,21.108,20.185,19.35,18.62,17.963,17.509,17.282,17.423,18.692,20.35,20.936,22.441,24.305,24.81,25.083,25.411,26.024,26.441,26.294,25.533,24.99,23.948,23.383,22.735,21.806,20.967,20.068,19.247,18.809,18.546,18.87,19.172,20.345,21.401,21.97,23.475,25.758,26.463,26.158,25.979,26.275,25.305,25.489,25.184,24.415,23.358,22.148,21.499,21.047,20.404,20.053,19.791,19.725,19.756,19.872,20.078,20.707,21.434,22.587,24.318,26.618,26.953,27.226,27.249,27.857,28.5,28.038,28.235,28.436,27.046,25.261,23.419,21.497,20.226,20.049,18.948,17.899,17.137,16.936,17.297,18.237,20.99,23.068,24.838,26.857,27.413,28.159,28.653,29.066,29.355,28.326,28.049,27.557,25.925,24.698,23.826,22.952,22.588,22.187,21.742,21.184,20.746,20.373,20.269,21.32,23.125,24.576,25.667,26.379,26.304,26.458,26.599,27.178,27.477,27.062,26.332,25.361,23.903,22.695,21.746,20.955,20.927,21.08,20.85,20.538,20.258,19.565,19.42,20.329,22.13,23.46,24.596,25.714,26.092,26.462,26.997,26.815,26.885,26.75,26.587,25.85,24.361,22.8,21.813,20.812,19.806,19.197,18.611,18.366,18.43,17.852,18.1,19.088,20.844,22.373,23.897,25.642,26.43,27.203,27.454,27.435,27.269,27.414,27.388,27.054,26.327,25.439,23.737,22.69,21.797,20.513,19.935,19.69,19.214,18.85,19.007,19.992,22.414,25.649,28.199,29.842,30.277,30.574,31.325,32.0,32.426,32.415,31.593,30.197,28.458,27.44,26.102,24.932,23.877,23.233,23.35,23.223,22.729,22.545,23.003,23.847,24.45,25.125,26.159,27.966,28.903,30.284,29.122,26.796,24.885,25.113,25.889,23.852,21.457,21.753,21.383,20.798,20.546,20.387,19.86,19.579,19.807,19.821,19.663,19.818,20.175,21.095,22.035,22.184,22.278,23.003,23.468,23.8,24.65,25.467,25.716,24.524,24.036,24.273,22.93,22.343,21.646,21.098,20.883,20.926,20.935,20.949,21.053,21.325,22.117,23.15,23.891,24.053,24.955,24.764,22.264,22.342,21.649,21.458,22.174,22.51,22.211,21.316,20.518,20.259,20.227,20.041,19.631,19.297,19.344,19.576,19.968,20.727,21.622,22.704,23.324,23.957,24.695,23.748,22.506,22.026,23.072,23.3,24.268,25.22,24.046,22.859,21.765,20.709,19.985,19.418,18.916,18.792,18.364,18.44,18.459,19.932,21.84,23.639,25.404,28.008,28.433,24.501,22.061,21.025,22.624,23.732,24.359,24.224,23.914,22.836,21.809,20.638,19.935,19.304,18.91,18.396,17.991,17.87,17.885,18.993,20.913,22.659,24.473,26.354,26.164,26.229,26.736,27.338,27.155,26.938,26.335,25.467,24.385,23.294,22.282,21.604,20.902,20.333,19.989,19.986,19.94,19.835,19.884,20.449,21.581,23.141,24.63,25.259,25.542,25.818,25.863,25.582,25.541,25.659,25.203,25.585,25.184,24.194,23.484,22.857,22.292,22.097,21.953,21.895,21.729,21.185,20.425,20.785,22.307,23.814,25.057,25.744,26.523,27.196,27.277,27.817,27.552,28.36,28.156,27.488,26.302,25.016,23.828,23.001,22.192,21.677,21.092,20.699,20.438,20.067,19.582,20.615,22.583,24.344,25.712,27.124,28.23,28.581,28.536,29.071,28.602,28.239,27.89,27.247,25.978,24.669,23.803,23.307,22.847,21.997,21.11,20.37,19.921,19.447,19.421,19.713,21.162,23.236,25.025,27.634,29.21,29.84,30.075,30.593,31.088,30.502,30.458,29.918,26.92,24.832,24.288,24.036,23.21,22.25,21.538,20.991,20.497,20.15,20.115,20.902,23.137,25.829,27.318,28.314,28.057,28.109,28.106,28.074,27.965,27.332,26.355,25.547,24.617,23.904,23.661,23.496,23.254,23.015,22.438,21.894,21.83,21.329,21.019,21.596,23.193,24.929,26.302,27.067,27.137,27.334,27.389,27.541,27.713,27.523,26.571,25.293,23.924,22.624,21.991,21.374,21.237,20.732,20.241,19.871,19.53,19.512,20.769,23.232,24.623,26.108,27.173,27.404,27.762,27.934,28.039,28.186,28.046,26.831,25.47,24.0,22.821,21.28,20.729,20.033,19.301,18.971,18.747,18.697,18.88,20.274,23.057,25.256,26.804,27.897,28.099,28.309,28.82,29.189,29.282,29.007,28.453,27.577,26.12,24.427,23.038,22.055,21.368,20.883,20.42,20.144,20.342,20.17,20.339,21.579,23.717,25.555,27.008,28.265,28.5,29.053,29.327,29.312,29.196,28.754,28.184,27.401,26.181,23.631,22.429,21.431,20.536,19.758,19.066,18.638,18.663,19.131,20.444,22.636,24.56,25.984,27.874,28.636,29.243,29.812,29.993,29.865,29.648,29.145,27.774,26.086,23.121,22.095,21.47,21.043,21.017,20.634,20.01,19.605,19.495,19.359,19.827,20.571,21.452,22.485,23.379,23.94,24.138,24.51,24.734,25.216,24.866,24.577,23.924,22.855,21.62,18.783,17.545,16.575,16.129,15.847,15.78,16.044,17.474,19.86,21.629,23.03,24.023,24.123,24.627,25.085,25.742,26.052,25.796,25.452,25.647,26.013,25.271,22.603,20.216,19.166,18.729,18.561,18.357,18.218,17.295,16.78,17.915,20.322,22.114,24.188,26.057,26.325,26.659,26.516,26.891,25.782,25.372,25.459,25.216,24.753,23.741,22.117,20.635,19.888,19.041,19.135,19.241,19.093,18.877,18.623,18.394,18.962,20.172,21.866,23.712,25.038,26.952,27.861,27.478,26.607,26.07,26.03,25.597,24.352,22.949,22.68,22.477,21.456,20.224,19.673,18.883,18.65,18.771,19.309,20.173,22.731,24.507,25.521,27.535,28.391,29.216,28.879,29.409,30.07,28.966,29.553,29.564,27.759,24.691,23.862,23.611,23.121,22.983,22.389,21.789,21.361,21.692,23.485,25.316,26.904,28.689,28.326,28.433,28.618,28.527,28.189,28.086,27.552,23.962,21.95,21.21,21.258,21.213,21.282,21.426,21.357,21.117,20.929,21.06,21.281,21.598,22.265,22.827,23.442,25.28,26.658,28.443,28.834,28.923,29.146,29.338,29.283,28.639,26.989,26.071,24.313,22.919,21.62,20.68,20.047,19.568,19.688,19.621,19.707,21.079,23.535,25.019,25.623,26.9,27.32,27.577,27.938,28.406,28.624,28.229,27.983,26.256,24.272,22.916,22.503,22.041,21.679,21.266,21.277,21.245,21.3,21.21,20.797,21.062,21.908,22.675,23.561,24.835,27.694,29.406,29.392,29.403,29.776,29.666,28.642,27.556,26.901,25.311,24.621,23.177,21.853,20.65,19.775,19.148,18.929,18.494,18.478,19.341,22.034,24.909,26.773,28.994,29.812,30.036,30.296,31.231,31.444,30.962,29.769,28.475,26.829,26.114,25.969,25.242,23.571,22.08,21.054,20.26,19.845,20.059,19.764,20.39,23.269,25.555,26.427,28.167,29.572,31.157,32.336,33.035,31.975,30.247,28.438,26.944,25.371,24.574,24.116,23.568,23.259,22.56,21.48,20.631,19.88,19.618,19.77,20.758,22.91,25.748,28.137,30.107,30.898,32.075,32.313,32.313,32.478,32.628,32.161,29.99,27.683,27.096,26.331,24.983,23.351,22.093,21.303,20.616,19.929,19.828,19.894,21.654,24.276,26.976,28.658,30.281,30.538,30.696,30.223,29.934,29.54,28.837,27.881,26.227,25.047,24.059,23.593,22.885,22.354,21.868,21.339,21.031,21.154,22.393,24.587,25.969,27.372,28.858,29.256,29.429,29.656,30.605,30.255,29.689,28.798,27.314,25.687,24.462,23.719,23.121,22.114,21.517,21.581,21.619,21.312,21.348,22.274,23.851,25.533,27.11,28.35,28.875,29.758,30.529,30.964,30.992,30.785,30.196,29.228,25.508,24.737,24.518,23.923,23.137,23.076,23.534,24.477,25.52,26.602,27.656,28.898,29.448,30.03,30.577,30.611,30.439,30.578,30.328,29.427,28.108,26.727,25.454,24.563,23.789,23.523,23.107,22.795,22.515,22.387,22.803,23.796,25.642,27.418,28.507,29.599,30.067,30.364,30.568,30.958,30.988,30.98,30.838,29.982,28.768,27.46,26.163,25.126,24.299,23.891,23.589,23.195,23.202,23.446,23.606,24.533,26.282,27.902,29.907,30.031,30.196,30.469,30.846,30.281,29.203,27.761,26.373,25.436,24.571,24.183,23.704,23.315,23.161,23.029,22.547,22.521,23.411,25.06,26.706,27.772,28.823,29.617,30.247,30.362,30.389,30.676,31.459,31.109,30.198,28.78,27.528,26.605,25.692,24.78,24.127,23.664,23.2,23.0,22.767,22.91,23.662,25.301,26.747,28.079,29.21,31.111,31.74,32.407,31.985,31.287,30.04,28.012,26.429,25.269,23.873,22.79,22.131,21.497,20.94,20.441,20.247,21.154,23.342,26.505,28.753,30.471,30.927,31.385,31.833,32.286,32.391,32.54,32.482,31.999,30.767,29.079,27.371,25.637,24.151,23.188,22.777,22.13,21.617,21.232,21.153,21.919,24.377,27.037,29.236,30.748,31.867,32.507,32.779,33.183,33.622,32.28,30.907,29.741,28.597,27.278,26.131,25.165,24.805,25.132,25.574,25.597,25.302,25.156,25.67,26.497,27.359,28.311,29.06,29.648,32.095,31.061,30.669,29.498,28.375,26.96,25.766,24.401,23.193,22.342,21.812,21.547,21.575,22.953,25.583,28.262,29.97,31.635,32.976,33.451,33.536,33.37,32.631,31.863,30.75,29.557,28.175,27.084,26.053,25.234,24.565,24.123,23.899,23.733,23.693,23.547,23.596,25.007,26.68,27.946,29.17,30.199,31.179,32.134,33.239,34.332,34.483,34.138,33.128,31.249,29.337,28.311,27.705,26.3,25.565,25.419,25.506,26.023,26.19,25.742,25.821,27.902,28.693,29.936,31.367,31.328,28.53,28.722,28.496,28.537,28.139,27.656,27.193,26.714,26.076,25.679,25.332,24.979,24.853,24.738,24.187,23.718,24.064,25.102,26.587,28.012,29.28,30.338,31.278,32.137,32.955,32.814,32.421,31.611,31.231,30.168,28.588,26.817,25.847,24.925,24.706,25.262,25.604,25.213,24.918,23.634,23.458,25.186,27.418,28.657,29.582,30.258,30.908,31.517,32.161,31.789,30.088,29.099,28.224,27.375,26.619,25.864,25.129,24.857,24.726,24.581,24.613,24.6,24.871,25.354,26.063,26.805,27.699,29.225,30.397,30.472,30.827,30.847,30.369,28.573,27.419,26.465,25.702,25.159,24.789,24.557,24.566,24.508,24.47,24.561,24.521,24.39,25.476,26.738,28.009,28.999,31.925,32.057,31.922,31.106,30.206,29.523,28.567,27.763,27.047,26.431,25.905,25.417,24.621,24.232,24.063,23.943,23.965,24.283,25.792,27.391,28.732,29.551,30.319,31.38,32.2,33.818,33.974,33.178,32.148,30.601,29.541,28.614,27.834,26.87,25.486,23.911,23.169,22.441,21.405,21.716,24.21,27.231,29.703,31.332,32.554,33.333,34.101,34.532,33.822,32.955,30.572,28.843,28.175,27.252,26.739,26.084,25.191,24.517,23.907,23.514,23.784,24.684,26.754,28.432,29.364,30.123,30.693,31.109,31.497,31.011,30.31,29.448,28.409,27.379,26.635,26.099,25.416,24.829,24.27,23.874,23.634,23.547,23.699,24.546,26.175,27.435,28.267,28.844,29.418,29.991,30.22,29.381,29.115,28.802,28.155,27.444,26.807,26.255,25.825,25.433,24.943,24.831,24.44,24.419,24.435,24.78,25.871,27.486,28.647,29.873,31.059,31.656,31.843,32.362,31.853,31.275,30.06,28.726,27.695,26.681,26.15,25.849,25.612,25.461,25.307,25.091,24.854,25.179,25.966,26.761,27.689,28.968,29.626,30.734,31.532,32.0,32.31,31.726,30.855,29.81,28.421,27.198,26.463,25.754,24.75,23.534,22.597,22.155,21.724,21.292,21.164,22.252,24.445,27.191,28.4,29.096,29.6,30.004,30.24,29.806,28.948,27.826,27.151,26.358,25.461,24.901,24.156,23.313,22.75,22.613,22.767,22.94,23.136,24.382,26.199,27.981,29.072,29.53,29.899,30.146,30.387,30.22,29.078,28.487,28.257,27.427,26.581,25.586,24.551,23.628,23.143,22.881,22.619,22.358,22.096,21.834,22.331,23.905,25.812,27.849,28.825,29.176,29.527,29.83,29.947,29.922,29.365,28.999,28.256,27.099,26.137,25.152,23.764,22.787,22.265,21.756,21.538,21.546,21.393,20.752,21.196,23.213,25.673,27.22,28.083,28.528,28.956,29.385,28.136,27.097,26.059,25.021,24.05,23.517,23.159,22.791,22.628,22.784,23.122,23.75,24.145,25.328,26.524,27.676,28.418,28.859,29.101,28.954,28.797,28.64,28.466,27.927,27.241,26.555,25.869,25.258,25.007,24.61,23.976,23.131,22.259,21.716,21.386,21.183,21.763,23.793,25.363,26.485,27.2,27.673,28.088,28.449,28.647,28.794,28.212,27.422,26.654,25.813,24.866,23.925,22.844,21.693,21.008,20.746,20.508,20.494,20.536,20.578,20.978,22.59,24.618,26.394,27.392,28.006,28.527,28.96,29.258,29.246,28.718,27.574,26.81,26.046,25.268,24.47,23.544,22.551,21.55,20.914,20.551,20.595,20.616,20.466,20.877,22.876,25.317,26.586,27.616,28.207,28.65,29.194,29.226,28.877,28.242,27.444,26.239,25.342,24.221,22.809,21.609,20.903,20.279,19.811,19.472,19.275,19.219,19.769,21.846,24.176,26.035,27.422,28.672,29.325,29.889,30.042,29.713,29.58,29.012,28.044,26.724,25.672,25.044,24.225,23.137,22.39,22.171,21.491,20.829,20.367,20.135,20.591,22.397,25.02,26.538,27.453,28.358,29.064,29.08,29.119,28.987,26.31,25.508,24.647,23.878,23.671,23.653,23.255,22.839,22.69,21.979,21.029,19.775,19.336,19.499,20.077,21.631,22.835,23.074,23.227,23.039,22.756,22.316,21.512,21.102,20.883,20.664,20.556,20.725,20.939,20.711,20.506,20.799,20.879,21.167,21.233,21.187,21.881,22.4,23.073,24.1,25.351,25.899,26.509,26.953,27.137,27.233,27.1,26.409,25.614,25.05,23.876,22.557,21.274,20.315,19.814,19.6,19.439,19.515,18.997,19.409,21.228,23.938,25.706,26.974,28.201,29.163,30.023,29.575,29.048,28.31,26.68,25.12,23.715,22.342,21.016,20.298,19.685,19.515,19.568,19.7,19.821,20.422,22.298,25.054,27.446,28.972,29.996,30.241,30.404,30.983,31.128,31.18,30.654,29.902,28.522,27.121,25.636,24.362,22.913,21.714,21.04,20.738,20.5,20.168,20.129,20.471,22.412,25.436,27.603,28.801,29.908,30.293,31.047,31.593,31.58,30.949,29.761,28.682,28.053,27.424,26.509,25.718,24.585,23.077,22.251,21.777,21.419,21.173,20.879,21.168,22.875,25.336,27.154,29.542,30.443,30.979,31.307,31.002,30.956,29.997,29.127,28.699,27.882,26.14,24.784,23.842,22.994,22.648,22.257,21.582,20.968,20.831,21.375,23.585,26.655,28.57,30.099,31.172,31.999,32.574,32.422,32.179,31.629,29.538,28.153,27.219,26.32,25.554,25.133,24.903,24.436,24.043,23.939,24.071,23.973,24.363,25.5,26.748,27.659,28.385,28.899,29.339,29.474,29.436,29.197,28.715,27.828,26.835,25.562,24.691,24.093,23.432,22.441,21.395,20.868,20.477,20.037,19.823,19.831,20.427,22.13,24.69,26.275,27.39,28.261,28.83,29.02,29.17,29.166,28.884,28.369,27.391,26.378,24.769,23.056,21.865,21.317,20.842,20.39,19.995,19.542,19.116,18.681,18.767,20.45,23.122,24.728,25.787,26.97,27.807,28.365,28.779,29.054,28.852,28.095,26.98,25.278,24.127,23.174,21.978,20.747,20.185,19.923,19.785,19.649,19.614,19.685,20.11,22.04,24.25,25.43,26.719,27.673,28.284,28.86,28.927,28.951,28.791,28.13,27.102,25.94,25.034,24.482,23.894,23.45,23.196,23.044,22.985,22.216,21.163,20.776,20.935,22.489,24.417,26.067,27.103,27.747,28.327,28.872,28.976,28.951,28.758,28.38,27.543,26.35,25.061,23.929,22.967,21.895,20.892,20.397,20.203,20.201,19.933,19.673,20.039,21.739,24.324,25.751,26.532,27.218,27.862,28.46,28.791,28.643,28.3,27.494,26.267,25.006,24.274,23.588,22.784,22.098,21.435,20.844,20.301,20.135,20.086,20.234,20.905,22.763,24.7,26.035,27.775,28.42,28.873,29.427,29.742,29.933,29.162,27.997,26.429,25.335,24.901,24.605,24.196,23.965,23.686,23.024,22.405,22.35,22.351,22.987,24.303,25.744,26.895,27.719,28.248,28.682,29.182,29.527,29.474,28.816,28.121,26.904,25.686,24.95,24.336,23.565,23.054,22.792,22.755,22.429,22.163,23.423,25.145,27.886,28.512,28.426,28.317,27.939,27.166,26.315,25.522,24.832,24.289,23.875,23.75,23.399,22.9,22.404,21.97,21.779,21.163,21.319,23.33,25.263,26.269,27.182,27.644,28.287,28.176,27.745,27.134,26.412,25.547,24.64,23.968,23.051,22.067,20.951,20.191,19.642,19.06,18.704,18.744,18.677,18.662,20.598,23.9,25.953,26.772,27.421,27.77,28.113,28.055,27.582,26.625,25.554,24.588,24.075,23.525,22.768,22.15,21.56,20.72,20.062,19.585,19.586,19.929,20.419,21.645,24.124,25.794,26.67,27.37,27.992,28.325,28.407,27.976,26.472,25.218,24.021,22.564,21.482,20.735,20.273,19.674,19.153,18.588,18.428,18.147,18.329,19.082,21.425,23.771,25.527,27.271,28.417,29.198,29.592,29.76,29.88,28.856,28.251,26.611,24.889,23.572,22.785,21.431,19.976,19.484,19.311,19.232,18.307,17.902,18.004,19.518,22.879,25.683,27.225,28.679,29.797,30.344,31.0,31.471,31.565,30.783,29.419,27.527,25.442,23.805,22.248,21.22,20.594,20.741,20.846,20.459,20.325,20.688,20.411,20.993,23.869,26.894,31.839,32.416,32.536,32.538,32.615,31.135,29.076,27.939,26.635,24.99,23.913,23.139,22.671,21.614,20.97,20.367,20.257,20.363,20.824,22.194,24.476,26.701,31.573,32.034,31.303,31.437,30.497,29.089,28.202,27.097,26.173,26.309,25.595,24.775,24.326,23.895,23.122,22.449,22.385,22.787,23.613,25.289,26.238,27.34,28.234,28.752,29.501,29.725,28.625,27.237,27.003,26.609,25.676,24.949,24.464,23.644,22.975,22.287,21.818,21.222,21.425,21.343,21.058,21.136,22.512,24.439,25.524,26.655,27.39,28.488,28.461,28.561,28.363,27.619,26.368,25.236,24.301,23.681,23.331,23.228,22.849,22.013,21.5,21.473,20.864,21.05,21.783,23.063,24.417,25.429,26.31,27.251,27.948,28.388,28.611,28.556,28.39,27.679,26.19,24.54,23.654,23.233,22.795,22.654,22.679,22.592,22.365,22.321,21.513,20.123,19.631,20.603,23.134,24.528,25.939,27.117,27.857,27.856,27.624,27.503,26.735,25.597,24.51,23.781,23.217,22.759,22.051,20.558,19.488,19.062,18.598,18.273,18.288,18.581,20.256,22.832,24.642,25.581,26.239,26.717,26.972,27.063,26.818,24.691,23.862,22.92,21.531,20.169,19.511,19.569,19.895,19.426,18.954,18.73,18.596,18.754,20.047,22.543,24.192,25.724,26.816,27.705,28.333,28.749,28.736,28.382,27.778,26.926,25.84,24.625,23.576,22.21,21.267,20.377,19.833,19.392,19.054,18.877,19.01,19.158,20.182,22.27,24.901,26.989,27.481,27.409,29.073,29.596,29.307,28.364,28.04,26.882,26.227,25.816,25.14,24.665,23.515,23.363,23.241,22.91,22.525,22.94,24.455,25.632,26.625,27.638,28.445,28.624,27.628,27.225,26.68,25.941,25.15,24.289,23.76,23.479,23.177,22.194,21.27,20.591,19.487,18.807,18.41,18.266,18.42,19.631,22.572,24.625,25.639,26.89,27.791,28.305,28.392,27.993,27.668,26.594,25.596,24.765,23.931,23.074,21.848,21.363,21.835,21.874,21.935,21.428,20.524,19.335,18.98,20.225,22.733,24.926,26.024,26.847,27.375,27.651,28.008,27.86,27.413,26.584,25.359,24.212,23.105,22.196,21.265,20.601,20.506,20.683,20.986,21.03,20.977,21.149,20.87,21.186,23.177,25.404,26.868,27.773,28.524,29.207,29.378,29.306,29.146,28.363,26.815,25.086,23.906,23.591,23.344,22.945,22.547,21.589,20.852,20.649,20.775,20.65,20.807,21.584,22.986,24.75,26.276,27.622,28.967,29.94,29.706,29.23,29.817,29.201,28.243,26.433,24.919,23.871,23.287,22.273,21.534,20.816,20.514,20.401,19.205,18.386,17.786,18.769,21.637,23.898,25.617,27.053,28.213,29.269,29.394,28.94,27.918,28.006,26.89,25.556,24.867,24.308,23.926,23.477,23.738,23.347,22.25,22.094,22.009,21.534,21.41,22.207,24.191,26.365,27.422,28.243,29.053,29.887,30.178,29.944,29.777,29.143,27.664,25.908,24.908,24.58,24.45,24.376,24.128,23.972,23.73,23.572,23.356,23.271,23.433,24.294,25.397,26.31,27.27,28.303,29.239,29.335,29.308,29.546,29.036,27.788,26.538,25.479,24.829,24.558,24.317,24.037,24.005,23.861,23.606,23.382,23.228,22.951,23.134,23.904,25.072,26.178,26.98,27.67,28.071,28.437,28.557,28.169,27.368,26.076,24.757,24.093,23.809,23.495,22.902,22.148,21.422,20.845,20.242,19.598,19.303,19.33,19.175,20.058,22.632,24.848,26.009,26.669,26.912,27.124,27.342,27.242,26.837,25.91,24.63,23.587,22.46,21.585,20.799,20.549,19.912,19.454,19.426,19.492,19.304,19.078,18.911,19.769,21.656,23.083,24.247,25.652,26.659,27.143,27.646,27.172,26.163,25.573,24.861,23.911,23.458,23.17,22.955,22.865,22.696,22.617,22.43,22.356,22.589,22.709,22.651,22.903,23.623,24.481,25.501,26.438,26.684,26.382,25.741,25.202,24.815,23.982,23.022,21.909,21.469,20.759,19.965,19.541,19.488,19.503,19.597,19.412,19.99,20.578,21.593,22.497,21.131,20.232,22.878,24.679,25.228,25.598,25.127,24.65,24.17,23.785,23.423,23.252,23.184,23.073,22.987,22.677,22.313,22.12,21.768,21.353,20.866,20.351,20.509,21.992,23.655,24.719,25.441,25.845,26.203,26.299,26.304,25.967,25.343,24.008,22.725,21.181,19.825,19.22,18.303,18.145,17.777,17.687,17.53,18.146,19.95,22.584,23.966,25.199,25.836,26.623,26.806,26.797,26.325,25.866,24.74,23.154,21.912,21.455,20.935,20.278,19.722,19.629,19.276,22.457,23.969,25.08,25.823,26.305,26.469,26.392,25.995,25.227,24.33,23.331,22.535,22.053,21.227,20.794,17.035,17.842,20.214,22.12,22.87,23.513,24.032,24.41,24.301,23.786,23.691,23.074,22.429,22.088,21.668,21.659,21.705,21.125,16.846,17.676,20.834,22.642,23.617,24.148,24.467,24.342,24.05,23.887,23.499,22.792,21.964,21.242,20.283,19.391,18.363,17.655,17.124,16.855,16.903,16.957,17.04,16.819,17.692,20.668,22.629,23.46,24.06,24.461,24.686,24.789,24.241,23.754,22.942,22.104,21.255,20.431,19.748,19.163,18.589,18.009,17.567,17.818,17.355,16.958,16.77,17.723,19.853,22.403,23.641,24.84,25.512,25.954,25.827,25.567,25.054,23.97,22.836,22.098,21.471,20.984,20.113,19.408,18.943,18.947,19.242,19.357,18.473,18.251,18.292,18.567,19.406,19.959,19.816,21.236,22.021,22.054,21.61,21.014,20.316,19.309,18.238,17.364,16.432,15.717,15.943,16.547,15.403,14.738,14.682,14.521,14.232,13.889,14.536,16.835,19.55,21.193,22.251,23.059,23.339,23.121,22.978,22.635,21.935,20.957,20.064,19.232,18.183,17.081,16.341,15.558,14.856,14.414,14.11,13.943,14.027,14.032,14.801,16.874,19.262,21.262,22.442,23.227,23.781,24.116,24.421,23.902,22.975,21.933,21.211,20.901,20.467,19.581,18.243,17.483,17.353,17.299,17.014,16.254,15.768,15.42,15.992,17.761,20.112,21.827,22.892,23.589,24.127,24.413,23.847,22.96,21.908,20.607,19.549,18.767,17.082,16.236,15.848,15.568,14.71,13.988,13.556,13.196,12.922,12.551,13.2,15.839,18.907,20.522,21.561,22.611,23.423,23.159,22.701,22.217,21.968,20.759,19.741,18.441,17.048,15.872,14.772,13.736,13.166,12.655,12.493,12.318,12.068,12.064,13.092,15.793,18.907,20.508,21.451,22.5,23.7,24.411,24.366,23.786,23.514,22.182,20.43,18.876,17.463,16.477,16.13,15.765,15.393,15.162,14.76,14.554,14.354,14.078,14.451,16.65,19.811,21.726,22.818,24.017,24.967,25.684,25.887,25.78,24.896,23.56,22.05,20.84,19.983,18.933,17.637,14.539,15.106,17.122,20.131,21.7,22.507,23.468,24.425,25.321,25.416,25.156,15.171,15.516,16.748,17.256,17.088,15.772,15.138,15.006,14.766,14.394,14.184,13.946,13.847,13.738,13.656,13.679,13.957,14.355,14.277,14.498,14.338,14.225,14.193,14.421,14.87,15.492,15.908,16.334,16.398,16.505,16.315,15.725,15.002,14.356,13.836,13.55,12.821,12.272,12.253,12.237,11.956,12.693,12.686,13.237,12.572,11.707,12.71,14.157,15.072,15.548,15.991,16.356,16.821,16.799,16.458,15.869,15.261,14.819,14.41,13.802,12.388,12.08,12.372,12.718,13.352,13.455,12.907,12.928,12.721,13.236,16.217,16.293,15.866,15.11,14.585,14.481,14.332,13.655,12.169,11.583,11.755,12.334,12.814,13.554,14.038,14.183,14.477,15.037,15.423,15.407,15.331,15.265,14.869,14.716,14.586,14.237,13.95,13.795,13.82,13.775,13.75,14.163,14.284,14.104,13.994,14.057,14.081,14.008,13.335,14.136,15.064,15.734,16.085,16.295,16.332,16.492,16.414,15.979,15.199,14.697,14.013,13.127,12.353,12.169,12.245,12.413,12.816,13.116,13.25,13.422,13.444,13.418,13.511,13.831,14.72,15.483,16.096,16.613,16.881,17.105,17.178,16.954,15.545,14.518,13.717,13.082,12.345,11.621,11.065,10.657,13.095,13.716,14.451,15.28,15.837,15.226,14.947,14.526,14.341,14.466,14.286,14.002,13.081,12.009,11.467,11.29,10.983,10.588,12.915,12.829,12.781,13.099,13.836,15.11,15.873,15.848,15.757,15.166,14.489,13.983,13.45,13.222,12.707,12.361,12.262,11.651,11.585,12.567,13.148,14.102,15.289,16.186,16.78,16.882,16.673,16.604,16.087,15.329,14.724,14.515,14.174,13.412,12.88,12.059,11.391,10.143,10.947,13.161,15.075,15.816,16.293,16.717,17.041,16.983,16.792,16.093,15.017,13.64,12.598,12.068,11.599,11.428,10.784,10.213,9.9287,9.7159,9.804,9.9795,9.8746,10.635,12.178,14.105,15.429,16.241,16.807,17.172,17.551,17.276,16.857,16.143,15.433,14.948,14.423,14.671,14.99,14.807,14.726,14.331,13.994,13.389,13.342,13.791,14.481,14.496,14.531,14.648,14.859,15.281,15.427,15.255,15.08,14.658,14.021,13.416,13.042,12.824,12.553,12.086,11.473,10.59,9.6627,9.068,8.953,9.3241,9.783,9.5561,9.1545,9.1843,10.007,12.31,13.806,14.626,15.22,15.58,15.987,16.19,15.835,14.684,13.502,12.194,11.308,10.508,9.5235,8.7271,8.3424,7.9491,7.7253,7.3961,7.8253,7.5416,7.0397,7.0773,8.0424,10.396,13.249,14.339,15.033,15.738,16.181,16.312,15.979,15.01,14.062,13.624,13.371,12.397,11.858,11.808,12.128,11.752,11.815,12.518,12.961,12.879,12.589,12.639,13.91,14.625,15.306,15.442,15.298,14.658,14.625,14.338,13.906,13.465,12.85,12.433,12.616,12.885,11.179,11.41,11.381,11.437,11.55,10.783,10.541,10.158,9.2391,8.8662,9.5927,9.3647,9.4866,8.8042,9.1539,10.35,10.843,11.144,11.114,10.705,10.297,9.9901,9.8112,9.62,9.3385,9.4097,9.8512,10.902,10.096,10.641,10.992,11.19,11.823,12.236,12.173,12.468,12.189,11.939,11.796,11.649,11.61,11.414,11.535,11.377,10.489,10.992,11.263,11.662,12.1,12.521,12.761,12.729,12.688,12.21,11.843,11.775,11.66,11.528,11.171,10.635,10.544,8.9327,9.3295,10.271,11.585,12.394,13.018,13.363,13.175,13.016,12.423,11.455,10.519,9.9551,9.5208,9.2473,9.1778,9.5087,9.612,10.165,11.009,11.511,11.808,11.861,11.207,10.759,9.9339,8.8003,8.0815,7.3401,6.7873,6.9505,7.2827,8.056,9.3232,9.8909,10.768,11.357,11.547,11.804,11.795,11.345,10.534,10.164,9.1165,8.247,7.0598,5.9311,6.9578,7.2303,8.4911,10.639,12.151,13.048,13.801,14.454,14.191,13.463,12.546,11.58,10.652,9.5528,8.8953,7.2835,8.618,10.917,12.359,13.075,13.926,14.603,14.934,15.186,14.562,13.629,12.515,11.354,10.891,11.035,10.992,6.1602,6.5803,8.3883,10.925,12.486,13.42,14.047,14.072,14.187,14.119,12.749,10.898,9.4187,8.7192,8.2625,7.6572,7.3096,6.8689,6.9782,8.6528,11.647,12.951,13.721,14.241,14.311,13.779,12.871,11.963,11.229,10.934,10.672,10.697,10.77,10.844,9.8946,10.429,11.107,11.478,12.097,12.395,11.783,11.342,10.894,10.454,10.966,11.302,11.335,11.282,10.556,9.9366,10.137,10.335,10.565,10.76,10.836,10.803,10.58,10.381,10.234,10.04,9.9457,10.009,10.099,10.152,9.9078,9.6752,9.5573,9.5146,9.6936,9.5988,9.9222,10.592,10.756,10.788,10.947,10.91,10.828,10.767,10.736,10.57,10.439,10.523,10.693,10.622,10.389,10.233,10.06,9.8812,9.5056,9.0787,8.4997,9.8494,10.774,11.162,11.515,11.794,10.798,9.8826,9.1629,8.1514,7.1193,4.8001,4.3196,3.9385,3.7319,3.493,3.4907,3.7194,4.3181,5.8713,8.9988,11.669,12.495,12.929,13.21,13.126,12.796,11.813,10.934,10.364,9.3649,8.1851,7.5657,7.0509,6.6301,6.907,7.3803,7.5023,7.4105,7.6145,8.0976,9.9483,11.208,12.0,12.804,13.245,13.858,14.533,14.439,14.382,13.836,12.72,10.803,9.5001,8.6171,7.8942,7.5349,7.6804,8.0053,8.038,8.3966,5.9967,6.2285,7.8919,10.587,12.076,13.302,14.548,15.022,15.0,14.145,12.746,11.526,10.391,9.0687,7.7218,6.5848,5.7584,5.3309,4.2303,4.2231,5.5997,8.5226,11.301,12.935,14.181,14.327,13.243,12.114,10.82,10.425,9.8014,8.398,7.0876,6.114,5.9646,5.6674,5.8343,5.302,5.5104,6.1168,8.1866,10.818,12.065,12.738,12.973,13.063,12.666,12.014,11.186,9.6664,7.8151,6.5997,5.8204,5.4791,4.9857,4.5623,4.4063,5.3872,6.4694,7.5284,9.844,12.206,13.142,13.661,13.821,13.061,11.408,10.885,9.7747,8.5659,7.27,6.4074,6.0883,9.2008,9.0411,8.536,9.2785,12.417,14.464,15.39,15.97,16.709,16.783,16.287,15.447,14.94,15.387,16.287,15.906,14.918,14.668,15.879,15.717,14.662,13.806,14.831,15.321,15.495,15.854,16.563,17.628,18.303,18.377,18.621,18.579,18.27,17.794,17.427,18.091,18.551,18.237,17.344,17.329,18.975,19.451,18.856,18.811,19.1,18.723,18.401,18.84,19.064,19.051,19.522,19.733,20.44,21.063,21.55,20.273,19.555,19.328,18.555,18.292,18.937,18.268,18.503,17.829,16.643,16.446,15.684,14.97,14.869,14.867,14.887,13.875,13.124,13.268,13.484,13.722,13.851,13.651,13.387,13.193,12.802,12.023,11.481,11.146,10.827,10.03,9.6583,9.6873,9.6875,9.6005,9.7586,9.5349,8.5255,7.725,7.0858,7.2209,7.839,9.8652,11.16,11.836,12.275,12.653,12.666,12.146,11.669,11.505,11.145,9.902,9.1821,9.3208,8.922,7.9023,6.7939,7.0848,6.9155,8.1886,9.6646,10.592,11.635,12.05,12.284,12.378,11.881,11.029,10.529,9.3418,8.2023,7.0032,8.6762,8.9568,8.792,11.684,12.707,13.578,14.283,14.46,15.234,15.575,16.106,16.307,16.405,16.349,14.357,14.069,14.432,13.711,15.464,16.092,16.666,16.196,15.393,13.948,13.848,13.651,13.241,12.362,11.44,11.336,11.157,11.054,11.074,10.851,10.856,10.69,10.974,11.72,13.234,14.558,15.188,14.983,14.493,14.087,14.14,13.943,13.887,13.369,12.456,11.859,11.127,10.993,10.976,11.275,11.359,11.578,10.646,10.773,11.274,10.953,11.242,12.695,13.75,14.437,14.804,14.888,14.841,14.938,14.928,14.609,14.44,14.577,14.296,14.087,13.531,13.232,12.324,12.192,11.827,11.725,11.414,11.195,11.318,11.052,11.205,11.812,12.791,13.819,14.847,15.868,16.452,16.627,16.006,14.809,14.476,13.786,12.962,11.776,11.011,10.586,10.308,10.197,10.102,10.007,9.9235,9.9971,10.121,10.415,11.038,11.834,13.351,14.662,14.95,15.124,15.208,14.913,14.575,14.236,14.037,13.615,13.675,13.769,14.78,16.671,16.278,15.82,15.786,16.273,17.098,17.471,17.258,16.171,16.639,17.042,17.198,15.852,13.459,13.222,12.935,12.632,12.579,12.52,12.095,11.808,11.789,12.325,12.611,13.928,15.566,15.911,16.063,15.971,15.919,15.884,15.931,16.208,16.364,16.339,16.346,17.07,17.926,18.348,18.755,18.841,18.738,18.809,19.017,19.022,18.655,18.532,18.541,19.022,19.617,18.728,17.409,16.556,16.224,16.043,15.496,14.678,14.012,13.48,13.459,13.49,12.85,12.571,12.295,10.18,10.05,9.9547,9.9103,10.1,10.338,10.713,11.032,11.573,11.951,12.551,13.295,13.679,13.519,14.054,14.657,14.751,14.234,15.157,16.641,18.158,18.068,16.633,15.882,15.882,17.098,15.689,14.66,14.446,14.208,14.033,14.018,14.059,14.613,15.321,15.712,15.968,16.263,16.612,16.872,15.124,13.663,13.025,13.352,13.941,14.876,14.511,13.227,12.186,12.005,11.682,11.319,12.156,11.283,9.6115,8.4283,8.7733,9.4025,10.146,10.968,11.604,11.689,11.635,11.483,10.79,10.057,9.5949,9.178,8.6941,8.0998,8.3364,8.8018,9.5573,10.181,10.656,10.895,11.006,11.072,10.884,11.038,11.464,12.105,12.692,12.951,12.958,12.965,12.972,12.972,12.966,12.942,12.793,12.599,12.418,12.49,12.59,12.82,12.871,12.16,11.138,10.605,10.717,10.933,10.631,9.9905,9.7254,9.5678,9.2996,9.021,8.801,8.6376,8.3626,8.0108,7.677,7.4191,7.1739,6.9576,6.3698,5.8059,5.519,5.5703,4.6201,4.5029,4.6095,4.7811,5.2196,5.469,5.6085,5.7371,5.5862,4.6985,3.9634,3.8185,3.7835,3.8687,3.6312,3.6108,3.8539,3.7822,3.4288,3.2759,4.1084,5.0783,5.9083,6.5254,6.7398,7.1929,7.543,7.3004,6.2259,5.1714,4.6708,4.171,3.9673,3.89,3.8455,3.7801,3.6984,3.6454,3.588,3.4638,3.3078,3.8853,4.4466,4.5329,4.8234,5.8838,7.3866,8.7093,9.2004,9.0924,8.489,7.6297,6.6849,5.9928,5.544,5.6019,6.0596,6.0222,6.1018,6.2635,6.5153,6.6572,6.4095,6.217,5.9492,5.9272,6.6951,8.8228,10.149,10.572,10.678,10.736,10.737,10.487,10.106,9.4803,9.5553,9.0601,8.0589,7.1813,6.4712,6.0697,5.8186,5.6531,5.3465,5.2612,5.0351,4.7364,4.4641,4.2722,5.2822,7.0311,8.9323,9.5762,9.9052,10.292,10.571,10.703,10.269,9.2247,7.9825,7.0708,7.0267,6.6584,6.5209,6.5634,6.5786,6.5068,6.4831,6.8786,7.4841,8.0148,8.4324,8.953,9.2192,9.4789,9.7591,10.229,10.65,10.764,10.893,10.283,9.5533,8.1714,7.3222,6.6378,7.0469,6.7815,5.758,5.1599,4.6561,4.2103,4.9481,5.4871,5.857,6.8601,8.5926,10.391,12.058,12.29,12.591,13.784,14.515,14.782,13.639,12.759,12.3,12.212,12.295,9.2983,10.044,10.262,10.69,10.931,11.08,10.819,10.454,10.305,10.238,10.347,10.155,9.0301,7.8879,7.2647,7.006,6.9279],\"yaxis\":\"y\",\"type\":\"histogram\"}],                        {\"template\":{\"data\":{\"histogram2dcontour\":[{\"type\":\"histogram2dcontour\",\"colorbar\":{\"outlinewidth\":0,\"ticks\":\"\"},\"colorscale\":[[0.0,\"#0d0887\"],[0.1111111111111111,\"#46039f\"],[0.2222222222222222,\"#7201a8\"],[0.3333333333333333,\"#9c179e\"],[0.4444444444444444,\"#bd3786\"],[0.5555555555555556,\"#d8576b\"],[0.6666666666666666,\"#ed7953\"],[0.7777777777777778,\"#fb9f3a\"],[0.8888888888888888,\"#fdca26\"],[1.0,\"#f0f921\"]]}],\"choropleth\":[{\"type\":\"choropleth\",\"colorbar\":{\"outlinewidth\":0,\"ticks\":\"\"}}],\"histogram2d\":[{\"type\":\"histogram2d\",\"colorbar\":{\"outlinewidth\":0,\"ticks\":\"\"},\"colorscale\":[[0.0,\"#0d0887\"],[0.1111111111111111,\"#46039f\"],[0.2222222222222222,\"#7201a8\"],[0.3333333333333333,\"#9c179e\"],[0.4444444444444444,\"#bd3786\"],[0.5555555555555556,\"#d8576b\"],[0.6666666666666666,\"#ed7953\"],[0.7777777777777778,\"#fb9f3a\"],[0.8888888888888888,\"#fdca26\"],[1.0,\"#f0f921\"]]}],\"heatmap\":[{\"type\":\"heatmap\",\"colorbar\":{\"outlinewidth\":0,\"ticks\":\"\"},\"colorscale\":[[0.0,\"#0d0887\"],[0.1111111111111111,\"#46039f\"],[0.2222222222222222,\"#7201a8\"],[0.3333333333333333,\"#9c179e\"],[0.4444444444444444,\"#bd3786\"],[0.5555555555555556,\"#d8576b\"],[0.6666666666666666,\"#ed7953\"],[0.7777777777777778,\"#fb9f3a\"],[0.8888888888888888,\"#fdca26\"],[1.0,\"#f0f921\"]]}],\"heatmapgl\":[{\"type\":\"heatmapgl\",\"colorbar\":{\"outlinewidth\":0,\"ticks\":\"\"},\"colorscale\":[[0.0,\"#0d0887\"],[0.1111111111111111,\"#46039f\"],[0.2222222222222222,\"#7201a8\"],[0.3333333333333333,\"#9c179e\"],[0.4444444444444444,\"#bd3786\"],[0.5555555555555556,\"#d8576b\"],[0.6666666666666666,\"#ed7953\"],[0.7777777777777778,\"#fb9f3a\"],[0.8888888888888888,\"#fdca26\"],[1.0,\"#f0f921\"]]}],\"contourcarpet\":[{\"type\":\"contourcarpet\",\"colorbar\":{\"outlinewidth\":0,\"ticks\":\"\"}}],\"contour\":[{\"type\":\"contour\",\"colorbar\":{\"outlinewidth\":0,\"ticks\":\"\"},\"colorscale\":[[0.0,\"#0d0887\"],[0.1111111111111111,\"#46039f\"],[0.2222222222222222,\"#7201a8\"],[0.3333333333333333,\"#9c179e\"],[0.4444444444444444,\"#bd3786\"],[0.5555555555555556,\"#d8576b\"],[0.6666666666666666,\"#ed7953\"],[0.7777777777777778,\"#fb9f3a\"],[0.8888888888888888,\"#fdca26\"],[1.0,\"#f0f921\"]]}],\"surface\":[{\"type\":\"surface\",\"colorbar\":{\"outlinewidth\":0,\"ticks\":\"\"},\"colorscale\":[[0.0,\"#0d0887\"],[0.1111111111111111,\"#46039f\"],[0.2222222222222222,\"#7201a8\"],[0.3333333333333333,\"#9c179e\"],[0.4444444444444444,\"#bd3786\"],[0.5555555555555556,\"#d8576b\"],[0.6666666666666666,\"#ed7953\"],[0.7777777777777778,\"#fb9f3a\"],[0.8888888888888888,\"#fdca26\"],[1.0,\"#f0f921\"]]}],\"mesh3d\":[{\"type\":\"mesh3d\",\"colorbar\":{\"outlinewidth\":0,\"ticks\":\"\"}}],\"scatter\":[{\"fillpattern\":{\"fillmode\":\"overlay\",\"size\":10,\"solidity\":0.2},\"type\":\"scatter\"}],\"parcoords\":[{\"type\":\"parcoords\",\"line\":{\"colorbar\":{\"outlinewidth\":0,\"ticks\":\"\"}}}],\"scatterpolargl\":[{\"type\":\"scatterpolargl\",\"marker\":{\"colorbar\":{\"outlinewidth\":0,\"ticks\":\"\"}}}],\"bar\":[{\"error_x\":{\"color\":\"#2a3f5f\"},\"error_y\":{\"color\":\"#2a3f5f\"},\"marker\":{\"line\":{\"color\":\"#E5ECF6\",\"width\":0.5},\"pattern\":{\"fillmode\":\"overlay\",\"size\":10,\"solidity\":0.2}},\"type\":\"bar\"}],\"scattergeo\":[{\"type\":\"scattergeo\",\"marker\":{\"colorbar\":{\"outlinewidth\":0,\"ticks\":\"\"}}}],\"scatterpolar\":[{\"type\":\"scatterpolar\",\"marker\":{\"colorbar\":{\"outlinewidth\":0,\"ticks\":\"\"}}}],\"histogram\":[{\"marker\":{\"pattern\":{\"fillmode\":\"overlay\",\"size\":10,\"solidity\":0.2}},\"type\":\"histogram\"}],\"scattergl\":[{\"type\":\"scattergl\",\"marker\":{\"colorbar\":{\"outlinewidth\":0,\"ticks\":\"\"}}}],\"scatter3d\":[{\"type\":\"scatter3d\",\"line\":{\"colorbar\":{\"outlinewidth\":0,\"ticks\":\"\"}},\"marker\":{\"colorbar\":{\"outlinewidth\":0,\"ticks\":\"\"}}}],\"scattermapbox\":[{\"type\":\"scattermapbox\",\"marker\":{\"colorbar\":{\"outlinewidth\":0,\"ticks\":\"\"}}}],\"scatterternary\":[{\"type\":\"scatterternary\",\"marker\":{\"colorbar\":{\"outlinewidth\":0,\"ticks\":\"\"}}}],\"scattercarpet\":[{\"type\":\"scattercarpet\",\"marker\":{\"colorbar\":{\"outlinewidth\":0,\"ticks\":\"\"}}}],\"carpet\":[{\"aaxis\":{\"endlinecolor\":\"#2a3f5f\",\"gridcolor\":\"white\",\"linecolor\":\"white\",\"minorgridcolor\":\"white\",\"startlinecolor\":\"#2a3f5f\"},\"baxis\":{\"endlinecolor\":\"#2a3f5f\",\"gridcolor\":\"white\",\"linecolor\":\"white\",\"minorgridcolor\":\"white\",\"startlinecolor\":\"#2a3f5f\"},\"type\":\"carpet\"}],\"table\":[{\"cells\":{\"fill\":{\"color\":\"#EBF0F8\"},\"line\":{\"color\":\"white\"}},\"header\":{\"fill\":{\"color\":\"#C8D4E3\"},\"line\":{\"color\":\"white\"}},\"type\":\"table\"}],\"barpolar\":[{\"marker\":{\"line\":{\"color\":\"#E5ECF6\",\"width\":0.5},\"pattern\":{\"fillmode\":\"overlay\",\"size\":10,\"solidity\":0.2}},\"type\":\"barpolar\"}],\"pie\":[{\"automargin\":true,\"type\":\"pie\"}]},\"layout\":{\"autotypenumbers\":\"strict\",\"colorway\":[\"#636efa\",\"#EF553B\",\"#00cc96\",\"#ab63fa\",\"#FFA15A\",\"#19d3f3\",\"#FF6692\",\"#B6E880\",\"#FF97FF\",\"#FECB52\"],\"font\":{\"color\":\"#2a3f5f\"},\"hovermode\":\"closest\",\"hoverlabel\":{\"align\":\"left\"},\"paper_bgcolor\":\"white\",\"plot_bgcolor\":\"#E5ECF6\",\"polar\":{\"bgcolor\":\"#E5ECF6\",\"angularaxis\":{\"gridcolor\":\"white\",\"linecolor\":\"white\",\"ticks\":\"\"},\"radialaxis\":{\"gridcolor\":\"white\",\"linecolor\":\"white\",\"ticks\":\"\"}},\"ternary\":{\"bgcolor\":\"#E5ECF6\",\"aaxis\":{\"gridcolor\":\"white\",\"linecolor\":\"white\",\"ticks\":\"\"},\"baxis\":{\"gridcolor\":\"white\",\"linecolor\":\"white\",\"ticks\":\"\"},\"caxis\":{\"gridcolor\":\"white\",\"linecolor\":\"white\",\"ticks\":\"\"}},\"coloraxis\":{\"colorbar\":{\"outlinewidth\":0,\"ticks\":\"\"}},\"colorscale\":{\"sequential\":[[0.0,\"#0d0887\"],[0.1111111111111111,\"#46039f\"],[0.2222222222222222,\"#7201a8\"],[0.3333333333333333,\"#9c179e\"],[0.4444444444444444,\"#bd3786\"],[0.5555555555555556,\"#d8576b\"],[0.6666666666666666,\"#ed7953\"],[0.7777777777777778,\"#fb9f3a\"],[0.8888888888888888,\"#fdca26\"],[1.0,\"#f0f921\"]],\"sequentialminus\":[[0.0,\"#0d0887\"],[0.1111111111111111,\"#46039f\"],[0.2222222222222222,\"#7201a8\"],[0.3333333333333333,\"#9c179e\"],[0.4444444444444444,\"#bd3786\"],[0.5555555555555556,\"#d8576b\"],[0.6666666666666666,\"#ed7953\"],[0.7777777777777778,\"#fb9f3a\"],[0.8888888888888888,\"#fdca26\"],[1.0,\"#f0f921\"]],\"diverging\":[[0,\"#8e0152\"],[0.1,\"#c51b7d\"],[0.2,\"#de77ae\"],[0.3,\"#f1b6da\"],[0.4,\"#fde0ef\"],[0.5,\"#f7f7f7\"],[0.6,\"#e6f5d0\"],[0.7,\"#b8e186\"],[0.8,\"#7fbc41\"],[0.9,\"#4d9221\"],[1,\"#276419\"]]},\"xaxis\":{\"gridcolor\":\"white\",\"linecolor\":\"white\",\"ticks\":\"\",\"title\":{\"standoff\":15},\"zerolinecolor\":\"white\",\"automargin\":true,\"zerolinewidth\":2},\"yaxis\":{\"gridcolor\":\"white\",\"linecolor\":\"white\",\"ticks\":\"\",\"title\":{\"standoff\":15},\"zerolinecolor\":\"white\",\"automargin\":true,\"zerolinewidth\":2},\"scene\":{\"xaxis\":{\"backgroundcolor\":\"#E5ECF6\",\"gridcolor\":\"white\",\"linecolor\":\"white\",\"showbackground\":true,\"ticks\":\"\",\"zerolinecolor\":\"white\",\"gridwidth\":2},\"yaxis\":{\"backgroundcolor\":\"#E5ECF6\",\"gridcolor\":\"white\",\"linecolor\":\"white\",\"showbackground\":true,\"ticks\":\"\",\"zerolinecolor\":\"white\",\"gridwidth\":2},\"zaxis\":{\"backgroundcolor\":\"#E5ECF6\",\"gridcolor\":\"white\",\"linecolor\":\"white\",\"showbackground\":true,\"ticks\":\"\",\"zerolinecolor\":\"white\",\"gridwidth\":2}},\"shapedefaults\":{\"line\":{\"color\":\"#2a3f5f\"}},\"annotationdefaults\":{\"arrowcolor\":\"#2a3f5f\",\"arrowhead\":0,\"arrowwidth\":1},\"geo\":{\"bgcolor\":\"white\",\"landcolor\":\"#E5ECF6\",\"subunitcolor\":\"white\",\"showland\":true,\"showlakes\":true,\"lakecolor\":\"white\"},\"title\":{\"x\":0.05},\"mapbox\":{\"style\":\"light\"}}},\"xaxis\":{\"anchor\":\"y\",\"domain\":[0.0,1.0],\"title\":{\"text\":\"TEY\"}},\"yaxis\":{\"anchor\":\"x\",\"domain\":[0.0,1.0],\"title\":{\"text\":\"sum of AT\"}},\"legend\":{\"tracegroupgap\":0},\"margin\":{\"t\":60},\"barmode\":\"relative\"},                        {\"responsive\": true}                    ).then(function(){\n",
              "                            \n",
              "var gd = document.getElementById('d35a0e54-c9e3-4323-9b77-61da2bb6462c');\n",
              "var x = new MutationObserver(function (mutations, observer) {{\n",
              "        var display = window.getComputedStyle(gd).display;\n",
              "        if (!display || display === 'none') {{\n",
              "            console.log([gd, 'removed!']);\n",
              "            Plotly.purge(gd);\n",
              "            observer.disconnect();\n",
              "        }}\n",
              "}});\n",
              "\n",
              "// Listen for the removal of the full notebook cells\n",
              "var notebookContainer = gd.closest('#notebook-container');\n",
              "if (notebookContainer) {{\n",
              "    x.observe(notebookContainer, {childList: true});\n",
              "}}\n",
              "\n",
              "// Listen for the clearing of the current output cell\n",
              "var outputEl = gd.closest('.output');\n",
              "if (outputEl) {{\n",
              "    x.observe(outputEl, {childList: true});\n",
              "}}\n",
              "\n",
              "                        })                };                            </script>        </div>\n",
              "</body>\n",
              "</html>"
            ]
          },
          "metadata": {}
        }
      ],
      "source": [
        "import plotly.express as px\n",
        "px.histogram(data,x='TEY',y='AT',text_auto=True)"
      ]
    },
    {
      "cell_type": "code",
      "execution_count": 16,
      "metadata": {
        "colab": {
          "base_uri": "https://localhost:8080/",
          "height": 1000
        },
        "id": "aS1fb9STEgob",
        "outputId": "78e261c5-06e6-4626-c84a-e2570ce5ec82"
      },
      "outputs": [
        {
          "output_type": "stream",
          "name": "stderr",
          "text": [
            "<ipython-input-16-61b63f080ce4>:4: UserWarning:\n",
            "\n",
            "\n",
            "\n",
            "`distplot` is a deprecated function and will be removed in seaborn v0.14.0.\n",
            "\n",
            "Please adapt your code to use either `displot` (a figure-level function with\n",
            "similar flexibility) or `histplot` (an axes-level function for histograms).\n",
            "\n",
            "For a guide to updating your code to use the new functions, please see\n",
            "https://gist.github.com/mwaskom/de44147ed2974457ad6372750bbe5751\n",
            "\n",
            "\n"
          ]
        },
        {
          "output_type": "display_data",
          "data": {
            "text/plain": [
              "<Figure size 640x480 with 1 Axes>"
            ],
            "image/png": "[encoded data removed]"
          },
          "metadata": {}
        },
        {
          "output_type": "stream",
          "name": "stderr",
          "text": [
            "<ipython-input-16-61b63f080ce4>:4: UserWarning:\n",
            "\n",
            "\n",
            "\n",
            "`distplot` is a deprecated function and will be removed in seaborn v0.14.0.\n",
            "\n",
            "Please adapt your code to use either `displot` (a figure-level function with\n",
            "similar flexibility) or `histplot` (an axes-level function for histograms).\n",
            "\n",
            "For a guide to updating your code to use the new functions, please see\n",
            "https://gist.github.com/mwaskom/de44147ed2974457ad6372750bbe5751\n",
            "\n",
            "\n"
          ]
        },
        {
          "output_type": "display_data",
          "data": {
            "text/plain": [
              "<Figure size 640x480 with 1 Axes>"
            ],
            "image/png": "[encoded data removed]"
          },
          "metadata": {}
        },
        {
          "output_type": "stream",
          "name": "stderr",
          "text": [
            "<ipython-input-16-61b63f080ce4>:4: UserWarning:\n",
            "\n",
            "\n",
            "\n",
            "`distplot` is a deprecated function and will be removed in seaborn v0.14.0.\n",
            "\n",
            "Please adapt your code to use either `displot` (a figure-level function with\n",
            "similar flexibility) or `histplot` (an axes-level function for histograms).\n",
            "\n",
            "For a guide to updating your code to use the new functions, please see\n",
            "https://gist.github.com/mwaskom/de44147ed2974457ad6372750bbe5751\n",
            "\n",
            "\n"
          ]
        },
        {
          "output_type": "display_data",
          "data": {
            "text/plain": [
              "<Figure size 640x480 with 1 Axes>"
            ],
            "image/png": "[encoded data removed]"
          },
          "metadata": {}
        }
      ],
      "source": [
        "columns=['AT','AP','AH']\n",
        "for i in columns:\n",
        "  plt.show()\n",
        "  sns.distplot(data[i])"
      ]
    },
    {
      "cell_type": "code",
      "execution_count": 17,
      "metadata": {
        "colab": {
          "base_uri": "https://localhost:8080/",
          "height": 562
        },
        "id": "bm3WIAnKEkyz",
        "outputId": "62f662ab-fc62-4575-9b58-75126631efe0"
      },
      "outputs": [
        {
          "output_type": "display_data",
          "data": {
            "text/html": [
              "<html>\n",
              "<head><meta charset=\"utf-8\" /></head>\n",
              "<body>\n",
              "    <div>            <script src=\"https://cdnjs.cloudflare.com/ajax/libs/mathjax/2.7.5/MathJax.js?config=TeX-AMS-MML_SVG\"></script><script type=\"text/javascript\">if (window.MathJax && window.MathJax.Hub && window.MathJax.Hub.Config) {window.MathJax.Hub.Config({SVG: {font: \"STIX-Web\"}});}</script>                <script type=\"text/javascript\">window.PlotlyConfig = {MathJaxConfig: 'local'};</script>\n",
              "        <script charset=\"utf-8\" src=\"https://cdn.plot.ly/plotly-2.24.1.min.js\"></script>                <div id=\"171d6090-f834-4716-b06b-61b99efbeed8\" class=\"plotly-graph-div\" style=\"height:525px; width:100%;\"></div>            <script type=\"text/javascript\">                                    window.PLOTLYENV=window.PLOTLYENV || {};                                    if (document.getElementById(\"171d6090-f834-4716-b06b-61b99efbeed8\")) {                    Plotly.newPlot(                        \"171d6090-f834-4716-b06b-61b99efbeed8\",                        [{\"customdata\":[[1007.9,0.0],[1008.4,0.0],[1008.8,0.0],[1009.2,0.0],[1009.7,0.0],[1010.7,0.0],[1011.6,0.0],[1012.7,0.0],[1013.8,0.0],[1015.0,0.0],[1016.0,0.0],[1016.1,0.0],[1016.2,0.0],[1016.6,0.0],[1017.1,0.0],[1017.9,0.0],[1018.8,0.0],[1019.8,0.0],[1020.6,0.0],[1021.2,0.0],[1021.7,0.0],[1022.2,0.0],[1022.4,0.0],[1022.8,0.0],[1023.8,0.0],[1024.0,0.0],[1024.2,1.0],[1024.3,0.0],[1023.7,1.0],[1022.8,1.0],[1022.4,0.0],[1022.3,1.0],[1022.4,0.0],[1022.3,0.0],[1022.6,0.0],[1022.7,0.0],[1022.4,0.0],[1022.4,0.0],[1022.4,0.0],[1022.0,0.0],[1021.7,0.0],[1021.5,0.0],[1021.3,0.0],[1021.2,0.0],[1021.5,0.0],[1021.8,0.0],[1022.3,0.0],[1022.8,1.0],[1022.8,1.0],[1022.4,1.0],[1021.9,0.0],[1021.8,0.0],[1021.9,1.0],[1022.2,0.0],[1022.2,0.0],[1022.3,0.0],[1022.4,0.0],[1022.9,0.0],[1023.0,0.0],[1023.0,0.0],[1022.9,0.0],[1022.8,0.0],[1022.7,0.0],[1022.7,0.0],[1021.2,0.0],[1021.1,0.0],[1020.9,0.0],[1021.0,0.0],[1021.1,0.0],[1020.9,0.0],[1020.4,0.0],[1019.6,0.0],[1018.5,0.0],[1017.6,0.0],[1017.1,0.0],[1016.9,0.0],[1016.6,0.0],[1016.4,0.0],[1016.5,0.0],[1016.5,0.0],[1016.4,0.0],[1016.0,0.0],[1015.7,0.0],[1015.3,0.0],[1015.0,0.0],[1015.0,0.0],[1014.8,0.0],[1014.3,0.0],[1013.9,0.0],[1013.6,0.0],[1013.3,0.0],[1013.1,0.0],[1013.1,0.0],[1013.3,0.0],[1012.6,0.0],[1011.7,0.0],[1010.5,0.0],[1009.1,0.0],[1008.0,0.0],[1007.3,0.0],[1006.8,0.0],[1006.4,0.0],[1005.6,0.0],[1004.6,0.0],[1003.9,0.0],[1002.9,0.0],[1002.3,0.0],[1001.2,0.0],[1000.2,0.0],[999.49,0.0],[998.76,0.0],[998.01,0.0],[996.84,0.0],[996.28,0.0],[995.76,0.0],[995.4,0.0],[995.0,0.0],[994.37,0.0],[993.51,0.0],[992.42,0.0],[991.73,0.0],[991.01,0.0],[990.28,0.0],[989.67,0.0],[988.97,0.0],[988.63,0.0],[988.2,0.0],[988.11,0.0],[987.84,0.0],[988.21,0.0],[988.87,0.0],[988.65,0.0],[989.32,0.0],[990.22,0.0],[990.87,0.0],[992.42,0.0],[993.55,0.0],[994.75,0.0],[995.92,0.0],[996.96,0.0],[997.65,0.0],[997.88,0.0],[998.17,0.0],[999.05,0.0],[999.57,0.0],[1000.2,0.0],[1000.8,0.0],[1001.3,0.0],[1001.8,0.0],[1002.3,0.0],[1002.5,0.0],[1002.7,0.0],[1002.8,0.0],[1003.0,0.0],[1002.8,0.0],[1006.4,0.0],[1006.5,0.0],[1006.4,0.0],[1006.3,0.0],[1006.2,0.0],[1006.6,0.0],[1007.0,0.0],[1007.4,0.0],[1007.5,0.0],[1007.6,0.0],[1007.7,0.0],[1007.8,0.0],[1007.9,0.0],[1007.8,0.0],[1007.7,0.0],[1007.4,0.0],[1007.4,0.0],[1007.6,0.0],[1007.5,0.0],[1007.4,0.0],[1007.7,0.0],[1008.2,0.0],[1008.8,0.0],[1009.5,0.0],[1010.1,0.0],[1010.6,0.0],[1010.8,0.0],[1010.8,0.0],[1011.1,0.0],[1011.6,0.0],[1012.3,0.0],[1013.0,0.0],[1013.6,1.0],[1014.2,1.0],[1015.0,0.0],[1015.6,0.0],[1016.0,0.0],[1016.2,0.0],[1016.3,0.0],[1016.4,0.0],[1016.6,0.0],[1016.8,0.0],[1016.7,0.0],[1016.9,0.0],[1016.9,0.0],[1016.9,0.0],[1016.9,0.0],[1016.9,0.0],[1017.1,0.0],[1016.3,0.0],[1015.6,0.0],[1015.1,0.0],[1015.3,0.0],[1015.8,0.0],[1016.0,0.0],[1016.3,1.0],[1016.5,1.0],[1016.6,0.0],[1016.7,0.0],[1016.9,0.0],[1017.1,0.0],[1016.9,0.0],[1016.7,0.0],[1016.7,0.0],[1016.6,0.0],[1016.7,0.0],[1016.4,0.0],[1016.4,0.0],[1016.6,0.0],[1016.8,0.0],[1017.0,0.0],[1017.2,0.0],[1017.6,1.0],[1017.5,1.0],[1017.3,1.0],[1017.4,1.0],[1017.7,1.0],[1018.1,1.0],[1018.5,1.0],[1018.9,1.0],[1019.3,1.0],[1019.6,0.0],[1020.1,0.0],[1020.4,0.0],[1020.6,0.0],[1020.9,0.0],[1022.7,0.0],[1023.2,1.0],[1023.5,1.0],[1023.7,1.0],[1023.3,1.0],[1022.7,1.0],[1022.4,1.0],[1022.2,1.0],[1022.1,1.0],[1022.1,1.0],[1022.2,1.0],[1022.3,1.0],[1022.1,1.0],[1022.0,1.0],[1021.7,0.0],[1021.1,0.0],[1020.6,0.0],[1020.1,0.0],[1019.5,0.0],[1019.0,0.0],[1018.3,0.0],[1017.8,0.0],[1016.6,0.0],[1016.4,0.0],[1016.0,0.0],[1015.4,0.0],[1014.9,0.0],[1014.2,1.0],[1013.1,1.0],[1012.4,1.0],[1012.0,0.0],[1011.8,0.0],[1011.8,1.0],[1011.7,1.0],[1011.8,1.0],[1011.8,1.0],[1011.8,1.0],[1012.0,0.0],[1011.9,0.0],[1011.4,0.0],[1011.4,0.0],[1011.2,0.0],[1010.7,0.0],[1010.6,0.0],[1010.4,0.0],[1010.4,0.0],[1010.5,0.0],[1010.4,0.0],[1011.0,0.0],[1011.2,0.0],[1010.8,0.0],[1010.2,0.0],[1011.1,1.0],[1012.0,1.0],[1012.2,1.0],[1012.3,1.0],[1012.3,1.0],[1012.4,0.0],[1012.2,0.0],[1012.1,0.0],[1012.0,0.0],[1011.6,0.0],[1012.0,0.0],[1011.8,0.0],[1011.2,0.0],[1010.3,0.0],[1009.7,0.0],[1009.6,0.0],[1009.8,0.0],[1009.9,0.0],[1009.8,0.0],[1009.8,0.0],[1010.1,0.0],[1010.4,0.0],[1010.8,0.0],[1010.8,0.0],[1011.0,0.0],[1011.0,1.0],[1010.8,0.0],[1010.8,0.0],[1010.9,0.0],[1010.9,0.0],[1011.1,0.0],[1011.6,0.0],[1012.3,0.0],[1012.8,0.0],[1013.3,1.0],[1013.6,1.0],[1013.5,1.0],[1013.4,1.0],[1013.2,1.0],[1013.6,1.0],[1014.2,1.0],[1014.6,1.0],[1015.3,1.0],[1016.0,1.0],[1016.6,1.0],[1017.1,1.0],[1017.6,1.0],[1017.8,1.0],[1018.2,1.0],[1018.5,0.0],[1018.8,0.0],[1019.1,0.0],[1019.2,0.0],[1019.5,0.0],[1020.3,0.0],[1020.7,1.0],[1021.2,1.0],[1021.5,1.0],[1021.6,1.0],[1021.3,1.0],[1020.9,1.0],[1020.7,1.0],[1020.7,1.0],[1021.1,1.0],[1021.4,1.0],[1021.5,1.0],[1021.8,1.0],[1022.1,1.0],[1022.3,1.0],[1022.6,1.0],[1009.6,1.0],[1009.1,1.0],[1008.1,1.0],[1008.5,1.0],[1008.9,1.0],[1009.2,1.0],[1008.8,1.0],[1009.5,1.0],[1009.7,1.0],[1010.1,0.0],[1010.6,1.0],[1011.1,1.0],[1011.3,1.0],[1011.8,0.0],[1012.2,0.0],[1012.5,0.0],[1013.0,0.0],[1013.3,0.0],[1013.5,0.0],[1013.3,0.0],[1013.3,0.0],[1013.5,0.0],[1013.4,0.0],[1013.4,0.0],[1013.5,0.0],[1013.7,0.0],[1014.1,0.0],[1014.2,0.0],[1014.6,0.0],[1014.9,0.0],[1014.7,0.0],[1014.8,0.0],[1014.9,0.0],[1014.0,0.0],[1013.5,0.0],[1013.2,0.0],[1013.0,0.0],[1012.7,0.0],[1012.0,0.0],[1011.1,0.0],[1010.2,0.0],[1009.4,0.0],[1008.9,0.0],[1008.6,0.0],[1008.2,0.0],[1007.2,0.0],[1006.7,0.0],[1006.3,0.0],[1005.7,0.0],[1005.0,0.0],[1004.4,0.0],[1003.5,0.0],[1003.2,0.0],[1002.5,0.0],[1001.6,0.0],[1001.3,0.0],[1000.8,0.0],[1000.4,0.0],[1000.1,0.0],[999.96,0.0],[999.77,0.0],[999.23,0.0],[998.52,0.0],[998.27,0.0],[998.18,0.0],[998.19,0.0],[998.29,0.0],[998.25,0.0],[998.32,0.0],[998.23,0.0],[998.2,0.0],[998.26,0.0],[998.08,0.0],[997.83,0.0],[997.6,0.0],[997.49,0.0],[998.62,0.0],[999.22,0.0],[999.83,0.0],[999.99,0.0],[1000.2,0.0],[1000.6,0.0],[1001.2,0.0],[1002.0,0.0],[1003.0,0.0],[1004.1,1.0],[1005.1,1.0],[1006.5,0.0],[1008.0,0.0],[1009.2,0.0],[1010.2,0.0],[1011.4,0.0],[1012.2,0.0],[1017.9,0.0],[1018.9,0.0],[1020.1,0.0],[1020.7,1.0],[1020.8,1.0],[1021.0,1.0],[1021.4,1.0],[1022.1,1.0],[1022.9,1.0],[1023.6,1.0],[1024.3,1.0],[1024.8,0.0],[1025.1,0.0],[1025.7,0.0],[1026.1,1.0],[1026.4,1.0],[1026.4,1.0],[1026.5,1.0],[1026.8,1.0],[1026.8,1.0],[1026.7,0.0],[1027.2,0.0],[1027.4,0.0],[1027.1,0.0],[1026.6,0.0],[1026.2,0.0],[1026.1,0.0],[1026.3,0.0],[1026.0,0.0],[1026.1,0.0],[1026.0,0.0],[1025.9,0.0],[1025.5,0.0],[1025.3,0.0],[1002.7,1.0],[1003.7,1.0],[1004.1,1.0],[1004.3,1.0],[1004.3,1.0],[1004.6,0.0],[1004.8,0.0],[1005.2,0.0],[1006.0,0.0],[1006.6,1.0],[1009.1,1.0],[1009.9,1.0],[1010.6,1.0],[1011.1,1.0],[1011.0,1.0],[1011.1,1.0],[1011.2,1.0],[1011.7,1.0],[1011.9,1.0],[1012.3,1.0],[1013.2,1.0],[1013.8,1.0],[1014.3,1.0],[1014.8,1.0],[1014.9,1.0],[1015.0,0.0],[1015.4,0.0],[1015.6,0.0],[1015.7,0.0],[1015.5,0.0],[1016.7,1.0],[1017.0,1.0],[1017.2,1.0],[1017.4,1.0],[1017.1,1.0],[1016.8,1.0],[1016.8,1.0],[1017.0,1.0],[1017.0,1.0],[1017.4,1.0],[1017.9,1.0],[1018.4,1.0],[1018.7,1.0],[1019.0,1.0],[1019.3,1.0],[1019.6,1.0],[1020.0,0.0],[1020.4,0.0],[1023.8,0.0],[1024.3,0.0],[1024.0,0.0],[1024.0,1.0],[1024.0,1.0],[1024.0,1.0],[1024.3,1.0],[1024.3,1.0],[1024.6,1.0],[1025.0,1.0],[1025.6,1.0],[1026.2,1.0],[1026.6,0.0],[1027.0,0.0],[1027.3,1.0],[1027.3,0.0],[1028.2,1.0],[1028.5,1.0],[1028.6,1.0],[1028.5,1.0],[1028.5,1.0],[1028.3,1.0],[1027.9,1.0],[1027.5,1.0],[1027.3,1.0],[1027.2,1.0],[1027.5,1.0],[1027.7,1.0],[1027.9,1.0],[1028.2,1.0],[1028.2,1.0],[1028.3,1.0],[1028.3,1.0],[1028.2,1.0],[1028.1,1.0],[1027.9,1.0],[1027.8,1.0],[1027.8,1.0],[1027.9,1.0],[1028.3,1.0],[1028.7,1.0],[1028.8,1.0],[1029.1,1.0],[1029.1,1.0],[1028.8,1.0],[1028.1,1.0],[1027.8,1.0],[1027.9,1.0],[1027.8,1.0],[1027.8,1.0],[1028.0,1.0],[1028.3,1.0],[1028.2,1.0],[1028.2,1.0],[1028.1,1.0],[1027.7,1.0],[1027.5,1.0],[1027.2,1.0],[1027.0,0.0],[1026.6,0.0],[1026.4,0.0],[1026.2,0.0],[1026.2,0.0],[1026.3,1.0],[1026.3,1.0],[1026.5,1.0],[1026.6,1.0],[1026.7,1.0],[1026.5,1.0],[1025.8,1.0],[1025.3,1.0],[1024.8,1.0],[1024.6,1.0],[1024.8,1.0],[1025.0,1.0],[1024.6,1.0],[1024.5,1.0],[1024.8,1.0],[1024.9,1.0],[1024.7,1.0],[1024.6,1.0],[1024.4,1.0],[1024.2,0.0],[1024.0,0.0],[1023.9,0.0],[1023.8,0.0],[1023.6,0.0],[1023.6,1.0],[1023.5,1.0],[1023.2,1.0],[1022.9,1.0],[1022.3,1.0],[1021.3,1.0],[1020.3,1.0],[1019.4,1.0],[1017.9,1.0],[1017.3,1.0],[1017.3,1.0],[1017.3,1.0],[1016.9,1.0],[1016.7,1.0],[1016.1,1.0],[1015.5,1.0],[1015.2,1.0],[1015.0,0.0],[1014.5,0.0],[1014.2,0.0],[1014.1,0.0],[1013.8,0.0],[1014.1,1.0],[1014.7,1.0],[1014.9,1.0],[1014.6,1.0],[1014.6,1.0],[1014.0,1.0],[1013.4,1.0],[1013.1,1.0],[1012.9,1.0],[1012.8,1.0],[1012.9,1.0],[1013.3,1.0],[1013.1,1.0],[1013.2,1.0],[1013.6,1.0],[1013.5,1.0],[1013.5,1.0],[1013.1,1.0],[1012.9,1.0],[1012.6,1.0],[1012.0,1.0],[1011.5,1.0],[1011.0,1.0],[1010.8,1.0],[1010.9,1.0],[1010.8,0.0],[1010.6,1.0],[1010.5,1.0],[1010.1,1.0],[1009.2,1.0],[1008.5,1.0],[1007.9,1.0],[1007.5,1.0],[1007.4,0.0],[1007.6,1.0],[1008.0,1.0],[1008.4,1.0],[1009.0,1.0],[1009.6,1.0],[1009.9,1.0],[1009.9,1.0],[1009.9,1.0],[1009.6,0.0],[1009.1,0.0],[1008.7,0.0],[1008.2,0.0],[1008.0,0.0],[1008.0,0.0],[1008.1,0.0],[1008.2,0.0],[1007.9,1.0],[1007.7,1.0],[1007.4,1.0],[1006.6,0.0],[1005.8,0.0],[1005.4,0.0],[1004.9,0.0],[1004.7,0.0],[1004.6,1.0],[1004.6,1.0],[1004.6,1.0],[1004.6,1.0],[1005.3,1.0],[1005.3,1.0],[1005.4,1.0],[1005.5,1.0],[1005.3,1.0],[1004.9,0.0],[1004.4,0.0],[1004.2,0.0],[1004.1,0.0],[1004.0,1.0],[1004.2,1.0],[1004.3,1.0],[1004.2,1.0],[1004.4,1.0],[1004.5,1.0],[1004.5,1.0],[1004.6,1.0],[1005.0,1.0],[1005.4,1.0],[1006.0,1.0],[1006.6,1.0],[1007.4,1.0],[1008.2,1.0],[1008.7,1.0],[1009.4,1.0],[1009.5,1.0],[1009.9,1.0],[1010.1,1.0],[1010.3,0.0],[1010.2,0.0],[1010.4,0.0],[1010.5,0.0],[1010.5,0.0],[1010.5,1.0],[1010.6,1.0],[1010.7,1.0],[1010.6,1.0],[1010.5,1.0],[1010.6,1.0],[1010.5,1.0],[1010.2,1.0],[1010.1,1.0],[1010.3,1.0],[1010.3,1.0],[1010.3,1.0],[1010.6,1.0],[1010.8,1.0],[1010.7,1.0],[1010.6,1.0],[1010.4,1.0],[1009.9,0.0],[1009.3,0.0],[1008.7,0.0],[1007.9,0.0],[1007.2,0.0],[1006.3,0.0],[1005.7,0.0],[1005.2,0.0],[1004.8,0.0],[1004.3,1.0],[1003.4,1.0],[1003.0,1.0],[1002.7,1.0],[1002.6,1.0],[1002.5,1.0],[1002.8,1.0],[1003.2,1.0],[1003.9,1.0],[1005.3,1.0],[1006.5,1.0],[1008.1,1.0],[1008.7,1.0],[1019.5,1.0],[1019.6,1.0],[1019.5,1.0],[1019.4,1.0],[1019.1,1.0],[1018.7,1.0],[1018.7,0.0],[1018.8,0.0],[1018.8,0.0],[1018.9,1.0],[1018.7,1.0],[1018.4,1.0],[1018.2,1.0],[1017.7,1.0],[1016.9,1.0],[1016.1,1.0],[1015.3,1.0],[1014.7,1.0],[1014.0,1.0],[1014.0,1.0],[1014.2,1.0],[1013.8,1.0],[1013.7,1.0],[1013.4,1.0],[1013.3,1.0],[1013.1,1.0],[1013.0,1.0],[1012.6,1.0],[1012.4,1.0],[1012.0,1.0],[1012.0,1.0],[1011.9,1.0],[1011.3,0.0],[1010.9,0.0],[1010.5,1.0],[1010.7,1.0],[1010.6,1.0],[1010.6,1.0],[1011.9,1.0],[1012.9,1.0],[1012.8,1.0],[1013.0,1.0],[1013.1,1.0],[1013.3,1.0],[1013.7,1.0],[1014.2,1.0],[1014.4,1.0],[1015.4,1.0],[1016.2,1.0],[1016.3,1.0],[1017.0,1.0],[1017.8,0.0],[1018.2,0.0],[1018.1,0.0],[1017.9,0.0],[1017.9,0.0],[1018.0,0.0],[1018.4,0.0],[1018.5,0.0],[1018.2,1.0],[1018.2,1.0],[1018.1,1.0],[1017.7,1.0],[1017.2,0.0],[1016.8,0.0],[1016.3,0.0],[1016.0,0.0],[1015.9,0.0],[1016.1,0.0],[1016.2,0.0],[1017.2,0.0],[1017.7,0.0],[1018.0,0.0],[1018.0,0.0],[1018.1,1.0],[1018.0,0.0],[1017.7,0.0],[1017.3,0.0],[1016.8,0.0],[1016.7,0.0],[1016.6,0.0],[1016.7,0.0],[1016.4,1.0],[1016.1,1.0],[1015.8,1.0],[1015.2,1.0],[1014.5,0.0],[1013.9,0.0],[1013.4,0.0],[1013.0,0.0],[1012.9,0.0],[1013.3,0.0],[1013.8,0.0],[1014.3,0.0],[1014.8,0.0],[1015.2,0.0],[1015.4,0.0],[1015.5,0.0],[1016.1,0.0],[1016.2,0.0],[1016.4,0.0],[1016.7,0.0],[1016.9,0.0],[1017.5,0.0],[1018.0,1.0],[1018.4,0.0],[1018.7,1.0],[1018.9,1.0],[1019.0,1.0],[1018.7,1.0],[1018.5,1.0],[1018.4,1.0],[1018.5,0.0],[1018.4,1.0],[1018.3,0.0],[1018.7,0.0],[1019.3,0.0],[1020.0,0.0],[1020.6,0.0],[1020.7,0.0],[1020.9,0.0],[1021.1,1.0],[1021.5,0.0],[1021.7,0.0],[1021.7,0.0],[1021.9,1.0],[1022.2,0.0],[1022.3,0.0],[1022.9,1.0],[1023.6,1.0],[1024.2,1.0],[1024.5,1.0],[1024.6,1.0],[1024.2,1.0],[1023.8,1.0],[1023.8,1.0],[1023.6,1.0],[1023.5,1.0],[1023.8,1.0],[1023.8,1.0],[1023.9,1.0],[1024.3,1.0],[1024.3,1.0],[1024.1,1.0],[1023.6,1.0],[1023.2,1.0],[1022.7,0.0],[1022.3,0.0],[1021.8,0.0],[1021.4,0.0],[1021.4,0.0],[1021.2,0.0],[1021.2,1.0],[1021.2,1.0],[1021.1,1.0],[1020.9,1.0],[1021.0,1.0],[1021.1,1.0],[1020.7,0.0],[1020.6,1.0],[1020.8,1.0],[1020.9,1.0],[1021.3,1.0],[1021.6,1.0],[1021.9,1.0],[1022.4,1.0],[1022.8,1.0],[1023.1,0.0],[1023.3,0.0],[1023.8,1.0],[1024.5,0.0],[1024.4,0.0],[1024.5,0.0],[1024.8,0.0],[1025.6,0.0],[1026.3,0.0],[1026.8,0.0],[1027.3,1.0],[1027.9,1.0],[1028.5,1.0],[1028.9,1.0],[1029.2,1.0],[1029.1,1.0],[1029.3,1.0],[1029.2,1.0],[1029.4,1.0],[1029.9,1.0],[1030.3,1.0],[1030.8,1.0],[1031.8,0.0],[1030.6,0.0],[1030.4,0.0],[1030.8,1.0],[1030.5,1.0],[1030.2,1.0],[1029.9,1.0],[1029.7,1.0],[1029.5,1.0],[1029.0,1.0],[1028.3,0.0],[1027.8,0.0],[1027.7,0.0],[1027.4,0.0],[1027.4,0.0],[1027.1,0.0],[1026.6,1.0],[1025.7,1.0],[1025.1,0.0],[1024.7,0.0],[1023.8,0.0],[1023.2,0.0],[1022.4,0.0],[1021.6,0.0],[1021.0,0.0],[1020.4,0.0],[1020.0,0.0],[1018.3,0.0],[1018.3,0.0],[1017.2,0.0],[1015.9,0.0],[1014.9,0.0],[1013.2,0.0],[1011.7,0.0],[1010.6,0.0],[1009.7,0.0],[1008.6,0.0],[1008.2,0.0],[1008.0,0.0],[1006.9,0.0],[1004.8,0.0],[1004.4,0.0],[1003.5,1.0],[1002.9,0.0],[1002.5,0.0],[1001.5,0.0],[1000.8,0.0],[1001.2,0.0],[1001.4,0.0],[1001.8,1.0],[1002.7,1.0],[1003.3,1.0],[1004.1,1.0],[1005.0,1.0],[1005.7,1.0],[1006.2,1.0],[1006.7,1.0],[1007.5,1.0],[1008.3,1.0],[1009.3,1.0],[1010.2,1.0],[1010.7,1.0],[1011.2,1.0],[1011.4,1.0],[1011.5,1.0],[1011.9,1.0],[1012.4,1.0],[1012.7,0.0],[1012.7,0.0],[1012.5,0.0],[1012.7,0.0],[1013.0,0.0],[1013.4,0.0],[1014.0,0.0],[1014.1,1.0],[1013.9,1.0],[1013.9,1.0],[1014.3,1.0],[1014.4,1.0],[1014.3,1.0],[1014.2,1.0],[1014.2,1.0],[1014.1,1.0],[1014.5,1.0],[1014.7,1.0],[1015.1,1.0],[1015.2,1.0],[1014.9,1.0],[1014.8,1.0],[1014.6,1.0],[1014.5,0.0],[1014.5,0.0],[1014.2,0.0],[1013.8,0.0],[1013.6,0.0],[1013.9,1.0],[1014.2,0.0],[1015.3,1.0],[1015.6,1.0],[1015.7,1.0],[1015.9,1.0],[1015.7,1.0],[1015.6,1.0],[1015.9,1.0],[1016.0,1.0],[1016.4,1.0],[1016.9,1.0],[1017.1,1.0],[1017.4,1.0],[1017.6,1.0],[1017.5,1.0],[1017.5,1.0],[1017.6,0.0],[1017.8,0.0],[1017.5,1.0],[1017.3,1.0],[1017.1,0.0],[1016.8,1.0],[1016.8,1.0],[1017.1,1.0],[1017.7,1.0],[1018.1,1.0],[1018.3,1.0],[1018.7,1.0],[1019.2,1.0],[1019.5,1.0],[1019.6,1.0],[1019.9,1.0],[1020.5,1.0],[1021.0,1.0],[1021.0,1.0],[1022.0,1.0],[1022.5,1.0],[1023.1,1.0],[1023.3,0.0],[1023.5,0.0],[1024.0,0.0],[1024.5,0.0],[1024.8,0.0],[1024.7,0.0],[1024.7,0.0],[1026.3,0.0],[1027.0,0.0],[1027.5,1.0],[1027.7,1.0],[1027.9,1.0],[1027.9,1.0],[1027.6,1.0],[1027.5,1.0],[1027.2,1.0],[1027.2,1.0],[1027.2,0.0],[1027.3,0.0],[1027.5,0.0],[1027.5,0.0],[1027.7,0.0],[1027.8,0.0],[1027.8,0.0],[1027.6,0.0],[1027.7,0.0],[1027.5,0.0],[1027.9,0.0],[1028.1,1.0],[1028.1,1.0],[1028.0,1.0],[1027.7,1.0],[1027.0,1.0],[1026.4,0.0],[1025.9,0.0],[1025.4,0.0],[1025.4,0.0],[1025.5,1.0],[1025.5,1.0],[1025.7,1.0],[1025.8,0.0],[1025.7,1.0],[1025.6,1.0],[1025.5,0.0],[1025.5,0.0],[1025.2,0.0],[1025.0,0.0],[1024.9,0.0],[1025.0,0.0],[1025.1,0.0],[1025.5,0.0],[1025.9,0.0],[1026.1,0.0],[1026.2,0.0],[1026.1,0.0],[1025.9,0.0],[1025.4,0.0],[1024.7,0.0],[1024.2,0.0],[1023.9,0.0],[1023.8,0.0],[1023.8,0.0],[1024.0,0.0],[1024.2,0.0],[1024.4,0.0],[1024.3,0.0],[1024.2,0.0],[1024.1,0.0],[1024.1,0.0],[1023.8,0.0],[1023.7,0.0],[1023.7,0.0],[1023.8,0.0],[1024.1,0.0],[1024.4,0.0],[1024.7,0.0],[1025.0,0.0],[1025.2,0.0],[1024.9,0.0],[1024.5,0.0],[1024.1,0.0],[1023.6,0.0],[1023.2,0.0],[1022.8,0.0],[1022.8,0.0],[1023.0,0.0],[1023.4,0.0],[1023.7,0.0],[1024.1,0.0],[1024.3,0.0],[1024.4,0.0],[1024.4,0.0],[1024.6,0.0],[1024.6,0.0],[1024.4,0.0],[1024.3,0.0],[1024.7,0.0],[1025.1,0.0],[1025.8,0.0],[1026.4,0.0],[1026.9,0.0],[1027.4,0.0],[1027.6,0.0],[1027.4,0.0],[1027.1,0.0],[1027.2,0.0],[1027.2,0.0],[1027.6,0.0],[1027.9,0.0],[1028.2,0.0],[1028.6,0.0],[1029.0,0.0],[1029.2,0.0],[1029.2,0.0],[1029.0,0.0],[1028.8,0.0],[1028.7,0.0],[1028.2,0.0],[1028.2,0.0],[1028.4,0.0],[1028.2,0.0],[1028.3,0.0],[1028.6,0.0],[1028.9,0.0],[1029.0,0.0],[1028.7,0.0],[1028.2,0.0],[1027.6,0.0],[1026.8,0.0],[1026.0,0.0],[1025.4,0.0],[1025.0,0.0],[1025.0,0.0],[1025.1,0.0],[1025.4,0.0],[1025.5,0.0],[1025.6,0.0],[1025.6,0.0],[1025.6,0.0],[1026.0,0.0],[1025.9,0.0],[1025.7,0.0],[1025.5,0.0],[1025.3,0.0],[1025.5,0.0],[1025.6,0.0],[1025.9,0.0],[1026.4,0.0],[1026.7,0.0],[1027.1,0.0],[1027.0,0.0],[1026.8,0.0],[1026.6,0.0],[1026.4,0.0],[1026.4,0.0],[1026.3,0.0],[1026.4,0.0],[1026.5,0.0],[1026.8,0.0],[1027.1,0.0],[1027.1,0.0],[1027.1,0.0],[1026.9,0.0],[1026.8,0.0],[1026.5,0.0],[1026.2,0.0],[1026.1,0.0],[1025.9,0.0],[1025.9,0.0],[1026.0,0.0],[1026.1,0.0],[1026.3,0.0],[1026.3,0.0],[1026.0,0.0],[1025.5,0.0],[1024.9,0.0],[1024.2,0.0],[1023.5,0.0],[1022.8,0.0],[1022.5,0.0],[1022.1,0.0],[1022.1,0.0],[1022.0,0.0],[1021.7,0.0],[1021.4,0.0],[1021.0,0.0],[1020.8,0.0],[1020.6,0.0],[1020.2,0.0],[1019.9,0.0],[1019.8,0.0],[1019.8,0.0],[1019.8,0.0],[1019.8,0.0],[1020.0,0.0],[1020.2,0.0],[1020.0,0.0],[1019.8,0.0],[1019.5,0.0],[1019.2,0.0],[1018.7,0.0],[1018.3,0.0],[1017.9,0.0],[1017.7,0.0],[1017.7,0.0],[1017.9,0.0],[1018.3,0.0],[1018.2,0.0],[1018.1,0.0],[1018.3,0.0],[1018.3,0.0],[1018.2,0.0],[1018.0,0.0],[1017.7,0.0],[1017.7,0.0],[1018.1,0.0],[1018.6,0.0],[1018.8,0.0],[1018.7,0.0],[1018.7,0.0],[1018.5,0.0],[1018.0,0.0],[1017.3,0.0],[1016.6,0.0],[1015.9,0.0],[1015.5,0.0],[1015.2,0.0],[1015.0,0.0],[1015.2,0.0],[1015.3,0.0],[1015.1,0.0],[1014.8,0.0],[1014.5,0.0],[1014.2,0.0],[1013.5,0.0],[1012.9,0.0],[1012.7,0.0],[1012.8,0.0],[1013.2,0.0],[1013.6,0.0],[1014.2,0.0],[1014.7,0.0],[1014.8,0.0],[1014.8,0.0],[1015.3,0.0],[1015.9,0.0],[1016.5,0.0],[1017.2,0.0],[1018.6,0.0],[1019.5,0.0],[1020.0,0.0],[1020.3,0.0],[1020.5,0.0],[1021.4,0.0],[1021.6,0.0],[1021.6,0.0],[1021.7,0.0],[1022.0,0.0],[1022.3,0.0],[1022.5,0.0],[1022.5,0.0],[1022.1,0.0],[1021.5,0.0],[1020.7,0.0],[1019.8,0.0],[1018.8,0.0],[1017.8,0.0],[1017.2,0.0],[1016.6,0.0],[1015.9,0.0],[1015.6,0.0],[1015.3,0.0],[1014.8,0.0],[1014.3,0.0],[1014.2,0.0],[1014.1,0.0],[1014.0,0.0],[1013.7,0.0],[1013.6,0.0],[1013.6,0.0],[1013.7,0.0],[1013.8,0.0],[1014.2,0.0],[1014.6,0.0],[1015.1,0.0],[1015.3,0.0],[1015.4,0.0],[1015.6,0.0],[1015.6,0.0],[1015.6,0.0],[1015.7,0.0],[1016.0,0.0],[1016.4,0.0],[1016.6,0.0],[1016.8,0.0],[1017.0,0.0],[1017.0,0.0],[1017.0,0.0],[1016.8,0.0],[1016.4,0.0],[1016.0,0.0],[1015.7,0.0],[1015.3,0.0],[1014.8,0.0],[1014.5,0.0],[1014.5,0.0],[1014.5,0.0],[1014.3,0.0],[1014.1,0.0],[1013.8,0.0],[1013.1,0.0],[1012.3,0.0],[1011.2,0.0],[1010.2,0.0],[1009.3,0.0],[1008.6,0.0],[1008.2,0.0],[1007.8,0.0],[1008.0,0.0],[1008.1,0.0],[1007.7,0.0],[1007.6,0.0],[1007.2,0.0],[1006.8,0.0],[1006.1,0.0],[1005.2,0.0],[1004.5,0.0],[1003.7,0.0],[1003.0,0.0],[1002.7,0.0],[1003.0,0.0],[1003.2,0.0],[1003.1,0.0],[1002.3,1.0],[1002.2,0.0],[1001.4,1.0],[1000.9,1.0],[1000.8,1.0],[1001.6,1.0],[1001.2,0.0],[1001.2,0.0],[1001.2,1.0],[1002.2,0.0],[1003.0,0.0],[1003.5,0.0],[1003.8,0.0],[1004.4,0.0],[1005.0,0.0],[1005.2,0.0],[1005.3,0.0],[1005.4,0.0],[1005.8,0.0],[1006.0,0.0],[1006.4,0.0],[1007.0,0.0],[1007.4,1.0],[1007.8,1.0],[1007.6,0.0],[1007.5,0.0],[1007.0,1.0],[1006.2,0.0],[1005.6,0.0],[1005.1,0.0],[1004.7,0.0],[1004.4,0.0],[1003.9,1.0],[1003.9,1.0],[1004.1,0.0],[1004.0,0.0],[1003.9,0.0],[1003.8,0.0],[1003.5,0.0],[1003.4,0.0],[1002.9,0.0],[1002.4,0.0],[1001.9,0.0],[1001.6,0.0],[1001.6,0.0],[1001.5,0.0],[1001.8,0.0],[1002.1,0.0],[1002.1,0.0],[1001.9,0.0],[1001.5,0.0],[1001.3,0.0],[1001.0,0.0],[1001.3,0.0],[1002.3,0.0],[1004.5,0.0],[1006.0,0.0],[1008.0,0.0],[1009.7,0.0],[1010.6,0.0],[1011.8,0.0],[1012.6,0.0],[1013.0,0.0],[1013.2,0.0],[1013.3,0.0],[1013.1,0.0],[1013.6,0.0],[1014.0,0.0],[1014.6,0.0],[1015.0,0.0],[1015.2,0.0],[1015.8,0.0],[1016.1,0.0],[1016.4,0.0],[1016.2,0.0],[1016.0,0.0],[1015.6,0.0],[1015.3,0.0],[1015.0,0.0],[1014.8,0.0],[1014.7,0.0],[1015.0,0.0],[1015.4,0.0],[1015.6,0.0],[1015.9,0.0],[1015.9,0.0],[1015.6,0.0],[1015.4,0.0],[1015.4,0.0],[1015.3,0.0],[1016.0,0.0],[1016.5,0.0],[1016.8,0.0],[1017.3,0.0],[1017.4,0.0],[1017.3,0.0],[1017.0,0.0],[1016.6,0.0],[1016.2,0.0],[1015.8,0.0],[1015.4,0.0],[1015.2,0.0],[1015.2,0.0],[1015.4,0.0],[1015.7,0.0],[1015.6,0.0],[1015.8,0.0],[1016.0,0.0],[1016.0,0.0],[1015.6,0.0],[1015.4,0.0],[1015.5,0.0],[1015.7,0.0],[1016.0,0.0],[1016.3,0.0],[1016.7,0.0],[1016.8,1.0],[1016.9,1.0],[1016.8,1.0],[1016.7,1.0],[1016.2,1.0],[1015.7,0.0],[1014.8,1.0],[1014.1,1.0],[1013.8,1.0],[1014.1,0.0],[1014.3,0.0],[1014.5,0.0],[1014.2,0.0],[1013.9,0.0],[1013.9,0.0],[1013.9,0.0],[1014.1,0.0],[1013.7,0.0],[1013.5,0.0],[1013.3,0.0],[1013.4,0.0],[1013.7,0.0],[1013.9,0.0],[1014.1,0.0],[1014.1,0.0],[1014.2,1.0],[1014.0,1.0],[1013.5,1.0],[1012.7,0.0],[1012.1,0.0],[1011.4,0.0],[1010.8,0.0],[1010.2,0.0],[1010.2,0.0],[1010.5,0.0],[1010.7,0.0],[1011.1,0.0],[1010.7,0.0],[1010.0,0.0],[1009.5,0.0],[1008.9,0.0],[1008.2,0.0],[1007.8,0.0],[1007.1,0.0],[1006.5,0.0],[1006.1,0.0],[1006.0,0.0],[1005.7,0.0],[1005.7,0.0],[1005.8,1.0],[1005.7,1.0],[1005.1,1.0],[1004.7,1.0],[1004.2,1.0],[1003.5,0.0],[1002.9,0.0],[1002.6,0.0],[1002.4,0.0],[1002.5,0.0],[1002.9,0.0],[1003.3,0.0],[1003.5,0.0],[1003.5,0.0],[1003.4,0.0],[1003.2,0.0],[1003.0,0.0],[1002.7,0.0],[1002.5,0.0],[1002.4,0.0],[1002.8,0.0],[1003.3,0.0],[1003.4,1.0],[1003.6,1.0],[1003.8,1.0],[1003.8,0.0],[1003.7,0.0],[1003.4,1.0],[1002.9,0.0],[1002.2,0.0],[1001.7,0.0],[1001.3,0.0],[1001.1,1.0],[1001.2,1.0],[1001.1,1.0],[1001.1,1.0],[1001.0,0.0],[1000.9,0.0],[1000.1,0.0],[999.28,0.0],[998.7,0.0],[998.15,0.0],[997.49,0.0],[996.73,0.0],[996.66,0.0],[996.55,0.0],[996.29,0.0],[995.96,0.0],[995.84,0.0],[995.74,0.0],[995.66,0.0],[995.28,0.0],[994.76,0.0],[993.9,0.0],[993.23,0.0],[993.01,0.0],[993.3,0.0],[993.97,0.0],[994.5,0.0],[995.28,0.0],[994.95,0.0],[994.6,0.0],[994.19,0.0],[994.25,0.0],[994.1,0.0],[994.7,0.0],[995.25,0.0],[995.14,0.0],[995.4,0.0],[996.62,0.0],[997.88,0.0],[998.82,1.0],[999.7,1.0],[1000.5,1.0],[1001.2,1.0],[1001.7,1.0],[1002.1,1.0],[1002.4,1.0],[1002.6,1.0],[1003.0,1.0],[1003.3,1.0],[1003.6,1.0],[1004.1,1.0],[1004.5,1.0],[1004.8,1.0],[1005.0,1.0],[1005.2,0.0],[1005.3,0.0],[1005.2,0.0],[1005.2,0.0],[1004.9,0.0],[1005.2,0.0],[1005.5,0.0],[1006.0,0.0],[1006.1,1.0],[1006.7,1.0],[1007.3,1.0],[1007.8,1.0],[1008.3,1.0],[1008.7,1.0],[1008.9,1.0],[1009.0,1.0],[1009.2,1.0],[1009.4,1.0],[1009.6,1.0],[1009.8,1.0],[1010.2,1.0],[1010.5,1.0],[1010.6,1.0],[1010.6,0.0],[1010.4,0.0],[1010.4,0.0],[1010.1,0.0],[1009.9,0.0],[1009.7,0.0],[1009.9,0.0],[1010.1,0.0],[1010.4,0.0],[1010.6,1.0],[1010.6,1.0],[1010.5,1.0],[1010.2,1.0],[1009.9,1.0],[1009.8,1.0],[1009.6,1.0],[1008.9,1.0],[1008.6,1.0],[1008.1,1.0],[1007.6,1.0],[1007.3,1.0],[1007.4,1.0],[1007.8,1.0],[1007.8,1.0],[1007.9,0.0],[1007.8,0.0],[1007.3,0.0],[1006.7,0.0],[1006.6,0.0],[1006.3,0.0],[1006.0,0.0],[1006.2,0.0],[1006.2,0.0],[1006.5,1.0],[1006.7,1.0],[1006.9,1.0],[1007.0,1.0],[1006.8,1.0],[1006.6,1.0],[1006.1,1.0],[1005.5,1.0],[1005.0,1.0],[1004.7,1.0],[1004.9,1.0],[1005.2,1.0],[1005.8,1.0],[1005.9,1.0],[1006.3,1.0],[1006.4,0.0],[1006.5,0.0],[1006.4,0.0],[1006.3,0.0],[1006.5,0.0],[1006.1,0.0],[1006.0,0.0],[1006.1,0.0],[1006.5,0.0],[1006.9,1.0],[1007.4,1.0],[1007.3,1.0],[1007.3,1.0],[1007.2,1.0],[1006.8,1.0],[1006.1,1.0],[1005.6,1.0],[1004.9,1.0],[1004.5,1.0],[1004.1,1.0],[1003.5,1.0],[1003.2,1.0],[1003.3,1.0],[1003.1,1.0],[1002.8,0.0],[1002.4,0.0],[1002.1,0.0],[1001.2,0.0],[1000.9,0.0],[1001.1,0.0],[1000.9,0.0],[1000.9,0.0],[1000.6,0.0],[999.99,0.0],[1000.2,0.0],[999.86,0.0],[999.68,0.0],[999.33,1.0],[999.13,1.0],[998.46,1.0],[997.36,1.0],[996.62,1.0],[996.34,1.0],[995.78,1.0],[995.4,1.0],[995.87,1.0],[996.37,1.0],[996.52,1.0],[996.3,0.0],[998.02,0.0],[998.48,0.0],[998.88,0.0],[999.04,0.0],[999.22,0.0],[999.5,0.0],[999.78,0.0],[1000.1,0.0],[999.7,0.0],[1000.4,0.0],[1000.7,0.0],[1001.3,0.0],[1002.1,0.0],[1003.1,0.0],[1003.2,0.0],[1003.3,0.0],[1003.4,0.0],[1003.8,0.0],[1004.0,0.0],[1004.4,0.0],[1005.0,0.0],[1005.4,0.0],[1006.1,1.0],[1006.8,1.0],[1007.0,1.0],[1007.1,1.0],[1007.1,1.0],[1007.2,1.0],[1007.0,1.0],[1007.3,1.0],[1007.6,0.0],[1007.8,0.0],[1008.0,0.0],[1008.5,0.0],[1009.0,0.0],[1009.0,0.0],[1009.0,0.0],[1008.9,0.0],[1008.5,0.0],[1008.2,0.0],[1007.5,0.0],[1007.4,0.0],[1007.1,0.0],[1007.3,0.0],[1007.6,0.0],[1007.2,0.0],[1007.5,1.0],[1007.6,1.0],[1007.1,1.0],[1006.6,1.0],[1007.0,0.0],[1007.2,0.0],[1006.4,0.0],[1005.8,1.0],[1005.2,0.0],[1004.4,0.0],[1004.0,0.0],[1003.6,0.0],[1003.2,0.0],[1002.4,0.0],[1001.9,0.0],[1001.2,0.0],[999.75,0.0],[998.43,0.0],[996.96,0.0],[994.89,0.0],[992.89,0.0],[993.59,0.0],[991.25,0.0],[988.82,0.0],[987.43,1.0],[986.41,0.0],[985.85,0.0],[986.87,1.0],[988.34,1.0],[987.56,1.0],[987.5,1.0],[986.56,1.0],[986.43,1.0],[986.16,1.0],[986.25,1.0],[986.41,1.0],[986.78,1.0],[987.31,1.0],[988.5,0.0],[989.93,0.0],[991.17,0.0],[992.37,0.0],[993.42,0.0],[994.17,0.0],[994.95,0.0],[995.63,0.0],[996.73,0.0],[997.33,0.0],[997.96,1.0],[998.6,1.0],[999.15,1.0],[999.54,1.0],[999.87,1.0],[1000.1,1.0],[1000.4,1.0],[1000.6,0.0],[1001.0,1.0],[1001.4,1.0],[1002.0,0.0],[1002.7,0.0],[1003.3,0.0],[1003.6,0.0],[1003.7,0.0],[1004.4,1.0],[1004.8,1.0],[1005.2,1.0],[1004.9,1.0],[1004.6,1.0],[1004.4,1.0],[1004.1,1.0],[1003.7,1.0],[1003.7,1.0],[1003.5,1.0],[1003.4,1.0],[1003.3,1.0],[1003.4,0.0],[1003.8,0.0],[1003.8,0.0],[1003.6,0.0],[1003.4,0.0],[1003.6,0.0],[1003.3,0.0],[1003.1,0.0],[1002.9,0.0],[1003.4,0.0],[1004.1,0.0],[1004.4,0.0],[1004.7,1.0],[1005.0,1.0],[1005.2,1.0],[1005.0,1.0],[1005.1,1.0],[1005.1,1.0],[1005.2,0.0],[1005.5,0.0],[1005.7,0.0],[1006.1,0.0],[1006.8,1.0],[1007.6,0.0],[1008.1,0.0],[1008.4,0.0],[1012.9,0.0],[1012.9,0.0],[1012.6,0.0],[1012.6,0.0],[1012.4,0.0],[1012.4,0.0],[1012.6,0.0],[1013.1,0.0],[1013.5,0.0],[1013.7,0.0],[1013.7,0.0],[1013.7,0.0],[1013.6,0.0],[1013.4,0.0],[1013.1,0.0],[1012.6,0.0],[1012.2,0.0],[1011.9,0.0],[1011.8,0.0],[1011.6,0.0],[1011.9,0.0],[1012.2,0.0],[1012.3,0.0],[1012.3,0.0],[1012.2,0.0],[1011.3,0.0],[1011.2,0.0],[1011.2,0.0],[1011.0,0.0],[1011.2,0.0],[1011.5,0.0],[1011.6,0.0],[1011.8,1.0],[1012.1,1.0],[1012.2,1.0],[1012.0,1.0],[1012.2,1.0],[1012.2,1.0],[1011.8,1.0],[1011.7,1.0],[1011.3,1.0],[1010.9,1.0],[1010.8,1.0],[1011.1,1.0],[1011.6,1.0],[1011.9,0.0],[1011.8,0.0],[1011.8,0.0],[1011.8,0.0],[1011.6,0.0],[1011.2,0.0],[1011.2,0.0],[1011.2,0.0],[1011.3,0.0],[1011.7,0.0],[1011.9,1.0],[1012.1,1.0],[1012.1,1.0],[1011.9,1.0],[1011.5,1.0],[1010.9,1.0],[1010.3,1.0],[1009.2,1.0],[1008.2,1.0],[1007.6,1.0],[1007.4,0.0],[1007.4,0.0],[1008.0,0.0],[1008.7,0.0],[1009.2,0.0],[1009.7,0.0],[1010.4,0.0],[1010.8,0.0],[1011.1,0.0],[1011.7,0.0],[1011.8,0.0],[1012.4,0.0],[1012.8,0.0],[1013.7,0.0],[1014.3,0.0],[1014.9,1.0],[1015.3,1.0],[1015.7,1.0],[1015.6,1.0],[1015.1,1.0],[1014.9,1.0],[1014.7,1.0],[1014.4,1.0],[1014.2,1.0],[1014.0,0.0],[1014.2,0.0],[1014.7,1.0],[1015.1,0.0],[1015.2,0.0],[1015.3,0.0],[1015.3,0.0],[1015.2,0.0],[1014.8,0.0],[1014.5,0.0],[1014.2,0.0],[1014.3,0.0],[1014.5,0.0],[1014.8,0.0],[1015.3,1.0],[1015.7,1.0],[1015.8,1.0],[1016.0,1.0],[1015.8,1.0],[1015.4,1.0],[1015.3,1.0],[1015.1,1.0],[1015.0,1.0],[1015.2,1.0],[1015.2,1.0],[1015.0,1.0],[1015.3,1.0],[1015.3,0.0],[1015.3,0.0],[1015.0,0.0],[1015.2,0.0],[1015.2,0.0],[1015.6,0.0],[1015.6,0.0],[1015.8,0.0],[1015.8,1.0],[1015.5,0.0],[1015.2,0.0],[1014.9,0.0],[1014.7,0.0],[1014.6,0.0],[1014.4,0.0],[1014.6,0.0],[1015.0,0.0],[1015.5,0.0],[1015.6,0.0],[1015.1,0.0],[1014.4,0.0],[1014.6,0.0],[1015.7,0.0],[1014.6,0.0],[1014.2,0.0],[1014.3,0.0],[1014.2,0.0],[1014.1,0.0],[1014.1,0.0],[1014.3,0.0],[1012.8,0.0],[1012.4,0.0],[1012.4,0.0],[1012.7,0.0],[1013.1,0.0],[1013.5,0.0],[1013.6,1.0],[1013.5,1.0],[1013.5,1.0],[1013.5,1.0],[1013.3,1.0],[1013.2,1.0],[1012.8,1.0],[1012.1,1.0],[1012.0,1.0],[1012.6,0.0],[1013.1,0.0],[1013.6,0.0],[1013.9,0.0],[1013.9,0.0],[1013.1,0.0],[1012.5,0.0],[1012.9,0.0],[1012.9,0.0],[1013.0,0.0],[1013.2,0.0],[1013.4,0.0],[1013.6,0.0],[1013.7,0.0],[1013.9,0.0],[1014.1,0.0],[1013.9,0.0],[1013.5,0.0],[1013.0,0.0],[1012.6,0.0],[1012.2,0.0],[1011.8,0.0],[1011.8,0.0],[1011.9,0.0],[1012.1,0.0],[1012.4,0.0],[1012.6,0.0],[1012.2,0.0],[1011.7,0.0],[1010.6,0.0],[1010.7,0.0],[1010.5,0.0],[1010.4,1.0],[1010.2,1.0],[1009.9,1.0],[1009.7,1.0],[1009.3,1.0],[1008.8,1.0],[1008.4,1.0],[1008.4,0.0],[1008.1,0.0],[1007.8,0.0],[1007.8,0.0],[1007.9,0.0],[1007.5,0.0],[1007.3,0.0],[1006.9,0.0],[1005.3,0.0],[1005.6,0.0],[1005.6,1.0],[1005.5,1.0],[1005.4,1.0],[1005.1,1.0],[1004.8,1.0],[1004.4,1.0],[1004.1,1.0],[1003.8,1.0],[1003.5,1.0],[1003.1,0.0],[1003.1,0.0],[1003.4,0.0],[1003.7,0.0],[1003.8,0.0],[1003.7,0.0],[1003.6,0.0],[1003.4,0.0],[1003.3,0.0],[1003.3,0.0],[1003.4,0.0],[1004.1,0.0],[1004.3,0.0],[1004.4,1.0],[1004.5,1.0],[1004.5,1.0],[1004.3,1.0],[1003.8,1.0],[1003.5,1.0],[1003.3,0.0],[1003.3,0.0],[1003.6,0.0],[1003.8,0.0],[1004.0,0.0],[1004.4,0.0],[1004.8,0.0],[1004.7,0.0],[1004.8,0.0],[1004.6,0.0],[1004.6,0.0],[1004.5,0.0],[1004.5,0.0],[1005.0,0.0],[1005.5,0.0],[1006.0,0.0],[1006.2,0.0],[1006.5,0.0],[1006.9,0.0],[1007.1,0.0],[1007.1,0.0],[1007.1,0.0],[1006.9,0.0],[1006.5,0.0],[1006.3,0.0],[1006.2,0.0],[1006.0,0.0],[1006.6,0.0],[1007.4,0.0],[1007.5,0.0],[1007.7,0.0],[1007.7,0.0],[1011.7,0.0],[1011.5,0.0],[1010.9,0.0],[1010.7,0.0],[1010.6,0.0],[1010.6,0.0],[1010.7,0.0],[1011.0,0.0],[1011.2,0.0],[1011.5,0.0],[1011.6,0.0],[1011.8,0.0],[1011.9,0.0],[1011.7,0.0],[1011.7,0.0],[1011.3,0.0],[1011.0,0.0],[1010.9,0.0],[1011.0,0.0],[1011.2,0.0],[1011.6,0.0],[1012.2,0.0],[1012.7,0.0],[1013.1,0.0],[1013.1,0.0],[1012.9,0.0],[1012.8,0.0],[1013.0,0.0],[1012.8,0.0],[1012.8,0.0],[1013.4,0.0],[1013.9,0.0],[1014.1,0.0],[1014.2,0.0],[1014.4,0.0],[1014.7,0.0],[1015.0,0.0],[1015.0,0.0],[1014.9,0.0],[1014.6,0.0],[1014.5,0.0],[1014.9,0.0],[1015.5,0.0],[1015.6,0.0],[1016.0,0.0],[1016.1,0.0],[1016.4,0.0],[1016.7,0.0],[1017.0,0.0],[1017.0,0.0],[1016.9,0.0],[1017.0,0.0],[1017.1,0.0],[1017.2,0.0],[1017.4,0.0],[1017.5,0.0],[1017.5,0.0],[1017.8,0.0],[1018.2,0.0],[1018.2,0.0],[1018.2,0.0],[1018.2,0.0],[1018.0,0.0],[1017.5,0.0],[1017.0,0.0],[1016.7,0.0],[1016.2,0.0],[1016.3,0.0],[1016.9,0.0],[1017.5,0.0],[1017.6,0.0],[1017.4,0.0],[1017.3,0.0],[1017.2,0.0],[1016.9,0.0],[1016.8,0.0],[1016.5,0.0],[1016.6,0.0],[1016.9,0.0],[1017.2,0.0],[1017.4,0.0],[1017.5,0.0],[1017.4,0.0],[1017.3,0.0],[1016.9,0.0],[1016.9,0.0],[1016.5,0.0],[1015.7,0.0],[1015.1,0.0],[1014.8,0.0],[1014.3,0.0],[1014.1,0.0],[1014.2,0.0],[1014.8,0.0],[1015.0,0.0],[1014.6,0.0],[1014.1,0.0],[1012.9,0.0],[1012.4,0.0],[1012.0,0.0],[1011.8,0.0],[1011.8,0.0],[1012.0,0.0],[1012.0,0.0],[1012.2,0.0],[1012.2,0.0],[1011.5,0.0],[1011.2,0.0],[1010.9,0.0],[1009.9,0.0],[1009.8,0.0],[1009.6,0.0],[1009.9,0.0],[1009.7,0.0],[1009.5,0.0],[1009.4,0.0],[1008.4,0.0],[1008.0,0.0],[1007.7,0.0],[1007.3,0.0],[1008.5,0.0],[1009.0,0.0],[1008.9,0.0],[1009.1,0.0],[1009.0,0.0],[1008.7,0.0],[1008.8,0.0],[1008.7,0.0],[1008.8,0.0],[1009.2,0.0],[1009.7,0.0],[1010.3,0.0],[1010.7,0.0],[1010.9,0.0],[1010.9,0.0],[1010.9,0.0],[1010.8,0.0],[1010.5,1.0],[1010.0,1.0],[1009.6,0.0],[1009.4,0.0],[1009.2,0.0],[1009.0,0.0],[1008.9,0.0],[1009.1,1.0],[1008.9,1.0],[1008.5,1.0],[1008.0,1.0],[1007.7,0.0],[1006.8,0.0],[1005.8,0.0],[1005.1,0.0],[1004.5,0.0],[1004.4,0.0],[1004.3,0.0],[1004.3,0.0],[1004.1,0.0],[1003.9,0.0],[1003.7,0.0],[1002.9,0.0],[1002.2,0.0],[1002.4,0.0],[1002.8,0.0],[1003.3,0.0],[1002.8,0.0],[1002.5,0.0],[1002.5,0.0],[1003.0,0.0],[1003.5,0.0],[1003.8,0.0],[1004.3,0.0],[1004.3,0.0],[1004.3,0.0],[1004.2,0.0],[1003.7,0.0],[1003.1,0.0],[1002.9,0.0],[1002.9,0.0],[1003.2,0.0],[1003.5,0.0],[1003.8,0.0],[1003.9,0.0],[1004.0,0.0],[1004.5,1.0],[1004.5,0.0],[1004.6,0.0],[1004.7,0.0],[1004.8,0.0],[1004.8,0.0],[1004.7,0.0],[1004.5,0.0],[1004.9,0.0],[1005.1,0.0],[1005.5,0.0],[1005.7,0.0],[1005.6,0.0],[1005.5,0.0],[1005.0,0.0],[1004.9,0.0],[1004.6,0.0],[1004.1,0.0],[1003.9,0.0],[1003.7,0.0],[1003.8,0.0],[1003.9,0.0],[1004.0,0.0],[1003.8,0.0],[1003.7,0.0],[1003.5,0.0],[1003.2,0.0],[1002.8,0.0],[1002.4,0.0],[1002.0,0.0],[1001.6,0.0],[1001.8,0.0],[1002.3,0.0],[1002.8,0.0],[1003.3,0.0],[1004.0,0.0],[1003.9,0.0],[1003.5,0.0],[1003.2,0.0],[1003.4,0.0],[1003.4,0.0],[1003.2,0.0],[1003.2,0.0],[1002.9,0.0],[1003.3,0.0],[1003.9,0.0],[1003.9,0.0],[1004.7,0.0],[1004.7,0.0],[1004.7,0.0],[1004.8,0.0],[1005.0,0.0],[1005.2,0.0],[1005.5,0.0],[1006.4,0.0],[1006.6,0.0],[1006.7,0.0],[1005.4,0.0],[1005.7,0.0],[1006.7,0.0],[1007.8,0.0],[1008.0,0.0],[1007.8,0.0],[1007.8,0.0],[1008.1,0.0],[1008.3,0.0],[1008.6,0.0],[1008.9,0.0],[1009.2,0.0],[1009.4,0.0],[1009.4,0.0],[1009.7,0.0],[1009.7,0.0],[1010.1,0.0],[1010.1,0.0],[1009.7,0.0],[1009.4,0.0],[1009.7,0.0],[1010.1,0.0],[1010.1,0.0],[1010.2,0.0],[1010.5,0.0],[1010.8,0.0],[1011.4,0.0],[1011.4,0.0],[1011.3,0.0],[1011.0,0.0],[1010.9,0.0],[1010.7,0.0],[1010.5,0.0],[1010.4,0.0],[1010.7,0.0],[1011.1,0.0],[1011.4,0.0],[1011.6,0.0],[1011.8,0.0],[1012.0,0.0],[1011.9,0.0],[1011.6,0.0],[1011.3,0.0],[1011.3,0.0],[1011.5,0.0],[1011.5,0.0],[1011.2,0.0],[1011.4,0.0],[1011.6,0.0],[1011.9,0.0],[1012.2,0.0],[1011.8,0.0],[1011.8,0.0],[1011.4,0.0],[1011.0,0.0],[1010.8,0.0],[1011.2,0.0],[1011.4,0.0],[1011.8,0.0],[1011.9,0.0],[1012.3,0.0],[1012.6,0.0],[1012.7,0.0],[1012.8,0.0],[1012.8,0.0],[1012.7,0.0],[1012.3,0.0],[1012.2,0.0],[1012.3,0.0],[1011.7,0.0],[1011.2,0.0],[1010.9,0.0],[1011.1,0.0],[1011.2,0.0],[1010.7,0.0],[1010.5,0.0],[1010.2,0.0],[1010.1,0.0],[1009.7,0.0],[1009.4,0.0],[1009.0,0.0],[1009.0,0.0],[1009.0,0.0],[1008.5,0.0],[1008.5,0.0],[1007.9,0.0],[1007.1,0.0],[1006.4,0.0],[1005.8,0.0],[1004.9,0.0],[1004.0,0.0],[1003.4,0.0],[1002.6,0.0],[1002.5,0.0],[1002.9,0.0],[1003.4,0.0],[1003.6,0.0],[1004.1,0.0],[1004.1,0.0],[1004.2,0.0],[1004.4,0.0],[1004.7,0.0],[1005.0,0.0],[1004.9,0.0],[1004.9,0.0],[1004.8,0.0],[1005.0,0.0],[1005.2,0.0],[1005.7,0.0],[1005.9,0.0],[1006.2,0.0],[1006.5,0.0],[1006.8,0.0],[1006.9,0.0],[1006.9,0.0],[1006.7,0.0],[1006.4,0.0],[1006.4,0.0],[1006.6,0.0],[1007.2,0.0],[1007.6,0.0],[1007.9,0.0],[1008.0,0.0],[1008.3,0.0],[1008.5,0.0],[1008.2,0.0],[1008.0,0.0],[1007.8,0.0],[1007.4,0.0],[1007.4,0.0],[1007.3,0.0],[1007.1,0.0],[1007.1,0.0],[1006.8,0.0],[1006.9,0.0],[1007.1,0.0],[1006.9,0.0],[1006.8,0.0],[1006.6,0.0],[1006.3,0.0],[1006.0,0.0],[1005.9,0.0],[1005.5,0.0],[1005.5,0.0],[1005.7,0.0],[1006.1,0.0],[1006.3,0.0],[1006.2,0.0],[1005.9,0.0],[1005.8,0.0],[1005.5,0.0],[1005.4,0.0],[1005.2,0.0],[1005.4,0.0],[1005.7,0.0],[1005.9,0.0],[1006.3,0.0],[1006.6,0.0],[1006.9,0.0],[1007.4,0.0],[1007.6,0.0],[1007.6,0.0],[1007.5,0.0],[1007.4,0.0],[1008.3,0.0],[1008.9,0.0],[1009.3,0.0],[1010.0,0.0],[1010.6,0.0],[1011.3,0.0],[1008.0,0.0],[1007.9,0.0],[1006.6,0.0],[1006.6,0.0],[1006.4,0.0],[1006.0,0.0],[1006.3,0.0],[1006.1,0.0],[1005.4,0.0],[1005.4,0.0],[1005.3,0.0],[1005.1,0.0],[1005.0,0.0],[1005.0,0.0],[1005.3,0.0],[1005.9,0.0],[1005.9,0.0],[1006.2,0.0],[1006.3,0.0],[1006.9,0.0],[1007.3,0.0],[1007.4,1.0],[1007.2,1.0],[1007.0,1.0],[1007.0,0.0],[1007.0,1.0],[1006.9,0.0],[1007.0,0.0],[1007.5,0.0],[1007.9,0.0],[1008.2,0.0],[1008.4,0.0],[1008.6,0.0],[1008.7,0.0],[1008.5,0.0],[1008.6,0.0],[1008.3,0.0],[1008.2,0.0],[1008.1,0.0],[1008.2,0.0],[1008.0,0.0],[1008.0,0.0],[1007.9,0.0],[1008.3,0.0],[1008.6,0.0],[1009.0,0.0],[1009.1,0.0],[1009.0,0.0],[1008.8,1.0],[1008.7,1.0],[1008.9,1.0],[1009.3,1.0],[1009.7,1.0],[1010.2,1.0],[1010.8,1.0],[1011.3,1.0],[1011.5,1.0],[1011.8,1.0],[1012.1,1.0],[1011.9,1.0],[1011.8,0.0],[1011.6,0.0],[1011.6,1.0],[1011.8,1.0],[1011.8,1.0],[1011.7,1.0],[1011.7,1.0],[1011.9,1.0],[1012.2,1.0],[1012.4,1.0],[1012.6,1.0],[1012.4,1.0],[1012.1,1.0],[1011.8,1.0],[1011.8,1.0],[1012.2,1.0],[1012.5,1.0],[1012.7,1.0],[1013.1,1.0],[1013.4,1.0],[1013.4,1.0],[1013.6,1.0],[1013.6,0.0],[1013.4,0.0],[1012.9,1.0],[1012.5,0.0],[1012.3,0.0],[1012.2,0.0],[1012.7,1.0],[1013.0,1.0],[1013.1,1.0],[1013.5,1.0],[1013.8,1.0],[1013.8,0.0],[1012.9,0.0],[1012.6,0.0],[1012.4,0.0],[1012.4,0.0],[1012.7,0.0],[1013.1,0.0],[1013.6,0.0],[1014.2,0.0],[1014.9,0.0],[1015.1,0.0],[1015.7,0.0],[1016.0,0.0],[1016.2,0.0],[1016.0,0.0],[1015.8,0.0],[1015.6,0.0],[1015.4,0.0],[1015.4,0.0],[1015.4,0.0],[1015.4,0.0],[1015.9,0.0],[1016.3,0.0],[1016.1,0.0],[1015.9,0.0],[1015.6,0.0],[1015.3,0.0],[1015.4,0.0],[1015.0,0.0],[1015.1,0.0],[1015.2,0.0],[1015.6,0.0],[1015.7,0.0],[1015.8,0.0],[1015.9,0.0],[1016.0,0.0],[1015.7,0.0],[1015.4,0.0],[1015.0,0.0],[1014.3,0.0],[1013.6,0.0],[1013.5,0.0],[1013.7,0.0],[1013.6,0.0],[1013.6,0.0],[1013.8,0.0],[1013.7,0.0],[1013.3,0.0],[1013.0,0.0],[1012.6,0.0],[1012.3,0.0],[1011.6,0.0],[1011.3,0.0],[1011.3,0.0],[1011.2,0.0],[1011.3,0.0],[1011.4,0.0],[1011.4,0.0],[1011.3,0.0],[1011.2,0.0],[1010.9,0.0],[1010.7,0.0],[1010.2,0.0],[1009.4,0.0],[1009.1,0.0],[1008.8,0.0],[1008.6,0.0],[1008.5,0.0],[1008.4,0.0],[1008.5,0.0],[1008.4,0.0],[1007.9,0.0],[1007.5,0.0],[1007.2,0.0],[1006.7,0.0],[1006.2,0.0],[1005.8,0.0],[1006.0,0.0],[1006.0,0.0],[1005.9,0.0],[1006.1,0.0],[1006.1,0.0],[1006.1,0.0],[1006.0,0.0],[1006.1,0.0],[1005.8,0.0],[1005.3,0.0],[1003.9,0.0],[1003.6,0.0],[1003.8,0.0],[1004.0,0.0],[1004.5,0.0],[1004.7,0.0],[1004.6,0.0],[1004.7,0.0],[1004.7,0.0],[1004.5,0.0],[1004.2,0.0],[1003.9,0.0],[1004.1,0.0],[1004.6,0.0],[1005.4,0.0],[1005.6,0.0],[1005.7,0.0],[1006.2,0.0],[1006.2,1.0],[1006.0,1.0],[1005.9,0.0],[1005.6,0.0],[1005.6,0.0],[1005.7,0.0],[1006.1,0.0],[1006.0,0.0],[1006.2,0.0],[1006.5,0.0],[1006.9,0.0],[1007.4,0.0],[1007.5,0.0],[1007.8,0.0],[1008.1,0.0],[1008.3,0.0],[1008.7,0.0],[1009.1,0.0],[1009.6,0.0],[1010.0,0.0],[1010.4,0.0],[1010.8,0.0],[1010.9,0.0],[1011.0,0.0],[1011.2,0.0],[1011.2,0.0],[1011.1,0.0],[1011.0,0.0],[1010.8,0.0],[1010.7,0.0],[1010.7,0.0],[1011.0,0.0],[1011.1,0.0],[1011.3,0.0],[1011.7,0.0],[1012.0,0.0],[1012.0,0.0],[1011.9,0.0],[1011.7,0.0],[1011.6,0.0],[1011.5,0.0],[1011.7,0.0],[1012.0,0.0],[1012.3,0.0],[1012.7,0.0],[1013.1,0.0],[1013.4,0.0],[1013.7,0.0],[1014.0,0.0],[1014.0,0.0],[1014.0,0.0],[1013.9,0.0],[1013.8,0.0],[1013.6,0.0],[1013.4,0.0],[1013.4,0.0],[1013.4,0.0],[1013.6,0.0],[1014.0,0.0],[1014.4,0.0],[1014.4,0.0],[1014.4,0.0],[1014.2,0.0],[1014.0,0.0],[1013.8,0.0],[1013.8,0.0],[1014.0,0.0],[1014.1,0.0],[1014.6,0.0],[1015.1,0.0],[1015.0,0.0],[1015.0,0.0],[1015.0,0.0],[1015.0,0.0],[1014.7,0.0],[1014.3,0.0],[1013.9,0.0],[1013.7,0.0],[1013.6,0.0],[1013.7,0.0],[1013.6,0.0],[1013.6,0.0],[1013.8,0.0],[1014.1,0.0],[1013.8,0.0],[1013.3,0.0],[1012.9,0.0],[1012.5,0.0],[1012.1,0.0],[1011.9,0.0],[1012.1,0.0],[1012.0,0.0],[1012.1,0.0],[1012.1,0.0],[1011.9,0.0],[1011.7,0.0],[1011.4,0.0],[1011.1,0.0],[1010.6,0.0],[1010.3,0.0],[1009.6,0.0],[1008.9,0.0],[1008.4,0.0],[1008.1,0.0],[1008.2,0.0],[1008.1,0.0],[1008.3,0.0],[1008.3,0.0],[1008.1,0.0],[1008.0,0.0],[1007.7,0.0],[1007.4,0.0],[1007.0,0.0],[1006.9,0.0],[1007.0,0.0],[1006.9,0.0],[1007.0,0.0],[1007.0,0.0],[1006.8,1.0],[1006.7,1.0],[1006.6,1.0],[1006.3,0.0],[1006.1,0.0],[1005.7,0.0],[1005.4,0.0],[1005.0,0.0],[1004.7,0.0],[1004.5,0.0],[1004.6,1.0],[1004.5,0.0],[1004.6,0.0],[1004.8,0.0],[1004.7,1.0],[1004.6,0.0],[1004.7,0.0],[1004.8,0.0],[1004.8,0.0],[1004.7,0.0],[1004.8,0.0],[1005.2,0.0],[1005.4,0.0],[1005.7,0.0],[1006.0,0.0],[1006.2,0.0],[1006.5,0.0],[1006.5,0.0],[1006.3,0.0],[1006.2,0.0],[1006.1,0.0],[1005.9,0.0],[1005.6,0.0],[1005.5,0.0],[1005.6,0.0],[1005.8,0.0],[1006.0,0.0],[1006.1,0.0],[1006.1,0.0],[1006.1,0.0],[1006.1,0.0],[1005.9,0.0],[1005.8,0.0],[1005.9,0.0],[1006.0,0.0],[1006.4,0.0],[1006.6,0.0],[1006.9,0.0],[1006.9,0.0],[1006.9,0.0],[1007.1,0.0],[1007.0,0.0],[1006.8,0.0],[1006.6,0.0],[1006.2,0.0],[1005.8,0.0],[1005.5,0.0],[1005.4,0.0],[1005.6,0.0],[1005.6,0.0],[1006.0,0.0],[1006.2,0.0],[1006.1,0.0],[1006.0,0.0],[1006.0,0.0],[1005.9,0.0],[1005.7,0.0],[1005.5,0.0],[1005.6,0.0],[1006.1,0.0],[1006.5,0.0],[1007.2,0.0],[1007.4,0.0],[1007.5,0.0],[1007.7,0.0],[1008.0,0.0],[1008.2,0.0],[1008.2,0.0],[1008.2,0.0],[1008.6,0.0],[1009.0,0.0],[1009.7,0.0],[1010.4,0.0],[1011.0,0.0],[1011.4,0.0],[1011.7,0.0],[1012.0,0.0],[1012.0,0.0],[1012.1,0.0],[1012.4,0.0],[1012.7,0.0],[1013.1,0.0],[1013.4,0.0],[1013.8,0.0],[1014.1,0.0],[1014.4,0.0],[1014.6,0.0],[1014.7,0.0],[1014.6,0.0],[1014.4,0.0],[1014.3,1.0],[1014.4,0.0],[1014.5,0.0],[1014.5,0.0],[1014.6,0.0],[1014.8,0.0],[1015.4,0.0],[1015.8,0.0],[1016.1,0.0],[1016.1,0.0],[1016.0,0.0],[1015.9,0.0],[1015.7,0.0],[1015.4,0.0],[1015.3,0.0],[1015.5,0.0],[1015.9,0.0],[1016.4,0.0],[1016.8,0.0],[1017.1,0.0],[1017.4,0.0],[1017.7,0.0],[1017.8,0.0],[1017.7,0.0],[1017.6,0.0],[1017.6,0.0],[1017.6,0.0],[1017.7,0.0],[1017.7,0.0],[1018.0,0.0],[1018.2,0.0],[1018.5,0.0],[1018.7,0.0],[1018.5,0.0],[1018.2,0.0],[1018.0,0.0],[1017.6,0.0],[1017.3,0.0],[1017.2,0.0],[1017.2,0.0],[1017.3,0.0],[1017.4,0.0],[1017.7,0.0],[1018.0,0.0],[1018.1,0.0],[1018.2,0.0],[1017.9,0.0],[1017.6,0.0],[1017.5,0.0],[1017.4,0.0],[1017.2,0.0],[1017.0,0.0],[1017.0,0.0],[1017.0,0.0],[1017.0,0.0],[1017.1,0.0],[1017.1,0.0],[1016.9,0.0],[1016.7,0.0],[1016.5,0.0],[1016.5,0.0],[1016.3,0.0],[1016.0,0.0],[1015.9,0.0],[1015.8,0.0],[1015.8,0.0],[1015.9,0.0],[1016.0,0.0],[1016.0,0.0],[1016.1,0.0],[1015.7,0.0],[1015.3,0.0],[1015.0,0.0],[1014.8,0.0],[1014.4,0.0],[1014.1,0.0],[1013.9,0.0],[1013.9,0.0],[1013.9,0.0],[1014.1,0.0],[1014.3,0.0],[1014.0,0.0],[1013.5,0.0],[1013.3,0.0],[1012.9,0.0],[1012.6,0.0],[1012.3,0.0],[1012.1,0.0],[1012.0,0.0],[1012.0,0.0],[1012.1,0.0],[1012.4,0.0],[1012.4,0.0],[1012.6,1.0],[1012.5,0.0],[1012.1,0.0],[1011.7,0.0],[1011.4,1.0],[1011.1,0.0],[1010.9,0.0],[1010.7,0.0],[1010.7,0.0],[1010.7,0.0],[1010.9,0.0],[1011.1,0.0],[1010.9,0.0],[1010.8,0.0],[1010.4,0.0],[1009.8,0.0],[1009.8,0.0],[1010.0,0.0],[1010.2,0.0],[1010.0,0.0],[1010.0,0.0],[1010.2,0.0],[1010.2,0.0],[1010.3,0.0],[1010.3,0.0],[1010.3,0.0],[1010.3,0.0],[1010.1,1.0],[1009.9,1.0],[1009.7,0.0],[1009.5,1.0],[1009.3,0.0],[1009.3,1.0],[1009.3,0.0],[1009.5,0.0],[1009.5,0.0],[1009.2,0.0],[1008.9,0.0],[1008.8,0.0],[1008.5,0.0],[1008.2,0.0],[1007.9,0.0],[1008.0,0.0],[1008.4,0.0],[1008.8,0.0],[1009.0,0.0],[1008.9,0.0],[1009.1,0.0],[1009.1,0.0],[1008.9,0.0],[1008.7,0.0],[1008.3,0.0],[1008.0,0.0],[1007.9,0.0],[1007.7,0.0],[1007.7,0.0],[1007.9,0.0],[1008.1,0.0],[1008.7,0.0],[1008.8,0.0],[1008.7,0.0],[1008.7,0.0],[1008.2,0.0],[1007.9,0.0],[1007.7,0.0],[1007.7,0.0],[1007.9,0.0],[1008.2,0.0],[1008.5,0.0],[1008.8,0.0],[1008.9,0.0],[1008.9,0.0],[1009.3,0.0],[1009.3,0.0],[1009.2,0.0],[1009.2,0.0],[1009.1,0.0],[1009.0,0.0],[1008.9,0.0],[1008.9,0.0],[1009.2,0.0],[1009.5,0.0],[1009.9,0.0],[1010.4,0.0],[1010.6,0.0],[1010.6,0.0],[1010.4,0.0],[1010.2,0.0],[1010.0,0.0],[1010.2,0.0],[1010.6,0.0],[1010.9,0.0],[1011.1,0.0],[1011.4,0.0],[1011.9,0.0],[1012.2,0.0],[1012.4,0.0],[1012.6,0.0],[1012.5,0.0],[1012.3,0.0],[1012.1,0.0],[1012.1,0.0],[1011.9,0.0],[1011.7,0.0],[1011.9,0.0],[1012.2,0.0],[1012.6,0.0],[1013.2,0.0],[1013.2,0.0],[1013.3,0.0],[1013.0,0.0],[1012.5,0.0],[1012.8,0.0],[1012.6,0.0],[1012.3,0.0],[1012.2,0.0],[1012.1,0.0],[1011.9,0.0],[1012.2,0.0],[1012.4,0.0],[1012.5,0.0],[1012.3,0.0],[1011.9,0.0],[1011.6,0.0],[1011.6,0.0],[1011.4,0.0],[1011.3,0.0],[1011.1,0.0],[1011.2,0.0],[1011.1,0.0],[1011.3,0.0],[1011.4,0.0],[1011.5,0.0],[1011.6,0.0],[1011.4,0.0],[1011.2,0.0],[1010.7,0.0],[1010.5,0.0],[1010.7,0.0],[1010.8,0.0],[1011.1,0.0],[1011.1,0.0],[1011.0,0.0],[1010.8,0.0],[1010.7,0.0],[1010.4,0.0],[1010.0,0.0],[1009.8,0.0],[1009.4,0.0],[1009.1,0.0],[1008.8,0.0],[1008.7,0.0],[1008.6,0.0],[1008.5,0.0],[1008.8,0.0],[1008.8,0.0],[1008.7,0.0],[1008.6,0.0],[1008.4,0.0],[1008.1,0.0],[1007.8,0.0],[1007.6,0.0],[1007.6,0.0],[1007.7,0.0],[1008.2,0.0],[1008.7,0.0],[1008.8,0.0],[1008.9,0.0],[1009.1,0.0],[1009.1,0.0],[1009.1,0.0],[1009.1,0.0],[1008.9,0.0],[1008.6,0.0],[1008.9,0.0],[1010.0,0.0],[1010.7,0.0],[1010.8,0.0],[1011.2,0.0],[1011.5,0.0],[1011.5,0.0],[1011.6,0.0],[1011.9,0.0],[1012.0,0.0],[1012.1,0.0],[1012.0,0.0],[1012.2,0.0],[1012.3,0.0],[1012.3,0.0],[1012.5,0.0],[1012.5,0.0],[1012.4,0.0],[1012.6,0.0],[1012.9,0.0],[1013.0,0.0],[1012.8,0.0],[1012.5,0.0],[1012.3,0.0],[1012.2,0.0],[1012.1,0.0],[1012.2,0.0],[1012.5,0.0],[1012.9,0.0],[1013.1,0.0],[1013.1,0.0],[1012.9,0.0],[1012.8,0.0],[1012.6,0.0],[1012.5,0.0],[1012.7,0.0],[1012.9,0.0],[1012.9,0.0],[1013.0,0.0],[1013.2,0.0],[1013.2,0.0],[1013.2,0.0],[1013.4,0.0],[1013.4,0.0],[1013.4,0.0],[1013.0,0.0],[1012.5,0.0],[1012.2,0.0],[1012.1,0.0],[1012.1,0.0],[1012.4,0.0],[1012.4,0.0],[1012.7,0.0],[1013.0,0.0],[1013.0,0.0],[1012.8,0.0],[1012.6,0.0],[1012.2,0.0],[1012.1,0.0],[1011.9,0.0],[1012.0,0.0],[1012.2,0.0],[1012.5,0.0],[1012.7,0.0],[1013.0,0.0],[1013.0,0.0],[1013.0,0.0],[1013.0,0.0],[1013.0,0.0],[1012.8,0.0],[1012.4,0.0],[1012.5,0.0],[1012.4,0.0],[1012.5,0.0],[1012.6,0.0],[1012.6,0.0],[1012.9,0.0],[1013.2,0.0],[1013.3,0.0],[1013.5,0.0],[1013.7,0.0],[1013.5,0.0],[1013.4,0.0],[1013.4,0.0],[1013.5,0.0],[1013.5,0.0],[1013.6,0.0],[1014.0,0.0],[1014.2,0.0],[1014.4,0.0],[1014.6,0.0],[1014.8,0.0],[1014.6,0.0],[1014.5,0.0],[1014.5,0.0],[1014.5,0.0],[1014.3,0.0],[1014.3,0.0],[1014.6,0.0],[1014.7,0.0],[1015.0,0.0],[1015.3,0.0],[1015.2,0.0],[1014.9,0.0],[1014.7,0.0],[1014.4,0.0],[1014.1,0.0],[1013.9,0.0],[1014.0,0.0],[1014.3,0.0],[1014.7,0.0],[1015.0,0.0],[1015.0,0.0],[1015.0,0.0],[1014.8,0.0],[1014.6,0.0],[1014.6,0.0],[1014.6,0.0],[1014.6,0.0],[1014.5,0.0],[1014.4,0.0],[1014.2,0.0],[1014.3,0.0],[1014.6,0.0],[1014.9,0.0],[1015.1,0.0],[1015.0,0.0],[1014.9,0.0],[1014.8,0.0],[1014.4,0.0],[1014.3,0.0],[1014.4,0.0],[1014.8,0.0],[1015.2,0.0],[1015.5,0.0],[1015.8,0.0],[1016.0,0.0],[1016.1,0.0],[1016.2,0.0],[1016.5,0.0],[1016.5,0.0],[1016.4,0.0],[1016.2,0.0],[1015.9,0.0],[1015.8,0.0],[1015.8,0.0],[1015.8,0.0],[1015.7,0.0],[1016.0,0.0],[1016.5,0.0],[1016.4,0.0],[1016.1,0.0],[1016.0,0.0],[1016.0,0.0],[1015.9,0.0],[1015.6,0.0],[1015.5,0.0],[1015.2,0.0],[1015.0,0.0],[1014.8,0.0],[1014.9,0.0],[1015.0,0.0],[1015.0,0.0],[1015.1,0.0],[1015.0,0.0],[1014.8,0.0],[1014.4,0.0],[1014.0,0.0],[1013.7,0.0],[1013.2,0.0],[1013.1,0.0],[1013.1,0.0],[1013.5,0.0],[1013.4,0.0],[1013.0,0.0],[1012.5,0.0],[1012.0,0.0],[1011.7,0.0],[1011.3,0.0],[1011.0,0.0],[1010.9,0.0],[1010.7,0.0],[1010.8,0.0],[1010.9,0.0],[1010.8,0.0],[1010.7,0.0],[1010.8,0.0],[1010.8,0.0],[1010.5,0.0],[1010.2,0.0],[1009.9,0.0],[1009.5,0.0],[1009.0,0.0],[1008.8,0.0],[1008.6,0.0],[1008.5,0.0],[1008.7,0.0],[1008.8,0.0],[1008.7,0.0],[1008.4,0.0],[1008.2,0.0],[1008.0,0.0],[1007.8,0.0],[1007.6,0.0],[1007.6,0.0],[1007.7,0.0],[1007.8,0.0],[1008.0,0.0],[1008.3,0.0],[1008.6,0.0],[1008.9,0.0],[1008.8,0.0],[1008.6,0.0],[1008.4,0.0],[1008.4,0.0],[1008.2,0.0],[1008.3,0.0],[1008.4,0.0],[1008.6,0.0],[1008.7,0.0],[1009.1,0.0],[1009.3,0.0],[1009.3,0.0],[1009.1,0.0],[1008.9,0.0],[1008.7,0.0],[1008.7,0.0],[1008.7,0.0],[1008.9,0.0],[1009.0,0.0],[1009.3,0.0],[1009.7,0.0],[1009.9,0.0],[1009.9,0.0],[1009.8,0.0],[1009.6,0.0],[1009.5,0.0],[1009.4,0.0],[1009.5,0.0],[1009.3,0.0],[1009.2,0.0],[1009.1,0.0],[1009.0,0.0],[1009.2,0.0],[1009.5,0.0],[1009.6,0.0],[1009.4,0.0],[1009.0,0.0],[1008.8,0.0],[1008.9,0.0],[1008.6,0.0],[1008.6,0.0],[1008.4,0.0],[1008.4,0.0],[1008.5,0.0],[1008.7,0.0],[1008.7,0.0],[1008.6,0.0],[1008.6,0.0],[1008.4,0.0],[1008.2,0.0],[1007.8,0.0],[1007.2,0.0],[1006.8,0.0],[1006.6,0.0],[1006.2,0.0],[1006.1,0.0],[1006.5,0.0],[1007.0,0.0],[1007.3,0.0],[1007.0,0.0],[1006.9,0.0],[1006.7,0.0],[1006.5,0.0],[1006.4,0.0],[1006.3,0.0],[1006.3,0.0],[1006.3,0.0],[1006.4,0.0],[1006.6,0.0],[1007.0,0.0],[1007.1,0.0],[1007.2,0.0],[1007.3,0.0],[1007.3,0.0],[1007.2,0.0],[1007.1,0.0],[1007.0,0.0],[1007.0,0.0],[1006.9,0.0],[1006.9,0.0],[1007.1,0.0],[1007.8,0.0],[1008.0,0.0],[1007.8,0.0],[1007.9,0.0],[1007.7,0.0],[1007.7,0.0],[1007.8,0.0],[1007.8,0.0],[1008.0,0.0],[1008.2,0.0],[1008.5,0.0],[1008.6,0.0],[1008.6,0.0],[1008.9,0.0],[1009.2,0.0],[1009.2,0.0],[1009.0,0.0],[1008.6,0.0],[1008.5,0.0],[1008.4,0.0],[1008.2,0.0],[1008.2,0.0],[1008.2,0.0],[1008.1,0.0],[1008.4,0.0],[1008.7,0.0],[1008.6,0.0],[1008.6,0.0],[1008.7,0.0],[1008.6,0.0],[1008.5,0.0],[1008.5,0.0],[1008.6,0.0],[1008.7,0.0],[1008.6,0.0],[1008.8,0.0],[1008.9,0.0],[1009.4,0.0],[1009.7,0.0],[1009.7,0.0],[1009.4,0.0],[1008.2,0.0],[1008.5,0.0],[1008.3,0.0],[1008.0,0.0],[1008.3,0.0],[1009.1,0.0],[1009.3,0.0],[1008.9,0.0],[1008.6,0.0],[1008.5,0.0],[1008.6,0.0],[1008.7,0.0],[1008.9,0.0],[1009.1,0.0],[1009.4,0.0],[1009.4,0.0],[1009.6,0.0],[1009.6,0.0],[1009.7,0.0],[1010.0,0.0],[1010.2,0.0],[1010.1,0.0],[1009.7,0.0],[1009.2,0.0],[1009.1,0.0],[1008.9,0.0],[1009.3,0.0],[1009.6,0.0],[1009.1,0.0],[1009.7,0.0],[1010.2,0.0],[1010.4,0.0],[1010.4,0.0],[1010.0,0.0],[1009.9,0.0],[1009.7,0.0],[1009.5,0.0],[1009.6,0.0],[1009.8,0.0],[1010.0,0.0],[1010.2,0.0],[1010.3,0.0],[1010.5,0.0],[1010.6,0.0],[1010.4,0.0],[1009.9,0.0],[1009.4,0.0],[1009.0,0.0],[1008.4,0.0],[1008.0,0.0],[1007.8,0.0],[1007.7,0.0],[1007.9,0.0],[1007.9,0.0],[1008.2,0.0],[1008.2,0.0],[1008.0,0.0],[1008.5,0.0],[1008.1,0.0],[1007.4,0.0],[1007.2,0.0],[1007.2,0.0],[1007.4,0.0],[1007.7,0.0],[1008.4,0.0],[1009.7,0.0],[1009.8,0.0],[1009.6,0.0],[1009.5,0.0],[1009.1,0.0],[1008.9,0.0],[1008.9,0.0],[1008.8,0.0],[1008.7,0.0],[1008.7,0.0],[1008.7,0.0],[1008.7,0.0],[1009.0,0.0],[1009.1,0.0],[1009.0,0.0],[1008.9,0.0],[1008.8,0.0],[1008.7,0.0],[1008.6,0.0],[1008.5,0.0],[1008.7,0.0],[1009.2,0.0],[1009.6,0.0],[1009.9,0.0],[1010.1,0.0],[1010.3,0.0],[1010.4,0.0],[1010.5,0.0],[1010.3,0.0],[1010.1,0.0],[1010.1,0.0],[1010.0,0.0],[1009.8,0.0],[1010.0,0.0],[1010.4,0.0],[1010.5,0.0],[1011.0,0.0],[1011.1,0.0],[1011.0,0.0],[1011.0,0.0],[1011.0,0.0],[1010.7,0.0],[1010.3,0.0],[1010.2,0.0],[1010.3,0.0],[1010.5,0.0],[1010.8,0.0],[1010.8,0.0],[1011.1,0.0],[1011.0,0.0],[1010.9,0.0],[1010.8,0.0],[1010.4,0.0],[1010.0,0.0],[1009.6,0.0],[1009.1,0.0],[1008.8,0.0],[1008.7,0.0],[1008.7,0.0],[1008.9,0.0],[1008.9,0.0],[1008.7,0.0],[1008.4,0.0],[1008.2,0.0],[1007.8,0.0],[1007.6,0.0],[1007.2,0.0],[1007.1,0.0],[1007.2,0.0],[1007.5,0.0],[1008.0,0.0],[1008.3,0.0],[1008.3,0.0],[1008.1,0.0],[1008.1,0.0],[1007.9,0.0],[1007.6,0.0],[1007.2,0.0],[1006.8,0.0],[1006.5,0.0],[1006.2,0.0],[1006.2,0.0],[1006.5,0.0],[1006.9,0.0],[1007.4,0.0],[1007.8,0.0],[1008.6,0.0],[1009.2,0.0],[1009.8,0.0],[1010.3,0.0],[1010.8,0.0],[1011.5,0.0],[1011.9,0.0],[1012.5,0.0],[1013.0,0.0],[1013.2,0.0],[1013.4,0.0],[1013.6,0.0],[1013.7,0.0],[1013.9,0.0],[1013.6,0.0],[1013.5,0.0],[1013.4,0.0],[1013.2,0.0],[1012.9,0.0],[1012.7,0.0],[1012.5,0.0],[1012.8,0.0],[1013.1,0.0],[1013.1,0.0],[1012.9,0.0],[1013.0,0.0],[1012.9,0.0],[1012.7,0.0],[1012.5,0.0],[1012.5,0.0],[1012.4,0.0],[1012.4,0.0],[1012.6,0.0],[1012.8,0.0],[1013.0,0.0],[1013.1,0.0],[1013.2,0.0],[1013.2,0.0],[1013.0,0.0],[1012.8,0.0],[1012.6,0.0],[1012.6,0.0],[1012.4,0.0],[1012.4,0.0],[1012.7,0.0],[1012.9,0.0],[1013.3,0.0],[1013.6,0.0],[1013.8,0.0],[1013.9,0.0],[1013.6,0.0],[1013.4,0.0],[1013.1,0.0],[1012.8,0.0],[1012.9,0.0],[1013.0,0.0],[1013.2,0.0],[1013.2,0.0],[1013.3,0.0],[1013.4,0.0],[1013.2,0.0],[1013.0,0.0],[1012.7,0.0],[1012.3,0.0],[1012.1,0.0],[1012.0,0.0],[1011.8,0.0],[1011.7,0.0],[1011.7,0.0],[1011.8,0.0],[1011.8,0.0],[1011.8,0.0],[1011.4,0.0],[1011.0,0.0],[1010.7,0.0],[1010.5,0.0],[1010.4,0.0],[1010.5,0.0],[1010.5,0.0],[1010.8,0.0],[1011.0,0.0],[1011.1,0.0],[1011.0,0.0],[1010.9,0.0],[1010.9,0.0],[1010.8,0.0],[1010.6,0.0],[1010.2,0.0],[1010.1,0.0],[1010.0,0.0],[1009.7,0.0],[1009.5,0.0],[1009.7,0.0],[1010.2,0.0],[1010.5,0.0],[1010.7,0.0],[1010.6,0.0],[1010.2,0.0],[1009.7,0.0],[1009.3,0.0],[1009.3,0.0],[1009.3,0.0],[1009.3,0.0],[1009.4,0.0],[1009.6,0.0],[1009.7,0.0],[1009.7,0.0],[1009.7,0.0],[1009.7,0.0],[1009.6,0.0],[1009.3,0.0],[1009.0,0.0],[1008.7,0.0],[1008.4,0.0],[1008.2,0.0],[1008.3,0.0],[1008.5,0.0],[1008.5,0.0],[1008.6,0.0],[1008.5,0.0],[1008.6,0.0],[1008.3,0.0],[1008.0,0.0],[1007.7,0.0],[1007.3,0.0],[1007.5,0.0],[1007.6,0.0],[1007.8,0.0],[1007.9,0.0],[1007.8,0.0],[1007.5,0.0],[1007.4,0.0],[1007.3,0.0],[1007.2,0.0],[1006.8,0.0],[1006.6,0.0],[1006.6,0.0],[1006.5,0.0],[1006.6,0.0],[1006.9,0.0],[1007.1,0.0],[1007.2,0.0],[1007.4,0.0],[1007.5,0.0],[1007.7,0.0],[1007.5,0.0],[1007.4,0.0],[1007.4,0.0],[1007.4,0.0],[1007.3,0.0],[1007.5,0.0],[1007.9,0.0],[1008.1,0.0],[1008.4,0.0],[1008.6,0.0],[1008.9,0.0],[1009.3,0.0],[1009.5,0.0],[1009.8,0.0],[1010.2,0.0],[1010.4,0.0],[1010.3,0.0],[1010.1,0.0],[1010.0,0.0],[1009.7,0.0],[1009.9,0.0],[1010.1,0.0],[1010.1,0.0],[1009.8,0.0],[1009.7,0.0],[1009.3,0.0],[1009.2,0.0],[1009.2,0.0],[1009.1,0.0],[1009.3,0.0],[1009.7,0.0],[1010.0,0.0],[1010.2,0.0],[1010.2,0.0],[1010.1,0.0],[1010.2,0.0],[1010.1,0.0],[1009.9,0.0],[1009.8,0.0],[1009.8,0.0],[1009.8,0.0],[1009.8,0.0],[1009.7,0.0],[1009.8,0.0],[1010.1,0.0],[1010.2,0.0],[1010.0,0.0],[1009.9,0.0],[1009.6,0.0],[1009.6,0.0],[1009.3,0.0],[1009.0,0.0],[1008.8,0.0],[1008.8,0.0],[1008.6,0.0],[1008.6,0.0],[1008.6,0.0],[1008.6,0.0],[1008.4,0.0],[1008.3,0.0],[1008.0,0.0],[1007.7,0.0],[1007.3,0.0],[1006.9,0.0],[1006.6,0.0],[1006.4,0.0],[1006.2,0.0],[1006.4,0.0],[1006.7,0.0],[1006.8,0.0],[1006.8,0.0],[1006.7,0.0],[1006.6,0.0],[1006.4,0.0],[1006.2,0.0],[1005.9,0.0],[1005.8,0.0],[1005.8,0.0],[1005.9,0.0],[1005.9,0.0],[1006.0,0.0],[1006.2,0.0],[1006.2,0.0],[1005.9,0.0],[1005.7,0.0],[1005.5,0.0],[1005.1,0.0],[1004.8,0.0],[1004.6,0.0],[1004.6,0.0],[1004.7,0.0],[1005.0,0.0],[1005.3,0.0],[1005.5,0.0],[1005.4,0.0],[1005.3,0.0],[1005.2,0.0],[1005.1,0.0],[1005.0,0.0],[1005.1,0.0],[1005.3,0.0],[1005.5,0.0],[1005.6,0.0],[1005.6,0.0],[1005.6,0.0],[1005.6,0.0],[1005.9,0.0],[1005.9,0.0],[1005.6,0.0],[1005.3,0.0],[1004.9,0.0],[1004.6,0.0],[1004.6,0.0],[1004.5,0.0],[1004.7,0.0],[1004.9,0.0],[1005.0,0.0],[1005.2,0.0],[1004.9,0.0],[1004.6,0.0],[1004.4,0.0],[1004.1,0.0],[1003.9,0.0],[1004.0,0.0],[1004.5,0.0],[1005.0,0.0],[1005.2,0.0],[1005.4,0.0],[1005.2,0.0],[1005.2,0.0],[1005.1,0.0],[1005.0,0.0],[1005.1,0.0],[1005.0,0.0],[1004.9,0.0],[1005.0,0.0],[1005.1,0.0],[1005.1,0.0],[1005.5,0.0],[1005.9,0.0],[1006.1,0.0],[1005.8,0.0],[1005.6,0.0],[1005.6,0.0],[1005.8,0.0],[1005.7,0.0],[1005.6,0.0],[1005.4,0.0],[1005.3,0.0],[1005.5,0.0],[1005.8,0.0],[1006.1,0.0],[1006.2,0.0],[1006.3,0.0],[1006.6,0.0],[1006.6,0.0],[1006.5,0.0],[1006.3,0.0],[1006.4,0.0],[1006.5,0.0],[1006.6,0.0],[1006.5,0.0],[1006.6,0.0],[1006.8,0.0],[1007.2,0.0],[1007.2,0.0],[1007.0,0.0],[1007.0,0.0],[1006.5,0.0],[1006.2,0.0],[1005.9,0.0],[1005.7,0.0],[1005.9,0.0],[1006.0,0.0],[1006.3,0.0],[1006.5,0.0],[1006.5,0.0],[1006.4,0.0],[1006.4,0.0],[1006.2,0.0],[1005.9,0.0],[1005.7,0.0],[1005.3,0.0],[1005.1,0.0],[1005.0,0.0],[1005.0,0.0],[1005.4,0.0],[1005.8,0.0],[1006.3,0.0],[1006.5,0.0],[1006.6,0.0],[1006.4,0.0],[1006.4,0.0],[1006.4,0.0],[1006.4,0.0],[1006.3,0.0],[1006.7,0.0],[1006.9,0.0],[1007.0,0.0],[1007.3,0.0],[1007.7,0.0],[1007.8,0.0],[1007.8,0.0],[1007.8,0.0],[1007.7,0.0],[1007.5,0.0],[1007.2,0.0],[1006.8,0.0],[1006.4,0.0],[1006.2,0.0],[1006.6,0.0],[1007.0,0.0],[1007.6,0.0],[1007.9,0.0],[1008.1,0.0],[1007.9,0.0],[1008.0,0.0],[1007.9,0.0],[1007.9,0.0],[1007.6,0.0],[1007.8,0.0],[1008.1,0.0],[1008.5,0.0],[1008.6,0.0],[1008.8,0.0],[1008.9,0.0],[1009.0,0.0],[1009.1,0.0],[1009.2,0.0],[1008.9,0.0],[1008.7,0.0],[1008.4,0.0],[1008.1,0.0],[1007.7,0.0],[1007.8,0.0],[1008.2,0.0],[1009.0,0.0],[1009.3,0.0],[1009.2,0.0],[1008.9,0.0],[1008.5,0.0],[1008.3,0.0],[1008.1,0.0],[1008.0,0.0],[1008.0,0.0],[1008.2,0.0],[1008.4,0.0],[1008.7,0.0],[1008.9,0.0],[1009.1,0.0],[1009.1,0.0],[1009.0,0.0],[1008.9,0.0],[1008.7,0.0],[1008.5,0.0],[1008.3,0.0],[1008.3,0.0],[1008.7,0.0],[1008.8,0.0],[1008.9,0.0],[1009.2,0.0],[1009.5,0.0],[1009.7,0.0],[1009.7,0.0],[1009.6,0.0],[1009.3,0.0],[1009.1,0.0],[1008.8,0.0],[1008.8,0.0],[1009.2,0.0],[1009.4,0.0],[1009.5,0.0],[1009.5,0.0],[1009.6,0.0],[1009.8,0.0],[1009.5,0.0],[1009.4,0.0],[1009.2,0.0],[1009.0,0.0],[1009.0,0.0],[1009.0,0.0],[1009.2,0.0],[1009.6,0.0],[1009.7,0.0],[1009.7,0.0],[1009.7,0.0],[1009.8,0.0],[1009.7,0.0],[1009.7,0.0],[1009.6,0.0],[1009.6,0.0],[1009.4,0.0],[1009.2,0.0],[1009.3,0.0],[1009.5,0.0],[1009.6,0.0],[1009.4,0.0],[1009.4,0.0],[1009.6,0.0],[1009.4,0.0],[1009.3,0.0],[1009.3,0.0],[1008.9,0.0],[1008.5,0.0],[1008.6,0.0],[1008.7,0.0],[1008.9,0.0],[1009.2,0.0],[1009.7,0.0],[1009.9,0.0],[1010.0,0.0],[1010.1,0.0],[1010.0,0.0],[1009.8,0.0],[1009.9,0.0],[1010.0,0.0],[1010.2,0.0],[1010.6,0.0],[1011.0,0.0],[1011.3,0.0],[1011.2,0.0],[1011.4,0.0],[1011.6,0.0],[1011.5,0.0],[1011.4,0.0],[1011.4,0.0],[1011.2,0.0],[1011.1,0.0],[1011.1,0.0],[1010.9,0.0],[1011.0,0.0],[1011.2,0.0],[1011.5,0.0],[1011.4,0.0],[1011.6,0.0],[1011.6,0.0],[1011.5,0.0],[1011.6,0.0],[1011.6,0.0],[1011.6,0.0],[1011.7,0.0],[1012.0,0.0],[1012.2,0.0],[1012.3,0.0],[1012.4,0.0],[1012.7,0.0],[1012.7,0.0],[1012.4,0.0],[1012.1,0.0],[1011.7,0.0],[1011.4,0.0],[1011.2,0.0],[1011.2,0.0],[1011.1,0.0],[1011.2,0.0],[1011.5,0.0],[1011.8,0.0],[1012.0,0.0],[1011.9,0.0],[1011.5,0.0],[1011.3,0.0],[1011.2,0.0],[1011.2,0.0],[1011.2,0.0],[1011.2,0.0],[1011.2,0.0],[1011.4,0.0],[1011.6,0.0],[1011.6,0.0],[1011.7,0.0],[1011.6,0.0],[1011.4,0.0],[1011.3,0.0],[1011.0,0.0],[1010.7,0.0],[1010.3,0.0],[1010.1,0.0],[1010.0,0.0],[1010.0,0.0],[1010.1,0.0],[1010.3,0.0],[1010.3,0.0],[1010.2,0.0],[1010.1,0.0],[1010.2,0.0],[1010.3,0.0],[1010.0,0.0],[1009.8,0.0],[1009.9,0.0],[1009.9,0.0],[1010.2,0.0],[1010.7,0.0],[1011.2,0.0],[1011.5,0.0],[1011.7,0.0],[1011.7,0.0],[1011.6,0.0],[1011.3,0.0],[1011.1,0.0],[1010.7,0.0],[1010.8,0.0],[1010.9,0.0],[1011.1,0.0],[1011.5,0.0],[1011.9,0.0],[1012.0,0.0],[1012.1,0.0],[1012.1,0.0],[1012.2,0.0],[1012.1,0.0],[1011.9,0.0],[1011.9,0.0],[1012.2,0.0],[1012.7,0.0],[1012.9,0.0],[1013.1,0.0],[1013.1,0.0],[1013.3,0.0],[1013.3,0.0],[1013.2,0.0],[1013.0,0.0],[1012.8,0.0],[1012.5,0.0],[1012.1,0.0],[1012.0,0.0],[1012.1,0.0],[1012.1,0.0],[1012.3,0.0],[1012.5,0.0],[1012.7,0.0],[1012.8,0.0],[1012.8,0.0],[1012.2,0.0],[1011.9,0.0],[1011.6,0.0],[1011.4,0.0],[1011.6,0.0],[1011.7,0.0],[1011.6,0.0],[1011.7,0.0],[1011.8,0.0],[1011.7,0.0],[1011.4,0.0],[1011.1,0.0],[1010.9,0.0],[1010.6,0.0],[1010.1,0.0],[1010.1,0.0],[1010.5,0.0],[1010.1,0.0],[1009.9,0.0],[1009.9,0.0],[1010.0,0.0],[1009.8,0.0],[1009.5,0.0],[1009.4,0.0],[1009.0,0.0],[1008.7,0.0],[1008.7,0.0],[1008.4,0.0],[1008.3,0.0],[1008.3,0.0],[1008.3,0.0],[1008.1,0.0],[1007.9,0.0],[1008.0,0.0],[1008.0,0.0],[1007.8,0.0],[1007.6,0.0],[1007.6,0.0],[1007.3,0.0],[1007.1,0.0],[1007.1,0.0],[1007.2,0.0],[1007.2,0.0],[1007.5,0.0],[1007.9,0.0],[1008.0,0.0],[1007.5,0.0],[1007.1,0.0],[1006.8,0.0],[1006.5,0.0],[1006.1,0.0],[1005.8,0.0],[1005.7,0.0],[1005.6,0.0],[1005.7,0.0],[1005.7,0.0],[1006.0,0.0],[1005.7,0.0],[1005.5,0.0],[1005.9,0.0],[1005.9,0.0],[1007.2,0.0],[1006.3,0.0],[1006.3,0.0],[1006.8,0.0],[1007.6,0.0],[1008.3,0.0],[1008.6,0.0],[1008.9,0.0],[1009.4,0.0],[1009.4,0.0],[1009.7,0.0],[1009.7,0.0],[1009.6,0.0],[1009.6,0.0],[1009.5,0.0],[1010.0,0.0],[1010.5,0.0],[1010.9,0.0],[1011.2,0.0],[1011.5,0.0],[1011.7,0.0],[1011.8,0.0],[1011.5,0.0],[1011.2,0.0],[1010.7,0.0],[1010.4,0.0],[1010.1,0.0],[1010.0,0.0],[1010.0,0.0],[1010.1,0.0],[1010.2,0.0],[1010.5,0.0],[1010.6,0.0],[1010.5,0.0],[1010.5,0.0],[1010.5,0.0],[1010.5,0.0],[1010.4,0.0],[1010.4,0.0],[1010.3,0.0],[1010.2,0.0],[1010.2,0.0],[1010.5,0.0],[1010.8,0.0],[1011.0,0.0],[1011.0,0.0],[1011.0,0.0],[1010.7,0.0],[1010.4,0.0],[1009.8,0.0],[1009.5,0.0],[1009.5,0.0],[1009.5,0.0],[1009.6,0.0],[1010.0,0.0],[1010.5,0.0],[1010.7,0.0],[1010.9,0.0],[1010.9,0.0],[1010.8,0.0],[1010.4,0.0],[1010.1,0.0],[1009.9,0.0],[1009.8,0.0],[1009.8,0.0],[1010.1,0.0],[1010.4,0.0],[1010.5,0.0],[1010.8,0.0],[1010.8,0.0],[1010.7,0.0],[1010.6,0.0],[1010.4,0.0],[1009.5,0.0],[1009.2,0.0],[1009.4,0.0],[1009.6,0.0],[1009.9,0.0],[1010.0,0.0],[1010.0,0.0],[1009.9,0.0],[1009.7,0.0],[1009.4,0.0],[1009.3,0.0],[1009.3,0.0],[1009.3,0.0],[1009.3,0.0],[1009.5,0.0],[1009.9,0.0],[1010.0,0.0],[1010.5,0.0],[1010.5,0.0],[1010.3,0.0],[1010.0,0.0],[1009.6,0.0],[1009.6,0.0],[1009.9,0.0],[1010.3,0.0],[1010.7,0.0],[1010.7,0.0],[1010.9,0.0],[1011.2,0.0],[1011.5,0.0],[1011.4,0.0],[1011.1,0.0],[1011.0,0.0],[1011.1,0.0],[1011.5,0.0],[1011.8,0.0],[1012.0,0.0],[1012.3,0.0],[1012.7,0.0],[1013.0,0.0],[1013.0,0.0],[1012.9,0.0],[1012.7,0.0],[1012.5,0.0],[1012.5,0.0],[1012.4,0.0],[1012.2,0.0],[1012.6,0.0],[1013.2,0.0],[1013.7,0.0],[1013.8,0.0],[1014.1,0.0],[1014.0,0.0],[1013.9,0.0],[1013.9,0.0],[1013.8,0.0],[1013.7,0.0],[1013.9,0.0],[1014.0,0.0],[1014.2,0.0],[1014.4,0.0],[1014.5,0.0],[1014.7,0.0],[1014.5,0.0],[1014.2,0.0],[1014.1,0.0],[1014.1,0.0],[1014.3,0.0],[1014.5,0.0],[1014.6,0.0],[1015.0,0.0],[1015.6,0.0],[1016.4,0.0],[1016.3,0.0],[1016.0,0.0],[1016.1,0.0],[1016.1,0.0],[1016.2,0.0],[1016.4,0.0],[1016.9,0.0],[1017.1,0.0],[1017.2,0.0],[1017.3,0.0],[1017.2,0.0],[1017.3,0.0],[1017.2,0.0],[1017.2,0.0],[1017.4,0.0],[1017.4,0.0],[1017.4,0.0],[1017.4,0.0],[1017.5,0.0],[1017.8,0.0],[1018.3,0.0],[1018.2,0.0],[1018.1,0.0],[1018.1,0.0],[1018.1,0.0],[1017.8,0.0],[1017.7,0.0],[1017.6,0.0],[1017.5,0.0],[1017.7,0.0],[1017.9,0.0],[1018.2,0.0],[1018.2,0.0],[1018.4,0.0],[1018.3,0.0],[1018.1,0.0],[1017.8,0.0],[1017.4,0.0],[1017.0,0.0],[1016.8,0.0],[1016.6,0.0],[1016.6,0.0],[1016.7,0.0],[1017.0,0.0],[1017.0,0.0],[1017.0,0.0],[1016.8,0.0],[1016.6,0.0],[1016.5,0.0],[1016.3,0.0],[1015.9,0.0],[1015.6,0.0],[1015.7,0.0],[1016.0,0.0],[1016.1,0.0],[1016.3,0.0],[1016.4,0.0],[1016.2,0.0],[1016.0,0.0],[1015.5,0.0],[1015.1,0.0],[1014.6,0.0],[1014.5,0.0],[1014.4,0.0],[1014.0,0.0],[1013.8,0.0],[1013.9,0.0],[1014.2,0.0],[1014.5,0.0],[1014.6,0.0],[1014.8,0.0],[1014.6,0.0],[1014.4,0.0],[1014.2,0.0],[1013.9,0.0],[1013.9,0.0],[1014.2,0.0],[1014.6,0.0],[1014.7,0.0],[1015.2,0.0],[1015.6,0.0],[1015.6,0.0],[1015.6,0.0],[1015.4,0.0],[1015.2,0.0],[1014.7,0.0],[1014.3,0.0],[1014.1,0.0],[1014.0,0.0],[1013.9,0.0],[1014.3,0.0],[1014.7,1.0],[1014.8,0.0],[1014.8,0.0],[1014.6,0.0],[1014.2,0.0],[1014.0,0.0],[1014.0,0.0],[1013.9,0.0],[1013.8,0.0],[1013.9,0.0],[1014.0,0.0],[1014.1,0.0],[1014.1,0.0],[1014.2,0.0],[1014.0,0.0],[1013.8,0.0],[1012.4,0.0],[1012.0,0.0],[1012.0,0.0],[1011.8,0.0],[1011.8,0.0],[1012.1,0.0],[1012.3,0.0],[1012.2,0.0],[1012.0,0.0],[1012.0,0.0],[1011.8,0.0],[1011.8,0.0],[1011.7,0.0],[1011.5,0.0],[1011.3,0.0],[1011.6,0.0],[1012.0,0.0],[1012.0,0.0],[1011.8,0.0],[1012.1,0.0],[1012.2,0.0],[1012.2,0.0],[1012.1,0.0],[1012.0,0.0],[1011.6,0.0],[1011.4,0.0],[1011.6,0.0],[1011.9,0.0],[1011.9,0.0],[1011.8,0.0],[1011.5,0.0],[1011.1,0.0],[1010.9,0.0],[1010.7,0.0],[1010.4,0.0],[1010.4,0.0],[1010.6,0.0],[1010.9,0.0],[1011.1,0.0],[1011.0,0.0],[1011.0,0.0],[1010.9,0.0],[1010.6,0.0],[1010.4,0.0],[1010.0,0.0],[1009.5,0.0],[1009.2,0.0],[1009.0,0.0],[1009.0,0.0],[1009.1,0.0],[1009.4,0.0],[1009.6,0.0],[1009.4,0.0],[1009.3,0.0],[1009.1,0.0],[1008.9,0.0],[1008.8,0.0],[1008.7,0.0],[1008.2,0.0],[1008.1,0.0],[1008.2,0.0],[1008.3,0.0],[1008.2,0.0],[1008.1,0.0],[1008.0,0.0],[1006.4,0.0],[1005.8,0.0],[1005.6,0.0],[1005.3,0.0],[1004.9,0.0],[1005.0,0.0],[1005.3,0.0],[1005.4,0.0],[1005.2,0.0],[1005.2,0.0],[1005.0,0.0],[1004.6,0.0],[1004.4,0.0],[1004.3,0.0],[1003.8,0.0],[1003.6,0.0],[1003.6,0.0],[1003.6,0.0],[1003.7,0.0],[1003.7,0.0],[1003.8,0.0],[1003.8,0.0],[1003.5,0.0],[1003.0,0.0],[1003.0,0.0],[1002.8,0.0],[1002.6,0.0],[1002.9,0.0],[1004.2,0.0],[1004.7,0.0],[1005.2,0.0],[1006.0,0.0],[1006.4,0.0],[1007.5,0.0],[1007.6,0.0],[1008.2,0.0],[1008.5,0.0],[1008.6,0.0],[1008.1,0.0],[1008.4,0.0],[1009.1,0.0],[1009.7,0.0],[1010.4,0.0],[1011.4,0.0],[1012.5,0.0],[1012.9,0.0],[1013.1,0.0],[1013.1,0.0],[1012.9,0.0],[1012.9,0.0],[1013.2,0.0],[1013.5,0.0],[1013.7,0.0],[1014.3,0.0],[1015.0,0.0],[1015.6,0.0],[1015.9,0.0],[1015.9,0.0],[1015.7,0.0],[1015.5,0.0],[1015.4,0.0],[1015.3,0.0],[1015.5,0.0],[1015.5,0.0],[1016.1,0.0],[1016.6,0.0],[1017.0,0.0],[1017.2,0.0],[1017.6,0.0],[1017.6,0.0],[1017.4,0.0],[1017.1,0.0],[1017.0,0.0],[1016.6,0.0],[1016.4,0.0],[1016.3,0.0],[1016.0,0.0],[1015.9,0.0],[1016.4,0.0],[1016.6,0.0],[1016.6,0.0],[1016.9,0.0],[1017.1,0.0],[1016.5,0.0],[1016.2,0.0],[1016.0,0.0],[1016.1,0.0],[1016.3,0.0],[1016.4,0.0],[1016.4,0.0],[1016.1,0.0],[1015.7,0.0],[1015.5,0.0],[1015.3,0.0],[1014.9,0.0],[1014.7,0.0],[1014.5,0.0],[1014.6,0.0],[1014.8,0.0],[1015.1,0.0],[1015.4,0.0],[1014.7,0.0],[1014.6,0.0],[1014.0,0.0],[1014.0,0.0],[1014.0,0.0],[1014.0,0.0],[1014.1,0.0],[1014.1,0.0],[1014.2,0.0],[1014.6,0.0],[1014.9,0.0],[1014.8,0.0],[1014.7,0.0],[1014.6,0.0],[1014.3,0.0],[1014.2,0.0],[1014.2,0.0],[1014.3,0.0],[1014.4,0.0],[1014.8,0.0],[1015.6,0.0],[1015.9,0.0],[1015.7,0.0],[1015.6,0.0],[1015.3,0.0],[1014.9,0.0],[1014.7,0.0],[1014.7,0.0],[1015.0,0.0],[1014.9,0.0],[1015.1,0.0],[1015.4,0.0],[1015.4,0.0],[1015.6,0.0],[1016.0,0.0],[1016.1,0.0],[1016.1,0.0],[1016.1,0.0],[1016.2,0.0],[1016.0,0.0],[1016.1,0.0],[1016.3,0.0],[1016.4,0.0],[1016.5,0.0],[1016.9,0.0],[1017.2,0.0],[1017.4,0.0],[1017.6,0.0],[1017.8,0.0],[1017.9,0.0],[1017.9,0.0],[1017.7,0.0],[1017.8,0.0],[1017.8,0.0],[1017.9,0.0],[1018.1,0.0],[1018.4,0.0],[1018.8,0.0],[1018.9,0.0],[1019.0,0.0],[1019.0,0.0],[1018.8,0.0],[1018.5,0.0],[1018.4,0.0],[1018.5,0.0],[1018.4,0.0],[1018.4,0.0],[1018.6,0.0],[1018.7,0.0],[1018.3,0.0],[1018.2,0.0],[1018.0,0.0],[1017.8,0.0],[1017.6,0.0],[1017.5,0.0],[1017.1,0.0],[1016.8,0.0],[1016.7,0.0],[1016.8,0.0],[1016.6,0.0],[1016.6,0.0],[1016.6,0.0],[1016.2,0.0],[1015.6,0.0],[1015.2,0.0],[1014.7,0.0],[1014.4,0.0],[1014.2,0.0],[1014.1,0.0],[1014.2,0.0],[1014.1,0.0],[1014.2,0.0],[1014.5,0.0],[1014.4,0.0],[1014.1,0.0],[1013.6,0.0],[1013.5,0.0],[1013.5,0.0],[1013.3,0.0],[1013.2,0.0],[1012.7,0.0],[1012.7,0.0],[1012.8,0.0],[1012.7,0.0],[1012.8,0.0],[1012.8,0.0],[1012.6,0.0],[1012.5,0.0],[1012.3,0.0],[1012.0,0.0],[1011.7,0.0],[1011.5,0.0],[1011.7,0.0],[1011.7,0.0],[1011.8,0.0],[1012.3,0.0],[1012.6,0.0],[1012.5,0.0],[1012.4,0.0],[1012.3,0.0],[1012.2,0.0],[1012.1,0.0],[1012.0,0.0],[1011.9,0.0],[1011.9,0.0],[1012.0,0.0],[1012.1,0.0],[1012.2,0.0],[1012.3,0.0],[1012.5,0.0],[1012.5,0.0],[1012.3,0.0],[1012.0,0.0],[1011.9,0.0],[1011.6,0.0],[1011.4,0.0],[1011.2,0.0],[1011.1,0.0],[1011.1,0.0],[1011.4,0.0],[1011.7,0.0],[1011.7,0.0],[1011.1,0.0],[1010.9,0.0],[1010.8,0.0],[1010.3,0.0],[1010.1,0.0],[1010.1,0.0],[1010.0,0.0],[1010.4,0.0],[1010.4,0.0],[1010.5,0.0],[1010.3,0.0],[1010.4,0.0],[1010.2,0.0],[1009.8,0.0],[1009.6,0.0],[1009.3,0.0],[1009.0,0.0],[1008.9,0.0],[1008.9,0.0],[1008.8,0.0],[1009.2,0.0],[1009.7,0.0],[1010.0,0.0],[1010.0,0.0],[1010.0,0.0],[1010.2,0.0],[1010.4,0.0],[1010.5,0.0],[1010.5,0.0],[1010.7,0.0],[1010.9,0.0],[1011.4,0.0],[1012.2,0.0],[1012.8,0.0],[1013.3,0.0],[1013.8,0.0],[1014.0,0.0],[1013.8,0.0],[1013.9,0.0],[1014.0,0.0],[1014.1,0.0],[1014.0,0.0],[1014.3,0.0],[1014.5,0.0],[1014.7,0.0],[1015.1,0.0],[1015.4,0.0],[1015.4,0.0],[1015.2,0.0],[1015.1,0.0],[1015.1,0.0],[1015.0,0.0],[1014.8,0.0],[1014.6,0.0],[1014.7,0.0],[1014.6,0.0],[1015.0,0.0],[1015.2,0.0],[1015.3,0.0],[1015.5,0.0],[1015.4,0.0],[1015.1,0.0],[1014.9,0.0],[1014.6,0.0],[1014.2,0.0],[1013.9,0.0],[1014.0,0.0],[1014.1,0.0],[1014.1,0.0],[1014.4,0.0],[1014.8,0.0],[1014.8,0.0],[1014.9,0.0],[1014.7,0.0],[1014.5,0.0],[1014.2,0.0],[1014.0,0.0],[1013.9,0.0],[1014.0,0.0],[1014.2,0.0],[1014.4,0.0],[1014.7,0.0],[1014.9,0.0],[1015.0,0.0],[1014.8,0.0],[1014.5,0.0],[1014.4,0.0],[1014.0,0.0],[1013.7,0.0],[1013.6,0.0],[1013.8,0.0],[1013.9,0.0],[1014.2,0.0],[1014.8,0.0],[1015.5,0.0],[1015.8,0.0],[1016.1,0.0],[1016.4,0.0],[1016.5,0.0],[1016.7,0.0],[1016.7,0.0],[1016.9,0.0],[1016.9,0.0],[1017.2,0.0],[1017.6,0.0],[1017.8,0.0],[1018.2,0.0],[1018.6,0.0],[1018.8,0.0],[1018.4,0.0],[1018.2,0.0],[1017.9,0.0],[1017.8,0.0],[1017.7,0.0],[1017.6,0.0],[1017.7,0.0],[1017.7,0.0],[1018.0,0.0],[1018.2,0.0],[1018.0,0.0],[1017.9,0.0],[1017.6,0.0],[1017.2,0.0],[1016.7,0.0],[1016.7,0.0],[1016.5,0.0],[1016.4,0.0],[1016.2,0.0],[1016.3,0.0],[1016.3,0.0],[1016.5,0.0],[1016.6,0.0],[1016.2,0.0],[1015.7,0.0],[1015.4,0.0],[1014.9,0.0],[1014.5,0.0],[1014.2,0.0],[1014.2,0.0],[1014.4,0.0],[1014.3,0.0],[1014.3,0.0],[1014.3,0.0],[1014.1,0.0],[1013.7,0.0],[1013.2,0.0],[1012.6,0.0],[1012.0,0.0],[1011.6,0.0],[1011.2,0.0],[1010.7,0.0],[1010.8,0.0],[1010.9,0.0],[1010.8,0.0],[1010.7,0.0],[1010.5,0.0],[1010.3,0.0],[1009.8,0.0],[1009.4,0.0],[1008.8,0.0],[1008.5,0.0],[1008.3,0.0],[1008.3,0.0],[1008.4,0.0],[1008.7,0.0],[1009.0,0.0],[1009.0,0.0],[1008.9,0.0],[1008.8,0.0],[1008.4,0.0],[1008.0,0.0],[1007.6,0.0],[1007.5,0.0],[1007.0,0.0],[1007.0,0.0],[1007.0,0.0],[1007.4,0.0],[1007.7,0.0],[1007.9,0.0],[1007.9,0.0],[1008.0,0.0],[1008.1,0.0],[1007.8,0.0],[1007.6,0.0],[1007.3,0.0],[1007.2,0.0],[1007.0,0.0],[1007.0,0.0],[1007.2,0.0],[1007.7,0.0],[1008.1,0.0],[1008.4,0.0],[1008.7,0.0],[1009.0,0.0],[1009.2,0.0],[1009.1,0.0],[1009.2,0.0],[1009.3,0.0],[1009.7,0.0],[1010.1,0.0],[1010.3,0.0],[1010.7,0.0],[1011.1,0.0],[1011.5,0.0],[1011.9,0.0],[1011.8,0.0],[1011.2,0.0],[1010.4,0.0],[1010.4,0.0],[1010.5,0.0],[1010.1,0.0],[1009.9,0.0],[1010.4,0.0],[1011.1,0.0],[1011.4,0.0],[1011.4,0.0],[1011.3,0.0],[1011.0,0.0],[1010.5,0.0],[1010.1,0.0],[1009.6,0.0],[1008.8,0.0],[1008.9,0.0],[1008.9,0.0],[1009.2,0.0],[1009.7,0.0],[1009.9,0.0],[1010.1,0.0],[1009.9,0.0],[1009.4,0.0],[1008.9,0.0],[1008.3,0.0],[1008.0,0.0],[1007.6,0.0],[1007.5,0.0],[1007.3,0.0],[1007.3,0.0],[1008.0,0.0],[1008.3,0.0],[1008.0,0.0],[1007.6,0.0],[1007.5,0.0],[1007.5,0.0],[1008.1,0.0],[1007.5,0.0],[1006.9,0.0],[1006.0,0.0],[1006.0,0.0],[1006.1,0.0],[1006.3,0.0],[1006.7,0.0],[1008.4,0.0],[1008.3,0.0],[1007.9,0.0],[1007.5,0.0],[1007.0,0.0],[1006.7,0.0],[1006.7,0.0],[1007.1,0.0],[1007.7,0.0],[1008.3,0.0],[1008.6,0.0],[1009.0,0.0],[1008.5,0.0],[1008.5,0.0],[1008.3,0.0],[1008.1,0.0],[1009.3,0.0],[1010.2,0.0],[1010.4,0.0],[1009.8,0.0],[1007.1,0.0],[1007.7,0.0],[1008.6,0.0],[1009.2,0.0],[1010.0,0.0],[1010.4,0.0],[1010.3,0.0],[1010.1,0.0],[1009.8,0.0],[1009.5,0.0],[1009.3,0.0],[1009.4,0.0],[1009.9,0.0],[1010.2,0.0],[1010.7,0.0],[1012.0,0.0],[1011.6,0.0],[1010.9,0.0],[1011.2,0.0],[1010.8,0.0],[1010.3,0.0],[1010.6,0.0],[1010.7,0.0],[1010.8,0.0],[1010.8,0.0],[1011.1,0.0],[1011.4,0.0],[1011.9,0.0],[1011.7,0.0],[1011.7,0.0],[1011.9,0.0],[1011.8,0.0],[1011.7,0.0],[1011.1,0.0],[1010.8,0.0],[1010.8,0.0],[1011.3,0.0],[1011.6,0.0],[1011.6,0.0],[1011.5,0.0],[1011.4,0.0],[1011.3,0.0],[1011.0,0.0],[1010.9,0.0],[1010.6,0.0],[1010.5,0.0],[1010.0,0.0],[1009.9,0.0],[1010.0,0.0],[1010.0,0.0],[1010.1,0.0],[1010.3,0.0],[1010.5,0.0],[1010.4,0.0],[1010.4,0.0],[1010.3,0.0],[1010.3,0.0],[1009.9,0.0],[1009.6,0.0],[1009.7,0.0],[1009.9,0.0],[1010.0,0.0],[1010.4,0.0],[1010.5,0.0],[1010.5,0.0],[1010.4,0.0],[1010.3,0.0],[1010.1,0.0],[1009.9,0.0],[1009.8,0.0],[1009.5,0.0],[1009.6,0.0],[1009.7,0.0],[1009.8,0.0],[1009.9,0.0],[1010.3,0.0],[1010.5,0.0],[1010.5,0.0],[1010.3,0.0],[1010.1,0.0],[1009.6,0.0],[1009.3,0.0],[1009.0,0.0],[1008.7,0.0],[1008.6,0.0],[1008.5,0.0],[1009.1,0.0],[1009.3,0.0],[1009.2,0.0],[1009.0,0.0],[1009.0,0.0],[1009.2,0.0],[1009.3,0.0],[1009.6,0.0],[1009.5,0.0],[1009.9,0.0],[1010.3,0.0],[1010.7,0.0],[1010.9,0.0],[1011.7,0.0],[1012.4,0.0],[1012.8,0.0],[1013.1,0.0],[1013.0,0.0],[1013.0,0.0],[1012.9,0.0],[1012.8,0.0],[1012.9,0.0],[1013.2,0.0],[1013.8,0.0],[1014.6,0.0],[1015.2,0.0],[1015.6,0.0],[1015.7,0.0],[1015.6,0.0],[1015.3,0.0],[1015.1,0.0],[1015.0,0.0],[1014.9,0.0],[1014.9,0.0],[1015.2,0.0],[1015.5,0.0],[1015.8,0.0],[1016.1,0.0],[1016.3,0.0],[1016.0,0.0],[1015.6,0.0],[1015.5,0.0],[1015.0,0.0],[1014.7,0.0],[1014.5,0.0],[1014.5,0.0],[1014.7,0.0],[1015.1,0.0],[1015.3,0.0],[1015.6,0.0],[1015.7,0.0],[1015.7,0.0],[1015.3,0.0],[1015.4,0.0],[1015.3,0.0],[1015.5,0.0],[1015.6,0.0],[1015.8,0.0],[1016.1,0.0],[1016.6,0.0],[1017.1,0.0],[1017.4,0.0],[1017.3,0.0],[1017.5,0.0],[1017.5,0.0],[1017.0,0.0],[1016.4,0.0],[1016.0,0.0],[1015.8,0.0],[1015.6,0.0],[1015.4,0.0],[1015.5,0.0],[1015.9,0.0],[1016.1,0.0],[1015.9,0.0],[1015.6,0.0],[1015.0,0.0],[1014.8,0.0],[1014.7,0.0],[1014.3,0.0],[1014.0,0.0],[1013.9,0.0],[1013.8,0.0],[1013.9,0.0],[1013.8,0.0],[1013.9,0.0],[1014.2,0.0],[1014.0,0.0],[1013.6,0.0],[1012.9,0.0],[1012.4,0.0],[1011.7,0.0],[1011.1,0.0],[1010.6,0.0],[1010.3,0.0],[1010.3,0.0],[1010.3,0.0],[1010.3,0.0],[1010.1,0.0],[1009.6,0.0],[1009.1,0.0],[1009.3,0.0],[1009.3,0.0],[1008.9,0.0],[1008.7,0.0],[1008.7,0.0],[1008.7,0.0],[1008.9,0.0],[1009.0,0.0],[1009.5,0.0],[1009.9,0.0],[1009.9,0.0],[1009.6,0.0],[1009.3,0.0],[1009.0,0.0],[1008.7,0.0],[1008.5,0.0],[1008.4,0.0],[1008.2,0.0],[1008.4,0.0],[1008.9,0.0],[1009.2,0.0],[1009.4,0.0],[1009.5,0.0],[1009.4,0.0],[1009.6,0.0],[1009.6,0.0],[1009.8,0.0],[1009.9,0.0],[1010.2,0.0],[1010.4,0.0],[1010.7,0.0],[1011.2,0.0],[1011.6,0.0],[1012.0,0.0],[1012.1,0.0],[1012.1,0.0],[1011.8,0.0],[1011.6,0.0],[1011.5,0.0],[1011.4,0.0],[1011.4,0.0],[1011.7,0.0],[1012.0,0.0],[1012.5,0.0],[1013.3,0.0],[1013.7,0.0],[1013.9,0.0],[1013.8,0.0],[1013.7,0.0],[1013.8,0.0],[1013.6,0.0],[1013.6,0.0],[1013.8,0.0],[1014.1,0.0],[1014.5,0.0],[1014.9,0.0],[1015.3,0.0],[1015.6,0.0],[1015.6,0.0],[1015.4,0.0],[1015.2,0.0],[1014.8,0.0],[1014.6,0.0],[1014.6,0.0],[1014.5,0.0],[1014.8,0.0],[1015.1,0.0],[1015.7,0.0],[1015.9,0.0],[1015.9,0.0],[1015.7,0.0],[1015.6,0.0],[1015.6,0.0],[1015.5,0.0],[1015.4,0.0],[1015.3,0.0],[1015.4,0.0],[1015.7,0.0],[1016.1,0.0],[1016.5,0.0],[1016.6,0.0],[1016.7,0.0],[1016.5,0.0],[1016.2,0.0],[1015.6,0.0],[1015.1,0.0],[1015.0,0.0],[1015.0,0.0],[1015.1,0.0],[1015.5,0.0],[1016.1,0.0],[1016.5,1.0],[1016.7,0.0],[1016.8,0.0],[1017.0,0.0],[1017.0,0.0],[1016.8,0.0],[1016.5,0.0],[1016.3,0.0],[1016.2,0.0],[1016.3,0.0],[1016.5,0.0],[1016.9,0.0],[1017.5,0.0],[1018.3,0.0],[1018.6,0.0],[1018.4,0.0],[1018.1,0.0],[1017.6,0.0],[1016.9,0.0],[1016.4,0.0],[1016.1,0.0],[1016.1,0.0],[1016.4,0.0],[1016.6,0.0],[1017.0,0.0],[1017.2,0.0],[1017.2,0.0],[1017.1,0.0],[1016.8,0.0],[1016.8,0.0],[1016.6,0.0],[1016.7,0.0],[1016.8,0.0],[1016.8,0.0],[1017.1,0.0],[1017.4,0.0],[1017.6,0.0],[1017.6,0.0],[1017.4,0.0],[1017.1,0.0],[1016.7,0.0],[1016.2,0.0],[1016.1,0.0],[1016.1,0.0],[1016.2,0.0],[1016.2,0.0],[1016.3,0.0],[1016.6,0.0],[1016.8,0.0],[1017.2,0.0],[1017.1,0.0],[1017.0,0.0],[1016.8,0.0],[1016.9,0.0],[1017.4,0.0],[1017.4,0.0],[1017.4,1.0],[1017.7,1.0],[1018.1,0.0],[1018.2,0.0],[1017.8,0.0],[1017.4,0.0],[1016.9,0.0],[1016.4,0.0],[1016.3,0.0],[1016.3,0.0],[1016.2,1.0],[1016.4,1.0],[1016.5,1.0],[1016.7,0.0],[1016.9,0.0],[1017.1,0.0],[1017.2,0.0],[1017.0,0.0],[1016.6,0.0],[1016.4,0.0],[1016.3,0.0],[1015.9,0.0],[1015.7,0.0],[1015.7,0.0],[1016.1,0.0],[1016.6,0.0],[1016.3,0.0],[1016.2,0.0],[1015.6,0.0],[1014.7,0.0],[1013.9,0.0],[1013.4,0.0],[1013.5,0.0],[1013.4,0.0],[1013.3,0.0],[1013.4,0.0],[1013.6,0.0],[1013.6,0.0],[1013.3,0.0],[1013.1,0.0],[1013.0,0.0],[1013.0,0.0],[1012.7,0.0],[1011.8,0.0],[1011.1,0.0],[1011.0,0.0],[1011.1,0.0],[1011.5,1.0],[1011.7,0.0],[1012.0,1.0],[1012.0,1.0],[1011.9,0.0],[1012.0,0.0],[1011.4,0.0],[1009.9,0.0],[1009.9,0.0],[1010.2,0.0],[1010.7,0.0],[1011.2,0.0],[1011.5,1.0],[1011.5,1.0],[1011.5,0.0],[1011.4,0.0],[1011.4,0.0],[1011.2,0.0],[1011.3,0.0],[1011.5,0.0],[1011.6,0.0],[1011.8,0.0],[1012.1,0.0],[1012.4,1.0],[1012.5,0.0],[1012.4,0.0],[1012.4,0.0],[1011.7,0.0],[1011.2,0.0],[1010.6,0.0],[1011.4,0.0],[1012.1,0.0],[1012.1,0.0],[1011.9,0.0],[1012.1,0.0],[1012.1,0.0],[1011.9,0.0],[1011.9,0.0],[1012.0,0.0],[1012.1,0.0],[1012.1,0.0],[1012.5,0.0],[1012.9,0.0],[1013.1,0.0],[1013.3,0.0],[1013.9,0.0],[1014.3,0.0],[1014.5,0.0],[1014.8,0.0],[1014.8,0.0],[1014.8,0.0],[1014.7,0.0],[1014.5,0.0],[1014.8,0.0],[1015.4,0.0],[1016.0,0.0],[1016.4,0.0],[1016.8,0.0],[1017.0,0.0],[1017.2,0.0],[1017.4,0.0],[1017.5,0.0],[1017.6,0.0],[1017.5,0.0],[1017.6,0.0],[1017.7,0.0],[1018.1,0.0],[1018.4,0.0],[1018.8,0.0],[1018.8,0.0],[1019.0,0.0],[1018.8,0.0],[1018.6,0.0],[1018.0,0.0],[1017.6,0.0],[1017.4,0.0],[1017.1,0.0],[1017.1,0.0],[1017.2,0.0],[1017.4,0.0],[1017.5,0.0],[1017.3,0.0],[1017.0,0.0],[1016.7,0.0],[1016.3,0.0],[1015.8,0.0],[1015.5,0.0],[1015.0,0.0],[1014.7,0.0],[1014.5,0.0],[1014.5,0.0],[1014.3,0.0],[1014.5,0.0],[1014.3,0.0],[1014.1,0.0],[1013.9,0.0],[1013.5,0.0],[1012.7,0.0],[1012.0,0.0],[1011.2,0.0],[1010.4,0.0],[1009.7,0.0],[1009.3,0.0],[1009.4,0.0],[1009.2,0.0],[1009.2,0.0],[1008.3,0.0],[1008.0,0.0],[1007.5,0.0],[1007.0,0.0],[1006.7,0.0],[1006.4,0.0],[1006.2,0.0],[1006.3,0.0],[1006.6,0.0],[1006.7,0.0],[1007.1,0.0],[1007.4,0.0],[1007.8,0.0],[1008.0,0.0],[1008.3,0.0],[1008.4,0.0],[1008.5,0.0],[1009.2,0.0],[1010.1,0.0],[1010.9,0.0],[1012.0,0.0],[1012.7,0.0],[1013.4,0.0],[1013.7,0.0],[1013.7,0.0],[1013.8,0.0],[1013.9,0.0],[1013.7,0.0],[1013.6,0.0],[1013.5,0.0],[1013.5,0.0],[1013.5,0.0],[1013.9,0.0],[1014.0,0.0],[1014.0,0.0],[1013.8,0.0],[1013.4,0.0],[1012.7,0.0],[1012.1,0.0],[1011.7,0.0],[1011.4,0.0],[1010.9,0.0],[1010.7,0.0],[1010.9,0.0],[1010.7,0.0],[1010.7,0.0],[1010.8,0.0],[1010.8,0.0],[1010.4,0.0],[1010.1,0.0],[1009.9,0.0],[1009.7,0.0],[1009.3,0.0],[1009.0,0.0],[1009.1,0.0],[1009.1,0.0],[1009.5,0.0],[1009.7,0.0],[1010.0,0.0],[1010.1,0.0],[1009.7,0.0],[1009.5,0.0],[1009.1,0.0],[1008.8,0.0],[1008.7,0.0],[1008.9,0.0],[1009.1,0.0],[1009.2,0.0],[1009.3,0.0],[1009.4,0.0],[1009.3,0.0],[1009.3,0.0],[1009.1,0.0],[1009.0,0.0],[1008.6,0.0],[1008.3,0.0],[1008.0,0.0],[1008.1,0.0],[1008.1,0.0],[1008.6,0.0],[1009.0,0.0],[1009.2,0.0],[1009.4,0.0],[1009.3,0.0],[1009.1,0.0],[1008.8,0.0],[1008.7,0.0],[1008.9,0.0],[1009.1,0.0],[1009.6,0.0],[1010.2,0.0],[1010.9,0.0],[1011.4,0.0],[1012.0,0.0],[1012.5,0.0],[1012.8,0.0],[1013.1,0.0],[1013.1,0.0],[1012.9,0.0],[1013.0,0.0],[1013.3,0.0],[1013.8,0.0],[1013.8,0.0],[1014.2,0.0],[1014.7,0.0],[1015.0,0.0],[1015.2,0.0],[1015.2,0.0],[1014.8,0.0],[1014.7,0.0],[1014.4,0.0],[1014.2,0.0],[1014.0,0.0],[1014.0,0.0],[1014.1,0.0],[1014.2,0.0],[1014.2,0.0],[1014.1,0.0],[1013.8,0.0],[1013.6,0.0],[1013.4,0.0],[1013.3,0.0],[1013.2,0.0],[1012.8,0.0],[1012.9,0.0],[1013.0,0.0],[1012.9,0.0],[1013.1,0.0],[1013.3,0.0],[1013.6,0.0],[1013.7,0.0],[1013.5,0.0],[1013.1,0.0],[1012.8,0.0],[1012.4,0.0],[1012.1,0.0],[1012.0,0.0],[1012.0,0.0],[1012.2,0.0],[1012.3,0.0],[1012.6,0.0],[1012.8,0.0],[1012.8,0.0],[1012.7,0.0],[1012.5,0.0],[1012.0,0.0],[1011.5,0.0],[1011.5,0.0],[1011.6,0.0],[1011.6,0.0],[1011.7,0.0],[1011.9,0.0],[1011.9,0.0],[1011.8,0.0],[1011.6,0.0],[1011.2,0.0],[1010.8,0.0],[1010.4,0.0],[1010.2,0.0],[1010.2,0.0],[1010.2,0.0],[1010.4,0.0],[1010.7,0.0],[1011.1,0.0],[1011.5,0.0],[1011.9,0.0],[1012.1,0.0],[1012.0,0.0],[1011.9,0.0],[1011.5,0.0],[1011.4,0.0],[1011.3,0.0],[1011.3,0.0],[1011.5,0.0],[1012.2,0.0],[1012.4,0.0],[1012.6,0.0],[1013.0,0.0],[1013.1,0.0],[1013.1,0.0],[1012.9,0.0],[1012.5,0.0],[1012.5,0.0],[1012.5,0.0],[1012.4,0.0],[1012.9,0.0],[1013.0,0.0],[1013.4,0.0],[1013.9,0.0],[1014.3,0.0],[1014.3,0.0],[1014.6,0.0],[1015.0,0.0],[1015.0,0.0],[1015.0,0.0],[1015.1,0.0],[1015.2,0.0],[1015.5,0.0],[1015.9,0.0],[1016.1,0.0],[1016.3,0.0],[1016.8,0.0],[1017.1,0.0],[1016.8,0.0],[1016.6,0.0],[1016.1,0.0],[1015.5,0.0],[1015.4,0.0],[1015.3,0.0],[1015.3,0.0],[1015.9,0.0],[1016.4,0.0],[1016.4,0.0],[1016.1,0.0],[1016.5,0.0],[1016.3,0.0],[1016.1,0.0],[1015.8,0.0],[1015.7,0.0],[1015.8,0.0],[1015.8,0.0],[1016.1,0.0],[1016.4,0.0],[1016.8,0.0],[1017.5,0.0],[1017.9,0.0],[1017.8,0.0],[1017.5,0.0],[1017.4,0.0],[1017.5,0.0],[1017.6,0.0],[1017.4,0.0],[1017.6,0.0],[1018.0,0.0],[1018.5,0.0],[1018.9,0.0],[1019.0,0.0],[1019.3,0.0],[1019.6,0.0],[1019.8,0.0],[1020.1,0.0],[1020.0,0.0],[1020.0,0.0],[1020.2,0.0],[1020.3,0.0],[1020.4,0.0],[1020.8,0.0],[1021.2,0.0],[1021.3,0.0],[1021.4,0.0],[1021.3,0.0],[1020.8,0.0],[1020.4,0.0],[1020.1,0.0],[1019.9,0.0],[1020.1,0.0],[1020.5,0.0],[1020.9,0.0],[1021.2,0.0],[1021.5,0.0],[1021.5,0.0],[1021.4,0.0],[1021.3,0.0],[1021.2,0.0],[1021.0,0.0],[1020.8,0.0],[1020.7,0.0],[1020.7,0.0],[1020.5,0.0],[1020.6,0.0],[1020.9,0.0],[1021.3,0.0],[1021.3,0.0],[1021.2,0.0],[1020.9,0.0],[1020.2,0.0],[1019.6,0.0],[1019.4,0.0],[1019.2,0.0],[1019.0,0.0],[1019.1,0.0],[1019.2,0.0],[1019.0,0.0],[1018.8,0.0],[1018.7,0.0],[1018.4,0.0],[1018.2,0.0],[1018.0,0.0],[1017.7,0.0],[1017.6,0.0],[1017.5,0.0],[1017.3,0.0],[1017.1,0.0],[1017.2,0.0],[1017.4,0.0],[1017.5,0.0],[1017.6,0.0],[1017.5,0.0],[1017.2,0.0],[1016.7,0.0],[1016.3,0.0],[1016.1,0.0],[1015.9,0.0],[1016.1,0.0],[1016.3,0.0],[1016.0,0.0],[1015.6,0.0],[1015.2,0.0],[1014.9,0.0],[1014.7,0.0],[1014.6,0.0],[1014.5,0.0],[1014.2,0.0],[1013.8,0.0],[1013.7,0.0],[1013.4,0.0],[1013.2,0.0],[1012.9,0.0],[1013.0,0.0],[1013.5,0.0],[1013.4,0.0],[1013.2,0.0],[1013.0,0.0],[1012.6,0.0],[1012.5,0.0],[1012.1,0.0],[1011.7,0.0],[1011.7,0.0],[1012.4,0.0],[1012.7,0.0],[1012.6,0.0],[1012.7,0.0],[1013.3,0.0],[1013.1,0.0],[1013.2,0.0],[1013.1,0.0],[1012.9,0.0],[1012.3,0.0],[1012.4,0.0],[1012.7,0.0],[1012.9,0.0],[1012.7,0.0],[1012.8,0.0],[1012.9,0.0],[1012.9,0.0],[1012.6,0.0],[1012.6,0.0],[1012.2,0.0],[1011.9,0.0],[1012.0,0.0],[1012.1,0.0],[1011.5,0.0],[1011.5,0.0],[1011.9,0.0],[1012.2,0.0],[1012.2,0.0],[1012.5,0.0],[1012.5,0.0],[1012.4,0.0],[1012.5,0.0],[1012.5,0.0],[1012.3,0.0],[1011.8,0.0],[1011.7,0.0],[1011.6,0.0],[1011.9,0.0],[1012.3,0.0],[1012.6,0.0],[1013.1,0.0],[1013.1,0.0],[1012.9,0.0],[1013.0,0.0],[1012.8,0.0],[1012.7,0.0],[1013.0,0.0],[1012.9,0.0],[1012.6,0.0],[1013.2,0.0],[1013.7,0.0],[1013.9,0.0],[1014.1,0.0],[1013.8,0.0],[1013.9,0.0],[1013.7,0.0],[1013.5,0.0],[1013.3,0.0],[1013.3,0.0],[1013.4,0.0],[1013.7,0.0],[1013.8,0.0],[1014.2,0.0],[1014.5,0.0],[1014.6,0.0],[1014.9,0.0],[1015.1,0.0],[1014.7,0.0],[1014.3,0.0],[1014.2,0.0],[1014.5,0.0],[1014.6,0.0],[1014.7,0.0],[1014.8,0.0],[1015.0,0.0],[1015.0,0.0],[1014.9,0.0],[1014.6,0.0],[1014.5,0.0],[1014.2,0.0],[1013.7,0.0],[1013.4,0.0],[1013.1,0.0],[1012.9,0.0],[1012.7,0.0],[1012.5,0.0],[1012.6,0.0],[1012.9,0.0],[1012.7,0.0],[1012.5,0.0],[1012.0,0.0],[1011.3,0.0],[1010.8,0.0],[1010.5,0.0],[1010.3,0.0],[1010.1,0.0],[1010.2,0.0],[1010.2,0.0],[1010.1,0.0],[1009.9,0.0],[1010.1,0.0],[1009.9,0.0],[1008.3,0.0],[1008.6,0.0],[1008.9,0.0],[1009.3,0.0],[1009.6,0.0],[1009.7,0.0],[1009.7,0.0],[1008.8,0.0],[1008.6,0.0],[1008.5,0.0],[1008.2,0.0],[1007.9,0.0],[1007.5,0.0],[1006.2,0.0],[1006.0,0.0],[1006.1,0.0],[1006.0,0.0],[1005.9,0.0],[1006.0,0.0],[1006.1,0.0],[1006.3,0.0],[1006.3,0.0],[1006.0,0.0],[1005.6,0.0],[1005.2,0.0],[1005.3,0.0],[1005.4,0.0],[1006.2,0.0],[1006.9,0.0],[1006.9,0.0],[1007.2,0.0],[1007.1,0.0],[1006.7,0.0],[1006.5,0.0],[1006.5,0.0],[1006.5,0.0],[1006.6,0.0],[1006.9,0.0],[1006.5,0.0],[1005.9,0.0],[1004.9,0.0],[1006.1,0.0],[1006.7,0.0],[1004.6,0.0],[1004.2,0.0],[1004.0,0.0],[1005.6,0.0],[1005.2,0.0],[1004.1,0.0],[1003.9,0.0],[1003.3,0.0],[1002.3,0.0],[1002.3,0.0],[1001.8,0.0],[1001.3,0.0],[1001.1,0.0],[1000.6,0.0],[1001.3,0.0],[1002.2,0.0],[1003.0,0.0],[1004.1,1.0],[1004.7,1.0],[1005.1,0.0],[1005.5,0.0],[1006.6,0.0],[1007.6,0.0],[1008.4,0.0],[1009.1,1.0],[1009.8,1.0],[1010.8,0.0],[1011.3,0.0],[1012.0,0.0],[1012.3,0.0],[1012.3,0.0],[1012.2,1.0],[1012.1,0.0],[1012.3,0.0],[1012.2,0.0],[1012.3,0.0],[1012.5,0.0],[1012.9,0.0],[1013.3,0.0],[1013.7,0.0],[1014.1,1.0],[1014.3,0.0],[1014.3,1.0],[1014.0,0.0],[1013.9,0.0],[1013.9,0.0],[1014.1,0.0],[1014.1,0.0],[1014.1,0.0],[1014.4,0.0],[1014.6,0.0],[1014.8,0.0],[1015.2,0.0],[1015.1,0.0],[1014.9,0.0],[1014.2,0.0],[1013.8,0.0],[1013.6,0.0],[1013.4,0.0],[1013.0,0.0],[1012.6,0.0],[1012.4,0.0],[1012.5,1.0],[1012.7,1.0],[1012.6,1.0],[1012.3,1.0],[1011.5,1.0],[1010.8,0.0],[1010.2,0.0],[1009.8,0.0],[1009.5,0.0],[1009.0,0.0],[1009.0,1.0],[1008.8,0.0],[1008.3,0.0],[1008.0,0.0],[1007.9,0.0],[1007.7,0.0],[1007.3,0.0],[1007.1,0.0],[1006.9,0.0],[1006.9,0.0],[1007.0,0.0],[1006.8,0.0],[1006.9,0.0],[1006.9,0.0],[1007.2,0.0],[1007.5,0.0],[1007.7,0.0],[1007.7,0.0],[1007.6,0.0],[1007.1,0.0],[1006.9,0.0],[1006.8,0.0],[1006.8,0.0],[1007.1,0.0],[1007.1,0.0],[1007.6,0.0],[1007.6,0.0],[1008.1,0.0],[1008.3,0.0],[1008.7,0.0],[1009.1,0.0],[1009.3,0.0],[1009.6,0.0],[1009.9,0.0],[1010.4,0.0],[1010.7,0.0],[1011.3,0.0],[1011.9,0.0],[1012.7,0.0],[1013.7,0.0],[1014.2,0.0],[1014.7,0.0],[1014.9,0.0],[1014.7,0.0],[1014.5,0.0],[1014.8,0.0],[1015.0,0.0],[1015.1,0.0],[1015.4,0.0],[1015.8,0.0],[1015.9,0.0],[1016.1,0.0],[1016.2,0.0],[1016.1,0.0],[1015.9,0.0],[1016.0,0.0],[1015.8,0.0],[1015.5,0.0],[1015.5,0.0],[1015.7,0.0],[1015.5,0.0],[1015.2,0.0],[1015.4,0.0],[1015.8,0.0],[1015.8,0.0],[1015.8,0.0],[1015.6,0.0],[1015.0,0.0],[1014.6,0.0],[1014.4,0.0],[1014.2,0.0],[1014.3,0.0],[1014.3,0.0],[1014.3,0.0],[1014.3,0.0],[1014.2,0.0],[1014.2,0.0],[1013.9,0.0],[1013.7,0.0],[1013.4,0.0],[1013.3,0.0],[1013.2,0.0],[1012.9,0.0],[1012.7,0.0],[1012.7,0.0],[1012.8,0.0],[1012.9,0.0],[1012.9,0.0],[1012.7,0.0],[1012.5,0.0],[1012.0,0.0],[1011.4,0.0],[1010.8,0.0],[1010.3,0.0],[1010.0,0.0],[1009.8,0.0],[1009.6,0.0],[1009.4,0.0],[1009.2,0.0],[1009.3,0.0],[1009.2,0.0],[1008.6,0.0],[1008.5,0.0],[1008.1,0.0],[1007.7,0.0],[1007.1,0.0],[1006.8,0.0],[1006.9,0.0],[1007.3,0.0],[1007.4,0.0],[1008.1,0.0],[1008.6,0.0],[1009.0,0.0],[1009.3,0.0],[1009.2,0.0],[1008.9,0.0],[1009.1,0.0],[1009.3,0.0],[1009.6,0.0],[1009.8,0.0],[1010.0,0.0],[1010.5,0.0],[1010.7,0.0],[1011.2,0.0],[1011.8,0.0],[1011.8,0.0],[1012.1,0.0],[1012.3,0.0],[1012.0,0.0],[1011.8,0.0],[1011.8,0.0],[1012.1,0.0],[1012.1,0.0],[1012.5,0.0],[1012.9,0.0],[1013.6,0.0],[1014.2,0.0],[1014.6,0.0],[1014.7,0.0],[1014.6,0.0],[1014.7,0.0],[1015.0,0.0],[1015.3,0.0],[1015.2,0.0],[1015.3,0.0],[1015.6,0.0],[1015.7,0.0],[1016.3,0.0],[1016.8,0.0],[1016.7,0.0],[1016.3,0.0],[1016.5,0.0],[1016.4,0.0],[1016.4,0.0],[1016.4,0.0],[1016.7,0.0],[1016.8,0.0],[1016.8,0.0],[1017.2,0.0],[1017.9,0.0],[1018.3,0.0],[1018.7,0.0],[1018.4,0.0],[1018.0,0.0],[1017.8,0.0],[1017.8,0.0],[1017.8,0.0],[1017.7,0.0],[1017.9,0.0],[1018.1,0.0],[1018.2,0.0],[1018.1,0.0],[1017.9,0.0],[1017.6,0.0],[1017.2,0.0],[1016.9,0.0],[1016.4,0.0],[1015.9,0.0],[1015.3,0.0],[1015.3,0.0],[1014.9,0.0],[1014.6,0.0],[1014.9,0.0],[1015.0,0.0],[1014.8,0.0],[1014.4,0.0],[1013.6,0.0],[1012.9,0.0],[1012.6,0.0],[1012.2,0.0],[1012.1,0.0],[1012.3,0.0],[1012.5,0.0],[1012.8,0.0],[1012.8,0.0],[1012.9,0.0],[1012.9,0.0],[1013.1,0.0],[1013.2,0.0],[1013.1,0.0],[1013.2,0.0],[1013.3,0.0],[1013.4,0.0],[1013.6,0.0],[1013.8,0.0],[1014.1,0.0],[1014.8,0.0],[1015.5,0.0],[1016.1,0.0],[1016.3,0.0],[1016.4,0.0],[1016.5,0.0],[1016.5,0.0],[1016.9,0.0],[1017.5,0.0],[1017.9,0.0],[1018.4,0.0],[1018.8,0.0],[1018.9,0.0],[1019.4,0.0],[1019.7,0.0],[1019.9,0.0],[1019.9,0.0],[1020.2,0.0],[1020.2,0.0],[1020.4,0.0],[1020.3,0.0],[1020.7,0.0],[1021.1,0.0],[1021.4,0.0],[1022.6,0.0],[1023.1,0.0],[1023.2,0.0],[1023.0,0.0],[1022.4,0.0],[1022.1,0.0],[1021.9,0.0],[1022.0,0.0],[1022.4,0.0],[1023.0,0.0],[1023.4,0.0],[1023.6,0.0],[1023.9,0.0],[1024.1,0.0],[1023.8,0.0],[1023.6,0.0],[1023.5,0.0],[1023.6,0.0],[1023.6,0.0],[1023.4,0.0],[1023.6,0.0],[1023.7,0.0],[1023.7,0.0],[1024.0,0.0],[1024.2,0.0],[1024.2,0.0],[1024.0,1.0],[1023.7,1.0],[1022.9,0.0],[1022.6,0.0],[1022.5,0.0],[1022.7,0.0],[1022.6,0.0],[1022.6,1.0],[1022.9,1.0],[1023.2,1.0],[1023.2,0.0],[1022.8,0.0],[1022.6,0.0],[1022.4,0.0],[1022.0,0.0],[1021.7,0.0],[1021.7,0.0],[1021.5,0.0],[1021.4,0.0],[1021.3,0.0],[1021.1,0.0],[1021.4,0.0],[1021.6,0.0],[1021.6,0.0],[1021.7,0.0],[1021.2,0.0],[1020.5,0.0],[1020.0,0.0],[1019.7,0.0],[1019.6,0.0],[1019.7,0.0],[1020.1,0.0],[1020.3,0.0],[1020.1,0.0],[1020.2,0.0],[1020.6,0.0],[1020.5,0.0],[1020.3,0.0],[1020.5,1.0],[1020.5,0.0],[1020.9,0.0],[1021.0,0.0],[1021.2,0.0],[1021.2,0.0],[1021.4,0.0],[1021.6,0.0],[1021.9,0.0],[1021.9,1.0],[1021.8,0.0],[1021.6,0.0],[1021.5,0.0],[1021.6,0.0],[1021.7,0.0],[1021.7,0.0],[1021.9,0.0],[1022.0,0.0],[1022.1,0.0],[1022.0,0.0],[1022.0,0.0],[1022.0,0.0],[1021.9,0.0],[1021.8,0.0],[1021.5,0.0],[1021.2,0.0],[1021.0,0.0],[1020.7,0.0],[1020.4,0.0],[1020.6,0.0],[1020.8,0.0],[1021.0,0.0],[1021.0,1.0],[1020.8,0.0],[1020.5,0.0],[1020.0,0.0],[1019.6,0.0],[1019.4,0.0],[1019.3,1.0],[1019.3,1.0],[1019.7,0.0],[1020.1,0.0],[1020.2,0.0],[1020.4,0.0],[1020.4,0.0],[1020.4,0.0],[1020.4,0.0],[1020.2,0.0],[1020.2,0.0],[1020.3,0.0],[1020.0,0.0],[1019.9,0.0],[1019.9,0.0],[1020.2,0.0],[1020.6,0.0],[1021.0,0.0],[1021.2,0.0],[1021.2,0.0],[1021.0,0.0],[1020.8,0.0],[1020.5,0.0],[1020.3,0.0],[1020.4,1.0],[1020.9,1.0],[1021.2,0.0],[1016.8,0.0],[1016.6,0.0],[1016.7,0.0],[1017.2,0.0],[1017.3,0.0],[1017.3,0.0],[1016.8,0.0],[1016.4,0.0],[1016.4,0.0],[1016.6,0.0],[1016.7,0.0],[1016.8,0.0],[1017.1,0.0],[1017.3,0.0],[1017.5,0.0],[1017.4,0.0],[1017.5,0.0],[1017.5,0.0],[1017.4,0.0],[1017.4,0.0],[1017.2,0.0],[1017.2,0.0],[1017.2,0.0],[1017.2,0.0],[1017.1,0.0],[1017.2,0.0],[1017.4,0.0],[1017.8,0.0],[1017.7,1.0],[1017.7,1.0],[1017.4,1.0],[1016.9,0.0],[1016.8,0.0],[1016.7,0.0],[1016.8,0.0],[1017.1,0.0],[1017.2,0.0],[1017.3,0.0],[1017.1,0.0],[1017.4,0.0],[1018.0,0.0],[1018.1,0.0],[1017.9,0.0],[1017.7,0.0],[1017.7,0.0],[1017.7,0.0],[1017.7,0.0],[1017.8,0.0],[1017.9,0.0],[1017.9,0.0],[1018.2,0.0],[1018.5,0.0],[1018.6,1.0],[1018.4,1.0],[1018.2,1.0],[1017.9,1.0],[1017.7,1.0],[1017.4,1.0],[1017.5,0.0],[1017.5,0.0],[1017.7,0.0],[1018.1,0.0],[1018.4,0.0],[1018.6,0.0],[1018.8,0.0],[1019.0,0.0],[1019.1,0.0],[1019.0,0.0],[1018.9,0.0],[1018.9,0.0],[1018.7,0.0],[1018.6,0.0],[1018.5,0.0],[1018.7,0.0],[1019.1,0.0],[1019.2,0.0],[1019.5,0.0],[1019.7,0.0],[1019.3,0.0],[1019.1,0.0],[1018.8,0.0],[1019.1,0.0],[1019.5,0.0],[1019.7,0.0],[1020.0,1.0],[1020.3,1.0],[1020.7,1.0],[1020.5,0.0],[1020.6,0.0],[1020.7,0.0],[1020.8,0.0],[1020.7,0.0],[1020.7,0.0],[1020.8,0.0],[1020.9,0.0],[1020.9,0.0],[1020.7,0.0],[1020.9,0.0],[1021.1,0.0],[1021.6,0.0],[1021.7,0.0],[1021.7,0.0],[1021.3,0.0],[1021.2,0.0],[1020.8,0.0],[1020.6,0.0],[1020.5,0.0],[1020.6,0.0],[1020.8,0.0],[1020.9,0.0],[1021.0,0.0],[1020.9,0.0],[1020.8,0.0],[1020.8,0.0],[1020.6,0.0],[1020.2,0.0],[1020.0,0.0],[1020.2,0.0],[1019.8,0.0],[1019.5,0.0],[1019.4,0.0],[1019.6,0.0],[1019.8,0.0],[1020.0,0.0],[1020.3,0.0],[1020.4,0.0],[1020.1,0.0],[1019.9,0.0],[1019.9,0.0],[1019.8,0.0],[1020.3,0.0],[1020.6,0.0],[1020.8,0.0],[1021.2,0.0],[1021.5,0.0],[1021.6,0.0],[1021.6,0.0],[1021.5,0.0],[1021.6,0.0],[1021.5,0.0],[1021.2,0.0],[1021.4,0.0],[1021.0,0.0],[1021.1,0.0],[1021.2,0.0],[1021.2,0.0],[1021.6,0.0],[1021.7,0.0],[1021.7,0.0],[1021.6,0.0],[1021.3,0.0],[1020.9,0.0],[1020.3,0.0],[1020.0,0.0],[1020.0,0.0],[1019.9,0.0],[1020.0,0.0],[1020.4,0.0],[1020.4,0.0],[1020.5,0.0],[1020.4,0.0],[1020.3,0.0],[1020.3,0.0],[1020.2,0.0],[1020.0,0.0],[1020.1,0.0],[1020.0,0.0],[1019.8,0.0],[1019.7,0.0],[1019.9,0.0],[1020.1,0.0],[1020.4,0.0],[1020.6,1.0],[1019.8,0.0],[1019.2,0.0],[1018.8,0.0],[1018.5,1.0],[1018.2,1.0],[1018.3,1.0],[1018.7,1.0],[1018.7,0.0],[1018.6,0.0],[1018.4,0.0],[1018.1,0.0],[1018.1,0.0],[1017.9,0.0],[1017.6,0.0],[1017.4,0.0],[1017.0,0.0],[1016.7,0.0],[1016.5,0.0],[1016.5,0.0],[1016.6,0.0],[1016.8,0.0],[1016.9,1.0],[1016.9,1.0],[1016.5,1.0],[1016.2,1.0],[1015.5,0.0],[1015.3,0.0],[1015.4,0.0],[1015.4,0.0],[1015.5,0.0],[1015.7,0.0],[1015.8,0.0],[1015.9,0.0],[1015.8,0.0],[1015.5,0.0],[1015.2,0.0],[1015.0,0.0],[1014.9,0.0],[1014.5,0.0],[1014.3,0.0],[1014.3,0.0],[1014.2,0.0],[1014.1,0.0],[1014.1,0.0],[1014.0,0.0],[1013.9,0.0],[1013.6,0.0],[1013.3,0.0],[1013.0,0.0],[1012.8,0.0],[1012.6,0.0],[1012.3,0.0],[1012.0,0.0],[1012.1,0.0],[1012.1,0.0],[1011.9,0.0],[1011.8,0.0],[1011.6,0.0],[1011.3,0.0],[1011.1,0.0],[1010.8,0.0],[1010.6,0.0],[1010.4,0.0],[1010.1,0.0],[1010.1,0.0],[1010.1,0.0],[1010.1,0.0],[1010.1,0.0],[1009.9,0.0],[1009.1,0.0],[1008.2,0.0],[1007.4,0.0],[1006.6,0.0],[1006.0,0.0],[1005.7,0.0],[1005.8,0.0],[1005.8,0.0],[1005.8,0.0],[1006.0,0.0],[1005.9,0.0],[1005.8,0.0],[1005.4,0.0],[1005.0,0.0],[1005.0,0.0],[1005.0,0.0],[1005.0,0.0],[1005.0,0.0],[1005.4,0.0],[1005.8,0.0],[1006.2,0.0],[1006.7,0.0],[1007.1,0.0],[1007.5,0.0],[1007.5,0.0],[1007.4,0.0],[1007.4,0.0],[1007.6,0.0],[1007.6,0.0],[1008.2,0.0],[1008.9,0.0],[1009.2,0.0],[1009.4,0.0],[1009.3,0.0],[1009.0,0.0],[1009.0,0.0],[1009.1,0.0],[1009.1,0.0],[1009.1,0.0],[1009.1,0.0],[1009.2,0.0],[1009.2,0.0],[1009.0,0.0],[1008.5,0.0],[1009.0,0.0],[1009.7,0.0],[1010.4,1.0],[1010.5,1.0],[1010.0,1.0],[1009.4,0.0],[1009.6,0.0],[1010.5,0.0],[1009.6,1.0],[1009.8,1.0],[1010.0,0.0],[1010.1,0.0],[1010.3,0.0],[1010.7,0.0],[1010.8,0.0],[1011.2,0.0],[1011.4,0.0],[1011.6,0.0],[1011.8,0.0],[1012.2,0.0],[1012.5,0.0],[1012.7,0.0],[1012.9,0.0],[1013.1,0.0],[1013.3,0.0],[1013.6,0.0],[1013.5,0.0],[1013.4,0.0],[1012.5,0.0],[1011.9,0.0],[1011.0,0.0],[1010.4,0.0],[1009.0,0.0],[1007.6,0.0],[1006.3,0.0],[1004.9,0.0],[1003.6,0.0],[1001.7,0.0],[1000.5,0.0],[999.18,0.0],[998.25,0.0],[998.94,0.0],[998.39,0.0],[998.51,0.0],[998.59,0.0],[998.79,0.0],[999.14,0.0],[999.79,0.0],[1000.5,0.0],[1001.1,0.0],[1001.6,0.0],[1001.7,0.0],[1001.3,0.0],[1000.7,0.0],[1000.3,0.0],[999.7,0.0],[999.41,0.0],[998.72,0.0],[997.94,0.0],[996.94,0.0],[996.35,0.0],[995.23,0.0],[994.12,0.0],[993.93,0.0],[993.76,0.0],[993.39,0.0],[993.51,0.0],[994.31,0.0],[995.28,0.0],[996.26,0.0],[997.23,0.0],[998.2,0.0],[999.25,0.0],[1000.9,0.0],[1002.3,0.0],[1003.6,0.0],[1004.4,0.0],[1005.1,0.0],[1005.7,0.0],[1006.2,0.0],[1006.5,0.0],[1007.0,0.0],[1007.3,0.0],[1007.5,0.0],[1007.6,0.0],[1007.7,0.0],[1007.7,0.0],[1007.6,0.0],[1007.5,0.0],[1007.3,0.0],[1006.9,0.0],[1006.5,0.0],[1005.8,0.0],[1005.1,0.0],[1005.0,0.0],[1004.8,0.0],[1004.5,0.0],[1004.3,0.0],[1003.9,1.0],[1003.1,1.0],[1002.3,0.0],[1001.5,0.0],[1000.7,0.0],[1000.3,0.0],[999.93,0.0],[999.08,0.0],[998.06,0.0],[997.71,0.0],[997.6,0.0],[997.36,0.0],[997.51,0.0],[997.04,0.0],[996.47,0.0],[996.01,0.0],[996.16,0.0],[996.91,0.0],[997.95,0.0],[999.18,0.0],[1000.4,0.0],[1001.6,0.0],[1002.2,0.0],[1002.9,0.0],[1003.5,1.0],[1004.0,1.0],[1003.8,0.0],[1003.1,1.0],[1002.9,1.0],[1003.2,1.0],[1003.1,1.0],[1003.2,1.0],[1004.0,1.0],[1004.6,1.0],[1005.1,0.0],[1005.4,0.0],[1006.4,0.0],[1006.6,0.0],[1006.7,0.0],[1006.7,1.0],[1006.7,0.0],[1006.5,0.0],[1006.3,0.0],[1006.1,0.0],[1006.0,0.0],[1005.9,0.0],[1006.0,1.0],[1006.4,0.0],[1006.7,1.0],[1007.1,1.0],[1007.5,1.0],[1008.0,1.0],[1008.4,1.0],[1009.1,1.0],[1010.0,1.0],[1010.7,1.0],[1011.4,1.0],[1012.1,0.0],[1012.7,1.0],[1012.8,1.0],[1013.6,1.0],[1014.1,1.0],[1014.4,1.0],[1014.6,1.0],[1014.7,1.0],[1014.8,1.0],[1014.5,1.0],[1014.3,1.0],[1014.3,1.0],[1014.2,1.0],[1014.5,1.0],[1014.7,1.0],[1014.9,1.0],[1015.0,1.0],[1014.4,1.0],[1014.0,1.0],[1013.4,1.0],[1012.9,1.0],[1012.7,1.0],[1012.6,1.0],[1012.1,1.0],[1011.9,1.0],[1011.0,1.0],[1010.4,1.0],[1009.8,1.0],[1009.3,1.0],[1008.6,1.0],[1008.1,1.0],[1007.3,1.0],[1006.4,1.0],[1005.9,1.0],[1005.2,1.0],[1005.3,1.0],[1005.2,1.0],[1004.9,1.0],[1004.4,1.0],[1003.4,1.0],[1002.8,1.0],[1002.2,1.0],[1001.6,1.0],[1001.3,1.0],[1001.6,1.0],[1001.0,1.0],[1001.0,1.0],[1000.8,1.0],[1000.6,1.0],[1001.3,1.0],[1001.7,1.0],[1001.7,1.0],[1001.5,1.0],[1001.5,0.0],[1001.8,0.0],[1001.4,0.0],[1001.0,0.0],[1001.2,0.0],[1001.2,0.0],[1001.4,1.0],[1001.7,1.0],[1001.8,1.0],[1001.7,1.0],[1001.9,1.0],[1002.0,1.0],[1001.9,1.0],[1002.1,1.0],[1002.6,1.0],[1003.1,1.0],[1003.6,1.0],[1004.3,1.0],[1004.9,1.0],[1005.5,1.0],[1006.1,1.0],[1006.7,1.0],[1007.3,1.0],[1007.8,1.0],[1008.3,0.0],[1008.6,0.0],[1008.7,0.0],[1008.8,0.0],[1009.1,0.0],[1009.4,0.0],[1009.7,1.0],[1009.5,1.0],[1009.2,1.0],[1008.1,1.0],[1007.5,1.0],[1006.8,1.0],[1006.0,1.0],[1005.2,1.0],[1004.5,1.0],[1003.6,1.0],[1002.4,1.0],[1001.6,1.0],[1000.9,1.0],[1002.1,0.0],[1002.9,1.0],[1003.0,1.0],[1003.3,1.0],[1003.9,1.0],[1004.5,0.0],[1005.3,0.0],[1006.0,0.0],[1006.8,1.0],[1007.6,0.0],[1008.5,1.0],[1009.3,1.0],[1010.4,1.0],[1011.2,1.0],[1011.5,1.0],[1011.7,1.0],[1011.8,1.0],[1012.1,1.0],[1012.7,1.0],[1013.2,1.0],[1013.6,1.0],[1014.0,1.0],[1014.6,1.0],[1015.2,1.0],[1015.8,1.0],[1016.4,1.0],[1016.7,1.0],[1017.1,1.0],[1017.3,0.0],[1017.6,1.0],[1017.9,1.0],[1018.4,0.0],[1018.9,0.0],[1019.6,0.0],[1020.4,1.0],[1021.2,1.0],[1022.0,1.0],[1022.6,1.0],[1022.9,1.0],[1023.0,1.0],[1023.4,1.0],[1023.8,1.0],[1024.1,1.0],[1024.7,1.0],[1025.1,1.0],[1025.5,0.0],[1025.8,0.0],[1026.3,1.0],[1026.6,1.0],[1026.9,1.0],[1026.8,0.0],[1026.7,0.0],[1026.9,0.0],[1026.7,0.0],[1026.5,0.0],[1026.6,0.0],[1026.8,0.0],[1027.1,0.0],[1027.2,0.0],[1027.4,0.0],[1027.3,0.0],[1027.1,0.0],[1026.8,0.0],[1026.6,0.0],[1026.4,0.0],[1026.3,0.0],[1026.2,0.0],[1026.5,0.0],[1026.7,0.0],[1026.7,0.0],[1026.5,0.0],[1026.6,0.0],[1026.7,0.0],[1026.8,0.0],[1026.5,0.0],[1026.1,0.0],[1026.1,0.0],[1025.8,0.0],[1025.5,0.0],[1025.6,0.0],[1025.8,0.0],[1025.9,0.0],[1025.8,0.0],[1026.0,0.0],[1025.5,0.0],[1024.6,0.0],[1024.3,0.0],[1023.9,0.0],[1023.6,0.0],[1023.5,0.0],[1023.2,0.0],[1023.0,0.0],[1022.9,0.0],[1022.2,0.0],[1021.7,0.0],[1021.5,0.0],[1021.2,0.0],[1020.6,0.0],[1020.1,0.0],[1017.5,0.0],[1017.4,0.0],[1017.4,0.0],[1017.2,0.0],[1016.5,0.0],[1015.9,0.0],[1015.4,0.0],[1014.7,0.0],[1014.3,0.0],[1014.3,0.0],[1014.1,0.0],[1013.8,0.0],[1013.9,0.0],[1013.5,0.0],[1013.1,0.0],[1012.8,0.0],[1012.4,0.0],[1012.0,0.0],[1011.7,0.0],[1011.6,0.0],[1011.1,0.0],[1010.2,0.0],[1010.0,0.0],[1009.6,0.0],[1009.0,0.0],[1008.6,0.0],[1009.2,0.0],[1008.9,0.0],[1008.3,0.0],[1007.9,0.0],[1007.8,0.0],[1007.7,0.0],[1008.0,0.0],[1008.2,0.0],[1008.5,0.0],[1008.8,0.0],[1009.3,0.0],[1009.5,0.0],[1009.6,0.0],[1009.9,0.0],[1010.2,0.0],[1010.1,0.0],[1010.0,0.0],[1009.8,0.0],[1009.4,0.0],[1009.0,0.0],[1008.5,0.0],[1008.4,0.0],[1008.5,1.0],[1008.4,0.0],[1008.3,0.0],[1008.1,0.0],[1007.4,0.0],[1006.5,0.0],[1005.8,0.0],[1005.3,0.0],[1005.1,0.0],[1004.7,0.0],[1004.2,0.0],[1003.6,0.0],[1003.0,0.0],[1002.4,0.0],[1001.7,0.0],[1001.2,1.0],[1000.9,1.0],[1000.0,0.0],[999.64,0.0],[999.31,0.0],[999.03,0.0],[998.72,0.0],[998.74,0.0],[998.82,0.0],[999.06,0.0],[999.18,0.0],[999.47,0.0],[1000.1,0.0],[1000.3,0.0],[1000.2,0.0],[1000.1,0.0],[1000.4,0.0],[1000.7,0.0],[1001.2,1.0],[1001.7,1.0],[1002.2,1.0],[1002.9,1.0],[1004.6,0.0],[1005.3,0.0],[1006.3,0.0],[1006.8,0.0],[1006.9,0.0],[1008.5,0.0],[1008.5,0.0],[1008.9,0.0],[1009.1,1.0],[1009.1,1.0],[1008.9,1.0],[1008.9,1.0],[1009.3,1.0],[1009.7,1.0],[1010.9,1.0],[1011.3,1.0],[1011.8,1.0],[1012.4,0.0],[1012.5,0.0],[1012.7,0.0],[1012.6,0.0],[1013.1,0.0],[1013.5,0.0],[1013.6,0.0],[1013.7,0.0],[1013.7,0.0],[1013.5,0.0],[1013.7,0.0],[1013.9,0.0],[1013.8,0.0],[1013.6,0.0],[1013.1,0.0],[1012.4,0.0],[1012.5,0.0],[1012.7,0.0],[1012.9,0.0],[1012.9,1.0],[1013.1,1.0],[1013.3,0.0],[1013.3,0.0],[1013.4,0.0],[1013.7,0.0],[1013.9,0.0],[1013.8,0.0],[1013.8,0.0],[1014.0,0.0],[1014.2,0.0],[1014.5,0.0],[1014.7,0.0],[1015.1,0.0],[1015.6,0.0],[1016.1,0.0],[1016.0,0.0],[1015.8,0.0],[1015.7,0.0],[1015.8,0.0],[1016.4,0.0],[1016.7,0.0],[1017.0,1.0],[1017.3,1.0],[1017.7,1.0],[1018.0,0.0],[1018.3,0.0],[1018.5,0.0],[1018.5,0.0],[1018.1,0.0],[1017.8,0.0],[1017.7,0.0],[1017.6,0.0],[1017.5,0.0],[1018.3,0.0],[1018.5,0.0],[1018.1,0.0],[1017.5,0.0],[1017.4,0.0],[1017.5,0.0],[1017.8,0.0],[1017.7,0.0],[1017.9,0.0],[1018.4,0.0],[1018.6,0.0],[1019.0,0.0],[1019.1,0.0],[1019.3,0.0],[1019.6,0.0],[1019.6,0.0],[1019.6,0.0],[1020.0,0.0],[1020.1,0.0],[1019.7,0.0],[1019.8,0.0],[1020.1,0.0],[1020.7,0.0],[1021.3,0.0],[1021.7,0.0],[1022.0,0.0],[1021.7,0.0],[1021.1,0.0],[1021.0,0.0],[1021.1,0.0],[1021.3,0.0],[1021.3,1.0],[1021.2,1.0],[1021.4,1.0],[1021.3,0.0],[1021.5,0.0],[1021.5,0.0],[1021.6,0.0],[1021.5,0.0],[1021.4,0.0],[1021.3,0.0],[1021.8,0.0],[1022.1,1.0],[1022.6,1.0],[1022.8,1.0],[1022.5,1.0],[1021.9,1.0],[1021.5,1.0],[1021.1,1.0],[1020.9,1.0],[1020.9,1.0],[1020.8,1.0],[1021.0,0.0],[1021.1,0.0],[1020.8,0.0],[1020.5,0.0],[1020.3,0.0],[1020.1,0.0],[1019.8,0.0],[1019.3,0.0],[1019.4,0.0],[1019.1,0.0],[1018.8,0.0],[1018.9,0.0],[1018.9,0.0],[1019.0,0.0],[1019.2,0.0],[1019.5,1.0],[1019.5,1.0],[1019.4,1.0],[1018.8,1.0],[1018.1,1.0],[1017.7,1.0],[1017.6,1.0],[1017.3,1.0],[1017.1,0.0],[1017.2,0.0],[1017.2,0.0],[1017.0,0.0],[1016.9,0.0],[1016.9,0.0],[1016.9,0.0],[1016.6,0.0],[1016.2,0.0],[1016.2,0.0],[1015.9,0.0],[1015.8,0.0],[1015.8,0.0],[1015.8,0.0],[1016.2,0.0],[1016.6,0.0],[1016.9,0.0],[1016.7,1.0],[1016.2,1.0],[1015.8,0.0],[1015.6,0.0],[1015.4,0.0],[1015.5,0.0],[1015.4,0.0],[1015.3,0.0],[1015.5,0.0],[1015.5,0.0],[1015.3,0.0],[1015.2,0.0],[1015.1,0.0],[1014.9,0.0],[1014.7,0.0],[1014.6,0.0],[1014.4,0.0],[1013.9,0.0],[1013.9,0.0],[1013.9,0.0],[1014.0,0.0],[1014.2,0.0],[1014.4,1.0],[1014.4,1.0],[1013.9,0.0],[1013.2,0.0],[1012.8,0.0],[1012.4,0.0],[1012.4,0.0],[1012.4,0.0],[1012.6,0.0],[1012.8,0.0],[1012.9,0.0],[1013.2,0.0],[1013.6,0.0],[1013.8,0.0],[1014.0,0.0],[1014.1,0.0],[1014.4,0.0],[1014.6,0.0],[1014.9,0.0],[1015.4,0.0],[1016.2,0.0],[1017.1,0.0],[1018.1,0.0],[1018.8,1.0],[1019.1,1.0],[1019.0,1.0],[1019.0,1.0],[1019.1,1.0],[1019.8,1.0],[1020.3,1.0],[1020.7,1.0],[1021.3,1.0],[1022.0,0.0],[1022.3,0.0],[1022.6,0.0],[1022.8,0.0],[1023.3,0.0],[1023.4,0.0],[1023.2,0.0],[1023.4,0.0],[1023.6,0.0],[1023.2,0.0],[1022.8,0.0],[1022.7,0.0],[1023.1,0.0],[1023.3,0.0],[1023.5,0.0],[1023.8,0.0],[1023.4,0.0],[1022.7,0.0],[1022.1,0.0],[1021.9,0.0],[1021.8,0.0],[1021.7,0.0],[1021.8,0.0],[1022.1,0.0],[1022.2,0.0],[1022.0,0.0],[1022.0,0.0],[1021.8,0.0],[1018.7,0.0],[1018.3,0.0],[1018.4,0.0],[1018.3,0.0],[1017.8,0.0],[1017.7,0.0],[1018.0,0.0],[1018.2,0.0],[1018.5,0.0],[1018.5,0.0],[1018.4,0.0],[1017.9,1.0],[1017.2,1.0],[1016.5,1.0],[1016.3,1.0],[1016.2,1.0],[1015.9,1.0],[1015.8,1.0],[1015.7,1.0],[1014.3,0.0],[1013.9,0.0],[1013.6,0.0],[1013.4,0.0],[1013.1,0.0],[1012.8,0.0],[1012.7,0.0],[1012.5,0.0],[1012.5,0.0],[1012.8,0.0],[1013.0,0.0],[1013.2,0.0],[1013.1,0.0],[1012.6,0.0],[1011.9,0.0],[1011.7,0.0],[1011.5,0.0],[1011.7,0.0],[1011.8,1.0],[1011.8,1.0],[1011.7,1.0],[1011.6,1.0],[1011.4,1.0],[1011.2,0.0],[1010.9,0.0],[1010.5,0.0],[1010.1,0.0],[1009.9,0.0],[1009.4,0.0],[1009.2,0.0],[1008.9,0.0],[1008.7,0.0],[1008.7,0.0],[1008.5,0.0],[1008.5,1.0],[1008.1,1.0],[1007.8,1.0],[1007.5,1.0],[1007.4,1.0],[1007.7,1.0],[1008.1,1.0],[1008.5,1.0],[1009.6,1.0],[1010.1,1.0],[1010.6,1.0],[1011.2,1.0],[1011.9,0.0],[1012.3,0.0],[1012.8,0.0],[1013.5,0.0],[1014.1,0.0],[1014.5,0.0],[1014.7,0.0],[1015.1,0.0],[1015.7,0.0],[1016.3,0.0],[1016.7,1.0],[1017.2,1.0],[1017.5,1.0],[1017.6,1.0],[1018.2,1.0],[1019.8,0.0],[1019.9,0.0],[1020.1,0.0],[1020.3,0.0],[1020.4,0.0],[1020.5,0.0],[1020.5,0.0],[1020.7,0.0],[1020.6,0.0],[1020.3,0.0],[1020.2,0.0],[1020.4,0.0],[1020.7,0.0],[1020.7,1.0],[1021.1,1.0],[1021.2,1.0],[1020.9,1.0],[1020.4,1.0],[1020.0,1.0],[1020.2,1.0],[1020.4,1.0],[1020.7,1.0],[1021.5,0.0],[1021.5,0.0],[1021.8,0.0],[1022.1,0.0],[1022.2,0.0],[1022.5,0.0],[1022.1,0.0],[1021.9,0.0],[1021.6,0.0],[1021.7,0.0],[1022.0,0.0],[1022.8,1.0],[1023.0,1.0],[1022.8,1.0],[1022.6,1.0],[1022.2,1.0],[1022.0,1.0],[1022.2,1.0],[1022.7,1.0],[1023.1,1.0],[1023.5,1.0],[1023.6,1.0],[1023.7,1.0],[1023.8,1.0],[1024.1,0.0],[1024.3,0.0],[1024.7,0.0],[1025.1,0.0],[1025.2,0.0],[1025.1,0.0],[1025.3,0.0],[1025.7,0.0],[1026.0,0.0],[1026.3,1.0],[1026.6,1.0],[1026.7,1.0],[1026.4,1.0],[1026.0,1.0],[1025.7,1.0],[1025.6,1.0],[1025.6,1.0],[1025.8,1.0],[1025.8,1.0],[1026.0,1.0],[1026.2,1.0],[1025.5,0.0],[1025.4,0.0],[1025.2,0.0],[1025.0,0.0],[1025.0,0.0],[1024.8,0.0],[1024.8,0.0],[1024.7,0.0],[1025.2,1.0],[1025.2,1.0],[1024.6,1.0],[1024.0,1.0],[1023.5,1.0],[1023.4,1.0],[1023.2,1.0],[1023.5,1.0],[1023.5,1.0],[1022.1,1.0],[1021.8,0.0],[1021.8,0.0],[1021.6,0.0],[1021.3,0.0],[1021.1,0.0],[1020.9,0.0],[1021.1,0.0],[1021.5,0.0],[1021.8,0.0],[1021.9,1.0],[1021.3,1.0],[1020.8,0.0],[1020.6,0.0],[1020.6,0.0],[1020.6,0.0],[1020.7,0.0],[1021.1,1.0],[1021.3,1.0],[1021.5,1.0],[1021.3,1.0],[1021.1,1.0],[1021.3,0.0],[1021.3,0.0],[1021.3,0.0],[1021.4,0.0],[1021.4,0.0],[1021.6,0.0],[1022.0,0.0],[1022.4,0.0],[1023.0,1.0],[1022.7,1.0],[1022.2,1.0],[1022.3,1.0],[1022.3,1.0],[1022.4,1.0],[1022.4,1.0],[1022.6,1.0],[1022.5,1.0],[1022.3,1.0],[1022.3,1.0],[1021.7,1.0],[1021.4,0.0],[1021.4,0.0],[1021.0,0.0],[1020.7,0.0],[1020.5,0.0],[1020.4,0.0],[1020.5,0.0],[1020.5,1.0],[1020.4,1.0],[1020.1,1.0],[1019.5,1.0],[1018.8,1.0],[1018.1,1.0],[1017.8,1.0],[1017.7,1.0],[1017.7,1.0],[1017.8,1.0],[1017.5,1.0],[1017.3,1.0],[1016.5,0.0],[1016.2,0.0],[1016.2,0.0],[1015.9,0.0],[1015.7,0.0],[1015.6,0.0],[1015.7,0.0],[1015.8,0.0],[1015.7,1.0],[1015.5,1.0],[1015.0,1.0],[1014.6,1.0],[1014.6,1.0],[1014.7,1.0],[1014.8,1.0],[1015.1,1.0],[1015.3,1.0],[1015.3,1.0],[1015.2,1.0],[1015.2,1.0],[1015.1,1.0],[1015.0,0.0],[1014.8,0.0],[1014.9,0.0],[1014.8,0.0],[1014.5,0.0],[1014.5,0.0],[1014.7,0.0],[1015.2,0.0],[1015.6,1.0],[1015.6,1.0],[1015.6,1.0],[1014.9,1.0],[1014.1,1.0],[1013.5,1.0],[1013.1,1.0],[1012.9,1.0],[1013.1,1.0],[1013.2,1.0],[1013.6,1.0],[1013.6,1.0],[1013.6,1.0],[1013.4,1.0],[1013.1,1.0],[1013.2,0.0],[1013.0,0.0],[1012.8,0.0],[1012.6,0.0],[1012.3,0.0],[1012.3,0.0],[1012.3,0.0],[1012.7,0.0],[1013.1,0.0],[1013.6,1.0],[1013.9,1.0],[1013.6,1.0],[1013.5,1.0],[1013.6,1.0],[1013.9,1.0],[1013.8,1.0],[1015.1,0.0],[1015.1,0.0],[1015.2,0.0],[1015.4,0.0],[1015.2,0.0],[1015.4,0.0],[1015.8,0.0],[1016.3,0.0],[1016.4,1.0],[1016.2,1.0],[1015.8,1.0],[1015.3,1.0],[1014.8,1.0],[1014.6,1.0],[1014.5,0.0],[1014.4,1.0],[1014.3,1.0],[1014.4,1.0],[1014.1,1.0],[1014.2,0.0],[1013.7,0.0],[1013.5,0.0],[1013.6,0.0],[1013.5,0.0],[1013.4,0.0],[1013.5,0.0],[1013.9,0.0],[1014.7,0.0],[1015.4,0.0],[1015.9,0.0],[1016.3,0.0],[1016.6,1.0],[1016.9,1.0],[1017.3,1.0],[1018.1,1.0],[1019.1,1.0],[1019.8,1.0],[1020.7,1.0],[1021.5,1.0],[1022.2,1.0],[1022.9,1.0],[1023.4,1.0],[1023.9,1.0],[1024.3,0.0],[1024.4,0.0],[1024.5,0.0],[1024.6,0.0],[1024.8,0.0],[1025.0,0.0],[1024.9,0.0],[1025.2,0.0],[1025.7,0.0],[1025.9,1.0],[1026.0,1.0],[1026.2,1.0],[1026.0,1.0],[1025.7,1.0],[1025.5,1.0],[1025.5,1.0],[1025.5,1.0],[1025.5,1.0],[1025.7,1.0],[1025.7,1.0],[1025.6,1.0],[1025.3,0.0],[1025.2,0.0],[1025.1,0.0],[1025.0,0.0],[1024.7,0.0],[1024.4,0.0],[1024.3,0.0],[1023.9,0.0],[1023.7,0.0],[1023.5,0.0],[1023.5,0.0],[1023.5,0.0],[1023.6,1.0],[1023.5,1.0],[1023.2,1.0],[1022.7,1.0],[1022.2,1.0],[1021.7,1.0],[1021.5,1.0],[1021.4,1.0],[1020.2,1.0],[1019.7,1.0],[1019.1,1.0],[1018.5,1.0],[1018.1,1.0],[1017.8,1.0],[1017.5,1.0],[1017.6,1.0],[1017.8,1.0],[1017.0,0.0],[1016.7,0.0],[1016.6,0.0],[1016.4,0.0],[1015.9,0.0],[1015.5,0.0],[1015.3,0.0],[1015.5,0.0],[1015.6,0.0],[1015.7,1.0],[1015.8,1.0],[1015.9,1.0],[1015.5,1.0],[1015.0,1.0],[1014.5,1.0],[1014.5,1.0],[1014.6,1.0],[1014.8,1.0],[1014.8,1.0],[1015.0,1.0],[1016.0,0.0],[1016.1,0.0],[1016.1,0.0],[1016.3,0.0],[1016.0,0.0],[1015.7,0.0],[1015.8,0.0],[1016.1,0.0],[1016.5,0.0],[1016.6,1.0],[1016.9,1.0],[1016.8,1.0],[1016.7,1.0],[1016.2,0.0],[1015.8,1.0],[1015.6,1.0],[1015.5,1.0],[1015.5,1.0],[1015.5,1.0],[1015.7,1.0],[1015.7,1.0],[1015.5,1.0],[1015.3,1.0],[1015.4,1.0],[1015.3,0.0],[1015.2,0.0],[1015.1,0.0],[1015.1,0.0],[1015.0,0.0],[1014.4,0.0],[1014.3,0.0],[1014.5,0.0],[1014.7,0.0],[1014.7,0.0],[1014.7,1.0],[1014.6,1.0],[1014.2,1.0],[1013.7,1.0],[1013.2,1.0],[1013.3,1.0],[1013.4,1.0],[1013.3,1.0],[1013.1,1.0],[1013.1,1.0],[1013.2,1.0],[1013.0,1.0],[1012.9,1.0],[1012.8,0.0],[1012.7,0.0],[1012.2,0.0],[1011.7,0.0],[1011.8,0.0],[1011.4,0.0],[1010.6,0.0],[1010.1,0.0],[1009.9,0.0],[1009.6,0.0],[1009.3,0.0],[1009.1,0.0],[1009.7,0.0],[1009.2,0.0],[1009.0,0.0],[1008.8,0.0],[1009.0,0.0],[1009.0,0.0],[1009.3,0.0],[1009.6,1.0],[1010.2,0.0],[1010.5,0.0],[1011.1,0.0],[1010.8,0.0],[1010.4,0.0],[1011.5,0.0],[1010.8,0.0],[1010.7,0.0],[1010.8,0.0],[1010.7,0.0],[1010.8,0.0],[1011.1,0.0],[1011.7,1.0],[1011.8,1.0],[1012.2,1.0],[1012.1,1.0],[1011.9,1.0],[1011.7,1.0],[1011.5,1.0],[1011.8,1.0],[1011.8,1.0],[1011.8,1.0],[1011.9,1.0],[1011.5,1.0],[1010.8,1.0],[1009.8,1.0],[1009.1,1.0],[1008.7,1.0],[1008.1,0.0],[1008.0,0.0],[1008.2,0.0],[1008.1,0.0],[1008.2,0.0],[1008.3,0.0],[1008.4,0.0],[1008.2,0.0],[1008.3,1.0],[1008.6,1.0],[1008.7,1.0],[1008.8,1.0],[1008.3,1.0],[1007.8,1.0],[1007.8,1.0],[1007.5,1.0],[1007.4,1.0],[1007.6,1.0],[1008.1,1.0],[1008.5,1.0],[1008.8,1.0],[1009.3,1.0],[1009.6,1.0],[1009.7,1.0],[1009.9,0.0],[1010.2,0.0],[1010.8,0.0],[1011.1,0.0],[1011.4,0.0],[1011.5,0.0],[1011.9,0.0],[1012.3,0.0],[1012.6,1.0],[1012.9,1.0],[1013.0,1.0],[1012.7,1.0],[1012.2,1.0],[1011.4,1.0],[1011.2,1.0],[1011.3,1.0],[1011.5,1.0],[1011.5,1.0],[1011.7,1.0],[1011.9,1.0],[1012.0,1.0],[1012.3,0.0],[1012.6,0.0],[1012.8,0.0],[1012.8,0.0],[1013.1,0.0],[1013.5,0.0],[1013.8,0.0],[1014.1,0.0],[1014.4,0.0],[1014.9,0.0],[1015.4,0.0],[1016.1,0.0],[1016.5,1.0],[1016.8,1.0],[1016.5,1.0],[1015.8,1.0],[1015.6,1.0],[1015.8,1.0],[1016.3,1.0],[1016.3,1.0],[1016.5,1.0],[1016.9,1.0],[1016.9,0.0],[1016.9,0.0],[1017.0,0.0],[1017.1,0.0],[1017.4,0.0],[1017.2,0.0],[1017.0,0.0],[1016.9,0.0],[1016.7,0.0],[1016.3,0.0],[1015.9,0.0],[1015.9,0.0],[1016.3,0.0],[1016.5,0.0],[1016.5,1.0],[1016.7,1.0],[1015.5,1.0],[1014.9,0.0],[1014.6,0.0],[1014.4,1.0],[1014.0,0.0],[1013.6,0.0],[1013.6,1.0],[1014.0,0.0],[1014.0,0.0],[1014.0,0.0],[1014.1,0.0],[1013.8,0.0],[1013.6,0.0],[1013.6,0.0],[1013.7,0.0],[1013.6,0.0],[1013.5,0.0],[1013.6,0.0],[1013.7,0.0],[1014.1,0.0],[1014.4,0.0],[1015.1,0.0],[1015.3,0.0],[1015.3,0.0],[1015.2,1.0],[1015.1,1.0],[1015.0,1.0],[1015.1,1.0],[1015.6,0.0],[1015.7,0.0],[1015.9,0.0],[1016.4,0.0],[1016.6,0.0],[1016.8,0.0],[1017.1,0.0],[1017.0,0.0],[1016.0,0.0],[1016.3,0.0],[1016.7,0.0],[1017.1,0.0],[1017.0,0.0],[1016.8,0.0],[1016.6,0.0],[1016.1,0.0],[1015.7,0.0],[1015.5,0.0],[1015.3,0.0],[1015.1,0.0],[1015.3,0.0],[1015.5,0.0],[1015.8,0.0],[1016.0,0.0],[1016.1,0.0],[1016.2,0.0],[1016.2,0.0],[1016.3,0.0],[1016.2,0.0],[1016.2,0.0],[1016.2,0.0],[1016.3,0.0],[1016.5,0.0],[1016.9,0.0],[1017.4,0.0],[1018.0,0.0],[1018.4,1.0],[1018.9,1.0],[1018.8,1.0],[1018.6,1.0],[1018.5,1.0],[1018.5,1.0],[1018.5,1.0],[1019.7,1.0],[1020.4,1.0],[1021.0,0.0],[1021.4,0.0],[1021.5,1.0],[1021.5,1.0],[1021.4,0.0],[1021.2,0.0],[1021.0,0.0],[1021.0,0.0],[1020.8,0.0],[1021.2,0.0],[1021.6,0.0],[1021.9,0.0],[1022.3,0.0],[1022.2,0.0],[1022.3,1.0],[1022.0,1.0],[1021.5,1.0],[1020.9,1.0],[1020.5,1.0],[1021.1,1.0],[1021.4,1.0],[1021.5,0.0],[1021.8,0.0],[1021.6,0.0],[1021.4,1.0],[1021.5,0.0],[1021.6,0.0],[1021.5,0.0],[1021.2,0.0],[1020.8,0.0],[1020.6,0.0],[1020.6,0.0],[1020.7,0.0],[1020.7,0.0],[1021.1,0.0],[1021.0,1.0],[1020.7,1.0],[1020.3,1.0],[1019.8,1.0],[1019.6,1.0],[1019.5,1.0],[1019.3,1.0],[1019.0,1.0],[1018.9,1.0],[1019.4,1.0],[1019.6,1.0],[1019.7,0.0],[1019.5,0.0],[1019.3,0.0],[1019.1,0.0],[1018.8,0.0],[1018.9,0.0],[1019.2,0.0],[1019.1,0.0],[1018.8,0.0],[1018.7,0.0],[1019.0,0.0],[1018.7,0.0],[1018.6,0.0],[1018.6,1.0],[1018.7,1.0],[1018.4,1.0],[1018.0,1.0],[1018.0,1.0],[1017.4,1.0],[1017.2,1.0],[1017.5,1.0],[1017.7,1.0],[1017.8,1.0],[1017.9,0.0],[1018.1,0.0],[1018.3,0.0],[1018.5,0.0],[1018.7,0.0],[1018.5,0.0],[1018.5,0.0],[1018.5,0.0],[1018.1,0.0],[1017.9,0.0],[1018.1,0.0],[1018.5,0.0],[1019.4,0.0],[1020.2,0.0],[1020.6,1.0],[1020.7,1.0],[1020.6,1.0],[1020.6,0.0],[1020.7,1.0],[1020.8,1.0],[1020.9,1.0],[1022.2,0.0],[1022.7,0.0],[1023.4,0.0],[1023.6,0.0],[1023.7,0.0],[1023.7,0.0],[1023.3,0.0],[1023.4,0.0],[1023.2,0.0],[1022.6,0.0],[1022.7,0.0],[1022.8,0.0],[1022.9,0.0],[1023.2,0.0],[1023.0,0.0],[1023.2,1.0],[1022.8,1.0],[1022.2,1.0],[1021.6,1.0],[1020.9,1.0],[1020.8,1.0],[1020.8,1.0],[1020.5,1.0],[1021.0,1.0],[1021.1,1.0],[1021.4,0.0],[1021.1,0.0],[1020.8,0.0],[1020.6,0.0],[1020.7,0.0],[1020.4,0.0],[1019.9,0.0],[1019.6,0.0],[1019.8,0.0],[1019.7,0.0],[1019.9,0.0],[1020.2,0.0],[1020.2,0.0],[1020.1,0.0],[1020.0,0.0],[1019.7,0.0],[1019.0,0.0],[1018.3,0.0],[1017.8,0.0],[1017.6,0.0],[1017.3,0.0],[1017.4,0.0],[1018.0,0.0],[1018.2,0.0],[1018.3,0.0],[1018.5,0.0],[1018.5,0.0],[1018.4,0.0],[1018.6,0.0],[1018.6,0.0],[1018.6,0.0],[1018.7,0.0],[1019.1,0.0],[1019.6,0.0],[1019.9,0.0],[1020.3,0.0],[1020.7,0.0],[1020.7,1.0],[1020.9,1.0],[1020.6,1.0],[1020.1,1.0],[1019.6,1.0],[1019.2,1.0],[1019.0,1.0],[1019.0,1.0],[1019.0,1.0],[1019.3,1.0],[1019.6,1.0],[1019.7,1.0],[1019.4,1.0],[1019.3,0.0],[1019.2,0.0],[1019.2,0.0],[1019.1,0.0],[1019.1,0.0],[1018.9,0.0],[1018.8,0.0],[1019.0,0.0],[1019.0,0.0],[1019.0,0.0],[1019.1,1.0],[1018.7,1.0],[1017.8,1.0],[1017.2,1.0],[1016.7,1.0],[1016.2,1.0],[1015.8,1.0],[1015.3,0.0],[1015.1,0.0],[1015.0,0.0],[1014.6,0.0],[1013.9,0.0],[1013.7,0.0],[1013.2,0.0],[1012.7,0.0],[1012.4,0.0],[1012.2,0.0],[1012.2,0.0],[1012.6,0.0],[1013.1,0.0],[1014.2,0.0],[1014.9,0.0],[1015.1,0.0],[1015.4,1.0],[1015.4,1.0],[1015.2,1.0],[1015.2,1.0],[1015.0,1.0],[1015.1,1.0],[1015.2,1.0],[1015.3,0.0],[1015.8,0.0],[1016.0,0.0],[1016.0,0.0],[1016.0,0.0],[1016.3,0.0],[1016.2,0.0],[1016.3,0.0],[1016.3,0.0],[1016.3,0.0],[1016.3,0.0],[1016.5,0.0],[1016.5,0.0],[1016.6,0.0],[1017.0,0.0],[1017.5,0.0],[1017.8,1.0],[1018.3,1.0],[1018.4,1.0],[1018.1,1.0],[1017.9,1.0],[1017.8,1.0],[1017.9,1.0],[1020.8,1.0],[1021.0,0.0],[1020.9,0.0],[1021.0,0.0],[1021.1,0.0],[1021.0,0.0],[1020.8,0.0],[1020.5,0.0],[1020.6,0.0],[1020.6,0.0],[1020.6,1.0],[1020.4,1.0],[1020.1,1.0],[1019.4,1.0],[1018.6,1.0],[1017.9,1.0],[1017.1,1.0],[1016.3,1.0],[1015.7,1.0],[1015.3,1.0],[1015.0,1.0],[1014.5,1.0],[1013.9,1.0],[1012.7,1.0],[1012.1,0.0],[1011.8,0.0],[1011.5,0.0],[1011.0,0.0],[1010.3,0.0],[1009.4,0.0],[1009.1,0.0],[1009.0,1.0],[1008.6,1.0],[1008.2,1.0],[1007.2,1.0],[1006.6,1.0],[1005.8,1.0],[1005.7,1.0],[1005.7,1.0],[1006.1,1.0],[1006.6,1.0],[1007.6,0.0],[1008.6,0.0],[1009.7,0.0],[1010.8,1.0],[1012.3,0.0],[1013.2,0.0],[1013.7,0.0],[1014.4,0.0],[1014.9,0.0],[1015.3,0.0],[1016.5,0.0],[1016.9,0.0],[1016.9,0.0],[1016.9,0.0],[1016.8,0.0],[1016.3,0.0],[1015.7,0.0],[1015.3,0.0],[1015.1,0.0],[1015.0,0.0],[1014.9,0.0],[1015.2,1.0],[1015.1,1.0],[1014.8,1.0],[1014.8,0.0],[1014.4,0.0],[1014.0,0.0],[1013.5,0.0],[1013.4,0.0],[1012.9,0.0],[1012.4,0.0],[1012.0,0.0],[1011.7,0.0],[1011.6,0.0],[1011.5,0.0],[1010.9,1.0],[1010.8,1.0],[1010.5,1.0],[1009.6,1.0],[1008.8,1.0],[1008.2,1.0],[1008.0,1.0],[1008.1,1.0],[1008.0,1.0],[1008.5,1.0],[1008.7,1.0],[1008.9,0.0],[1008.6,0.0],[1008.4,0.0],[1007.8,0.0],[1007.7,0.0],[1007.8,0.0],[1008.1,0.0],[1008.6,0.0],[1009.0,0.0],[1009.0,1.0],[1009.0,1.0],[1009.4,1.0],[1009.2,1.0],[1009.0,1.0],[1009.0,1.0],[1009.3,1.0],[1009.7,1.0],[1010.4,1.0],[1010.7,1.0],[1011.0,1.0],[1011.0,1.0],[1011.7,1.0],[1012.1,0.0],[1012.0,0.0],[1012.2,0.0],[1012.4,0.0],[1012.4,0.0],[1012.7,0.0],[1013.0,0.0],[1013.3,0.0],[1013.9,0.0],[1014.6,0.0],[1015.0,0.0],[1015.2,1.0],[1015.1,1.0],[1015.4,1.0],[1015.2,0.0],[1015.1,1.0],[1015.3,1.0],[1015.3,1.0],[1015.6,1.0],[1016.0,1.0],[1016.5,1.0],[1016.5,1.0],[1016.4,0.0],[1016.2,0.0],[1016.0,0.0],[1016.0,0.0],[1015.8,0.0],[1015.9,0.0],[1015.8,0.0],[1015.5,0.0],[1015.4,0.0],[1015.1,0.0],[1014.7,0.0],[1014.9,0.0],[1015.0,0.0],[1014.8,1.0],[1015.0,1.0],[1015.1,1.0],[1014.9,0.0],[1014.4,1.0],[1013.8,1.0],[1013.4,1.0],[1013.1,1.0],[1013.2,1.0],[1013.1,1.0],[1013.5,1.0],[1013.3,1.0],[1013.7,1.0],[1013.7,0.0],[1013.6,0.0],[1013.5,0.0],[1013.3,0.0],[1013.1,0.0],[1012.7,0.0],[1012.7,0.0],[1012.7,0.0],[1012.5,0.0],[1012.3,0.0],[1012.1,0.0],[1011.9,0.0],[1010.2,0.0],[1009.3,1.0],[1008.7,0.0],[1008.0,0.0],[1007.2,0.0],[1006.7,0.0],[1005.0,0.0],[1004.3,0.0],[1003.3,0.0],[1002.0,0.0],[1000.9,0.0],[999.94,0.0],[999.29,0.0],[998.45,0.0],[997.85,0.0],[997.85,0.0],[998.5,0.0],[998.1,0.0],[998.01,0.0],[997.43,0.0],[997.47,0.0],[997.41,1.0],[997.57,0.0],[998.44,0.0],[999.11,0.0],[999.52,0.0],[1000.3,0.0],[1000.8,0.0],[1002.4,0.0],[1002.8,0.0],[1003.1,0.0],[1003.7,0.0],[1004.4,0.0],[1005.0,0.0],[1005.7,0.0],[1006.7,0.0],[1007.3,0.0],[1008.1,0.0],[1008.7,0.0],[1009.1,0.0],[1009.6,0.0],[1010.1,0.0],[1010.7,0.0],[1011.3,0.0],[1011.9,0.0],[1012.7,0.0],[1013.2,0.0],[1013.3,0.0],[1013.7,0.0],[1013.8,0.0],[1013.8,0.0],[1013.7,0.0],[1013.7,0.0],[1013.6,0.0],[1013.6,0.0],[1013.8,0.0],[1013.8,0.0],[1013.9,0.0],[1014.3,0.0],[1014.6,0.0],[1014.4,1.0],[1014.1,1.0],[1013.8,1.0],[1013.4,1.0],[1013.1,1.0],[1013.0,1.0],[1012.7,1.0],[1012.6,1.0],[1012.8,1.0],[1013.0,1.0],[1012.8,1.0],[1012.6,0.0],[1012.4,0.0],[1011.9,0.0],[1011.7,0.0],[1011.5,0.0],[1010.9,0.0],[1010.6,0.0],[1009.9,0.0],[1009.5,0.0],[1009.0,0.0],[1008.5,0.0],[1008.2,0.0],[1007.8,0.0],[1007.2,0.0],[1006.8,1.0],[1006.5,1.0],[1005.9,1.0],[1005.7,1.0],[1005.3,1.0],[1005.1,1.0],[1005.5,1.0],[1005.9,1.0],[1006.3,1.0],[1006.7,0.0],[1006.9,0.0],[1007.1,0.0],[1007.3,0.0],[1007.6,0.0],[1007.6,0.0],[1007.5,0.0],[1007.8,0.0],[1007.7,0.0],[1007.6,0.0],[1007.5,0.0],[1007.5,0.0],[1008.0,0.0],[1008.1,0.0],[1008.6,1.0],[1009.2,1.0],[1009.8,1.0],[1010.3,1.0],[1010.7,1.0],[1011.1,1.0],[1011.4,1.0],[1011.6,0.0],[1011.7,0.0],[1012.0,0.0],[1011.9,0.0],[1012.4,0.0],[1012.8,0.0],[1013.2,0.0],[1013.5,1.0],[1013.2,1.0],[1013.2,1.0],[1013.2,1.0],[1013.3,1.0],[1013.6,1.0],[1013.6,1.0],[1013.7,0.0],[1012.7,0.0],[1012.7,0.0],[1012.5,0.0],[1012.3,0.0],[1011.9,0.0],[1011.9,0.0],[1012.2,0.0],[1012.7,1.0],[1012.5,1.0],[1011.0,1.0],[1011.1,1.0],[1013.9,1.0],[1014.5,0.0],[1014.9,0.0],[1015.3,0.0],[1015.5,0.0],[1015.8,0.0],[1016.3,0.0],[1016.5,0.0],[1016.6,0.0],[1016.9,0.0],[1017.1,0.0],[1017.0,1.0],[1017.0,1.0],[1017.5,1.0],[1017.4,1.0],[1016.6,1.0],[1016.8,1.0],[1016.9,1.0],[1017.2,1.0],[1017.5,1.0],[1017.7,1.0],[1017.8,1.0],[1018.0,0.0],[1017.7,0.0],[1017.4,0.0],[1017.0,0.0],[1016.6,0.0],[1016.3,0.0],[1015.9,0.0],[1015.8,0.0],[1016.3,0.0],[1016.6,0.0],[1016.5,0.0],[1016.4,0.0],[1016.2,0.0],[1015.8,0.0],[1015.4,0.0],[1015.2,0.0],[1015.4,0.0],[1015.6,0.0],[1015.8,0.0],[1015.9,0.0],[1016.4,0.0],[1016.4,0.0],[1016.7,0.0],[1016.6,0.0],[1016.8,0.0],[1018.4,0.0],[1019.1,1.0],[1019.2,1.0],[1020.4,1.0],[1020.3,1.0],[1020.1,1.0],[1020.4,1.0],[1020.6,1.0],[1021.0,1.0],[1021.5,1.0],[1021.8,1.0],[1022.3,1.0],[1022.7,1.0],[1023.1,0.0],[1023.2,0.0],[1023.2,0.0],[1023.2,0.0],[1023.5,0.0],[1023.5,0.0],[1023.4,0.0],[1023.5,0.0],[1023.9,0.0],[1024.4,0.0],[1024.7,0.0],[1024.9,1.0],[1025.1,1.0],[1025.5,1.0],[1025.6,1.0],[1025.4,1.0],[1025.4,1.0],[1025.5,1.0],[1025.8,1.0],[1026.3,1.0],[1026.2,1.0],[1026.7,1.0],[1027.0,1.0],[1027.2,1.0],[1027.1,1.0],[1027.1,0.0],[1027.4,0.0],[1027.6,0.0],[1027.6,0.0],[1027.5,0.0],[1027.5,0.0],[1027.6,0.0],[1027.8,0.0],[1028.1,0.0],[1028.5,0.0],[1028.9,1.0],[1029.0,1.0],[1029.4,1.0],[1029.7,1.0],[1029.4,1.0],[1028.7,1.0],[1028.3,1.0],[1028.2,1.0],[1028.9,1.0],[1029.3,1.0],[1029.5,1.0],[1029.7,1.0],[1029.5,0.0],[1029.3,0.0],[1029.2,0.0],[1028.9,0.0],[1029.0,0.0],[1029.0,0.0],[1028.5,0.0],[1028.2,0.0],[1028.1,0.0],[1028.2,0.0],[1028.2,0.0],[1028.2,1.0],[1028.0,1.0],[1028.0,1.0],[1028.1,1.0],[1027.5,1.0],[1026.7,1.0],[1026.2,1.0],[1026.2,1.0],[1026.5,1.0],[1026.6,1.0],[1026.4,1.0],[1026.8,1.0],[1026.9,0.0],[1026.7,0.0],[1026.9,0.0],[1026.9,0.0],[1027.1,0.0],[1027.1,0.0],[1026.9,0.0],[1027.3,0.0],[1027.7,0.0],[1027.9,0.0],[1028.1,0.0],[1028.4,0.0],[1028.5,1.0],[1028.3,1.0],[1028.1,1.0],[1027.9,1.0],[1027.7,1.0],[1027.6,1.0],[1027.0,1.0],[1016.1,1.0],[1016.1,1.0],[1016.5,1.0],[1016.7,1.0],[1016.7,1.0],[1016.9,1.0],[1017.1,1.0],[1016.9,0.0],[1016.7,0.0],[1016.7,0.0],[1016.7,0.0],[1016.8,0.0],[1017.0,0.0],[1017.6,1.0],[1018.0,1.0],[1018.0,1.0],[1017.5,1.0],[1017.5,1.0],[1017.6,1.0],[1017.8,1.0],[1017.9,1.0],[1017.9,1.0],[1017.9,0.0],[1017.7,0.0],[1017.5,0.0],[1017.5,0.0],[1017.5,0.0],[1017.6,0.0],[1017.8,0.0],[1018.0,0.0],[1018.4,0.0],[1018.9,0.0],[1019.3,0.0],[1019.7,1.0],[1019.9,1.0],[1019.9,1.0],[1019.7,1.0],[1019.2,1.0],[1019.7,1.0],[1020.1,1.0],[1020.6,0.0],[1021.0,0.0],[1021.0,1.0],[1021.1,0.0],[1021.5,0.0],[1021.6,0.0],[1021.5,0.0],[1021.4,0.0],[1021.5,0.0],[1022.0,0.0],[1022.4,0.0],[1023.1,0.0],[1023.6,0.0],[1023.9,0.0],[1024.0,1.0],[1024.2,1.0],[1024.2,1.0],[1023.7,1.0],[1023.4,1.0],[1023.2,1.0],[1023.1,1.0],[1023.1,1.0],[1023.4,1.0],[1023.6,1.0],[1024.1,1.0],[1024.4,1.0],[1024.6,1.0],[1024.6,0.0],[1024.4,0.0],[1024.0,0.0],[1023.5,0.0],[1023.4,0.0],[1023.6,0.0],[1024.0,0.0],[1024.3,0.0],[1024.7,0.0],[1024.9,0.0],[1024.7,0.0],[1024.7,0.0],[1024.4,0.0],[1024.0,0.0],[1023.6,0.0],[1023.6,0.0],[1023.4,0.0],[1023.2,0.0],[1023.4,0.0],[1023.4,1.0],[1023.2,0.0],[1023.3,0.0],[1023.0,0.0],[1022.9,0.0],[1022.7,0.0],[1022.8,0.0],[1022.7,0.0],[1022.7,0.0],[1022.9,0.0],[1023.0,0.0],[1023.3,0.0],[1023.6,0.0],[1023.9,0.0],[1024.1,1.0],[1023.9,1.0],[1023.8,0.0],[1023.5,1.0],[1023.0,1.0],[1022.6,1.0],[1022.3,1.0],[1022.2,1.0],[1022.2,1.0],[1022.5,1.0],[1022.6,1.0],[1022.4,0.0],[1022.4,0.0],[1022.3,0.0],[1021.8,0.0],[1022.0,0.0],[1022.1,0.0],[1022.1,0.0],[1021.9,0.0],[1022.1,0.0],[1022.2,0.0],[1022.4,0.0],[1022.8,0.0],[1023.2,0.0],[1023.1,1.0],[1022.9,1.0],[1022.6,1.0],[1022.4,1.0],[1021.7,0.0],[1021.2,1.0],[1020.5,1.0],[1020.2,1.0],[1020.2,1.0],[1020.4,1.0],[1020.8,0.0],[1021.1,0.0],[1021.4,0.0],[1021.6,0.0],[1021.5,0.0],[1021.6,0.0],[1021.4,0.0],[1020.9,0.0],[1020.7,0.0],[1021.0,0.0],[1020.9,0.0],[1020.8,0.0],[1021.0,0.0],[1021.3,0.0],[1021.4,1.0],[1020.6,1.0],[1020.2,1.0],[1019.7,1.0],[1018.9,1.0],[1018.4,1.0],[1018.1,1.0],[1018.0,1.0],[1017.9,0.0],[1018.1,0.0],[1018.3,1.0],[1018.4,0.0],[1018.5,0.0],[1018.5,1.0],[1018.5,0.0],[1018.2,1.0],[1017.8,0.0],[1017.3,0.0],[1016.6,0.0],[1016.2,0.0],[1016.1,0.0],[1016.2,0.0],[1016.0,0.0],[1016.4,0.0],[1016.5,0.0],[1016.6,1.0],[1016.5,1.0],[1016.0,1.0],[1015.2,1.0],[1014.9,1.0],[1014.6,1.0],[1014.4,1.0],[1014.3,0.0],[1014.6,0.0],[1014.7,0.0],[1014.4,0.0],[1014.0,0.0],[1014.2,0.0],[1014.3,0.0],[1014.2,0.0],[1014.1,0.0],[1013.7,0.0],[1013.4,0.0],[1013.2,0.0],[1012.8,0.0],[1013.2,0.0],[1013.0,0.0],[1013.1,0.0],[1013.4,1.0],[1013.0,1.0],[1012.8,1.0],[1012.4,1.0],[1011.8,1.0],[1011.2,1.0],[1011.0,1.0],[1010.9,1.0],[1010.8,1.0],[1010.6,0.0],[1010.8,0.0],[1010.8,0.0],[1010.8,0.0],[1011.1,0.0],[1011.2,0.0],[1011.2,0.0],[1011.2,0.0],[1011.2,0.0],[1011.2,0.0],[1011.0,0.0],[1011.3,0.0],[1011.8,0.0],[1012.3,0.0],[1012.7,0.0],[1013.2,0.0],[1013.5,0.0],[1013.6,1.0],[1013.7,1.0],[1013.6,1.0],[1013.6,1.0],[1013.5,1.0],[1013.4,0.0],[1013.8,0.0],[1014.0,0.0],[1014.5,0.0],[1015.0,0.0],[1015.3,0.0],[1015.4,0.0],[1015.6,0.0],[1015.3,0.0],[1015.3,0.0],[1015.3,0.0],[1015.3,0.0],[1015.5,0.0],[1015.5,0.0],[1015.7,0.0],[1016.0,0.0],[1016.4,0.0],[1016.5,0.0],[1016.4,0.0],[1016.4,0.0],[1016.3,0.0],[1016.3,0.0],[1016.3,0.0],[1016.3,0.0],[1016.4,0.0],[1016.7,0.0],[1017.0,0.0],[1017.4,0.0],[1017.9,0.0],[1018.2,0.0],[1018.3,0.0],[1018.5,0.0],[1018.8,0.0],[1018.9,0.0],[1018.8,0.0],[1018.9,0.0],[1019.0,0.0],[1019.7,0.0],[1020.1,0.0],[1020.5,0.0],[1020.9,0.0],[1021.1,1.0],[1021.4,1.0],[1021.7,1.0],[1022.1,1.0],[1022.0,1.0],[1022.1,1.0],[1022.6,1.0],[1023.2,1.0],[1023.6,1.0],[1024.2,1.0],[1025.1,1.0],[1025.5,1.0],[1025.6,1.0],[1025.7,0.0],[1025.7,0.0],[1025.7,0.0],[1025.6,0.0],[1025.4,0.0],[1025.5,0.0],[1025.8,0.0],[1026.1,0.0],[1026.4,0.0],[1026.7,0.0],[1027.0,0.0],[1027.6,1.0],[1027.8,1.0],[1027.9,1.0],[1027.9,1.0],[1027.7,1.0],[1027.4,1.0],[1027.1,1.0],[1027.1,1.0],[1026.9,1.0],[1027.1,1.0],[1027.3,0.0],[1027.4,0.0],[1027.3,0.0],[1027.1,0.0],[1026.7,0.0],[1026.4,0.0],[1026.2,0.0],[1025.9,0.0],[1025.5,0.0],[1025.3,0.0],[1025.2,0.0],[1025.2,0.0],[1025.2,0.0],[1025.4,0.0],[1025.2,1.0],[1024.9,1.0],[1024.4,1.0],[1023.8,0.0],[1023.3,1.0],[1022.5,1.0],[1021.9,1.0],[1021.4,1.0],[1021.2,1.0],[1021.5,1.0],[1021.9,1.0],[1022.1,1.0],[1022.6,0.0],[1022.7,0.0],[1022.5,0.0],[1022.1,0.0],[1021.9,0.0],[1021.7,0.0],[1021.5,0.0],[1021.3,0.0],[1021.6,0.0],[1021.9,0.0],[1022.1,0.0],[1022.4,0.0],[1022.5,1.0],[1022.6,1.0],[1022.4,1.0],[1022.0,0.0],[1021.7,0.0],[1021.4,0.0],[1021.2,0.0],[1021.0,0.0],[1020.7,0.0],[1020.7,0.0],[1020.9,0.0],[1021.1,0.0],[1021.2,0.0],[1021.2,0.0],[1021.3,0.0],[1021.2,0.0],[1020.9,0.0],[1020.7,0.0],[1020.7,0.0],[1020.7,0.0],[1020.8,0.0],[1021.4,0.0],[1021.8,0.0],[1022.3,0.0],[1022.6,1.0],[1022.4,1.0],[1022.0,1.0],[1021.7,0.0],[1021.0,0.0],[1020.2,0.0],[1019.7,0.0],[1019.1,0.0],[1018.5,0.0],[1018.0,0.0],[1017.8,0.0],[1017.8,0.0],[1017.6,0.0],[1017.2,0.0],[1016.7,0.0],[1016.1,0.0],[1015.9,0.0],[1014.8,0.0],[1015.1,0.0],[1015.1,0.0],[1015.0,0.0],[1014.9,0.0],[1014.4,0.0],[1014.0,0.0],[1013.4,0.0],[1012.6,0.0],[1011.9,0.0],[1011.6,0.0],[1011.7,0.0],[1012.1,0.0],[1012.5,0.0],[1012.9,0.0],[1012.6,0.0],[1013.0,0.0],[1013.2,0.0],[1013.3,0.0],[1013.4,0.0],[1013.3,0.0],[1013.5,0.0],[1013.7,0.0],[1013.7,0.0],[1013.8,0.0],[1013.8,0.0],[1014.2,0.0],[1014.3,0.0],[1014.3,0.0],[1014.1,0.0],[1013.6,0.0],[1013.1,0.0],[1013.4,0.0],[1013.6,0.0],[1014.0,0.0],[1014.3,0.0],[1015.4,0.0],[1016.1,0.0],[1016.6,1.0],[1016.8,1.0],[1016.9,0.0],[1016.9,0.0],[1016.9,0.0],[1016.9,0.0],[1016.8,0.0],[1016.8,0.0],[1016.9,0.0],[1017.1,0.0],[1017.5,0.0],[1017.8,0.0],[1018.0,1.0],[1018.2,1.0],[1018.1,1.0],[1017.7,0.0],[1017.3,0.0],[1016.4,0.0],[1015.6,0.0],[1015.1,0.0],[1014.8,0.0],[1014.5,0.0],[1014.5,0.0],[1014.9,0.0],[1015.3,0.0],[1015.2,0.0],[1014.9,0.0],[1014.8,0.0],[1014.7,0.0],[1014.5,0.0],[1014.1,0.0],[1013.6,0.0],[1013.6,0.0],[1013.6,0.0],[1013.7,0.0],[1013.8,1.0],[1014.0,1.0],[1014.0,1.0],[1013.9,1.0],[1013.7,1.0],[1013.5,1.0],[1013.2,1.0],[1012.7,1.0],[1012.2,1.0],[1011.8,1.0],[1012.0,1.0],[1012.6,1.0],[1012.8,1.0],[1012.8,1.0],[1013.0,1.0],[1013.2,0.0],[1012.9,0.0],[1012.8,0.0],[1012.6,0.0],[1012.8,0.0],[1012.4,0.0],[1012.3,0.0],[1012.6,0.0],[1013.1,0.0],[1013.6,0.0],[1014.2,0.0],[1014.6,0.0],[1014.8,0.0],[1014.8,0.0],[1014.7,0.0],[1014.3,0.0],[1013.9,0.0],[1013.8,0.0],[1014.1,0.0],[1014.5,0.0],[1014.9,0.0],[1015.5,0.0],[1016.1,0.0],[1016.4,0.0],[1016.7,0.0],[1016.8,0.0],[1016.5,0.0],[1016.4,0.0],[1016.3,0.0],[1016.4,0.0],[1016.7,0.0],[1017.3,0.0],[1017.6,0.0],[1018.1,1.0],[1018.5,1.0],[1018.9,1.0],[1019.1,1.0],[1018.9,1.0],[1018.5,0.0],[1018.0,0.0],[1017.5,0.0],[1017.8,0.0],[1018.0,1.0],[1018.6,1.0],[1019.2,1.0],[1019.8,0.0],[1020.2,1.0],[1020.6,0.0],[1020.3,0.0],[1019.9,0.0],[1019.6,0.0],[1019.5,0.0],[1019.1,0.0],[1018.9,0.0],[1018.9,0.0],[1019.5,0.0],[1019.8,0.0],[1020.2,0.0],[1020.4,1.0],[1020.7,0.0],[1020.5,1.0],[1019.7,0.0],[1019.0,0.0],[1018.3,1.0],[1017.9,1.0],[1017.2,1.0],[1017.0,1.0],[1016.8,1.0],[1016.6,1.0],[1016.6,1.0],[1016.8,0.0],[1016.9,0.0],[1016.8,0.0],[1016.2,0.0],[1015.6,0.0],[1014.0,0.0],[1013.4,0.0],[1012.8,0.0],[1012.6,0.0],[1012.2,0.0],[1012.1,0.0],[1011.8,0.0],[1011.0,0.0],[1010.6,0.0],[1010.2,1.0],[1010.3,0.0],[1010.8,0.0],[1010.4,0.0],[1009.6,0.0],[1009.0,0.0],[1008.8,0.0],[1009.2,0.0],[1009.6,0.0],[1009.7,0.0],[1009.8,1.0],[1009.7,0.0],[1009.4,0.0],[1008.9,1.0],[1008.5,0.0],[1007.8,0.0],[1007.5,0.0],[1007.1,0.0],[1007.0,0.0],[1006.9,0.0],[1007.1,0.0],[1007.3,0.0],[1007.5,0.0],[1007.8,0.0],[1008.2,1.0],[1008.4,1.0],[1008.5,0.0],[1008.7,0.0],[1008.8,0.0],[1009.0,0.0],[1009.4,0.0],[1009.8,0.0],[1010.2,1.0],[1010.9,1.0],[1011.3,0.0],[1011.3,1.0],[1011.3,0.0],[1011.3,0.0],[1011.0,0.0],[1011.0,0.0],[1011.2,0.0],[1011.2,0.0],[1011.2,0.0],[1011.4,0.0],[1011.9,0.0],[1012.4,0.0],[1012.5,1.0],[1012.9,1.0],[1013.2,1.0],[1013.3,1.0],[1013.4,1.0],[1013.1,1.0],[1012.8,1.0],[1012.7,1.0],[1012.6,1.0],[1012.7,1.0],[1013.1,1.0],[1013.6,1.0],[1013.8,0.0],[1013.9,0.0],[1013.7,0.0],[1013.7,0.0],[1013.7,0.0],[1013.3,0.0],[1013.0,0.0],[1013.1,0.0],[1013.1,0.0],[1013.4,0.0],[1013.8,0.0],[1014.2,0.0],[1014.5,0.0],[1014.8,1.0],[1014.8,1.0],[1014.8,1.0],[1014.5,1.0],[1014.4,1.0],[1014.4,1.0],[1014.4,1.0],[1014.6,1.0],[1014.7,0.0],[1014.7,0.0],[1014.9,0.0],[1015.2,0.0],[1015.4,0.0],[1015.6,0.0],[1015.6,0.0],[1015.7,0.0],[1015.7,0.0],[1015.8,0.0],[1015.6,0.0],[1015.7,0.0],[1016.1,0.0],[1016.3,0.0],[1016.7,0.0],[1016.9,1.0],[1017.0,1.0],[1017.1,1.0],[1017.0,1.0],[1016.8,1.0],[1016.1,1.0],[1016.5,1.0],[1016.7,1.0],[1017.3,1.0],[1017.6,0.0],[1017.5,0.0],[1017.5,0.0],[1017.6,0.0],[1017.6,0.0],[1017.4,0.0],[1017.2,0.0],[1017.0,0.0],[1016.8,0.0],[1016.5,0.0],[1016.7,0.0],[1017.1,0.0],[1017.4,1.0],[1017.3,1.0],[1017.0,1.0],[1016.6,1.0],[1016.0,1.0],[1015.4,1.0],[1014.7,1.0],[1014.1,1.0],[1013.6,0.0],[1012.7,0.0],[1012.3,0.0],[1012.1,0.0],[1011.8,0.0],[1011.4,0.0],[1011.0,0.0],[1010.4,0.0],[1009.5,0.0],[1008.8,0.0],[1008.3,0.0],[1007.3,0.0],[1006.9,0.0],[1006.9,0.0],[1006.0,0.0],[1005.7,0.0],[1005.4,0.0],[1004.9,0.0],[1004.1,0.0],[1003.5,0.0],[1002.6,0.0],[1002.1,1.0],[1002.1,1.0],[1003.0,1.0],[1005.1,1.0],[1006.1,1.0],[1008.1,0.0],[1008.6,0.0],[1008.8,0.0],[1008.4,0.0],[1007.8,0.0],[1007.2,0.0],[1006.4,0.0],[1005.4,0.0],[1004.4,0.0],[1003.7,0.0],[1003.3,0.0],[1003.2,0.0],[1003.2,0.0],[1003.2,1.0],[1002.8,1.0],[1002.3,0.0],[1001.4,0.0],[1000.9,0.0],[1000.6,0.0],[1000.4,0.0],[1000.6,0.0],[1002.9,0.0],[1003.1,0.0],[1005.5,0.0],[1005.7,0.0],[1005.8,0.0],[1005.9,0.0],[1005.5,0.0],[1005.1,0.0],[1005.2,0.0],[1005.4,0.0],[1005.8,0.0],[1006.3,0.0],[1006.9,0.0],[1007.6,0.0],[1008.5,0.0],[1008.5,0.0],[1008.1,0.0],[1007.9,0.0],[1007.7,0.0],[1008.0,0.0],[1008.4,0.0],[1008.7,0.0],[1009.0,0.0],[1008.9,0.0],[1008.7,0.0],[1008.8,0.0],[1008.6,0.0],[1007.9,0.0],[1007.3,0.0],[1007.1,0.0],[1007.2,0.0],[1007.5,0.0],[1007.8,0.0],[1008.5,1.0],[1009.2,1.0],[1009.8,1.0],[1010.2,1.0],[1010.5,1.0],[1010.7,1.0],[1010.8,1.0],[1011.0,1.0],[1011.3,1.0],[1011.8,1.0],[1012.3,1.0],[1013.0,1.0],[1013.7,1.0],[1013.5,1.0],[1013.4,1.0],[1013.4,0.0],[1013.2,0.0],[1008.1,1.0],[1008.0,1.0],[1007.6,1.0],[1007.0,1.0],[1006.2,1.0],[1005.7,1.0],[1005.4,0.0],[1005.0,0.0],[1004.9,0.0],[1004.7,0.0],[1004.1,0.0],[1003.8,0.0],[1003.7,0.0],[1003.4,0.0],[999.36,0.0],[998.32,0.0],[997.39,1.0],[998.94,1.0],[1000.6,1.0],[1000.9,1.0],[1001.6,1.0],[1002.4,1.0],[1003.3,1.0],[1003.9,1.0],[1004.5,1.0],[1006.0,1.0],[1006.8,1.0],[1008.0,0.0],[1008.5,0.0],[1008.4,0.0],[1008.3,0.0],[1008.1,0.0],[1008.2,0.0],[1007.7,0.0],[1008.1,0.0],[1008.2,1.0],[1008.5,1.0],[1008.8,1.0],[1008.9,1.0],[1009.2,1.0],[1009.5,0.0],[1009.5,1.0],[1009.4,1.0],[1009.3,1.0],[1009.6,1.0],[1010.0,0.0],[1010.4,0.0],[1011.1,0.0],[1011.7,0.0],[1010.6,0.0],[1010.4,1.0],[1009.6,1.0],[1009.3,1.0],[1009.5,1.0],[1009.3,1.0],[1008.7,1.0],[1008.3,1.0],[1008.6,1.0],[1009.3,0.0],[1010.0,0.0],[1010.6,0.0],[1010.9,0.0],[1010.7,1.0],[1010.6,1.0],[1010.6,1.0],[1010.2,1.0],[1009.5,1.0],[1008.9,1.0],[1008.5,1.0],[1008.0,1.0],[1007.8,1.0],[1007.8,1.0],[1008.1,1.0],[1007.9,1.0],[1008.1,1.0],[1007.9,1.0],[1007.5,1.0],[1007.2,1.0],[1007.2,1.0],[1006.9,1.0],[1006.3,1.0],[1006.6,1.0],[1006.9,1.0],[1006.9,1.0],[1007.3,1.0],[1007.7,1.0],[1007.8,1.0],[1008.0,1.0],[1007.8,1.0],[1007.6,1.0],[1007.5,1.0],[1007.5,1.0],[1007.5,1.0],[1007.7,1.0],[1008.0,1.0],[1008.1,1.0],[1008.5,1.0],[1008.9,1.0],[1009.7,1.0],[1010.3,1.0],[1010.8,1.0],[1011.4,1.0],[1012.0,1.0],[1012.8,1.0],[1013.6,1.0],[1014.1,1.0],[1015.0,1.0],[1016.1,1.0],[1016.7,1.0],[1017.1,1.0],[1017.3,1.0],[1017.4,1.0],[1017.7,1.0],[1017.8,1.0],[1017.6,1.0],[1017.8,1.0],[1018.2,1.0],[1018.5,1.0],[1018.9,1.0],[1019.3,1.0],[1019.8,1.0],[1020.2,1.0],[1020.5,1.0],[1020.5,1.0],[1020.3,1.0],[1020.2,1.0],[1019.9,1.0],[1019.6,1.0],[1019.3,1.0],[1019.2,1.0],[1019.1,1.0],[1019.2,1.0],[1019.1,1.0],[1019.1,1.0],[1018.8,1.0],[1018.6,1.0],[1018.2,1.0],[1017.8,1.0],[1017.6,0.0],[1016.3,0.0],[1016.7,0.0],[1016.7,1.0],[1016.5,1.0],[1016.5,1.0],[1016.4,1.0],[1016.1,1.0],[1015.8,1.0],[1015.5,1.0],[1015.3,1.0],[1015.1,1.0],[1015.2,1.0],[1015.2,1.0],[1015.3,0.0],[1015.6,0.0],[1015.9,0.0],[1015.7,0.0],[1015.6,0.0],[1015.6,0.0],[1015.7,0.0],[1015.9,0.0],[1015.9,1.0],[1016.0,1.0],[1016.2,1.0],[1016.3,1.0],[1016.3,1.0],[1016.2,1.0],[1015.9,0.0],[1015.8,0.0],[1016.1,0.0],[1016.3,0.0],[1016.5,0.0],[1017.0,0.0],[1017.4,0.0],[1017.2,0.0],[1017.5,0.0],[1017.6,0.0],[1017.8,0.0],[1017.6,0.0],[1017.5,0.0],[1017.4,0.0],[1017.2,0.0],[1016.9,0.0],[1017.2,0.0],[1017.6,0.0],[1018.0,0.0],[1018.0,0.0],[1017.9,0.0],[1017.9,0.0],[1017.8,1.0],[1018.0,1.0],[1018.2,1.0],[1018.4,1.0],[1018.3,1.0],[1018.2,1.0],[1017.9,1.0],[1017.5,1.0],[1017.0,1.0],[1017.0,1.0],[1016.8,1.0],[1016.6,1.0],[1016.7,1.0],[1016.7,0.0],[1016.7,0.0],[1016.1,0.0],[1015.8,0.0],[1015.0,0.0],[1015.1,0.0],[1014.8,1.0],[1014.4,1.0],[1014.0,1.0],[1013.4,1.0],[1012.9,1.0],[1012.6,1.0],[1012.2,1.0],[1012.0,1.0],[1011.8,1.0],[1012.0,1.0],[1012.1,0.0],[1012.5,0.0],[1012.4,0.0],[1011.9,0.0],[1011.3,0.0],[1011.4,0.0],[1011.3,1.0],[1011.6,1.0],[1011.7,1.0],[1011.4,1.0],[1011.2,1.0],[1010.6,1.0],[1010.3,1.0],[1009.9,1.0],[1009.9,1.0],[1010.0,1.0],[1009.8,1.0],[1009.6,0.0],[1009.7,0.0],[1010.1,0.0],[1009.9,0.0],[1009.5,0.0],[1009.2,0.0],[1007.5,0.0],[1007.6,0.0],[1007.6,1.0],[1007.7,1.0],[1007.9,1.0],[1007.7,1.0],[1007.4,1.0],[1007.0,1.0],[1006.4,1.0],[1006.2,1.0],[1006.4,1.0],[1006.6,0.0],[1006.9,1.0],[1007.3,1.0],[1007.6,0.0],[1007.3,0.0],[1007.1,0.0],[1006.9,0.0],[1005.8,0.0],[1005.9,1.0],[1006.1,1.0],[1006.2,1.0],[1006.1,1.0],[1005.8,1.0],[1005.4,1.0],[1005.3,1.0],[1005.1,1.0],[1004.8,1.0],[1004.7,1.0],[1004.5,1.0],[1004.6,1.0],[1005.0,1.0],[1005.4,0.0],[1005.5,0.0],[1005.5,0.0],[1005.4,0.0],[1005.7,0.0],[1006.2,0.0],[1006.4,1.0],[1006.6,1.0],[1006.7,1.0],[1006.9,0.0],[1006.8,0.0],[1006.5,0.0],[1006.3,0.0],[1006.3,0.0],[1006.5,0.0],[1006.5,0.0],[1006.5,0.0],[1006.9,0.0],[1007.3,0.0],[1007.6,0.0],[1007.5,0.0],[1007.5,0.0],[1007.4,0.0],[1007.1,0.0],[1006.9,0.0],[1006.6,0.0],[1006.5,0.0],[1006.8,0.0],[1006.9,0.0],[1007.1,0.0],[1007.3,0.0],[1007.1,0.0],[1006.7,0.0],[1006.5,0.0],[1006.1,0.0],[1005.5,0.0],[1004.7,0.0],[1004.4,0.0],[1004.1,0.0],[1004.1,0.0],[1004.4,0.0],[1004.6,0.0],[1004.7,0.0],[1004.6,0.0],[1004.3,0.0],[1004.3,0.0],[1004.1,0.0],[1004.0,0.0],[1003.9,0.0],[1003.8,0.0],[1003.9,0.0],[1004.2,0.0],[1004.4,0.0],[1004.8,1.0],[1005.1,1.0],[1005.3,1.0],[1005.1,0.0],[1004.8,0.0],[1004.9,0.0],[1004.7,0.0],[1004.7,0.0],[1005.0,0.0],[1005.2,0.0],[1005.4,0.0],[1006.0,0.0],[1006.9,0.0],[1007.3,0.0],[1007.4,0.0],[1007.4,0.0],[1006.9,0.0],[1007.1,0.0],[1007.3,0.0],[1007.1,0.0],[1006.8,0.0],[1006.6,0.0],[1006.9,0.0],[1006.7,0.0],[1006.5,1.0],[1006.6,1.0],[1006.2,1.0],[1005.2,1.0],[1005.0,1.0],[1004.5,1.0],[1003.8,1.0],[1003.1,1.0],[1003.0,0.0],[1002.8,0.0],[1002.3,0.0],[1002.2,0.0],[1002.1,0.0],[1001.4,0.0],[1000.9,0.0],[1001.0,0.0],[1000.8,0.0],[1000.5,0.0],[1000.4,0.0],[1000.1,0.0],[999.86,0.0],[1000.1,0.0],[1000.4,0.0],[1000.7,0.0],[1001.0,1.0],[1001.2,1.0],[1001.5,1.0],[1001.5,1.0],[1001.2,1.0],[1001.5,1.0],[1001.5,1.0],[1002.3,1.0],[1003.0,0.0],[1003.3,0.0],[1004.1,0.0],[1004.6,0.0],[1005.4,0.0],[1006.0,0.0],[1006.4,0.0],[1006.9,0.0],[1007.3,0.0],[1007.5,0.0],[1007.6,0.0],[1007.8,0.0],[1008.0,0.0],[1008.8,0.0],[1009.6,0.0],[1010.2,0.0],[1010.7,1.0],[1011.1,1.0],[1011.7,1.0],[1011.9,1.0],[1012.4,1.0],[1012.8,1.0],[1013.0,1.0],[1013.3,1.0],[1013.7,1.0],[1014.0,1.0],[1014.2,0.0],[1014.7,0.0],[1015.2,0.0],[1015.6,0.0],[1015.8,0.0],[1016.3,0.0],[1016.7,0.0],[1016.6,0.0],[1016.8,0.0],[1017.2,0.0],[1017.9,0.0],[1018.7,0.0],[1019.4,0.0],[1020.1,0.0],[1020.6,0.0],[1021.0,0.0],[1021.3,0.0],[1021.5,0.0],[1021.7,0.0],[1021.8,0.0],[1021.8,0.0],[1021.9,0.0],[1021.9,0.0],[1022.1,0.0],[1022.4,0.0],[1022.8,0.0],[1023.1,0.0],[1023.4,0.0],[1023.3,0.0],[1023.4,0.0],[1023.2,0.0],[1022.2,0.0],[1021.9,0.0],[1021.9,0.0],[1021.7,0.0],[1021.3,0.0],[1020.6,0.0],[1019.8,0.0],[1019.0,0.0],[1018.2,0.0],[1017.4,0.0],[1016.7,0.0],[1016.0,0.0],[1015.4,0.0],[1015.0,0.0],[1015.0,0.0],[1014.8,0.0],[1014.4,0.0],[1013.6,0.0],[1013.6,0.0],[1013.9,0.0],[1014.2,0.0],[1014.3,0.0],[1014.6,0.0],[1014.4,0.0],[1014.5,0.0],[1014.6,0.0],[1015.0,0.0],[1015.3,0.0],[1015.9,0.0],[1016.4,0.0],[1016.5,0.0],[1016.7,0.0],[1016.6,0.0],[1016.3,0.0],[1016.2,0.0],[1016.0,0.0],[1016.1,0.0],[1016.4,0.0],[1016.8,0.0],[1017.2,1.0],[1017.3,1.0],[1017.6,1.0],[1017.7,1.0],[1017.5,1.0],[1017.4,1.0],[1017.3,1.0],[1017.1,1.0],[1016.9,1.0],[1016.9,1.0],[1017.0,0.0],[1017.3,0.0],[1017.5,0.0],[1017.7,0.0],[1017.6,0.0],[1017.2,0.0],[1016.8,0.0],[1016.6,0.0],[1016.4,0.0],[1016.4,0.0],[1016.2,0.0],[1016.0,0.0],[1016.1,0.0],[1016.4,0.0],[1016.5,0.0],[1016.4,1.0],[1016.6,1.0],[1016.8,1.0],[1016.5,1.0],[1016.3,1.0],[1015.8,1.0],[1015.2,1.0],[1014.9,1.0],[1014.7,1.0],[1014.5,0.0],[1014.4,0.0],[1014.4,0.0],[1014.6,0.0],[1014.8,0.0],[1014.8,0.0],[1014.3,0.0],[1013.8,0.0],[1013.2,0.0],[1012.6,0.0],[1012.3,0.0],[1012.1,0.0],[1011.9,0.0],[1012.2,0.0],[1012.2,0.0],[1012.1,1.0],[1011.9,1.0],[1011.7,1.0],[1011.3,1.0],[1010.8,1.0],[1010.2,1.0],[1009.8,1.0],[1010.0,1.0],[1010.1,0.0],[1009.8,0.0],[1009.9,0.0],[1009.9,0.0],[1010.0,0.0],[1009.9,0.0],[1009.4,0.0],[1009.0,0.0],[1008.8,0.0],[1008.7,0.0],[1008.4,0.0],[1008.0,0.0],[1007.9,0.0],[1008.3,0.0],[1008.5,0.0],[1008.6,1.0],[1008.7,1.0],[1008.7,1.0],[1009.0,1.0],[1009.0,1.0],[1009.0,1.0],[1009.0,1.0],[1008.9,1.0],[1009.1,1.0],[1009.4,0.0],[1009.8,0.0],[1010.1,0.0],[1010.5,0.0],[1010.7,0.0],[1010.9,0.0],[1010.8,0.0],[1010.8,0.0],[1010.6,0.0],[1010.6,0.0],[1010.6,0.0],[1010.5,0.0],[1010.6,0.0],[1010.9,0.0],[1011.5,0.0],[1012.0,0.0],[1012.3,1.0],[1012.6,1.0],[1012.9,1.0],[1013.0,1.0],[1013.2,1.0],[1013.1,1.0],[1013.0,1.0],[1013.0,1.0],[1012.9,1.0],[1012.9,1.0],[1013.0,1.0],[1013.4,1.0],[1013.8,1.0],[1014.1,0.0],[1014.0,0.0],[1014.0,0.0],[1013.7,0.0],[1013.5,0.0],[1013.3,0.0],[1013.2,0.0],[1013.1,0.0],[1013.2,0.0],[1013.3,0.0],[1013.8,1.0],[1013.9,1.0],[1014.0,1.0],[1014.1,1.0],[1014.2,1.0],[1014.0,1.0],[1013.7,1.0],[1013.6,0.0],[1013.3,0.0],[1013.1,0.0],[1013.1,0.0],[1013.0,0.0],[1013.1,1.0],[1013.7,0.0],[1014.1,0.0],[1013.9,0.0],[1014.1,0.0],[1014.2,0.0],[1014.0,0.0],[1013.6,0.0],[1013.4,0.0],[1013.3,0.0],[1013.5,0.0],[1013.8,0.0],[1014.0,0.0],[1014.4,1.0],[1014.5,1.0],[1014.7,1.0],[1014.5,1.0],[1014.2,1.0],[1013.7,1.0],[1013.2,1.0],[1012.7,1.0],[1012.5,0.0],[1012.4,0.0],[1012.2,0.0],[1012.3,0.0],[1012.6,0.0],[1012.8,0.0],[1012.7,0.0],[1012.6,0.0],[1012.5,0.0],[1012.4,0.0],[1012.0,0.0],[1011.8,0.0],[1011.8,0.0],[1012.1,0.0],[1012.3,0.0],[1012.5,1.0],[1013.0,0.0],[1013.3,0.0],[1013.4,1.0],[1013.4,0.0],[1013.1,0.0],[1012.8,1.0],[1012.4,0.0],[1011.9,0.0],[1011.5,0.0],[1011.3,0.0],[1011.4,1.0],[1011.8,1.0],[1012.3,1.0],[1012.6,0.0],[1012.5,0.0],[1012.6,1.0],[1012.7,0.0],[1012.6,0.0],[1012.6,0.0],[1012.6,0.0],[1012.7,0.0],[1013.1,0.0],[1013.5,0.0],[1013.8,1.0],[1014.0,1.0],[1014.1,1.0],[1014.1,1.0],[1014.2,1.0],[1013.9,1.0],[1013.6,1.0],[1013.2,1.0],[1012.8,1.0],[1012.7,1.0],[1013.2,1.0],[1013.5,1.0],[1014.4,1.0],[1014.8,1.0],[1015.1,0.0],[1015.5,0.0],[1016.3,1.0],[1015.2,0.0],[1014.8,0.0],[1014.7,0.0],[1014.2,0.0],[1014.4,0.0],[1014.9,0.0],[1014.7,0.0],[1014.4,1.0],[1015.0,1.0],[1015.2,1.0],[1015.1,1.0],[1014.9,1.0],[1014.6,1.0],[1014.4,1.0],[1014.1,1.0],[1013.9,1.0],[1013.9,1.0],[1014.3,1.0],[1014.7,1.0],[1014.3,1.0],[1013.8,0.0],[1014.0,0.0],[1014.8,0.0],[1014.5,0.0],[1013.6,0.0],[1013.0,0.0],[1012.7,0.0],[1013.1,0.0],[1013.0,0.0],[1013.2,0.0],[1013.3,0.0],[1013.5,0.0],[1013.5,1.0],[1013.5,1.0],[1014.0,1.0],[1013.9,1.0],[1013.7,1.0],[1012.6,1.0],[1012.1,1.0],[1012.3,1.0],[1012.4,0.0],[1012.5,0.0],[1012.4,0.0],[1012.8,0.0],[1013.4,1.0],[1013.8,0.0],[1013.4,0.0],[1013.0,0.0],[1012.9,0.0],[1012.8,0.0],[1012.7,0.0],[1013.0,0.0],[1013.2,0.0],[1013.7,0.0],[1014.1,0.0],[1014.2,1.0],[1014.4,1.0],[1014.5,1.0],[1014.3,1.0],[1014.1,1.0],[1014.0,1.0],[1013.7,1.0],[1013.2,1.0],[1012.8,1.0],[1012.6,1.0],[1012.7,1.0],[1013.1,1.0],[1013.4,1.0],[1013.6,1.0],[1013.9,0.0],[1013.7,0.0],[1013.7,0.0],[1013.6,0.0],[1013.6,0.0],[1013.4,0.0],[1013.2,0.0],[1013.4,0.0],[1013.9,0.0],[1014.3,0.0],[1014.5,0.0],[1014.5,1.0],[1014.6,1.0],[1015.0,1.0],[1015.2,1.0],[1015.1,1.0],[1015.0,1.0],[1014.8,1.0],[1014.7,1.0],[1014.5,1.0],[1014.3,1.0],[1014.3,0.0],[1014.4,1.0],[1014.8,0.0],[1015.1,0.0],[1014.9,0.0],[1014.7,0.0],[1014.4,0.0],[1014.2,0.0],[1014.1,0.0],[1014.1,0.0],[1014.1,1.0],[1014.6,1.0],[1015.0,1.0],[1015.1,1.0],[1015.1,1.0],[1015.4,1.0],[1015.7,0.0],[1015.9,0.0],[1015.9,0.0],[1015.8,0.0],[1015.7,0.0],[1015.2,0.0],[1015.0,0.0],[1014.9,0.0],[1015.1,0.0],[1015.1,0.0],[1015.2,0.0],[1015.7,0.0],[1016.0,0.0],[1016.1,0.0],[1016.1,0.0],[1016.0,0.0],[1015.8,0.0],[1015.6,0.0],[1015.7,0.0],[1016.2,0.0],[1016.5,0.0],[1016.7,0.0],[1016.8,0.0],[1017.0,0.0],[1017.5,1.0],[1017.6,1.0],[1017.2,1.0],[1017.0,1.0],[1016.6,1.0],[1016.2,1.0],[1016.0,1.0],[1015.6,1.0],[1015.7,1.0],[1016.1,1.0],[1016.4,0.0],[1016.6,0.0],[1016.7,0.0],[1016.8,0.0],[1016.5,0.0],[1016.1,0.0],[1015.9,0.0],[1015.9,0.0],[1016.0,0.0],[1016.4,0.0],[1016.7,0.0],[1016.8,1.0],[1017.0,1.0],[1017.1,1.0],[1017.1,1.0],[1016.8,1.0],[1016.4,1.0],[1016.2,1.0],[1016.0,1.0],[1015.5,1.0],[1014.9,1.0],[1014.6,1.0],[1014.6,1.0],[1014.6,1.0],[1015.0,1.0],[1015.4,0.0],[1015.0,0.0],[1014.8,0.0],[1014.5,0.0],[1014.2,0.0],[1013.8,0.0],[1013.5,0.0],[1013.4,0.0],[1013.8,0.0],[1014.2,0.0],[1014.4,0.0],[1014.6,1.0],[1014.6,1.0],[1014.8,1.0],[1014.7,1.0],[1014.4,1.0],[1014.1,1.0],[1013.9,1.0],[1013.6,1.0],[1013.5,1.0],[1013.1,0.0],[1013.3,0.0],[1013.5,0.0],[1013.8,0.0],[1014.1,0.0],[1014.3,0.0],[1014.2,0.0],[1014.0,0.0],[1013.8,0.0],[1013.8,0.0],[1013.6,0.0],[1013.9,0.0],[1014.3,0.0],[1014.6,0.0],[1015.0,0.0],[1015.2,1.0],[1015.3,1.0],[1015.5,1.0],[1015.5,1.0],[1015.3,1.0],[1015.0,1.0],[1014.5,1.0],[1014.2,0.0],[1014.5,0.0],[1014.5,0.0],[1014.3,0.0],[1014.7,0.0],[1014.9,0.0],[1015.0,0.0],[1015.0,1.0],[1015.1,0.0],[1014.8,0.0],[1014.9,0.0],[1014.9,0.0],[1014.8,0.0],[1014.7,0.0],[1014.9,0.0],[1015.2,0.0],[1015.2,1.0],[1015.1,1.0],[1014.9,1.0],[1014.7,1.0],[1014.4,1.0],[1013.9,1.0],[1013.6,1.0],[1012.9,1.0],[1012.3,1.0],[1012.5,1.0],[1012.3,0.0],[1011.8,0.0],[1011.8,1.0],[1011.7,1.0],[1011.8,1.0],[1011.7,1.0],[1011.3,0.0],[1010.8,0.0],[1010.5,0.0],[1010.1,0.0],[1009.8,0.0],[1010.0,0.0],[1010.2,0.0],[1010.8,0.0],[1011.1,0.0],[1011.1,0.0],[1010.9,1.0],[1010.9,1.0],[1010.5,0.0],[1010.1,1.0],[1009.7,0.0],[1009.2,0.0],[1008.8,0.0],[1008.6,0.0],[1008.6,0.0],[1009.0,0.0],[1009.3,0.0],[1009.4,0.0],[1009.2,0.0],[1009.1,0.0],[1009.0,0.0],[1008.6,0.0],[1008.5,0.0],[1008.4,0.0],[1008.3,0.0],[1008.6,0.0],[1009.1,0.0],[1009.4,0.0],[1009.7,0.0],[1009.9,0.0],[1010.1,0.0],[1010.4,0.0],[1010.5,0.0],[1010.5,0.0],[1010.2,0.0],[1010.1,0.0],[1010.1,0.0],[1010.1,0.0],[1010.2,0.0],[1010.4,0.0],[1010.9,0.0],[1011.4,0.0],[1011.7,0.0],[1011.5,0.0],[1011.5,0.0],[1011.5,0.0],[1011.4,0.0],[1011.3,0.0],[1011.2,0.0],[1011.2,0.0],[1011.6,0.0],[1012.1,0.0],[1012.5,0.0],[1012.8,1.0],[1013.3,1.0],[1013.7,0.0],[1013.7,0.0],[1013.8,0.0],[1013.7,0.0],[1013.4,0.0],[1013.2,0.0],[1013.4,0.0],[1013.4,0.0],[1013.6,0.0],[1013.9,0.0],[1014.1,0.0],[1014.2,0.0],[1014.0,0.0],[1013.8,0.0],[1013.5,0.0],[1013.1,0.0],[1013.0,1.0],[1013.0,0.0],[1013.1,0.0],[1013.4,0.0],[1013.7,0.0],[1013.9,0.0],[1014.1,0.0],[1014.0,0.0],[1014.0,0.0],[1014.0,1.0],[1013.8,1.0],[1013.3,1.0],[1012.9,1.0],[1012.4,0.0],[1012.0,1.0],[1011.8,0.0],[1011.8,0.0],[1012.2,0.0],[1012.8,1.0],[1013.1,0.0],[1013.0,0.0],[1012.7,0.0],[1012.3,0.0],[1011.9,0.0],[1011.9,0.0],[1011.6,0.0],[1011.8,0.0],[1012.1,0.0],[1012.5,0.0],[1012.9,0.0],[1013.2,0.0],[1013.2,1.0],[1013.0,1.0],[1012.7,0.0],[1012.5,0.0],[1012.1,0.0],[1011.6,0.0],[1011.2,0.0],[1011.2,0.0],[1011.3,0.0],[1011.6,0.0],[1012.3,0.0],[1012.5,0.0],[1012.6,0.0],[1012.4,0.0],[1012.3,0.0],[1012.1,0.0],[1011.9,0.0],[1011.6,0.0],[1011.3,0.0],[1011.3,0.0],[1011.5,0.0],[1011.8,0.0],[1012.4,0.0],[1012.7,0.0],[1012.8,0.0],[1013.2,0.0],[1012.9,0.0],[1012.6,0.0],[1012.1,0.0],[1011.6,0.0],[1011.2,0.0],[1011.1,0.0],[1011.0,0.0],[1011.4,0.0],[1011.9,0.0],[1012.3,0.0],[1012.7,0.0],[1012.7,0.0],[1012.2,0.0],[1012.1,0.0],[1012.3,0.0],[1012.2,0.0],[1012.3,0.0],[1012.5,0.0],[1012.5,0.0],[1012.8,0.0],[1013.1,0.0],[1013.4,0.0],[1013.4,0.0],[1013.6,0.0],[1013.7,0.0],[1013.7,0.0],[1013.6,0.0],[1013.6,0.0],[1013.5,0.0],[1013.2,0.0],[1013.2,0.0],[1013.6,0.0],[1013.8,0.0],[1014.0,0.0],[1014.3,0.0],[1014.2,0.0],[1014.0,0.0],[1013.7,0.0],[1013.6,0.0],[1013.5,0.0],[1013.4,0.0],[1013.4,0.0],[1013.5,0.0],[1013.5,0.0],[1013.9,0.0],[1014.0,0.0],[1014.1,1.0],[1014.4,0.0],[1014.3,0.0],[1014.1,0.0],[1013.8,0.0],[1013.3,0.0],[1013.2,0.0],[1012.7,0.0],[1012.1,0.0],[1012.0,0.0],[1011.9,0.0],[1012.1,0.0],[1012.4,0.0],[1012.2,0.0],[1012.1,0.0],[1011.7,0.0],[1011.6,0.0],[1011.4,0.0],[1011.4,0.0],[1011.5,0.0],[1011.5,0.0],[1011.7,0.0],[1012.1,0.0],[1012.3,0.0],[1012.4,0.0],[1012.6,0.0],[1012.4,0.0],[1012.1,0.0],[1011.7,0.0],[1011.4,0.0],[1011.1,0.0],[1011.0,0.0],[1010.8,0.0],[1011.3,0.0],[1011.5,0.0],[1011.7,0.0],[1011.9,0.0],[1012.0,0.0],[1011.8,0.0],[1011.8,0.0],[1011.8,0.0],[1011.6,0.0],[1011.4,0.0],[1011.3,0.0],[1011.5,0.0],[1011.8,0.0],[1012.3,0.0],[1012.5,0.0],[1012.5,0.0],[1012.6,0.0],[1012.4,1.0],[1012.4,1.0],[1012.4,1.0],[1012.2,1.0],[1012.2,1.0],[1012.0,1.0],[1011.9,1.0],[1011.9,1.0],[1012.0,1.0],[1012.1,1.0],[1012.1,0.0],[1011.8,0.0],[1011.6,0.0],[1011.5,0.0],[1011.3,0.0],[1011.1,0.0],[1011.1,0.0],[1011.1,0.0],[1011.6,0.0],[1012.0,0.0],[1012.2,0.0],[1012.2,0.0],[1012.4,1.0],[1012.7,0.0],[1012.8,0.0],[1012.5,0.0],[1012.4,1.0],[1012.2,1.0],[1012.1,1.0],[1012.0,1.0],[1011.9,0.0],[1012.1,0.0],[1012.0,0.0],[1012.2,0.0],[1012.2,0.0],[1012.1,0.0],[1011.9,0.0],[1011.8,0.0],[1011.5,0.0],[1011.3,0.0],[1011.4,0.0],[1011.9,0.0],[1012.1,0.0],[1012.3,0.0],[1012.4,0.0],[1012.6,0.0],[1012.7,0.0],[1012.6,0.0],[1012.2,0.0],[1012.0,0.0],[1011.3,1.0],[1011.0,1.0],[1010.6,0.0],[1009.9,0.0],[1009.5,0.0],[1009.3,0.0],[1009.1,0.0],[1009.3,0.0],[1009.3,0.0],[1008.9,0.0],[1008.3,0.0],[1007.9,0.0],[1007.3,0.0],[1006.7,0.0],[1006.3,0.0],[1006.0,0.0],[1005.9,0.0],[1005.8,0.0],[1005.7,0.0],[1005.5,0.0],[1005.3,1.0],[1005.2,0.0],[1005.0,0.0],[1004.5,0.0],[1003.8,0.0],[1003.5,0.0],[1003.4,0.0],[1003.3,0.0],[1003.4,0.0],[1003.6,0.0],[1003.5,0.0],[1003.9,0.0],[1004.2,0.0],[1003.9,0.0],[1003.8,0.0],[1003.7,0.0],[1003.3,0.0],[1003.4,0.0],[1003.0,0.0],[1002.8,0.0],[1002.3,0.0],[1002.2,0.0],[1002.3,0.0],[1002.6,0.0],[1002.4,1.0],[1002.2,0.0],[1001.9,0.0],[1001.7,0.0],[1001.3,0.0],[1001.2,0.0],[1001.4,0.0],[1001.3,0.0],[1001.1,0.0],[1002.2,0.0],[1001.4,0.0],[1001.4,0.0],[1002.2,0.0],[1002.2,0.0],[1002.3,0.0],[1002.5,0.0],[1002.6,0.0],[1002.4,0.0],[1002.3,0.0],[1002.4,0.0],[1002.6,0.0],[1003.0,0.0],[1003.3,0.0],[1003.6,0.0],[1003.9,0.0],[1004.3,0.0],[1004.6,0.0],[1004.6,0.0],[1004.5,0.0],[1004.3,0.0],[1004.2,0.0],[1004.1,0.0],[1004.0,0.0],[1004.4,0.0],[1005.0,0.0],[1005.6,0.0],[1006.0,0.0],[1005.9,0.0],[1006.1,0.0],[1006.1,0.0],[1006.0,0.0],[1005.9,0.0],[1005.9,0.0],[1006.0,0.0],[1006.2,0.0],[1006.5,0.0],[1006.8,0.0],[1006.9,0.0],[1006.9,0.0],[1007.0,0.0],[1006.9,0.0],[1006.9,0.0],[1006.7,0.0],[1006.3,0.0],[1006.3,0.0],[1006.1,0.0],[1006.1,0.0],[1006.3,0.0],[1006.5,0.0],[1007.0,0.0],[1007.5,0.0],[1007.4,0.0],[1007.4,0.0],[1007.4,0.0],[1007.1,0.0],[1007.0,0.0],[1007.1,0.0],[1007.3,0.0],[1007.6,0.0],[1007.8,0.0],[1008.2,0.0],[1008.5,0.0],[1008.6,1.0],[1008.6,1.0],[1008.3,0.0],[1008.3,1.0],[1008.1,0.0],[1007.9,0.0],[1007.6,0.0],[1007.4,0.0],[1007.4,0.0],[1008.1,0.0],[1008.4,0.0],[1008.9,0.0],[1009.2,0.0],[1009.1,0.0],[1009.0,0.0],[1008.6,0.0],[1008.5,0.0],[1008.1,0.0],[1008.0,0.0],[1008.3,0.0],[1008.7,0.0],[1009.0,0.0],[1009.4,0.0],[1009.8,0.0],[1010.0,0.0],[1010.2,0.0],[1010.2,0.0],[1010.9,0.0],[1010.8,0.0],[1010.0,0.0],[1009.7,0.0],[1009.8,0.0],[1009.9,0.0],[1010.3,0.0],[1010.6,0.0],[1011.1,0.0],[1011.6,0.0],[1011.6,0.0],[1011.8,0.0],[1011.7,0.0],[1011.7,0.0],[1011.5,0.0],[1011.5,0.0],[1011.6,0.0],[1011.7,0.0],[1012.1,0.0],[1012.5,0.0],[1012.8,1.0],[1013.0,0.0],[1013.2,0.0],[1013.2,0.0],[1012.9,0.0],[1012.5,0.0],[1012.1,1.0],[1011.8,0.0],[1011.7,1.0],[1012.1,0.0],[1012.4,0.0],[1012.9,0.0],[1013.1,0.0],[1013.2,0.0],[1013.1,0.0],[1013.1,0.0],[1013.0,0.0],[1012.8,0.0],[1012.7,0.0],[1012.6,0.0],[1012.6,0.0],[1012.8,0.0],[1013.0,0.0],[1013.3,0.0],[1013.5,0.0],[1013.5,1.0],[1013.7,0.0],[1013.8,1.0],[1013.6,1.0],[1013.5,1.0],[1013.4,0.0],[1013.1,0.0],[1013.0,0.0],[1013.0,0.0],[1013.2,0.0],[1013.1,0.0],[1013.5,0.0],[1013.7,0.0],[1013.6,0.0],[1013.5,0.0],[1013.2,0.0],[1013.1,0.0],[1012.8,0.0],[1012.7,0.0],[1012.9,0.0],[1013.2,0.0],[1013.3,0.0],[1013.7,0.0],[1013.8,0.0],[1013.8,0.0],[1013.9,0.0],[1013.7,0.0],[1013.5,0.0],[1013.3,0.0],[1013.1,0.0],[1012.9,0.0],[1012.7,0.0],[1012.7,0.0],[1012.7,0.0],[1012.8,0.0],[1013.0,1.0],[1013.2,0.0],[1013.0,0.0],[1013.0,0.0],[1012.9,0.0],[1012.6,0.0],[1012.3,0.0],[1012.3,0.0],[1012.2,0.0],[1012.2,0.0],[1012.4,0.0],[1012.7,0.0],[1012.8,0.0],[1012.8,0.0],[1012.9,0.0],[1012.6,0.0],[1012.3,0.0],[1011.9,0.0],[1011.6,0.0],[1011.4,0.0],[1011.3,0.0],[1011.1,0.0],[1011.2,0.0],[1011.5,0.0],[1011.5,0.0],[1011.8,0.0],[1011.5,0.0],[1011.4,0.0],[1011.1,0.0],[1010.7,0.0],[1010.4,0.0],[1010.3,0.0],[1010.4,0.0],[1010.4,0.0],[1010.5,0.0],[1010.5,0.0],[1010.4,0.0],[1010.3,0.0],[1010.4,0.0],[1010.2,0.0],[1009.7,0.0],[1009.2,0.0],[1008.8,0.0],[1008.3,0.0],[1007.8,0.0],[1007.5,0.0],[1007.5,0.0],[1007.3,0.0],[1007.5,0.0],[1007.6,0.0],[1007.4,0.0],[1006.9,0.0],[1006.8,0.0],[1006.7,0.0],[1006.5,0.0],[1006.4,0.0],[1006.6,0.0],[1006.8,0.0],[1007.4,0.0],[1007.9,0.0],[1008.4,0.0],[1008.9,0.0],[1009.8,0.0],[1010.3,0.0],[1010.5,0.0],[1010.5,0.0],[1010.6,0.0],[1010.8,0.0],[1011.1,0.0],[1011.3,0.0],[1011.9,0.0],[1012.1,0.0],[1012.8,0.0],[1013.5,0.0],[1013.7,0.0],[1014.0,0.0],[1014.1,0.0],[1014.4,0.0],[1014.6,0.0],[1014.8,0.0],[1015.1,0.0],[1015.5,0.0],[1016.0,0.0],[1016.4,0.0],[1016.8,0.0],[1017.1,0.0],[1017.3,1.0],[1017.4,0.0],[1017.3,0.0],[1017.2,0.0],[1017.1,1.0],[1016.9,1.0],[1017.2,0.0],[1017.6,0.0],[1017.9,0.0],[1018.2,0.0],[1018.4,0.0],[1018.2,0.0],[1018.3,0.0],[1018.1,0.0],[1018.2,0.0],[1017.9,0.0],[1017.7,0.0],[1017.7,0.0],[1017.9,0.0],[1017.9,0.0],[1018.3,0.0],[1018.5,0.0],[1018.3,0.0],[1018.6,0.0],[1018.4,0.0],[1018.1,0.0],[1017.8,0.0],[1017.5,0.0],[1017.3,1.0],[1017.0,1.0],[1016.9,0.0],[1016.9,0.0],[1017.0,0.0],[1017.0,0.0],[1016.6,0.0],[1016.2,0.0],[1015.9,0.0],[1015.5,0.0],[1015.1,0.0],[1015.0,0.0],[1015.1,0.0],[1015.3,0.0],[1015.4,0.0],[1015.6,0.0],[1015.7,0.0],[1015.5,0.0],[1015.4,0.0],[1015.1,0.0],[1014.7,1.0],[1014.2,1.0],[1013.9,0.0],[1013.8,0.0],[1013.6,1.0],[1013.5,0.0],[1013.8,0.0],[1013.8,0.0],[1014.0,0.0],[1013.8,0.0],[1013.4,0.0],[1013.2,0.0],[1012.9,0.0],[1012.6,0.0],[1012.1,0.0],[1012.0,0.0],[1011.9,0.0],[1012.0,0.0],[1012.0,0.0],[1012.1,0.0],[1012.1,0.0],[1011.9,0.0],[1011.8,0.0],[1011.5,0.0],[1011.1,0.0],[1010.8,0.0],[1010.5,0.0],[1009.9,0.0],[1009.6,0.0],[1009.2,0.0],[1009.2,0.0],[1009.2,0.0],[1009.3,0.0],[1008.8,0.0],[1008.5,0.0],[1008.1,0.0],[1007.8,0.0],[1007.4,0.0],[1007.5,0.0],[1007.6,0.0],[1007.7,0.0],[1007.8,0.0],[1007.9,0.0],[1007.5,0.0],[1007.2,0.0],[1007.4,0.0],[1007.3,0.0],[1007.1,0.0],[1006.9,0.0],[1006.8,0.0],[1006.3,0.0],[1006.2,0.0],[1006.4,0.0],[1006.8,0.0],[1008.1,0.0],[1009.3,0.0],[1009.7,0.0],[1010.0,0.0],[1009.4,0.0],[1009.3,0.0],[1009.3,0.0],[1009.3,0.0],[1009.7,0.0],[1010.1,0.0],[1010.8,0.0],[1011.4,0.0],[1011.8,0.0],[1012.0,0.0],[1012.0,0.0],[1011.9,0.0],[1011.8,0.0],[1011.8,0.0],[1011.5,0.0],[1011.4,0.0],[1011.3,0.0],[1011.3,0.0],[1011.4,0.0],[1011.8,0.0],[1012.1,0.0],[1012.2,0.0],[1011.4,0.0],[1010.7,0.0],[1010.2,0.0],[1009.8,0.0],[1009.8,0.0],[1009.8,0.0],[1009.9,0.0],[1010.0,0.0],[1010.2,0.0],[1010.4,0.0],[1010.4,0.0],[1010.6,0.0],[1010.7,0.0],[1010.4,0.0],[1010.0,1.0],[1009.6,1.0],[1009.4,1.0],[1009.3,1.0],[1009.4,0.0],[1009.6,0.0],[1009.9,0.0],[1010.1,0.0],[1010.0,0.0],[1009.5,0.0],[1009.1,0.0],[1008.6,0.0],[1008.2,0.0],[1007.7,0.0],[1007.2,0.0],[1007.2,0.0],[1007.1,0.0],[1007.0,0.0],[1006.9,0.0],[1006.7,0.0],[1006.4,0.0],[1006.2,0.0],[1005.9,1.0],[1005.4,0.0],[1005.2,0.0],[1004.9,0.0],[1005.2,0.0],[1005.2,0.0],[1005.2,0.0],[1005.3,0.0],[1005.1,0.0],[1005.3,0.0],[1005.3,0.0],[1005.2,0.0],[1004.9,0.0],[1004.8,0.0],[1004.6,0.0],[1004.3,0.0],[1004.2,0.0],[1004.4,0.0],[1004.7,0.0],[1005.1,0.0],[1005.2,0.0],[1005.1,0.0],[1005.2,0.0],[1005.2,0.0],[1005.3,0.0],[1005.2,0.0],[1005.3,0.0],[1005.6,0.0],[1005.7,0.0],[1005.7,0.0],[1005.6,0.0],[1005.9,0.0],[1006.3,0.0],[1006.6,0.0],[1007.0,0.0],[1007.2,0.0],[1007.2,0.0],[1007.1,0.0],[1006.9,0.0],[1006.9,0.0],[1006.9,0.0],[1006.9,0.0],[1006.9,0.0],[1007.1,0.0],[1007.3,0.0],[1007.4,0.0],[1007.5,0.0],[1007.5,0.0],[1007.4,0.0],[1007.3,0.0],[1007.2,0.0],[1006.8,0.0],[1006.6,0.0],[1006.4,0.0],[1006.1,0.0],[1006.1,0.0],[1006.3,0.0],[1006.5,0.0],[1006.6,0.0],[1006.6,0.0],[1006.6,0.0],[1006.5,0.0],[1006.2,0.0],[1006.0,0.0],[1006.1,0.0],[1006.2,0.0],[1006.3,0.0],[1006.3,0.0],[1006.3,0.0],[1006.4,0.0],[1006.6,0.0],[1006.3,0.0],[1005.9,0.0],[1005.4,0.0],[1005.0,0.0],[1005.0,0.0],[1005.1,0.0],[1006.1,0.0],[1006.6,0.0],[1006.3,0.0],[1006.5,0.0],[1006.8,0.0],[1007.0,0.0],[1007.0,0.0],[1006.9,0.0],[1006.9,0.0],[1007.0,0.0],[1007.2,0.0],[1007.5,0.0],[1007.7,0.0],[1008.0,0.0],[1008.4,0.0],[1008.7,0.0],[1009.0,0.0],[1009.0,0.0],[1008.7,0.0],[1008.7,0.0],[1008.4,0.0],[1008.1,0.0],[1008.0,0.0],[1007.9,0.0],[1007.9,0.0],[1008.0,0.0],[1008.3,0.0],[1008.5,0.0],[1008.3,0.0],[1008.3,0.0],[1008.0,0.0],[1007.9,0.0],[1007.5,0.0],[1007.2,0.0],[1007.1,0.0],[1006.9,0.0],[1006.8,0.0],[1006.9,0.0],[1006.8,0.0],[1006.5,0.0],[1006.5,0.0],[1006.2,0.0],[1006.1,0.0],[1005.8,0.0],[1005.3,0.0],[1005.0,0.0],[1004.4,0.0],[1004.7,0.0],[1005.2,0.0],[1005.6,0.0],[1006.1,0.0],[1006.5,0.0],[1007.0,0.0],[1007.1,0.0],[1007.2,0.0],[1007.4,0.0],[1007.3,0.0],[1007.6,0.0],[1008.0,0.0],[1008.3,0.0],[1008.6,0.0],[1009.0,0.0],[1009.4,0.0],[1009.5,0.0],[1009.7,0.0],[1009.7,0.0],[1009.6,0.0],[1009.5,0.0],[1009.4,0.0],[1009.2,0.0],[1009.4,0.0],[1009.9,0.0],[1010.3,0.0],[1010.7,0.0],[1010.8,0.0],[1011.0,0.0],[1011.1,0.0],[1011.1,0.0],[1010.9,0.0],[1010.7,0.0],[1010.5,0.0],[1010.2,0.0],[1010.3,0.0],[1010.3,0.0],[1010.2,0.0],[1010.2,0.0],[1009.9,0.0],[1010.1,0.0],[1010.0,0.0],[1009.6,0.0],[1009.0,0.0],[1008.6,0.0],[1008.3,0.0],[1008.0,0.0],[1007.6,0.0],[1007.4,0.0],[1007.3,0.0],[1007.0,0.0],[1007.0,0.0],[1007.0,0.0],[1006.9,0.0],[1006.7,0.0],[1006.2,0.0],[1005.8,0.0],[1005.6,0.0],[1005.3,0.0],[1004.9,0.0],[1005.1,0.0],[1005.2,0.0],[1005.4,0.0],[1005.5,0.0],[1005.5,0.0],[1005.7,0.0],[1005.6,0.0],[1005.4,0.0],[1005.3,0.0],[1005.3,0.0],[1005.4,0.0],[1005.6,0.0],[1006.2,0.0],[1006.9,0.0],[1006.9,0.0],[1007.3,0.0],[1007.7,0.0],[1008.0,0.0],[1008.3,0.0],[1008.3,0.0],[1008.2,0.0],[1008.3,0.0],[1008.6,0.0],[1008.9,0.0],[1009.3,0.0],[1009.6,0.0],[1009.8,0.0],[1010.2,0.0],[1010.5,0.0],[1010.7,0.0],[1010.7,0.0],[1010.6,0.0],[1010.5,1.0],[1010.4,1.0],[1010.4,0.0],[1010.5,0.0],[1010.8,0.0],[1011.1,0.0],[1011.3,0.0],[1011.5,0.0],[1011.8,0.0],[1011.8,0.0],[1011.8,0.0],[1011.7,0.0],[1011.6,0.0],[1011.6,0.0],[1011.7,0.0],[1011.9,0.0],[1012.4,0.0],[1013.0,0.0],[1013.3,0.0],[1013.8,0.0],[1014.0,0.0],[1014.4,0.0],[1014.4,0.0],[1014.4,0.0],[1014.1,0.0],[1014.2,0.0],[1014.5,0.0],[1014.7,0.0],[1014.9,0.0],[1015.1,0.0],[1015.6,0.0],[1015.6,0.0],[1015.2,0.0],[1015.1,0.0],[1015.0,0.0],[1015.1,0.0],[1015.3,0.0],[1015.6,0.0],[1016.1,0.0],[1016.3,0.0],[1016.6,0.0],[1016.7,0.0],[1016.7,0.0],[1016.8,0.0],[1016.6,0.0],[1016.3,0.0],[1016.0,0.0],[1015.9,0.0],[1015.8,0.0],[1015.9,0.0],[1016.0,0.0],[1016.0,0.0],[1016.0,0.0],[1016.1,0.0],[1015.8,0.0],[1015.3,0.0],[1015.0,0.0],[1014.7,0.0],[1014.4,0.0],[1014.3,0.0],[1014.5,0.0],[1014.6,0.0],[1014.7,0.0],[1014.7,0.0],[1014.7,0.0],[1014.7,0.0],[1014.8,0.0],[1014.6,0.0],[1014.2,0.0],[1013.9,0.0],[1013.7,0.0],[1013.5,0.0],[1013.2,0.0],[1013.1,0.0],[1013.3,0.0],[1013.2,0.0],[1012.5,0.0],[1012.0,0.0],[1011.9,0.0],[1012.0,0.0],[1011.8,0.0],[1011.8,0.0],[1011.9,0.0],[1011.9,0.0],[1011.9,0.0],[1011.7,0.0],[1011.6,0.0],[1011.6,0.0],[1011.4,0.0],[1011.3,0.0],[1011.2,0.0],[1011.0,0.0],[1010.6,0.0],[1010.3,0.0],[1010.4,0.0],[1010.5,0.0],[1010.7,0.0],[1010.8,0.0],[1010.8,0.0],[1010.6,0.0],[1010.2,0.0],[1009.7,0.0],[1009.6,0.0],[1009.6,0.0],[1009.7,0.0],[1010.0,0.0],[1010.3,0.0],[1010.4,0.0],[1010.5,0.0],[1010.4,0.0],[1010.5,0.0],[1010.4,0.0],[1010.0,0.0],[1009.9,0.0],[1009.6,0.0],[1009.4,0.0],[1009.2,0.0],[1009.2,0.0],[1009.3,0.0],[1009.6,0.0],[1009.8,0.0],[1010.1,0.0],[1010.1,0.0],[1010.0,0.0],[1009.6,0.0],[1009.3,0.0],[1009.0,0.0],[1009.1,0.0],[1009.3,0.0],[1009.6,0.0],[1009.9,0.0],[1010.3,0.0],[1010.3,0.0],[1010.2,0.0],[1010.1,0.0],[1009.8,0.0],[1009.6,0.0],[1009.4,0.0],[1009.9,0.0],[1010.2,0.0],[1010.3,0.0],[1010.7,0.0],[1010.9,0.0],[1010.8,0.0],[1010.6,0.0],[1010.5,0.0],[1010.3,0.0],[1010.1,0.0],[1010.0,0.0],[1010.3,0.0],[1010.4,0.0],[1010.5,0.0],[1010.4,0.0],[1010.7,0.0],[1010.9,0.0],[1011.0,0.0],[1011.1,0.0],[1010.9,0.0],[1010.9,0.0],[1010.9,0.0],[1010.8,0.0],[1010.7,0.0],[1010.8,0.0],[1011.1,0.0],[1011.6,0.0],[1012.2,0.0],[1012.4,0.0],[1012.3,0.0],[1012.2,0.0],[1012.0,0.0],[1011.9,0.0],[1011.9,0.0],[1011.9,0.0],[1011.8,0.0],[1011.9,0.0],[1012.0,0.0],[1012.3,0.0],[1012.4,0.0],[1012.6,0.0],[1012.7,0.0],[1012.3,0.0],[1012.2,0.0],[1011.9,0.0],[1011.8,0.0],[1011.7,0.0],[1011.5,0.0],[1011.8,0.0],[1012.1,0.0],[1011.9,0.0],[1011.6,0.0],[1011.3,1.0],[1011.0,1.0],[1010.8,0.0],[1010.6,0.0],[1010.4,0.0],[1010.3,0.0],[1010.5,0.0],[1010.8,0.0],[1010.9,0.0],[1011.0,0.0],[1010.9,1.0],[1010.6,0.0],[1010.4,0.0],[1009.9,0.0],[1009.3,0.0],[1008.9,0.0],[1008.5,0.0],[1008.3,0.0],[1008.3,0.0],[1008.1,0.0],[1008.0,0.0],[1007.9,0.0],[1007.6,0.0],[1007.4,0.0],[1007.2,0.0],[1006.9,0.0],[1006.9,0.0],[1006.9,0.0],[1006.8,0.0],[1006.7,0.0],[1006.7,0.0],[1006.6,0.0],[1006.6,0.0],[1006.5,0.0],[1006.5,0.0],[1006.2,0.0],[1005.6,0.0],[1005.1,0.0],[1004.7,0.0],[1003.8,0.0],[1003.3,0.0],[1002.9,0.0],[1003.0,0.0],[1003.2,0.0],[1003.3,0.0],[1003.5,0.0],[1003.6,0.0],[1003.5,0.0],[1003.2,0.0],[1003.2,0.0],[1003.0,0.0],[1003.3,0.0],[1003.6,0.0],[1003.9,0.0],[1004.1,0.0],[1004.2,0.0],[1004.2,0.0],[1004.2,0.0],[1004.3,0.0],[1003.5,0.0],[1003.9,0.0],[1004.2,0.0],[1004.6,0.0],[1004.8,0.0],[1004.9,0.0],[1004.7,0.0],[1004.4,1.0],[1004.4,1.0],[1004.4,0.0],[1004.4,0.0],[1004.7,0.0],[1005.0,0.0],[1005.4,0.0],[1005.6,0.0],[1005.8,0.0],[1006.1,0.0],[1006.2,0.0],[1006.3,0.0],[1006.2,0.0],[1006.0,0.0],[1005.8,0.0],[1005.6,0.0],[1005.6,0.0],[1005.6,0.0],[1005.8,0.0],[1005.9,0.0],[1005.9,0.0],[1005.7,0.0],[1005.5,0.0],[1005.3,0.0],[1005.1,0.0],[1005.0,0.0],[1005.1,0.0],[1005.1,0.0],[1005.0,0.0],[1004.8,0.0],[1004.9,0.0],[1004.8,0.0],[1004.6,0.0],[1004.5,0.0],[1004.2,0.0],[1003.8,0.0],[1003.3,0.0],[1002.6,0.0],[1001.7,0.0],[1000.9,0.0],[1000.2,0.0],[999.57,0.0],[999.06,0.0],[998.58,0.0],[998.42,0.0],[998.14,0.0],[997.89,0.0],[997.27,0.0],[996.89,0.0],[996.17,0.0],[995.79,0.0],[996.02,0.0],[995.95,0.0],[995.96,0.0],[996.23,0.0],[996.66,0.0],[996.91,0.0],[997.34,0.0],[997.85,0.0],[999.08,0.0],[999.31,0.0],[999.49,0.0],[1000.1,0.0],[1000.7,0.0],[1001.3,0.0],[1002.1,0.0],[1002.9,0.0],[1003.3,0.0],[1003.5,0.0],[1003.6,0.0],[1003.8,0.0],[1004.0,0.0],[1003.9,0.0],[1004.1,0.0],[1004.4,0.0],[1004.7,0.0],[1004.9,0.0],[1005.0,0.0],[1005.1,0.0],[1005.2,0.0],[1005.3,0.0],[1005.4,0.0],[1005.3,0.0],[1005.3,0.0],[1005.1,0.0],[1004.8,0.0],[1004.8,0.0],[1004.9,0.0],[1005.2,0.0],[1005.6,0.0],[1005.9,0.0],[1006.2,1.0],[1006.4,0.0],[1006.2,0.0],[1006.1,0.0],[1006.3,0.0],[1006.5,0.0],[1006.8,0.0],[1007.0,0.0],[1007.3,0.0],[1007.6,0.0],[1008.0,0.0],[1008.3,0.0],[1008.4,0.0],[1008.4,0.0],[1008.5,0.0],[1008.3,0.0],[1008.0,0.0],[1007.9,0.0],[1006.6,0.0],[1006.3,0.0],[1006.1,0.0],[1006.0,0.0],[1006.1,0.0],[1005.7,0.0],[1005.3,0.0],[1004.8,0.0],[1004.6,0.0],[1004.4,0.0],[1004.1,0.0],[1003.6,0.0],[1003.3,0.0],[1003.2,0.0],[1003.1,0.0],[1003.1,0.0],[1003.0,0.0],[1002.7,0.0],[1002.4,0.0],[1002.1,0.0],[1001.7,0.0],[1000.9,0.0],[1000.8,0.0],[1000.7,0.0],[1000.8,0.0],[1000.8,0.0],[1000.8,0.0],[1000.7,0.0],[1000.6,0.0],[1000.2,0.0],[1000.1,0.0],[1000.1,0.0],[1000.2,0.0],[1000.4,0.0],[1000.5,0.0],[1000.9,0.0],[1001.3,0.0],[1001.4,0.0],[1001.4,0.0],[1001.6,0.0],[1001.8,0.0],[1002.0,0.0],[1002.1,0.0],[1002.3,0.0],[1002.2,0.0],[1002.6,0.0],[1003.2,0.0],[1003.7,0.0],[1003.9,0.0],[1004.1,0.0],[1004.2,0.0],[1004.3,0.0],[1004.4,0.0],[1004.9,0.0],[1005.1,0.0],[1005.4,0.0],[1005.7,0.0],[1006.2,0.0],[1006.7,0.0],[1007.1,0.0],[1007.5,0.0],[1007.9,0.0],[1008.4,0.0],[1008.7,0.0],[1008.6,0.0],[1008.7,0.0],[1009.0,0.0],[1009.5,0.0],[1010.1,0.0],[1010.5,0.0],[1011.0,0.0],[1011.6,1.0],[1012.0,0.0],[1012.3,0.0],[1012.3,0.0],[1012.1,1.0],[1012.2,0.0],[1012.2,0.0],[1012.8,1.0],[1013.1,0.0],[1013.5,0.0],[1013.8,0.0],[1013.9,0.0],[1014.2,0.0],[1014.4,0.0],[1014.2,0.0],[1014.0,0.0],[1013.5,0.0],[1013.5,0.0],[1013.6,0.0],[1013.7,0.0],[1014.0,0.0],[1014.2,0.0],[1014.1,0.0],[1014.2,0.0],[1014.1,0.0],[1013.9,0.0],[1013.7,0.0],[1013.6,0.0],[1013.5,0.0],[1013.7,0.0],[1013.8,0.0],[1013.8,0.0],[1013.6,0.0],[1013.5,0.0],[1013.1,0.0],[1012.7,0.0],[1012.2,0.0],[1011.7,0.0],[1010.9,0.0],[1010.7,0.0],[1010.5,0.0],[1010.3,0.0],[1010.1,0.0],[1009.7,0.0],[1009.4,0.0],[1009.0,0.0],[1008.4,0.0],[1007.6,0.0],[1006.9,0.0],[1006.5,0.0],[1006.1,0.0],[1005.8,0.0],[1005.8,0.0],[1005.4,0.0],[1004.9,0.0],[1004.6,0.0],[1004.4,0.0],[1004.1,0.0],[1003.8,0.0],[1003.6,0.0],[1003.3,0.0],[1003.3,0.0],[1003.5,0.0],[1003.7,0.0],[1003.8,0.0],[1004.0,0.0],[1003.9,0.0],[1003.7,0.0],[1003.7,0.0],[1003.6,0.0],[1003.5,0.0],[1003.3,0.0],[1003.3,0.0],[1003.6,0.0],[1003.8,0.0],[1004.0,0.0],[1004.2,0.0],[1004.4,0.0],[1004.5,0.0],[1004.5,0.0],[1004.5,0.0],[1004.4,0.0],[1003.9,0.0],[1003.6,0.0],[1003.7,0.0],[1004.3,0.0],[1004.9,0.0],[1005.2,0.0],[1005.5,0.0],[1005.7,0.0],[1006.0,0.0],[1006.2,0.0],[1006.4,0.0],[1006.6,0.0],[1006.7,0.0],[1006.9,0.0],[1007.2,0.0],[1007.5,0.0],[1007.9,0.0],[1008.0,0.0],[1008.1,0.0],[1007.9,0.0],[1007.7,0.0],[1007.3,0.0],[1006.9,0.0],[1006.7,0.0],[1006.5,0.0],[1006.4,0.0],[1006.4,0.0],[1006.5,0.0],[1006.6,0.0],[1006.8,0.0],[1006.9,0.0],[1006.9,0.0],[1006.7,0.0],[1006.6,0.0],[1006.5,0.0],[1006.5,0.0],[1006.7,0.0],[1006.9,0.0],[1007.0,0.0],[1007.2,0.0],[1007.4,0.0],[1007.5,0.0],[1007.5,0.0],[1007.4,0.0],[1007.1,0.0],[1006.7,0.0],[1006.7,0.0],[1006.8,0.0],[1007.0,0.0],[1007.6,0.0],[1008.0,0.0],[1008.0,0.0],[1007.9,0.0],[1007.8,0.0],[1008.0,0.0],[1008.1,0.0],[1008.1,0.0],[1008.3,0.0],[1008.4,0.0],[1008.6,0.0],[1008.7,0.0],[1008.9,0.0],[1009.1,0.0],[1009.2,0.0],[1009.4,0.0],[1009.4,0.0],[1009.4,1.0],[1009.4,0.0],[1009.4,0.0],[1009.4,0.0],[1009.4,0.0],[1009.6,0.0],[1009.9,0.0],[1010.4,0.0],[1010.8,0.0],[1010.9,0.0],[1010.9,0.0],[1010.8,0.0],[1010.8,0.0],[1010.8,0.0],[1010.9,0.0],[1010.9,0.0],[1010.9,0.0],[1011.0,0.0],[1011.1,0.0],[1011.2,0.0],[1011.4,0.0],[1011.5,0.0],[1011.6,0.0],[1011.8,0.0],[1011.9,0.0],[1012.1,0.0],[1012.5,0.0],[1012.4,0.0],[1012.4,0.0],[1012.4,0.0],[1012.6,0.0],[1013.1,0.0],[1013.2,0.0],[1013.1,0.0],[1012.9,0.0],[1012.6,0.0],[1012.3,0.0],[1012.1,0.0],[1012.1,0.0],[1012.1,0.0],[1012.4,0.0],[1012.3,0.0],[1012.4,0.0],[1012.5,0.0],[1012.4,0.0],[1012.2,0.0],[1011.9,0.0],[1011.7,0.0],[1011.5,1.0],[1010.8,0.0],[1010.7,0.0],[1010.8,0.0],[1011.0,0.0],[1011.2,0.0],[1011.1,0.0],[1010.9,0.0],[1010.8,0.0],[1010.6,0.0],[1010.8,0.0],[1010.8,0.0],[1010.9,0.0],[1011.2,0.0],[1011.4,0.0],[1011.4,0.0],[1011.4,0.0],[1011.4,0.0],[1011.4,0.0],[1011.4,0.0],[1011.3,0.0],[1011.3,0.0],[1011.5,0.0],[1011.6,0.0],[1011.8,0.0],[1012.0,0.0],[1012.1,0.0],[1012.1,0.0],[1012.1,0.0],[1012.2,0.0],[1012.1,0.0],[1012.0,0.0],[1011.8,0.0],[1011.6,0.0],[1011.5,0.0],[1011.5,0.0],[1011.8,0.0],[1012.0,0.0],[1012.1,0.0],[1012.0,0.0],[1012.2,0.0],[1012.1,0.0],[1012.0,0.0],[1011.7,0.0],[1011.3,0.0],[1011.1,0.0],[1011.2,0.0],[1011.4,0.0],[1011.5,0.0],[1011.7,0.0],[1011.8,0.0],[1012.0,0.0],[1012.1,0.0],[1011.8,0.0],[1011.6,0.0],[1011.4,0.0],[1011.1,0.0],[1010.9,0.0],[1010.9,0.0],[1010.9,0.0],[1011.1,0.0],[1011.2,0.0],[1011.4,0.0],[1011.6,0.0],[1011.8,0.0],[1011.7,0.0],[1011.6,0.0],[1011.4,0.0],[1011.3,0.0],[1011.3,0.0],[1011.1,0.0],[1011.3,0.0],[1011.5,0.0],[1011.8,0.0],[1012.1,0.0],[1012.2,0.0],[1012.1,0.0],[1011.9,0.0],[1011.8,0.0],[1011.7,0.0],[1011.6,0.0],[1011.4,0.0],[1011.3,0.0],[1011.2,0.0],[1011.6,0.0],[1012.0,0.0],[1012.2,0.0],[1012.3,0.0],[1012.4,0.0],[1012.4,0.0],[1012.1,0.0],[1011.8,0.0],[1011.5,1.0],[1010.8,0.0],[1010.8,0.0],[1010.8,0.0],[1010.9,0.0],[1011.1,0.0],[1011.3,0.0],[1011.2,0.0],[1011.0,0.0],[1010.7,0.0],[1010.2,0.0],[1009.8,0.0],[1009.4,0.0],[1009.4,0.0],[1009.3,0.0],[1009.2,0.0],[1009.3,0.0],[1009.3,0.0],[1009.3,0.0],[1009.2,0.0],[1009.1,0.0],[1009.0,0.0],[1008.6,0.0],[1008.2,0.0],[1007.7,0.0],[1007.4,0.0],[1007.2,0.0],[1007.2,0.0],[1007.1,0.0],[1007.2,0.0],[1007.3,0.0],[1007.3,0.0],[1007.5,0.0],[1007.3,0.0],[1006.9,0.0],[1006.6,0.0],[1006.4,0.0],[1006.2,0.0],[1006.2,0.0],[1006.4,0.0],[1006.5,0.0],[1006.7,0.0],[1006.9,0.0],[1007.0,0.0],[1007.1,0.0],[1007.0,0.0],[1006.7,0.0],[1006.4,0.0],[1006.2,0.0],[1005.8,0.0],[1005.3,0.0],[1005.7,0.0],[1005.9,0.0],[1005.9,0.0],[1006.0,0.0],[1006.0,0.0],[1006.2,0.0],[1006.2,0.0],[1006.1,0.0],[1006.0,0.0],[1005.9,0.0],[1005.9,0.0],[1006.3,0.0],[1006.9,0.0],[1007.0,0.0],[1007.0,0.0],[1007.0,0.0],[1006.9,0.0],[1006.9,0.0],[1007.1,0.0],[1007.3,0.0],[1007.5,0.0],[1007.8,0.0],[1008.0,0.0],[1008.2,0.0],[1008.5,0.0],[1008.5,0.0],[1008.0,0.0],[1008.1,0.0],[1008.0,0.0],[1007.6,0.0],[1006.8,0.0],[1007.0,0.0],[1007.6,0.0],[1007.7,0.0],[1007.5,0.0],[1007.9,0.0],[1008.0,0.0],[1008.2,1.0],[1008.2,1.0],[1008.3,0.0],[1008.4,0.0],[1008.1,0.0],[1007.7,0.0],[1007.6,0.0],[1007.5,0.0],[1007.5,0.0],[1007.7,0.0],[1008.1,0.0],[1008.5,0.0],[1008.5,0.0],[1008.3,0.0],[1008.1,0.0],[1007.6,0.0],[1007.2,0.0],[1006.7,0.0],[1006.3,0.0],[1006.2,0.0],[1006.3,0.0],[1006.3,0.0],[1006.5,0.0],[1006.7,0.0],[1006.8,0.0],[1006.8,0.0],[1006.7,0.0],[1006.6,0.0],[1006.6,0.0],[1005.9,0.0],[1006.0,0.0],[1006.2,0.0],[1006.3,0.0],[1006.5,0.0],[1006.6,0.0],[1006.6,0.0],[1006.7,0.0],[1006.6,0.0],[1006.3,0.0],[1006.3,0.0],[1006.2,0.0],[1006.1,0.0],[1006.4,0.0],[1006.7,0.0],[1006.9,0.0],[1007.2,0.0],[1007.5,0.0],[1007.8,0.0],[1007.7,0.0],[1007.8,0.0],[1007.8,0.0],[1007.6,0.0],[1007.5,0.0],[1007.4,0.0],[1007.4,0.0],[1007.6,0.0],[1007.8,0.0],[1008.3,0.0],[1008.4,0.0],[1008.5,0.0],[1008.5,0.0],[1008.4,0.0],[1008.4,0.0],[1008.3,0.0],[1008.2,0.0],[1008.2,0.0],[1008.4,0.0],[1008.7,0.0],[1009.1,0.0],[1009.4,0.0],[1009.8,0.0],[1009.8,0.0],[1009.6,0.0],[1009.4,0.0],[1009.3,0.0],[1009.3,0.0],[1009.2,0.0],[1009.1,0.0],[1008.9,0.0],[1009.1,0.0],[1009.6,0.0],[1010.1,0.0],[1010.1,0.0],[1010.1,0.0],[1009.9,0.0],[1009.7,0.0],[1009.7,0.0],[1009.6,0.0],[1009.5,0.0],[1009.4,0.0],[1009.5,0.0],[1009.8,0.0],[1010.0,0.0],[1010.2,0.0],[1010.3,0.0],[1010.3,0.0],[1010.2,0.0],[1010.0,0.0],[1009.7,0.0],[1009.5,0.0],[1009.3,0.0],[1009.2,0.0],[1009.5,0.0],[1010.0,0.0],[1010.6,0.0],[1010.9,0.0],[1011.0,0.0],[1010.9,0.0],[1010.8,0.0],[1010.8,0.0],[1010.5,0.0],[1010.3,0.0],[1010.2,0.0],[1010.3,0.0],[1010.5,0.0],[1010.8,0.0],[1011.1,0.0],[1011.5,0.0],[1011.4,0.0],[1011.3,0.0],[1011.2,0.0],[1011.0,0.0],[1011.0,0.0],[1010.9,0.0],[1010.8,0.0],[1011.2,0.0],[1011.6,0.0],[1012.2,0.0],[1012.4,0.0],[1012.4,0.0],[1012.5,0.0],[1012.5,0.0],[1012.4,0.0],[1012.5,0.0],[1012.5,0.0],[1012.7,0.0],[1013.1,0.0],[1013.5,0.0],[1013.8,0.0],[1014.1,0.0],[1014.3,0.0],[1014.5,0.0],[1014.5,0.0],[1014.6,0.0],[1014.7,0.0],[1014.8,0.0],[1014.9,0.0],[1015.0,0.0],[1015.0,0.0],[1015.1,0.0],[1015.5,0.0],[1015.8,0.0],[1015.9,0.0],[1016.0,0.0],[1016.1,0.0],[1015.8,0.0],[1015.6,0.0],[1015.3,0.0],[1015.3,0.0],[1015.3,0.0],[1015.5,0.0],[1015.6,0.0],[1015.8,0.0],[1016.1,0.0],[1016.4,0.0],[1016.3,0.0],[1016.2,0.0],[1016.1,0.0],[1016.0,0.0],[1015.5,0.0],[1015.3,0.0],[1015.2,0.0],[1015.0,0.0],[1015.0,0.0],[1015.2,0.0],[1015.4,0.0],[1015.3,0.0],[1015.2,0.0],[1015.0,0.0],[1014.8,0.0],[1014.4,0.0],[1014.1,0.0],[1013.9,0.0],[1013.7,0.0],[1013.9,0.0],[1014.1,0.0],[1014.4,0.0],[1014.5,0.0],[1014.6,0.0],[1014.4,0.0],[1014.2,0.0],[1014.1,0.0],[1014.0,0.0],[1013.8,0.0],[1013.7,0.0],[1013.7,0.0],[1013.7,0.0],[1013.9,0.0],[1014.2,0.0],[1014.3,0.0],[1014.3,0.0],[1014.4,0.0],[1014.2,0.0],[1013.9,0.0],[1013.8,0.0],[1013.6,0.0],[1013.4,0.0],[1013.5,0.0],[1014.1,0.0],[1014.4,0.0],[1014.6,0.0],[1014.9,0.0],[1015.1,0.0],[1015.1,0.0],[1015.1,0.0],[1015.2,0.0],[1015.0,0.0],[1014.9,0.0],[1014.9,0.0],[1015.0,0.0],[1015.3,0.0],[1015.5,0.0],[1015.8,0.0],[1016.1,0.0],[1016.2,0.0],[1016.1,0.0],[1016.1,0.0],[1015.8,0.0],[1015.7,0.0],[1015.6,0.0],[1015.6,0.0],[1015.5,0.0],[1015.7,0.0],[1015.8,0.0],[1015.9,0.0],[1016.1,0.0],[1016.4,0.0],[1016.4,0.0],[1016.3,0.0],[1016.1,0.0],[1016.0,0.0],[1015.8,0.0],[1015.6,0.0],[1015.7,0.0],[1015.7,0.0],[1015.9,0.0],[1016.2,0.0],[1016.5,0.0],[1016.5,0.0],[1016.5,0.0],[1016.3,0.0],[1016.1,0.0],[1016.0,0.0],[1016.2,0.0],[1016.3,0.0],[1016.2,0.0],[1016.4,0.0],[1016.7,0.0],[1017.0,0.0],[1017.1,0.0],[1017.1,0.0],[1017.0,0.0],[1016.8,0.0],[1016.6,0.0],[1016.3,0.0],[1016.1,0.0],[1015.9,0.0],[1015.8,0.0],[1015.9,0.0],[1016.1,0.0],[1016.1,0.0],[1016.2,0.0],[1016.3,0.0],[1016.1,0.0],[1015.9,0.0],[1015.8,0.0],[1015.7,0.0],[1015.5,0.0],[1015.2,0.0],[1015.1,0.0],[1015.1,0.0],[1015.0,0.0],[1015.2,0.0],[1015.4,0.0],[1015.6,0.0],[1015.1,0.0],[1014.8,0.0],[1014.4,0.0],[1014.0,0.0],[1013.8,0.0],[1013.6,0.0],[1013.6,0.0],[1013.5,0.0],[1013.5,0.0],[1013.8,0.0],[1013.9,0.0],[1014.1,0.0],[1013.9,0.0],[1014.0,0.0],[1013.6,0.0],[1013.4,0.0],[1013.2,0.0],[1013.3,0.0],[1013.4,0.0],[1013.7,0.0],[1013.9,0.0],[1014.2,0.0],[1014.6,0.0],[1014.7,0.0],[1014.6,0.0],[1014.4,0.0],[1014.3,0.0],[1014.0,0.0],[1013.9,0.0],[1013.9,0.0],[1014.0,0.0],[1014.2,0.0],[1014.5,0.0],[1014.8,0.0],[1014.9,0.0],[1014.8,0.0],[1014.8,0.0],[1014.7,0.0],[1014.4,0.0],[1014.7,0.0],[1015.0,0.0],[1015.1,0.0],[1015.3,0.0],[1015.4,0.0],[1015.2,0.0],[1015.1,0.0],[1014.9,0.0],[1014.8,0.0],[1014.9,0.0],[1015.0,0.0],[1015.4,0.0],[1015.8,0.0],[1015.7,0.0],[1015.4,0.0],[1015.2,0.0],[1015.0,0.0],[1014.5,0.0],[1014.1,0.0],[1013.8,0.0],[1013.7,0.0],[1013.7,0.0],[1013.7,0.0],[1013.6,0.0],[1013.6,0.0],[1014.0,0.0],[1014.0,0.0],[1014.0,0.0],[1013.7,0.0],[1013.5,0.0],[1013.3,0.0],[1013.0,0.0],[1013.0,0.0],[1013.0,0.0],[1013.2,0.0],[1013.5,0.0],[1013.4,0.0],[1013.2,0.0],[1012.9,0.0],[1012.6,0.0],[1012.3,0.0],[1012.0,0.0],[1011.7,0.0],[1011.5,0.0],[1011.6,0.0],[1011.7,0.0],[1011.9,0.0],[1012.0,0.0],[1012.4,0.0],[1012.4,0.0],[1012.2,0.0],[1012.2,0.0],[1012.0,0.0],[1011.9,0.0],[1011.8,0.0],[1011.8,0.0],[1011.8,0.0],[1012.1,0.0],[1012.7,0.0],[1012.7,0.0],[1012.5,0.0],[1012.1,0.0],[1011.6,0.0],[1011.0,0.0],[1010.7,0.0],[1010.2,0.0],[1009.8,0.0],[1009.6,0.0],[1009.7,0.0],[1009.3,0.0],[1009.1,0.0],[1009.2,0.0],[1009.1,0.0],[1008.7,0.0],[1008.5,0.0],[1008.3,0.0],[1008.2,0.0],[1008.2,0.0],[1008.5,0.0],[1008.8,0.0],[1008.9,0.0],[1008.8,0.0],[1008.6,0.0],[1008.4,0.0],[1008.2,0.0],[1007.8,0.0],[1007.7,0.0],[1007.6,0.0],[1007.7,0.0],[1007.8,0.0],[1008.0,0.0],[1008.1,0.0],[1008.5,0.0],[1008.7,0.0],[1008.5,0.0],[1008.2,0.0],[1008.0,0.0],[1007.7,0.0],[1007.4,0.0],[1007.2,0.0],[1007.3,0.0],[1007.2,0.0],[1007.2,0.0],[1007.5,0.0],[1007.8,0.0],[1007.7,0.0],[1007.7,0.0],[1007.8,0.0],[1007.7,0.0],[1007.4,0.0],[1007.3,0.0],[1007.1,0.0],[1007.4,0.0],[1007.7,0.0],[1008.1,0.0],[1008.3,0.0],[1008.7,0.0],[1009.1,0.0],[1009.3,0.0],[1009.4,0.0],[1009.3,0.0],[1009.2,0.0],[1008.9,0.0],[1008.7,0.0],[1008.7,0.0],[1008.8,0.0],[1008.8,0.0],[1009.3,0.0],[1009.6,0.0],[1009.6,0.0],[1009.6,0.0],[1009.6,0.0],[1009.5,0.0],[1009.3,0.0],[1009.2,0.0],[1009.3,0.0],[1009.5,0.0],[1010.0,0.0],[1010.4,0.0],[1010.6,0.0],[1011.0,0.0],[1011.3,0.0],[1011.2,0.0],[1011.0,0.0],[1010.8,0.0],[1010.6,0.0],[1010.6,0.0],[1010.6,0.0],[1010.6,0.0],[1010.9,0.0],[1011.1,0.0],[1011.2,0.0],[1011.1,0.0],[1011.2,0.0],[1011.3,0.0],[1011.2,0.0],[1011.0,0.0],[1010.8,0.0],[1010.7,0.0],[1010.6,0.0],[1010.7,0.0],[1010.9,0.0],[1011.1,0.0],[1011.3,0.0],[1010.0,0.0],[1009.5,0.0],[1009.1,0.0],[1009.0,0.0],[1008.9,0.0],[1008.8,0.0],[1009.0,0.0],[1009.3,0.0],[1009.6,0.0],[1009.4,0.0],[1009.6,0.0],[1009.6,0.0],[1009.4,0.0],[1009.5,0.0],[1009.4,0.0],[1009.4,0.0],[1009.5,0.0],[1010.0,0.0],[1010.3,0.0],[1010.6,0.0],[1011.0,0.0],[1010.9,0.0],[1010.8,0.0],[1010.9,0.0],[1010.8,0.0],[1010.8,0.0],[1011.2,0.0],[1011.5,0.0],[1011.5,0.0],[1011.9,0.0],[1012.5,0.0],[1012.9,0.0],[1013.2,0.0],[1013.6,0.0],[1013.7,0.0],[1013.8,0.0],[1013.6,0.0],[1013.2,0.0],[1013.2,0.0],[1013.6,0.0],[1014.1,0.0],[1014.6,0.0],[1015.0,0.0],[1015.3,0.0],[1015.5,0.0],[1015.5,0.0],[1015.5,0.0],[1015.5,0.0],[1015.3,0.0],[1015.3,0.0],[1015.2,0.0],[1015.5,0.0],[1015.7,0.0],[1016.1,0.0],[1016.3,0.0],[1016.3,0.0],[1016.2,0.0],[1016.1,0.0],[1016.2,0.0],[1016.1,0.0],[1016.2,0.0],[1016.2,0.0],[1016.1,0.0],[1016.3,0.0],[1016.3,0.0],[1016.4,0.0],[1016.7,0.0],[1016.9,0.0],[1016.7,0.0],[1016.4,0.0],[1016.2,0.0],[1016.1,0.0],[1015.8,0.0],[1015.7,0.0],[1015.5,0.0],[1015.5,0.0],[1015.9,0.0],[1016.3,0.0],[1016.3,0.0],[1016.2,0.0],[1016.2,0.0],[1015.9,0.0],[1015.7,0.0],[1015.6,0.0],[1015.5,0.0],[1015.4,0.0],[1015.4,0.0],[1015.5,0.0],[1015.5,0.0],[1015.6,0.0],[1015.7,0.0],[1015.6,0.0],[1015.4,0.0],[1015.1,0.0],[1014.3,0.0],[1014.0,0.0],[1013.6,0.0],[1013.2,0.0],[1013.3,0.0],[1013.5,0.0],[1013.7,0.0],[1014.0,0.0],[1014.2,1.0],[1013.8,0.0],[1013.5,0.0],[1013.2,0.0],[1012.9,0.0],[1012.5,0.0],[1012.2,0.0],[1011.9,0.0],[1011.8,0.0],[1011.9,0.0],[1011.6,0.0],[1011.7,0.0],[1011.4,0.0],[1011.1,1.0],[1010.6,0.0],[1010.0,0.0],[1009.4,0.0],[1008.7,0.0],[1008.4,0.0],[1008.3,0.0],[1008.4,0.0],[1008.8,0.0],[1008.6,0.0],[1008.5,0.0],[1008.1,0.0],[1007.7,0.0],[1007.4,0.0],[1007.2,0.0],[1006.9,0.0],[1006.6,0.0],[1006.5,0.0],[1006.8,0.0],[1007.0,0.0],[1007.1,0.0],[1007.2,0.0],[1006.9,0.0],[1006.9,0.0],[1006.5,0.0],[1006.2,0.0],[1005.9,0.0],[1005.5,0.0],[1005.3,0.0],[1005.4,0.0],[1005.4,0.0],[1005.6,0.0],[1005.9,0.0],[1005.9,0.0],[1005.9,0.0],[1005.8,0.0],[1005.6,0.0],[1005.3,0.0],[1005.3,0.0],[1005.2,0.0],[1005.4,0.0],[1005.6,0.0],[1006.1,0.0],[1006.8,0.0],[1007.4,0.0],[1007.7,0.0],[1008.0,0.0],[1008.2,0.0],[1008.3,0.0],[1008.3,0.0],[1008.1,0.0],[1008.3,0.0],[1008.2,0.0],[1008.6,0.0],[1009.1,0.0],[1009.7,0.0],[1010.9,0.0],[1011.7,0.0],[1012.3,0.0],[1014.1,0.0],[1014.5,0.0],[1014.7,0.0],[1015.2,0.0],[1015.7,0.0],[1016.1,0.0],[1016.6,0.0],[1017.0,0.0],[1017.0,0.0],[1017.0,0.0],[1016.8,0.0],[1016.5,0.0],[1016.0,0.0],[1015.8,0.0],[1015.9,0.0],[1015.9,0.0],[1016.1,0.0],[1016.7,0.0],[1017.2,0.0],[1017.5,0.0],[1017.4,0.0],[1017.3,0.0],[1017.3,0.0],[1017.1,0.0],[1016.9,0.0],[1016.7,0.0],[1016.7,0.0],[1016.7,0.0],[1017.0,0.0],[1017.1,0.0],[1017.1,0.0],[1017.4,0.0],[1017.3,0.0],[1016.9,0.0],[1016.5,0.0],[1016.1,0.0],[1015.5,0.0],[1015.1,0.0],[1015.0,0.0],[1014.8,0.0],[1014.7,0.0],[1015.0,0.0],[1015.2,0.0],[1015.0,0.0],[1014.6,0.0],[1014.3,0.0],[1013.9,0.0],[1013.7,0.0],[1013.5,0.0],[1013.3,0.0],[1013.2,0.0],[1013.3,0.0],[1013.3,0.0],[1013.4,0.0],[1013.5,0.0],[1013.5,0.0],[1013.4,0.0],[1012.8,0.0],[1012.4,0.0],[1012.2,0.0],[1012.0,0.0],[1011.7,0.0],[1011.5,0.0],[1011.3,0.0],[1011.3,0.0],[1011.5,0.0],[1011.7,0.0],[1011.6,0.0],[1011.5,0.0],[1011.4,0.0],[1011.1,0.0],[1010.8,0.0],[1010.8,0.0],[1010.8,0.0],[1010.9,0.0],[1011.2,0.0],[1011.5,0.0],[1011.6,0.0],[1011.8,0.0],[1011.9,0.0],[1011.9,0.0],[1011.7,0.0],[1011.5,0.0],[1011.3,0.0],[1011.1,0.0],[1010.8,0.0],[1011.0,0.0],[1011.1,0.0],[1011.2,0.0],[1011.6,0.0],[1011.8,0.0],[1011.8,0.0],[1011.9,0.0],[1011.9,0.0],[1011.7,0.0],[1011.4,0.0],[1011.3,0.0],[1011.2,0.0],[1011.4,0.0],[1011.7,0.0],[1012.0,0.0],[1012.2,0.0],[1012.5,0.0],[1012.7,0.0],[1012.7,0.0],[1012.5,0.0],[1012.1,0.0],[1011.8,0.0],[1011.5,0.0],[1011.1,0.0],[1011.0,0.0],[1010.9,0.0],[1011.0,0.0],[1011.4,0.0],[1011.5,0.0],[1011.3,0.0],[1011.4,0.0],[1011.5,0.0],[1011.3,0.0],[1011.0,0.0],[1010.9,0.0],[1010.9,0.0],[1010.9,0.0],[1011.1,0.0],[1011.5,0.0],[1011.5,0.0],[1011.6,0.0],[1011.8,0.0],[1011.6,0.0],[1011.5,0.0],[1011.3,0.0],[1011.1,0.0],[1011.1,0.0],[1011.1,0.0],[1011.1,0.0],[1011.3,0.0],[1011.6,0.0],[1012.0,0.0],[1012.4,0.0],[1012.4,0.0],[1012.7,0.0],[1012.6,0.0],[1012.4,0.0],[1012.3,0.0],[1012.3,0.0],[1012.2,0.0],[1012.2,0.0],[1012.4,0.0],[1012.7,0.0],[1012.8,0.0],[1013.0,0.0],[1013.3,0.0],[1013.4,0.0],[1013.4,0.0],[1013.3,0.0],[1012.9,0.0],[1012.6,0.0],[1012.4,0.0],[1012.1,0.0],[1012.0,0.0],[1012.1,0.0],[1012.5,0.0],[1012.7,0.0],[1012.8,0.0],[1013.2,0.0],[1013.1,0.0],[1013.0,0.0],[1012.9,0.0],[1012.9,0.0],[1012.8,0.0],[1012.6,0.0],[1012.7,0.0],[1012.9,0.0],[1013.3,0.0],[1013.5,0.0],[1013.7,0.0],[1013.8,0.0],[1013.8,0.0],[1013.5,0.0],[1013.2,0.0],[1012.9,0.0],[1012.7,0.0],[1012.4,0.0],[1012.4,0.0],[1012.6,0.0],[1013.1,0.0],[1013.2,0.0],[1013.2,0.0],[1013.1,0.0],[1012.7,0.0],[1012.3,0.0],[1012.0,0.0],[1011.8,0.0],[1011.7,0.0],[1011.5,0.0],[1011.4,0.0],[1011.4,0.0],[1011.4,0.0],[1011.7,0.0],[1011.9,1.0],[1011.8,0.0],[1011.5,0.0],[1011.2,0.0],[1010.7,0.0],[1010.3,0.0],[1010.0,0.0],[1009.9,0.0],[1009.8,0.0],[1009.8,0.0],[1010.2,0.0],[1010.5,0.0],[1010.5,0.0],[1010.6,0.0],[1010.5,0.0],[1010.2,0.0],[1009.9,0.0],[1009.6,0.0],[1009.6,0.0],[1009.8,0.0],[1009.9,0.0],[1010.1,0.0],[1010.3,0.0],[1010.6,0.0],[1010.9,0.0],[1011.1,0.0],[1011.2,0.0],[1011.3,0.0],[1011.3,0.0],[1011.4,0.0],[1011.2,0.0],[1011.5,0.0],[1011.7,0.0],[1011.9,0.0],[1012.6,0.0],[1012.9,0.0],[1012.9,0.0],[1012.9,0.0],[1013.1,0.0],[1013.1,0.0],[1012.8,0.0],[1012.6,0.0],[1012.6,0.0],[1012.8,0.0],[1013.0,0.0],[1013.3,0.0],[1013.7,0.0],[1013.9,0.0],[1014.0,0.0],[1014.0,0.0],[1014.0,0.0],[1013.8,0.0],[1013.3,0.0],[1013.0,0.0],[1012.6,0.0],[1012.3,0.0],[1012.1,0.0],[1012.2,0.0],[1012.1,0.0],[1012.1,0.0],[1012.0,0.0],[1012.0,0.0],[1011.6,0.0],[1011.5,0.0],[1011.5,0.0],[1010.7,0.0],[1010.5,0.0],[1009.7,0.0],[1009.6,0.0],[1009.5,0.0],[1009.4,0.0],[1009.4,0.0],[1009.1,0.0],[1008.4,0.0],[1007.6,0.0],[1007.4,0.0],[1007.0,0.0],[1006.2,0.0],[1006.1,0.0],[1007.0,0.0],[1007.1,0.0],[1007.6,0.0],[1006.9,0.0],[1006.1,0.0],[1008.1,0.0],[1007.8,0.0],[1007.1,0.0],[1006.0,0.0],[1006.1,0.0],[1006.1,0.0],[1005.4,0.0],[1005.3,0.0],[1005.8,0.0],[1005.8,0.0],[1006.4,0.0],[1007.3,0.0],[1007.1,0.0],[1007.0,0.0],[1006.8,0.0],[1006.7,0.0],[1006.2,0.0],[1006.4,0.0],[1006.5,0.0],[1006.5,0.0],[1006.9,0.0],[1007.7,0.0],[1008.0,0.0],[1008.2,0.0],[1008.6,0.0],[1008.3,0.0],[1008.4,0.0],[1008.5,0.0],[1008.4,0.0],[1008.6,0.0],[1008.7,0.0],[1008.8,0.0],[1009.2,0.0],[1009.3,0.0],[1009.4,0.0],[1009.9,0.0],[1010.3,0.0],[1010.4,0.0],[1010.2,0.0],[1009.9,0.0],[1009.8,0.0],[1009.8,0.0],[1009.9,0.0],[1010.3,1.0],[1010.6,1.0],[1010.9,1.0],[1011.3,1.0],[1011.5,1.0],[1011.5,1.0],[1011.4,1.0],[1011.3,0.0],[1011.1,0.0],[1010.8,0.0],[1011.4,0.0],[1011.9,0.0],[1012.4,0.0],[1012.7,0.0],[1012.7,0.0],[1012.7,0.0],[1012.4,0.0],[1012.2,0.0],[1012.2,0.0],[1012.3,0.0],[1012.5,0.0],[1012.8,0.0],[1013.4,0.0],[1014.0,0.0],[1014.4,0.0],[1014.5,0.0],[1014.7,0.0],[1014.9,0.0],[1015.2,0.0],[1015.4,0.0],[1015.5,0.0],[1018.0,0.0],[1018.5,0.0],[1018.7,0.0],[1018.8,0.0],[1018.8,0.0],[1018.6,0.0],[1018.6,0.0],[1018.7,0.0],[1018.9,0.0],[1019.3,0.0],[1019.7,0.0],[1020.1,0.0],[1020.4,0.0],[1020.7,0.0],[1020.6,0.0],[1020.9,0.0],[1021.3,0.0],[1021.5,0.0],[1021.9,0.0],[1022.0,0.0],[1021.8,0.0],[1021.5,0.0],[1021.3,0.0],[1021.2,0.0],[1021.1,0.0],[1020.9,0.0],[1021.2,0.0],[1021.4,0.0],[1021.6,0.0],[1021.7,0.0],[1021.7,0.0],[1021.7,0.0],[1021.7,0.0],[1021.1,0.0],[1021.3,1.0],[1021.4,1.0],[1021.6,1.0],[1021.6,1.0],[1021.6,1.0],[1021.5,1.0],[1021.2,1.0],[1021.0,1.0],[1020.9,1.0],[1020.7,1.0],[1020.9,1.0],[1021.1,1.0],[1021.5,1.0],[1021.4,1.0],[1021.3,0.0],[1021.2,0.0],[1021.1,0.0],[1020.8,0.0],[1020.4,0.0],[1020.0,0.0],[1019.8,0.0],[1019.7,0.0],[1019.5,0.0],[1019.4,1.0],[1019.6,1.0],[1019.7,1.0],[1019.5,1.0],[1019.4,1.0],[1019.2,1.0],[1018.8,1.0],[1018.5,1.0],[1018.4,1.0],[1018.4,1.0],[1018.4,0.0],[1018.5,1.0],[1018.6,0.0],[1018.8,0.0],[1018.7,0.0],[1018.8,0.0],[1018.8,0.0],[1018.8,0.0],[1018.5,0.0],[1018.2,0.0],[1017.8,0.0],[1017.8,0.0],[1017.8,0.0],[1018.0,0.0],[1018.2,0.0],[1018.3,0.0],[1018.0,0.0],[1018.0,0.0],[1017.7,0.0],[1017.2,0.0],[1016.9,0.0],[1016.5,0.0],[1016.4,0.0],[1016.4,0.0],[1016.4,0.0],[1016.5,0.0],[1016.6,0.0],[1016.6,0.0],[1016.5,0.0],[1016.4,0.0],[1016.3,0.0],[1016.3,0.0],[1016.5,0.0],[1017.2,0.0],[1017.5,0.0],[1017.8,0.0],[1018.2,0.0],[1018.7,0.0],[1018.7,0.0],[1019.2,0.0],[1019.2,0.0],[1018.9,0.0],[1018.9,0.0],[1018.8,0.0],[1019.1,0.0],[1019.5,0.0],[1020.1,0.0],[1020.6,0.0],[1020.8,0.0],[1021.1,0.0],[1021.1,1.0],[1021.0,1.0],[1020.8,1.0],[1021.0,1.0],[1020.8,1.0],[1020.5,1.0],[1020.3,1.0],[1020.1,1.0],[1020.1,1.0],[1020.1,1.0],[1020.1,1.0],[1020.2,1.0],[1020.4,1.0],[1020.2,1.0],[1019.9,1.0],[1019.7,1.0],[1019.2,1.0],[1018.9,1.0],[1018.6,1.0],[1018.4,1.0],[1018.4,1.0],[1018.5,1.0],[1018.5,1.0],[1018.2,1.0],[1018.0,1.0],[1017.7,1.0],[1017.5,1.0],[1017.3,1.0],[1016.9,1.0],[1016.3,1.0],[1015.7,1.0],[1015.5,1.0],[1015.5,1.0],[1015.6,1.0],[1015.7,1.0],[1016.0,1.0],[1016.1,1.0],[1016.1,1.0],[1016.0,1.0],[1015.7,1.0],[1015.4,0.0],[1015.1,1.0],[1015.1,1.0],[1015.3,1.0],[1015.9,1.0],[1016.4,1.0],[1016.8,1.0],[1017.1,1.0],[1017.4,1.0],[1017.6,1.0],[1017.9,1.0],[1018.0,1.0],[1018.2,1.0],[1018.2,1.0],[1018.4,1.0],[1018.7,1.0],[1019.0,1.0],[1019.5,1.0],[1020.0,1.0],[1020.5,1.0],[1020.8,0.0],[1020.9,0.0],[1020.9,0.0],[1020.8,0.0],[1020.4,0.0],[1019.9,0.0],[1019.8,0.0],[1019.9,0.0],[1020.2,0.0],[1020.5,0.0],[1020.8,0.0],[1020.9,0.0],[1020.8,0.0],[1020.4,0.0],[1020.1,1.0],[1019.9,1.0],[1019.7,1.0],[1019.3,1.0],[1018.9,1.0],[1018.9,1.0],[1019.0,1.0],[1019.2,1.0],[1019.4,1.0],[1019.6,0.0],[1019.8,0.0],[1019.6,0.0],[1019.4,1.0],[1018.9,0.0],[1018.3,0.0],[1018.0,0.0],[1017.5,0.0],[1017.2,0.0],[1017.2,1.0],[1017.4,0.0],[1017.5,1.0],[1017.6,1.0],[1017.6,1.0],[1017.5,1.0],[1017.4,1.0],[1017.2,1.0],[1017.1,1.0],[1016.9,1.0],[1016.7,1.0],[1016.8,1.0],[1016.8,1.0],[1017.2,1.0],[1017.6,1.0],[1018.0,1.0],[1018.3,0.0],[1018.5,0.0],[1018.3,0.0],[1017.9,0.0],[1017.5,1.0],[1017.1,1.0],[1017.0,1.0],[1016.8,1.0],[1016.9,1.0],[1017.1,1.0],[1017.5,1.0],[1017.6,1.0],[1017.6,1.0],[1017.6,1.0],[1017.3,1.0],[1017.0,1.0],[1016.8,1.0],[1016.7,1.0],[1016.6,1.0],[1016.6,1.0],[1016.6,1.0],[1016.8,1.0],[1017.0,1.0],[1017.3,1.0],[1017.5,1.0],[1017.5,1.0],[1017.3,1.0],[1016.8,1.0],[1016.3,1.0],[1015.8,1.0],[1015.3,1.0],[1015.2,1.0],[1015.2,1.0],[1015.2,1.0],[1015.2,1.0],[1015.1,1.0],[1014.9,1.0],[1014.6,1.0],[1014.3,1.0],[1012.2,1.0],[1012.2,1.0],[1012.3,1.0],[1012.3,0.0],[1012.2,0.0],[1012.0,0.0],[1011.3,0.0],[1010.3,0.0],[1009.8,0.0],[1009.5,0.0],[1009.2,0.0],[1021.3,1.0],[1021.4,1.0],[1021.6,1.0],[1021.4,1.0],[1021.3,1.0],[1021.6,1.0],[1021.9,1.0],[1022.1,1.0],[1022.5,1.0],[1023.0,1.0],[1023.3,1.0],[1023.4,1.0],[1023.4,1.0],[1023.2,1.0],[1023.1,1.0],[1023.0,1.0],[1022.8,1.0],[1022.8,1.0],[1023.1,1.0],[1023.4,1.0],[1023.4,1.0],[1023.6,1.0],[1024.0,1.0],[1024.4,1.0],[1024.5,1.0],[1024.6,1.0],[1024.6,1.0],[1024.3,1.0],[1024.1,1.0],[1024.1,1.0],[1024.3,1.0],[1024.3,1.0],[1024.6,1.0],[1025.1,1.0],[1025.3,1.0],[1025.4,1.0],[1025.7,1.0],[1025.5,1.0],[1025.5,1.0],[1025.4,1.0],[1025.5,1.0],[1025.5,1.0],[1025.4,1.0],[1025.6,1.0],[1025.9,1.0],[1025.8,1.0],[1026.2,1.0],[1026.6,1.0],[1026.6,1.0],[1026.7,1.0],[1026.6,1.0],[1026.1,1.0],[1025.9,1.0],[1025.8,1.0],[1025.8,1.0],[1025.7,1.0],[1025.8,1.0],[1026.1,0.0],[1026.2,0.0],[1026.1,1.0],[1026.1,1.0],[1025.9,1.0],[1025.7,1.0],[1025.6,1.0],[1025.4,1.0],[1025.0,1.0],[1024.7,1.0],[1024.7,1.0],[1024.5,1.0],[1024.5,1.0],[1024.0,0.0],[1023.9,1.0],[1023.9,1.0],[1023.9,1.0],[1024.2,0.0],[1024.2,1.0],[1024.1,0.0],[1024.1,0.0],[1023.8,0.0],[1023.5,0.0],[1023.3,0.0],[1023.0,0.0],[1022.7,0.0],[1022.7,0.0],[1022.6,0.0],[1023.1,0.0],[1023.4,0.0],[1023.5,0.0],[1023.7,0.0],[1023.6,0.0],[1023.2,0.0],[1023.0,0.0],[1022.7,0.0],[1022.4,0.0],[1022.1,0.0],[1022.1,0.0],[1022.3,0.0],[1022.4,0.0],[1022.5,0.0],[1022.5,0.0],[1022.3,0.0],[1022.1,0.0],[1022.1,0.0],[1021.9,0.0],[1021.6,0.0],[1021.4,0.0],[1021.3,0.0],[1021.1,0.0],[1021.4,0.0],[1021.8,0.0],[1021.7,0.0],[1021.6,0.0],[1021.5,1.0],[1021.0,1.0],[1020.6,1.0],[1020.1,1.0],[1019.9,1.0],[1019.8,1.0],[1019.9,1.0],[1020.1,0.0],[1020.3,0.0],[1020.2,0.0],[1019.9,0.0],[1019.8,0.0],[1019.5,0.0],[1019.3,1.0],[1019.4,0.0],[1019.1,0.0],[1018.9,0.0],[1018.9,0.0],[1018.9,0.0],[1018.8,0.0],[1019.2,0.0],[1019.5,0.0],[1019.5,1.0],[1019.5,1.0],[1019.2,1.0],[1018.6,1.0],[1018.2,1.0],[1018.1,1.0],[1018.1,1.0],[1018.1,1.0],[1018.3,1.0],[1018.6,0.0],[1018.8,0.0],[1019.1,0.0],[1019.2,0.0],[1019.0,0.0],[1018.9,0.0],[1018.8,0.0],[1019.1,0.0],[1019.6,0.0],[1019.6,0.0],[1019.5,1.0],[1019.3,1.0],[1019.0,0.0],[1018.9,0.0],[1019.0,0.0],[1018.8,0.0],[1018.9,0.0],[1019.0,0.0],[1019.1,0.0],[1019.0,0.0],[1018.9,0.0],[1019.0,0.0],[1018.9,0.0],[1018.8,0.0],[1018.5,0.0],[1017.8,0.0],[1018.2,0.0],[1018.3,0.0],[1018.2,0.0],[1017.7,0.0],[1017.0,0.0],[1016.9,0.0],[1017.0,0.0],[1017.0,0.0],[1017.1,0.0],[1017.4,1.0],[1017.7,0.0],[1017.8,0.0],[1018.1,0.0],[1018.2,0.0],[1018.2,0.0],[1018.1,0.0],[1018.2,0.0],[1018.2,0.0],[1019.4,0.0],[1020.0,0.0],[1020.2,0.0],[1020.4,0.0],[1020.4,0.0],[1020.2,0.0],[1020.0,0.0],[1019.8,0.0],[1019.7,0.0],[1019.9,0.0],[1020.1,0.0],[1020.3,0.0],[1020.4,0.0],[1020.7,0.0],[1020.8,0.0],[1020.8,0.0],[1020.7,0.0],[1020.7,0.0],[1020.9,0.0],[1021.2,0.0],[1021.4,0.0],[1021.4,0.0],[1021.2,0.0],[1020.8,0.0],[1020.6,0.0],[1020.5,0.0],[1020.4,0.0],[1020.6,0.0],[1021.0,0.0],[1021.4,0.0],[1021.6,0.0],[1021.8,0.0],[1021.9,0.0],[1021.7,0.0],[1021.8,0.0],[1021.9,0.0],[1022.0,0.0],[1021.9,0.0],[1022.0,0.0],[1021.8,0.0],[1021.9,0.0],[1022.6,0.0],[1022.5,0.0],[1023.4,0.0],[1023.7,0.0],[1023.9,0.0],[1023.8,0.0],[1023.7,0.0],[1023.6,0.0],[1023.7,0.0],[1023.9,0.0],[1024.3,0.0],[1025.1,0.0],[1025.5,0.0],[1025.7,0.0],[1025.8,0.0],[1026.1,0.0],[1026.4,0.0],[1026.6,0.0],[1026.7,0.0],[1026.9,0.0],[1027.0,0.0],[1026.8,0.0],[1026.9,0.0],[1027.4,0.0],[1027.8,0.0],[1028.1,0.0],[1028.3,0.0],[1028.7,0.0],[1029.0,0.0],[1028.7,0.0],[1028.6,0.0],[1028.2,0.0],[1028.1,0.0],[1028.2,0.0],[1028.3,0.0],[1028.6,0.0],[1029.0,0.0],[1029.0,0.0],[1029.3,0.0],[1029.3,0.0],[1029.1,0.0],[1028.9,0.0],[1028.8,0.0],[1028.6,0.0],[1028.4,0.0],[1028.3,0.0],[1028.1,0.0],[1028.0,0.0],[1028.1,0.0],[1028.1,0.0],[1028.2,0.0],[1028.2,0.0],[1027.9,1.0],[1027.6,0.0],[1026.9,0.0],[1026.2,0.0],[1025.8,0.0],[1025.5,0.0],[1025.5,0.0],[1025.5,0.0],[1025.6,0.0],[1025.4,0.0],[1025.1,0.0],[1025.0,0.0],[1024.6,0.0],[1024.1,0.0],[1023.6,0.0],[1023.0,0.0],[1022.7,0.0],[1022.4,0.0],[1022.1,0.0],[1021.8,0.0],[1021.4,0.0],[1021.2,0.0],[1020.9,0.0],[1020.5,0.0],[1020.0,0.0],[1019.3,0.0],[1018.5,0.0],[1017.9,0.0],[1017.5,0.0],[1017.1,0.0],[1016.6,0.0],[1016.6,0.0],[1016.5,0.0],[1016.5,0.0],[1016.5,0.0],[1016.5,0.0],[1016.4,0.0],[1016.3,0.0],[1016.1,0.0],[1015.9,0.0],[1015.5,0.0],[1015.5,0.0],[1015.7,0.0],[1015.4,0.0],[1015.6,0.0],[1016.2,0.0],[1016.6,0.0],[1016.7,0.0],[1016.8,0.0],[1016.9,0.0],[1016.9,0.0],[1016.9,0.0],[1017.0,0.0],[1017.1,0.0],[1017.2,0.0],[1017.5,1.0],[1017.8,0.0],[1018.1,0.0],[1018.5,0.0],[1019.0,0.0],[1023.1,0.0],[1023.6,0.0],[1023.9,1.0],[1024.0,1.0],[1024.1,0.0],[1025.7,0.0],[1026.4,0.0],[1026.8,0.0],[1027.1,0.0],[1027.4,0.0],[1028.4,0.0],[1028.2,0.0],[1028.7,0.0],[1028.7,1.0],[1028.2,1.0],[1027.7,1.0],[1027.3,1.0],[1027.2,1.0],[1027.2,1.0],[1027.4,1.0],[1027.8,1.0],[1028.0,0.0],[1027.9,0.0],[1028.0,0.0],[1028.1,0.0],[1027.9,0.0],[1027.6,0.0],[1025.2,1.0],[1022.1,0.0],[1022.0,0.0],[1022.0,1.0],[1021.7,1.0],[1021.0,1.0],[1020.3,1.0],[1019.7,1.0],[1019.0,1.0],[1018.9,1.0],[1018.8,1.0],[1018.7,1.0],[1018.7,1.0],[1018.6,1.0],[1018.4,0.0],[1018.2,0.0],[1017.4,0.0],[1015.7,0.0],[1016.0,0.0],[1016.2,1.0],[1016.4,1.0],[1016.1,1.0],[1015.6,1.0],[1015.4,1.0],[1015.4,1.0],[1015.3,1.0],[1015.7,1.0],[1016.0,1.0],[1016.3,1.0],[1016.4,1.0],[1016.7,0.0],[1016.9,0.0],[1017.0,0.0],[1017.4,0.0],[1018.1,0.0],[1018.5,0.0],[1018.7,1.0],[1018.7,1.0],[1018.5,1.0],[1018.2,1.0],[1018.2,1.0],[1018.3,1.0],[1018.4,1.0],[1018.7,1.0],[1019.3,1.0],[1019.7,1.0],[1019.9,1.0],[1020.0,1.0],[1020.3,0.0],[1021.9,0.0],[1022.4,0.0],[1022.7,1.0],[1022.8,1.0],[1022.6,1.0],[1022.4,1.0],[1022.3,1.0],[1022.5,1.0],[1022.8,1.0],[1022.9,1.0],[1023.3,1.0],[1023.4,1.0],[1023.4,1.0],[1023.4,1.0],[1023.4,0.0],[1023.2,0.0],[1022.8,0.0],[1023.0,0.0],[1023.1,1.0],[1023.3,1.0],[1022.8,1.0],[1022.2,1.0],[1021.7,1.0],[1021.6,1.0],[1021.6,1.0],[1021.8,1.0],[1022.1,1.0],[1022.2,1.0],[1022.1,1.0],[1022.0,0.0],[1022.1,0.0],[1021.8,0.0],[1022.0,0.0],[1022.3,0.0],[1022.5,0.0],[1022.6,0.0],[1022.1,0.0],[1021.4,0.0],[1021.0,0.0],[1020.8,0.0],[1020.9,0.0],[1020.9,0.0],[1021.0,0.0],[1021.1,0.0],[1021.3,0.0],[1021.3,0.0],[1021.5,0.0],[1021.7,0.0],[1022.1,0.0],[1022.7,0.0],[1022.7,1.0],[1022.6,1.0],[1022.2,1.0],[1021.9,1.0],[1021.8,1.0],[1021.9,1.0],[1022.0,1.0],[1022.0,1.0],[1022.2,1.0],[1022.3,0.0],[1022.5,0.0],[1022.6,0.0],[1022.4,0.0],[1021.9,0.0],[1022.2,0.0],[1022.4,0.0],[1022.5,0.0],[1022.1,0.0],[1021.6,0.0],[1021.2,0.0],[1021.3,0.0],[1021.4,0.0],[1021.6,0.0],[1021.7,1.0],[1021.9,0.0],[1022.1,0.0],[1022.5,0.0],[1022.7,0.0],[1023.1,0.0],[1023.2,0.0],[1024.9,0.0],[1025.5,0.0],[1025.7,0.0],[1025.8,0.0],[1025.6,0.0],[1025.2,0.0],[1024.9,0.0],[1024.9,1.0],[1025.3,1.0],[1025.6,1.0],[1026.0,1.0],[1026.3,0.0],[1026.5,0.0],[1026.9,0.0],[1027.3,0.0],[1027.7,0.0],[1027.9,0.0],[1028.2,0.0],[1028.5,0.0],[1028.7,0.0],[1028.7,0.0],[1028.3,0.0],[1028.0,0.0],[1027.8,0.0],[1027.8,0.0],[1027.9,0.0],[1028.0,0.0],[1028.4,0.0],[1029.1,0.0],[1029.4,0.0],[1029.5,0.0],[1029.1,0.0],[1029.0,0.0],[1029.3,0.0],[1029.3,1.0],[1029.2,1.0],[1028.8,1.0],[1028.3,0.0],[1027.9,1.0],[1027.8,1.0],[1027.8,1.0],[1027.6,1.0],[1027.5,1.0],[1027.5,1.0],[1027.2,0.0],[1027.0,0.0],[1026.7,0.0],[1026.1,0.0],[1024.6,0.0],[1024.3,0.0],[1023.9,0.0],[1024.3,0.0],[1024.5,0.0],[1024.5,0.0],[1024.5,0.0],[1023.9,1.0],[1023.3,1.0],[1022.8,1.0],[1022.4,1.0],[1022.5,1.0],[1022.4,1.0],[1022.5,1.0],[1022.7,1.0],[1022.9,1.0],[1023.1,1.0],[1023.3,0.0],[1023.6,0.0],[1023.9,0.0],[1024.0,0.0],[1023.9,0.0],[1024.0,0.0],[1024.3,0.0],[1024.4,0.0],[1025.7,0.0],[1025.5,0.0],[1025.2,0.0],[1024.8,0.0],[1024.3,0.0],[1023.9,0.0],[1023.6,0.0],[1023.5,0.0],[1023.5,0.0],[1023.4,0.0],[1023.3,0.0],[1022.3,0.0],[1021.5,0.0],[1021.3,0.0],[1021.0,0.0],[1020.8,0.0],[1020.8,0.0],[1020.9,0.0],[1021.2,0.0],[1021.4,1.0],[1021.5,1.0],[1021.0,1.0],[1020.7,1.0],[1020.3,1.0],[1020.1,1.0],[1020.2,1.0],[1020.3,1.0],[1020.8,1.0],[1021.3,1.0],[1022.0,1.0],[1022.6,1.0],[1023.3,1.0],[1023.5,1.0],[1023.9,0.0],[1024.2,0.0],[1024.8,0.0],[1025.2,0.0],[1025.4,0.0],[1025.7,0.0],[1026.3,0.0],[1026.7,0.0],[1027.5,0.0],[1028.3,0.0],[1028.6,1.0],[1028.6,1.0],[1028.3,1.0],[1027.7,1.0],[1027.3,1.0],[1026.8,1.0],[1026.8,1.0],[1026.8,1.0],[1026.7,1.0],[1026.4,1.0],[1026.3,1.0],[1026.1,1.0],[1025.8,1.0],[1025.4,1.0],[1025.1,1.0],[1024.7,0.0],[1024.5,0.0],[1024.5,0.0],[1024.2,0.0],[1024.6,0.0],[1024.9,0.0],[1024.9,1.0],[1024.2,1.0],[1023.8,1.0],[1023.4,1.0],[1023.3,1.0],[1023.3,1.0],[1023.6,1.0],[1023.9,1.0],[1024.3,1.0],[1024.4,1.0],[1024.3,0.0],[1024.3,0.0],[1024.2,0.0],[1024.3,0.0],[1023.9,0.0],[1023.9,1.0],[1024.2,1.0],[1024.5,1.0],[1024.4,1.0],[1023.9,1.0],[1023.1,1.0],[1022.6,1.0],[1022.4,1.0],[1022.3,1.0],[1022.3,1.0],[1022.3,1.0],[1022.6,1.0],[1023.1,1.0],[1023.3,1.0],[1023.6,1.0],[1023.7,0.0],[1023.8,0.0],[1023.7,0.0],[1024.0,0.0],[1024.2,0.0],[1024.2,0.0],[1024.4,0.0],[1024.3,0.0],[1023.8,0.0],[1023.5,0.0],[1023.0,0.0],[1022.5,0.0],[1022.2,0.0],[1022.0,0.0],[1021.9,1.0],[1021.9,0.0],[1021.8,0.0],[1021.6,0.0],[1021.5,0.0],[1021.4,0.0],[1021.3,0.0],[1021.2,0.0],[1021.1,0.0],[1021.3,0.0],[1021.7,0.0],[1022.1,0.0],[1022.2,0.0],[1021.8,0.0],[1021.4,0.0],[1020.8,0.0],[1020.6,0.0],[1020.6,0.0],[1020.5,0.0],[1020.6,0.0],[1020.8,0.0],[1020.9,0.0],[1020.8,0.0],[1020.8,0.0],[1020.7,0.0],[1020.6,0.0],[1019.8,0.0],[1020.0,0.0],[1020.3,0.0],[1020.3,0.0],[1020.4,0.0],[1020.0,0.0],[1019.3,0.0],[1018.8,0.0],[1018.6,0.0],[1018.5,0.0],[1018.3,0.0],[1018.3,0.0],[1018.5,0.0],[1018.5,0.0],[1018.4,0.0],[1018.4,0.0],[1017.6,0.0],[1017.1,0.0],[1016.8,0.0],[1016.5,0.0],[1016.4,0.0],[1016.1,0.0],[1016.1,0.0],[1016.2,0.0],[1016.3,0.0],[1016.2,0.0],[1015.6,0.0],[1014.9,0.0],[1014.1,0.0],[1013.5,0.0],[1013.0,0.0],[1012.7,0.0],[1012.3,0.0],[1012.2,0.0],[1012.5,0.0],[1012.3,0.0],[1012.0,0.0],[1012.0,0.0],[1012.1,0.0],[1011.9,0.0],[1011.7,0.0],[1011.3,0.0],[1011.4,0.0],[1011.0,0.0],[1010.7,0.0],[1010.8,0.0],[1010.9,0.0],[1010.8,0.0],[1010.9,0.0],[1010.9,0.0],[1010.7,0.0],[1010.1,0.0],[1009.4,0.0],[1009.1,0.0],[1008.9,0.0],[1008.9,0.0],[1009.1,0.0],[1009.2,0.0],[1009.6,0.0],[1009.6,0.0],[1009.8,0.0],[1009.9,0.0],[1009.8,0.0],[1009.8,0.0],[1009.6,0.0],[1009.6,0.0],[1009.8,0.0],[1009.5,0.0],[1009.3,0.0],[1009.2,0.0],[1009.5,0.0],[1009.9,0.0],[1010.3,0.0],[1010.8,0.0],[1011.1,0.0],[1010.4,0.0],[1010.0,0.0],[1009.8,0.0],[1010.0,0.0],[1009.6,0.0],[1009.9,0.0],[1009.8,0.0],[1009.7,0.0],[1009.7,0.0],[1010.1,0.0],[1010.6,0.0],[1010.9,0.0],[1011.2,0.0],[1011.6,0.0],[1012.1,0.0],[1012.6,0.0],[1013.2,0.0],[1013.2,0.0],[1013.4,0.0],[1013.5,0.0],[1013.6,0.0],[1013.9,0.0],[1014.2,0.0],[1013.7,0.0],[1013.4,0.0],[1012.9,0.0],[1012.8,0.0],[1013.2,0.0],[1013.8,0.0],[1014.0,0.0],[1014.6,0.0],[1015.5,0.0],[1016.6,0.0],[1017.2,0.0],[1017.2,0.0],[1018.1,0.0],[1018.0,0.0],[1021.4,0.0],[1022.3,0.0],[1023.2,0.0],[1023.9,0.0],[1024.4,0.0],[1024.2,0.0],[1023.9,0.0],[1023.9,0.0],[1023.8,0.0],[1024.0,0.0],[1024.1,0.0],[1024.2,0.0],[1024.3,0.0],[1024.4,0.0],[1024.3,0.0],[1024.3,0.0],[1022.9,0.0],[1023.1,0.0],[1023.2,0.0],[1023.0,0.0],[1022.6,0.0],[1022.1,0.0],[1021.8,0.0],[1021.7,0.0],[1021.6,0.0],[1021.5,0.0],[1021.5,0.0],[1021.5,0.0],[1021.3,0.0],[1021.1,0.0],[1021.0,0.0],[1020.9,0.0],[1021.0,0.0],[1021.5,0.0],[1021.6,0.0],[1021.4,0.0],[1021.2,0.0],[1021.5,0.0],[1021.7,0.0],[1022.1,0.0],[1022.3,0.0],[1022.1,0.0],[1022.4,0.0],[1022.5,0.0],[1022.5,0.0],[1022.5,0.0],[1022.5,0.0],[1022.2,0.0],[1022.0,0.0],[1021.8,0.0],[1022.0,0.0],[1022.2,0.0],[1022.5,0.0],[1022.7,0.0],[1022.5,0.0],[1021.9,0.0],[1021.4,0.0],[1020.9,0.0],[1020.5,0.0],[1020.5,0.0],[1020.4,0.0],[1020.4,0.0],[1020.4,0.0],[1020.2,0.0],[1020.0,0.0],[1019.8,0.0],[1019.8,0.0],[1019.6,0.0],[1019.1,0.0],[1018.7,0.0],[1018.7,0.0],[1018.3,0.0],[1018.1,0.0],[1018.0,0.0],[1018.0,0.0],[1018.1,0.0],[1018.2,0.0],[1018.6,0.0],[1018.7,0.0],[1018.2,0.0],[1017.7,0.0],[1017.2,0.0],[1016.9,0.0],[1016.8,0.0],[1016.9,0.0],[1017.1,0.0],[1017.4,0.0],[1017.3,0.0],[1017.3,0.0],[1017.2,0.0],[1017.1,0.0],[1017.3,0.0],[1017.3,0.0],[1017.4,0.0],[1017.6,0.0],[1017.5,0.0],[1017.3,0.0],[1017.5,0.0],[1017.8,0.0],[1018.1,0.0],[1018.6,0.0],[1019.0,0.0],[1018.9,0.0],[1018.9,0.0],[1018.7,0.0],[1018.5,0.0],[1018.3,0.0],[1018.4,0.0],[1018.7,0.0],[1018.8,0.0],[1018.9,0.0],[1019.2,0.0],[1019.4,0.0],[1019.6,0.0],[1019.4,0.0],[1019.4,0.0],[1019.4,0.0],[1019.5,0.0],[1019.6,0.0],[1019.8,0.0],[1019.9,0.0],[1020.0,0.0],[1020.2,0.0],[1020.3,0.0],[1020.5,0.0],[1020.7,0.0],[1020.4,0.0],[1019.8,0.0],[1019.2,0.0],[1018.5,0.0],[1018.0,0.0],[1017.6,0.0],[1017.3,0.0],[1016.9,0.0],[1016.7,0.0],[1016.4,0.0],[1015.7,0.0],[1015.0,0.0],[1014.1,0.0],[1013.5,0.0],[1012.9,0.0],[1012.3,0.0],[1011.5,0.0],[1010.4,0.0],[1009.8,0.0],[1009.1,0.0],[1008.9,0.0],[1008.7,0.0],[1008.1,0.0],[1007.2,0.0],[1006.3,0.0],[1005.5,0.0],[1004.6,0.0],[1004.5,0.0],[1005.4,0.0],[1006.2,0.0],[1006.7,0.0],[1007.3,1.0],[1007.9,1.0],[1008.2,1.0],[1007.9,0.0],[1007.9,0.0],[1007.4,0.0],[1007.3,0.0],[1006.8,0.0],[1006.3,0.0],[1005.7,0.0],[1004.8,0.0],[1003.6,0.0],[1002.9,0.0],[1002.2,0.0],[1001.7,0.0],[1001.2,0.0],[1000.7,0.0],[1000.1,0.0],[999.62,0.0],[999.11,0.0],[998.51,0.0],[997.78,0.0],[998.01,0.0],[998.11,0.0],[998.2,0.0],[998.29,0.0],[998.35,0.0],[998.38,0.0],[998.4,0.0],[998.37,0.0],[998.67,0.0],[999.17,0.0],[999.72,0.0],[1000.6,0.0],[1001.2,0.0],[1001.9,0.0],[1002.9,0.0],[1004.1,0.0],[1005.2,0.0],[1006.3,0.0],[1007.3,0.0],[1008.2,0.0],[1009.1,0.0],[1013.1,0.0],[1013.9,0.0],[1014.7,0.0],[1016.4,0.0],[1016.4,0.0],[1016.3,0.0],[1016.3,0.0],[1015.9,0.0],[1015.2,0.0],[1014.8,0.0],[1014.5,0.0],[1014.4,0.0],[1014.3,0.0],[1014.3,0.0],[1013.4,0.0],[1012.7,0.0],[1012.1,0.0],[1011.5,0.0],[1011.4,0.0],[1011.4,0.0],[1011.1,0.0],[1011.0,0.0],[1010.9,0.0],[1010.7,0.0],[1010.8,0.0],[1010.4,0.0],[1009.9,0.0],[1009.2,0.0],[1008.6,0.0],[1008.9,0.0],[1008.5,0.0],[1008.1,0.0],[1007.9,0.0],[1007.8,0.0],[1008.0,0.0],[1007.8,0.0],[1007.3,0.0],[1006.9,0.0],[1006.5,0.0],[1005.8,0.0],[1005.1,0.0],[1004.9,0.0],[1004.7,0.0],[1004.6,0.0],[1004.7,0.0],[1004.8,0.0],[1004.6,0.0],[1004.5,0.0],[1004.8,0.0],[1005.3,0.0],[1005.8,0.0],[1005.8,0.0],[1006.2,0.0],[1006.9,0.0],[1007.0,0.0],[1007.4,0.0],[1008.4,0.0],[1009.2,0.0],[1009.9,0.0],[1010.7,0.0],[1011.4,0.0],[1011.8,0.0],[1011.9,0.0],[1012.1,0.0],[1012.2,0.0],[1012.3,0.0],[1012.5,0.0],[1012.7,0.0],[1013.0,0.0],[1013.2,0.0],[1013.5,0.0],[1013.7,0.0],[1013.4,0.0],[1013.0,0.0],[1012.4,0.0],[1011.9,0.0],[1011.2,0.0],[1010.5,0.0],[1009.7,0.0],[1009.0,0.0],[1008.8,0.0],[1008.4,0.0],[1008.0,0.0],[1007.8,0.0],[1007.5,0.0],[1006.7,0.0],[1005.8,0.0],[1005.7,0.0],[1005.5,0.0],[1005.3,0.0],[1005.0,0.0],[1004.9,1.0],[1004.8,0.0],[1005.1,0.0],[1005.3,0.0],[1005.2,0.0],[1005.2,0.0],[1005.3,0.0],[1005.2,0.0],[1005.4,0.0],[1005.5,0.0],[1005.4,0.0],[1005.5,0.0],[1005.8,0.0],[1006.4,0.0],[1007.1,0.0],[1007.5,0.0],[1007.9,0.0],[1008.3,0.0],[1008.4,0.0],[1008.5,0.0],[1008.9,0.0],[1009.4,0.0],[1009.9,0.0],[1010.5,1.0],[1011.2,1.0],[1011.9,0.0],[1012.5,0.0],[1013.1,0.0],[1013.7,0.0],[1014.3,0.0],[1014.6,0.0],[1014.7,0.0],[1016.4,0.0],[1016.6,0.0],[1016.6,0.0],[1016.4,0.0],[1016.3,0.0],[1016.1,0.0],[1016.0,0.0],[1016.3,0.0],[1016.6,0.0],[1016.9,0.0],[1017.3,0.0],[1017.5,0.0],[1017.8,0.0],[1018.0,0.0],[1018.3,0.0],[1018.8,0.0],[1019.2,0.0],[1019.5,0.0],[1019.9,0.0],[1020.2,0.0],[1023.7,0.0],[1024.0,0.0],[1023.9,0.0],[1023.8,0.0],[1023.8,0.0],[1024.0,0.0],[1024.4,0.0],[1024.9,0.0],[1025.7,0.0],[1026.3,0.0],[1026.8,0.0],[1027.2,0.0],[1027.4,0.0],[1027.6,0.0],[1027.9,0.0],[1027.9,0.0],[1028.1,0.0],[1028.7,0.0],[1028.8,0.0],[1028.8,0.0],[1028.9,0.0],[1029.5,0.0],[1030.1,0.0],[1030.7,0.0],[1031.1,0.0],[1031.0,0.0],[1030.8,0.0],[1030.6,0.0],[1030.5,0.0],[1030.6,0.0],[1030.9,1.0],[1031.2,1.0],[1031.7,1.0],[1032.2,0.0],[1032.4,0.0],[1032.6,0.0],[1032.8,0.0],[1033.0,0.0],[1033.0,0.0],[1033.0,0.0],[1033.0,0.0],[1033.2,0.0],[1033.0,0.0],[1033.0,0.0],[1033.4,0.0],[1033.9,0.0],[1034.2,1.0],[1034.0,1.0],[1033.4,1.0],[1032.8,1.0],[1032.3,1.0],[1032.0,1.0],[1032.0,1.0],[1031.9,1.0],[1031.9,1.0],[1031.8,1.0],[1031.7,1.0],[1031.5,1.0],[1031.2,1.0],[1030.9,0.0],[1030.8,0.0],[1030.3,0.0],[1030.1,0.0],[1030.1,0.0],[1029.9,0.0],[1029.7,0.0],[1029.7,0.0],[1029.7,0.0],[1029.8,0.0],[1030.1,0.0],[1030.1,1.0],[1030.1,1.0],[1029.4,0.0],[1028.5,0.0],[1027.9,0.0],[1027.6,0.0],[1027.6,0.0],[1027.6,0.0],[1027.6,0.0],[1027.6,0.0],[1027.5,0.0],[1027.3,0.0],[1027.1,0.0],[1026.8,0.0],[1026.3,0.0],[1025.8,0.0],[1025.4,0.0],[1025.1,0.0],[1024.6,0.0],[1023.9,0.0],[1023.5,0.0],[1023.2,0.0],[1023.0,0.0],[1022.9,0.0],[1022.5,0.0],[1021.9,0.0],[1021.0,0.0],[1019.9,0.0],[1019.1,0.0],[1018.8,0.0],[1018.5,0.0],[1018.2,0.0],[1018.0,0.0],[1017.8,0.0],[1017.6,0.0],[1017.4,0.0],[1017.0,0.0],[1016.6,0.0],[1016.2,0.0],[1015.7,0.0],[1015.4,0.0],[1014.0,0.0],[1013.7,0.0],[1013.6,0.0],[1013.2,0.0],[1012.4,0.0],[1011.6,0.0],[1010.7,0.0],[1010.3,0.0],[1010.3,0.0],[1010.1,0.0],[1009.9,0.0],[1009.7,0.0],[1009.8,0.0],[1009.7,0.0],[1009.4,0.0],[1009.1,0.0],[1009.0,0.0],[1008.5,0.0],[1006.1,0.0],[1006.3,0.0],[1006.3,0.0],[1006.1,0.0],[1005.5,0.0],[1004.9,0.0],[1004.6,0.0],[1004.5,0.0],[1004.6,0.0],[1004.6,0.0],[1004.9,0.0],[1005.1,0.0],[1005.6,0.0],[1005.9,0.0],[1006.3,0.0],[1006.8,0.0],[1007.2,0.0]],\"domain\":{\"x\":[0.0,1.0],\"y\":[0.0,1.0]},\"hovertemplate\":\"TEY=%{customdata[1]}\\u003cbr\\u003eAP=%{customdata[0]}\\u003cextra\\u003e\\u003c\\u002fextra\\u003e\",\"labels\":[0,0,0,0,0,0,0,0,0,0,0,0,0,0,0,0,0,0,0,0,0,0,0,0,0,0,1,0,1,1,0,1,0,0,0,0,0,0,0,0,0,0,0,0,0,0,0,1,1,1,0,0,1,0,0,0,0,0,0,0,0,0,0,0,0,0,0,0,0,0,0,0,0,0,0,0,0,0,0,0,0,0,0,0,0,0,0,0,0,0,0,0,0,0,0,0,0,0,0,0,0,0,0,0,0,0,0,0,0,0,0,0,0,0,0,0,0,0,0,0,0,0,0,0,0,0,0,0,0,0,0,0,0,0,0,0,0,0,0,0,0,0,0,0,0,0,0,0,0,0,0,0,0,0,0,0,0,0,0,0,0,0,0,0,0,0,0,0,0,0,0,0,0,0,0,0,0,0,0,0,0,0,0,0,0,0,0,1,1,0,0,0,0,0,0,0,0,0,0,0,0,0,0,0,0,0,0,0,0,0,1,1,0,0,0,0,0,0,0,0,0,0,0,0,0,0,0,1,1,1,1,1,1,1,1,1,0,0,0,0,0,0,1,1,1,1,1,1,1,1,1,1,1,1,1,0,0,0,0,0,0,0,0,0,0,0,0,0,1,1,1,0,0,1,1,1,1,1,0,0,0,0,0,0,0,0,0,0,0,0,0,0,0,1,1,1,1,1,0,0,0,0,0,0,0,0,0,0,0,0,0,0,0,0,0,0,0,0,1,0,0,0,0,0,0,0,0,1,1,1,1,1,1,1,1,1,1,1,1,1,1,1,0,0,0,0,0,0,1,1,1,1,1,1,1,1,1,1,1,1,1,1,1,1,1,1,1,1,1,1,1,1,0,1,1,1,0,0,0,0,0,0,0,0,0,0,0,0,0,0,0,0,0,0,0,0,0,0,0,0,0,0,0,0,0,0,0,0,0,0,0,0,0,0,0,0,0,0,0,0,0,0,0,0,0,0,0,0,0,0,0,0,0,0,0,0,0,0,0,0,0,0,0,0,0,0,0,0,1,1,0,0,0,0,0,0,0,0,0,1,1,1,1,1,1,1,1,0,0,0,1,1,1,1,1,1,0,0,0,0,0,0,0,0,0,0,0,0,0,0,1,1,1,1,1,0,0,0,0,1,1,1,1,1,1,1,1,1,1,1,1,1,1,1,1,0,0,0,0,0,1,1,1,1,1,1,1,1,1,1,1,1,1,1,1,1,0,0,0,0,0,1,1,1,1,1,1,1,1,1,0,0,1,0,1,1,1,1,1,1,1,1,1,1,1,1,1,1,1,1,1,1,1,1,1,1,1,1,1,1,1,1,1,1,1,1,1,1,1,1,1,1,1,1,1,1,0,0,0,0,0,1,1,1,1,1,1,1,1,1,1,1,1,1,1,1,1,1,1,1,0,0,0,0,0,1,1,1,1,1,1,1,1,1,1,1,1,1,1,1,1,1,0,0,0,0,0,1,1,1,1,1,1,1,1,1,1,1,1,1,1,1,1,1,1,1,1,1,1,1,1,1,0,1,1,1,1,1,1,1,0,1,1,1,1,1,1,1,1,0,0,0,0,0,0,0,0,1,1,1,0,0,0,0,0,1,1,1,1,1,1,1,1,1,0,0,0,0,1,1,1,1,1,1,1,1,1,1,1,1,1,1,1,1,1,1,1,0,0,0,0,0,1,1,1,1,1,1,1,1,1,1,1,1,1,1,1,1,1,0,0,0,0,0,0,0,0,0,1,1,1,1,1,1,1,1,1,1,1,1,1,1,1,1,1,1,1,0,0,0,1,1,1,1,1,1,1,1,1,1,1,1,1,1,1,1,1,1,1,1,1,1,1,0,0,1,1,1,1,1,1,1,1,1,1,1,1,1,1,1,1,1,0,0,0,0,0,0,0,0,1,1,1,1,0,0,0,0,0,0,0,0,0,0,0,1,0,0,0,0,0,0,0,1,1,1,1,0,0,0,0,0,0,0,0,0,0,0,0,0,0,0,0,0,0,1,0,1,1,1,1,1,1,0,1,0,0,0,0,0,0,0,1,0,0,0,1,0,0,1,1,1,1,1,1,1,1,1,1,1,1,1,1,1,1,1,1,0,0,0,0,0,0,1,1,1,1,1,1,0,1,1,1,1,1,1,1,1,0,0,1,0,0,0,0,0,0,0,1,1,1,1,1,1,1,1,1,1,1,1,0,0,0,1,1,1,1,1,1,1,0,0,0,0,0,0,1,1,0,0,0,0,0,0,0,0,0,0,0,0,0,0,0,0,0,0,0,0,0,0,0,0,1,0,0,0,0,0,0,1,1,1,1,1,1,1,1,1,1,1,1,1,1,1,1,1,1,0,0,0,0,0,0,0,1,1,1,1,1,1,1,1,1,1,1,1,1,1,1,1,0,0,0,0,0,1,0,1,1,1,1,1,1,1,1,1,1,1,1,1,1,1,0,0,1,1,0,1,1,1,1,1,1,1,1,1,1,1,1,1,1,1,1,1,0,0,0,0,0,0,0,0,0,1,1,1,1,1,1,1,1,0,0,0,0,0,0,0,0,0,0,0,1,1,1,1,1,0,0,0,0,1,1,1,0,1,1,0,0,0,0,0,0,0,0,0,0,0,0,0,0,0,0,0,0,0,0,0,0,0,0,0,0,0,0,0,0,0,0,0,0,0,0,0,0,0,0,0,0,0,0,0,0,0,0,0,0,0,0,0,0,0,0,0,0,0,0,0,0,0,0,0,0,0,0,0,0,0,0,0,0,0,0,0,0,0,0,0,0,0,0,0,0,0,0,0,0,0,0,0,0,0,0,0,0,0,0,0,0,0,0,0,0,0,0,0,0,0,0,0,0,0,0,0,0,0,0,0,0,0,0,0,0,0,0,0,0,0,0,0,0,0,0,0,0,0,0,0,0,0,0,0,0,0,0,0,0,0,0,0,0,0,0,0,0,0,0,0,0,0,0,0,0,0,0,0,0,0,0,0,0,0,0,0,0,0,0,0,0,0,0,0,0,0,0,0,0,0,0,0,0,0,0,0,0,0,0,0,0,0,0,0,0,0,0,0,0,0,0,0,0,0,0,0,0,0,0,0,0,0,0,0,0,0,0,0,0,0,0,0,0,0,0,0,0,0,0,0,0,0,0,0,0,0,0,0,0,0,0,0,0,0,0,0,0,0,0,0,0,0,0,0,0,0,0,0,0,0,0,0,0,0,0,0,0,0,0,0,0,0,0,0,0,0,0,0,0,1,0,1,1,1,1,0,0,1,0,0,0,0,0,0,0,0,0,0,0,0,0,1,1,0,0,1,0,0,0,0,0,1,1,0,0,0,0,0,0,0,0,0,0,0,0,0,0,0,0,0,0,0,0,0,0,0,0,0,0,0,0,0,0,0,0,0,0,0,0,0,0,0,0,0,0,0,0,0,0,0,0,0,0,0,0,0,0,0,0,0,0,0,0,0,0,0,0,0,0,0,0,0,0,0,0,0,0,0,0,0,0,0,0,0,0,1,1,1,1,1,0,1,1,1,0,0,0,0,0,0,0,0,0,0,0,0,0,0,0,0,1,1,1,0,0,0,0,0,0,0,0,0,0,0,0,0,0,0,0,0,0,0,0,0,1,1,1,1,1,0,0,0,0,0,0,0,0,0,0,0,0,0,0,0,0,0,1,1,1,0,0,1,0,0,0,0,1,1,1,1,0,0,0,0,0,0,0,0,0,0,0,0,0,0,0,0,0,0,0,0,0,0,0,0,0,0,0,0,0,0,0,0,0,0,0,1,1,1,1,1,1,1,1,1,1,1,1,1,1,1,0,0,0,0,0,0,0,0,1,1,1,1,1,1,1,1,1,1,1,1,1,1,1,0,0,0,0,0,0,0,0,0,1,1,1,1,1,1,1,1,1,1,1,1,1,1,1,0,0,0,0,0,0,0,0,0,1,1,1,1,1,1,1,1,1,1,1,1,1,1,1,0,0,0,0,0,0,0,0,0,1,1,1,1,1,1,1,1,1,1,1,1,1,1,1,0,0,0,0,0,0,0,0,0,0,0,0,0,1,1,1,1,1,1,1,1,1,1,1,0,0,0,0,0,0,0,0,0,0,0,0,0,0,0,0,0,0,0,0,0,0,0,1,1,1,1,1,1,1,1,0,0,0,0,0,0,0,0,0,0,0,0,0,0,0,0,1,1,1,1,0,0,0,1,0,0,0,0,0,0,0,0,0,0,0,0,0,0,0,0,1,0,0,1,1,1,1,1,1,1,1,1,1,1,0,0,0,0,0,0,0,0,0,0,1,1,1,1,1,1,1,0,1,1,0,0,0,0,0,1,1,1,1,1,1,1,1,1,1,1,1,0,0,0,0,0,0,0,0,0,0,0,0,1,1,1,1,1,1,0,0,0,0,1,0,0,0,0,0,0,0,0,0,0,0,0,0,0,0,0,0,0,0,0,0,0,0,0,0,0,0,0,0,0,0,0,0,0,0,1,1,1,1,1,1,1,1,1,1,1,1,1,0,0,0,0,0,0,0,0,0,0,1,1,1,1,1,1,1,1,1,1,0,0,0,0,0,0,0,0,0,0,0,0,0,0,0,1,1,1,1,1,1,1,1,1,0,0,1,0,0,0,0,0,0,0,0,0,0,0,1,1,1,1,1,1,1,1,1,1,1,1,1,0,0,0,0,0,0,0,0,1,0,0,0,0,0,0,0,0,0,0,0,0,0,0,0,0,0,0,0,0,0,0,0,0,0,0,0,1,1,1,1,1,1,1,1,1,0,0,0,0,0,0,0,0,0,0,0,0,0,0,0,0,0,0,0,0,0,0,0,0,0,0,0,0,0,0,0,0,1,1,1,1,1,1,1,0,0,0,0,0,0,0,0,0,0,1,1,1,1,1,1,1,1,1,0,0,0,0,0,0,0,0,0,0,0,0,0,1,1,1,1,1,1,0,0,0,0,0,0,0,0,0,0,0,0,0,0,0,0,0,0,0,0,0,0,0,0,0,0,0,0,0,0,0,0,0,0,0,0,0,0,0,0,0,0,0,0,0,0,0,0,0,0,0,0,0,0,0,0,0,0,0,0,0,0,0,0,0,0,0,0,0,0,0,0,0,0,0,0,0,0,0,0,0,0,0,0,0,0,0,0,0,0,0,0,0,0,0,0,0,0,0,0,0,0,0,0,0,0,0,0,0,0,0,0,0,0,0,0,0,0,0,0,0,0,0,0,0,0,0,0,0,0,0,0,0,0,0,0,0,0,0,0,0,0,0,0,0,0,0,0,0,0,0,0,0,0,0,0,0,0,0,0,0,0,0,0,0,0,0,0,0,1,1,0,0,0,0,0,1,1,1,1,0,0,0,0,0,0,0,0,0,0,0,0,0,0,0,0,0,0,0,0,0,0,0,0,0,0,0,0,0,0,0,0,0,0,0,1,0,0,0,0,0,0,0,0,0,0,0,0,0,0,0,0,0,0,0,0,0,0,0,0,0,0,0,0,0,0,0,0,0,0,0,0,0,0,0,0,0,0,0,0,0,0,0,0,0,0,0,0,0,0,0,0,0,0,0,0,0,0,0,0,0,0,0,0,0,0,0,0,0,0,0,0,0,0,0,0,0,0,0,0,0,0,0,0,0,0,0,0,0,0,0,0,0,0,0,0,0,0,0,0,0,0,0,0,0,0,0,0,0,0,0,0,0,0,0,0,0,0,0,0,0,0,0,0,0,0,0,0,0,0,0,0,0,0,0,0,0,0,0,0,0,0,0,0,0,0,0,0,0,0,0,0,0,0,0,0,0,0,0,0,0,0,0,0,0,0,0,0,0,0,0,0,0,0,0,0,0,0,0,0,0,0,0,0,0,0,0,0,0,0,0,0,0,0,0,0,0,0,0,0,0,0,0,0,0,0,0,0,0,0,0,0,0,0,0,0,0,0,0,0,0,0,0,0,0,0,0,0,0,0,0,0,0,0,0,0,0,0,0,0,0,0,0,1,1,1,0,1,0,0,0,0,0,0,0,0,0,0,0,0,0,0,0,0,0,0,0,0,0,0,1,1,1,1,1,1,1,1,1,1,1,1,0,0,1,1,1,1,1,1,1,1,1,1,1,1,1,1,1,1,1,1,1,1,0,0,1,0,0,0,1,1,1,1,1,0,0,0,0,0,0,0,0,0,0,0,0,0,0,0,0,0,0,0,0,0,0,0,0,0,0,0,0,0,0,0,0,0,0,0,0,0,0,0,0,0,0,0,0,0,0,0,0,0,0,0,0,0,0,0,0,0,0,0,0,0,0,0,0,0,0,0,0,0,0,0,0,0,0,0,0,0,0,0,0,0,0,0,0,0,0,0,0,0,0,0,0,0,0,0,0,0,0,0,0,0,0,0,0,0,1,1,0,0,0,0,0,0,0,0,0,0,0,0,0,0,0,0,0,0,0,0,0,0,0,0,0,0,0,0,0,0,0,0,0,0,0,0,0,0,0,0,0,0,0,0,0,0,0,0,0,0,0,0,0,0,0,0,0,0,0,0,0,0,0,0,0,0,0,0,0,0,0,0,0,0,0,0,0,0,0,0,0,0,0,0,0,0,0,0,0,0,0,0,0,0,0,0,0,0,0,0,0,0,0,0,0,0,0,0,0,0,0,0,0,0,0,0,1,1,1,0,0,0,0,0,0,0,1,0,0,0,1,0,0,0,0,0,0,0,0,0,0,0,0,0,0,0,0,0,0,0,0,0,0,0,0,0,0,0,0,0,0,0,0,0,0,0,0,0,0,0,0,0,0,0,0,0,0,0,0,0,0,0,0,0,0,0,0,0,0,0,0,0,0,0,0,0,0,0,0,0,0,0,0,0,0,0,0,0,0,0,0,0,0,0,0,0,1,0,0,0,0,0,0,0,0,0,0,0,0,0,0,0,0,0,0,0,0,0,0,0,0,0,0,0,0,0,0,0,0,0,0,0,0,0,0,0,0,0,0,0,0,0,0,0,0,0,0,0,0,0,0,0,0,0,0,0,0,0,0,0,0,0,0,0,0,0,0,0,0,0,0,0,0,0,0,0,0,0,0,0,0,0,0,0,0,0,0,0,0,1,0,0,0,1,0,0,0,0,0,0,0,0,0,0,0,0,0,0,0,0,0,0,0,0,0,0,1,1,0,1,0,1,0,0,0,0,0,0,0,0,0,0,0,0,0,0,0,0,0,0,0,0,0,0,0,0,0,0,0,0,0,0,0,0,0,0,0,0,0,0,0,0,0,0,0,0,0,0,0,0,0,0,0,0,0,0,0,0,0,0,0,0,0,0,0,0,0,0,0,0,0,0,0,0,0,0,0,0,0,0,0,0,0,0,0,0,0,0,0,0,0,0,0,0,0,0,0,0,0,0,0,0,0,0,0,0,0,0,0,0,0,0,0,0,0,0,0,0,0,0,0,0,0,0,0,0,0,0,0,0,0,0,0,0,0,0,0,0,0,0,0,0,0,0,0,0,0,0,0,0,0,0,0,0,0,0,0,0,0,0,0,0,0,0,0,0,0,0,0,0,0,0,0,0,0,0,0,0,0,0,0,0,0,0,0,0,0,0,0,0,0,0,0,0,0,0,0,0,0,0,0,0,0,0,0,0,0,0,0,0,0,0,0,0,0,0,0,0,0,0,0,0,0,0,0,0,0,0,0,0,0,0,0,0,0,0,0,0,0,0,0,0,0,0,0,0,0,0,0,0,0,0,0,0,0,0,0,0,0,0,0,0,0,0,0,0,0,0,0,0,0,0,0,0,0,0,0,0,0,0,0,0,0,0,0,0,0,0,0,0,0,0,0,0,0,0,0,0,0,0,0,0,0,0,0,0,0,0,0,0,0,0,0,0,0,0,0,0,0,0,0,0,0,0,0,0,0,0,0,0,0,0,0,0,0,0,0,0,0,0,0,0,0,0,0,0,0,0,0,0,0,0,0,0,0,0,0,0,0,0,0,0,0,0,0,0,0,0,0,0,0,0,0,0,0,0,0,0,0,0,0,0,0,0,0,0,0,0,0,0,0,0,0,0,0,0,0,0,0,0,0,0,0,0,0,0,0,0,0,0,0,0,0,0,0,0,0,0,0,0,0,0,0,0,0,0,0,0,0,0,0,0,0,0,0,0,0,0,0,0,0,0,0,0,0,0,0,0,0,0,0,0,0,0,0,0,0,0,0,0,0,0,0,0,0,0,0,0,0,0,0,0,0,0,0,0,0,0,0,0,0,0,0,0,0,0,0,0,0,0,0,0,0,0,0,0,0,0,0,0,0,0,0,0,0,0,0,0,0,0,0,0,0,0,0,0,0,0,0,0,0,0,0,0,0,0,0,0,0,0,0,0,0,0,0,0,0,0,0,0,0,0,0,0,0,0,0,0,0,0,0,0,0,0,0,0,0,0,0,0,0,0,0,0,0,0,0,0,0,0,0,0,0,0,0,0,0,0,0,0,0,0,0,0,0,0,0,0,0,0,0,0,0,0,0,0,0,0,0,0,0,0,0,0,0,0,0,0,0,0,0,0,0,0,0,0,0,0,0,0,0,0,0,0,0,0,0,0,0,0,0,0,0,0,0,0,0,0,0,0,0,0,0,0,0,0,0,0,0,0,0,0,0,0,0,0,0,0,0,0,0,0,0,0,0,0,0,0,0,0,0,0,0,0,0,0,0,0,0,0,0,0,0,0,0,0,0,0,0,0,0,0,0,0,0,0,0,0,0,0,0,0,0,0,0,0,0,0,0,0,0,0,0,0,0,0,0,0,0,0,0,0,0,0,0,0,0,0,0,0,0,0,0,0,0,0,0,0,0,0,0,0,0,0,0,0,0,0,0,0,0,0,0,0,0,0,0,0,0,0,0,0,0,0,0,0,0,0,0,0,0,0,0,0,0,0,0,0,0,0,0,0,0,0,0,0,0,0,0,0,0,0,0,0,0,0,0,0,0,0,0,0,0,0,0,0,0,0,0,0,0,0,0,0,0,0,0,0,0,0,0,0,0,0,0,0,0,0,0,0,0,0,0,0,0,0,0,0,0,0,0,0,0,0,0,0,0,0,0,0,0,0,0,0,0,0,0,0,0,0,0,0,0,0,0,0,0,0,0,0,0,0,0,0,0,0,0,0,0,0,0,0,0,0,0,0,0,0,0,0,0,0,0,0,0,0,0,0,0,0,0,0,0,0,0,0,0,0,0,0,0,0,0,0,0,0,0,0,0,0,0,0,0,0,0,0,0,0,0,0,0,0,0,0,0,0,0,0,0,0,0,0,0,0,0,0,0,0,0,0,0,0,0,0,0,0,0,0,0,0,0,0,0,0,0,0,0,0,0,0,0,0,0,0,0,0,0,0,0,0,0,0,0,0,0,0,0,0,0,0,0,0,0,0,0,0,0,0,0,0,0,0,0,0,0,0,0,0,0,0,0,0,0,0,0,0,0,0,0,0,0,0,0,0,0,0,0,0,0,0,0,0,0,0,0,0,0,0,0,0,0,0,0,0,0,0,0,0,0,0,0,0,0,0,0,0,0,0,0,0,0,0,0,0,0,0,0,0,0,0,0,0,0,0,0,0,0,0,0,0,0,0,0,0,0,0,0,0,0,0,0,0,0,0,0,0,0,0,0,0,0,0,0,0,0,0,0,0,0,0,0,0,0,0,0,0,0,0,0,0,0,0,0,0,0,0,0,0,0,0,0,0,0,0,0,0,0,0,0,0,0,0,0,0,0,0,0,0,0,0,0,0,0,0,0,0,0,0,0,0,0,0,0,0,0,0,0,0,0,0,0,0,0,0,0,0,0,0,0,0,0,0,0,0,0,0,0,0,0,0,0,0,0,0,0,0,0,0,0,0,0,0,0,0,0,0,0,0,0,0,0,0,0,0,0,0,0,0,0,0,0,0,0,0,0,0,0,0,0,0,0,0,0,0,0,0,0,0,0,0,0,0,0,0,0,0,0,0,0,0,0,0,0,0,0,0,0,0,0,0,0,0,0,0,0,0,0,0,0,0,0,0,0,0,0,0,0,0,0,0,0,0,0,0,0,0,0,0,0,0,0,0,0,0,0,0,0,0,0,0,0,0,0,0,0,0,0,0,0,0,0,0,0,0,0,0,0,0,0,0,0,0,0,0,0,0,0,0,0,0,0,0,0,0,0,0,0,0,0,0,0,0,0,0,0,0,0,0,0,0,0,0,0,0,0,0,0,0,0,0,0,0,0,0,0,0,0,0,0,0,0,0,0,0,0,0,0,0,0,0,0,0,0,0,0,0,0,0,0,0,0,0,0,0,0,0,0,0,0,0,0,0,0,0,0,0,0,0,0,0,0,0,0,0,0,0,0,0,0,0,0,0,0,0,0,0,0,0,0,0,0,0,0,0,0,0,0,0,0,0,0,0,0,0,0,0,0,0,0,0,0,0,0,0,0,0,0,0,0,0,0,0,0,0,0,0,0,0,0,0,0,0,0,0,0,0,0,0,0,0,0,0,0,0,0,0,0,0,0,0,0,0,0,0,0,0,0,0,0,0,0,0,1,0,0,0,0,0,0,0,0,0,0,0,0,0,0,0,0,0,0,0,0,0,0,0,0,0,0,0,0,0,0,0,0,0,0,0,0,0,0,0,0,0,0,0,0,0,0,0,0,0,0,0,0,0,0,0,0,0,0,0,0,0,0,0,0,0,0,0,0,0,0,0,0,0,0,0,0,0,0,0,0,0,0,0,0,0,0,0,0,0,0,0,0,0,0,0,0,0,0,0,0,0,0,0,0,0,0,0,0,0,0,0,0,0,0,0,0,0,0,0,0,0,0,0,0,0,0,0,0,0,0,0,0,0,0,0,0,0,0,0,0,0,0,0,0,0,0,0,0,0,0,0,0,0,0,0,0,0,0,0,0,0,0,0,0,0,0,0,0,0,0,0,0,0,0,0,0,0,0,0,0,0,0,0,0,0,0,0,0,0,0,0,0,0,0,0,0,0,0,0,0,0,0,0,0,0,0,0,0,0,0,0,0,0,0,0,0,0,0,0,0,0,0,0,0,0,0,0,0,0,0,0,0,0,0,0,0,0,0,0,0,0,0,0,0,0,0,0,0,0,0,0,0,0,0,0,0,0,0,0,0,0,0,0,0,0,0,0,0,0,0,0,0,0,0,0,0,0,0,0,0,0,0,0,0,0,0,0,0,0,0,0,0,0,0,0,0,0,0,0,0,0,0,0,0,0,0,0,0,0,0,0,0,0,0,0,0,0,0,0,0,0,0,0,0,0,0,0,0,0,0,0,0,0,0,0,0,0,0,0,0,0,0,0,0,0,0,0,0,0,0,0,0,0,0,0,0,0,0,0,0,0,0,0,0,0,0,0,0,0,0,0,0,0,0,0,0,0,0,0,0,0,0,0,0,0,0,0,0,0,0,0,0,0,0,0,0,0,0,0,0,0,0,0,0,0,0,0,0,0,0,0,0,0,0,0,0,0,0,0,0,0,0,0,0,0,0,0,0,0,0,0,0,0,0,0,0,0,0,0,0,0,0,0,0,0,0,0,0,0,0,0,0,0,0,0,0,0,0,0,0,0,0,0,0,0,0,0,0,0,0,0,0,0,0,0,0,0,0,0,0,0,0,0,0,0,0,0,0,0,0,0,0,0,0,0,0,0,0,0,0,0,0,0,0,0,0,0,0,0,0,0,0,0,0,0,0,0,0,0,0,0,0,0,0,0,0,0,0,0,0,0,0,0,0,0,0,0,0,0,0,0,0,0,0,0,0,0,0,0,0,0,0,0,0,0,0,0,0,0,0,0,0,0,0,0,0,0,0,0,0,0,0,0,0,0,0,0,0,0,0,0,0,0,0,0,0,0,0,0,0,0,0,0,0,0,0,0,0,0,0,0,0,0,0,0,0,0,0,0,0,0,0,0,0,0,0,0,0,0,0,0,0,0,0,0,0,0,0,0,0,0,0,0,0,0,0,0,0,0,0,0,0,0,0,0,0,0,0,0,0,0,0,0,0,0,0,0,0,0,0,0,0,0,0,0,0,0,0,0,0,0,0,0,0,0,0,0,0,0,0,0,0,0,0,0,0,0,0,0,0,0,0,0,0,0,0,0,0,0,0,0,0,0,0,0,0,0,0,0,0,0,0,0,0,0,0,0,0,0,0,0,0,0,0,0,0,0,0,0,0,0,0,0,0,0,0,0,0,0,0,0,0,0,0,0,0,0,0,0,0,0,0,0,0,0,0,0,0,0,0,0,0,0,0,0,0,0,0,0,0,0,0,0,0,0,0,0,0,0,0,0,0,0,0,0,0,0,0,0,0,0,0,0,0,0,0,0,0,0,0,0,0,0,0,0,0,0,0,0,0,0,0,0,0,0,0,0,0,0,0,0,0,0,0,0,0,0,0,0,0,0,0,0,0,0,0,0,0,0,0,0,0,0,0,0,0,0,0,0,0,0,0,0,0,0,0,0,0,0,0,0,0,0,0,0,0,0,0,0,0,0,0,1,0,0,0,0,0,0,0,0,0,0,0,0,0,0,0,0,0,0,0,0,0,0,0,0,0,0,0,0,0,0,0,0,0,0,0,0,0,0,0,0,0,0,0,0,0,0,0,0,0,0,0,0,0,0,0,1,1,0,0,0,0,0,0,0,0,1,1,1,0,0,0,0,0,0,0,0,0,0,0,0,0,0,0,0,0,0,0,0,0,0,0,0,0,0,0,0,0,0,0,0,0,0,1,0,1,1,0,0,0,0,0,0,0,0,1,1,0,0,0,0,0,0,0,0,0,1,0,0,0,0,0,0,0,0,0,0,0,0,0,0,0,0,0,0,0,0,0,0,0,0,0,0,0,0,0,0,0,0,0,0,0,0,0,0,0,0,0,0,0,0,0,0,0,0,0,0,0,0,0,0,0,0,0,0,0,0,0,0,0,0,0,0,0,0,0,0,0,0,0,0,0,0,0,0,0,0,0,0,0,0,0,0,0,0,0,0,0,0,0,0,0,0,0,0,0,0,0,0,0,0,0,0,0,0,0,0,0,0,0,0,0,0,0,0,0,0,0,0,0,0,0,0,0,0,0,0,0,0,0,0,0,0,0,0,0,0,0,0,0,0,0,0,0,0,0,0,0,0,0,0,0,0,0,0,0,0,0,0,0,0,0,0,0,0,0,0,0,0,0,0,0,0,0,0,0,0,0,0,0,0,0,0,0,0,0,0,0,0,0,0,0,0,0,0,0,0,0,0,0,0,0,0,0,0,0,0,0,0,0,0,0,0,0,0,0,0,0,0,0,0,0,0,0,0,0,0,0,0,0,0,0,0,0,0,0,0,0,0,0,0,0,0,0,0,0,0,0,0,0,0,0,0,0,0,0,0,0,0,0,0,0,0,0,0,0,0,0,0,0,0,0,0,0,0,0,0,0,0,0,0,0,0,0,0,0,0,0,0,0,0,0,0,0,0,0,0,0,0,0,0,0,0,0,0,0,0,0,0,0,0,0,0,0,0,0,0,0,0,0,0,0,0,0,0,0,0,0,0,0,0,0,0,0,0,0,0,0,0,0,0,0,0,0,0,0,0,0,0,0,0,0,0,0,0,0,0,0,0,0,0,0,0,0,0,0,0,0,0,0,0,0,0,0,0,0,0,0,0,0,0,0,0,0,0,0,0,0,0,0,0,0,0,0,0,0,0,0,0,0,0,0,0,0,0,0,0,0,0,0,0,0,0,0,0,0,0,0,0,0,0,0,0,0,0,0,0,0,0,0,0,0,0,0,0,0,0,0,0,0,0,0,0,0,0,0,0,0,0,0,0,0,0,0,0,0,0,0,0,0,0,0,0,0,0,0,0,0,0,0,0,0,0,0,0,0,0,0,0,0,0,0,0,0,0,0,0,0,0,0,0,0,0,0,0,0,0,0,0,0,0,0,0,0,0,0,0,0,0,0,0,0,0,0,0,0,0,0,0,0,0,0,0,0,0,0,0,0,0,0,0,0,0,0,0,0,0,0,0,0,0,0,0,0,0,0,0,0,0,0,0,0,0,0,0,0,0,0,0,0,0,0,0,0,0,0,0,0,0,1,1,0,0,0,0,0,1,1,0,0,0,0,0,1,0,0,0,0,0,0,0,0,1,0,1,0,0,0,0,0,0,0,0,0,0,0,0,0,0,0,0,0,0,0,1,1,1,1,1,0,0,0,0,0,1,0,0,0,0,0,0,0,0,0,0,0,0,0,0,0,0,0,0,0,0,0,0,0,0,0,0,0,0,0,0,0,0,0,0,0,0,0,0,0,0,0,0,0,0,0,0,0,0,0,0,0,0,0,0,0,0,0,0,0,0,0,0,0,0,0,0,0,0,0,0,0,0,0,0,0,0,0,0,0,0,0,0,0,0,0,0,0,0,0,0,0,0,0,0,0,0,0,0,0,0,0,0,0,0,0,0,0,0,0,0,0,0,0,0,0,0,0,0,0,0,0,0,0,0,0,0,0,0,0,0,0,0,0,0,0,0,0,0,0,0,0,0,0,0,0,0,0,0,0,0,0,0,0,0,0,0,0,0,0,0,0,0,0,0,0,0,0,0,0,0,0,0,0,0,0,0,0,0,0,0,0,0,0,0,0,0,0,0,0,0,0,0,0,0,0,0,0,0,0,0,0,0,0,0,0,0,0,0,0,0,0,0,0,0,0,0,0,0,0,0,0,0,0,0,0,0,0,0,0,0,0,0,0,0,0,0,0,0,0,0,0,0,0,0,0,0,0,0,0,0,0,0,0,0,0,1,1,0,0,0,0,0,1,1,1,0,0,0,0,0,0,0,0,0,0,0,0,0,0,0,0,0,0,0,0,0,0,0,0,0,0,0,0,1,0,0,0,0,0,0,0,0,1,0,0,0,0,0,0,0,0,0,0,0,0,0,0,0,0,0,0,0,0,0,0,1,0,0,0,0,0,1,1,0,0,0,0,0,0,0,0,0,0,0,0,0,0,0,0,0,0,0,0,0,0,1,1,0,0,0,0,0,0,0,0,0,0,0,0,0,0,0,0,0,0,0,0,0,0,0,0,0,0,0,0,0,1,1,1,0,0,0,0,0,0,0,0,0,0,0,0,0,0,0,0,0,0,0,0,0,1,1,1,1,1,1,0,0,0,0,0,0,0,0,0,0,0,0,0,0,0,0,0,0,0,0,0,0,0,0,0,0,1,1,1,0,0,0,0,0,0,0,0,0,0,0,0,0,0,0,0,0,0,0,0,0,0,0,0,0,0,0,0,0,0,0,0,0,0,0,0,0,0,0,0,0,0,0,0,0,0,0,0,0,0,0,0,0,0,0,0,0,0,0,0,0,0,0,0,0,0,0,0,0,0,0,0,0,0,0,0,0,0,0,0,0,0,0,0,0,1,0,0,0,1,1,1,1,0,0,0,0,0,0,0,0,0,0,0,0,0,0,1,1,1,1,0,0,0,0,0,0,0,0,0,0,0,0,0,0,0,0,0,0,0,0,0,0,0,0,0,0,0,0,0,0,0,0,0,0,0,0,0,0,0,0,0,0,0,0,0,0,0,0,0,0,0,0,0,0,0,0,0,0,0,0,0,0,0,0,0,0,0,0,0,0,0,0,0,0,0,0,0,0,0,0,0,0,0,0,0,0,0,0,0,0,1,1,1,0,0,0,1,1,0,0,0,0,0,0,0,0,0,0,0,0,0,0,0,0,0,0,0,0,0,0,0,0,0,0,0,0,0,0,0,0,0,0,0,0,0,0,0,0,0,0,0,0,0,0,0,0,0,0,0,0,0,0,0,0,0,0,0,0,0,0,0,0,0,0,0,0,0,0,0,0,0,0,0,0,0,0,0,0,0,0,0,0,0,0,0,0,1,1,0,0,0,0,0,0,0,0,0,0,0,0,0,0,0,0,0,0,0,0,0,0,1,1,0,1,1,1,1,1,1,1,0,0,0,0,0,1,0,0,0,0,0,0,1,0,1,1,1,1,1,1,1,1,1,0,1,1,1,1,1,1,1,1,1,1,1,1,1,1,1,1,1,1,1,1,1,1,1,1,1,1,1,1,1,1,1,1,1,1,1,1,1,1,1,1,1,1,1,1,1,1,1,1,1,1,1,1,0,0,0,0,0,0,1,1,1,1,1,1,1,1,1,1,1,1,1,1,1,1,1,1,0,0,0,0,0,0,1,1,1,1,1,1,1,1,1,1,1,1,1,0,1,1,1,1,0,0,0,1,0,1,1,1,1,1,1,1,1,1,1,1,1,1,1,1,1,1,1,0,1,1,0,0,0,1,1,1,1,1,1,1,1,1,1,1,0,0,1,1,1,0,0,0,0,0,0,0,0,0,0,0,0,0,0,0,0,0,0,0,0,0,0,0,0,0,0,0,0,0,0,0,0,0,0,0,0,0,0,0,0,0,0,0,0,0,0,0,0,0,0,0,0,0,0,0,0,0,0,0,0,0,0,0,0,0,0,0,0,0,0,0,0,0,0,0,0,0,0,0,0,0,0,0,0,0,0,0,0,0,0,0,0,0,0,0,0,0,1,0,0,0,0,0,0,0,0,0,0,0,0,0,0,1,1,0,0,0,0,0,0,0,0,0,0,0,0,0,0,0,0,1,1,1,1,0,0,0,0,0,0,0,0,1,1,1,1,1,1,1,1,1,0,0,0,0,0,0,0,0,0,0,0,0,0,0,0,0,0,0,0,1,1,0,0,0,0,0,0,0,0,0,0,0,0,0,0,0,0,0,0,0,0,1,1,1,0,0,0,0,0,0,0,0,0,0,0,0,0,0,0,0,0,0,0,0,0,0,0,0,0,0,0,0,0,0,0,0,0,0,0,0,0,0,0,0,1,1,1,0,0,0,0,0,0,0,0,1,1,1,1,1,1,1,1,1,1,0,0,0,0,0,0,0,0,0,0,0,0,0,0,0,1,1,1,1,1,1,1,1,0,0,0,0,0,0,0,0,0,0,0,0,0,0,0,0,0,1,1,0,0,0,0,0,0,0,0,0,0,0,0,0,0,0,0,0,0,0,0,1,1,0,0,0,0,0,0,0,0,0,0,0,0,0,0,0,0,0,0,0,0,0,1,1,1,1,1,1,1,1,1,0,0,0,0,0,0,0,0,0,0,0,0,0,0,0,0,0,0,0,0,0,0,0,0,0,0,0,0,0,0,0,0,0,0,0,0,0,0,0,1,1,1,1,1,1,1,1,0,0,0,0,0,0,0,0,0,0,0,0,0,0,0,0,0,0,1,1,1,1,1,0,0,0,0,0,0,0,0,0,0,0,1,1,1,1,1,1,1,1,1,1,1,1,0,0,0,0,0,0,0,0,0,0,1,1,1,1,1,0,0,0,0,0,0,0,0,0,0,0,0,0,1,1,1,1,1,1,1,1,1,0,0,0,0,0,0,0,0,0,0,0,1,1,1,1,1,1,1,1,1,1,1,1,1,0,0,0,0,0,0,0,0,0,1,1,1,1,1,1,1,1,1,1,1,1,0,0,0,0,0,0,0,0,1,1,1,1,1,1,1,1,1,1,0,0,0,0,0,0,0,0,0,1,1,0,0,0,0,0,1,1,1,1,1,0,0,0,0,0,0,0,0,1,1,1,1,1,1,1,1,1,1,1,1,0,0,0,0,0,0,0,1,1,1,1,1,1,1,1,1,1,1,1,0,0,0,0,0,0,0,0,1,1,1,1,1,1,1,1,1,1,1,1,1,0,0,0,0,0,0,0,0,1,1,1,1,1,1,1,1,1,1,1,1,1,1,1,0,0,0,0,0,0,0,0,0,1,1,1,1,1,1,1,0,0,0,0,0,0,0,0,1,1,1,1,1,1,0,1,1,1,1,0,0,0,0,0,0,0,0,0,0,0,0,1,1,1,1,1,1,1,1,1,1,1,1,0,0,0,0,0,0,0,0,0,1,1,1,1,1,1,1,1,1,1,1,1,0,0,0,0,0,0,0,0,0,0,0,0,1,1,1,1,1,1,1,1,1,1,1,1,1,1,1,1,1,0,0,0,0,0,0,0,0,0,1,1,1,1,1,1,1,1,1,1,1,0,0,0,0,0,0,0,0,0,1,1,1,1,0,1,1,1,1,1,1,1,1,1,1,0,0,0,0,0,0,0,0,0,0,1,1,1,1,1,1,1,1,1,1,1,1,1,0,0,0,0,0,0,0,0,0,0,0,0,0,0,0,0,0,0,0,1,0,0,0,0,0,0,0,0,0,0,0,0,1,1,1,1,1,1,1,1,1,1,1,1,1,1,1,1,0,0,0,0,0,0,0,0,1,1,1,1,1,1,1,1,1,1,1,1,1,1,1,1,0,0,0,0,0,0,0,0,1,1,1,1,1,1,1,1,1,1,1,1,1,0,0,0,0,0,0,0,0,0,0,0,0,1,1,1,1,1,1,1,1,1,1,0,0,0,0,0,0,0,0,0,0,0,0,0,0,1,1,1,0,0,1,0,0,1,0,0,0,0,0,0,0,0,0,0,0,0,0,0,0,0,0,1,1,1,1,0,0,0,0,0,0,0,0,0,0,0,0,0,0,0,0,0,0,0,0,0,0,0,0,0,0,0,0,0,0,0,0,0,0,0,0,1,1,1,1,1,1,1,1,1,0,0,1,1,0,0,0,0,0,0,0,0,0,0,1,1,1,1,1,1,1,0,0,0,1,0,0,0,0,0,0,0,0,0,0,1,1,1,1,1,1,1,1,1,1,1,0,0,0,0,0,0,0,0,0,0,0,0,0,1,1,1,1,1,1,1,1,1,1,0,0,0,0,0,0,0,0,0,0,0,0,0,0,1,1,1,0,1,1,1,0,0,0,0,0,0,0,0,0,0,0,0,0,0,0,1,1,1,1,1,1,1,1,1,1,0,0,0,0,0,0,0,0,0,0,0,0,0,0,0,0,0,0,0,0,0,0,0,0,0,0,0,0,0,0,0,0,0,0,0,0,0,1,1,1,1,1,1,1,1,1,1,1,1,1,0,0,0,0,0,0,0,0,0,0,1,1,1,1,1,1,1,0,0,0,0,0,0,0,0,0,0,0,0,0,0,0,0,1,1,1,1,1,1,1,0,0,0,0,0,0,0,0,0,0,0,0,0,0,0,0,1,1,1,1,1,1,1,1,0,0,0,0,0,0,0,0,0,1,1,1,1,1,1,1,1,1,1,1,1,1,1,0,0,0,0,0,0,0,1,1,1,1,1,1,1,1,1,1,0,0,0,1,0,0,0,0,0,0,0,0,0,0,0,0,0,0,0,0,0,1,1,1,0,0,0,0,0,0,0,0,0,0,0,1,1,1,1,1,1,1,1,1,1,1,0,0,0,0,0,0,0,0,0,1,1,1,1,1,1,1,1,1,1,1,1,1,0,0,0,0,0,0,0,0,0,0,0,1,1,1,0,1,1,1,1,1,1,1,0,0,0,0,0,0,0,0,0,0,0,0,0,1,1,1,0,1,1,1,1,1,1,1,1,1,0,0,0,0,0,0,0,0,0,0,0,0,0,1,0,0,0,0,0,0,0,0,0,0,0,0,0,0,0,0,0,0,0,1,0,0,0,0,0,0,0,0,0,0,0,0,0,0,0,0,0,0,0,0,0,0,0,0,0,0,0,0,0,0,0,0,0,0,0,0,0,0,1,1,1,1,1,1,1,1,1,1,1,0,0,0,0,0,0,0,0,0,0,0,0,0,0,1,1,1,1,1,1,1,1,1,0,0,0,0,0,0,0,0,0,0,0,0,0,0,1,1,1,1,1,1,1,0,0,0,0,0,0,0,1,1,1,1,1,1,1,0,0,0,0,0,0,0,0,1,1,1,1,1,0,0,0,0,0,0,0,0,0,0,1,1,1,1,1,1,1,1,1,1,1,0,0,0,0,0,0,0,0,0,0,0,0,0,0,0,0,0,0,0,0,0,0,0,0,0,0,1,1,1,1,1,1,1,1,1,1,1,1,0,0,0,0,0,0,0,0,0,0,0,1,1,1,1,1,1,1,1,1,1,1,1,1,1,0,0,0,0,0,0,0,0,0,0,1,1,1,1,1,1,1,1,1,1,1,1,0,0,0,0,0,0,0,0,0,0,0,1,1,1,1,1,1,1,1,1,1,1,1,0,0,0,0,0,0,0,0,0,0,0,0,1,1,1,1,1,1,1,1,1,1,1,1,1,1,0,0,0,0,0,0,1,1,1,1,1,1,1,1,1,0,0,0,0,0,0,0,0,0,0,0,1,1,1,1,1,1,1,0,0,1,0,0,0,0,0,0,0,0,0,0,0,1,1,1,1,1,1,1,1,1,1,1,1,1,0,0,0,0,0,0,0,0,0,0,0,0,0,0,0,0,0,0,0,1,0,0,0,0,0,0,0,0,0,0,0,0,0,1,1,0,1,1,1,1,1,1,1,1,0,0,0,0,0,0,0,0,0,0,0,0,0,1,1,1,1,0,1,1,1,1,1,0,0,0,0,0,0,0,0,0,0,0,0,0,0,1,1,1,1,1,1,1,1,0,0,1,0,0,1,0,1,0,0,0,0,0,0,0,0,0,1,1,1,1,1,1,1,0,0,0,0,0,0,0,0,0,0,0,0,0,0,0,0,1,1,1,1,1,1,1,1,1,0,0,0,0,0,0,0,0,0,0,0,0,0,0,0,0,0,1,1,1,1,1,0,0,0,0,0,0,0,0,0,0,0,0,0,0,0,0,0,0,0,0,0,0,0,0,0,0,0,0,0,0,0,0,0,0,0,0,0,0,0,0,0,1,1,1,1,1,1,1,1,1,1,1,1,1,0,0,0,0,0,0,0,0,0,0,0,1,1,1,1,1,1,1,1,1,1,0,0,0,0,0,0,0,0,0,0,0,0,0,0,1,1,1,0,1,1,1,1,1,1,1,1,0,0,0,0,0,0,0,0,0,0,0,0,1,1,1,0,0,0,0,0,0,0,0,0,0,0,0,0,0,0,0,0,0,0,0,0,1,1,1,0,0,0,0,0,0,0,0,0,0,0,0,0,0,0,0,0,0,0,0,0,0,0,0,0,0,0,0,0,0,0,0,0,0,0,0,0,0,0,0,0,0,0,0,0,0,0,0,0,0,0,0,1,1,0,0,0,0,0,0,0,0,0,0,1,1,1,0,0,0,0,0,0,0,0,0,0,0,0,0,0,0,0,0,0,0,0,1,1,1,1,1,1,1,1,1,1,1,1,1,1,1,0,0,0,0,0,0,0,0,0,0,0,0,0,0,0,0,0,0,0,0,0,0,0,0,0,0,0,0,0,0,0,0,0,1,1,1,1,1,0,0,0,0,1,1,1,0,1,0,0,0,0,0,0,0,0,0,0,0,1,0,1,0,0,1,1,1,1,1,1,1,0,0,0,0,0,0,0,0,0,0,0,0,0,0,1,0,0,0,0,0,0,0,0,0,1,0,0,1,0,0,0,0,0,0,0,0,0,0,1,1,0,0,0,0,0,0,1,1,0,1,0,0,0,0,0,0,0,0,0,0,1,1,1,1,1,1,1,1,1,1,1,1,0,0,0,0,0,0,0,0,0,0,0,0,0,1,1,1,1,1,1,1,1,0,0,0,0,0,0,0,0,0,0,0,0,0,0,0,1,1,1,1,1,1,1,1,1,0,0,0,0,0,0,0,0,0,0,0,0,1,1,1,1,1,1,1,1,0,0,0,0,0,0,0,0,0,0,0,0,0,0,0,0,0,0,0,0,0,1,1,1,1,1,0,0,0,0,0,0,0,0,0,0,0,0,0,1,1,0,0,0,0,0,0,0,0,0,0,0,0,0,0,0,0,0,0,0,0,0,0,0,0,0,0,0,0,0,0,0,0,0,0,0,0,0,0,0,1,1,1,1,1,1,1,1,1,1,1,1,1,1,1,0,0,1,1,1,1,1,1,0,0,0,0,0,0,0,0,0,0,1,1,1,1,1,1,1,1,1,1,1,0,0,0,0,0,0,0,0,1,1,1,1,1,0,1,1,1,1,0,0,0,0,0,1,1,1,1,1,1,1,1,0,0,0,0,1,1,1,1,1,1,1,1,1,1,1,1,1,1,1,1,1,1,1,1,1,1,1,1,1,1,1,1,1,1,1,1,1,1,1,1,1,1,1,1,1,1,1,1,1,1,1,1,1,1,1,1,1,1,1,1,1,1,1,1,1,1,1,1,1,1,1,1,1,1,1,1,1,1,1,1,0,0,0,1,1,1,1,1,1,1,1,1,1,1,0,0,0,0,0,0,0,0,1,1,1,1,1,1,0,0,0,0,0,0,0,0,0,0,0,0,0,0,0,0,0,0,0,0,0,0,1,1,1,1,1,1,1,1,1,1,1,1,1,0,0,0,0,0,0,1,1,1,1,1,1,1,1,1,1,0,0,0,0,0,0,1,1,1,1,1,1,1,1,1,1,1,0,0,0,0,0,0,0,0,1,1,1,1,1,1,1,1,1,0,1,1,0,0,0,0,0,1,1,1,1,1,1,1,1,1,1,1,1,1,0,0,0,0,0,0,1,1,1,0,0,0,0,0,0,0,0,0,0,0,0,0,0,0,0,0,0,0,0,0,0,0,0,0,0,0,0,0,0,0,0,0,0,0,0,0,0,0,0,0,0,0,0,1,1,1,0,0,0,0,0,0,0,0,0,0,0,0,0,0,0,0,0,0,0,0,0,1,1,1,1,1,1,1,1,0,0,0,0,0,0,0,0,0,0,0,0,0,0,0,0,1,1,1,1,1,1,1,1,0,0,0,0,0,0,0,0,0,0,0,0,0,0,0,0,1,1,1,1,1,1,1,1,1,1,0,0,0,0,0,0,0,0,0,0,0,0,0,0,0,0,0,0,0,0,0,0,0,0,0,0,0,0,0,0,0,0,0,0,0,0,0,0,0,0,0,0,0,0,0,0,0,0,0,0,0,0,0,0,0,0,0,0,0,0,0,0,0,0,0,0,0,0,0,0,1,1,1,1,1,1,1,1,1,1,0,0,0,0,0,0,0,0,0,0,0,0,0,0,0,1,1,1,1,1,1,1,1,1,0,0,0,0,0,0,0,0,0,0,0,0,0,0,0,1,1,1,1,1,1,1,1,0,0,0,0,0,0,0,0,0,0,0,0,0,0,0,1,1,1,1,1,1,1,1,1,0,0,0,0,0,0,0,0,0,0,0,0,0,0,0,0,1,1,1,1,1,1,1,1,1,1,1,1,1,0,0,0,0,0,0,0,0,0,0,1,1,1,1,1,1,1,0,0,0,0,0,1,0,0,0,0,0,0,0,0,0,0,0,0,1,1,1,1,1,1,1,1,0,0,0,0,0,0,0,0,0,0,0,0,0,0,0,1,0,0,1,0,0,1,0,0,0,0,1,1,1,0,0,1,0,0,0,0,0,0,0,1,1,1,1,1,1,1,1,1,1,1,1,1,1,0,0,1,0,0,0,0,0,0,0,1,1,1,1,1,1,1,1,1,1,1,1,1,0,0,0,0,0,0,0,0,0,0,0,0,1,1,1,1,1,1,1,1,0,0,0,0,1,0,0,0,0,0,0,0,0,0,0,1,1,1,1,1,1,1,1,1,1,1,1,1,1,0,0,0,0,0,0,0,0,0,0,0,1,1,1,1,1,1,1,1,1,1,0,1,0,0,0,0,0,0,0,0,1,1,1,1,1,1,0,0,0,0,0,0,0,0,0,0,0,0,0,0,0,0,0,0,0,0,0,0,0,0,1,1,1,1,1,1,1,1,1,1,0,0,0,0,0,0,0,0,0,0,0,1,1,1,1,1,1,1,1,1,1,1,1,1,1,0,0,0,0,0,0,0,0,0,0,0,1,1,1,1,1,1,1,1,1,0,0,0,0,0,0,0,0,0,0,0,0,0,0,0,1,1,1,1,1,1,1,0,0,0,0,0,0,0,1,0,0,0,0,0,0,0,0,1,1,1,1,1,1,1,1,1,1,0,0,1,1,1,1,0,0,0,0,0,0,0,0,0,0,1,1,0,1,0,0,0,0,0,0,0,0,0,0,0,0,0,0,0,0,0,0,0,0,0,0,0,0,0,0,0,0,0,0,0,0,0,0,0,0,0,0,0,0,0,0,0,1,1,0,0,0,0,0,0,0,0,0,0,0,0,0,0,0,0,1,0,0,0,0,0,0,0,0,1,1,1,1,0,1,0,0,0,1,0,0,0,0,0,0,0,0,0,0,0,0,1,1,0,0,0,0,0,0,0,0,0,0,0,0,0,0,0,0,0,0,0,0,0,0,0,0,0,0,0,0,0,0,0,0,0,0,0,0,0,0,0,0,0,0,0,0,0,0,0,0,0,0,0,0,0,0,0,0,0,0,0,0,0,0,0,0,0,0,0,0,0,0,1,0,0,0,0,0,0,0,0,0,0,0,0,0,0,0,0,0,0,0,0,0,0,0,0,0,0,0,0,0,0,0,0,0,0,0,0,0,0,0,0,0,0,0,0,0,0,0,0,0,1,1,1,1,1,1,1,1,1,1,0,0,0,0,0,0,0,0,0,0,0,0,1,0,0,0,1,1,1,1,0,0,0,0,0,0,0,0,0,0,0,0,0,0,0,0,0,0,0,0,1,1,0,0,0,0,0,0,0,0,0,0,0,0,0,0,0,0,0,0,1,0,0,0,0,0,0,0,0,0,0,0,0,0,0,0,0,0,0,0,0,0,0,0,1,0,0,0,0,0,0,0,0,0,0,0,0,0,0,0,0,0,0,0,0,0,0,0,0,0,0,0,0,0,0,0,0,0,0,0,0,0,0,0,0,0,0,0,0,0,0,0,0,0,0,0,0,0,0,0,0,0,0,0,0,0,0,0,0,0,0,0,0,0,0,0,1,1,0,1,0,0,0,0,0,0,0,0,0,0,0,0,0,0,0,0,0,0,0,0,0,0,0,0,0,0,0,0,0,0,0,0,0,0,0,0,0,0,0,0,0,0,0,1,0,0,0,0,0,1,0,1,0,0,0,0,0,0,0,0,0,0,0,0,0,0,0,0,1,0,1,1,1,0,0,0,0,0,0,0,0,0,0,0,0,0,0,0,0,0,0,0,0,0,0,0,0,0,0,0,0,0,0,1,0,0,0,0,0,0,0,0,0,0,0,0,0,0,0,0,0,0,0,0,0,0,0,0,0,0,0,0,0,0,0,0,0,0,0,0,0,0,0,0,0,0,0,0,0,0,0,0,0,0,0,0,0,0,0,0,0,0,0,0,0,0,0,0,0,0,0,0,0,0,0,0,0,0,0,0,0,0,0,0,0,0,0,0,0,1,0,0,0,1,1,0,0,0,0,0,0,0,0,0,0,0,0,0,0,0,0,0,0,0,0,0,0,1,1,0,0,0,0,0,0,0,0,0,0,0,0,0,0,0,0,0,0,1,1,0,0,1,0,0,0,0,0,0,0,0,0,0,0,0,0,0,0,0,0,0,0,0,0,0,0,0,0,0,0,0,0,0,0,0,0,0,0,0,0,0,0,0,0,0,0,0,0,0,0,0,0,0,0,0,0,0,0,0,0,0,0,0,0,0,0,0,0,0,0,0,0,0,0,0,0,0,0,0,0,0,0,0,0,0,0,0,0,0,0,0,0,1,1,1,1,0,0,0,0,0,0,0,0,0,0,0,0,0,0,0,0,0,0,1,0,0,0,0,0,0,0,0,0,0,0,0,0,0,0,0,0,0,0,0,0,0,0,0,0,0,0,0,0,0,0,0,0,0,0,0,0,0,0,0,0,0,0,0,0,0,0,0,0,0,0,0,0,0,0,0,0,0,0,0,0,0,0,0,0,0,0,0,0,0,0,0,0,0,0,0,0,0,0,0,0,0,0,0,0,0,0,0,0,0,0,0,0,0,0,0,0,0,0,0,0,0,0,0,0,0,0,0,0,0,0,0,0,0,0,0,0,0,0,0,0,0,0,0,0,0,0,0,0,0,0,0,0,0,0,0,0,0,0,0,0,0,0,0,0,0,0,0,0,0,0,0,0,0,0,0,0,0,0,0,0,0,0,0,0,0,0,0,0,0,0,0,0,0,0,0,0,0,0,0,0,0,0,0,0,0,0,0,0,0,0,0,0,0,0,0,0,0,0,0,0,0,0,0,0,0,0,0,0,0,0,0,0,0,0,1,1,0,0,0,0,0,0,0,0,0,0,0,0,0,0,0,0,0,0,0,0,0,0,0,0,0,0,0,0,0,0,0,0,0,0,0,0,0,0,0,0,0,0,0,0,0,0,0,0,0,0,0,0,0,0,0,0,0,0,0,0,0,0,0,0,0,0,0,0,0,0,0,0,0,0,0,0,0,0,0,0,0,0,0,0,0,0,0,0,0,0,0,0,0,0,0,0,0,0,0,0,0,0,0,0,0,0,0,0,0,0,0,0,0,0,0,0,0,0,0,0,0,0,0,0,0,0,0,0,0,0,0,0,0,0,0,0,0,0,0,0,0,0,0,0,0,0,0,0,0,0,0,0,0,0,0,0,0,0,0,0,0,0,0,0,0,0,0,0,0,0,0,0,0,0,0,0,0,0,0,0,0,0,0,0,0,0,0,0,1,1,0,0,0,0,0,0,0,0,1,0,0,0,0,0,0,0,0,0,0,0,0,0,0,0,0,0,0,0,0,0,0,0,0,0,0,0,0,0,0,0,0,0,0,0,0,0,0,0,0,0,0,0,0,0,0,0,0,0,0,0,0,0,0,0,1,1,0,0,0,0,0,0,0,0,0,0,0,0,0,0,0,0,0,0,0,0,0,0,0,0,0,0,0,0,0,0,0,0,0,0,0,0,0,0,0,0,0,0,0,0,0,0,0,0,0,0,0,0,0,0,0,0,0,0,0,0,0,0,0,0,0,0,0,0,0,0,0,0,0,0,0,0,0,0,0,0,0,0,0,0,0,0,0,0,0,1,0,0,0,0,0,0,0,0,0,0,0,0,0,0,0,0,0,0,0,0,0,0,0,0,0,0,0,0,0,0,0,0,0,0,0,0,0,0,0,0,0,0,0,0,0,0,0,0,0,0,0,0,0,0,0,0,0,0,0,0,0,0,0,0,0,0,0,0,0,0,0,0,0,0,0,0,0,0,0,0,0,0,0,0,0,0,0,0,1,0,0,0,1,0,0,1,0,0,0,0,0,0,0,0,0,0,0,0,0,0,0,0,0,0,0,0,0,0,0,0,0,0,0,0,0,0,0,0,0,0,0,0,0,0,0,0,0,0,0,0,0,0,0,0,0,0,0,0,0,0,0,0,0,0,0,0,0,0,0,0,0,0,0,0,0,0,0,0,0,0,0,0,0,0,0,0,0,0,0,0,0,0,0,0,0,0,0,0,0,0,0,0,0,0,0,0,0,0,0,0,0,0,0,0,0,0,0,0,0,0,0,0,0,0,0,0,0,0,0,0,0,0,0,0,0,0,0,0,0,0,0,0,0,0,0,0,1,0,0,0,0,0,0,0,0,0,0,0,0,0,0,0,0,0,0,0,0,0,0,0,0,0,0,0,0,0,0,0,0,0,0,0,0,0,0,0,0,0,0,0,0,0,0,0,1,0,0,0,0,0,0,0,0,0,0,0,0,0,0,0,0,0,0,0,0,0,0,0,0,0,0,0,0,0,0,0,0,0,0,0,0,0,0,0,0,0,0,0,0,0,0,0,0,0,0,0,0,0,0,0,0,0,0,0,0,0,0,0,0,0,0,0,0,0,0,0,0,0,0,0,0,0,0,0,0,0,0,0,0,0,0,0,0,0,0,0,1,0,0,0,0,0,0,0,0,0,0,0,0,0,0,0,0,0,0,0,0,0,0,0,0,0,0,0,0,0,0,0,0,0,0,0,0,0,0,0,0,0,0,0,0,0,0,0,0,0,0,0,0,0,0,0,0,0,0,0,0,0,0,0,0,0,0,0,0,0,0,0,0,0,0,0,0,0,0,0,0,0,0,0,0,0,0,0,1,1,0,0,0,0,0,0,0,0,0,0,0,0,0,0,0,0,0,0,0,0,0,0,0,0,0,0,0,0,0,0,0,0,0,0,0,0,0,0,0,0,0,0,0,0,0,0,0,0,0,0,0,0,0,0,0,0,0,0,0,0,0,0,0,0,0,0,0,0,0,0,0,0,0,0,0,0,0,0,0,0,0,0,0,0,0,0,0,0,0,0,0,0,0,0,0,0,0,0,0,0,0,0,0,0,0,0,0,0,0,0,0,0,0,0,0,0,0,0,0,0,0,0,0,0,0,0,0,0,0,0,0,0,0,0,0,0,0,0,0,0,0,0,0,0,0,0,0,0,0,0,0,0,0,0,0,0,0,0,0,0,0,0,0,0,0,0,0,0,0,0,0,0,0,0,0,0,0,0,0,0,0,0,0,0,0,0,0,0,0,0,0,0,0,0,0,0,0,0,0,0,0,0,0,0,0,0,0,0,0,0,0,0,0,0,0,0,0,0,0,0,0,0,0,0,0,0,0,0,0,0,0,0,0,0,0,0,0,0,0,0,0,0,0,0,0,0,0,0,0,0,0,0,0,0,0,0,0,0,0,0,0,0,0,0,0,0,0,0,0,0,0,0,0,0,0,0,0,0,0,0,0,0,0,0,0,0,0,0,0,0,0,0,0,0,0,0,0,0,0,0,0,0,0,0,0,0,0,0,0,0,0,0,0,0,0,0,0,0,0,0,0,0,0,0,0,0,0,0,0,0,0,0,0,0,0,0,0,0,0,0,0,0,0,0,0,0,0,0,0,0,0,0,0,0,0,0,0,0,0,0,0,0,0,0,0,0,0,0,0,0,0,0,0,0,0,0,0,0,0,0,0,0,0,0,0,0,0,0,0,0,0,0,0,0,0,0,0,0,0,0,0,0,0,0,0,0,0,0,0,0,0,0,0,0,0,0,0,0,0,0,0,0,0,0,0,0,0,0,0,0,0,0,0,0,0,0,0,0,0,0,0,0,0,0,0,0,0,0,0,0,0,0,0,0,0,0,0,0,0,0,0,0,0,0,0,0,0,0,0,0,0,0,0,0,0,0,0,0,0,0,0,0,0,0,0,0,0,0,0,0,0,0,0,0,0,0,0,0,0,0,0,0,0,0,0,0,0,0,0,0,0,0,0,0,0,0,0,0,0,0,0,0,0,0,0,0,0,0,0,0,0,0,0,0,0,0,0,0,0,0,0,0,0,0,0,0,0,0,0,0,0,0,0,0,0,0,0,0,0,0,0,0,0,0,0,0,0,0,0,0,0,0,0,0,0,0,0,0,0,0,0,0,0,0,0,0,0,0,1,0,0,0,0,0,0,0,0,0,0,0,0,1,0,0,0,0,0,0,0,0,0,0,0,0,0,0,0,0,0,0,0,0,0,0,0,0,0,0,0,0,0,0,0,0,0,0,0,0,0,0,0,0,0,0,0,0,0,0,0,0,0,0,0,0,0,0,0,0,0,0,0,0,0,0,0,0,0,0,0,0,0,0,0,0,0,0,0,0,0,0,0,0,0,0,0,0,0,0,0,0,0,0,0,0,0,0,0,0,0,0,0,0,0,0,0,0,0,0,0,0,0,0,0,0,0,0,0,0,0,0,0,0,0,0,0,0,0,0,0,0,0,0,0,0,0,0,0,0,0,0,0,0,0,0,0,0,0,0,0,0,0,0,0,0,0,0,0,0,0,0,0,0,0,0,0,0,0,0,0,0,0,0,0,0,0,0,0,0,0,0,0,0,0,0,0,0,0,0,0,0,0,0,0,0,0,0,0,0,0,0,0,0,0,0,0,0,0,0,0,0,0,0,0,0,0,0,0,0,0,0,0,0,0,0,0,0,0,0,0,0,0,0,0,0,0,0,0,0,0,0,0,0,0,0,0,0,0,0,0,0,0,0,0,0,0,0,0,0,0,1,0,0,0,0,0,0,0,0,0,0,0,0,0,0,0,0,0,0,0,0,0,0,0,0,0,0,0,0,0,0,0,0,0,0,0,0,0,0,0,0,0,0,0,0,0,0,0,0,0,0,0,0,0,0,0,0,0,0,0,0,0,0,0,0,0,0,0,0,0,0,0,0,0,0,0,0,0,0,0,0,0,0,0,0,0,0,0,0,0,0,0,0,0,0,0,0,0,0,0,0,0,0,0,0,0,0,0,0,0,0,0,0,0,0,0,0,0,0,0,0,0,0,0,0,0,0,1,1,1,1,1,1,1,0,0,0,0,0,0,0,0,0,0,0,0,0,0,0,0,0,0,0,0,0,0,0,0,0,0,0,0,0,0,0,0,0,0,0,0,0,0,0,0,0,0,0,0,0,0,0,0,0,0,0,0,0,0,0,0,0,0,1,1,1,1,1,1,1,1,1,1,1,1,1,1,0,0,0,0,0,0,0,0,0,1,1,1,1,1,1,1,1,1,1,0,1,0,0,0,0,0,0,0,0,0,0,0,0,0,0,0,0,0,0,0,0,0,0,0,0,0,0,0,0,0,0,0,0,0,0,0,0,0,0,0,0,0,0,0,0,0,0,0,0,1,1,1,1,1,1,1,1,1,1,1,1,1,1,1,1,1,1,1,1,1,1,1,1,1,1,1,1,1,1,1,1,1,1,1,1,1,1,1,1,0,1,1,1,1,1,1,1,1,1,1,1,1,1,1,1,1,1,1,1,0,0,0,0,0,0,0,0,0,0,0,0,0,0,1,1,1,1,1,1,1,1,1,0,0,0,1,0,0,0,0,0,1,0,1,1,1,1,1,1,1,1,1,1,1,1,1,1,0,0,0,0,1,1,1,1,1,1,1,1,1,1,1,1,1,1,1,1,1,1,1,1,1,1,1,1,1,1,1,1,1,1,1,1,1,1,1,1,1,1,0,0,0,0,0,0,0,0,1,1,1,1,1,1,1,1,1,1,1,1,1,1,1,1,1,1,1,1,1,1,1,1,1,1,1,1,1,1,1,1,1,1,1,1,1,1,1,1,1,1,1,1,1,1,1,1,1,1,1,1,1,1,1,1,1,0,0,1,1,1,1,1,1,1,1,1,1,1,0,1,1,1,0,1,0,0,0,0,0,0,0,0,0,0,0,0,0,0,0,0,0,0,0,0,0,0,0,0,0,0,0,0,0,0,0,0,0,0,0,0,1,1,1,1,1,1,1,0,0,0,0,0,0,1,0,0,0,0,0,0,0,0,1,1,1,1,1,1,1,1,1,0,0,0,0,0,0,0,0,0,0,1,1,0,0,0,0,0,0,0,0,0,0,0,0,0,0,0,0,0,0,0,0,0,0,0,1,0,0,0,0,0,0,0,0,0,0,0,0,0,0,0,0,0,0,0,0,0,0,0,0,0,0,0,0,0,0,0,0,0,0,0,0,0,0,0,0,0,0,0,0,0,0,0,0,0,0,0,0,0,0,0,0,0,0,0,0,0,0,0,0,0,0,0,0,0,0,0,0,0,0,0,0,0,0,0,0,0,0,0,0,0,0,0,0,0,0,0,0,0,0,0,0,0,0,0,0,0,1,0,0,0,0,0,0,0,0,0,0,0,0,0,0,0,0,0,0,0,0,0,0,0,0,0,0,0,0,0,0,0,0,0,0,0,0,0,0,0,0,0,0,0,0,0,0,0,0,0,0,0,0,0,0,1,0,0,0,0,0,0,1,1,0,0,0,0,0,0,0,0,0,1,1,1,1,1,1,1,1,0,0,0,0,0,0,1,0,0,1,1,1,1,1,1,1,1,1,1,1,0,0,0,0,0,1,1,1,1,1,1,1,1,1,1,1,0,0,0,0,0,0,1,1,1,1,1,1,1,1,1,1,1,1,0,0,0,1,1,1,1,1,1,1,1,1,1,1,1,0,0,0,0,1,1,1,1,1,1,1,1,1,1,1,0,0,0,0,0,0,0,0,0,0,0,0,0,0,0,0,0,0,0,0,0,1,1,1,1,1,1,1,1,1,0,0,0,0,0,0,0,0,0,0,0,0,0,0,1,0,0,0,0,0,0,0,0,0,0,0,0,0,1,1,1,1,0,0,0,0,0,0,0,0,0,0,0,0,0,0,0,0,0,0,0,0,0,0,0,1,1,1,0,1,1,1,1,1,1,0,0,0,0,0,0,0,0,0,0,0,1,1,1,1,1,1,1,1,1,1,0,0,0,0,0,0,0,0,0,0,0,0,0,0,0,0,0,0,0,0,0,0,0,0,0,0,0,1,1,1,1,1,1,1,1,1,1,1,1,1,1,0,0,0,0,0,0,0,0,0,0,1,1,1,1,1,1,1,1,1,1,1,1,1,1,1,0,0,0,0,0,0,1,1,1,1,1,1,1,1,1,1,0,0,0,0,0,1,1,1,1,1,1,1,1,1,1,1,1,1,1,1,0,0,0,0,0,0,0,0,0,0,0,0,0,0,1,0,0,0,0,0,0,0,0,0,0,0,0,0,0,0,0,0,0,0,0,0,0,0,0,0,0,0,0,0,0,0,0,0,0,0,0,0,0,0,0,0,0,0,0,0,0,0,0,0,0,0,0,0,0,0,0,0,0,0,0,0,0,0,0,0,0,0,0,0,0,0,0,0,0,0,0,0,0,0,0,0,0,0,0,0,0,0,0,0,0,0,0,0,0,0,0,0,0,0,0,0,0,0,0,0,0,0,0,0,0,0,0,0,0,0,0,0,0,0,0,0,0,0,0,0,0,0,0,0,0,0,0,0,0,0,0,0,0,0,0,0,0,0,0,0,0,0,0,0,0,0,0,0,0,0,0,0,0,0,0,0,0,0,0,0,0,0,0,0,0,0,0,0,0,0,0,0,0,0,0,0,0,0,0,0,0,0,0,0,0,0,0,0,0,0,0,0,0,0,0,0,0,0,0,0,0,0,0,0,0,0,0,0,0,0,0,0,0,0,0,0,0,0,0,0,0,0,0,0,0,0,0,0,0,0,0,0,0,0,0,0,0,0,0,0,0,0,0,0,0,0,0,0,0,0,0,0,0,0,0,0,0,0,0,0,0,0,0,0,0,0,0,0,0,0,0,0,0,0,0,0,0,0,0,0,0,0,0,0,0,0,0,0,0,1,1,1,0,0,0,0,0,0,0,0,0,0,0,0,0,0,0,0,0,0,0,0,0,0,0,0,0,0,0,0,0,0,0,0,0,0,0,0,0,0,0,0,0,0,0,0,0,0,0,0,0,0,0,0,0,0,0,0,0,0,0,0,0,0,0,0,0,0,0,0,0,0,0,0,0,0,0,0,0,0,0,0,0,0,0,0,0,0,0,0,0,0,0,0,0,0,0,0,0,0,0,0,0,0,0,0,0,0,0,0,0,0,0,0,0,0,0,0,0,0,0,0,0,0,0,0,0,0,0,0,0,0,0,1,0,0,0,0,0,0,0,0,0,0,0,0,0,0,0,0,0,0,0,0,0,0,1,1,0,0,0,0,0,0,0,0,0,0,0,0,0,0,0,0,0,0,0,0,0,0,0,0,0,0,0,0,0,0,0,0,0,0,0,0,0,0,0,0,0,0,0,0,0,0,0,0,0,0,0,0,0,0,0,0,0,1,1,1,0,0,0,0,0,0,0,0,0,0,0,0,0,1,1,1,1,1,1,1,1,1,1,1,1,1,0,0,0,0,0,0,0,0,0,0,0,1,1,0,0,0,0,0,0,0,0,0,0,0,0,0,0,0,0,0,0,0,0,0,0,0,0,0,0,0,0,0,0,0,0,0,0,0,0,0,0,0,0,0,0,0,0,0,0,0,0,0,0,0,0,0,0,0,0,0,0,0,0,0,0,0,0,0,0,0,0,0,0,0,0,0,0],\"legendgroup\":\"\",\"name\":\"\",\"showlegend\":true,\"values\":[1007.9,1008.4,1008.8,1009.2,1009.7,1010.7,1011.6,1012.7,1013.8,1015.0,1016.0,1016.1,1016.2,1016.6,1017.1,1017.9,1018.8,1019.8,1020.6,1021.2,1021.7,1022.2,1022.4,1022.8,1023.8,1024.0,1024.2,1024.3,1023.7,1022.8,1022.4,1022.3,1022.4,1022.3,1022.6,1022.7,1022.4,1022.4,1022.4,1022.0,1021.7,1021.5,1021.3,1021.2,1021.5,1021.8,1022.3,1022.8,1022.8,1022.4,1021.9,1021.8,1021.9,1022.2,1022.2,1022.3,1022.4,1022.9,1023.0,1023.0,1022.9,1022.8,1022.7,1022.7,1021.2,1021.1,1020.9,1021.0,1021.1,1020.9,1020.4,1019.6,1018.5,1017.6,1017.1,1016.9,1016.6,1016.4,1016.5,1016.5,1016.4,1016.0,1015.7,1015.3,1015.0,1015.0,1014.8,1014.3,1013.9,1013.6,1013.3,1013.1,1013.1,1013.3,1012.6,1011.7,1010.5,1009.1,1008.0,1007.3,1006.8,1006.4,1005.6,1004.6,1003.9,1002.9,1002.3,1001.2,1000.2,999.49,998.76,998.01,996.84,996.28,995.76,995.4,995.0,994.37,993.51,992.42,991.73,991.01,990.28,989.67,988.97,988.63,988.2,988.11,987.84,988.21,988.87,988.65,989.32,990.22,990.87,992.42,993.55,994.75,995.92,996.96,997.65,997.88,998.17,999.05,999.57,1000.2,1000.8,1001.3,1001.8,1002.3,1002.5,1002.7,1002.8,1003.0,1002.8,1006.4,1006.5,1006.4,1006.3,1006.2,1006.6,1007.0,1007.4,1007.5,1007.6,1007.7,1007.8,1007.9,1007.8,1007.7,1007.4,1007.4,1007.6,1007.5,1007.4,1007.7,1008.2,1008.8,1009.5,1010.1,1010.6,1010.8,1010.8,1011.1,1011.6,1012.3,1013.0,1013.6,1014.2,1015.0,1015.6,1016.0,1016.2,1016.3,1016.4,1016.6,1016.8,1016.7,1016.9,1016.9,1016.9,1016.9,1016.9,1017.1,1016.3,1015.6,1015.1,1015.3,1015.8,1016.0,1016.3,1016.5,1016.6,1016.7,1016.9,1017.1,1016.9,1016.7,1016.7,1016.6,1016.7,1016.4,1016.4,1016.6,1016.8,1017.0,1017.2,1017.6,1017.5,1017.3,1017.4,1017.7,1018.1,1018.5,1018.9,1019.3,1019.6,1020.1,1020.4,1020.6,1020.9,1022.7,1023.2,1023.5,1023.7,1023.3,1022.7,1022.4,1022.2,1022.1,1022.1,1022.2,1022.3,1022.1,1022.0,1021.7,1021.1,1020.6,1020.1,1019.5,1019.0,1018.3,1017.8,1016.6,1016.4,1016.0,1015.4,1014.9,1014.2,1013.1,1012.4,1012.0,1011.8,1011.8,1011.7,1011.8,1011.8,1011.8,1012.0,1011.9,1011.4,1011.4,1011.2,1010.7,1010.6,1010.4,1010.4,1010.5,1010.4,1011.0,1011.2,1010.8,1010.2,1011.1,1012.0,1012.2,1012.3,1012.3,1012.4,1012.2,1012.1,1012.0,1011.6,1012.0,1011.8,1011.2,1010.3,1009.7,1009.6,1009.8,1009.9,1009.8,1009.8,1010.1,1010.4,1010.8,1010.8,1011.0,1011.0,1010.8,1010.8,1010.9,1010.9,1011.1,1011.6,1012.3,1012.8,1013.3,1013.6,1013.5,1013.4,1013.2,1013.6,1014.2,1014.6,1015.3,1016.0,1016.6,1017.1,1017.6,1017.8,1018.2,1018.5,1018.8,1019.1,1019.2,1019.5,1020.3,1020.7,1021.2,1021.5,1021.6,1021.3,1020.9,1020.7,1020.7,1021.1,1021.4,1021.5,1021.8,1022.1,1022.3,1022.6,1009.6,1009.1,1008.1,1008.5,1008.9,1009.2,1008.8,1009.5,1009.7,1010.1,1010.6,1011.1,1011.3,1011.8,1012.2,1012.5,1013.0,1013.3,1013.5,1013.3,1013.3,1013.5,1013.4,1013.4,1013.5,1013.7,1014.1,1014.2,1014.6,1014.9,1014.7,1014.8,1014.9,1014.0,1013.5,1013.2,1013.0,1012.7,1012.0,1011.1,1010.2,1009.4,1008.9,1008.6,1008.2,1007.2,1006.7,1006.3,1005.7,1005.0,1004.4,1003.5,1003.2,1002.5,1001.6,1001.3,1000.8,1000.4,1000.1,999.96,999.77,999.23,998.52,998.27,998.18,998.19,998.29,998.25,998.32,998.23,998.2,998.26,998.08,997.83,997.6,997.49,998.62,999.22,999.83,999.99,1000.2,1000.6,1001.2,1002.0,1003.0,1004.1,1005.1,1006.5,1008.0,1009.2,1010.2,1011.4,1012.2,1017.9,1018.9,1020.1,1020.7,1020.8,1021.0,1021.4,1022.1,1022.9,1023.6,1024.3,1024.8,1025.1,1025.7,1026.1,1026.4,1026.4,1026.5,1026.8,1026.8,1026.7,1027.2,1027.4,1027.1,1026.6,1026.2,1026.1,1026.3,1026.0,1026.1,1026.0,1025.9,1025.5,1025.3,1002.7,1003.7,1004.1,1004.3,1004.3,1004.6,1004.8,1005.2,1006.0,1006.6,1009.1,1009.9,1010.6,1011.1,1011.0,1011.1,1011.2,1011.7,1011.9,1012.3,1013.2,1013.8,1014.3,1014.8,1014.9,1015.0,1015.4,1015.6,1015.7,1015.5,1016.7,1017.0,1017.2,1017.4,1017.1,1016.8,1016.8,1017.0,1017.0,1017.4,1017.9,1018.4,1018.7,1019.0,1019.3,1019.6,1020.0,1020.4,1023.8,1024.3,1024.0,1024.0,1024.0,1024.0,1024.3,1024.3,1024.6,1025.0,1025.6,1026.2,1026.6,1027.0,1027.3,1027.3,1028.2,1028.5,1028.6,1028.5,1028.5,1028.3,1027.9,1027.5,1027.3,1027.2,1027.5,1027.7,1027.9,1028.2,1028.2,1028.3,1028.3,1028.2,1028.1,1027.9,1027.8,1027.8,1027.9,1028.3,1028.7,1028.8,1029.1,1029.1,1028.8,1028.1,1027.8,1027.9,1027.8,1027.8,1028.0,1028.3,1028.2,1028.2,1028.1,1027.7,1027.5,1027.2,1027.0,1026.6,1026.4,1026.2,1026.2,1026.3,1026.3,1026.5,1026.6,1026.7,1026.5,1025.8,1025.3,1024.8,1024.6,1024.8,1025.0,1024.6,1024.5,1024.8,1024.9,1024.7,1024.6,1024.4,1024.2,1024.0,1023.9,1023.8,1023.6,1023.6,1023.5,1023.2,1022.9,1022.3,1021.3,1020.3,1019.4,1017.9,1017.3,1017.3,1017.3,1016.9,1016.7,1016.1,1015.5,1015.2,1015.0,1014.5,1014.2,1014.1,1013.8,1014.1,1014.7,1014.9,1014.6,1014.6,1014.0,1013.4,1013.1,1012.9,1012.8,1012.9,1013.3,1013.1,1013.2,1013.6,1013.5,1013.5,1013.1,1012.9,1012.6,1012.0,1011.5,1011.0,1010.8,1010.9,1010.8,1010.6,1010.5,1010.1,1009.2,1008.5,1007.9,1007.5,1007.4,1007.6,1008.0,1008.4,1009.0,1009.6,1009.9,1009.9,1009.9,1009.6,1009.1,1008.7,1008.2,1008.0,1008.0,1008.1,1008.2,1007.9,1007.7,1007.4,1006.6,1005.8,1005.4,1004.9,1004.7,1004.6,1004.6,1004.6,1004.6,1005.3,1005.3,1005.4,1005.5,1005.3,1004.9,1004.4,1004.2,1004.1,1004.0,1004.2,1004.3,1004.2,1004.4,1004.5,1004.5,1004.6,1005.0,1005.4,1006.0,1006.6,1007.4,1008.2,1008.7,1009.4,1009.5,1009.9,1010.1,1010.3,1010.2,1010.4,1010.5,1010.5,1010.5,1010.6,1010.7,1010.6,1010.5,1010.6,1010.5,1010.2,1010.1,1010.3,1010.3,1010.3,1010.6,1010.8,1010.7,1010.6,1010.4,1009.9,1009.3,1008.7,1007.9,1007.2,1006.3,1005.7,1005.2,1004.8,1004.3,1003.4,1003.0,1002.7,1002.6,1002.5,1002.8,1003.2,1003.9,1005.3,1006.5,1008.1,1008.7,1019.5,1019.6,1019.5,1019.4,1019.1,1018.7,1018.7,1018.8,1018.8,1018.9,1018.7,1018.4,1018.2,1017.7,1016.9,1016.1,1015.3,1014.7,1014.0,1014.0,1014.2,1013.8,1013.7,1013.4,1013.3,1013.1,1013.0,1012.6,1012.4,1012.0,1012.0,1011.9,1011.3,1010.9,1010.5,1010.7,1010.6,1010.6,1011.9,1012.9,1012.8,1013.0,1013.1,1013.3,1013.7,1014.2,1014.4,1015.4,1016.2,1016.3,1017.0,1017.8,1018.2,1018.1,1017.9,1017.9,1018.0,1018.4,1018.5,1018.2,1018.2,1018.1,1017.7,1017.2,1016.8,1016.3,1016.0,1015.9,1016.1,1016.2,1017.2,1017.7,1018.0,1018.0,1018.1,1018.0,1017.7,1017.3,1016.8,1016.7,1016.6,1016.7,1016.4,1016.1,1015.8,1015.2,1014.5,1013.9,1013.4,1013.0,1012.9,1013.3,1013.8,1014.3,1014.8,1015.2,1015.4,1015.5,1016.1,1016.2,1016.4,1016.7,1016.9,1017.5,1018.0,1018.4,1018.7,1018.9,1019.0,1018.7,1018.5,1018.4,1018.5,1018.4,1018.3,1018.7,1019.3,1020.0,1020.6,1020.7,1020.9,1021.1,1021.5,1021.7,1021.7,1021.9,1022.2,1022.3,1022.9,1023.6,1024.2,1024.5,1024.6,1024.2,1023.8,1023.8,1023.6,1023.5,1023.8,1023.8,1023.9,1024.3,1024.3,1024.1,1023.6,1023.2,1022.7,1022.3,1021.8,1021.4,1021.4,1021.2,1021.2,1021.2,1021.1,1020.9,1021.0,1021.1,1020.7,1020.6,1020.8,1020.9,1021.3,1021.6,1021.9,1022.4,1022.8,1023.1,1023.3,1023.8,1024.5,1024.4,1024.5,1024.8,1025.6,1026.3,1026.8,1027.3,1027.9,1028.5,1028.9,1029.2,1029.1,1029.3,1029.2,1029.4,1029.9,1030.3,1030.8,1031.8,1030.6,1030.4,1030.8,1030.5,1030.2,1029.9,1029.7,1029.5,1029.0,1028.3,1027.8,1027.7,1027.4,1027.4,1027.1,1026.6,1025.7,1025.1,1024.7,1023.8,1023.2,1022.4,1021.6,1021.0,1020.4,1020.0,1018.3,1018.3,1017.2,1015.9,1014.9,1013.2,1011.7,1010.6,1009.7,1008.6,1008.2,1008.0,1006.9,1004.8,1004.4,1003.5,1002.9,1002.5,1001.5,1000.8,1001.2,1001.4,1001.8,1002.7,1003.3,1004.1,1005.0,1005.7,1006.2,1006.7,1007.5,1008.3,1009.3,1010.2,1010.7,1011.2,1011.4,1011.5,1011.9,1012.4,1012.7,1012.7,1012.5,1012.7,1013.0,1013.4,1014.0,1014.1,1013.9,1013.9,1014.3,1014.4,1014.3,1014.2,1014.2,1014.1,1014.5,1014.7,1015.1,1015.2,1014.9,1014.8,1014.6,1014.5,1014.5,1014.2,1013.8,1013.6,1013.9,1014.2,1015.3,1015.6,1015.7,1015.9,1015.7,1015.6,1015.9,1016.0,1016.4,1016.9,1017.1,1017.4,1017.6,1017.5,1017.5,1017.6,1017.8,1017.5,1017.3,1017.1,1016.8,1016.8,1017.1,1017.7,1018.1,1018.3,1018.7,1019.2,1019.5,1019.6,1019.9,1020.5,1021.0,1021.0,1022.0,1022.5,1023.1,1023.3,1023.5,1024.0,1024.5,1024.8,1024.7,1024.7,1026.3,1027.0,1027.5,1027.7,1027.9,1027.9,1027.6,1027.5,1027.2,1027.2,1027.2,1027.3,1027.5,1027.5,1027.7,1027.8,1027.8,1027.6,1027.7,1027.5,1027.9,1028.1,1028.1,1028.0,1027.7,1027.0,1026.4,1025.9,1025.4,1025.4,1025.5,1025.5,1025.7,1025.8,1025.7,1025.6,1025.5,1025.5,1025.2,1025.0,1024.9,1025.0,1025.1,1025.5,1025.9,1026.1,1026.2,1026.1,1025.9,1025.4,1024.7,1024.2,1023.9,1023.8,1023.8,1024.0,1024.2,1024.4,1024.3,1024.2,1024.1,1024.1,1023.8,1023.7,1023.7,1023.8,1024.1,1024.4,1024.7,1025.0,1025.2,1024.9,1024.5,1024.1,1023.6,1023.2,1022.8,1022.8,1023.0,1023.4,1023.7,1024.1,1024.3,1024.4,1024.4,1024.6,1024.6,1024.4,1024.3,1024.7,1025.1,1025.8,1026.4,1026.9,1027.4,1027.6,1027.4,1027.1,1027.2,1027.2,1027.6,1027.9,1028.2,1028.6,1029.0,1029.2,1029.2,1029.0,1028.8,1028.7,1028.2,1028.2,1028.4,1028.2,1028.3,1028.6,1028.9,1029.0,1028.7,1028.2,1027.6,1026.8,1026.0,1025.4,1025.0,1025.0,1025.1,1025.4,1025.5,1025.6,1025.6,1025.6,1026.0,1025.9,1025.7,1025.5,1025.3,1025.5,1025.6,1025.9,1026.4,1026.7,1027.1,1027.0,1026.8,1026.6,1026.4,1026.4,1026.3,1026.4,1026.5,1026.8,1027.1,1027.1,1027.1,1026.9,1026.8,1026.5,1026.2,1026.1,1025.9,1025.9,1026.0,1026.1,1026.3,1026.3,1026.0,1025.5,1024.9,1024.2,1023.5,1022.8,1022.5,1022.1,1022.1,1022.0,1021.7,1021.4,1021.0,1020.8,1020.6,1020.2,1019.9,1019.8,1019.8,1019.8,1019.8,1020.0,1020.2,1020.0,1019.8,1019.5,1019.2,1018.7,1018.3,1017.9,1017.7,1017.7,1017.9,1018.3,1018.2,1018.1,1018.3,1018.3,1018.2,1018.0,1017.7,1017.7,1018.1,1018.6,1018.8,1018.7,1018.7,1018.5,1018.0,1017.3,1016.6,1015.9,1015.5,1015.2,1015.0,1015.2,1015.3,1015.1,1014.8,1014.5,1014.2,1013.5,1012.9,1012.7,1012.8,1013.2,1013.6,1014.2,1014.7,1014.8,1014.8,1015.3,1015.9,1016.5,1017.2,1018.6,1019.5,1020.0,1020.3,1020.5,1021.4,1021.6,1021.6,1021.7,1022.0,1022.3,1022.5,1022.5,1022.1,1021.5,1020.7,1019.8,1018.8,1017.8,1017.2,1016.6,1015.9,1015.6,1015.3,1014.8,1014.3,1014.2,1014.1,1014.0,1013.7,1013.6,1013.6,1013.7,1013.8,1014.2,1014.6,1015.1,1015.3,1015.4,1015.6,1015.6,1015.6,1015.7,1016.0,1016.4,1016.6,1016.8,1017.0,1017.0,1017.0,1016.8,1016.4,1016.0,1015.7,1015.3,1014.8,1014.5,1014.5,1014.5,1014.3,1014.1,1013.8,1013.1,1012.3,1011.2,1010.2,1009.3,1008.6,1008.2,1007.8,1008.0,1008.1,1007.7,1007.6,1007.2,1006.8,1006.1,1005.2,1004.5,1003.7,1003.0,1002.7,1003.0,1003.2,1003.1,1002.3,1002.2,1001.4,1000.9,1000.8,1001.6,1001.2,1001.2,1001.2,1002.2,1003.0,1003.5,1003.8,1004.4,1005.0,1005.2,1005.3,1005.4,1005.8,1006.0,1006.4,1007.0,1007.4,1007.8,1007.6,1007.5,1007.0,1006.2,1005.6,1005.1,1004.7,1004.4,1003.9,1003.9,1004.1,1004.0,1003.9,1003.8,1003.5,1003.4,1002.9,1002.4,1001.9,1001.6,1001.6,1001.5,1001.8,1002.1,1002.1,1001.9,1001.5,1001.3,1001.0,1001.3,1002.3,1004.5,1006.0,1008.0,1009.7,1010.6,1011.8,1012.6,1013.0,1013.2,1013.3,1013.1,1013.6,1014.0,1014.6,1015.0,1015.2,1015.8,1016.1,1016.4,1016.2,1016.0,1015.6,1015.3,1015.0,1014.8,1014.7,1015.0,1015.4,1015.6,1015.9,1015.9,1015.6,1015.4,1015.4,1015.3,1016.0,1016.5,1016.8,1017.3,1017.4,1017.3,1017.0,1016.6,1016.2,1015.8,1015.4,1015.2,1015.2,1015.4,1015.7,1015.6,1015.8,1016.0,1016.0,1015.6,1015.4,1015.5,1015.7,1016.0,1016.3,1016.7,1016.8,1016.9,1016.8,1016.7,1016.2,1015.7,1014.8,1014.1,1013.8,1014.1,1014.3,1014.5,1014.2,1013.9,1013.9,1013.9,1014.1,1013.7,1013.5,1013.3,1013.4,1013.7,1013.9,1014.1,1014.1,1014.2,1014.0,1013.5,1012.7,1012.1,1011.4,1010.8,1010.2,1010.2,1010.5,1010.7,1011.1,1010.7,1010.0,1009.5,1008.9,1008.2,1007.8,1007.1,1006.5,1006.1,1006.0,1005.7,1005.7,1005.8,1005.7,1005.1,1004.7,1004.2,1003.5,1002.9,1002.6,1002.4,1002.5,1002.9,1003.3,1003.5,1003.5,1003.4,1003.2,1003.0,1002.7,1002.5,1002.4,1002.8,1003.3,1003.4,1003.6,1003.8,1003.8,1003.7,1003.4,1002.9,1002.2,1001.7,1001.3,1001.1,1001.2,1001.1,1001.1,1001.0,1000.9,1000.1,999.28,998.7,998.15,997.49,996.73,996.66,996.55,996.29,995.96,995.84,995.74,995.66,995.28,994.76,993.9,993.23,993.01,993.3,993.97,994.5,995.28,994.95,994.6,994.19,994.25,994.1,994.7,995.25,995.14,995.4,996.62,997.88,998.82,999.7,1000.5,1001.2,1001.7,1002.1,1002.4,1002.6,1003.0,1003.3,1003.6,1004.1,1004.5,1004.8,1005.0,1005.2,1005.3,1005.2,1005.2,1004.9,1005.2,1005.5,1006.0,1006.1,1006.7,1007.3,1007.8,1008.3,1008.7,1008.9,1009.0,1009.2,1009.4,1009.6,1009.8,1010.2,1010.5,1010.6,1010.6,1010.4,1010.4,1010.1,1009.9,1009.7,1009.9,1010.1,1010.4,1010.6,1010.6,1010.5,1010.2,1009.9,1009.8,1009.6,1008.9,1008.6,1008.1,1007.6,1007.3,1007.4,1007.8,1007.8,1007.9,1007.8,1007.3,1006.7,1006.6,1006.3,1006.0,1006.2,1006.2,1006.5,1006.7,1006.9,1007.0,1006.8,1006.6,1006.1,1005.5,1005.0,1004.7,1004.9,1005.2,1005.8,1005.9,1006.3,1006.4,1006.5,1006.4,1006.3,1006.5,1006.1,1006.0,1006.1,1006.5,1006.9,1007.4,1007.3,1007.3,1007.2,1006.8,1006.1,1005.6,1004.9,1004.5,1004.1,1003.5,1003.2,1003.3,1003.1,1002.8,1002.4,1002.1,1001.2,1000.9,1001.1,1000.9,1000.9,1000.6,999.99,1000.2,999.86,999.68,999.33,999.13,998.46,997.36,996.62,996.34,995.78,995.4,995.87,996.37,996.52,996.3,998.02,998.48,998.88,999.04,999.22,999.5,999.78,1000.1,999.7,1000.4,1000.7,1001.3,1002.1,1003.1,1003.2,1003.3,1003.4,1003.8,1004.0,1004.4,1005.0,1005.4,1006.1,1006.8,1007.0,1007.1,1007.1,1007.2,1007.0,1007.3,1007.6,1007.8,1008.0,1008.5,1009.0,1009.0,1009.0,1008.9,1008.5,1008.2,1007.5,1007.4,1007.1,1007.3,1007.6,1007.2,1007.5,1007.6,1007.1,1006.6,1007.0,1007.2,1006.4,1005.8,1005.2,1004.4,1004.0,1003.6,1003.2,1002.4,1001.9,1001.2,999.75,998.43,996.96,994.89,992.89,993.59,991.25,988.82,987.43,986.41,985.85,986.87,988.34,987.56,987.5,986.56,986.43,986.16,986.25,986.41,986.78,987.31,988.5,989.93,991.17,992.37,993.42,994.17,994.95,995.63,996.73,997.33,997.96,998.6,999.15,999.54,999.87,1000.1,1000.4,1000.6,1001.0,1001.4,1002.0,1002.7,1003.3,1003.6,1003.7,1004.4,1004.8,1005.2,1004.9,1004.6,1004.4,1004.1,1003.7,1003.7,1003.5,1003.4,1003.3,1003.4,1003.8,1003.8,1003.6,1003.4,1003.6,1003.3,1003.1,1002.9,1003.4,1004.1,1004.4,1004.7,1005.0,1005.2,1005.0,1005.1,1005.1,1005.2,1005.5,1005.7,1006.1,1006.8,1007.6,1008.1,1008.4,1012.9,1012.9,1012.6,1012.6,1012.4,1012.4,1012.6,1013.1,1013.5,1013.7,1013.7,1013.7,1013.6,1013.4,1013.1,1012.6,1012.2,1011.9,1011.8,1011.6,1011.9,1012.2,1012.3,1012.3,1012.2,1011.3,1011.2,1011.2,1011.0,1011.2,1011.5,1011.6,1011.8,1012.1,1012.2,1012.0,1012.2,1012.2,1011.8,1011.7,1011.3,1010.9,1010.8,1011.1,1011.6,1011.9,1011.8,1011.8,1011.8,1011.6,1011.2,1011.2,1011.2,1011.3,1011.7,1011.9,1012.1,1012.1,1011.9,1011.5,1010.9,1010.3,1009.2,1008.2,1007.6,1007.4,1007.4,1008.0,1008.7,1009.2,1009.7,1010.4,1010.8,1011.1,1011.7,1011.8,1012.4,1012.8,1013.7,1014.3,1014.9,1015.3,1015.7,1015.6,1015.1,1014.9,1014.7,1014.4,1014.2,1014.0,1014.2,1014.7,1015.1,1015.2,1015.3,1015.3,1015.2,1014.8,1014.5,1014.2,1014.3,1014.5,1014.8,1015.3,1015.7,1015.8,1016.0,1015.8,1015.4,1015.3,1015.1,1015.0,1015.2,1015.2,1015.0,1015.3,1015.3,1015.3,1015.0,1015.2,1015.2,1015.6,1015.6,1015.8,1015.8,1015.5,1015.2,1014.9,1014.7,1014.6,1014.4,1014.6,1015.0,1015.5,1015.6,1015.1,1014.4,1014.6,1015.7,1014.6,1014.2,1014.3,1014.2,1014.1,1014.1,1014.3,1012.8,1012.4,1012.4,1012.7,1013.1,1013.5,1013.6,1013.5,1013.5,1013.5,1013.3,1013.2,1012.8,1012.1,1012.0,1012.6,1013.1,1013.6,1013.9,1013.9,1013.1,1012.5,1012.9,1012.9,1013.0,1013.2,1013.4,1013.6,1013.7,1013.9,1014.1,1013.9,1013.5,1013.0,1012.6,1012.2,1011.8,1011.8,1011.9,1012.1,1012.4,1012.6,1012.2,1011.7,1010.6,1010.7,1010.5,1010.4,1010.2,1009.9,1009.7,1009.3,1008.8,1008.4,1008.4,1008.1,1007.8,1007.8,1007.9,1007.5,1007.3,1006.9,1005.3,1005.6,1005.6,1005.5,1005.4,1005.1,1004.8,1004.4,1004.1,1003.8,1003.5,1003.1,1003.1,1003.4,1003.7,1003.8,1003.7,1003.6,1003.4,1003.3,1003.3,1003.4,1004.1,1004.3,1004.4,1004.5,1004.5,1004.3,1003.8,1003.5,1003.3,1003.3,1003.6,1003.8,1004.0,1004.4,1004.8,1004.7,1004.8,1004.6,1004.6,1004.5,1004.5,1005.0,1005.5,1006.0,1006.2,1006.5,1006.9,1007.1,1007.1,1007.1,1006.9,1006.5,1006.3,1006.2,1006.0,1006.6,1007.4,1007.5,1007.7,1007.7,1011.7,1011.5,1010.9,1010.7,1010.6,1010.6,1010.7,1011.0,1011.2,1011.5,1011.6,1011.8,1011.9,1011.7,1011.7,1011.3,1011.0,1010.9,1011.0,1011.2,1011.6,1012.2,1012.7,1013.1,1013.1,1012.9,1012.8,1013.0,1012.8,1012.8,1013.4,1013.9,1014.1,1014.2,1014.4,1014.7,1015.0,1015.0,1014.9,1014.6,1014.5,1014.9,1015.5,1015.6,1016.0,1016.1,1016.4,1016.7,1017.0,1017.0,1016.9,1017.0,1017.1,1017.2,1017.4,1017.5,1017.5,1017.8,1018.2,1018.2,1018.2,1018.2,1018.0,1017.5,1017.0,1016.7,1016.2,1016.3,1016.9,1017.5,1017.6,1017.4,1017.3,1017.2,1016.9,1016.8,1016.5,1016.6,1016.9,1017.2,1017.4,1017.5,1017.4,1017.3,1016.9,1016.9,1016.5,1015.7,1015.1,1014.8,1014.3,1014.1,1014.2,1014.8,1015.0,1014.6,1014.1,1012.9,1012.4,1012.0,1011.8,1011.8,1012.0,1012.0,1012.2,1012.2,1011.5,1011.2,1010.9,1009.9,1009.8,1009.6,1009.9,1009.7,1009.5,1009.4,1008.4,1008.0,1007.7,1007.3,1008.5,1009.0,1008.9,1009.1,1009.0,1008.7,1008.8,1008.7,1008.8,1009.2,1009.7,1010.3,1010.7,1010.9,1010.9,1010.9,1010.8,1010.5,1010.0,1009.6,1009.4,1009.2,1009.0,1008.9,1009.1,1008.9,1008.5,1008.0,1007.7,1006.8,1005.8,1005.1,1004.5,1004.4,1004.3,1004.3,1004.1,1003.9,1003.7,1002.9,1002.2,1002.4,1002.8,1003.3,1002.8,1002.5,1002.5,1003.0,1003.5,1003.8,1004.3,1004.3,1004.3,1004.2,1003.7,1003.1,1002.9,1002.9,1003.2,1003.5,1003.8,1003.9,1004.0,1004.5,1004.5,1004.6,1004.7,1004.8,1004.8,1004.7,1004.5,1004.9,1005.1,1005.5,1005.7,1005.6,1005.5,1005.0,1004.9,1004.6,1004.1,1003.9,1003.7,1003.8,1003.9,1004.0,1003.8,1003.7,1003.5,1003.2,1002.8,1002.4,1002.0,1001.6,1001.8,1002.3,1002.8,1003.3,1004.0,1003.9,1003.5,1003.2,1003.4,1003.4,1003.2,1003.2,1002.9,1003.3,1003.9,1003.9,1004.7,1004.7,1004.7,1004.8,1005.0,1005.2,1005.5,1006.4,1006.6,1006.7,1005.4,1005.7,1006.7,1007.8,1008.0,1007.8,1007.8,1008.1,1008.3,1008.6,1008.9,1009.2,1009.4,1009.4,1009.7,1009.7,1010.1,1010.1,1009.7,1009.4,1009.7,1010.1,1010.1,1010.2,1010.5,1010.8,1011.4,1011.4,1011.3,1011.0,1010.9,1010.7,1010.5,1010.4,1010.7,1011.1,1011.4,1011.6,1011.8,1012.0,1011.9,1011.6,1011.3,1011.3,1011.5,1011.5,1011.2,1011.4,1011.6,1011.9,1012.2,1011.8,1011.8,1011.4,1011.0,1010.8,1011.2,1011.4,1011.8,1011.9,1012.3,1012.6,1012.7,1012.8,1012.8,1012.7,1012.3,1012.2,1012.3,1011.7,1011.2,1010.9,1011.1,1011.2,1010.7,1010.5,1010.2,1010.1,1009.7,1009.4,1009.0,1009.0,1009.0,1008.5,1008.5,1007.9,1007.1,1006.4,1005.8,1004.9,1004.0,1003.4,1002.6,1002.5,1002.9,1003.4,1003.6,1004.1,1004.1,1004.2,1004.4,1004.7,1005.0,1004.9,1004.9,1004.8,1005.0,1005.2,1005.7,1005.9,1006.2,1006.5,1006.8,1006.9,1006.9,1006.7,1006.4,1006.4,1006.6,1007.2,1007.6,1007.9,1008.0,1008.3,1008.5,1008.2,1008.0,1007.8,1007.4,1007.4,1007.3,1007.1,1007.1,1006.8,1006.9,1007.1,1006.9,1006.8,1006.6,1006.3,1006.0,1005.9,1005.5,1005.5,1005.7,1006.1,1006.3,1006.2,1005.9,1005.8,1005.5,1005.4,1005.2,1005.4,1005.7,1005.9,1006.3,1006.6,1006.9,1007.4,1007.6,1007.6,1007.5,1007.4,1008.3,1008.9,1009.3,1010.0,1010.6,1011.3,1008.0,1007.9,1006.6,1006.6,1006.4,1006.0,1006.3,1006.1,1005.4,1005.4,1005.3,1005.1,1005.0,1005.0,1005.3,1005.9,1005.9,1006.2,1006.3,1006.9,1007.3,1007.4,1007.2,1007.0,1007.0,1007.0,1006.9,1007.0,1007.5,1007.9,1008.2,1008.4,1008.6,1008.7,1008.5,1008.6,1008.3,1008.2,1008.1,1008.2,1008.0,1008.0,1007.9,1008.3,1008.6,1009.0,1009.1,1009.0,1008.8,1008.7,1008.9,1009.3,1009.7,1010.2,1010.8,1011.3,1011.5,1011.8,1012.1,1011.9,1011.8,1011.6,1011.6,1011.8,1011.8,1011.7,1011.7,1011.9,1012.2,1012.4,1012.6,1012.4,1012.1,1011.8,1011.8,1012.2,1012.5,1012.7,1013.1,1013.4,1013.4,1013.6,1013.6,1013.4,1012.9,1012.5,1012.3,1012.2,1012.7,1013.0,1013.1,1013.5,1013.8,1013.8,1012.9,1012.6,1012.4,1012.4,1012.7,1013.1,1013.6,1014.2,1014.9,1015.1,1015.7,1016.0,1016.2,1016.0,1015.8,1015.6,1015.4,1015.4,1015.4,1015.4,1015.9,1016.3,1016.1,1015.9,1015.6,1015.3,1015.4,1015.0,1015.1,1015.2,1015.6,1015.7,1015.8,1015.9,1016.0,1015.7,1015.4,1015.0,1014.3,1013.6,1013.5,1013.7,1013.6,1013.6,1013.8,1013.7,1013.3,1013.0,1012.6,1012.3,1011.6,1011.3,1011.3,1011.2,1011.3,1011.4,1011.4,1011.3,1011.2,1010.9,1010.7,1010.2,1009.4,1009.1,1008.8,1008.6,1008.5,1008.4,1008.5,1008.4,1007.9,1007.5,1007.2,1006.7,1006.2,1005.8,1006.0,1006.0,1005.9,1006.1,1006.1,1006.1,1006.0,1006.1,1005.8,1005.3,1003.9,1003.6,1003.8,1004.0,1004.5,1004.7,1004.6,1004.7,1004.7,1004.5,1004.2,1003.9,1004.1,1004.6,1005.4,1005.6,1005.7,1006.2,1006.2,1006.0,1005.9,1005.6,1005.6,1005.7,1006.1,1006.0,1006.2,1006.5,1006.9,1007.4,1007.5,1007.8,1008.1,1008.3,1008.7,1009.1,1009.6,1010.0,1010.4,1010.8,1010.9,1011.0,1011.2,1011.2,1011.1,1011.0,1010.8,1010.7,1010.7,1011.0,1011.1,1011.3,1011.7,1012.0,1012.0,1011.9,1011.7,1011.6,1011.5,1011.7,1012.0,1012.3,1012.7,1013.1,1013.4,1013.7,1014.0,1014.0,1014.0,1013.9,1013.8,1013.6,1013.4,1013.4,1013.4,1013.6,1014.0,1014.4,1014.4,1014.4,1014.2,1014.0,1013.8,1013.8,1014.0,1014.1,1014.6,1015.1,1015.0,1015.0,1015.0,1015.0,1014.7,1014.3,1013.9,1013.7,1013.6,1013.7,1013.6,1013.6,1013.8,1014.1,1013.8,1013.3,1012.9,1012.5,1012.1,1011.9,1012.1,1012.0,1012.1,1012.1,1011.9,1011.7,1011.4,1011.1,1010.6,1010.3,1009.6,1008.9,1008.4,1008.1,1008.2,1008.1,1008.3,1008.3,1008.1,1008.0,1007.7,1007.4,1007.0,1006.9,1007.0,1006.9,1007.0,1007.0,1006.8,1006.7,1006.6,1006.3,1006.1,1005.7,1005.4,1005.0,1004.7,1004.5,1004.6,1004.5,1004.6,1004.8,1004.7,1004.6,1004.7,1004.8,1004.8,1004.7,1004.8,1005.2,1005.4,1005.7,1006.0,1006.2,1006.5,1006.5,1006.3,1006.2,1006.1,1005.9,1005.6,1005.5,1005.6,1005.8,1006.0,1006.1,1006.1,1006.1,1006.1,1005.9,1005.8,1005.9,1006.0,1006.4,1006.6,1006.9,1006.9,1006.9,1007.1,1007.0,1006.8,1006.6,1006.2,1005.8,1005.5,1005.4,1005.6,1005.6,1006.0,1006.2,1006.1,1006.0,1006.0,1005.9,1005.7,1005.5,1005.6,1006.1,1006.5,1007.2,1007.4,1007.5,1007.7,1008.0,1008.2,1008.2,1008.2,1008.6,1009.0,1009.7,1010.4,1011.0,1011.4,1011.7,1012.0,1012.0,1012.1,1012.4,1012.7,1013.1,1013.4,1013.8,1014.1,1014.4,1014.6,1014.7,1014.6,1014.4,1014.3,1014.4,1014.5,1014.5,1014.6,1014.8,1015.4,1015.8,1016.1,1016.1,1016.0,1015.9,1015.7,1015.4,1015.3,1015.5,1015.9,1016.4,1016.8,1017.1,1017.4,1017.7,1017.8,1017.7,1017.6,1017.6,1017.6,1017.7,1017.7,1018.0,1018.2,1018.5,1018.7,1018.5,1018.2,1018.0,1017.6,1017.3,1017.2,1017.2,1017.3,1017.4,1017.7,1018.0,1018.1,1018.2,1017.9,1017.6,1017.5,1017.4,1017.2,1017.0,1017.0,1017.0,1017.0,1017.1,1017.1,1016.9,1016.7,1016.5,1016.5,1016.3,1016.0,1015.9,1015.8,1015.8,1015.9,1016.0,1016.0,1016.1,1015.7,1015.3,1015.0,1014.8,1014.4,1014.1,1013.9,1013.9,1013.9,1014.1,1014.3,1014.0,1013.5,1013.3,1012.9,1012.6,1012.3,1012.1,1012.0,1012.0,1012.1,1012.4,1012.4,1012.6,1012.5,1012.1,1011.7,1011.4,1011.1,1010.9,1010.7,1010.7,1010.7,1010.9,1011.1,1010.9,1010.8,1010.4,1009.8,1009.8,1010.0,1010.2,1010.0,1010.0,1010.2,1010.2,1010.3,1010.3,1010.3,1010.3,1010.1,1009.9,1009.7,1009.5,1009.3,1009.3,1009.3,1009.5,1009.5,1009.2,1008.9,1008.8,1008.5,1008.2,1007.9,1008.0,1008.4,1008.8,1009.0,1008.9,1009.1,1009.1,1008.9,1008.7,1008.3,1008.0,1007.9,1007.7,1007.7,1007.9,1008.1,1008.7,1008.8,1008.7,1008.7,1008.2,1007.9,1007.7,1007.7,1007.9,1008.2,1008.5,1008.8,1008.9,1008.9,1009.3,1009.3,1009.2,1009.2,1009.1,1009.0,1008.9,1008.9,1009.2,1009.5,1009.9,1010.4,1010.6,1010.6,1010.4,1010.2,1010.0,1010.2,1010.6,1010.9,1011.1,1011.4,1011.9,1012.2,1012.4,1012.6,1012.5,1012.3,1012.1,1012.1,1011.9,1011.7,1011.9,1012.2,1012.6,1013.2,1013.2,1013.3,1013.0,1012.5,1012.8,1012.6,1012.3,1012.2,1012.1,1011.9,1012.2,1012.4,1012.5,1012.3,1011.9,1011.6,1011.6,1011.4,1011.3,1011.1,1011.2,1011.1,1011.3,1011.4,1011.5,1011.6,1011.4,1011.2,1010.7,1010.5,1010.7,1010.8,1011.1,1011.1,1011.0,1010.8,1010.7,1010.4,1010.0,1009.8,1009.4,1009.1,1008.8,1008.7,1008.6,1008.5,1008.8,1008.8,1008.7,1008.6,1008.4,1008.1,1007.8,1007.6,1007.6,1007.7,1008.2,1008.7,1008.8,1008.9,1009.1,1009.1,1009.1,1009.1,1008.9,1008.6,1008.9,1010.0,1010.7,1010.8,1011.2,1011.5,1011.5,1011.6,1011.9,1012.0,1012.1,1012.0,1012.2,1012.3,1012.3,1012.5,1012.5,1012.4,1012.6,1012.9,1013.0,1012.8,1012.5,1012.3,1012.2,1012.1,1012.2,1012.5,1012.9,1013.1,1013.1,1012.9,1012.8,1012.6,1012.5,1012.7,1012.9,1012.9,1013.0,1013.2,1013.2,1013.2,1013.4,1013.4,1013.4,1013.0,1012.5,1012.2,1012.1,1012.1,1012.4,1012.4,1012.7,1013.0,1013.0,1012.8,1012.6,1012.2,1012.1,1011.9,1012.0,1012.2,1012.5,1012.7,1013.0,1013.0,1013.0,1013.0,1013.0,1012.8,1012.4,1012.5,1012.4,1012.5,1012.6,1012.6,1012.9,1013.2,1013.3,1013.5,1013.7,1013.5,1013.4,1013.4,1013.5,1013.5,1013.6,1014.0,1014.2,1014.4,1014.6,1014.8,1014.6,1014.5,1014.5,1014.5,1014.3,1014.3,1014.6,1014.7,1015.0,1015.3,1015.2,1014.9,1014.7,1014.4,1014.1,1013.9,1014.0,1014.3,1014.7,1015.0,1015.0,1015.0,1014.8,1014.6,1014.6,1014.6,1014.6,1014.5,1014.4,1014.2,1014.3,1014.6,1014.9,1015.1,1015.0,1014.9,1014.8,1014.4,1014.3,1014.4,1014.8,1015.2,1015.5,1015.8,1016.0,1016.1,1016.2,1016.5,1016.5,1016.4,1016.2,1015.9,1015.8,1015.8,1015.8,1015.7,1016.0,1016.5,1016.4,1016.1,1016.0,1016.0,1015.9,1015.6,1015.5,1015.2,1015.0,1014.8,1014.9,1015.0,1015.0,1015.1,1015.0,1014.8,1014.4,1014.0,1013.7,1013.2,1013.1,1013.1,1013.5,1013.4,1013.0,1012.5,1012.0,1011.7,1011.3,1011.0,1010.9,1010.7,1010.8,1010.9,1010.8,1010.7,1010.8,1010.8,1010.5,1010.2,1009.9,1009.5,1009.0,1008.8,1008.6,1008.5,1008.7,1008.8,1008.7,1008.4,1008.2,1008.0,1007.8,1007.6,1007.6,1007.7,1007.8,1008.0,1008.3,1008.6,1008.9,1008.8,1008.6,1008.4,1008.4,1008.2,1008.3,1008.4,1008.6,1008.7,1009.1,1009.3,1009.3,1009.1,1008.9,1008.7,1008.7,1008.7,1008.9,1009.0,1009.3,1009.7,1009.9,1009.9,1009.8,1009.6,1009.5,1009.4,1009.5,1009.3,1009.2,1009.1,1009.0,1009.2,1009.5,1009.6,1009.4,1009.0,1008.8,1008.9,1008.6,1008.6,1008.4,1008.4,1008.5,1008.7,1008.7,1008.6,1008.6,1008.4,1008.2,1007.8,1007.2,1006.8,1006.6,1006.2,1006.1,1006.5,1007.0,1007.3,1007.0,1006.9,1006.7,1006.5,1006.4,1006.3,1006.3,1006.3,1006.4,1006.6,1007.0,1007.1,1007.2,1007.3,1007.3,1007.2,1007.1,1007.0,1007.0,1006.9,1006.9,1007.1,1007.8,1008.0,1007.8,1007.9,1007.7,1007.7,1007.8,1007.8,1008.0,1008.2,1008.5,1008.6,1008.6,1008.9,1009.2,1009.2,1009.0,1008.6,1008.5,1008.4,1008.2,1008.2,1008.2,1008.1,1008.4,1008.7,1008.6,1008.6,1008.7,1008.6,1008.5,1008.5,1008.6,1008.7,1008.6,1008.8,1008.9,1009.4,1009.7,1009.7,1009.4,1008.2,1008.5,1008.3,1008.0,1008.3,1009.1,1009.3,1008.9,1008.6,1008.5,1008.6,1008.7,1008.9,1009.1,1009.4,1009.4,1009.6,1009.6,1009.7,1010.0,1010.2,1010.1,1009.7,1009.2,1009.1,1008.9,1009.3,1009.6,1009.1,1009.7,1010.2,1010.4,1010.4,1010.0,1009.9,1009.7,1009.5,1009.6,1009.8,1010.0,1010.2,1010.3,1010.5,1010.6,1010.4,1009.9,1009.4,1009.0,1008.4,1008.0,1007.8,1007.7,1007.9,1007.9,1008.2,1008.2,1008.0,1008.5,1008.1,1007.4,1007.2,1007.2,1007.4,1007.7,1008.4,1009.7,1009.8,1009.6,1009.5,1009.1,1008.9,1008.9,1008.8,1008.7,1008.7,1008.7,1008.7,1009.0,1009.1,1009.0,1008.9,1008.8,1008.7,1008.6,1008.5,1008.7,1009.2,1009.6,1009.9,1010.1,1010.3,1010.4,1010.5,1010.3,1010.1,1010.1,1010.0,1009.8,1010.0,1010.4,1010.5,1011.0,1011.1,1011.0,1011.0,1011.0,1010.7,1010.3,1010.2,1010.3,1010.5,1010.8,1010.8,1011.1,1011.0,1010.9,1010.8,1010.4,1010.0,1009.6,1009.1,1008.8,1008.7,1008.7,1008.9,1008.9,1008.7,1008.4,1008.2,1007.8,1007.6,1007.2,1007.1,1007.2,1007.5,1008.0,1008.3,1008.3,1008.1,1008.1,1007.9,1007.6,1007.2,1006.8,1006.5,1006.2,1006.2,1006.5,1006.9,1007.4,1007.8,1008.6,1009.2,1009.8,1010.3,1010.8,1011.5,1011.9,1012.5,1013.0,1013.2,1013.4,1013.6,1013.7,1013.9,1013.6,1013.5,1013.4,1013.2,1012.9,1012.7,1012.5,1012.8,1013.1,1013.1,1012.9,1013.0,1012.9,1012.7,1012.5,1012.5,1012.4,1012.4,1012.6,1012.8,1013.0,1013.1,1013.2,1013.2,1013.0,1012.8,1012.6,1012.6,1012.4,1012.4,1012.7,1012.9,1013.3,1013.6,1013.8,1013.9,1013.6,1013.4,1013.1,1012.8,1012.9,1013.0,1013.2,1013.2,1013.3,1013.4,1013.2,1013.0,1012.7,1012.3,1012.1,1012.0,1011.8,1011.7,1011.7,1011.8,1011.8,1011.8,1011.4,1011.0,1010.7,1010.5,1010.4,1010.5,1010.5,1010.8,1011.0,1011.1,1011.0,1010.9,1010.9,1010.8,1010.6,1010.2,1010.1,1010.0,1009.7,1009.5,1009.7,1010.2,1010.5,1010.7,1010.6,1010.2,1009.7,1009.3,1009.3,1009.3,1009.3,1009.4,1009.6,1009.7,1009.7,1009.7,1009.7,1009.6,1009.3,1009.0,1008.7,1008.4,1008.2,1008.3,1008.5,1008.5,1008.6,1008.5,1008.6,1008.3,1008.0,1007.7,1007.3,1007.5,1007.6,1007.8,1007.9,1007.8,1007.5,1007.4,1007.3,1007.2,1006.8,1006.6,1006.6,1006.5,1006.6,1006.9,1007.1,1007.2,1007.4,1007.5,1007.7,1007.5,1007.4,1007.4,1007.4,1007.3,1007.5,1007.9,1008.1,1008.4,1008.6,1008.9,1009.3,1009.5,1009.8,1010.2,1010.4,1010.3,1010.1,1010.0,1009.7,1009.9,1010.1,1010.1,1009.8,1009.7,1009.3,1009.2,1009.2,1009.1,1009.3,1009.7,1010.0,1010.2,1010.2,1010.1,1010.2,1010.1,1009.9,1009.8,1009.8,1009.8,1009.8,1009.7,1009.8,1010.1,1010.2,1010.0,1009.9,1009.6,1009.6,1009.3,1009.0,1008.8,1008.8,1008.6,1008.6,1008.6,1008.6,1008.4,1008.3,1008.0,1007.7,1007.3,1006.9,1006.6,1006.4,1006.2,1006.4,1006.7,1006.8,1006.8,1006.7,1006.6,1006.4,1006.2,1005.9,1005.8,1005.8,1005.9,1005.9,1006.0,1006.2,1006.2,1005.9,1005.7,1005.5,1005.1,1004.8,1004.6,1004.6,1004.7,1005.0,1005.3,1005.5,1005.4,1005.3,1005.2,1005.1,1005.0,1005.1,1005.3,1005.5,1005.6,1005.6,1005.6,1005.6,1005.9,1005.9,1005.6,1005.3,1004.9,1004.6,1004.6,1004.5,1004.7,1004.9,1005.0,1005.2,1004.9,1004.6,1004.4,1004.1,1003.9,1004.0,1004.5,1005.0,1005.2,1005.4,1005.2,1005.2,1005.1,1005.0,1005.1,1005.0,1004.9,1005.0,1005.1,1005.1,1005.5,1005.9,1006.1,1005.8,1005.6,1005.6,1005.8,1005.7,1005.6,1005.4,1005.3,1005.5,1005.8,1006.1,1006.2,1006.3,1006.6,1006.6,1006.5,1006.3,1006.4,1006.5,1006.6,1006.5,1006.6,1006.8,1007.2,1007.2,1007.0,1007.0,1006.5,1006.2,1005.9,1005.7,1005.9,1006.0,1006.3,1006.5,1006.5,1006.4,1006.4,1006.2,1005.9,1005.7,1005.3,1005.1,1005.0,1005.0,1005.4,1005.8,1006.3,1006.5,1006.6,1006.4,1006.4,1006.4,1006.4,1006.3,1006.7,1006.9,1007.0,1007.3,1007.7,1007.8,1007.8,1007.8,1007.7,1007.5,1007.2,1006.8,1006.4,1006.2,1006.6,1007.0,1007.6,1007.9,1008.1,1007.9,1008.0,1007.9,1007.9,1007.6,1007.8,1008.1,1008.5,1008.6,1008.8,1008.9,1009.0,1009.1,1009.2,1008.9,1008.7,1008.4,1008.1,1007.7,1007.8,1008.2,1009.0,1009.3,1009.2,1008.9,1008.5,1008.3,1008.1,1008.0,1008.0,1008.2,1008.4,1008.7,1008.9,1009.1,1009.1,1009.0,1008.9,1008.7,1008.5,1008.3,1008.3,1008.7,1008.8,1008.9,1009.2,1009.5,1009.7,1009.7,1009.6,1009.3,1009.1,1008.8,1008.8,1009.2,1009.4,1009.5,1009.5,1009.6,1009.8,1009.5,1009.4,1009.2,1009.0,1009.0,1009.0,1009.2,1009.6,1009.7,1009.7,1009.7,1009.8,1009.7,1009.7,1009.6,1009.6,1009.4,1009.2,1009.3,1009.5,1009.6,1009.4,1009.4,1009.6,1009.4,1009.3,1009.3,1008.9,1008.5,1008.6,1008.7,1008.9,1009.2,1009.7,1009.9,1010.0,1010.1,1010.0,1009.8,1009.9,1010.0,1010.2,1010.6,1011.0,1011.3,1011.2,1011.4,1011.6,1011.5,1011.4,1011.4,1011.2,1011.1,1011.1,1010.9,1011.0,1011.2,1011.5,1011.4,1011.6,1011.6,1011.5,1011.6,1011.6,1011.6,1011.7,1012.0,1012.2,1012.3,1012.4,1012.7,1012.7,1012.4,1012.1,1011.7,1011.4,1011.2,1011.2,1011.1,1011.2,1011.5,1011.8,1012.0,1011.9,1011.5,1011.3,1011.2,1011.2,1011.2,1011.2,1011.2,1011.4,1011.6,1011.6,1011.7,1011.6,1011.4,1011.3,1011.0,1010.7,1010.3,1010.1,1010.0,1010.0,1010.1,1010.3,1010.3,1010.2,1010.1,1010.2,1010.3,1010.0,1009.8,1009.9,1009.9,1010.2,1010.7,1011.2,1011.5,1011.7,1011.7,1011.6,1011.3,1011.1,1010.7,1010.8,1010.9,1011.1,1011.5,1011.9,1012.0,1012.1,1012.1,1012.2,1012.1,1011.9,1011.9,1012.2,1012.7,1012.9,1013.1,1013.1,1013.3,1013.3,1013.2,1013.0,1012.8,1012.5,1012.1,1012.0,1012.1,1012.1,1012.3,1012.5,1012.7,1012.8,1012.8,1012.2,1011.9,1011.6,1011.4,1011.6,1011.7,1011.6,1011.7,1011.8,1011.7,1011.4,1011.1,1010.9,1010.6,1010.1,1010.1,1010.5,1010.1,1009.9,1009.9,1010.0,1009.8,1009.5,1009.4,1009.0,1008.7,1008.7,1008.4,1008.3,1008.3,1008.3,1008.1,1007.9,1008.0,1008.0,1007.8,1007.6,1007.6,1007.3,1007.1,1007.1,1007.2,1007.2,1007.5,1007.9,1008.0,1007.5,1007.1,1006.8,1006.5,1006.1,1005.8,1005.7,1005.6,1005.7,1005.7,1006.0,1005.7,1005.5,1005.9,1005.9,1007.2,1006.3,1006.3,1006.8,1007.6,1008.3,1008.6,1008.9,1009.4,1009.4,1009.7,1009.7,1009.6,1009.6,1009.5,1010.0,1010.5,1010.9,1011.2,1011.5,1011.7,1011.8,1011.5,1011.2,1010.7,1010.4,1010.1,1010.0,1010.0,1010.1,1010.2,1010.5,1010.6,1010.5,1010.5,1010.5,1010.5,1010.4,1010.4,1010.3,1010.2,1010.2,1010.5,1010.8,1011.0,1011.0,1011.0,1010.7,1010.4,1009.8,1009.5,1009.5,1009.5,1009.6,1010.0,1010.5,1010.7,1010.9,1010.9,1010.8,1010.4,1010.1,1009.9,1009.8,1009.8,1010.1,1010.4,1010.5,1010.8,1010.8,1010.7,1010.6,1010.4,1009.5,1009.2,1009.4,1009.6,1009.9,1010.0,1010.0,1009.9,1009.7,1009.4,1009.3,1009.3,1009.3,1009.3,1009.5,1009.9,1010.0,1010.5,1010.5,1010.3,1010.0,1009.6,1009.6,1009.9,1010.3,1010.7,1010.7,1010.9,1011.2,1011.5,1011.4,1011.1,1011.0,1011.1,1011.5,1011.8,1012.0,1012.3,1012.7,1013.0,1013.0,1012.9,1012.7,1012.5,1012.5,1012.4,1012.2,1012.6,1013.2,1013.7,1013.8,1014.1,1014.0,1013.9,1013.9,1013.8,1013.7,1013.9,1014.0,1014.2,1014.4,1014.5,1014.7,1014.5,1014.2,1014.1,1014.1,1014.3,1014.5,1014.6,1015.0,1015.6,1016.4,1016.3,1016.0,1016.1,1016.1,1016.2,1016.4,1016.9,1017.1,1017.2,1017.3,1017.2,1017.3,1017.2,1017.2,1017.4,1017.4,1017.4,1017.4,1017.5,1017.8,1018.3,1018.2,1018.1,1018.1,1018.1,1017.8,1017.7,1017.6,1017.5,1017.7,1017.9,1018.2,1018.2,1018.4,1018.3,1018.1,1017.8,1017.4,1017.0,1016.8,1016.6,1016.6,1016.7,1017.0,1017.0,1017.0,1016.8,1016.6,1016.5,1016.3,1015.9,1015.6,1015.7,1016.0,1016.1,1016.3,1016.4,1016.2,1016.0,1015.5,1015.1,1014.6,1014.5,1014.4,1014.0,1013.8,1013.9,1014.2,1014.5,1014.6,1014.8,1014.6,1014.4,1014.2,1013.9,1013.9,1014.2,1014.6,1014.7,1015.2,1015.6,1015.6,1015.6,1015.4,1015.2,1014.7,1014.3,1014.1,1014.0,1013.9,1014.3,1014.7,1014.8,1014.8,1014.6,1014.2,1014.0,1014.0,1013.9,1013.8,1013.9,1014.0,1014.1,1014.1,1014.2,1014.0,1013.8,1012.4,1012.0,1012.0,1011.8,1011.8,1012.1,1012.3,1012.2,1012.0,1012.0,1011.8,1011.8,1011.7,1011.5,1011.3,1011.6,1012.0,1012.0,1011.8,1012.1,1012.2,1012.2,1012.1,1012.0,1011.6,1011.4,1011.6,1011.9,1011.9,1011.8,1011.5,1011.1,1010.9,1010.7,1010.4,1010.4,1010.6,1010.9,1011.1,1011.0,1011.0,1010.9,1010.6,1010.4,1010.0,1009.5,1009.2,1009.0,1009.0,1009.1,1009.4,1009.6,1009.4,1009.3,1009.1,1008.9,1008.8,1008.7,1008.2,1008.1,1008.2,1008.3,1008.2,1008.1,1008.0,1006.4,1005.8,1005.6,1005.3,1004.9,1005.0,1005.3,1005.4,1005.2,1005.2,1005.0,1004.6,1004.4,1004.3,1003.8,1003.6,1003.6,1003.6,1003.7,1003.7,1003.8,1003.8,1003.5,1003.0,1003.0,1002.8,1002.6,1002.9,1004.2,1004.7,1005.2,1006.0,1006.4,1007.5,1007.6,1008.2,1008.5,1008.6,1008.1,1008.4,1009.1,1009.7,1010.4,1011.4,1012.5,1012.9,1013.1,1013.1,1012.9,1012.9,1013.2,1013.5,1013.7,1014.3,1015.0,1015.6,1015.9,1015.9,1015.7,1015.5,1015.4,1015.3,1015.5,1015.5,1016.1,1016.6,1017.0,1017.2,1017.6,1017.6,1017.4,1017.1,1017.0,1016.6,1016.4,1016.3,1016.0,1015.9,1016.4,1016.6,1016.6,1016.9,1017.1,1016.5,1016.2,1016.0,1016.1,1016.3,1016.4,1016.4,1016.1,1015.7,1015.5,1015.3,1014.9,1014.7,1014.5,1014.6,1014.8,1015.1,1015.4,1014.7,1014.6,1014.0,1014.0,1014.0,1014.0,1014.1,1014.1,1014.2,1014.6,1014.9,1014.8,1014.7,1014.6,1014.3,1014.2,1014.2,1014.3,1014.4,1014.8,1015.6,1015.9,1015.7,1015.6,1015.3,1014.9,1014.7,1014.7,1015.0,1014.9,1015.1,1015.4,1015.4,1015.6,1016.0,1016.1,1016.1,1016.1,1016.2,1016.0,1016.1,1016.3,1016.4,1016.5,1016.9,1017.2,1017.4,1017.6,1017.8,1017.9,1017.9,1017.7,1017.8,1017.8,1017.9,1018.1,1018.4,1018.8,1018.9,1019.0,1019.0,1018.8,1018.5,1018.4,1018.5,1018.4,1018.4,1018.6,1018.7,1018.3,1018.2,1018.0,1017.8,1017.6,1017.5,1017.1,1016.8,1016.7,1016.8,1016.6,1016.6,1016.6,1016.2,1015.6,1015.2,1014.7,1014.4,1014.2,1014.1,1014.2,1014.1,1014.2,1014.5,1014.4,1014.1,1013.6,1013.5,1013.5,1013.3,1013.2,1012.7,1012.7,1012.8,1012.7,1012.8,1012.8,1012.6,1012.5,1012.3,1012.0,1011.7,1011.5,1011.7,1011.7,1011.8,1012.3,1012.6,1012.5,1012.4,1012.3,1012.2,1012.1,1012.0,1011.9,1011.9,1012.0,1012.1,1012.2,1012.3,1012.5,1012.5,1012.3,1012.0,1011.9,1011.6,1011.4,1011.2,1011.1,1011.1,1011.4,1011.7,1011.7,1011.1,1010.9,1010.8,1010.3,1010.1,1010.1,1010.0,1010.4,1010.4,1010.5,1010.3,1010.4,1010.2,1009.8,1009.6,1009.3,1009.0,1008.9,1008.9,1008.8,1009.2,1009.7,1010.0,1010.0,1010.0,1010.2,1010.4,1010.5,1010.5,1010.7,1010.9,1011.4,1012.2,1012.8,1013.3,1013.8,1014.0,1013.8,1013.9,1014.0,1014.1,1014.0,1014.3,1014.5,1014.7,1015.1,1015.4,1015.4,1015.2,1015.1,1015.1,1015.0,1014.8,1014.6,1014.7,1014.6,1015.0,1015.2,1015.3,1015.5,1015.4,1015.1,1014.9,1014.6,1014.2,1013.9,1014.0,1014.1,1014.1,1014.4,1014.8,1014.8,1014.9,1014.7,1014.5,1014.2,1014.0,1013.9,1014.0,1014.2,1014.4,1014.7,1014.9,1015.0,1014.8,1014.5,1014.4,1014.0,1013.7,1013.6,1013.8,1013.9,1014.2,1014.8,1015.5,1015.8,1016.1,1016.4,1016.5,1016.7,1016.7,1016.9,1016.9,1017.2,1017.6,1017.8,1018.2,1018.6,1018.8,1018.4,1018.2,1017.9,1017.8,1017.7,1017.6,1017.7,1017.7,1018.0,1018.2,1018.0,1017.9,1017.6,1017.2,1016.7,1016.7,1016.5,1016.4,1016.2,1016.3,1016.3,1016.5,1016.6,1016.2,1015.7,1015.4,1014.9,1014.5,1014.2,1014.2,1014.4,1014.3,1014.3,1014.3,1014.1,1013.7,1013.2,1012.6,1012.0,1011.6,1011.2,1010.7,1010.8,1010.9,1010.8,1010.7,1010.5,1010.3,1009.8,1009.4,1008.8,1008.5,1008.3,1008.3,1008.4,1008.7,1009.0,1009.0,1008.9,1008.8,1008.4,1008.0,1007.6,1007.5,1007.0,1007.0,1007.0,1007.4,1007.7,1007.9,1007.9,1008.0,1008.1,1007.8,1007.6,1007.3,1007.2,1007.0,1007.0,1007.2,1007.7,1008.1,1008.4,1008.7,1009.0,1009.2,1009.1,1009.2,1009.3,1009.7,1010.1,1010.3,1010.7,1011.1,1011.5,1011.9,1011.8,1011.2,1010.4,1010.4,1010.5,1010.1,1009.9,1010.4,1011.1,1011.4,1011.4,1011.3,1011.0,1010.5,1010.1,1009.6,1008.8,1008.9,1008.9,1009.2,1009.7,1009.9,1010.1,1009.9,1009.4,1008.9,1008.3,1008.0,1007.6,1007.5,1007.3,1007.3,1008.0,1008.3,1008.0,1007.6,1007.5,1007.5,1008.1,1007.5,1006.9,1006.0,1006.0,1006.1,1006.3,1006.7,1008.4,1008.3,1007.9,1007.5,1007.0,1006.7,1006.7,1007.1,1007.7,1008.3,1008.6,1009.0,1008.5,1008.5,1008.3,1008.1,1009.3,1010.2,1010.4,1009.8,1007.1,1007.7,1008.6,1009.2,1010.0,1010.4,1010.3,1010.1,1009.8,1009.5,1009.3,1009.4,1009.9,1010.2,1010.7,1012.0,1011.6,1010.9,1011.2,1010.8,1010.3,1010.6,1010.7,1010.8,1010.8,1011.1,1011.4,1011.9,1011.7,1011.7,1011.9,1011.8,1011.7,1011.1,1010.8,1010.8,1011.3,1011.6,1011.6,1011.5,1011.4,1011.3,1011.0,1010.9,1010.6,1010.5,1010.0,1009.9,1010.0,1010.0,1010.1,1010.3,1010.5,1010.4,1010.4,1010.3,1010.3,1009.9,1009.6,1009.7,1009.9,1010.0,1010.4,1010.5,1010.5,1010.4,1010.3,1010.1,1009.9,1009.8,1009.5,1009.6,1009.7,1009.8,1009.9,1010.3,1010.5,1010.5,1010.3,1010.1,1009.6,1009.3,1009.0,1008.7,1008.6,1008.5,1009.1,1009.3,1009.2,1009.0,1009.0,1009.2,1009.3,1009.6,1009.5,1009.9,1010.3,1010.7,1010.9,1011.7,1012.4,1012.8,1013.1,1013.0,1013.0,1012.9,1012.8,1012.9,1013.2,1013.8,1014.6,1015.2,1015.6,1015.7,1015.6,1015.3,1015.1,1015.0,1014.9,1014.9,1015.2,1015.5,1015.8,1016.1,1016.3,1016.0,1015.6,1015.5,1015.0,1014.7,1014.5,1014.5,1014.7,1015.1,1015.3,1015.6,1015.7,1015.7,1015.3,1015.4,1015.3,1015.5,1015.6,1015.8,1016.1,1016.6,1017.1,1017.4,1017.3,1017.5,1017.5,1017.0,1016.4,1016.0,1015.8,1015.6,1015.4,1015.5,1015.9,1016.1,1015.9,1015.6,1015.0,1014.8,1014.7,1014.3,1014.0,1013.9,1013.8,1013.9,1013.8,1013.9,1014.2,1014.0,1013.6,1012.9,1012.4,1011.7,1011.1,1010.6,1010.3,1010.3,1010.3,1010.3,1010.1,1009.6,1009.1,1009.3,1009.3,1008.9,1008.7,1008.7,1008.7,1008.9,1009.0,1009.5,1009.9,1009.9,1009.6,1009.3,1009.0,1008.7,1008.5,1008.4,1008.2,1008.4,1008.9,1009.2,1009.4,1009.5,1009.4,1009.6,1009.6,1009.8,1009.9,1010.2,1010.4,1010.7,1011.2,1011.6,1012.0,1012.1,1012.1,1011.8,1011.6,1011.5,1011.4,1011.4,1011.7,1012.0,1012.5,1013.3,1013.7,1013.9,1013.8,1013.7,1013.8,1013.6,1013.6,1013.8,1014.1,1014.5,1014.9,1015.3,1015.6,1015.6,1015.4,1015.2,1014.8,1014.6,1014.6,1014.5,1014.8,1015.1,1015.7,1015.9,1015.9,1015.7,1015.6,1015.6,1015.5,1015.4,1015.3,1015.4,1015.7,1016.1,1016.5,1016.6,1016.7,1016.5,1016.2,1015.6,1015.1,1015.0,1015.0,1015.1,1015.5,1016.1,1016.5,1016.7,1016.8,1017.0,1017.0,1016.8,1016.5,1016.3,1016.2,1016.3,1016.5,1016.9,1017.5,1018.3,1018.6,1018.4,1018.1,1017.6,1016.9,1016.4,1016.1,1016.1,1016.4,1016.6,1017.0,1017.2,1017.2,1017.1,1016.8,1016.8,1016.6,1016.7,1016.8,1016.8,1017.1,1017.4,1017.6,1017.6,1017.4,1017.1,1016.7,1016.2,1016.1,1016.1,1016.2,1016.2,1016.3,1016.6,1016.8,1017.2,1017.1,1017.0,1016.8,1016.9,1017.4,1017.4,1017.4,1017.7,1018.1,1018.2,1017.8,1017.4,1016.9,1016.4,1016.3,1016.3,1016.2,1016.4,1016.5,1016.7,1016.9,1017.1,1017.2,1017.0,1016.6,1016.4,1016.3,1015.9,1015.7,1015.7,1016.1,1016.6,1016.3,1016.2,1015.6,1014.7,1013.9,1013.4,1013.5,1013.4,1013.3,1013.4,1013.6,1013.6,1013.3,1013.1,1013.0,1013.0,1012.7,1011.8,1011.1,1011.0,1011.1,1011.5,1011.7,1012.0,1012.0,1011.9,1012.0,1011.4,1009.9,1009.9,1010.2,1010.7,1011.2,1011.5,1011.5,1011.5,1011.4,1011.4,1011.2,1011.3,1011.5,1011.6,1011.8,1012.1,1012.4,1012.5,1012.4,1012.4,1011.7,1011.2,1010.6,1011.4,1012.1,1012.1,1011.9,1012.1,1012.1,1011.9,1011.9,1012.0,1012.1,1012.1,1012.5,1012.9,1013.1,1013.3,1013.9,1014.3,1014.5,1014.8,1014.8,1014.8,1014.7,1014.5,1014.8,1015.4,1016.0,1016.4,1016.8,1017.0,1017.2,1017.4,1017.5,1017.6,1017.5,1017.6,1017.7,1018.1,1018.4,1018.8,1018.8,1019.0,1018.8,1018.6,1018.0,1017.6,1017.4,1017.1,1017.1,1017.2,1017.4,1017.5,1017.3,1017.0,1016.7,1016.3,1015.8,1015.5,1015.0,1014.7,1014.5,1014.5,1014.3,1014.5,1014.3,1014.1,1013.9,1013.5,1012.7,1012.0,1011.2,1010.4,1009.7,1009.3,1009.4,1009.2,1009.2,1008.3,1008.0,1007.5,1007.0,1006.7,1006.4,1006.2,1006.3,1006.6,1006.7,1007.1,1007.4,1007.8,1008.0,1008.3,1008.4,1008.5,1009.2,1010.1,1010.9,1012.0,1012.7,1013.4,1013.7,1013.7,1013.8,1013.9,1013.7,1013.6,1013.5,1013.5,1013.5,1013.9,1014.0,1014.0,1013.8,1013.4,1012.7,1012.1,1011.7,1011.4,1010.9,1010.7,1010.9,1010.7,1010.7,1010.8,1010.8,1010.4,1010.1,1009.9,1009.7,1009.3,1009.0,1009.1,1009.1,1009.5,1009.7,1010.0,1010.1,1009.7,1009.5,1009.1,1008.8,1008.7,1008.9,1009.1,1009.2,1009.3,1009.4,1009.3,1009.3,1009.1,1009.0,1008.6,1008.3,1008.0,1008.1,1008.1,1008.6,1009.0,1009.2,1009.4,1009.3,1009.1,1008.8,1008.7,1008.9,1009.1,1009.6,1010.2,1010.9,1011.4,1012.0,1012.5,1012.8,1013.1,1013.1,1012.9,1013.0,1013.3,1013.8,1013.8,1014.2,1014.7,1015.0,1015.2,1015.2,1014.8,1014.7,1014.4,1014.2,1014.0,1014.0,1014.1,1014.2,1014.2,1014.1,1013.8,1013.6,1013.4,1013.3,1013.2,1012.8,1012.9,1013.0,1012.9,1013.1,1013.3,1013.6,1013.7,1013.5,1013.1,1012.8,1012.4,1012.1,1012.0,1012.0,1012.2,1012.3,1012.6,1012.8,1012.8,1012.7,1012.5,1012.0,1011.5,1011.5,1011.6,1011.6,1011.7,1011.9,1011.9,1011.8,1011.6,1011.2,1010.8,1010.4,1010.2,1010.2,1010.2,1010.4,1010.7,1011.1,1011.5,1011.9,1012.1,1012.0,1011.9,1011.5,1011.4,1011.3,1011.3,1011.5,1012.2,1012.4,1012.6,1013.0,1013.1,1013.1,1012.9,1012.5,1012.5,1012.5,1012.4,1012.9,1013.0,1013.4,1013.9,1014.3,1014.3,1014.6,1015.0,1015.0,1015.0,1015.1,1015.2,1015.5,1015.9,1016.1,1016.3,1016.8,1017.1,1016.8,1016.6,1016.1,1015.5,1015.4,1015.3,1015.3,1015.9,1016.4,1016.4,1016.1,1016.5,1016.3,1016.1,1015.8,1015.7,1015.8,1015.8,1016.1,1016.4,1016.8,1017.5,1017.9,1017.8,1017.5,1017.4,1017.5,1017.6,1017.4,1017.6,1018.0,1018.5,1018.9,1019.0,1019.3,1019.6,1019.8,1020.1,1020.0,1020.0,1020.2,1020.3,1020.4,1020.8,1021.2,1021.3,1021.4,1021.3,1020.8,1020.4,1020.1,1019.9,1020.1,1020.5,1020.9,1021.2,1021.5,1021.5,1021.4,1021.3,1021.2,1021.0,1020.8,1020.7,1020.7,1020.5,1020.6,1020.9,1021.3,1021.3,1021.2,1020.9,1020.2,1019.6,1019.4,1019.2,1019.0,1019.1,1019.2,1019.0,1018.8,1018.7,1018.4,1018.2,1018.0,1017.7,1017.6,1017.5,1017.3,1017.1,1017.2,1017.4,1017.5,1017.6,1017.5,1017.2,1016.7,1016.3,1016.1,1015.9,1016.1,1016.3,1016.0,1015.6,1015.2,1014.9,1014.7,1014.6,1014.5,1014.2,1013.8,1013.7,1013.4,1013.2,1012.9,1013.0,1013.5,1013.4,1013.2,1013.0,1012.6,1012.5,1012.1,1011.7,1011.7,1012.4,1012.7,1012.6,1012.7,1013.3,1013.1,1013.2,1013.1,1012.9,1012.3,1012.4,1012.7,1012.9,1012.7,1012.8,1012.9,1012.9,1012.6,1012.6,1012.2,1011.9,1012.0,1012.1,1011.5,1011.5,1011.9,1012.2,1012.2,1012.5,1012.5,1012.4,1012.5,1012.5,1012.3,1011.8,1011.7,1011.6,1011.9,1012.3,1012.6,1013.1,1013.1,1012.9,1013.0,1012.8,1012.7,1013.0,1012.9,1012.6,1013.2,1013.7,1013.9,1014.1,1013.8,1013.9,1013.7,1013.5,1013.3,1013.3,1013.4,1013.7,1013.8,1014.2,1014.5,1014.6,1014.9,1015.1,1014.7,1014.3,1014.2,1014.5,1014.6,1014.7,1014.8,1015.0,1015.0,1014.9,1014.6,1014.5,1014.2,1013.7,1013.4,1013.1,1012.9,1012.7,1012.5,1012.6,1012.9,1012.7,1012.5,1012.0,1011.3,1010.8,1010.5,1010.3,1010.1,1010.2,1010.2,1010.1,1009.9,1010.1,1009.9,1008.3,1008.6,1008.9,1009.3,1009.6,1009.7,1009.7,1008.8,1008.6,1008.5,1008.2,1007.9,1007.5,1006.2,1006.0,1006.1,1006.0,1005.9,1006.0,1006.1,1006.3,1006.3,1006.0,1005.6,1005.2,1005.3,1005.4,1006.2,1006.9,1006.9,1007.2,1007.1,1006.7,1006.5,1006.5,1006.5,1006.6,1006.9,1006.5,1005.9,1004.9,1006.1,1006.7,1004.6,1004.2,1004.0,1005.6,1005.2,1004.1,1003.9,1003.3,1002.3,1002.3,1001.8,1001.3,1001.1,1000.6,1001.3,1002.2,1003.0,1004.1,1004.7,1005.1,1005.5,1006.6,1007.6,1008.4,1009.1,1009.8,1010.8,1011.3,1012.0,1012.3,1012.3,1012.2,1012.1,1012.3,1012.2,1012.3,1012.5,1012.9,1013.3,1013.7,1014.1,1014.3,1014.3,1014.0,1013.9,1013.9,1014.1,1014.1,1014.1,1014.4,1014.6,1014.8,1015.2,1015.1,1014.9,1014.2,1013.8,1013.6,1013.4,1013.0,1012.6,1012.4,1012.5,1012.7,1012.6,1012.3,1011.5,1010.8,1010.2,1009.8,1009.5,1009.0,1009.0,1008.8,1008.3,1008.0,1007.9,1007.7,1007.3,1007.1,1006.9,1006.9,1007.0,1006.8,1006.9,1006.9,1007.2,1007.5,1007.7,1007.7,1007.6,1007.1,1006.9,1006.8,1006.8,1007.1,1007.1,1007.6,1007.6,1008.1,1008.3,1008.7,1009.1,1009.3,1009.6,1009.9,1010.4,1010.7,1011.3,1011.9,1012.7,1013.7,1014.2,1014.7,1014.9,1014.7,1014.5,1014.8,1015.0,1015.1,1015.4,1015.8,1015.9,1016.1,1016.2,1016.1,1015.9,1016.0,1015.8,1015.5,1015.5,1015.7,1015.5,1015.2,1015.4,1015.8,1015.8,1015.8,1015.6,1015.0,1014.6,1014.4,1014.2,1014.3,1014.3,1014.3,1014.3,1014.2,1014.2,1013.9,1013.7,1013.4,1013.3,1013.2,1012.9,1012.7,1012.7,1012.8,1012.9,1012.9,1012.7,1012.5,1012.0,1011.4,1010.8,1010.3,1010.0,1009.8,1009.6,1009.4,1009.2,1009.3,1009.2,1008.6,1008.5,1008.1,1007.7,1007.1,1006.8,1006.9,1007.3,1007.4,1008.1,1008.6,1009.0,1009.3,1009.2,1008.9,1009.1,1009.3,1009.6,1009.8,1010.0,1010.5,1010.7,1011.2,1011.8,1011.8,1012.1,1012.3,1012.0,1011.8,1011.8,1012.1,1012.1,1012.5,1012.9,1013.6,1014.2,1014.6,1014.7,1014.6,1014.7,1015.0,1015.3,1015.2,1015.3,1015.6,1015.7,1016.3,1016.8,1016.7,1016.3,1016.5,1016.4,1016.4,1016.4,1016.7,1016.8,1016.8,1017.2,1017.9,1018.3,1018.7,1018.4,1018.0,1017.8,1017.8,1017.8,1017.7,1017.9,1018.1,1018.2,1018.1,1017.9,1017.6,1017.2,1016.9,1016.4,1015.9,1015.3,1015.3,1014.9,1014.6,1014.9,1015.0,1014.8,1014.4,1013.6,1012.9,1012.6,1012.2,1012.1,1012.3,1012.5,1012.8,1012.8,1012.9,1012.9,1013.1,1013.2,1013.1,1013.2,1013.3,1013.4,1013.6,1013.8,1014.1,1014.8,1015.5,1016.1,1016.3,1016.4,1016.5,1016.5,1016.9,1017.5,1017.9,1018.4,1018.8,1018.9,1019.4,1019.7,1019.9,1019.9,1020.2,1020.2,1020.4,1020.3,1020.7,1021.1,1021.4,1022.6,1023.1,1023.2,1023.0,1022.4,1022.1,1021.9,1022.0,1022.4,1023.0,1023.4,1023.6,1023.9,1024.1,1023.8,1023.6,1023.5,1023.6,1023.6,1023.4,1023.6,1023.7,1023.7,1024.0,1024.2,1024.2,1024.0,1023.7,1022.9,1022.6,1022.5,1022.7,1022.6,1022.6,1022.9,1023.2,1023.2,1022.8,1022.6,1022.4,1022.0,1021.7,1021.7,1021.5,1021.4,1021.3,1021.1,1021.4,1021.6,1021.6,1021.7,1021.2,1020.5,1020.0,1019.7,1019.6,1019.7,1020.1,1020.3,1020.1,1020.2,1020.6,1020.5,1020.3,1020.5,1020.5,1020.9,1021.0,1021.2,1021.2,1021.4,1021.6,1021.9,1021.9,1021.8,1021.6,1021.5,1021.6,1021.7,1021.7,1021.9,1022.0,1022.1,1022.0,1022.0,1022.0,1021.9,1021.8,1021.5,1021.2,1021.0,1020.7,1020.4,1020.6,1020.8,1021.0,1021.0,1020.8,1020.5,1020.0,1019.6,1019.4,1019.3,1019.3,1019.7,1020.1,1020.2,1020.4,1020.4,1020.4,1020.4,1020.2,1020.2,1020.3,1020.0,1019.9,1019.9,1020.2,1020.6,1021.0,1021.2,1021.2,1021.0,1020.8,1020.5,1020.3,1020.4,1020.9,1021.2,1016.8,1016.6,1016.7,1017.2,1017.3,1017.3,1016.8,1016.4,1016.4,1016.6,1016.7,1016.8,1017.1,1017.3,1017.5,1017.4,1017.5,1017.5,1017.4,1017.4,1017.2,1017.2,1017.2,1017.2,1017.1,1017.2,1017.4,1017.8,1017.7,1017.7,1017.4,1016.9,1016.8,1016.7,1016.8,1017.1,1017.2,1017.3,1017.1,1017.4,1018.0,1018.1,1017.9,1017.7,1017.7,1017.7,1017.7,1017.8,1017.9,1017.9,1018.2,1018.5,1018.6,1018.4,1018.2,1017.9,1017.7,1017.4,1017.5,1017.5,1017.7,1018.1,1018.4,1018.6,1018.8,1019.0,1019.1,1019.0,1018.9,1018.9,1018.7,1018.6,1018.5,1018.7,1019.1,1019.2,1019.5,1019.7,1019.3,1019.1,1018.8,1019.1,1019.5,1019.7,1020.0,1020.3,1020.7,1020.5,1020.6,1020.7,1020.8,1020.7,1020.7,1020.8,1020.9,1020.9,1020.7,1020.9,1021.1,1021.6,1021.7,1021.7,1021.3,1021.2,1020.8,1020.6,1020.5,1020.6,1020.8,1020.9,1021.0,1020.9,1020.8,1020.8,1020.6,1020.2,1020.0,1020.2,1019.8,1019.5,1019.4,1019.6,1019.8,1020.0,1020.3,1020.4,1020.1,1019.9,1019.9,1019.8,1020.3,1020.6,1020.8,1021.2,1021.5,1021.6,1021.6,1021.5,1021.6,1021.5,1021.2,1021.4,1021.0,1021.1,1021.2,1021.2,1021.6,1021.7,1021.7,1021.6,1021.3,1020.9,1020.3,1020.0,1020.0,1019.9,1020.0,1020.4,1020.4,1020.5,1020.4,1020.3,1020.3,1020.2,1020.0,1020.1,1020.0,1019.8,1019.7,1019.9,1020.1,1020.4,1020.6,1019.8,1019.2,1018.8,1018.5,1018.2,1018.3,1018.7,1018.7,1018.6,1018.4,1018.1,1018.1,1017.9,1017.6,1017.4,1017.0,1016.7,1016.5,1016.5,1016.6,1016.8,1016.9,1016.9,1016.5,1016.2,1015.5,1015.3,1015.4,1015.4,1015.5,1015.7,1015.8,1015.9,1015.8,1015.5,1015.2,1015.0,1014.9,1014.5,1014.3,1014.3,1014.2,1014.1,1014.1,1014.0,1013.9,1013.6,1013.3,1013.0,1012.8,1012.6,1012.3,1012.0,1012.1,1012.1,1011.9,1011.8,1011.6,1011.3,1011.1,1010.8,1010.6,1010.4,1010.1,1010.1,1010.1,1010.1,1010.1,1009.9,1009.1,1008.2,1007.4,1006.6,1006.0,1005.7,1005.8,1005.8,1005.8,1006.0,1005.9,1005.8,1005.4,1005.0,1005.0,1005.0,1005.0,1005.0,1005.4,1005.8,1006.2,1006.7,1007.1,1007.5,1007.5,1007.4,1007.4,1007.6,1007.6,1008.2,1008.9,1009.2,1009.4,1009.3,1009.0,1009.0,1009.1,1009.1,1009.1,1009.1,1009.2,1009.2,1009.0,1008.5,1009.0,1009.7,1010.4,1010.5,1010.0,1009.4,1009.6,1010.5,1009.6,1009.8,1010.0,1010.1,1010.3,1010.7,1010.8,1011.2,1011.4,1011.6,1011.8,1012.2,1012.5,1012.7,1012.9,1013.1,1013.3,1013.6,1013.5,1013.4,1012.5,1011.9,1011.0,1010.4,1009.0,1007.6,1006.3,1004.9,1003.6,1001.7,1000.5,999.18,998.25,998.94,998.39,998.51,998.59,998.79,999.14,999.79,1000.5,1001.1,1001.6,1001.7,1001.3,1000.7,1000.3,999.7,999.41,998.72,997.94,996.94,996.35,995.23,994.12,993.93,993.76,993.39,993.51,994.31,995.28,996.26,997.23,998.2,999.25,1000.9,1002.3,1003.6,1004.4,1005.1,1005.7,1006.2,1006.5,1007.0,1007.3,1007.5,1007.6,1007.7,1007.7,1007.6,1007.5,1007.3,1006.9,1006.5,1005.8,1005.1,1005.0,1004.8,1004.5,1004.3,1003.9,1003.1,1002.3,1001.5,1000.7,1000.3,999.93,999.08,998.06,997.71,997.6,997.36,997.51,997.04,996.47,996.01,996.16,996.91,997.95,999.18,1000.4,1001.6,1002.2,1002.9,1003.5,1004.0,1003.8,1003.1,1002.9,1003.2,1003.1,1003.2,1004.0,1004.6,1005.1,1005.4,1006.4,1006.6,1006.7,1006.7,1006.7,1006.5,1006.3,1006.1,1006.0,1005.9,1006.0,1006.4,1006.7,1007.1,1007.5,1008.0,1008.4,1009.1,1010.0,1010.7,1011.4,1012.1,1012.7,1012.8,1013.6,1014.1,1014.4,1014.6,1014.7,1014.8,1014.5,1014.3,1014.3,1014.2,1014.5,1014.7,1014.9,1015.0,1014.4,1014.0,1013.4,1012.9,1012.7,1012.6,1012.1,1011.9,1011.0,1010.4,1009.8,1009.3,1008.6,1008.1,1007.3,1006.4,1005.9,1005.2,1005.3,1005.2,1004.9,1004.4,1003.4,1002.8,1002.2,1001.6,1001.3,1001.6,1001.0,1001.0,1000.8,1000.6,1001.3,1001.7,1001.7,1001.5,1001.5,1001.8,1001.4,1001.0,1001.2,1001.2,1001.4,1001.7,1001.8,1001.7,1001.9,1002.0,1001.9,1002.1,1002.6,1003.1,1003.6,1004.3,1004.9,1005.5,1006.1,1006.7,1007.3,1007.8,1008.3,1008.6,1008.7,1008.8,1009.1,1009.4,1009.7,1009.5,1009.2,1008.1,1007.5,1006.8,1006.0,1005.2,1004.5,1003.6,1002.4,1001.6,1000.9,1002.1,1002.9,1003.0,1003.3,1003.9,1004.5,1005.3,1006.0,1006.8,1007.6,1008.5,1009.3,1010.4,1011.2,1011.5,1011.7,1011.8,1012.1,1012.7,1013.2,1013.6,1014.0,1014.6,1015.2,1015.8,1016.4,1016.7,1017.1,1017.3,1017.6,1017.9,1018.4,1018.9,1019.6,1020.4,1021.2,1022.0,1022.6,1022.9,1023.0,1023.4,1023.8,1024.1,1024.7,1025.1,1025.5,1025.8,1026.3,1026.6,1026.9,1026.8,1026.7,1026.9,1026.7,1026.5,1026.6,1026.8,1027.1,1027.2,1027.4,1027.3,1027.1,1026.8,1026.6,1026.4,1026.3,1026.2,1026.5,1026.7,1026.7,1026.5,1026.6,1026.7,1026.8,1026.5,1026.1,1026.1,1025.8,1025.5,1025.6,1025.8,1025.9,1025.8,1026.0,1025.5,1024.6,1024.3,1023.9,1023.6,1023.5,1023.2,1023.0,1022.9,1022.2,1021.7,1021.5,1021.2,1020.6,1020.1,1017.5,1017.4,1017.4,1017.2,1016.5,1015.9,1015.4,1014.7,1014.3,1014.3,1014.1,1013.8,1013.9,1013.5,1013.1,1012.8,1012.4,1012.0,1011.7,1011.6,1011.1,1010.2,1010.0,1009.6,1009.0,1008.6,1009.2,1008.9,1008.3,1007.9,1007.8,1007.7,1008.0,1008.2,1008.5,1008.8,1009.3,1009.5,1009.6,1009.9,1010.2,1010.1,1010.0,1009.8,1009.4,1009.0,1008.5,1008.4,1008.5,1008.4,1008.3,1008.1,1007.4,1006.5,1005.8,1005.3,1005.1,1004.7,1004.2,1003.6,1003.0,1002.4,1001.7,1001.2,1000.9,1000.0,999.64,999.31,999.03,998.72,998.74,998.82,999.06,999.18,999.47,1000.1,1000.3,1000.2,1000.1,1000.4,1000.7,1001.2,1001.7,1002.2,1002.9,1004.6,1005.3,1006.3,1006.8,1006.9,1008.5,1008.5,1008.9,1009.1,1009.1,1008.9,1008.9,1009.3,1009.7,1010.9,1011.3,1011.8,1012.4,1012.5,1012.7,1012.6,1013.1,1013.5,1013.6,1013.7,1013.7,1013.5,1013.7,1013.9,1013.8,1013.6,1013.1,1012.4,1012.5,1012.7,1012.9,1012.9,1013.1,1013.3,1013.3,1013.4,1013.7,1013.9,1013.8,1013.8,1014.0,1014.2,1014.5,1014.7,1015.1,1015.6,1016.1,1016.0,1015.8,1015.7,1015.8,1016.4,1016.7,1017.0,1017.3,1017.7,1018.0,1018.3,1018.5,1018.5,1018.1,1017.8,1017.7,1017.6,1017.5,1018.3,1018.5,1018.1,1017.5,1017.4,1017.5,1017.8,1017.7,1017.9,1018.4,1018.6,1019.0,1019.1,1019.3,1019.6,1019.6,1019.6,1020.0,1020.1,1019.7,1019.8,1020.1,1020.7,1021.3,1021.7,1022.0,1021.7,1021.1,1021.0,1021.1,1021.3,1021.3,1021.2,1021.4,1021.3,1021.5,1021.5,1021.6,1021.5,1021.4,1021.3,1021.8,1022.1,1022.6,1022.8,1022.5,1021.9,1021.5,1021.1,1020.9,1020.9,1020.8,1021.0,1021.1,1020.8,1020.5,1020.3,1020.1,1019.8,1019.3,1019.4,1019.1,1018.8,1018.9,1018.9,1019.0,1019.2,1019.5,1019.5,1019.4,1018.8,1018.1,1017.7,1017.6,1017.3,1017.1,1017.2,1017.2,1017.0,1016.9,1016.9,1016.9,1016.6,1016.2,1016.2,1015.9,1015.8,1015.8,1015.8,1016.2,1016.6,1016.9,1016.7,1016.2,1015.8,1015.6,1015.4,1015.5,1015.4,1015.3,1015.5,1015.5,1015.3,1015.2,1015.1,1014.9,1014.7,1014.6,1014.4,1013.9,1013.9,1013.9,1014.0,1014.2,1014.4,1014.4,1013.9,1013.2,1012.8,1012.4,1012.4,1012.4,1012.6,1012.8,1012.9,1013.2,1013.6,1013.8,1014.0,1014.1,1014.4,1014.6,1014.9,1015.4,1016.2,1017.1,1018.1,1018.8,1019.1,1019.0,1019.0,1019.1,1019.8,1020.3,1020.7,1021.3,1022.0,1022.3,1022.6,1022.8,1023.3,1023.4,1023.2,1023.4,1023.6,1023.2,1022.8,1022.7,1023.1,1023.3,1023.5,1023.8,1023.4,1022.7,1022.1,1021.9,1021.8,1021.7,1021.8,1022.1,1022.2,1022.0,1022.0,1021.8,1018.7,1018.3,1018.4,1018.3,1017.8,1017.7,1018.0,1018.2,1018.5,1018.5,1018.4,1017.9,1017.2,1016.5,1016.3,1016.2,1015.9,1015.8,1015.7,1014.3,1013.9,1013.6,1013.4,1013.1,1012.8,1012.7,1012.5,1012.5,1012.8,1013.0,1013.2,1013.1,1012.6,1011.9,1011.7,1011.5,1011.7,1011.8,1011.8,1011.7,1011.6,1011.4,1011.2,1010.9,1010.5,1010.1,1009.9,1009.4,1009.2,1008.9,1008.7,1008.7,1008.5,1008.5,1008.1,1007.8,1007.5,1007.4,1007.7,1008.1,1008.5,1009.6,1010.1,1010.6,1011.2,1011.9,1012.3,1012.8,1013.5,1014.1,1014.5,1014.7,1015.1,1015.7,1016.3,1016.7,1017.2,1017.5,1017.6,1018.2,1019.8,1019.9,1020.1,1020.3,1020.4,1020.5,1020.5,1020.7,1020.6,1020.3,1020.2,1020.4,1020.7,1020.7,1021.1,1021.2,1020.9,1020.4,1020.0,1020.2,1020.4,1020.7,1021.5,1021.5,1021.8,1022.1,1022.2,1022.5,1022.1,1021.9,1021.6,1021.7,1022.0,1022.8,1023.0,1022.8,1022.6,1022.2,1022.0,1022.2,1022.7,1023.1,1023.5,1023.6,1023.7,1023.8,1024.1,1024.3,1024.7,1025.1,1025.2,1025.1,1025.3,1025.7,1026.0,1026.3,1026.6,1026.7,1026.4,1026.0,1025.7,1025.6,1025.6,1025.8,1025.8,1026.0,1026.2,1025.5,1025.4,1025.2,1025.0,1025.0,1024.8,1024.8,1024.7,1025.2,1025.2,1024.6,1024.0,1023.5,1023.4,1023.2,1023.5,1023.5,1022.1,1021.8,1021.8,1021.6,1021.3,1021.1,1020.9,1021.1,1021.5,1021.8,1021.9,1021.3,1020.8,1020.6,1020.6,1020.6,1020.7,1021.1,1021.3,1021.5,1021.3,1021.1,1021.3,1021.3,1021.3,1021.4,1021.4,1021.6,1022.0,1022.4,1023.0,1022.7,1022.2,1022.3,1022.3,1022.4,1022.4,1022.6,1022.5,1022.3,1022.3,1021.7,1021.4,1021.4,1021.0,1020.7,1020.5,1020.4,1020.5,1020.5,1020.4,1020.1,1019.5,1018.8,1018.1,1017.8,1017.7,1017.7,1017.8,1017.5,1017.3,1016.5,1016.2,1016.2,1015.9,1015.7,1015.6,1015.7,1015.8,1015.7,1015.5,1015.0,1014.6,1014.6,1014.7,1014.8,1015.1,1015.3,1015.3,1015.2,1015.2,1015.1,1015.0,1014.8,1014.9,1014.8,1014.5,1014.5,1014.7,1015.2,1015.6,1015.6,1015.6,1014.9,1014.1,1013.5,1013.1,1012.9,1013.1,1013.2,1013.6,1013.6,1013.6,1013.4,1013.1,1013.2,1013.0,1012.8,1012.6,1012.3,1012.3,1012.3,1012.7,1013.1,1013.6,1013.9,1013.6,1013.5,1013.6,1013.9,1013.8,1015.1,1015.1,1015.2,1015.4,1015.2,1015.4,1015.8,1016.3,1016.4,1016.2,1015.8,1015.3,1014.8,1014.6,1014.5,1014.4,1014.3,1014.4,1014.1,1014.2,1013.7,1013.5,1013.6,1013.5,1013.4,1013.5,1013.9,1014.7,1015.4,1015.9,1016.3,1016.6,1016.9,1017.3,1018.1,1019.1,1019.8,1020.7,1021.5,1022.2,1022.9,1023.4,1023.9,1024.3,1024.4,1024.5,1024.6,1024.8,1025.0,1024.9,1025.2,1025.7,1025.9,1026.0,1026.2,1026.0,1025.7,1025.5,1025.5,1025.5,1025.5,1025.7,1025.7,1025.6,1025.3,1025.2,1025.1,1025.0,1024.7,1024.4,1024.3,1023.9,1023.7,1023.5,1023.5,1023.5,1023.6,1023.5,1023.2,1022.7,1022.2,1021.7,1021.5,1021.4,1020.2,1019.7,1019.1,1018.5,1018.1,1017.8,1017.5,1017.6,1017.8,1017.0,1016.7,1016.6,1016.4,1015.9,1015.5,1015.3,1015.5,1015.6,1015.7,1015.8,1015.9,1015.5,1015.0,1014.5,1014.5,1014.6,1014.8,1014.8,1015.0,1016.0,1016.1,1016.1,1016.3,1016.0,1015.7,1015.8,1016.1,1016.5,1016.6,1016.9,1016.8,1016.7,1016.2,1015.8,1015.6,1015.5,1015.5,1015.5,1015.7,1015.7,1015.5,1015.3,1015.4,1015.3,1015.2,1015.1,1015.1,1015.0,1014.4,1014.3,1014.5,1014.7,1014.7,1014.7,1014.6,1014.2,1013.7,1013.2,1013.3,1013.4,1013.3,1013.1,1013.1,1013.2,1013.0,1012.9,1012.8,1012.7,1012.2,1011.7,1011.8,1011.4,1010.6,1010.1,1009.9,1009.6,1009.3,1009.1,1009.7,1009.2,1009.0,1008.8,1009.0,1009.0,1009.3,1009.6,1010.2,1010.5,1011.1,1010.8,1010.4,1011.5,1010.8,1010.7,1010.8,1010.7,1010.8,1011.1,1011.7,1011.8,1012.2,1012.1,1011.9,1011.7,1011.5,1011.8,1011.8,1011.8,1011.9,1011.5,1010.8,1009.8,1009.1,1008.7,1008.1,1008.0,1008.2,1008.1,1008.2,1008.3,1008.4,1008.2,1008.3,1008.6,1008.7,1008.8,1008.3,1007.8,1007.8,1007.5,1007.4,1007.6,1008.1,1008.5,1008.8,1009.3,1009.6,1009.7,1009.9,1010.2,1010.8,1011.1,1011.4,1011.5,1011.9,1012.3,1012.6,1012.9,1013.0,1012.7,1012.2,1011.4,1011.2,1011.3,1011.5,1011.5,1011.7,1011.9,1012.0,1012.3,1012.6,1012.8,1012.8,1013.1,1013.5,1013.8,1014.1,1014.4,1014.9,1015.4,1016.1,1016.5,1016.8,1016.5,1015.8,1015.6,1015.8,1016.3,1016.3,1016.5,1016.9,1016.9,1016.9,1017.0,1017.1,1017.4,1017.2,1017.0,1016.9,1016.7,1016.3,1015.9,1015.9,1016.3,1016.5,1016.5,1016.7,1015.5,1014.9,1014.6,1014.4,1014.0,1013.6,1013.6,1014.0,1014.0,1014.0,1014.1,1013.8,1013.6,1013.6,1013.7,1013.6,1013.5,1013.6,1013.7,1014.1,1014.4,1015.1,1015.3,1015.3,1015.2,1015.1,1015.0,1015.1,1015.6,1015.7,1015.9,1016.4,1016.6,1016.8,1017.1,1017.0,1016.0,1016.3,1016.7,1017.1,1017.0,1016.8,1016.6,1016.1,1015.7,1015.5,1015.3,1015.1,1015.3,1015.5,1015.8,1016.0,1016.1,1016.2,1016.2,1016.3,1016.2,1016.2,1016.2,1016.3,1016.5,1016.9,1017.4,1018.0,1018.4,1018.9,1018.8,1018.6,1018.5,1018.5,1018.5,1019.7,1020.4,1021.0,1021.4,1021.5,1021.5,1021.4,1021.2,1021.0,1021.0,1020.8,1021.2,1021.6,1021.9,1022.3,1022.2,1022.3,1022.0,1021.5,1020.9,1020.5,1021.1,1021.4,1021.5,1021.8,1021.6,1021.4,1021.5,1021.6,1021.5,1021.2,1020.8,1020.6,1020.6,1020.7,1020.7,1021.1,1021.0,1020.7,1020.3,1019.8,1019.6,1019.5,1019.3,1019.0,1018.9,1019.4,1019.6,1019.7,1019.5,1019.3,1019.1,1018.8,1018.9,1019.2,1019.1,1018.8,1018.7,1019.0,1018.7,1018.6,1018.6,1018.7,1018.4,1018.0,1018.0,1017.4,1017.2,1017.5,1017.7,1017.8,1017.9,1018.1,1018.3,1018.5,1018.7,1018.5,1018.5,1018.5,1018.1,1017.9,1018.1,1018.5,1019.4,1020.2,1020.6,1020.7,1020.6,1020.6,1020.7,1020.8,1020.9,1022.2,1022.7,1023.4,1023.6,1023.7,1023.7,1023.3,1023.4,1023.2,1022.6,1022.7,1022.8,1022.9,1023.2,1023.0,1023.2,1022.8,1022.2,1021.6,1020.9,1020.8,1020.8,1020.5,1021.0,1021.1,1021.4,1021.1,1020.8,1020.6,1020.7,1020.4,1019.9,1019.6,1019.8,1019.7,1019.9,1020.2,1020.2,1020.1,1020.0,1019.7,1019.0,1018.3,1017.8,1017.6,1017.3,1017.4,1018.0,1018.2,1018.3,1018.5,1018.5,1018.4,1018.6,1018.6,1018.6,1018.7,1019.1,1019.6,1019.9,1020.3,1020.7,1020.7,1020.9,1020.6,1020.1,1019.6,1019.2,1019.0,1019.0,1019.0,1019.3,1019.6,1019.7,1019.4,1019.3,1019.2,1019.2,1019.1,1019.1,1018.9,1018.8,1019.0,1019.0,1019.0,1019.1,1018.7,1017.8,1017.2,1016.7,1016.2,1015.8,1015.3,1015.1,1015.0,1014.6,1013.9,1013.7,1013.2,1012.7,1012.4,1012.2,1012.2,1012.6,1013.1,1014.2,1014.9,1015.1,1015.4,1015.4,1015.2,1015.2,1015.0,1015.1,1015.2,1015.3,1015.8,1016.0,1016.0,1016.0,1016.3,1016.2,1016.3,1016.3,1016.3,1016.3,1016.5,1016.5,1016.6,1017.0,1017.5,1017.8,1018.3,1018.4,1018.1,1017.9,1017.8,1017.9,1020.8,1021.0,1020.9,1021.0,1021.1,1021.0,1020.8,1020.5,1020.6,1020.6,1020.6,1020.4,1020.1,1019.4,1018.6,1017.9,1017.1,1016.3,1015.7,1015.3,1015.0,1014.5,1013.9,1012.7,1012.1,1011.8,1011.5,1011.0,1010.3,1009.4,1009.1,1009.0,1008.6,1008.2,1007.2,1006.6,1005.8,1005.7,1005.7,1006.1,1006.6,1007.6,1008.6,1009.7,1010.8,1012.3,1013.2,1013.7,1014.4,1014.9,1015.3,1016.5,1016.9,1016.9,1016.9,1016.8,1016.3,1015.7,1015.3,1015.1,1015.0,1014.9,1015.2,1015.1,1014.8,1014.8,1014.4,1014.0,1013.5,1013.4,1012.9,1012.4,1012.0,1011.7,1011.6,1011.5,1010.9,1010.8,1010.5,1009.6,1008.8,1008.2,1008.0,1008.1,1008.0,1008.5,1008.7,1008.9,1008.6,1008.4,1007.8,1007.7,1007.8,1008.1,1008.6,1009.0,1009.0,1009.0,1009.4,1009.2,1009.0,1009.0,1009.3,1009.7,1010.4,1010.7,1011.0,1011.0,1011.7,1012.1,1012.0,1012.2,1012.4,1012.4,1012.7,1013.0,1013.3,1013.9,1014.6,1015.0,1015.2,1015.1,1015.4,1015.2,1015.1,1015.3,1015.3,1015.6,1016.0,1016.5,1016.5,1016.4,1016.2,1016.0,1016.0,1015.8,1015.9,1015.8,1015.5,1015.4,1015.1,1014.7,1014.9,1015.0,1014.8,1015.0,1015.1,1014.9,1014.4,1013.8,1013.4,1013.1,1013.2,1013.1,1013.5,1013.3,1013.7,1013.7,1013.6,1013.5,1013.3,1013.1,1012.7,1012.7,1012.7,1012.5,1012.3,1012.1,1011.9,1010.2,1009.3,1008.7,1008.0,1007.2,1006.7,1005.0,1004.3,1003.3,1002.0,1000.9,999.94,999.29,998.45,997.85,997.85,998.5,998.1,998.01,997.43,997.47,997.41,997.57,998.44,999.11,999.52,1000.3,1000.8,1002.4,1002.8,1003.1,1003.7,1004.4,1005.0,1005.7,1006.7,1007.3,1008.1,1008.7,1009.1,1009.6,1010.1,1010.7,1011.3,1011.9,1012.7,1013.2,1013.3,1013.7,1013.8,1013.8,1013.7,1013.7,1013.6,1013.6,1013.8,1013.8,1013.9,1014.3,1014.6,1014.4,1014.1,1013.8,1013.4,1013.1,1013.0,1012.7,1012.6,1012.8,1013.0,1012.8,1012.6,1012.4,1011.9,1011.7,1011.5,1010.9,1010.6,1009.9,1009.5,1009.0,1008.5,1008.2,1007.8,1007.2,1006.8,1006.5,1005.9,1005.7,1005.3,1005.1,1005.5,1005.9,1006.3,1006.7,1006.9,1007.1,1007.3,1007.6,1007.6,1007.5,1007.8,1007.7,1007.6,1007.5,1007.5,1008.0,1008.1,1008.6,1009.2,1009.8,1010.3,1010.7,1011.1,1011.4,1011.6,1011.7,1012.0,1011.9,1012.4,1012.8,1013.2,1013.5,1013.2,1013.2,1013.2,1013.3,1013.6,1013.6,1013.7,1012.7,1012.7,1012.5,1012.3,1011.9,1011.9,1012.2,1012.7,1012.5,1011.0,1011.1,1013.9,1014.5,1014.9,1015.3,1015.5,1015.8,1016.3,1016.5,1016.6,1016.9,1017.1,1017.0,1017.0,1017.5,1017.4,1016.6,1016.8,1016.9,1017.2,1017.5,1017.7,1017.8,1018.0,1017.7,1017.4,1017.0,1016.6,1016.3,1015.9,1015.8,1016.3,1016.6,1016.5,1016.4,1016.2,1015.8,1015.4,1015.2,1015.4,1015.6,1015.8,1015.9,1016.4,1016.4,1016.7,1016.6,1016.8,1018.4,1019.1,1019.2,1020.4,1020.3,1020.1,1020.4,1020.6,1021.0,1021.5,1021.8,1022.3,1022.7,1023.1,1023.2,1023.2,1023.2,1023.5,1023.5,1023.4,1023.5,1023.9,1024.4,1024.7,1024.9,1025.1,1025.5,1025.6,1025.4,1025.4,1025.5,1025.8,1026.3,1026.2,1026.7,1027.0,1027.2,1027.1,1027.1,1027.4,1027.6,1027.6,1027.5,1027.5,1027.6,1027.8,1028.1,1028.5,1028.9,1029.0,1029.4,1029.7,1029.4,1028.7,1028.3,1028.2,1028.9,1029.3,1029.5,1029.7,1029.5,1029.3,1029.2,1028.9,1029.0,1029.0,1028.5,1028.2,1028.1,1028.2,1028.2,1028.2,1028.0,1028.0,1028.1,1027.5,1026.7,1026.2,1026.2,1026.5,1026.6,1026.4,1026.8,1026.9,1026.7,1026.9,1026.9,1027.1,1027.1,1026.9,1027.3,1027.7,1027.9,1028.1,1028.4,1028.5,1028.3,1028.1,1027.9,1027.7,1027.6,1027.0,1016.1,1016.1,1016.5,1016.7,1016.7,1016.9,1017.1,1016.9,1016.7,1016.7,1016.7,1016.8,1017.0,1017.6,1018.0,1018.0,1017.5,1017.5,1017.6,1017.8,1017.9,1017.9,1017.9,1017.7,1017.5,1017.5,1017.5,1017.6,1017.8,1018.0,1018.4,1018.9,1019.3,1019.7,1019.9,1019.9,1019.7,1019.2,1019.7,1020.1,1020.6,1021.0,1021.0,1021.1,1021.5,1021.6,1021.5,1021.4,1021.5,1022.0,1022.4,1023.1,1023.6,1023.9,1024.0,1024.2,1024.2,1023.7,1023.4,1023.2,1023.1,1023.1,1023.4,1023.6,1024.1,1024.4,1024.6,1024.6,1024.4,1024.0,1023.5,1023.4,1023.6,1024.0,1024.3,1024.7,1024.9,1024.7,1024.7,1024.4,1024.0,1023.6,1023.6,1023.4,1023.2,1023.4,1023.4,1023.2,1023.3,1023.0,1022.9,1022.7,1022.8,1022.7,1022.7,1022.9,1023.0,1023.3,1023.6,1023.9,1024.1,1023.9,1023.8,1023.5,1023.0,1022.6,1022.3,1022.2,1022.2,1022.5,1022.6,1022.4,1022.4,1022.3,1021.8,1022.0,1022.1,1022.1,1021.9,1022.1,1022.2,1022.4,1022.8,1023.2,1023.1,1022.9,1022.6,1022.4,1021.7,1021.2,1020.5,1020.2,1020.2,1020.4,1020.8,1021.1,1021.4,1021.6,1021.5,1021.6,1021.4,1020.9,1020.7,1021.0,1020.9,1020.8,1021.0,1021.3,1021.4,1020.6,1020.2,1019.7,1018.9,1018.4,1018.1,1018.0,1017.9,1018.1,1018.3,1018.4,1018.5,1018.5,1018.5,1018.2,1017.8,1017.3,1016.6,1016.2,1016.1,1016.2,1016.0,1016.4,1016.5,1016.6,1016.5,1016.0,1015.2,1014.9,1014.6,1014.4,1014.3,1014.6,1014.7,1014.4,1014.0,1014.2,1014.3,1014.2,1014.1,1013.7,1013.4,1013.2,1012.8,1013.2,1013.0,1013.1,1013.4,1013.0,1012.8,1012.4,1011.8,1011.2,1011.0,1010.9,1010.8,1010.6,1010.8,1010.8,1010.8,1011.1,1011.2,1011.2,1011.2,1011.2,1011.2,1011.0,1011.3,1011.8,1012.3,1012.7,1013.2,1013.5,1013.6,1013.7,1013.6,1013.6,1013.5,1013.4,1013.8,1014.0,1014.5,1015.0,1015.3,1015.4,1015.6,1015.3,1015.3,1015.3,1015.3,1015.5,1015.5,1015.7,1016.0,1016.4,1016.5,1016.4,1016.4,1016.3,1016.3,1016.3,1016.3,1016.4,1016.7,1017.0,1017.4,1017.9,1018.2,1018.3,1018.5,1018.8,1018.9,1018.8,1018.9,1019.0,1019.7,1020.1,1020.5,1020.9,1021.1,1021.4,1021.7,1022.1,1022.0,1022.1,1022.6,1023.2,1023.6,1024.2,1025.1,1025.5,1025.6,1025.7,1025.7,1025.7,1025.6,1025.4,1025.5,1025.8,1026.1,1026.4,1026.7,1027.0,1027.6,1027.8,1027.9,1027.9,1027.7,1027.4,1027.1,1027.1,1026.9,1027.1,1027.3,1027.4,1027.3,1027.1,1026.7,1026.4,1026.2,1025.9,1025.5,1025.3,1025.2,1025.2,1025.2,1025.4,1025.2,1024.9,1024.4,1023.8,1023.3,1022.5,1021.9,1021.4,1021.2,1021.5,1021.9,1022.1,1022.6,1022.7,1022.5,1022.1,1021.9,1021.7,1021.5,1021.3,1021.6,1021.9,1022.1,1022.4,1022.5,1022.6,1022.4,1022.0,1021.7,1021.4,1021.2,1021.0,1020.7,1020.7,1020.9,1021.1,1021.2,1021.2,1021.3,1021.2,1020.9,1020.7,1020.7,1020.7,1020.8,1021.4,1021.8,1022.3,1022.6,1022.4,1022.0,1021.7,1021.0,1020.2,1019.7,1019.1,1018.5,1018.0,1017.8,1017.8,1017.6,1017.2,1016.7,1016.1,1015.9,1014.8,1015.1,1015.1,1015.0,1014.9,1014.4,1014.0,1013.4,1012.6,1011.9,1011.6,1011.7,1012.1,1012.5,1012.9,1012.6,1013.0,1013.2,1013.3,1013.4,1013.3,1013.5,1013.7,1013.7,1013.8,1013.8,1014.2,1014.3,1014.3,1014.1,1013.6,1013.1,1013.4,1013.6,1014.0,1014.3,1015.4,1016.1,1016.6,1016.8,1016.9,1016.9,1016.9,1016.9,1016.8,1016.8,1016.9,1017.1,1017.5,1017.8,1018.0,1018.2,1018.1,1017.7,1017.3,1016.4,1015.6,1015.1,1014.8,1014.5,1014.5,1014.9,1015.3,1015.2,1014.9,1014.8,1014.7,1014.5,1014.1,1013.6,1013.6,1013.6,1013.7,1013.8,1014.0,1014.0,1013.9,1013.7,1013.5,1013.2,1012.7,1012.2,1011.8,1012.0,1012.6,1012.8,1012.8,1013.0,1013.2,1012.9,1012.8,1012.6,1012.8,1012.4,1012.3,1012.6,1013.1,1013.6,1014.2,1014.6,1014.8,1014.8,1014.7,1014.3,1013.9,1013.8,1014.1,1014.5,1014.9,1015.5,1016.1,1016.4,1016.7,1016.8,1016.5,1016.4,1016.3,1016.4,1016.7,1017.3,1017.6,1018.1,1018.5,1018.9,1019.1,1018.9,1018.5,1018.0,1017.5,1017.8,1018.0,1018.6,1019.2,1019.8,1020.2,1020.6,1020.3,1019.9,1019.6,1019.5,1019.1,1018.9,1018.9,1019.5,1019.8,1020.2,1020.4,1020.7,1020.5,1019.7,1019.0,1018.3,1017.9,1017.2,1017.0,1016.8,1016.6,1016.6,1016.8,1016.9,1016.8,1016.2,1015.6,1014.0,1013.4,1012.8,1012.6,1012.2,1012.1,1011.8,1011.0,1010.6,1010.2,1010.3,1010.8,1010.4,1009.6,1009.0,1008.8,1009.2,1009.6,1009.7,1009.8,1009.7,1009.4,1008.9,1008.5,1007.8,1007.5,1007.1,1007.0,1006.9,1007.1,1007.3,1007.5,1007.8,1008.2,1008.4,1008.5,1008.7,1008.8,1009.0,1009.4,1009.8,1010.2,1010.9,1011.3,1011.3,1011.3,1011.3,1011.0,1011.0,1011.2,1011.2,1011.2,1011.4,1011.9,1012.4,1012.5,1012.9,1013.2,1013.3,1013.4,1013.1,1012.8,1012.7,1012.6,1012.7,1013.1,1013.6,1013.8,1013.9,1013.7,1013.7,1013.7,1013.3,1013.0,1013.1,1013.1,1013.4,1013.8,1014.2,1014.5,1014.8,1014.8,1014.8,1014.5,1014.4,1014.4,1014.4,1014.6,1014.7,1014.7,1014.9,1015.2,1015.4,1015.6,1015.6,1015.7,1015.7,1015.8,1015.6,1015.7,1016.1,1016.3,1016.7,1016.9,1017.0,1017.1,1017.0,1016.8,1016.1,1016.5,1016.7,1017.3,1017.6,1017.5,1017.5,1017.6,1017.6,1017.4,1017.2,1017.0,1016.8,1016.5,1016.7,1017.1,1017.4,1017.3,1017.0,1016.6,1016.0,1015.4,1014.7,1014.1,1013.6,1012.7,1012.3,1012.1,1011.8,1011.4,1011.0,1010.4,1009.5,1008.8,1008.3,1007.3,1006.9,1006.9,1006.0,1005.7,1005.4,1004.9,1004.1,1003.5,1002.6,1002.1,1002.1,1003.0,1005.1,1006.1,1008.1,1008.6,1008.8,1008.4,1007.8,1007.2,1006.4,1005.4,1004.4,1003.7,1003.3,1003.2,1003.2,1003.2,1002.8,1002.3,1001.4,1000.9,1000.6,1000.4,1000.6,1002.9,1003.1,1005.5,1005.7,1005.8,1005.9,1005.5,1005.1,1005.2,1005.4,1005.8,1006.3,1006.9,1007.6,1008.5,1008.5,1008.1,1007.9,1007.7,1008.0,1008.4,1008.7,1009.0,1008.9,1008.7,1008.8,1008.6,1007.9,1007.3,1007.1,1007.2,1007.5,1007.8,1008.5,1009.2,1009.8,1010.2,1010.5,1010.7,1010.8,1011.0,1011.3,1011.8,1012.3,1013.0,1013.7,1013.5,1013.4,1013.4,1013.2,1008.1,1008.0,1007.6,1007.0,1006.2,1005.7,1005.4,1005.0,1004.9,1004.7,1004.1,1003.8,1003.7,1003.4,999.36,998.32,997.39,998.94,1000.6,1000.9,1001.6,1002.4,1003.3,1003.9,1004.5,1006.0,1006.8,1008.0,1008.5,1008.4,1008.3,1008.1,1008.2,1007.7,1008.1,1008.2,1008.5,1008.8,1008.9,1009.2,1009.5,1009.5,1009.4,1009.3,1009.6,1010.0,1010.4,1011.1,1011.7,1010.6,1010.4,1009.6,1009.3,1009.5,1009.3,1008.7,1008.3,1008.6,1009.3,1010.0,1010.6,1010.9,1010.7,1010.6,1010.6,1010.2,1009.5,1008.9,1008.5,1008.0,1007.8,1007.8,1008.1,1007.9,1008.1,1007.9,1007.5,1007.2,1007.2,1006.9,1006.3,1006.6,1006.9,1006.9,1007.3,1007.7,1007.8,1008.0,1007.8,1007.6,1007.5,1007.5,1007.5,1007.7,1008.0,1008.1,1008.5,1008.9,1009.7,1010.3,1010.8,1011.4,1012.0,1012.8,1013.6,1014.1,1015.0,1016.1,1016.7,1017.1,1017.3,1017.4,1017.7,1017.8,1017.6,1017.8,1018.2,1018.5,1018.9,1019.3,1019.8,1020.2,1020.5,1020.5,1020.3,1020.2,1019.9,1019.6,1019.3,1019.2,1019.1,1019.2,1019.1,1019.1,1018.8,1018.6,1018.2,1017.8,1017.6,1016.3,1016.7,1016.7,1016.5,1016.5,1016.4,1016.1,1015.8,1015.5,1015.3,1015.1,1015.2,1015.2,1015.3,1015.6,1015.9,1015.7,1015.6,1015.6,1015.7,1015.9,1015.9,1016.0,1016.2,1016.3,1016.3,1016.2,1015.9,1015.8,1016.1,1016.3,1016.5,1017.0,1017.4,1017.2,1017.5,1017.6,1017.8,1017.6,1017.5,1017.4,1017.2,1016.9,1017.2,1017.6,1018.0,1018.0,1017.9,1017.9,1017.8,1018.0,1018.2,1018.4,1018.3,1018.2,1017.9,1017.5,1017.0,1017.0,1016.8,1016.6,1016.7,1016.7,1016.7,1016.1,1015.8,1015.0,1015.1,1014.8,1014.4,1014.0,1013.4,1012.9,1012.6,1012.2,1012.0,1011.8,1012.0,1012.1,1012.5,1012.4,1011.9,1011.3,1011.4,1011.3,1011.6,1011.7,1011.4,1011.2,1010.6,1010.3,1009.9,1009.9,1010.0,1009.8,1009.6,1009.7,1010.1,1009.9,1009.5,1009.2,1007.5,1007.6,1007.6,1007.7,1007.9,1007.7,1007.4,1007.0,1006.4,1006.2,1006.4,1006.6,1006.9,1007.3,1007.6,1007.3,1007.1,1006.9,1005.8,1005.9,1006.1,1006.2,1006.1,1005.8,1005.4,1005.3,1005.1,1004.8,1004.7,1004.5,1004.6,1005.0,1005.4,1005.5,1005.5,1005.4,1005.7,1006.2,1006.4,1006.6,1006.7,1006.9,1006.8,1006.5,1006.3,1006.3,1006.5,1006.5,1006.5,1006.9,1007.3,1007.6,1007.5,1007.5,1007.4,1007.1,1006.9,1006.6,1006.5,1006.8,1006.9,1007.1,1007.3,1007.1,1006.7,1006.5,1006.1,1005.5,1004.7,1004.4,1004.1,1004.1,1004.4,1004.6,1004.7,1004.6,1004.3,1004.3,1004.1,1004.0,1003.9,1003.8,1003.9,1004.2,1004.4,1004.8,1005.1,1005.3,1005.1,1004.8,1004.9,1004.7,1004.7,1005.0,1005.2,1005.4,1006.0,1006.9,1007.3,1007.4,1007.4,1006.9,1007.1,1007.3,1007.1,1006.8,1006.6,1006.9,1006.7,1006.5,1006.6,1006.2,1005.2,1005.0,1004.5,1003.8,1003.1,1003.0,1002.8,1002.3,1002.2,1002.1,1001.4,1000.9,1001.0,1000.8,1000.5,1000.4,1000.1,999.86,1000.1,1000.4,1000.7,1001.0,1001.2,1001.5,1001.5,1001.2,1001.5,1001.5,1002.3,1003.0,1003.3,1004.1,1004.6,1005.4,1006.0,1006.4,1006.9,1007.3,1007.5,1007.6,1007.8,1008.0,1008.8,1009.6,1010.2,1010.7,1011.1,1011.7,1011.9,1012.4,1012.8,1013.0,1013.3,1013.7,1014.0,1014.2,1014.7,1015.2,1015.6,1015.8,1016.3,1016.7,1016.6,1016.8,1017.2,1017.9,1018.7,1019.4,1020.1,1020.6,1021.0,1021.3,1021.5,1021.7,1021.8,1021.8,1021.9,1021.9,1022.1,1022.4,1022.8,1023.1,1023.4,1023.3,1023.4,1023.2,1022.2,1021.9,1021.9,1021.7,1021.3,1020.6,1019.8,1019.0,1018.2,1017.4,1016.7,1016.0,1015.4,1015.0,1015.0,1014.8,1014.4,1013.6,1013.6,1013.9,1014.2,1014.3,1014.6,1014.4,1014.5,1014.6,1015.0,1015.3,1015.9,1016.4,1016.5,1016.7,1016.6,1016.3,1016.2,1016.0,1016.1,1016.4,1016.8,1017.2,1017.3,1017.6,1017.7,1017.5,1017.4,1017.3,1017.1,1016.9,1016.9,1017.0,1017.3,1017.5,1017.7,1017.6,1017.2,1016.8,1016.6,1016.4,1016.4,1016.2,1016.0,1016.1,1016.4,1016.5,1016.4,1016.6,1016.8,1016.5,1016.3,1015.8,1015.2,1014.9,1014.7,1014.5,1014.4,1014.4,1014.6,1014.8,1014.8,1014.3,1013.8,1013.2,1012.6,1012.3,1012.1,1011.9,1012.2,1012.2,1012.1,1011.9,1011.7,1011.3,1010.8,1010.2,1009.8,1010.0,1010.1,1009.8,1009.9,1009.9,1010.0,1009.9,1009.4,1009.0,1008.8,1008.7,1008.4,1008.0,1007.9,1008.3,1008.5,1008.6,1008.7,1008.7,1009.0,1009.0,1009.0,1009.0,1008.9,1009.1,1009.4,1009.8,1010.1,1010.5,1010.7,1010.9,1010.8,1010.8,1010.6,1010.6,1010.6,1010.5,1010.6,1010.9,1011.5,1012.0,1012.3,1012.6,1012.9,1013.0,1013.2,1013.1,1013.0,1013.0,1012.9,1012.9,1013.0,1013.4,1013.8,1014.1,1014.0,1014.0,1013.7,1013.5,1013.3,1013.2,1013.1,1013.2,1013.3,1013.8,1013.9,1014.0,1014.1,1014.2,1014.0,1013.7,1013.6,1013.3,1013.1,1013.1,1013.0,1013.1,1013.7,1014.1,1013.9,1014.1,1014.2,1014.0,1013.6,1013.4,1013.3,1013.5,1013.8,1014.0,1014.4,1014.5,1014.7,1014.5,1014.2,1013.7,1013.2,1012.7,1012.5,1012.4,1012.2,1012.3,1012.6,1012.8,1012.7,1012.6,1012.5,1012.4,1012.0,1011.8,1011.8,1012.1,1012.3,1012.5,1013.0,1013.3,1013.4,1013.4,1013.1,1012.8,1012.4,1011.9,1011.5,1011.3,1011.4,1011.8,1012.3,1012.6,1012.5,1012.6,1012.7,1012.6,1012.6,1012.6,1012.7,1013.1,1013.5,1013.8,1014.0,1014.1,1014.1,1014.2,1013.9,1013.6,1013.2,1012.8,1012.7,1013.2,1013.5,1014.4,1014.8,1015.1,1015.5,1016.3,1015.2,1014.8,1014.7,1014.2,1014.4,1014.9,1014.7,1014.4,1015.0,1015.2,1015.1,1014.9,1014.6,1014.4,1014.1,1013.9,1013.9,1014.3,1014.7,1014.3,1013.8,1014.0,1014.8,1014.5,1013.6,1013.0,1012.7,1013.1,1013.0,1013.2,1013.3,1013.5,1013.5,1013.5,1014.0,1013.9,1013.7,1012.6,1012.1,1012.3,1012.4,1012.5,1012.4,1012.8,1013.4,1013.8,1013.4,1013.0,1012.9,1012.8,1012.7,1013.0,1013.2,1013.7,1014.1,1014.2,1014.4,1014.5,1014.3,1014.1,1014.0,1013.7,1013.2,1012.8,1012.6,1012.7,1013.1,1013.4,1013.6,1013.9,1013.7,1013.7,1013.6,1013.6,1013.4,1013.2,1013.4,1013.9,1014.3,1014.5,1014.5,1014.6,1015.0,1015.2,1015.1,1015.0,1014.8,1014.7,1014.5,1014.3,1014.3,1014.4,1014.8,1015.1,1014.9,1014.7,1014.4,1014.2,1014.1,1014.1,1014.1,1014.6,1015.0,1015.1,1015.1,1015.4,1015.7,1015.9,1015.9,1015.8,1015.7,1015.2,1015.0,1014.9,1015.1,1015.1,1015.2,1015.7,1016.0,1016.1,1016.1,1016.0,1015.8,1015.6,1015.7,1016.2,1016.5,1016.7,1016.8,1017.0,1017.5,1017.6,1017.2,1017.0,1016.6,1016.2,1016.0,1015.6,1015.7,1016.1,1016.4,1016.6,1016.7,1016.8,1016.5,1016.1,1015.9,1015.9,1016.0,1016.4,1016.7,1016.8,1017.0,1017.1,1017.1,1016.8,1016.4,1016.2,1016.0,1015.5,1014.9,1014.6,1014.6,1014.6,1015.0,1015.4,1015.0,1014.8,1014.5,1014.2,1013.8,1013.5,1013.4,1013.8,1014.2,1014.4,1014.6,1014.6,1014.8,1014.7,1014.4,1014.1,1013.9,1013.6,1013.5,1013.1,1013.3,1013.5,1013.8,1014.1,1014.3,1014.2,1014.0,1013.8,1013.8,1013.6,1013.9,1014.3,1014.6,1015.0,1015.2,1015.3,1015.5,1015.5,1015.3,1015.0,1014.5,1014.2,1014.5,1014.5,1014.3,1014.7,1014.9,1015.0,1015.0,1015.1,1014.8,1014.9,1014.9,1014.8,1014.7,1014.9,1015.2,1015.2,1015.1,1014.9,1014.7,1014.4,1013.9,1013.6,1012.9,1012.3,1012.5,1012.3,1011.8,1011.8,1011.7,1011.8,1011.7,1011.3,1010.8,1010.5,1010.1,1009.8,1010.0,1010.2,1010.8,1011.1,1011.1,1010.9,1010.9,1010.5,1010.1,1009.7,1009.2,1008.8,1008.6,1008.6,1009.0,1009.3,1009.4,1009.2,1009.1,1009.0,1008.6,1008.5,1008.4,1008.3,1008.6,1009.1,1009.4,1009.7,1009.9,1010.1,1010.4,1010.5,1010.5,1010.2,1010.1,1010.1,1010.1,1010.2,1010.4,1010.9,1011.4,1011.7,1011.5,1011.5,1011.5,1011.4,1011.3,1011.2,1011.2,1011.6,1012.1,1012.5,1012.8,1013.3,1013.7,1013.7,1013.8,1013.7,1013.4,1013.2,1013.4,1013.4,1013.6,1013.9,1014.1,1014.2,1014.0,1013.8,1013.5,1013.1,1013.0,1013.0,1013.1,1013.4,1013.7,1013.9,1014.1,1014.0,1014.0,1014.0,1013.8,1013.3,1012.9,1012.4,1012.0,1011.8,1011.8,1012.2,1012.8,1013.1,1013.0,1012.7,1012.3,1011.9,1011.9,1011.6,1011.8,1012.1,1012.5,1012.9,1013.2,1013.2,1013.0,1012.7,1012.5,1012.1,1011.6,1011.2,1011.2,1011.3,1011.6,1012.3,1012.5,1012.6,1012.4,1012.3,1012.1,1011.9,1011.6,1011.3,1011.3,1011.5,1011.8,1012.4,1012.7,1012.8,1013.2,1012.9,1012.6,1012.1,1011.6,1011.2,1011.1,1011.0,1011.4,1011.9,1012.3,1012.7,1012.7,1012.2,1012.1,1012.3,1012.2,1012.3,1012.5,1012.5,1012.8,1013.1,1013.4,1013.4,1013.6,1013.7,1013.7,1013.6,1013.6,1013.5,1013.2,1013.2,1013.6,1013.8,1014.0,1014.3,1014.2,1014.0,1013.7,1013.6,1013.5,1013.4,1013.4,1013.5,1013.5,1013.9,1014.0,1014.1,1014.4,1014.3,1014.1,1013.8,1013.3,1013.2,1012.7,1012.1,1012.0,1011.9,1012.1,1012.4,1012.2,1012.1,1011.7,1011.6,1011.4,1011.4,1011.5,1011.5,1011.7,1012.1,1012.3,1012.4,1012.6,1012.4,1012.1,1011.7,1011.4,1011.1,1011.0,1010.8,1011.3,1011.5,1011.7,1011.9,1012.0,1011.8,1011.8,1011.8,1011.6,1011.4,1011.3,1011.5,1011.8,1012.3,1012.5,1012.5,1012.6,1012.4,1012.4,1012.4,1012.2,1012.2,1012.0,1011.9,1011.9,1012.0,1012.1,1012.1,1011.8,1011.6,1011.5,1011.3,1011.1,1011.1,1011.1,1011.6,1012.0,1012.2,1012.2,1012.4,1012.7,1012.8,1012.5,1012.4,1012.2,1012.1,1012.0,1011.9,1012.1,1012.0,1012.2,1012.2,1012.1,1011.9,1011.8,1011.5,1011.3,1011.4,1011.9,1012.1,1012.3,1012.4,1012.6,1012.7,1012.6,1012.2,1012.0,1011.3,1011.0,1010.6,1009.9,1009.5,1009.3,1009.1,1009.3,1009.3,1008.9,1008.3,1007.9,1007.3,1006.7,1006.3,1006.0,1005.9,1005.8,1005.7,1005.5,1005.3,1005.2,1005.0,1004.5,1003.8,1003.5,1003.4,1003.3,1003.4,1003.6,1003.5,1003.9,1004.2,1003.9,1003.8,1003.7,1003.3,1003.4,1003.0,1002.8,1002.3,1002.2,1002.3,1002.6,1002.4,1002.2,1001.9,1001.7,1001.3,1001.2,1001.4,1001.3,1001.1,1002.2,1001.4,1001.4,1002.2,1002.2,1002.3,1002.5,1002.6,1002.4,1002.3,1002.4,1002.6,1003.0,1003.3,1003.6,1003.9,1004.3,1004.6,1004.6,1004.5,1004.3,1004.2,1004.1,1004.0,1004.4,1005.0,1005.6,1006.0,1005.9,1006.1,1006.1,1006.0,1005.9,1005.9,1006.0,1006.2,1006.5,1006.8,1006.9,1006.9,1007.0,1006.9,1006.9,1006.7,1006.3,1006.3,1006.1,1006.1,1006.3,1006.5,1007.0,1007.5,1007.4,1007.4,1007.4,1007.1,1007.0,1007.1,1007.3,1007.6,1007.8,1008.2,1008.5,1008.6,1008.6,1008.3,1008.3,1008.1,1007.9,1007.6,1007.4,1007.4,1008.1,1008.4,1008.9,1009.2,1009.1,1009.0,1008.6,1008.5,1008.1,1008.0,1008.3,1008.7,1009.0,1009.4,1009.8,1010.0,1010.2,1010.2,1010.9,1010.8,1010.0,1009.7,1009.8,1009.9,1010.3,1010.6,1011.1,1011.6,1011.6,1011.8,1011.7,1011.7,1011.5,1011.5,1011.6,1011.7,1012.1,1012.5,1012.8,1013.0,1013.2,1013.2,1012.9,1012.5,1012.1,1011.8,1011.7,1012.1,1012.4,1012.9,1013.1,1013.2,1013.1,1013.1,1013.0,1012.8,1012.7,1012.6,1012.6,1012.8,1013.0,1013.3,1013.5,1013.5,1013.7,1013.8,1013.6,1013.5,1013.4,1013.1,1013.0,1013.0,1013.2,1013.1,1013.5,1013.7,1013.6,1013.5,1013.2,1013.1,1012.8,1012.7,1012.9,1013.2,1013.3,1013.7,1013.8,1013.8,1013.9,1013.7,1013.5,1013.3,1013.1,1012.9,1012.7,1012.7,1012.7,1012.8,1013.0,1013.2,1013.0,1013.0,1012.9,1012.6,1012.3,1012.3,1012.2,1012.2,1012.4,1012.7,1012.8,1012.8,1012.9,1012.6,1012.3,1011.9,1011.6,1011.4,1011.3,1011.1,1011.2,1011.5,1011.5,1011.8,1011.5,1011.4,1011.1,1010.7,1010.4,1010.3,1010.4,1010.4,1010.5,1010.5,1010.4,1010.3,1010.4,1010.2,1009.7,1009.2,1008.8,1008.3,1007.8,1007.5,1007.5,1007.3,1007.5,1007.6,1007.4,1006.9,1006.8,1006.7,1006.5,1006.4,1006.6,1006.8,1007.4,1007.9,1008.4,1008.9,1009.8,1010.3,1010.5,1010.5,1010.6,1010.8,1011.1,1011.3,1011.9,1012.1,1012.8,1013.5,1013.7,1014.0,1014.1,1014.4,1014.6,1014.8,1015.1,1015.5,1016.0,1016.4,1016.8,1017.1,1017.3,1017.4,1017.3,1017.2,1017.1,1016.9,1017.2,1017.6,1017.9,1018.2,1018.4,1018.2,1018.3,1018.1,1018.2,1017.9,1017.7,1017.7,1017.9,1017.9,1018.3,1018.5,1018.3,1018.6,1018.4,1018.1,1017.8,1017.5,1017.3,1017.0,1016.9,1016.9,1017.0,1017.0,1016.6,1016.2,1015.9,1015.5,1015.1,1015.0,1015.1,1015.3,1015.4,1015.6,1015.7,1015.5,1015.4,1015.1,1014.7,1014.2,1013.9,1013.8,1013.6,1013.5,1013.8,1013.8,1014.0,1013.8,1013.4,1013.2,1012.9,1012.6,1012.1,1012.0,1011.9,1012.0,1012.0,1012.1,1012.1,1011.9,1011.8,1011.5,1011.1,1010.8,1010.5,1009.9,1009.6,1009.2,1009.2,1009.2,1009.3,1008.8,1008.5,1008.1,1007.8,1007.4,1007.5,1007.6,1007.7,1007.8,1007.9,1007.5,1007.2,1007.4,1007.3,1007.1,1006.9,1006.8,1006.3,1006.2,1006.4,1006.8,1008.1,1009.3,1009.7,1010.0,1009.4,1009.3,1009.3,1009.3,1009.7,1010.1,1010.8,1011.4,1011.8,1012.0,1012.0,1011.9,1011.8,1011.8,1011.5,1011.4,1011.3,1011.3,1011.4,1011.8,1012.1,1012.2,1011.4,1010.7,1010.2,1009.8,1009.8,1009.8,1009.9,1010.0,1010.2,1010.4,1010.4,1010.6,1010.7,1010.4,1010.0,1009.6,1009.4,1009.3,1009.4,1009.6,1009.9,1010.1,1010.0,1009.5,1009.1,1008.6,1008.2,1007.7,1007.2,1007.2,1007.1,1007.0,1006.9,1006.7,1006.4,1006.2,1005.9,1005.4,1005.2,1004.9,1005.2,1005.2,1005.2,1005.3,1005.1,1005.3,1005.3,1005.2,1004.9,1004.8,1004.6,1004.3,1004.2,1004.4,1004.7,1005.1,1005.2,1005.1,1005.2,1005.2,1005.3,1005.2,1005.3,1005.6,1005.7,1005.7,1005.6,1005.9,1006.3,1006.6,1007.0,1007.2,1007.2,1007.1,1006.9,1006.9,1006.9,1006.9,1006.9,1007.1,1007.3,1007.4,1007.5,1007.5,1007.4,1007.3,1007.2,1006.8,1006.6,1006.4,1006.1,1006.1,1006.3,1006.5,1006.6,1006.6,1006.6,1006.5,1006.2,1006.0,1006.1,1006.2,1006.3,1006.3,1006.3,1006.4,1006.6,1006.3,1005.9,1005.4,1005.0,1005.0,1005.1,1006.1,1006.6,1006.3,1006.5,1006.8,1007.0,1007.0,1006.9,1006.9,1007.0,1007.2,1007.5,1007.7,1008.0,1008.4,1008.7,1009.0,1009.0,1008.7,1008.7,1008.4,1008.1,1008.0,1007.9,1007.9,1008.0,1008.3,1008.5,1008.3,1008.3,1008.0,1007.9,1007.5,1007.2,1007.1,1006.9,1006.8,1006.9,1006.8,1006.5,1006.5,1006.2,1006.1,1005.8,1005.3,1005.0,1004.4,1004.7,1005.2,1005.6,1006.1,1006.5,1007.0,1007.1,1007.2,1007.4,1007.3,1007.6,1008.0,1008.3,1008.6,1009.0,1009.4,1009.5,1009.7,1009.7,1009.6,1009.5,1009.4,1009.2,1009.4,1009.9,1010.3,1010.7,1010.8,1011.0,1011.1,1011.1,1010.9,1010.7,1010.5,1010.2,1010.3,1010.3,1010.2,1010.2,1009.9,1010.1,1010.0,1009.6,1009.0,1008.6,1008.3,1008.0,1007.6,1007.4,1007.3,1007.0,1007.0,1007.0,1006.9,1006.7,1006.2,1005.8,1005.6,1005.3,1004.9,1005.1,1005.2,1005.4,1005.5,1005.5,1005.7,1005.6,1005.4,1005.3,1005.3,1005.4,1005.6,1006.2,1006.9,1006.9,1007.3,1007.7,1008.0,1008.3,1008.3,1008.2,1008.3,1008.6,1008.9,1009.3,1009.6,1009.8,1010.2,1010.5,1010.7,1010.7,1010.6,1010.5,1010.4,1010.4,1010.5,1010.8,1011.1,1011.3,1011.5,1011.8,1011.8,1011.8,1011.7,1011.6,1011.6,1011.7,1011.9,1012.4,1013.0,1013.3,1013.8,1014.0,1014.4,1014.4,1014.4,1014.1,1014.2,1014.5,1014.7,1014.9,1015.1,1015.6,1015.6,1015.2,1015.1,1015.0,1015.1,1015.3,1015.6,1016.1,1016.3,1016.6,1016.7,1016.7,1016.8,1016.6,1016.3,1016.0,1015.9,1015.8,1015.9,1016.0,1016.0,1016.0,1016.1,1015.8,1015.3,1015.0,1014.7,1014.4,1014.3,1014.5,1014.6,1014.7,1014.7,1014.7,1014.7,1014.8,1014.6,1014.2,1013.9,1013.7,1013.5,1013.2,1013.1,1013.3,1013.2,1012.5,1012.0,1011.9,1012.0,1011.8,1011.8,1011.9,1011.9,1011.9,1011.7,1011.6,1011.6,1011.4,1011.3,1011.2,1011.0,1010.6,1010.3,1010.4,1010.5,1010.7,1010.8,1010.8,1010.6,1010.2,1009.7,1009.6,1009.6,1009.7,1010.0,1010.3,1010.4,1010.5,1010.4,1010.5,1010.4,1010.0,1009.9,1009.6,1009.4,1009.2,1009.2,1009.3,1009.6,1009.8,1010.1,1010.1,1010.0,1009.6,1009.3,1009.0,1009.1,1009.3,1009.6,1009.9,1010.3,1010.3,1010.2,1010.1,1009.8,1009.6,1009.4,1009.9,1010.2,1010.3,1010.7,1010.9,1010.8,1010.6,1010.5,1010.3,1010.1,1010.0,1010.3,1010.4,1010.5,1010.4,1010.7,1010.9,1011.0,1011.1,1010.9,1010.9,1010.9,1010.8,1010.7,1010.8,1011.1,1011.6,1012.2,1012.4,1012.3,1012.2,1012.0,1011.9,1011.9,1011.9,1011.8,1011.9,1012.0,1012.3,1012.4,1012.6,1012.7,1012.3,1012.2,1011.9,1011.8,1011.7,1011.5,1011.8,1012.1,1011.9,1011.6,1011.3,1011.0,1010.8,1010.6,1010.4,1010.3,1010.5,1010.8,1010.9,1011.0,1010.9,1010.6,1010.4,1009.9,1009.3,1008.9,1008.5,1008.3,1008.3,1008.1,1008.0,1007.9,1007.6,1007.4,1007.2,1006.9,1006.9,1006.9,1006.8,1006.7,1006.7,1006.6,1006.6,1006.5,1006.5,1006.2,1005.6,1005.1,1004.7,1003.8,1003.3,1002.9,1003.0,1003.2,1003.3,1003.5,1003.6,1003.5,1003.2,1003.2,1003.0,1003.3,1003.6,1003.9,1004.1,1004.2,1004.2,1004.2,1004.3,1003.5,1003.9,1004.2,1004.6,1004.8,1004.9,1004.7,1004.4,1004.4,1004.4,1004.4,1004.7,1005.0,1005.4,1005.6,1005.8,1006.1,1006.2,1006.3,1006.2,1006.0,1005.8,1005.6,1005.6,1005.6,1005.8,1005.9,1005.9,1005.7,1005.5,1005.3,1005.1,1005.0,1005.1,1005.1,1005.0,1004.8,1004.9,1004.8,1004.6,1004.5,1004.2,1003.8,1003.3,1002.6,1001.7,1000.9,1000.2,999.57,999.06,998.58,998.42,998.14,997.89,997.27,996.89,996.17,995.79,996.02,995.95,995.96,996.23,996.66,996.91,997.34,997.85,999.08,999.31,999.49,1000.1,1000.7,1001.3,1002.1,1002.9,1003.3,1003.5,1003.6,1003.8,1004.0,1003.9,1004.1,1004.4,1004.7,1004.9,1005.0,1005.1,1005.2,1005.3,1005.4,1005.3,1005.3,1005.1,1004.8,1004.8,1004.9,1005.2,1005.6,1005.9,1006.2,1006.4,1006.2,1006.1,1006.3,1006.5,1006.8,1007.0,1007.3,1007.6,1008.0,1008.3,1008.4,1008.4,1008.5,1008.3,1008.0,1007.9,1006.6,1006.3,1006.1,1006.0,1006.1,1005.7,1005.3,1004.8,1004.6,1004.4,1004.1,1003.6,1003.3,1003.2,1003.1,1003.1,1003.0,1002.7,1002.4,1002.1,1001.7,1000.9,1000.8,1000.7,1000.8,1000.8,1000.8,1000.7,1000.6,1000.2,1000.1,1000.1,1000.2,1000.4,1000.5,1000.9,1001.3,1001.4,1001.4,1001.6,1001.8,1002.0,1002.1,1002.3,1002.2,1002.6,1003.2,1003.7,1003.9,1004.1,1004.2,1004.3,1004.4,1004.9,1005.1,1005.4,1005.7,1006.2,1006.7,1007.1,1007.5,1007.9,1008.4,1008.7,1008.6,1008.7,1009.0,1009.5,1010.1,1010.5,1011.0,1011.6,1012.0,1012.3,1012.3,1012.1,1012.2,1012.2,1012.8,1013.1,1013.5,1013.8,1013.9,1014.2,1014.4,1014.2,1014.0,1013.5,1013.5,1013.6,1013.7,1014.0,1014.2,1014.1,1014.2,1014.1,1013.9,1013.7,1013.6,1013.5,1013.7,1013.8,1013.8,1013.6,1013.5,1013.1,1012.7,1012.2,1011.7,1010.9,1010.7,1010.5,1010.3,1010.1,1009.7,1009.4,1009.0,1008.4,1007.6,1006.9,1006.5,1006.1,1005.8,1005.8,1005.4,1004.9,1004.6,1004.4,1004.1,1003.8,1003.6,1003.3,1003.3,1003.5,1003.7,1003.8,1004.0,1003.9,1003.7,1003.7,1003.6,1003.5,1003.3,1003.3,1003.6,1003.8,1004.0,1004.2,1004.4,1004.5,1004.5,1004.5,1004.4,1003.9,1003.6,1003.7,1004.3,1004.9,1005.2,1005.5,1005.7,1006.0,1006.2,1006.4,1006.6,1006.7,1006.9,1007.2,1007.5,1007.9,1008.0,1008.1,1007.9,1007.7,1007.3,1006.9,1006.7,1006.5,1006.4,1006.4,1006.5,1006.6,1006.8,1006.9,1006.9,1006.7,1006.6,1006.5,1006.5,1006.7,1006.9,1007.0,1007.2,1007.4,1007.5,1007.5,1007.4,1007.1,1006.7,1006.7,1006.8,1007.0,1007.6,1008.0,1008.0,1007.9,1007.8,1008.0,1008.1,1008.1,1008.3,1008.4,1008.6,1008.7,1008.9,1009.1,1009.2,1009.4,1009.4,1009.4,1009.4,1009.4,1009.4,1009.4,1009.6,1009.9,1010.4,1010.8,1010.9,1010.9,1010.8,1010.8,1010.8,1010.9,1010.9,1010.9,1011.0,1011.1,1011.2,1011.4,1011.5,1011.6,1011.8,1011.9,1012.1,1012.5,1012.4,1012.4,1012.4,1012.6,1013.1,1013.2,1013.1,1012.9,1012.6,1012.3,1012.1,1012.1,1012.1,1012.4,1012.3,1012.4,1012.5,1012.4,1012.2,1011.9,1011.7,1011.5,1010.8,1010.7,1010.8,1011.0,1011.2,1011.1,1010.9,1010.8,1010.6,1010.8,1010.8,1010.9,1011.2,1011.4,1011.4,1011.4,1011.4,1011.4,1011.4,1011.3,1011.3,1011.5,1011.6,1011.8,1012.0,1012.1,1012.1,1012.1,1012.2,1012.1,1012.0,1011.8,1011.6,1011.5,1011.5,1011.8,1012.0,1012.1,1012.0,1012.2,1012.1,1012.0,1011.7,1011.3,1011.1,1011.2,1011.4,1011.5,1011.7,1011.8,1012.0,1012.1,1011.8,1011.6,1011.4,1011.1,1010.9,1010.9,1010.9,1011.1,1011.2,1011.4,1011.6,1011.8,1011.7,1011.6,1011.4,1011.3,1011.3,1011.1,1011.3,1011.5,1011.8,1012.1,1012.2,1012.1,1011.9,1011.8,1011.7,1011.6,1011.4,1011.3,1011.2,1011.6,1012.0,1012.2,1012.3,1012.4,1012.4,1012.1,1011.8,1011.5,1010.8,1010.8,1010.8,1010.9,1011.1,1011.3,1011.2,1011.0,1010.7,1010.2,1009.8,1009.4,1009.4,1009.3,1009.2,1009.3,1009.3,1009.3,1009.2,1009.1,1009.0,1008.6,1008.2,1007.7,1007.4,1007.2,1007.2,1007.1,1007.2,1007.3,1007.3,1007.5,1007.3,1006.9,1006.6,1006.4,1006.2,1006.2,1006.4,1006.5,1006.7,1006.9,1007.0,1007.1,1007.0,1006.7,1006.4,1006.2,1005.8,1005.3,1005.7,1005.9,1005.9,1006.0,1006.0,1006.2,1006.2,1006.1,1006.0,1005.9,1005.9,1006.3,1006.9,1007.0,1007.0,1007.0,1006.9,1006.9,1007.1,1007.3,1007.5,1007.8,1008.0,1008.2,1008.5,1008.5,1008.0,1008.1,1008.0,1007.6,1006.8,1007.0,1007.6,1007.7,1007.5,1007.9,1008.0,1008.2,1008.2,1008.3,1008.4,1008.1,1007.7,1007.6,1007.5,1007.5,1007.7,1008.1,1008.5,1008.5,1008.3,1008.1,1007.6,1007.2,1006.7,1006.3,1006.2,1006.3,1006.3,1006.5,1006.7,1006.8,1006.8,1006.7,1006.6,1006.6,1005.9,1006.0,1006.2,1006.3,1006.5,1006.6,1006.6,1006.7,1006.6,1006.3,1006.3,1006.2,1006.1,1006.4,1006.7,1006.9,1007.2,1007.5,1007.8,1007.7,1007.8,1007.8,1007.6,1007.5,1007.4,1007.4,1007.6,1007.8,1008.3,1008.4,1008.5,1008.5,1008.4,1008.4,1008.3,1008.2,1008.2,1008.4,1008.7,1009.1,1009.4,1009.8,1009.8,1009.6,1009.4,1009.3,1009.3,1009.2,1009.1,1008.9,1009.1,1009.6,1010.1,1010.1,1010.1,1009.9,1009.7,1009.7,1009.6,1009.5,1009.4,1009.5,1009.8,1010.0,1010.2,1010.3,1010.3,1010.2,1010.0,1009.7,1009.5,1009.3,1009.2,1009.5,1010.0,1010.6,1010.9,1011.0,1010.9,1010.8,1010.8,1010.5,1010.3,1010.2,1010.3,1010.5,1010.8,1011.1,1011.5,1011.4,1011.3,1011.2,1011.0,1011.0,1010.9,1010.8,1011.2,1011.6,1012.2,1012.4,1012.4,1012.5,1012.5,1012.4,1012.5,1012.5,1012.7,1013.1,1013.5,1013.8,1014.1,1014.3,1014.5,1014.5,1014.6,1014.7,1014.8,1014.9,1015.0,1015.0,1015.1,1015.5,1015.8,1015.9,1016.0,1016.1,1015.8,1015.6,1015.3,1015.3,1015.3,1015.5,1015.6,1015.8,1016.1,1016.4,1016.3,1016.2,1016.1,1016.0,1015.5,1015.3,1015.2,1015.0,1015.0,1015.2,1015.4,1015.3,1015.2,1015.0,1014.8,1014.4,1014.1,1013.9,1013.7,1013.9,1014.1,1014.4,1014.5,1014.6,1014.4,1014.2,1014.1,1014.0,1013.8,1013.7,1013.7,1013.7,1013.9,1014.2,1014.3,1014.3,1014.4,1014.2,1013.9,1013.8,1013.6,1013.4,1013.5,1014.1,1014.4,1014.6,1014.9,1015.1,1015.1,1015.1,1015.2,1015.0,1014.9,1014.9,1015.0,1015.3,1015.5,1015.8,1016.1,1016.2,1016.1,1016.1,1015.8,1015.7,1015.6,1015.6,1015.5,1015.7,1015.8,1015.9,1016.1,1016.4,1016.4,1016.3,1016.1,1016.0,1015.8,1015.6,1015.7,1015.7,1015.9,1016.2,1016.5,1016.5,1016.5,1016.3,1016.1,1016.0,1016.2,1016.3,1016.2,1016.4,1016.7,1017.0,1017.1,1017.1,1017.0,1016.8,1016.6,1016.3,1016.1,1015.9,1015.8,1015.9,1016.1,1016.1,1016.2,1016.3,1016.1,1015.9,1015.8,1015.7,1015.5,1015.2,1015.1,1015.1,1015.0,1015.2,1015.4,1015.6,1015.1,1014.8,1014.4,1014.0,1013.8,1013.6,1013.6,1013.5,1013.5,1013.8,1013.9,1014.1,1013.9,1014.0,1013.6,1013.4,1013.2,1013.3,1013.4,1013.7,1013.9,1014.2,1014.6,1014.7,1014.6,1014.4,1014.3,1014.0,1013.9,1013.9,1014.0,1014.2,1014.5,1014.8,1014.9,1014.8,1014.8,1014.7,1014.4,1014.7,1015.0,1015.1,1015.3,1015.4,1015.2,1015.1,1014.9,1014.8,1014.9,1015.0,1015.4,1015.8,1015.7,1015.4,1015.2,1015.0,1014.5,1014.1,1013.8,1013.7,1013.7,1013.7,1013.6,1013.6,1014.0,1014.0,1014.0,1013.7,1013.5,1013.3,1013.0,1013.0,1013.0,1013.2,1013.5,1013.4,1013.2,1012.9,1012.6,1012.3,1012.0,1011.7,1011.5,1011.6,1011.7,1011.9,1012.0,1012.4,1012.4,1012.2,1012.2,1012.0,1011.9,1011.8,1011.8,1011.8,1012.1,1012.7,1012.7,1012.5,1012.1,1011.6,1011.0,1010.7,1010.2,1009.8,1009.6,1009.7,1009.3,1009.1,1009.2,1009.1,1008.7,1008.5,1008.3,1008.2,1008.2,1008.5,1008.8,1008.9,1008.8,1008.6,1008.4,1008.2,1007.8,1007.7,1007.6,1007.7,1007.8,1008.0,1008.1,1008.5,1008.7,1008.5,1008.2,1008.0,1007.7,1007.4,1007.2,1007.3,1007.2,1007.2,1007.5,1007.8,1007.7,1007.7,1007.8,1007.7,1007.4,1007.3,1007.1,1007.4,1007.7,1008.1,1008.3,1008.7,1009.1,1009.3,1009.4,1009.3,1009.2,1008.9,1008.7,1008.7,1008.8,1008.8,1009.3,1009.6,1009.6,1009.6,1009.6,1009.5,1009.3,1009.2,1009.3,1009.5,1010.0,1010.4,1010.6,1011.0,1011.3,1011.2,1011.0,1010.8,1010.6,1010.6,1010.6,1010.6,1010.9,1011.1,1011.2,1011.1,1011.2,1011.3,1011.2,1011.0,1010.8,1010.7,1010.6,1010.7,1010.9,1011.1,1011.3,1010.0,1009.5,1009.1,1009.0,1008.9,1008.8,1009.0,1009.3,1009.6,1009.4,1009.6,1009.6,1009.4,1009.5,1009.4,1009.4,1009.5,1010.0,1010.3,1010.6,1011.0,1010.9,1010.8,1010.9,1010.8,1010.8,1011.2,1011.5,1011.5,1011.9,1012.5,1012.9,1013.2,1013.6,1013.7,1013.8,1013.6,1013.2,1013.2,1013.6,1014.1,1014.6,1015.0,1015.3,1015.5,1015.5,1015.5,1015.5,1015.3,1015.3,1015.2,1015.5,1015.7,1016.1,1016.3,1016.3,1016.2,1016.1,1016.2,1016.1,1016.2,1016.2,1016.1,1016.3,1016.3,1016.4,1016.7,1016.9,1016.7,1016.4,1016.2,1016.1,1015.8,1015.7,1015.5,1015.5,1015.9,1016.3,1016.3,1016.2,1016.2,1015.9,1015.7,1015.6,1015.5,1015.4,1015.4,1015.5,1015.5,1015.6,1015.7,1015.6,1015.4,1015.1,1014.3,1014.0,1013.6,1013.2,1013.3,1013.5,1013.7,1014.0,1014.2,1013.8,1013.5,1013.2,1012.9,1012.5,1012.2,1011.9,1011.8,1011.9,1011.6,1011.7,1011.4,1011.1,1010.6,1010.0,1009.4,1008.7,1008.4,1008.3,1008.4,1008.8,1008.6,1008.5,1008.1,1007.7,1007.4,1007.2,1006.9,1006.6,1006.5,1006.8,1007.0,1007.1,1007.2,1006.9,1006.9,1006.5,1006.2,1005.9,1005.5,1005.3,1005.4,1005.4,1005.6,1005.9,1005.9,1005.9,1005.8,1005.6,1005.3,1005.3,1005.2,1005.4,1005.6,1006.1,1006.8,1007.4,1007.7,1008.0,1008.2,1008.3,1008.3,1008.1,1008.3,1008.2,1008.6,1009.1,1009.7,1010.9,1011.7,1012.3,1014.1,1014.5,1014.7,1015.2,1015.7,1016.1,1016.6,1017.0,1017.0,1017.0,1016.8,1016.5,1016.0,1015.8,1015.9,1015.9,1016.1,1016.7,1017.2,1017.5,1017.4,1017.3,1017.3,1017.1,1016.9,1016.7,1016.7,1016.7,1017.0,1017.1,1017.1,1017.4,1017.3,1016.9,1016.5,1016.1,1015.5,1015.1,1015.0,1014.8,1014.7,1015.0,1015.2,1015.0,1014.6,1014.3,1013.9,1013.7,1013.5,1013.3,1013.2,1013.3,1013.3,1013.4,1013.5,1013.5,1013.4,1012.8,1012.4,1012.2,1012.0,1011.7,1011.5,1011.3,1011.3,1011.5,1011.7,1011.6,1011.5,1011.4,1011.1,1010.8,1010.8,1010.8,1010.9,1011.2,1011.5,1011.6,1011.8,1011.9,1011.9,1011.7,1011.5,1011.3,1011.1,1010.8,1011.0,1011.1,1011.2,1011.6,1011.8,1011.8,1011.9,1011.9,1011.7,1011.4,1011.3,1011.2,1011.4,1011.7,1012.0,1012.2,1012.5,1012.7,1012.7,1012.5,1012.1,1011.8,1011.5,1011.1,1011.0,1010.9,1011.0,1011.4,1011.5,1011.3,1011.4,1011.5,1011.3,1011.0,1010.9,1010.9,1010.9,1011.1,1011.5,1011.5,1011.6,1011.8,1011.6,1011.5,1011.3,1011.1,1011.1,1011.1,1011.1,1011.3,1011.6,1012.0,1012.4,1012.4,1012.7,1012.6,1012.4,1012.3,1012.3,1012.2,1012.2,1012.4,1012.7,1012.8,1013.0,1013.3,1013.4,1013.4,1013.3,1012.9,1012.6,1012.4,1012.1,1012.0,1012.1,1012.5,1012.7,1012.8,1013.2,1013.1,1013.0,1012.9,1012.9,1012.8,1012.6,1012.7,1012.9,1013.3,1013.5,1013.7,1013.8,1013.8,1013.5,1013.2,1012.9,1012.7,1012.4,1012.4,1012.6,1013.1,1013.2,1013.2,1013.1,1012.7,1012.3,1012.0,1011.8,1011.7,1011.5,1011.4,1011.4,1011.4,1011.7,1011.9,1011.8,1011.5,1011.2,1010.7,1010.3,1010.0,1009.9,1009.8,1009.8,1010.2,1010.5,1010.5,1010.6,1010.5,1010.2,1009.9,1009.6,1009.6,1009.8,1009.9,1010.1,1010.3,1010.6,1010.9,1011.1,1011.2,1011.3,1011.3,1011.4,1011.2,1011.5,1011.7,1011.9,1012.6,1012.9,1012.9,1012.9,1013.1,1013.1,1012.8,1012.6,1012.6,1012.8,1013.0,1013.3,1013.7,1013.9,1014.0,1014.0,1014.0,1013.8,1013.3,1013.0,1012.6,1012.3,1012.1,1012.2,1012.1,1012.1,1012.0,1012.0,1011.6,1011.5,1011.5,1010.7,1010.5,1009.7,1009.6,1009.5,1009.4,1009.4,1009.1,1008.4,1007.6,1007.4,1007.0,1006.2,1006.1,1007.0,1007.1,1007.6,1006.9,1006.1,1008.1,1007.8,1007.1,1006.0,1006.1,1006.1,1005.4,1005.3,1005.8,1005.8,1006.4,1007.3,1007.1,1007.0,1006.8,1006.7,1006.2,1006.4,1006.5,1006.5,1006.9,1007.7,1008.0,1008.2,1008.6,1008.3,1008.4,1008.5,1008.4,1008.6,1008.7,1008.8,1009.2,1009.3,1009.4,1009.9,1010.3,1010.4,1010.2,1009.9,1009.8,1009.8,1009.9,1010.3,1010.6,1010.9,1011.3,1011.5,1011.5,1011.4,1011.3,1011.1,1010.8,1011.4,1011.9,1012.4,1012.7,1012.7,1012.7,1012.4,1012.2,1012.2,1012.3,1012.5,1012.8,1013.4,1014.0,1014.4,1014.5,1014.7,1014.9,1015.2,1015.4,1015.5,1018.0,1018.5,1018.7,1018.8,1018.8,1018.6,1018.6,1018.7,1018.9,1019.3,1019.7,1020.1,1020.4,1020.7,1020.6,1020.9,1021.3,1021.5,1021.9,1022.0,1021.8,1021.5,1021.3,1021.2,1021.1,1020.9,1021.2,1021.4,1021.6,1021.7,1021.7,1021.7,1021.7,1021.1,1021.3,1021.4,1021.6,1021.6,1021.6,1021.5,1021.2,1021.0,1020.9,1020.7,1020.9,1021.1,1021.5,1021.4,1021.3,1021.2,1021.1,1020.8,1020.4,1020.0,1019.8,1019.7,1019.5,1019.4,1019.6,1019.7,1019.5,1019.4,1019.2,1018.8,1018.5,1018.4,1018.4,1018.4,1018.5,1018.6,1018.8,1018.7,1018.8,1018.8,1018.8,1018.5,1018.2,1017.8,1017.8,1017.8,1018.0,1018.2,1018.3,1018.0,1018.0,1017.7,1017.2,1016.9,1016.5,1016.4,1016.4,1016.4,1016.5,1016.6,1016.6,1016.5,1016.4,1016.3,1016.3,1016.5,1017.2,1017.5,1017.8,1018.2,1018.7,1018.7,1019.2,1019.2,1018.9,1018.9,1018.8,1019.1,1019.5,1020.1,1020.6,1020.8,1021.1,1021.1,1021.0,1020.8,1021.0,1020.8,1020.5,1020.3,1020.1,1020.1,1020.1,1020.1,1020.2,1020.4,1020.2,1019.9,1019.7,1019.2,1018.9,1018.6,1018.4,1018.4,1018.5,1018.5,1018.2,1018.0,1017.7,1017.5,1017.3,1016.9,1016.3,1015.7,1015.5,1015.5,1015.6,1015.7,1016.0,1016.1,1016.1,1016.0,1015.7,1015.4,1015.1,1015.1,1015.3,1015.9,1016.4,1016.8,1017.1,1017.4,1017.6,1017.9,1018.0,1018.2,1018.2,1018.4,1018.7,1019.0,1019.5,1020.0,1020.5,1020.8,1020.9,1020.9,1020.8,1020.4,1019.9,1019.8,1019.9,1020.2,1020.5,1020.8,1020.9,1020.8,1020.4,1020.1,1019.9,1019.7,1019.3,1018.9,1018.9,1019.0,1019.2,1019.4,1019.6,1019.8,1019.6,1019.4,1018.9,1018.3,1018.0,1017.5,1017.2,1017.2,1017.4,1017.5,1017.6,1017.6,1017.5,1017.4,1017.2,1017.1,1016.9,1016.7,1016.8,1016.8,1017.2,1017.6,1018.0,1018.3,1018.5,1018.3,1017.9,1017.5,1017.1,1017.0,1016.8,1016.9,1017.1,1017.5,1017.6,1017.6,1017.6,1017.3,1017.0,1016.8,1016.7,1016.6,1016.6,1016.6,1016.8,1017.0,1017.3,1017.5,1017.5,1017.3,1016.8,1016.3,1015.8,1015.3,1015.2,1015.2,1015.2,1015.2,1015.1,1014.9,1014.6,1014.3,1012.2,1012.2,1012.3,1012.3,1012.2,1012.0,1011.3,1010.3,1009.8,1009.5,1009.2,1021.3,1021.4,1021.6,1021.4,1021.3,1021.6,1021.9,1022.1,1022.5,1023.0,1023.3,1023.4,1023.4,1023.2,1023.1,1023.0,1022.8,1022.8,1023.1,1023.4,1023.4,1023.6,1024.0,1024.4,1024.5,1024.6,1024.6,1024.3,1024.1,1024.1,1024.3,1024.3,1024.6,1025.1,1025.3,1025.4,1025.7,1025.5,1025.5,1025.4,1025.5,1025.5,1025.4,1025.6,1025.9,1025.8,1026.2,1026.6,1026.6,1026.7,1026.6,1026.1,1025.9,1025.8,1025.8,1025.7,1025.8,1026.1,1026.2,1026.1,1026.1,1025.9,1025.7,1025.6,1025.4,1025.0,1024.7,1024.7,1024.5,1024.5,1024.0,1023.9,1023.9,1023.9,1024.2,1024.2,1024.1,1024.1,1023.8,1023.5,1023.3,1023.0,1022.7,1022.7,1022.6,1023.1,1023.4,1023.5,1023.7,1023.6,1023.2,1023.0,1022.7,1022.4,1022.1,1022.1,1022.3,1022.4,1022.5,1022.5,1022.3,1022.1,1022.1,1021.9,1021.6,1021.4,1021.3,1021.1,1021.4,1021.8,1021.7,1021.6,1021.5,1021.0,1020.6,1020.1,1019.9,1019.8,1019.9,1020.1,1020.3,1020.2,1019.9,1019.8,1019.5,1019.3,1019.4,1019.1,1018.9,1018.9,1018.9,1018.8,1019.2,1019.5,1019.5,1019.5,1019.2,1018.6,1018.2,1018.1,1018.1,1018.1,1018.3,1018.6,1018.8,1019.1,1019.2,1019.0,1018.9,1018.8,1019.1,1019.6,1019.6,1019.5,1019.3,1019.0,1018.9,1019.0,1018.8,1018.9,1019.0,1019.1,1019.0,1018.9,1019.0,1018.9,1018.8,1018.5,1017.8,1018.2,1018.3,1018.2,1017.7,1017.0,1016.9,1017.0,1017.0,1017.1,1017.4,1017.7,1017.8,1018.1,1018.2,1018.2,1018.1,1018.2,1018.2,1019.4,1020.0,1020.2,1020.4,1020.4,1020.2,1020.0,1019.8,1019.7,1019.9,1020.1,1020.3,1020.4,1020.7,1020.8,1020.8,1020.7,1020.7,1020.9,1021.2,1021.4,1021.4,1021.2,1020.8,1020.6,1020.5,1020.4,1020.6,1021.0,1021.4,1021.6,1021.8,1021.9,1021.7,1021.8,1021.9,1022.0,1021.9,1022.0,1021.8,1021.9,1022.6,1022.5,1023.4,1023.7,1023.9,1023.8,1023.7,1023.6,1023.7,1023.9,1024.3,1025.1,1025.5,1025.7,1025.8,1026.1,1026.4,1026.6,1026.7,1026.9,1027.0,1026.8,1026.9,1027.4,1027.8,1028.1,1028.3,1028.7,1029.0,1028.7,1028.6,1028.2,1028.1,1028.2,1028.3,1028.6,1029.0,1029.0,1029.3,1029.3,1029.1,1028.9,1028.8,1028.6,1028.4,1028.3,1028.1,1028.0,1028.1,1028.1,1028.2,1028.2,1027.9,1027.6,1026.9,1026.2,1025.8,1025.5,1025.5,1025.5,1025.6,1025.4,1025.1,1025.0,1024.6,1024.1,1023.6,1023.0,1022.7,1022.4,1022.1,1021.8,1021.4,1021.2,1020.9,1020.5,1020.0,1019.3,1018.5,1017.9,1017.5,1017.1,1016.6,1016.6,1016.5,1016.5,1016.5,1016.5,1016.4,1016.3,1016.1,1015.9,1015.5,1015.5,1015.7,1015.4,1015.6,1016.2,1016.6,1016.7,1016.8,1016.9,1016.9,1016.9,1017.0,1017.1,1017.2,1017.5,1017.8,1018.1,1018.5,1019.0,1023.1,1023.6,1023.9,1024.0,1024.1,1025.7,1026.4,1026.8,1027.1,1027.4,1028.4,1028.2,1028.7,1028.7,1028.2,1027.7,1027.3,1027.2,1027.2,1027.4,1027.8,1028.0,1027.9,1028.0,1028.1,1027.9,1027.6,1025.2,1022.1,1022.0,1022.0,1021.7,1021.0,1020.3,1019.7,1019.0,1018.9,1018.8,1018.7,1018.7,1018.6,1018.4,1018.2,1017.4,1015.7,1016.0,1016.2,1016.4,1016.1,1015.6,1015.4,1015.4,1015.3,1015.7,1016.0,1016.3,1016.4,1016.7,1016.9,1017.0,1017.4,1018.1,1018.5,1018.7,1018.7,1018.5,1018.2,1018.2,1018.3,1018.4,1018.7,1019.3,1019.7,1019.9,1020.0,1020.3,1021.9,1022.4,1022.7,1022.8,1022.6,1022.4,1022.3,1022.5,1022.8,1022.9,1023.3,1023.4,1023.4,1023.4,1023.4,1023.2,1022.8,1023.0,1023.1,1023.3,1022.8,1022.2,1021.7,1021.6,1021.6,1021.8,1022.1,1022.2,1022.1,1022.0,1022.1,1021.8,1022.0,1022.3,1022.5,1022.6,1022.1,1021.4,1021.0,1020.8,1020.9,1020.9,1021.0,1021.1,1021.3,1021.3,1021.5,1021.7,1022.1,1022.7,1022.7,1022.6,1022.2,1021.9,1021.8,1021.9,1022.0,1022.0,1022.2,1022.3,1022.5,1022.6,1022.4,1021.9,1022.2,1022.4,1022.5,1022.1,1021.6,1021.2,1021.3,1021.4,1021.6,1021.7,1021.9,1022.1,1022.5,1022.7,1023.1,1023.2,1024.9,1025.5,1025.7,1025.8,1025.6,1025.2,1024.9,1024.9,1025.3,1025.6,1026.0,1026.3,1026.5,1026.9,1027.3,1027.7,1027.9,1028.2,1028.5,1028.7,1028.7,1028.3,1028.0,1027.8,1027.8,1027.9,1028.0,1028.4,1029.1,1029.4,1029.5,1029.1,1029.0,1029.3,1029.3,1029.2,1028.8,1028.3,1027.9,1027.8,1027.8,1027.6,1027.5,1027.5,1027.2,1027.0,1026.7,1026.1,1024.6,1024.3,1023.9,1024.3,1024.5,1024.5,1024.5,1023.9,1023.3,1022.8,1022.4,1022.5,1022.4,1022.5,1022.7,1022.9,1023.1,1023.3,1023.6,1023.9,1024.0,1023.9,1024.0,1024.3,1024.4,1025.7,1025.5,1025.2,1024.8,1024.3,1023.9,1023.6,1023.5,1023.5,1023.4,1023.3,1022.3,1021.5,1021.3,1021.0,1020.8,1020.8,1020.9,1021.2,1021.4,1021.5,1021.0,1020.7,1020.3,1020.1,1020.2,1020.3,1020.8,1021.3,1022.0,1022.6,1023.3,1023.5,1023.9,1024.2,1024.8,1025.2,1025.4,1025.7,1026.3,1026.7,1027.5,1028.3,1028.6,1028.6,1028.3,1027.7,1027.3,1026.8,1026.8,1026.8,1026.7,1026.4,1026.3,1026.1,1025.8,1025.4,1025.1,1024.7,1024.5,1024.5,1024.2,1024.6,1024.9,1024.9,1024.2,1023.8,1023.4,1023.3,1023.3,1023.6,1023.9,1024.3,1024.4,1024.3,1024.3,1024.2,1024.3,1023.9,1023.9,1024.2,1024.5,1024.4,1023.9,1023.1,1022.6,1022.4,1022.3,1022.3,1022.3,1022.6,1023.1,1023.3,1023.6,1023.7,1023.8,1023.7,1024.0,1024.2,1024.2,1024.4,1024.3,1023.8,1023.5,1023.0,1022.5,1022.2,1022.0,1021.9,1021.9,1021.8,1021.6,1021.5,1021.4,1021.3,1021.2,1021.1,1021.3,1021.7,1022.1,1022.2,1021.8,1021.4,1020.8,1020.6,1020.6,1020.5,1020.6,1020.8,1020.9,1020.8,1020.8,1020.7,1020.6,1019.8,1020.0,1020.3,1020.3,1020.4,1020.0,1019.3,1018.8,1018.6,1018.5,1018.3,1018.3,1018.5,1018.5,1018.4,1018.4,1017.6,1017.1,1016.8,1016.5,1016.4,1016.1,1016.1,1016.2,1016.3,1016.2,1015.6,1014.9,1014.1,1013.5,1013.0,1012.7,1012.3,1012.2,1012.5,1012.3,1012.0,1012.0,1012.1,1011.9,1011.7,1011.3,1011.4,1011.0,1010.7,1010.8,1010.9,1010.8,1010.9,1010.9,1010.7,1010.1,1009.4,1009.1,1008.9,1008.9,1009.1,1009.2,1009.6,1009.6,1009.8,1009.9,1009.8,1009.8,1009.6,1009.6,1009.8,1009.5,1009.3,1009.2,1009.5,1009.9,1010.3,1010.8,1011.1,1010.4,1010.0,1009.8,1010.0,1009.6,1009.9,1009.8,1009.7,1009.7,1010.1,1010.6,1010.9,1011.2,1011.6,1012.1,1012.6,1013.2,1013.2,1013.4,1013.5,1013.6,1013.9,1014.2,1013.7,1013.4,1012.9,1012.8,1013.2,1013.8,1014.0,1014.6,1015.5,1016.6,1017.2,1017.2,1018.1,1018.0,1021.4,1022.3,1023.2,1023.9,1024.4,1024.2,1023.9,1023.9,1023.8,1024.0,1024.1,1024.2,1024.3,1024.4,1024.3,1024.3,1022.9,1023.1,1023.2,1023.0,1022.6,1022.1,1021.8,1021.7,1021.6,1021.5,1021.5,1021.5,1021.3,1021.1,1021.0,1020.9,1021.0,1021.5,1021.6,1021.4,1021.2,1021.5,1021.7,1022.1,1022.3,1022.1,1022.4,1022.5,1022.5,1022.5,1022.5,1022.2,1022.0,1021.8,1022.0,1022.2,1022.5,1022.7,1022.5,1021.9,1021.4,1020.9,1020.5,1020.5,1020.4,1020.4,1020.4,1020.2,1020.0,1019.8,1019.8,1019.6,1019.1,1018.7,1018.7,1018.3,1018.1,1018.0,1018.0,1018.1,1018.2,1018.6,1018.7,1018.2,1017.7,1017.2,1016.9,1016.8,1016.9,1017.1,1017.4,1017.3,1017.3,1017.2,1017.1,1017.3,1017.3,1017.4,1017.6,1017.5,1017.3,1017.5,1017.8,1018.1,1018.6,1019.0,1018.9,1018.9,1018.7,1018.5,1018.3,1018.4,1018.7,1018.8,1018.9,1019.2,1019.4,1019.6,1019.4,1019.4,1019.4,1019.5,1019.6,1019.8,1019.9,1020.0,1020.2,1020.3,1020.5,1020.7,1020.4,1019.8,1019.2,1018.5,1018.0,1017.6,1017.3,1016.9,1016.7,1016.4,1015.7,1015.0,1014.1,1013.5,1012.9,1012.3,1011.5,1010.4,1009.8,1009.1,1008.9,1008.7,1008.1,1007.2,1006.3,1005.5,1004.6,1004.5,1005.4,1006.2,1006.7,1007.3,1007.9,1008.2,1007.9,1007.9,1007.4,1007.3,1006.8,1006.3,1005.7,1004.8,1003.6,1002.9,1002.2,1001.7,1001.2,1000.7,1000.1,999.62,999.11,998.51,997.78,998.01,998.11,998.2,998.29,998.35,998.38,998.4,998.37,998.67,999.17,999.72,1000.6,1001.2,1001.9,1002.9,1004.1,1005.2,1006.3,1007.3,1008.2,1009.1,1013.1,1013.9,1014.7,1016.4,1016.4,1016.3,1016.3,1015.9,1015.2,1014.8,1014.5,1014.4,1014.3,1014.3,1013.4,1012.7,1012.1,1011.5,1011.4,1011.4,1011.1,1011.0,1010.9,1010.7,1010.8,1010.4,1009.9,1009.2,1008.6,1008.9,1008.5,1008.1,1007.9,1007.8,1008.0,1007.8,1007.3,1006.9,1006.5,1005.8,1005.1,1004.9,1004.7,1004.6,1004.7,1004.8,1004.6,1004.5,1004.8,1005.3,1005.8,1005.8,1006.2,1006.9,1007.0,1007.4,1008.4,1009.2,1009.9,1010.7,1011.4,1011.8,1011.9,1012.1,1012.2,1012.3,1012.5,1012.7,1013.0,1013.2,1013.5,1013.7,1013.4,1013.0,1012.4,1011.9,1011.2,1010.5,1009.7,1009.0,1008.8,1008.4,1008.0,1007.8,1007.5,1006.7,1005.8,1005.7,1005.5,1005.3,1005.0,1004.9,1004.8,1005.1,1005.3,1005.2,1005.2,1005.3,1005.2,1005.4,1005.5,1005.4,1005.5,1005.8,1006.4,1007.1,1007.5,1007.9,1008.3,1008.4,1008.5,1008.9,1009.4,1009.9,1010.5,1011.2,1011.9,1012.5,1013.1,1013.7,1014.3,1014.6,1014.7,1016.4,1016.6,1016.6,1016.4,1016.3,1016.1,1016.0,1016.3,1016.6,1016.9,1017.3,1017.5,1017.8,1018.0,1018.3,1018.8,1019.2,1019.5,1019.9,1020.2,1023.7,1024.0,1023.9,1023.8,1023.8,1024.0,1024.4,1024.9,1025.7,1026.3,1026.8,1027.2,1027.4,1027.6,1027.9,1027.9,1028.1,1028.7,1028.8,1028.8,1028.9,1029.5,1030.1,1030.7,1031.1,1031.0,1030.8,1030.6,1030.5,1030.6,1030.9,1031.2,1031.7,1032.2,1032.4,1032.6,1032.8,1033.0,1033.0,1033.0,1033.0,1033.2,1033.0,1033.0,1033.4,1033.9,1034.2,1034.0,1033.4,1032.8,1032.3,1032.0,1032.0,1031.9,1031.9,1031.8,1031.7,1031.5,1031.2,1030.9,1030.8,1030.3,1030.1,1030.1,1029.9,1029.7,1029.7,1029.7,1029.8,1030.1,1030.1,1030.1,1029.4,1028.5,1027.9,1027.6,1027.6,1027.6,1027.6,1027.6,1027.5,1027.3,1027.1,1026.8,1026.3,1025.8,1025.4,1025.1,1024.6,1023.9,1023.5,1023.2,1023.0,1022.9,1022.5,1021.9,1021.0,1019.9,1019.1,1018.8,1018.5,1018.2,1018.0,1017.8,1017.6,1017.4,1017.0,1016.6,1016.2,1015.7,1015.4,1014.0,1013.7,1013.6,1013.2,1012.4,1011.6,1010.7,1010.3,1010.3,1010.1,1009.9,1009.7,1009.8,1009.7,1009.4,1009.1,1009.0,1008.5,1006.1,1006.3,1006.3,1006.1,1005.5,1004.9,1004.6,1004.5,1004.6,1004.6,1004.9,1005.1,1005.6,1005.9,1006.3,1006.8,1007.2],\"type\":\"pie\"}],                        {\"template\":{\"data\":{\"histogram2dcontour\":[{\"type\":\"histogram2dcontour\",\"colorbar\":{\"outlinewidth\":0,\"ticks\":\"\"},\"colorscale\":[[0.0,\"#0d0887\"],[0.1111111111111111,\"#46039f\"],[0.2222222222222222,\"#7201a8\"],[0.3333333333333333,\"#9c179e\"],[0.4444444444444444,\"#bd3786\"],[0.5555555555555556,\"#d8576b\"],[0.6666666666666666,\"#ed7953\"],[0.7777777777777778,\"#fb9f3a\"],[0.8888888888888888,\"#fdca26\"],[1.0,\"#f0f921\"]]}],\"choropleth\":[{\"type\":\"choropleth\",\"colorbar\":{\"outlinewidth\":0,\"ticks\":\"\"}}],\"histogram2d\":[{\"type\":\"histogram2d\",\"colorbar\":{\"outlinewidth\":0,\"ticks\":\"\"},\"colorscale\":[[0.0,\"#0d0887\"],[0.1111111111111111,\"#46039f\"],[0.2222222222222222,\"#7201a8\"],[0.3333333333333333,\"#9c179e\"],[0.4444444444444444,\"#bd3786\"],[0.5555555555555556,\"#d8576b\"],[0.6666666666666666,\"#ed7953\"],[0.7777777777777778,\"#fb9f3a\"],[0.8888888888888888,\"#fdca26\"],[1.0,\"#f0f921\"]]}],\"heatmap\":[{\"type\":\"heatmap\",\"colorbar\":{\"outlinewidth\":0,\"ticks\":\"\"},\"colorscale\":[[0.0,\"#0d0887\"],[0.1111111111111111,\"#46039f\"],[0.2222222222222222,\"#7201a8\"],[0.3333333333333333,\"#9c179e\"],[0.4444444444444444,\"#bd3786\"],[0.5555555555555556,\"#d8576b\"],[0.6666666666666666,\"#ed7953\"],[0.7777777777777778,\"#fb9f3a\"],[0.8888888888888888,\"#fdca26\"],[1.0,\"#f0f921\"]]}],\"heatmapgl\":[{\"type\":\"heatmapgl\",\"colorbar\":{\"outlinewidth\":0,\"ticks\":\"\"},\"colorscale\":[[0.0,\"#0d0887\"],[0.1111111111111111,\"#46039f\"],[0.2222222222222222,\"#7201a8\"],[0.3333333333333333,\"#9c179e\"],[0.4444444444444444,\"#bd3786\"],[0.5555555555555556,\"#d8576b\"],[0.6666666666666666,\"#ed7953\"],[0.7777777777777778,\"#fb9f3a\"],[0.8888888888888888,\"#fdca26\"],[1.0,\"#f0f921\"]]}],\"contourcarpet\":[{\"type\":\"contourcarpet\",\"colorbar\":{\"outlinewidth\":0,\"ticks\":\"\"}}],\"contour\":[{\"type\":\"contour\",\"colorbar\":{\"outlinewidth\":0,\"ticks\":\"\"},\"colorscale\":[[0.0,\"#0d0887\"],[0.1111111111111111,\"#46039f\"],[0.2222222222222222,\"#7201a8\"],[0.3333333333333333,\"#9c179e\"],[0.4444444444444444,\"#bd3786\"],[0.5555555555555556,\"#d8576b\"],[0.6666666666666666,\"#ed7953\"],[0.7777777777777778,\"#fb9f3a\"],[0.8888888888888888,\"#fdca26\"],[1.0,\"#f0f921\"]]}],\"surface\":[{\"type\":\"surface\",\"colorbar\":{\"outlinewidth\":0,\"ticks\":\"\"},\"colorscale\":[[0.0,\"#0d0887\"],[0.1111111111111111,\"#46039f\"],[0.2222222222222222,\"#7201a8\"],[0.3333333333333333,\"#9c179e\"],[0.4444444444444444,\"#bd3786\"],[0.5555555555555556,\"#d8576b\"],[0.6666666666666666,\"#ed7953\"],[0.7777777777777778,\"#fb9f3a\"],[0.8888888888888888,\"#fdca26\"],[1.0,\"#f0f921\"]]}],\"mesh3d\":[{\"type\":\"mesh3d\",\"colorbar\":{\"outlinewidth\":0,\"ticks\":\"\"}}],\"scatter\":[{\"fillpattern\":{\"fillmode\":\"overlay\",\"size\":10,\"solidity\":0.2},\"type\":\"scatter\"}],\"parcoords\":[{\"type\":\"parcoords\",\"line\":{\"colorbar\":{\"outlinewidth\":0,\"ticks\":\"\"}}}],\"scatterpolargl\":[{\"type\":\"scatterpolargl\",\"marker\":{\"colorbar\":{\"outlinewidth\":0,\"ticks\":\"\"}}}],\"bar\":[{\"error_x\":{\"color\":\"#2a3f5f\"},\"error_y\":{\"color\":\"#2a3f5f\"},\"marker\":{\"line\":{\"color\":\"#E5ECF6\",\"width\":0.5},\"pattern\":{\"fillmode\":\"overlay\",\"size\":10,\"solidity\":0.2}},\"type\":\"bar\"}],\"scattergeo\":[{\"type\":\"scattergeo\",\"marker\":{\"colorbar\":{\"outlinewidth\":0,\"ticks\":\"\"}}}],\"scatterpolar\":[{\"type\":\"scatterpolar\",\"marker\":{\"colorbar\":{\"outlinewidth\":0,\"ticks\":\"\"}}}],\"histogram\":[{\"marker\":{\"pattern\":{\"fillmode\":\"overlay\",\"size\":10,\"solidity\":0.2}},\"type\":\"histogram\"}],\"scattergl\":[{\"type\":\"scattergl\",\"marker\":{\"colorbar\":{\"outlinewidth\":0,\"ticks\":\"\"}}}],\"scatter3d\":[{\"type\":\"scatter3d\",\"line\":{\"colorbar\":{\"outlinewidth\":0,\"ticks\":\"\"}},\"marker\":{\"colorbar\":{\"outlinewidth\":0,\"ticks\":\"\"}}}],\"scattermapbox\":[{\"type\":\"scattermapbox\",\"marker\":{\"colorbar\":{\"outlinewidth\":0,\"ticks\":\"\"}}}],\"scatterternary\":[{\"type\":\"scatterternary\",\"marker\":{\"colorbar\":{\"outlinewidth\":0,\"ticks\":\"\"}}}],\"scattercarpet\":[{\"type\":\"scattercarpet\",\"marker\":{\"colorbar\":{\"outlinewidth\":0,\"ticks\":\"\"}}}],\"carpet\":[{\"aaxis\":{\"endlinecolor\":\"#2a3f5f\",\"gridcolor\":\"white\",\"linecolor\":\"white\",\"minorgridcolor\":\"white\",\"startlinecolor\":\"#2a3f5f\"},\"baxis\":{\"endlinecolor\":\"#2a3f5f\",\"gridcolor\":\"white\",\"linecolor\":\"white\",\"minorgridcolor\":\"white\",\"startlinecolor\":\"#2a3f5f\"},\"type\":\"carpet\"}],\"table\":[{\"cells\":{\"fill\":{\"color\":\"#EBF0F8\"},\"line\":{\"color\":\"white\"}},\"header\":{\"fill\":{\"color\":\"#C8D4E3\"},\"line\":{\"color\":\"white\"}},\"type\":\"table\"}],\"barpolar\":[{\"marker\":{\"line\":{\"color\":\"#E5ECF6\",\"width\":0.5},\"pattern\":{\"fillmode\":\"overlay\",\"size\":10,\"solidity\":0.2}},\"type\":\"barpolar\"}],\"pie\":[{\"automargin\":true,\"type\":\"pie\"}]},\"layout\":{\"autotypenumbers\":\"strict\",\"colorway\":[\"#636efa\",\"#EF553B\",\"#00cc96\",\"#ab63fa\",\"#FFA15A\",\"#19d3f3\",\"#FF6692\",\"#B6E880\",\"#FF97FF\",\"#FECB52\"],\"font\":{\"color\":\"#2a3f5f\"},\"hovermode\":\"closest\",\"hoverlabel\":{\"align\":\"left\"},\"paper_bgcolor\":\"white\",\"plot_bgcolor\":\"#E5ECF6\",\"polar\":{\"bgcolor\":\"#E5ECF6\",\"angularaxis\":{\"gridcolor\":\"white\",\"linecolor\":\"white\",\"ticks\":\"\"},\"radialaxis\":{\"gridcolor\":\"white\",\"linecolor\":\"white\",\"ticks\":\"\"}},\"ternary\":{\"bgcolor\":\"#E5ECF6\",\"aaxis\":{\"gridcolor\":\"white\",\"linecolor\":\"white\",\"ticks\":\"\"},\"baxis\":{\"gridcolor\":\"white\",\"linecolor\":\"white\",\"ticks\":\"\"},\"caxis\":{\"gridcolor\":\"white\",\"linecolor\":\"white\",\"ticks\":\"\"}},\"coloraxis\":{\"colorbar\":{\"outlinewidth\":0,\"ticks\":\"\"}},\"colorscale\":{\"sequential\":[[0.0,\"#0d0887\"],[0.1111111111111111,\"#46039f\"],[0.2222222222222222,\"#7201a8\"],[0.3333333333333333,\"#9c179e\"],[0.4444444444444444,\"#bd3786\"],[0.5555555555555556,\"#d8576b\"],[0.6666666666666666,\"#ed7953\"],[0.7777777777777778,\"#fb9f3a\"],[0.8888888888888888,\"#fdca26\"],[1.0,\"#f0f921\"]],\"sequentialminus\":[[0.0,\"#0d0887\"],[0.1111111111111111,\"#46039f\"],[0.2222222222222222,\"#7201a8\"],[0.3333333333333333,\"#9c179e\"],[0.4444444444444444,\"#bd3786\"],[0.5555555555555556,\"#d8576b\"],[0.6666666666666666,\"#ed7953\"],[0.7777777777777778,\"#fb9f3a\"],[0.8888888888888888,\"#fdca26\"],[1.0,\"#f0f921\"]],\"diverging\":[[0,\"#8e0152\"],[0.1,\"#c51b7d\"],[0.2,\"#de77ae\"],[0.3,\"#f1b6da\"],[0.4,\"#fde0ef\"],[0.5,\"#f7f7f7\"],[0.6,\"#e6f5d0\"],[0.7,\"#b8e186\"],[0.8,\"#7fbc41\"],[0.9,\"#4d9221\"],[1,\"#276419\"]]},\"xaxis\":{\"gridcolor\":\"white\",\"linecolor\":\"white\",\"ticks\":\"\",\"title\":{\"standoff\":15},\"zerolinecolor\":\"white\",\"automargin\":true,\"zerolinewidth\":2},\"yaxis\":{\"gridcolor\":\"white\",\"linecolor\":\"white\",\"ticks\":\"\",\"title\":{\"standoff\":15},\"zerolinecolor\":\"white\",\"automargin\":true,\"zerolinewidth\":2},\"scene\":{\"xaxis\":{\"backgroundcolor\":\"#E5ECF6\",\"gridcolor\":\"white\",\"linecolor\":\"white\",\"showbackground\":true,\"ticks\":\"\",\"zerolinecolor\":\"white\",\"gridwidth\":2},\"yaxis\":{\"backgroundcolor\":\"#E5ECF6\",\"gridcolor\":\"white\",\"linecolor\":\"white\",\"showbackground\":true,\"ticks\":\"\",\"zerolinecolor\":\"white\",\"gridwidth\":2},\"zaxis\":{\"backgroundcolor\":\"#E5ECF6\",\"gridcolor\":\"white\",\"linecolor\":\"white\",\"showbackground\":true,\"ticks\":\"\",\"zerolinecolor\":\"white\",\"gridwidth\":2}},\"shapedefaults\":{\"line\":{\"color\":\"#2a3f5f\"}},\"annotationdefaults\":{\"arrowcolor\":\"#2a3f5f\",\"arrowhead\":0,\"arrowwidth\":1},\"geo\":{\"bgcolor\":\"white\",\"landcolor\":\"#E5ECF6\",\"subunitcolor\":\"white\",\"showland\":true,\"showlakes\":true,\"lakecolor\":\"white\"},\"title\":{\"x\":0.05},\"mapbox\":{\"style\":\"light\"}}},\"legend\":{\"tracegroupgap\":0},\"margin\":{\"t\":60},\"title\":{\"text\":\"\\u003cb\\u003e values lie between 0 and 1 for AP \\u003cb\\u003e\"},\"showlegend\":true},                        {\"responsive\": true}                    ).then(function(){\n",
              "                            \n",
              "var gd = document.getElementById('171d6090-f834-4716-b06b-61b99efbeed8');\n",
              "var x = new MutationObserver(function (mutations, observer) {{\n",
              "        var display = window.getComputedStyle(gd).display;\n",
              "        if (!display || display === 'none') {{\n",
              "            console.log([gd, 'removed!']);\n",
              "            Plotly.purge(gd);\n",
              "            observer.disconnect();\n",
              "        }}\n",
              "}});\n",
              "\n",
              "// Listen for the removal of the full notebook cells\n",
              "var notebookContainer = gd.closest('#notebook-container');\n",
              "if (notebookContainer) {{\n",
              "    x.observe(notebookContainer, {childList: true});\n",
              "}}\n",
              "\n",
              "// Listen for the clearing of the current output cell\n",
              "var outputEl = gd.closest('.output');\n",
              "if (outputEl) {{\n",
              "    x.observe(outputEl, {childList: true});\n",
              "}}\n",
              "\n",
              "                        })                };                            </script>        </div>\n",
              "</body>\n",
              "</html>"
            ]
          },
          "metadata": {}
        }
      ],
      "source": [
        "fig=px.pie(data,values='AP',names=\"TEY\",hover_data=['AP','TEY'],labels={'AP','TEY'})\n",
        "fig.update_layout(title='<b> values lie between 0 and 1 for AP <b>',showlegend=True)\n",
        "fig.show()"
      ]
    },
    {
      "cell_type": "code",
      "execution_count": 18,
      "metadata": {
        "id": "_ym6l0LZN5ki"
      },
      "outputs": [],
      "source": [
        "import seaborn as sns"
      ]
    },
    {
      "cell_type": "code",
      "execution_count": 19,
      "metadata": {
        "colab": {
          "base_uri": "https://localhost:8080/",
          "height": 449
        },
        "id": "xjbEFiplErqH",
        "outputId": "c69fefe9-80be-4dd9-dacd-e5c2a5eb4b53"
      },
      "outputs": [
        {
          "output_type": "display_data",
          "data": {
            "text/plain": [
              "<Figure size 640x480 with 1 Axes>"
            ],
            "image/png": "[encoded data removed]"
          },
          "metadata": {}
        }
      ],
      "source": [
        "fig=sns.stripplot(data,x='TEY',y='AH')"
      ]
    },
    {
      "cell_type": "code",
      "execution_count": 20,
      "metadata": {
        "id": "xO1cmnKcEuuP"
      },
      "outputs": [],
      "source": [
        "x=data.iloc[:,:-1]\n",
        "y=data.iloc[:,-1]"
      ]
    },
    {
      "cell_type": "code",
      "execution_count": 21,
      "metadata": {
        "id": "Jgjdy8G-HRh3"
      },
      "outputs": [],
      "source": [
        "x_train,x_test,y_train,y_test=train_test_split(x,y,test_size=0.3)"
      ]
    },
    {
      "cell_type": "code",
      "execution_count": 22,
      "metadata": {
        "colab": {
          "base_uri": "https://localhost:8080/"
        },
        "id": "N_gRezMYHUU4",
        "outputId": "c1a3fbba-4348-41c3-be3f-b9da1a3e9a3d"
      },
      "outputs": [
        {
          "output_type": "execute_result",
          "data": {
            "text/plain": [
              "((10527, 3), (4512, 3))"
            ]
          },
          "metadata": {},
          "execution_count": 22
        }
      ],
      "source": [
        "x_train.shape,x_test.shape"
      ]
    },
    {
      "cell_type": "code",
      "execution_count": 23,
      "metadata": {
        "colab": {
          "base_uri": "https://localhost:8080/"
        },
        "id": "l-iOAdK0HWO7",
        "outputId": "3cc23075-e7bc-418b-e44e-b243a893882a"
      },
      "outputs": [
        {
          "output_type": "execute_result",
          "data": {
            "text/plain": [
              "((10527,), (4512,))"
            ]
          },
          "metadata": {},
          "execution_count": 23
        }
      ],
      "source": [
        "y_train.shape,y_test.shape"
      ]
    },
    {
      "cell_type": "code",
      "execution_count": 24,
      "metadata": {
        "colab": {
          "base_uri": "https://localhost:8080/"
        },
        "id": "MPjHhUymHXnP",
        "outputId": "107f5e06-5a6d-453d-f2ca-be9cb1d07ebc"
      },
      "outputs": [
        {
          "output_type": "execute_result",
          "data": {
            "text/plain": [
              "array([[0.67599334, 0.4721346 , 0.80476581],\n",
              "       [0.34960342, 0.70136698, 0.85874025],\n",
              "       [0.70738257, 0.55415352, 0.64767864],\n",
              "       ...,\n",
              "       [0.61635379, 0.56466877, 0.88535377],\n",
              "       [0.45748938, 0.40483701, 0.91187936],\n",
              "       [0.50399196, 0.57518402, 0.85852043]])"
            ]
          },
          "metadata": {},
          "execution_count": 24
        }
      ],
      "source": [
        "from sklearn.preprocessing import MinMaxScaler\n",
        "scale = MinMaxScaler()\n",
        "X_train = scale.fit_transform(x_train)\n",
        "X_train"
      ]
    },
    {
      "cell_type": "code",
      "execution_count": 25,
      "metadata": {
        "colab": {
          "base_uri": "https://localhost:8080/"
        },
        "id": "gm-RR1X2Hb4w",
        "outputId": "51d005e3-d087-4410-ad84-6902d81154a7"
      },
      "outputs": [
        {
          "output_type": "execute_result",
          "data": {
            "text/plain": [
              "array([[0.27592768, 0.41176471, 0.78867957],\n",
              "       [0.91926892, 0.35315051, 0.3728241 ],\n",
              "       [0.23444549, 0.87021143, 0.64990838],\n",
              "       ...,\n",
              "       [0.84466047, 0.44735189, 0.16555486],\n",
              "       [0.51459311, 0.5750471 , 0.88398992],\n",
              "       [0.1382242 , 0.72576931, 0.88036819]])"
            ]
          },
          "metadata": {},
          "execution_count": 25
        }
      ],
      "source": [
        "x_test=scale.fit_transform(x_test)\n",
        "x_test"
      ]
    },
    {
      "cell_type": "code",
      "execution_count": 26,
      "metadata": {
        "id": "cGo1ZagNHfk4"
      },
      "outputs": [],
      "source": [
        "def create_model():\n",
        "  model=Sequential()\n",
        "  model.add(Dense(12,input_dim=3,kernel_initializer='uniform',activation='relu'))\n",
        "  model.add(Dropout(0.2))\n",
        "  model.add(Dense(8,kernel_initializer='uniform',activation='relu'))\n",
        "  model.add(Dropout(0.2))\n",
        "  model.add(Dense(1,kernel_initializer='uniform',activation='sigmoid'))\n",
        "  optmizer =RMSprop(0.03)\n",
        "  model.compile(loss='mean_squared_error',metrics='accuracy',optimizer=optmizer)\n",
        "  return model"
      ]
    },
    {
      "cell_type": "code",
      "execution_count": 27,
      "metadata": {
        "colab": {
          "base_uri": "https://localhost:8080/"
        },
        "id": "_VliF6ljHiWC",
        "outputId": "33bcf09b-832a-4d2a-a850-03edb6545965"
      },
      "outputs": [
        {
          "metadata": {
            "tags": null
          },
          "name": "stdout",
          "output_type": "stream",
          "text": [
            "Fitting 5 folds for each of 8 candidates, totalling 40 fits\n"
          ]
        },
        {
          "metadata": {
            "tags": null
          },
          "name": "stderr",
          "output_type": "stream",
          "text": [
            "/usr/local/lib/python3.10/dist-packages/scikeras/wrappers.py:915: UserWarning:\n",
            "\n",
            "``build_fn`` will be renamed to ``model`` in a future release, at which point use of ``build_fn`` will raise an Error instead.\n",
            "\n"
          ]
        },
        {
          "metadata": {
            "tags": null
          },
          "name": "stdout",
          "output_type": "stream",
          "text": [
            "[CV 1/5] END ..........batch_size=10, epochs=50;, score=0.800 total time= 1.4min\n"
          ]
        },
        {
          "metadata": {
            "tags": null
          },
          "name": "stderr",
          "output_type": "stream",
          "text": [
            "/usr/local/lib/python3.10/dist-packages/scikeras/wrappers.py:915: UserWarning:\n",
            "\n",
            "``build_fn`` will be renamed to ``model`` in a future release, at which point use of ``build_fn`` will raise an Error instead.\n",
            "\n"
          ]
        },
        {
          "metadata": {
            "tags": null
          },
          "name": "stdout",
          "output_type": "stream",
          "text": [
            "[CV 2/5] END ..........batch_size=10, epochs=50;, score=0.813 total time= 1.4min\n"
          ]
        },
        {
          "metadata": {
            "tags": null
          },
          "name": "stderr",
          "output_type": "stream",
          "text": [
            "/usr/local/lib/python3.10/dist-packages/scikeras/wrappers.py:915: UserWarning:\n",
            "\n",
            "``build_fn`` will be renamed to ``model`` in a future release, at which point use of ``build_fn`` will raise an Error instead.\n",
            "\n"
          ]
        },
        {
          "metadata": {
            "tags": null
          },
          "name": "stdout",
          "output_type": "stream",
          "text": [
            "[CV 3/5] END ..........batch_size=10, epochs=50;, score=0.809 total time= 1.1min\n"
          ]
        },
        {
          "metadata": {
            "tags": null
          },
          "name": "stderr",
          "output_type": "stream",
          "text": [
            "/usr/local/lib/python3.10/dist-packages/scikeras/wrappers.py:915: UserWarning:\n",
            "\n",
            "``build_fn`` will be renamed to ``model`` in a future release, at which point use of ``build_fn`` will raise an Error instead.\n",
            "\n"
          ]
        },
        {
          "metadata": {
            "tags": null
          },
          "name": "stdout",
          "output_type": "stream",
          "text": [
            "[CV 4/5] END ..........batch_size=10, epochs=50;, score=0.813 total time= 1.1min\n"
          ]
        },
        {
          "metadata": {
            "tags": null
          },
          "name": "stderr",
          "output_type": "stream",
          "text": [
            "/usr/local/lib/python3.10/dist-packages/scikeras/wrappers.py:915: UserWarning:\n",
            "\n",
            "``build_fn`` will be renamed to ``model`` in a future release, at which point use of ``build_fn`` will raise an Error instead.\n",
            "\n"
          ]
        },
        {
          "metadata": {
            "tags": null
          },
          "name": "stdout",
          "output_type": "stream",
          "text": [
            "[CV 5/5] END ..........batch_size=10, epochs=50;, score=0.813 total time= 1.4min\n"
          ]
        },
        {
          "metadata": {
            "tags": null
          },
          "name": "stderr",
          "output_type": "stream",
          "text": [
            "/usr/local/lib/python3.10/dist-packages/scikeras/wrappers.py:915: UserWarning:\n",
            "\n",
            "``build_fn`` will be renamed to ``model`` in a future release, at which point use of ``build_fn`` will raise an Error instead.\n",
            "\n"
          ]
        },
        {
          "metadata": {
            "tags": null
          },
          "name": "stdout",
          "output_type": "stream",
          "text": [
            "[CV 1/5] END .........batch_size=10, epochs=100;, score=0.800 total time= 2.1min\n"
          ]
        },
        {
          "metadata": {
            "tags": null
          },
          "name": "stderr",
          "output_type": "stream",
          "text": [
            "/usr/local/lib/python3.10/dist-packages/scikeras/wrappers.py:915: UserWarning:\n",
            "\n",
            "``build_fn`` will be renamed to ``model`` in a future release, at which point use of ``build_fn`` will raise an Error instead.\n",
            "\n"
          ]
        },
        {
          "metadata": {
            "tags": null
          },
          "name": "stdout",
          "output_type": "stream",
          "text": [
            "[CV 2/5] END .........batch_size=10, epochs=100;, score=0.813 total time= 2.1min\n"
          ]
        },
        {
          "metadata": {
            "tags": null
          },
          "name": "stderr",
          "output_type": "stream",
          "text": [
            "/usr/local/lib/python3.10/dist-packages/scikeras/wrappers.py:915: UserWarning:\n",
            "\n",
            "``build_fn`` will be renamed to ``model`` in a future release, at which point use of ``build_fn`` will raise an Error instead.\n",
            "\n"
          ]
        },
        {
          "metadata": {
            "tags": null
          },
          "name": "stdout",
          "output_type": "stream",
          "text": [
            "[CV 3/5] END .........batch_size=10, epochs=100;, score=0.809 total time= 2.1min\n"
          ]
        },
        {
          "metadata": {
            "tags": null
          },
          "name": "stderr",
          "output_type": "stream",
          "text": [
            "/usr/local/lib/python3.10/dist-packages/scikeras/wrappers.py:915: UserWarning:\n",
            "\n",
            "``build_fn`` will be renamed to ``model`` in a future release, at which point use of ``build_fn`` will raise an Error instead.\n",
            "\n"
          ]
        },
        {
          "metadata": {
            "tags": null
          },
          "name": "stdout",
          "output_type": "stream",
          "text": [
            "[CV 4/5] END .........batch_size=10, epochs=100;, score=0.813 total time= 2.4min\n"
          ]
        },
        {
          "metadata": {
            "tags": null
          },
          "name": "stderr",
          "output_type": "stream",
          "text": [
            "/usr/local/lib/python3.10/dist-packages/scikeras/wrappers.py:915: UserWarning:\n",
            "\n",
            "``build_fn`` will be renamed to ``model`` in a future release, at which point use of ``build_fn`` will raise an Error instead.\n",
            "\n"
          ]
        },
        {
          "metadata": {
            "tags": null
          },
          "name": "stdout",
          "output_type": "stream",
          "text": [
            "[CV 5/5] END .........batch_size=10, epochs=100;, score=0.813 total time= 2.4min\n"
          ]
        },
        {
          "metadata": {
            "tags": null
          },
          "name": "stderr",
          "output_type": "stream",
          "text": [
            "/usr/local/lib/python3.10/dist-packages/scikeras/wrappers.py:915: UserWarning:\n",
            "\n",
            "``build_fn`` will be renamed to ``model`` in a future release, at which point use of ``build_fn`` will raise an Error instead.\n",
            "\n"
          ]
        },
        {
          "metadata": {
            "tags": null
          },
          "name": "stdout",
          "output_type": "stream",
          "text": [
            "[CV 1/5] END .........batch_size=10, epochs=150;, score=0.800 total time= 3.4min\n"
          ]
        },
        {
          "metadata": {
            "tags": null
          },
          "name": "stderr",
          "output_type": "stream",
          "text": [
            "/usr/local/lib/python3.10/dist-packages/scikeras/wrappers.py:915: UserWarning:\n",
            "\n",
            "``build_fn`` will be renamed to ``model`` in a future release, at which point use of ``build_fn`` will raise an Error instead.\n",
            "\n"
          ]
        },
        {
          "metadata": {
            "tags": null
          },
          "name": "stdout",
          "output_type": "stream",
          "text": [
            "[CV 2/5] END .........batch_size=10, epochs=150;, score=0.813 total time= 3.4min\n"
          ]
        },
        {
          "metadata": {
            "tags": null
          },
          "name": "stderr",
          "output_type": "stream",
          "text": [
            "/usr/local/lib/python3.10/dist-packages/scikeras/wrappers.py:915: UserWarning:\n",
            "\n",
            "``build_fn`` will be renamed to ``model`` in a future release, at which point use of ``build_fn`` will raise an Error instead.\n",
            "\n"
          ]
        },
        {
          "metadata": {
            "tags": null
          },
          "name": "stdout",
          "output_type": "stream",
          "text": [
            "[CV 3/5] END .........batch_size=10, epochs=150;, score=0.809 total time= 3.4min\n"
          ]
        },
        {
          "metadata": {
            "tags": null
          },
          "name": "stderr",
          "output_type": "stream",
          "text": [
            "/usr/local/lib/python3.10/dist-packages/scikeras/wrappers.py:915: UserWarning:\n",
            "\n",
            "``build_fn`` will be renamed to ``model`` in a future release, at which point use of ``build_fn`` will raise an Error instead.\n",
            "\n"
          ]
        },
        {
          "metadata": {
            "tags": null
          },
          "name": "stdout",
          "output_type": "stream",
          "text": [
            "[CV 4/5] END .........batch_size=10, epochs=150;, score=0.813 total time= 3.4min\n"
          ]
        },
        {
          "metadata": {
            "tags": null
          },
          "name": "stderr",
          "output_type": "stream",
          "text": [
            "/usr/local/lib/python3.10/dist-packages/scikeras/wrappers.py:915: UserWarning:\n",
            "\n",
            "``build_fn`` will be renamed to ``model`` in a future release, at which point use of ``build_fn`` will raise an Error instead.\n",
            "\n"
          ]
        },
        {
          "metadata": {
            "tags": null
          },
          "name": "stdout",
          "output_type": "stream",
          "text": [
            "[CV 5/5] END .........batch_size=10, epochs=150;, score=0.813 total time= 3.2min\n"
          ]
        },
        {
          "metadata": {
            "tags": null
          },
          "name": "stderr",
          "output_type": "stream",
          "text": [
            "/usr/local/lib/python3.10/dist-packages/scikeras/wrappers.py:915: UserWarning:\n",
            "\n",
            "``build_fn`` will be renamed to ``model`` in a future release, at which point use of ``build_fn`` will raise an Error instead.\n",
            "\n"
          ]
        },
        {
          "metadata": {
            "tags": null
          },
          "name": "stdout",
          "output_type": "stream",
          "text": [
            "[CV 1/5] END .........batch_size=10, epochs=200;, score=0.800 total time= 4.4min\n"
          ]
        },
        {
          "metadata": {
            "tags": null
          },
          "name": "stderr",
          "output_type": "stream",
          "text": [
            "/usr/local/lib/python3.10/dist-packages/scikeras/wrappers.py:915: UserWarning:\n",
            "\n",
            "``build_fn`` will be renamed to ``model`` in a future release, at which point use of ``build_fn`` will raise an Error instead.\n",
            "\n"
          ]
        },
        {
          "metadata": {
            "tags": null
          },
          "name": "stdout",
          "output_type": "stream",
          "text": [
            "[CV 2/5] END .........batch_size=10, epochs=200;, score=0.813 total time= 4.3min\n"
          ]
        },
        {
          "metadata": {
            "tags": null
          },
          "name": "stderr",
          "output_type": "stream",
          "text": [
            "/usr/local/lib/python3.10/dist-packages/scikeras/wrappers.py:915: UserWarning:\n",
            "\n",
            "``build_fn`` will be renamed to ``model`` in a future release, at which point use of ``build_fn`` will raise an Error instead.\n",
            "\n"
          ]
        },
        {
          "metadata": {
            "tags": null
          },
          "name": "stdout",
          "output_type": "stream",
          "text": [
            "[CV 3/5] END .........batch_size=10, epochs=200;, score=0.809 total time= 4.2min\n"
          ]
        },
        {
          "metadata": {
            "tags": null
          },
          "name": "stderr",
          "output_type": "stream",
          "text": [
            "/usr/local/lib/python3.10/dist-packages/scikeras/wrappers.py:915: UserWarning:\n",
            "\n",
            "``build_fn`` will be renamed to ``model`` in a future release, at which point use of ``build_fn`` will raise an Error instead.\n",
            "\n"
          ]
        },
        {
          "metadata": {
            "tags": null
          },
          "name": "stdout",
          "output_type": "stream",
          "text": [
            "[CV 4/5] END .........batch_size=10, epochs=200;, score=0.813 total time= 4.4min\n"
          ]
        },
        {
          "metadata": {
            "tags": null
          },
          "name": "stderr",
          "output_type": "stream",
          "text": [
            "/usr/local/lib/python3.10/dist-packages/scikeras/wrappers.py:915: UserWarning:\n",
            "\n",
            "``build_fn`` will be renamed to ``model`` in a future release, at which point use of ``build_fn`` will raise an Error instead.\n",
            "\n"
          ]
        },
        {
          "output_type": "stream",
          "name": "stdout",
          "text": [
            "[CV 5/5] END .........batch_size=10, epochs=200;, score=0.813 total time= 4.4min\n"
          ]
        },
        {
          "output_type": "stream",
          "name": "stderr",
          "text": [
            "/usr/local/lib/python3.10/dist-packages/scikeras/wrappers.py:915: UserWarning:\n",
            "\n",
            "``build_fn`` will be renamed to ``model`` in a future release, at which point use of ``build_fn`` will raise an Error instead.\n",
            "\n"
          ]
        },
        {
          "output_type": "stream",
          "name": "stdout",
          "text": [
            "[CV 1/5] END ..........batch_size=20, epochs=50;, score=0.800 total time=  32.4s\n"
          ]
        },
        {
          "output_type": "stream",
          "name": "stderr",
          "text": [
            "/usr/local/lib/python3.10/dist-packages/scikeras/wrappers.py:915: UserWarning:\n",
            "\n",
            "``build_fn`` will be renamed to ``model`` in a future release, at which point use of ``build_fn`` will raise an Error instead.\n",
            "\n"
          ]
        },
        {
          "output_type": "stream",
          "name": "stdout",
          "text": [
            "[CV 2/5] END ..........batch_size=20, epochs=50;, score=0.813 total time=  32.6s\n"
          ]
        },
        {
          "output_type": "stream",
          "name": "stderr",
          "text": [
            "/usr/local/lib/python3.10/dist-packages/scikeras/wrappers.py:915: UserWarning:\n",
            "\n",
            "``build_fn`` will be renamed to ``model`` in a future release, at which point use of ``build_fn`` will raise an Error instead.\n",
            "\n"
          ]
        },
        {
          "output_type": "stream",
          "name": "stdout",
          "text": [
            "[CV 3/5] END ..........batch_size=20, epochs=50;, score=0.809 total time=  32.6s\n"
          ]
        },
        {
          "output_type": "stream",
          "name": "stderr",
          "text": [
            "/usr/local/lib/python3.10/dist-packages/scikeras/wrappers.py:915: UserWarning:\n",
            "\n",
            "``build_fn`` will be renamed to ``model`` in a future release, at which point use of ``build_fn`` will raise an Error instead.\n",
            "\n"
          ]
        },
        {
          "output_type": "stream",
          "name": "stdout",
          "text": [
            "[CV 4/5] END ..........batch_size=20, epochs=50;, score=0.813 total time=  32.9s\n"
          ]
        },
        {
          "output_type": "stream",
          "name": "stderr",
          "text": [
            "/usr/local/lib/python3.10/dist-packages/scikeras/wrappers.py:915: UserWarning:\n",
            "\n",
            "``build_fn`` will be renamed to ``model`` in a future release, at which point use of ``build_fn`` will raise an Error instead.\n",
            "\n"
          ]
        },
        {
          "output_type": "stream",
          "name": "stdout",
          "text": [
            "[CV 5/5] END ..........batch_size=20, epochs=50;, score=0.813 total time=  32.7s\n"
          ]
        },
        {
          "output_type": "stream",
          "name": "stderr",
          "text": [
            "/usr/local/lib/python3.10/dist-packages/scikeras/wrappers.py:915: UserWarning:\n",
            "\n",
            "``build_fn`` will be renamed to ``model`` in a future release, at which point use of ``build_fn`` will raise an Error instead.\n",
            "\n"
          ]
        },
        {
          "output_type": "stream",
          "name": "stdout",
          "text": [
            "[CV 1/5] END .........batch_size=20, epochs=100;, score=0.800 total time= 1.1min\n"
          ]
        },
        {
          "output_type": "stream",
          "name": "stderr",
          "text": [
            "/usr/local/lib/python3.10/dist-packages/scikeras/wrappers.py:915: UserWarning:\n",
            "\n",
            "``build_fn`` will be renamed to ``model`` in a future release, at which point use of ``build_fn`` will raise an Error instead.\n",
            "\n"
          ]
        },
        {
          "output_type": "stream",
          "name": "stdout",
          "text": [
            "[CV 2/5] END .........batch_size=20, epochs=100;, score=0.813 total time= 1.4min\n"
          ]
        },
        {
          "output_type": "stream",
          "name": "stderr",
          "text": [
            "/usr/local/lib/python3.10/dist-packages/scikeras/wrappers.py:915: UserWarning:\n",
            "\n",
            "``build_fn`` will be renamed to ``model`` in a future release, at which point use of ``build_fn`` will raise an Error instead.\n",
            "\n"
          ]
        },
        {
          "output_type": "stream",
          "name": "stdout",
          "text": [
            "[CV 3/5] END .........batch_size=20, epochs=100;, score=0.809 total time= 1.1min\n"
          ]
        },
        {
          "output_type": "stream",
          "name": "stderr",
          "text": [
            "/usr/local/lib/python3.10/dist-packages/scikeras/wrappers.py:915: UserWarning:\n",
            "\n",
            "``build_fn`` will be renamed to ``model`` in a future release, at which point use of ``build_fn`` will raise an Error instead.\n",
            "\n"
          ]
        },
        {
          "output_type": "stream",
          "name": "stdout",
          "text": [
            "[CV 4/5] END .........batch_size=20, epochs=100;, score=0.813 total time= 1.4min\n"
          ]
        },
        {
          "output_type": "stream",
          "name": "stderr",
          "text": [
            "/usr/local/lib/python3.10/dist-packages/scikeras/wrappers.py:915: UserWarning:\n",
            "\n",
            "``build_fn`` will be renamed to ``model`` in a future release, at which point use of ``build_fn`` will raise an Error instead.\n",
            "\n"
          ]
        },
        {
          "output_type": "stream",
          "name": "stdout",
          "text": [
            "[CV 5/5] END .........batch_size=20, epochs=100;, score=0.813 total time= 1.4min\n"
          ]
        },
        {
          "output_type": "stream",
          "name": "stderr",
          "text": [
            "/usr/local/lib/python3.10/dist-packages/scikeras/wrappers.py:915: UserWarning:\n",
            "\n",
            "``build_fn`` will be renamed to ``model`` in a future release, at which point use of ``build_fn`` will raise an Error instead.\n",
            "\n"
          ]
        },
        {
          "output_type": "stream",
          "name": "stdout",
          "text": [
            "[CV 1/5] END .........batch_size=20, epochs=150;, score=0.800 total time= 2.4min\n"
          ]
        },
        {
          "output_type": "stream",
          "name": "stderr",
          "text": [
            "/usr/local/lib/python3.10/dist-packages/scikeras/wrappers.py:915: UserWarning:\n",
            "\n",
            "``build_fn`` will be renamed to ``model`` in a future release, at which point use of ``build_fn`` will raise an Error instead.\n",
            "\n"
          ]
        },
        {
          "output_type": "stream",
          "name": "stdout",
          "text": [
            "[CV 2/5] END .........batch_size=20, epochs=150;, score=0.813 total time= 2.4min\n"
          ]
        },
        {
          "output_type": "stream",
          "name": "stderr",
          "text": [
            "/usr/local/lib/python3.10/dist-packages/scikeras/wrappers.py:915: UserWarning:\n",
            "\n",
            "``build_fn`` will be renamed to ``model`` in a future release, at which point use of ``build_fn`` will raise an Error instead.\n",
            "\n"
          ]
        },
        {
          "output_type": "stream",
          "name": "stdout",
          "text": [
            "[CV 3/5] END .........batch_size=20, epochs=150;, score=0.809 total time= 2.4min\n"
          ]
        },
        {
          "output_type": "stream",
          "name": "stderr",
          "text": [
            "/usr/local/lib/python3.10/dist-packages/scikeras/wrappers.py:915: UserWarning:\n",
            "\n",
            "``build_fn`` will be renamed to ``model`` in a future release, at which point use of ``build_fn`` will raise an Error instead.\n",
            "\n"
          ]
        },
        {
          "output_type": "stream",
          "name": "stdout",
          "text": [
            "[CV 4/5] END .........batch_size=20, epochs=150;, score=0.813 total time= 2.4min\n"
          ]
        },
        {
          "output_type": "stream",
          "name": "stderr",
          "text": [
            "/usr/local/lib/python3.10/dist-packages/scikeras/wrappers.py:915: UserWarning:\n",
            "\n",
            "``build_fn`` will be renamed to ``model`` in a future release, at which point use of ``build_fn`` will raise an Error instead.\n",
            "\n"
          ]
        },
        {
          "output_type": "stream",
          "name": "stdout",
          "text": [
            "[CV 5/5] END .........batch_size=20, epochs=150;, score=0.813 total time= 1.6min\n"
          ]
        },
        {
          "output_type": "stream",
          "name": "stderr",
          "text": [
            "/usr/local/lib/python3.10/dist-packages/scikeras/wrappers.py:915: UserWarning:\n",
            "\n",
            "``build_fn`` will be renamed to ``model`` in a future release, at which point use of ``build_fn`` will raise an Error instead.\n",
            "\n"
          ]
        },
        {
          "output_type": "stream",
          "name": "stdout",
          "text": [
            "[CV 1/5] END .........batch_size=20, epochs=200;, score=0.800 total time= 2.2min\n"
          ]
        },
        {
          "output_type": "stream",
          "name": "stderr",
          "text": [
            "/usr/local/lib/python3.10/dist-packages/scikeras/wrappers.py:915: UserWarning:\n",
            "\n",
            "``build_fn`` will be renamed to ``model`` in a future release, at which point use of ``build_fn`` will raise an Error instead.\n",
            "\n"
          ]
        },
        {
          "output_type": "stream",
          "name": "stdout",
          "text": [
            "[CV 2/5] END .........batch_size=20, epochs=200;, score=0.813 total time= 2.1min\n"
          ]
        },
        {
          "output_type": "stream",
          "name": "stderr",
          "text": [
            "/usr/local/lib/python3.10/dist-packages/scikeras/wrappers.py:915: UserWarning:\n",
            "\n",
            "``build_fn`` will be renamed to ``model`` in a future release, at which point use of ``build_fn`` will raise an Error instead.\n",
            "\n"
          ]
        },
        {
          "output_type": "stream",
          "name": "stdout",
          "text": [
            "[CV 3/5] END .........batch_size=20, epochs=200;, score=0.809 total time= 2.4min\n"
          ]
        },
        {
          "output_type": "stream",
          "name": "stderr",
          "text": [
            "/usr/local/lib/python3.10/dist-packages/scikeras/wrappers.py:915: UserWarning:\n",
            "\n",
            "``build_fn`` will be renamed to ``model`` in a future release, at which point use of ``build_fn`` will raise an Error instead.\n",
            "\n"
          ]
        },
        {
          "output_type": "stream",
          "name": "stdout",
          "text": [
            "[CV 4/5] END .........batch_size=20, epochs=200;, score=0.813 total time= 2.4min\n"
          ]
        },
        {
          "output_type": "stream",
          "name": "stderr",
          "text": [
            "/usr/local/lib/python3.10/dist-packages/scikeras/wrappers.py:915: UserWarning:\n",
            "\n",
            "``build_fn`` will be renamed to ``model`` in a future release, at which point use of ``build_fn`` will raise an Error instead.\n",
            "\n"
          ]
        },
        {
          "output_type": "stream",
          "name": "stdout",
          "text": [
            "[CV 5/5] END .........batch_size=20, epochs=200;, score=0.813 total time= 2.1min\n"
          ]
        },
        {
          "output_type": "stream",
          "name": "stderr",
          "text": [
            "/usr/local/lib/python3.10/dist-packages/scikeras/wrappers.py:915: UserWarning:\n",
            "\n",
            "``build_fn`` will be renamed to ``model`` in a future release, at which point use of ``build_fn`` will raise an Error instead.\n",
            "\n"
          ]
        }
      ],
      "source": [
        "model=KerasClassifier(build_fn=create_model,verbose=0)\n",
        "batch_size=[10,20]\n",
        "epochs=[50,100,150,200]\n",
        "param_grid=dict(batch_size=batch_size,epochs=epochs)\n",
        "grid_search=GridSearchCV(estimator=model,param_grid=param_grid,cv=KFold(),verbose=5)\n",
        "result=grid_search.fit(X_train,y_train)"
      ]
    },
    {
      "cell_type": "code",
      "execution_count": 28,
      "metadata": {
        "id": "gmkVjPgwHk0w",
        "colab": {
          "base_uri": "https://localhost:8080/"
        },
        "outputId": "6852a4ff-db9c-4041-865c-46f089a888d1"
      },
      "outputs": [
        {
          "metadata": {
            "tags": null
          },
          "name": "stdout",
          "output_type": "stream",
          "text": [
            "0.8095379562521288 {'batch_size': 10, 'epochs': 50}\n"
          ]
        }
      ],
      "source": [
        "print(result.best_score_,result.best_params_)"
      ]
    },
    {
      "cell_type": "markdown",
      "source": [
        "###Tuning Hyperparameter:Dropout and Learning Rate"
      ],
      "metadata": {
        "id": "_8rHdXxTEHkT"
      }
    },
    {
      "cell_type": "code",
      "source": [
        "def create_model(dropout_rate,learning_rate):\n",
        "  model=Sequential()\n",
        "  model.add(Dense(12,input_dim=3,kernel_initializer='uniform',activation='relu'))\n",
        "  model.add(Dropout(dropout_rate))\n",
        "  model.add(Dense(8,kernel_initializer='uniform',activation='relu'))\n",
        "  model.add(Dropout(dropout_rate))\n",
        "  model.add(Dense(1,kernel_initializer='uniform',activation='sigmoid'))\n",
        "  adam=Adam(learning_rate=learning_rate)\n",
        "  model.compile(loss='binary_crossentropy',metrics='accuracy',optimizer=adam)\n",
        "  return model"
      ],
      "metadata": {
        "id": "XU6c4wM9EIVI"
      },
      "execution_count": 35,
      "outputs": []
    },
    {
      "cell_type": "code",
      "source": [
        "model=KerasClassifier(build_fn=create_model,verbose=0,batch_size=10,epochs=20,dropout_rate=0.1,learning_rate=0.001)\n",
        "dropout_rate=[0.1,0.3]\n",
        "learning_rate=[0.001,0.01]\n",
        "param_grid=dict(dropout_rate=dropout_rate,learning_rate=learning_rate)\n",
        "grid_search=GridSearchCV(estimator=model,param_grid=param_grid,cv=KFold(),verbose=5)\n",
        "result=grid_search.fit(X_train,y_train)"
      ],
      "metadata": {
        "colab": {
          "base_uri": "https://localhost:8080/"
        },
        "id": "jGK3I2PIE4RL",
        "outputId": "62803704-ffbe-44c6-8363-66ad31f1f6f6"
      },
      "execution_count": 37,
      "outputs": [
        {
          "output_type": "stream",
          "name": "stdout",
          "text": [
            "Fitting 5 folds for each of 4 candidates, totalling 20 fits\n"
          ]
        },
        {
          "output_type": "stream",
          "name": "stderr",
          "text": [
            "/usr/local/lib/python3.10/dist-packages/scikeras/wrappers.py:915: UserWarning:\n",
            "\n",
            "``build_fn`` will be renamed to ``model`` in a future release, at which point use of ``build_fn`` will raise an Error instead.\n",
            "\n"
          ]
        },
        {
          "output_type": "stream",
          "name": "stdout",
          "text": [
            "[CV 1/5] END dropout_rate=0.1, learning_rate=0.001;, score=0.800 total time=  29.2s\n"
          ]
        },
        {
          "output_type": "stream",
          "name": "stderr",
          "text": [
            "/usr/local/lib/python3.10/dist-packages/scikeras/wrappers.py:915: UserWarning:\n",
            "\n",
            "``build_fn`` will be renamed to ``model`` in a future release, at which point use of ``build_fn`` will raise an Error instead.\n",
            "\n"
          ]
        },
        {
          "output_type": "stream",
          "name": "stdout",
          "text": [
            "[CV 2/5] END dropout_rate=0.1, learning_rate=0.001;, score=0.813 total time=  30.7s\n"
          ]
        },
        {
          "output_type": "stream",
          "name": "stderr",
          "text": [
            "/usr/local/lib/python3.10/dist-packages/scikeras/wrappers.py:915: UserWarning:\n",
            "\n",
            "``build_fn`` will be renamed to ``model`` in a future release, at which point use of ``build_fn`` will raise an Error instead.\n",
            "\n"
          ]
        },
        {
          "output_type": "stream",
          "name": "stdout",
          "text": [
            "[CV 3/5] END dropout_rate=0.1, learning_rate=0.001;, score=0.809 total time=  42.3s\n"
          ]
        },
        {
          "output_type": "stream",
          "name": "stderr",
          "text": [
            "/usr/local/lib/python3.10/dist-packages/scikeras/wrappers.py:915: UserWarning:\n",
            "\n",
            "``build_fn`` will be renamed to ``model`` in a future release, at which point use of ``build_fn`` will raise an Error instead.\n",
            "\n"
          ]
        },
        {
          "output_type": "stream",
          "name": "stdout",
          "text": [
            "[CV 4/5] END dropout_rate=0.1, learning_rate=0.001;, score=0.813 total time=  30.3s\n"
          ]
        },
        {
          "output_type": "stream",
          "name": "stderr",
          "text": [
            "/usr/local/lib/python3.10/dist-packages/scikeras/wrappers.py:915: UserWarning:\n",
            "\n",
            "``build_fn`` will be renamed to ``model`` in a future release, at which point use of ``build_fn`` will raise an Error instead.\n",
            "\n"
          ]
        },
        {
          "output_type": "stream",
          "name": "stdout",
          "text": [
            "[CV 5/5] END dropout_rate=0.1, learning_rate=0.001;, score=0.813 total time=  29.3s\n"
          ]
        },
        {
          "output_type": "stream",
          "name": "stderr",
          "text": [
            "/usr/local/lib/python3.10/dist-packages/scikeras/wrappers.py:915: UserWarning:\n",
            "\n",
            "``build_fn`` will be renamed to ``model`` in a future release, at which point use of ``build_fn`` will raise an Error instead.\n",
            "\n"
          ]
        },
        {
          "output_type": "stream",
          "name": "stdout",
          "text": [
            "[CV 1/5] END dropout_rate=0.1, learning_rate=0.01;, score=0.800 total time=  28.2s\n"
          ]
        },
        {
          "output_type": "stream",
          "name": "stderr",
          "text": [
            "/usr/local/lib/python3.10/dist-packages/scikeras/wrappers.py:915: UserWarning:\n",
            "\n",
            "``build_fn`` will be renamed to ``model`` in a future release, at which point use of ``build_fn`` will raise an Error instead.\n",
            "\n"
          ]
        },
        {
          "output_type": "stream",
          "name": "stdout",
          "text": [
            "[CV 2/5] END dropout_rate=0.1, learning_rate=0.01;, score=0.813 total time=  33.7s\n"
          ]
        },
        {
          "output_type": "stream",
          "name": "stderr",
          "text": [
            "/usr/local/lib/python3.10/dist-packages/scikeras/wrappers.py:915: UserWarning:\n",
            "\n",
            "``build_fn`` will be renamed to ``model`` in a future release, at which point use of ``build_fn`` will raise an Error instead.\n",
            "\n"
          ]
        },
        {
          "output_type": "stream",
          "name": "stdout",
          "text": [
            "[CV 3/5] END dropout_rate=0.1, learning_rate=0.01;, score=0.809 total time=  28.4s\n"
          ]
        },
        {
          "output_type": "stream",
          "name": "stderr",
          "text": [
            "/usr/local/lib/python3.10/dist-packages/scikeras/wrappers.py:915: UserWarning:\n",
            "\n",
            "``build_fn`` will be renamed to ``model`` in a future release, at which point use of ``build_fn`` will raise an Error instead.\n",
            "\n"
          ]
        },
        {
          "output_type": "stream",
          "name": "stdout",
          "text": [
            "[CV 4/5] END dropout_rate=0.1, learning_rate=0.01;, score=0.813 total time=  28.0s\n"
          ]
        },
        {
          "output_type": "stream",
          "name": "stderr",
          "text": [
            "/usr/local/lib/python3.10/dist-packages/scikeras/wrappers.py:915: UserWarning:\n",
            "\n",
            "``build_fn`` will be renamed to ``model`` in a future release, at which point use of ``build_fn`` will raise an Error instead.\n",
            "\n"
          ]
        },
        {
          "output_type": "stream",
          "name": "stdout",
          "text": [
            "[CV 5/5] END dropout_rate=0.1, learning_rate=0.01;, score=0.813 total time=  28.2s\n"
          ]
        },
        {
          "output_type": "stream",
          "name": "stderr",
          "text": [
            "/usr/local/lib/python3.10/dist-packages/scikeras/wrappers.py:915: UserWarning:\n",
            "\n",
            "``build_fn`` will be renamed to ``model`` in a future release, at which point use of ``build_fn`` will raise an Error instead.\n",
            "\n"
          ]
        },
        {
          "output_type": "stream",
          "name": "stdout",
          "text": [
            "[CV 1/5] END dropout_rate=0.3, learning_rate=0.001;, score=0.800 total time=  29.1s\n"
          ]
        },
        {
          "output_type": "stream",
          "name": "stderr",
          "text": [
            "/usr/local/lib/python3.10/dist-packages/scikeras/wrappers.py:915: UserWarning:\n",
            "\n",
            "``build_fn`` will be renamed to ``model`` in a future release, at which point use of ``build_fn`` will raise an Error instead.\n",
            "\n"
          ]
        },
        {
          "output_type": "stream",
          "name": "stdout",
          "text": [
            "[CV 2/5] END dropout_rate=0.3, learning_rate=0.001;, score=0.813 total time=  42.4s\n"
          ]
        },
        {
          "output_type": "stream",
          "name": "stderr",
          "text": [
            "/usr/local/lib/python3.10/dist-packages/scikeras/wrappers.py:915: UserWarning:\n",
            "\n",
            "``build_fn`` will be renamed to ``model`` in a future release, at which point use of ``build_fn`` will raise an Error instead.\n",
            "\n"
          ]
        },
        {
          "output_type": "stream",
          "name": "stdout",
          "text": [
            "[CV 3/5] END dropout_rate=0.3, learning_rate=0.001;, score=0.809 total time=  29.3s\n"
          ]
        },
        {
          "output_type": "stream",
          "name": "stderr",
          "text": [
            "/usr/local/lib/python3.10/dist-packages/scikeras/wrappers.py:915: UserWarning:\n",
            "\n",
            "``build_fn`` will be renamed to ``model`` in a future release, at which point use of ``build_fn`` will raise an Error instead.\n",
            "\n"
          ]
        },
        {
          "output_type": "stream",
          "name": "stdout",
          "text": [
            "[CV 4/5] END dropout_rate=0.3, learning_rate=0.001;, score=0.813 total time=  42.3s\n"
          ]
        },
        {
          "output_type": "stream",
          "name": "stderr",
          "text": [
            "/usr/local/lib/python3.10/dist-packages/scikeras/wrappers.py:915: UserWarning:\n",
            "\n",
            "``build_fn`` will be renamed to ``model`` in a future release, at which point use of ``build_fn`` will raise an Error instead.\n",
            "\n"
          ]
        },
        {
          "output_type": "stream",
          "name": "stdout",
          "text": [
            "[CV 5/5] END dropout_rate=0.3, learning_rate=0.001;, score=0.813 total time=  29.3s\n"
          ]
        },
        {
          "output_type": "stream",
          "name": "stderr",
          "text": [
            "/usr/local/lib/python3.10/dist-packages/scikeras/wrappers.py:915: UserWarning:\n",
            "\n",
            "``build_fn`` will be renamed to ``model`` in a future release, at which point use of ``build_fn`` will raise an Error instead.\n",
            "\n"
          ]
        },
        {
          "output_type": "stream",
          "name": "stdout",
          "text": [
            "[CV 1/5] END dropout_rate=0.3, learning_rate=0.01;, score=0.800 total time=  29.1s\n"
          ]
        },
        {
          "output_type": "stream",
          "name": "stderr",
          "text": [
            "/usr/local/lib/python3.10/dist-packages/scikeras/wrappers.py:915: UserWarning:\n",
            "\n",
            "``build_fn`` will be renamed to ``model`` in a future release, at which point use of ``build_fn`` will raise an Error instead.\n",
            "\n"
          ]
        },
        {
          "output_type": "stream",
          "name": "stdout",
          "text": [
            "[CV 2/5] END dropout_rate=0.3, learning_rate=0.01;, score=0.813 total time=  30.1s\n"
          ]
        },
        {
          "output_type": "stream",
          "name": "stderr",
          "text": [
            "/usr/local/lib/python3.10/dist-packages/scikeras/wrappers.py:915: UserWarning:\n",
            "\n",
            "``build_fn`` will be renamed to ``model`` in a future release, at which point use of ``build_fn`` will raise an Error instead.\n",
            "\n"
          ]
        },
        {
          "output_type": "stream",
          "name": "stdout",
          "text": [
            "[CV 3/5] END dropout_rate=0.3, learning_rate=0.01;, score=0.809 total time=  42.3s\n"
          ]
        },
        {
          "output_type": "stream",
          "name": "stderr",
          "text": [
            "/usr/local/lib/python3.10/dist-packages/scikeras/wrappers.py:915: UserWarning:\n",
            "\n",
            "``build_fn`` will be renamed to ``model`` in a future release, at which point use of ``build_fn`` will raise an Error instead.\n",
            "\n"
          ]
        },
        {
          "output_type": "stream",
          "name": "stdout",
          "text": [
            "[CV 4/5] END dropout_rate=0.3, learning_rate=0.01;, score=0.813 total time=  42.7s\n"
          ]
        },
        {
          "output_type": "stream",
          "name": "stderr",
          "text": [
            "/usr/local/lib/python3.10/dist-packages/scikeras/wrappers.py:915: UserWarning:\n",
            "\n",
            "``build_fn`` will be renamed to ``model`` in a future release, at which point use of ``build_fn`` will raise an Error instead.\n",
            "\n"
          ]
        },
        {
          "output_type": "stream",
          "name": "stdout",
          "text": [
            "[CV 5/5] END dropout_rate=0.3, learning_rate=0.01;, score=0.813 total time=  29.3s\n"
          ]
        },
        {
          "output_type": "stream",
          "name": "stderr",
          "text": [
            "/usr/local/lib/python3.10/dist-packages/scikeras/wrappers.py:915: UserWarning:\n",
            "\n",
            "``build_fn`` will be renamed to ``model`` in a future release, at which point use of ``build_fn`` will raise an Error instead.\n",
            "\n"
          ]
        }
      ]
    },
    {
      "cell_type": "code",
      "source": [
        "print(result.best_params_,result.best_score_)"
      ],
      "metadata": {
        "colab": {
          "base_uri": "https://localhost:8080/"
        },
        "id": "QdwD0capF_Ek",
        "outputId": "59129dcf-c78b-41dc-ef4b-c69d4cc10dc2"
      },
      "execution_count": 38,
      "outputs": [
        {
          "output_type": "stream",
          "name": "stdout",
          "text": [
            "{'dropout_rate': 0.1, 'learning_rate': 0.001} 0.8095379562521288\n"
          ]
        }
      ]
    },
    {
      "cell_type": "code",
      "source": [
        "def create_model(activation_Function,init):\n",
        "  model=Sequential()\n",
        "  model.add(Dense(12,input_dim=3,kernel_initializer=init,activation=activation_Function))\n",
        "  model.add(Dropout(0.2))\n",
        "  model.add(Dense(8,kernel_initializer=init,activation=activation_Function))\n",
        "  model.add(Dropout(0.2))\n",
        "  model.add(Dense(1,kernel_initializer=init,activation='sigmoid'))\n",
        "  adam=Adam(learning_rate=0.001)\n",
        "  model.compile(loss='binary_crossentropy',metrics='accuracy',optimizer=adam)\n",
        "  return model"
      ],
      "metadata": {
        "id": "XSFeulhbIWlT"
      },
      "execution_count": 39,
      "outputs": []
    },
    {
      "cell_type": "code",
      "source": [
        "model=KerasClassifier(build_fn=create_model,batch_size=10,epochs=50,verbose=0,activation_Function=['relu','tanh','softmax','linear'],\n",
        "init=['zero','uniform','normal'])\n",
        "param_grid=dict(activation_Function=['relu','tanh','softmax','linear'],init=['zero','uniform','normal'])\n",
        "grid_search=GridSearchCV(estimator=model,param_grid=param_grid,cv=KFold(),verbose=5)\n",
        "result1=grid_search.fit(X_train,y_train)"
      ],
      "metadata": {
        "colab": {
          "base_uri": "https://localhost:8080/"
        },
        "id": "DrJYZv6OIYda",
        "outputId": "b646335b-c181-4431-8b1c-66d1b95b5dd4"
      },
      "execution_count": 40,
      "outputs": [
        {
          "output_type": "stream",
          "name": "stdout",
          "text": [
            "Fitting 5 folds for each of 12 candidates, totalling 60 fits\n"
          ]
        },
        {
          "output_type": "stream",
          "name": "stderr",
          "text": [
            "/usr/local/lib/python3.10/dist-packages/scikeras/wrappers.py:915: UserWarning:\n",
            "\n",
            "``build_fn`` will be renamed to ``model`` in a future release, at which point use of ``build_fn`` will raise an Error instead.\n",
            "\n"
          ]
        },
        {
          "output_type": "stream",
          "name": "stdout",
          "text": [
            "[CV 1/5] END activation_Function=relu, init=zero;, score=0.800 total time= 1.4min\n"
          ]
        },
        {
          "output_type": "stream",
          "name": "stderr",
          "text": [
            "/usr/local/lib/python3.10/dist-packages/scikeras/wrappers.py:915: UserWarning:\n",
            "\n",
            "``build_fn`` will be renamed to ``model`` in a future release, at which point use of ``build_fn`` will raise an Error instead.\n",
            "\n"
          ]
        },
        {
          "output_type": "stream",
          "name": "stdout",
          "text": [
            "[CV 2/5] END activation_Function=relu, init=zero;, score=0.813 total time= 1.4min\n"
          ]
        },
        {
          "output_type": "stream",
          "name": "stderr",
          "text": [
            "/usr/local/lib/python3.10/dist-packages/scikeras/wrappers.py:915: UserWarning:\n",
            "\n",
            "``build_fn`` will be renamed to ``model`` in a future release, at which point use of ``build_fn`` will raise an Error instead.\n",
            "\n"
          ]
        },
        {
          "output_type": "stream",
          "name": "stdout",
          "text": [
            "[CV 3/5] END activation_Function=relu, init=zero;, score=0.809 total time= 1.2min\n"
          ]
        },
        {
          "output_type": "stream",
          "name": "stderr",
          "text": [
            "/usr/local/lib/python3.10/dist-packages/scikeras/wrappers.py:915: UserWarning:\n",
            "\n",
            "``build_fn`` will be renamed to ``model`` in a future release, at which point use of ``build_fn`` will raise an Error instead.\n",
            "\n"
          ]
        },
        {
          "output_type": "stream",
          "name": "stdout",
          "text": [
            "[CV 4/5] END activation_Function=relu, init=zero;, score=0.813 total time= 1.2min\n"
          ]
        },
        {
          "output_type": "stream",
          "name": "stderr",
          "text": [
            "/usr/local/lib/python3.10/dist-packages/scikeras/wrappers.py:915: UserWarning:\n",
            "\n",
            "``build_fn`` will be renamed to ``model`` in a future release, at which point use of ``build_fn`` will raise an Error instead.\n",
            "\n"
          ]
        },
        {
          "output_type": "stream",
          "name": "stdout",
          "text": [
            "[CV 5/5] END activation_Function=relu, init=zero;, score=0.813 total time= 1.4min\n"
          ]
        },
        {
          "output_type": "stream",
          "name": "stderr",
          "text": [
            "/usr/local/lib/python3.10/dist-packages/scikeras/wrappers.py:915: UserWarning:\n",
            "\n",
            "``build_fn`` will be renamed to ``model`` in a future release, at which point use of ``build_fn`` will raise an Error instead.\n",
            "\n"
          ]
        },
        {
          "output_type": "stream",
          "name": "stdout",
          "text": [
            "[CV 1/5] END activation_Function=relu, init=uniform;, score=0.800 total time= 1.1min\n"
          ]
        },
        {
          "output_type": "stream",
          "name": "stderr",
          "text": [
            "/usr/local/lib/python3.10/dist-packages/scikeras/wrappers.py:915: UserWarning:\n",
            "\n",
            "``build_fn`` will be renamed to ``model`` in a future release, at which point use of ``build_fn`` will raise an Error instead.\n",
            "\n"
          ]
        },
        {
          "output_type": "stream",
          "name": "stdout",
          "text": [
            "[CV 2/5] END activation_Function=relu, init=uniform;, score=0.813 total time= 1.4min\n"
          ]
        },
        {
          "output_type": "stream",
          "name": "stderr",
          "text": [
            "/usr/local/lib/python3.10/dist-packages/scikeras/wrappers.py:915: UserWarning:\n",
            "\n",
            "``build_fn`` will be renamed to ``model`` in a future release, at which point use of ``build_fn`` will raise an Error instead.\n",
            "\n"
          ]
        },
        {
          "output_type": "stream",
          "name": "stdout",
          "text": [
            "[CV 3/5] END activation_Function=relu, init=uniform;, score=0.809 total time= 1.2min\n"
          ]
        },
        {
          "output_type": "stream",
          "name": "stderr",
          "text": [
            "/usr/local/lib/python3.10/dist-packages/scikeras/wrappers.py:915: UserWarning:\n",
            "\n",
            "``build_fn`` will be renamed to ``model`` in a future release, at which point use of ``build_fn`` will raise an Error instead.\n",
            "\n"
          ]
        },
        {
          "output_type": "stream",
          "name": "stdout",
          "text": [
            "[CV 4/5] END activation_Function=relu, init=uniform;, score=0.813 total time= 1.4min\n"
          ]
        },
        {
          "output_type": "stream",
          "name": "stderr",
          "text": [
            "/usr/local/lib/python3.10/dist-packages/scikeras/wrappers.py:915: UserWarning:\n",
            "\n",
            "``build_fn`` will be renamed to ``model`` in a future release, at which point use of ``build_fn`` will raise an Error instead.\n",
            "\n"
          ]
        },
        {
          "output_type": "stream",
          "name": "stdout",
          "text": [
            "[CV 5/5] END activation_Function=relu, init=uniform;, score=0.813 total time= 1.2min\n"
          ]
        },
        {
          "output_type": "stream",
          "name": "stderr",
          "text": [
            "/usr/local/lib/python3.10/dist-packages/scikeras/wrappers.py:915: UserWarning:\n",
            "\n",
            "``build_fn`` will be renamed to ``model`` in a future release, at which point use of ``build_fn`` will raise an Error instead.\n",
            "\n"
          ]
        },
        {
          "output_type": "stream",
          "name": "stdout",
          "text": [
            "[CV 1/5] END activation_Function=relu, init=normal;, score=0.800 total time= 1.4min\n"
          ]
        },
        {
          "output_type": "stream",
          "name": "stderr",
          "text": [
            "/usr/local/lib/python3.10/dist-packages/scikeras/wrappers.py:915: UserWarning:\n",
            "\n",
            "``build_fn`` will be renamed to ``model`` in a future release, at which point use of ``build_fn`` will raise an Error instead.\n",
            "\n"
          ]
        },
        {
          "output_type": "stream",
          "name": "stdout",
          "text": [
            "[CV 2/5] END activation_Function=relu, init=normal;, score=0.813 total time= 1.2min\n"
          ]
        },
        {
          "output_type": "stream",
          "name": "stderr",
          "text": [
            "/usr/local/lib/python3.10/dist-packages/scikeras/wrappers.py:915: UserWarning:\n",
            "\n",
            "``build_fn`` will be renamed to ``model`` in a future release, at which point use of ``build_fn`` will raise an Error instead.\n",
            "\n"
          ]
        },
        {
          "output_type": "stream",
          "name": "stdout",
          "text": [
            "[CV 3/5] END activation_Function=relu, init=normal;, score=0.809 total time= 1.4min\n"
          ]
        },
        {
          "output_type": "stream",
          "name": "stderr",
          "text": [
            "/usr/local/lib/python3.10/dist-packages/scikeras/wrappers.py:915: UserWarning:\n",
            "\n",
            "``build_fn`` will be renamed to ``model`` in a future release, at which point use of ``build_fn`` will raise an Error instead.\n",
            "\n"
          ]
        },
        {
          "output_type": "stream",
          "name": "stdout",
          "text": [
            "[CV 4/5] END activation_Function=relu, init=normal;, score=0.813 total time= 1.2min\n"
          ]
        },
        {
          "output_type": "stream",
          "name": "stderr",
          "text": [
            "/usr/local/lib/python3.10/dist-packages/scikeras/wrappers.py:915: UserWarning:\n",
            "\n",
            "``build_fn`` will be renamed to ``model`` in a future release, at which point use of ``build_fn`` will raise an Error instead.\n",
            "\n"
          ]
        },
        {
          "output_type": "stream",
          "name": "stdout",
          "text": [
            "[CV 5/5] END activation_Function=relu, init=normal;, score=0.813 total time= 1.2min\n"
          ]
        },
        {
          "output_type": "stream",
          "name": "stderr",
          "text": [
            "/usr/local/lib/python3.10/dist-packages/scikeras/wrappers.py:915: UserWarning:\n",
            "\n",
            "``build_fn`` will be renamed to ``model`` in a future release, at which point use of ``build_fn`` will raise an Error instead.\n",
            "\n"
          ]
        },
        {
          "output_type": "stream",
          "name": "stdout",
          "text": [
            "[CV 1/5] END activation_Function=tanh, init=zero;, score=0.800 total time= 1.4min\n"
          ]
        },
        {
          "output_type": "stream",
          "name": "stderr",
          "text": [
            "/usr/local/lib/python3.10/dist-packages/scikeras/wrappers.py:915: UserWarning:\n",
            "\n",
            "``build_fn`` will be renamed to ``model`` in a future release, at which point use of ``build_fn`` will raise an Error instead.\n",
            "\n"
          ]
        },
        {
          "output_type": "stream",
          "name": "stdout",
          "text": [
            "[CV 2/5] END activation_Function=tanh, init=zero;, score=0.813 total time= 1.4min\n"
          ]
        },
        {
          "output_type": "stream",
          "name": "stderr",
          "text": [
            "/usr/local/lib/python3.10/dist-packages/scikeras/wrappers.py:915: UserWarning:\n",
            "\n",
            "``build_fn`` will be renamed to ``model`` in a future release, at which point use of ``build_fn`` will raise an Error instead.\n",
            "\n"
          ]
        },
        {
          "output_type": "stream",
          "name": "stdout",
          "text": [
            "[CV 3/5] END activation_Function=tanh, init=zero;, score=0.809 total time= 1.2min\n"
          ]
        },
        {
          "output_type": "stream",
          "name": "stderr",
          "text": [
            "/usr/local/lib/python3.10/dist-packages/scikeras/wrappers.py:915: UserWarning:\n",
            "\n",
            "``build_fn`` will be renamed to ``model`` in a future release, at which point use of ``build_fn`` will raise an Error instead.\n",
            "\n"
          ]
        },
        {
          "output_type": "stream",
          "name": "stdout",
          "text": [
            "[CV 4/5] END activation_Function=tanh, init=zero;, score=0.813 total time= 1.4min\n"
          ]
        },
        {
          "output_type": "stream",
          "name": "stderr",
          "text": [
            "/usr/local/lib/python3.10/dist-packages/scikeras/wrappers.py:915: UserWarning:\n",
            "\n",
            "``build_fn`` will be renamed to ``model`` in a future release, at which point use of ``build_fn`` will raise an Error instead.\n",
            "\n"
          ]
        },
        {
          "output_type": "stream",
          "name": "stdout",
          "text": [
            "[CV 5/5] END activation_Function=tanh, init=zero;, score=0.813 total time= 1.2min\n"
          ]
        },
        {
          "output_type": "stream",
          "name": "stderr",
          "text": [
            "/usr/local/lib/python3.10/dist-packages/scikeras/wrappers.py:915: UserWarning:\n",
            "\n",
            "``build_fn`` will be renamed to ``model`` in a future release, at which point use of ``build_fn`` will raise an Error instead.\n",
            "\n"
          ]
        },
        {
          "output_type": "stream",
          "name": "stdout",
          "text": [
            "[CV 1/5] END activation_Function=tanh, init=uniform;, score=0.792 total time= 1.4min\n"
          ]
        },
        {
          "output_type": "stream",
          "name": "stderr",
          "text": [
            "/usr/local/lib/python3.10/dist-packages/scikeras/wrappers.py:915: UserWarning:\n",
            "\n",
            "``build_fn`` will be renamed to ``model`` in a future release, at which point use of ``build_fn`` will raise an Error instead.\n",
            "\n"
          ]
        },
        {
          "output_type": "stream",
          "name": "stdout",
          "text": [
            "[CV 2/5] END activation_Function=tanh, init=uniform;, score=0.811 total time= 1.4min\n"
          ]
        },
        {
          "output_type": "stream",
          "name": "stderr",
          "text": [
            "/usr/local/lib/python3.10/dist-packages/scikeras/wrappers.py:915: UserWarning:\n",
            "\n",
            "``build_fn`` will be renamed to ``model`` in a future release, at which point use of ``build_fn`` will raise an Error instead.\n",
            "\n"
          ]
        },
        {
          "output_type": "stream",
          "name": "stdout",
          "text": [
            "[CV 3/5] END activation_Function=tanh, init=uniform;, score=0.814 total time= 1.2min\n"
          ]
        },
        {
          "output_type": "stream",
          "name": "stderr",
          "text": [
            "/usr/local/lib/python3.10/dist-packages/scikeras/wrappers.py:915: UserWarning:\n",
            "\n",
            "``build_fn`` will be renamed to ``model`` in a future release, at which point use of ``build_fn`` will raise an Error instead.\n",
            "\n"
          ]
        },
        {
          "output_type": "stream",
          "name": "stdout",
          "text": [
            "[CV 4/5] END activation_Function=tanh, init=uniform;, score=0.805 total time= 1.2min\n"
          ]
        },
        {
          "output_type": "stream",
          "name": "stderr",
          "text": [
            "/usr/local/lib/python3.10/dist-packages/scikeras/wrappers.py:915: UserWarning:\n",
            "\n",
            "``build_fn`` will be renamed to ``model`` in a future release, at which point use of ``build_fn`` will raise an Error instead.\n",
            "\n"
          ]
        },
        {
          "output_type": "stream",
          "name": "stdout",
          "text": [
            "[CV 5/5] END activation_Function=tanh, init=uniform;, score=0.810 total time= 1.4min\n"
          ]
        },
        {
          "output_type": "stream",
          "name": "stderr",
          "text": [
            "/usr/local/lib/python3.10/dist-packages/scikeras/wrappers.py:915: UserWarning:\n",
            "\n",
            "``build_fn`` will be renamed to ``model`` in a future release, at which point use of ``build_fn`` will raise an Error instead.\n",
            "\n"
          ]
        },
        {
          "output_type": "stream",
          "name": "stdout",
          "text": [
            "[CV 1/5] END activation_Function=tanh, init=normal;, score=0.794 total time= 1.4min\n"
          ]
        },
        {
          "output_type": "stream",
          "name": "stderr",
          "text": [
            "/usr/local/lib/python3.10/dist-packages/scikeras/wrappers.py:915: UserWarning:\n",
            "\n",
            "``build_fn`` will be renamed to ``model`` in a future release, at which point use of ``build_fn`` will raise an Error instead.\n",
            "\n"
          ]
        },
        {
          "output_type": "stream",
          "name": "stdout",
          "text": [
            "[CV 2/5] END activation_Function=tanh, init=normal;, score=0.815 total time= 1.4min\n"
          ]
        },
        {
          "output_type": "stream",
          "name": "stderr",
          "text": [
            "/usr/local/lib/python3.10/dist-packages/scikeras/wrappers.py:915: UserWarning:\n",
            "\n",
            "``build_fn`` will be renamed to ``model`` in a future release, at which point use of ``build_fn`` will raise an Error instead.\n",
            "\n"
          ]
        },
        {
          "output_type": "stream",
          "name": "stdout",
          "text": [
            "[CV 3/5] END activation_Function=tanh, init=normal;, score=0.813 total time= 1.4min\n"
          ]
        },
        {
          "output_type": "stream",
          "name": "stderr",
          "text": [
            "/usr/local/lib/python3.10/dist-packages/scikeras/wrappers.py:915: UserWarning:\n",
            "\n",
            "``build_fn`` will be renamed to ``model`` in a future release, at which point use of ``build_fn`` will raise an Error instead.\n",
            "\n"
          ]
        },
        {
          "output_type": "stream",
          "name": "stdout",
          "text": [
            "[CV 4/5] END activation_Function=tanh, init=normal;, score=0.804 total time= 1.4min\n"
          ]
        },
        {
          "output_type": "stream",
          "name": "stderr",
          "text": [
            "/usr/local/lib/python3.10/dist-packages/scikeras/wrappers.py:915: UserWarning:\n",
            "\n",
            "``build_fn`` will be renamed to ``model`` in a future release, at which point use of ``build_fn`` will raise an Error instead.\n",
            "\n"
          ]
        },
        {
          "output_type": "stream",
          "name": "stdout",
          "text": [
            "[CV 5/5] END activation_Function=tanh, init=normal;, score=0.804 total time= 1.2min\n"
          ]
        },
        {
          "output_type": "stream",
          "name": "stderr",
          "text": [
            "/usr/local/lib/python3.10/dist-packages/scikeras/wrappers.py:915: UserWarning:\n",
            "\n",
            "``build_fn`` will be renamed to ``model`` in a future release, at which point use of ``build_fn`` will raise an Error instead.\n",
            "\n"
          ]
        },
        {
          "output_type": "stream",
          "name": "stdout",
          "text": [
            "[CV 1/5] END activation_Function=softmax, init=zero;, score=0.800 total time= 1.2min\n"
          ]
        },
        {
          "output_type": "stream",
          "name": "stderr",
          "text": [
            "/usr/local/lib/python3.10/dist-packages/scikeras/wrappers.py:915: UserWarning:\n",
            "\n",
            "``build_fn`` will be renamed to ``model`` in a future release, at which point use of ``build_fn`` will raise an Error instead.\n",
            "\n"
          ]
        },
        {
          "output_type": "stream",
          "name": "stdout",
          "text": [
            "[CV 2/5] END activation_Function=softmax, init=zero;, score=0.813 total time= 1.4min\n"
          ]
        },
        {
          "output_type": "stream",
          "name": "stderr",
          "text": [
            "/usr/local/lib/python3.10/dist-packages/scikeras/wrappers.py:915: UserWarning:\n",
            "\n",
            "``build_fn`` will be renamed to ``model`` in a future release, at which point use of ``build_fn`` will raise an Error instead.\n",
            "\n"
          ]
        },
        {
          "output_type": "stream",
          "name": "stdout",
          "text": [
            "[CV 3/5] END activation_Function=softmax, init=zero;, score=0.809 total time= 1.2min\n"
          ]
        },
        {
          "output_type": "stream",
          "name": "stderr",
          "text": [
            "/usr/local/lib/python3.10/dist-packages/scikeras/wrappers.py:915: UserWarning:\n",
            "\n",
            "``build_fn`` will be renamed to ``model`` in a future release, at which point use of ``build_fn`` will raise an Error instead.\n",
            "\n"
          ]
        },
        {
          "output_type": "stream",
          "name": "stdout",
          "text": [
            "[CV 4/5] END activation_Function=softmax, init=zero;, score=0.813 total time= 1.2min\n"
          ]
        },
        {
          "output_type": "stream",
          "name": "stderr",
          "text": [
            "/usr/local/lib/python3.10/dist-packages/scikeras/wrappers.py:915: UserWarning:\n",
            "\n",
            "``build_fn`` will be renamed to ``model`` in a future release, at which point use of ``build_fn`` will raise an Error instead.\n",
            "\n"
          ]
        },
        {
          "output_type": "stream",
          "name": "stdout",
          "text": [
            "[CV 5/5] END activation_Function=softmax, init=zero;, score=0.813 total time= 1.4min\n"
          ]
        },
        {
          "output_type": "stream",
          "name": "stderr",
          "text": [
            "/usr/local/lib/python3.10/dist-packages/scikeras/wrappers.py:915: UserWarning:\n",
            "\n",
            "``build_fn`` will be renamed to ``model`` in a future release, at which point use of ``build_fn`` will raise an Error instead.\n",
            "\n"
          ]
        },
        {
          "output_type": "stream",
          "name": "stdout",
          "text": [
            "[CV 1/5] END activation_Function=softmax, init=uniform;, score=0.800 total time= 1.4min\n"
          ]
        },
        {
          "output_type": "stream",
          "name": "stderr",
          "text": [
            "/usr/local/lib/python3.10/dist-packages/scikeras/wrappers.py:915: UserWarning:\n",
            "\n",
            "``build_fn`` will be renamed to ``model`` in a future release, at which point use of ``build_fn`` will raise an Error instead.\n",
            "\n"
          ]
        },
        {
          "output_type": "stream",
          "name": "stdout",
          "text": [
            "[CV 2/5] END activation_Function=softmax, init=uniform;, score=0.813 total time= 1.4min\n"
          ]
        },
        {
          "output_type": "stream",
          "name": "stderr",
          "text": [
            "/usr/local/lib/python3.10/dist-packages/scikeras/wrappers.py:915: UserWarning:\n",
            "\n",
            "``build_fn`` will be renamed to ``model`` in a future release, at which point use of ``build_fn`` will raise an Error instead.\n",
            "\n"
          ]
        },
        {
          "output_type": "stream",
          "name": "stdout",
          "text": [
            "[CV 3/5] END activation_Function=softmax, init=uniform;, score=0.809 total time= 1.3min\n"
          ]
        },
        {
          "output_type": "stream",
          "name": "stderr",
          "text": [
            "/usr/local/lib/python3.10/dist-packages/scikeras/wrappers.py:915: UserWarning:\n",
            "\n",
            "``build_fn`` will be renamed to ``model`` in a future release, at which point use of ``build_fn`` will raise an Error instead.\n",
            "\n"
          ]
        },
        {
          "output_type": "stream",
          "name": "stdout",
          "text": [
            "[CV 4/5] END activation_Function=softmax, init=uniform;, score=0.813 total time= 1.4min\n"
          ]
        },
        {
          "output_type": "stream",
          "name": "stderr",
          "text": [
            "/usr/local/lib/python3.10/dist-packages/scikeras/wrappers.py:915: UserWarning:\n",
            "\n",
            "``build_fn`` will be renamed to ``model`` in a future release, at which point use of ``build_fn`` will raise an Error instead.\n",
            "\n"
          ]
        },
        {
          "output_type": "stream",
          "name": "stdout",
          "text": [
            "[CV 5/5] END activation_Function=softmax, init=uniform;, score=0.813 total time= 1.4min\n"
          ]
        },
        {
          "output_type": "stream",
          "name": "stderr",
          "text": [
            "/usr/local/lib/python3.10/dist-packages/scikeras/wrappers.py:915: UserWarning:\n",
            "\n",
            "``build_fn`` will be renamed to ``model`` in a future release, at which point use of ``build_fn`` will raise an Error instead.\n",
            "\n"
          ]
        },
        {
          "output_type": "stream",
          "name": "stdout",
          "text": [
            "[CV 1/5] END activation_Function=softmax, init=normal;, score=0.800 total time= 1.3min\n"
          ]
        },
        {
          "output_type": "stream",
          "name": "stderr",
          "text": [
            "/usr/local/lib/python3.10/dist-packages/scikeras/wrappers.py:915: UserWarning:\n",
            "\n",
            "``build_fn`` will be renamed to ``model`` in a future release, at which point use of ``build_fn`` will raise an Error instead.\n",
            "\n"
          ]
        },
        {
          "output_type": "stream",
          "name": "stdout",
          "text": [
            "[CV 2/5] END activation_Function=softmax, init=normal;, score=0.813 total time= 1.2min\n"
          ]
        },
        {
          "output_type": "stream",
          "name": "stderr",
          "text": [
            "/usr/local/lib/python3.10/dist-packages/scikeras/wrappers.py:915: UserWarning:\n",
            "\n",
            "``build_fn`` will be renamed to ``model`` in a future release, at which point use of ``build_fn`` will raise an Error instead.\n",
            "\n"
          ]
        },
        {
          "output_type": "stream",
          "name": "stdout",
          "text": [
            "[CV 3/5] END activation_Function=softmax, init=normal;, score=0.809 total time= 1.4min\n"
          ]
        },
        {
          "output_type": "stream",
          "name": "stderr",
          "text": [
            "/usr/local/lib/python3.10/dist-packages/scikeras/wrappers.py:915: UserWarning:\n",
            "\n",
            "``build_fn`` will be renamed to ``model`` in a future release, at which point use of ``build_fn`` will raise an Error instead.\n",
            "\n"
          ]
        },
        {
          "output_type": "stream",
          "name": "stdout",
          "text": [
            "[CV 4/5] END activation_Function=softmax, init=normal;, score=0.813 total time= 1.4min\n"
          ]
        },
        {
          "output_type": "stream",
          "name": "stderr",
          "text": [
            "/usr/local/lib/python3.10/dist-packages/scikeras/wrappers.py:915: UserWarning:\n",
            "\n",
            "``build_fn`` will be renamed to ``model`` in a future release, at which point use of ``build_fn`` will raise an Error instead.\n",
            "\n"
          ]
        },
        {
          "output_type": "stream",
          "name": "stdout",
          "text": [
            "[CV 5/5] END activation_Function=softmax, init=normal;, score=0.813 total time= 1.4min\n"
          ]
        },
        {
          "output_type": "stream",
          "name": "stderr",
          "text": [
            "/usr/local/lib/python3.10/dist-packages/scikeras/wrappers.py:915: UserWarning:\n",
            "\n",
            "``build_fn`` will be renamed to ``model`` in a future release, at which point use of ``build_fn`` will raise an Error instead.\n",
            "\n"
          ]
        },
        {
          "output_type": "stream",
          "name": "stdout",
          "text": [
            "[CV 1/5] END activation_Function=linear, init=zero;, score=0.800 total time= 1.2min\n"
          ]
        },
        {
          "output_type": "stream",
          "name": "stderr",
          "text": [
            "/usr/local/lib/python3.10/dist-packages/scikeras/wrappers.py:915: UserWarning:\n",
            "\n",
            "``build_fn`` will be renamed to ``model`` in a future release, at which point use of ``build_fn`` will raise an Error instead.\n",
            "\n"
          ]
        },
        {
          "output_type": "stream",
          "name": "stdout",
          "text": [
            "[CV 2/5] END activation_Function=linear, init=zero;, score=0.813 total time= 1.2min\n"
          ]
        },
        {
          "output_type": "stream",
          "name": "stderr",
          "text": [
            "/usr/local/lib/python3.10/dist-packages/scikeras/wrappers.py:915: UserWarning:\n",
            "\n",
            "``build_fn`` will be renamed to ``model`` in a future release, at which point use of ``build_fn`` will raise an Error instead.\n",
            "\n"
          ]
        },
        {
          "output_type": "stream",
          "name": "stdout",
          "text": [
            "[CV 3/5] END activation_Function=linear, init=zero;, score=0.809 total time= 1.4min\n"
          ]
        },
        {
          "output_type": "stream",
          "name": "stderr",
          "text": [
            "/usr/local/lib/python3.10/dist-packages/scikeras/wrappers.py:915: UserWarning:\n",
            "\n",
            "``build_fn`` will be renamed to ``model`` in a future release, at which point use of ``build_fn`` will raise an Error instead.\n",
            "\n"
          ]
        },
        {
          "output_type": "stream",
          "name": "stdout",
          "text": [
            "[CV 4/5] END activation_Function=linear, init=zero;, score=0.813 total time= 1.4min\n"
          ]
        },
        {
          "output_type": "stream",
          "name": "stderr",
          "text": [
            "/usr/local/lib/python3.10/dist-packages/scikeras/wrappers.py:915: UserWarning:\n",
            "\n",
            "``build_fn`` will be renamed to ``model`` in a future release, at which point use of ``build_fn`` will raise an Error instead.\n",
            "\n"
          ]
        },
        {
          "output_type": "stream",
          "name": "stdout",
          "text": [
            "[CV 5/5] END activation_Function=linear, init=zero;, score=0.813 total time= 1.4min\n"
          ]
        },
        {
          "output_type": "stream",
          "name": "stderr",
          "text": [
            "/usr/local/lib/python3.10/dist-packages/scikeras/wrappers.py:915: UserWarning:\n",
            "\n",
            "``build_fn`` will be renamed to ``model`` in a future release, at which point use of ``build_fn`` will raise an Error instead.\n",
            "\n"
          ]
        },
        {
          "output_type": "stream",
          "name": "stdout",
          "text": [
            "[CV 1/5] END activation_Function=linear, init=uniform;, score=0.794 total time= 1.4min\n"
          ]
        },
        {
          "output_type": "stream",
          "name": "stderr",
          "text": [
            "/usr/local/lib/python3.10/dist-packages/scikeras/wrappers.py:915: UserWarning:\n",
            "\n",
            "``build_fn`` will be renamed to ``model`` in a future release, at which point use of ``build_fn`` will raise an Error instead.\n",
            "\n"
          ]
        },
        {
          "output_type": "stream",
          "name": "stdout",
          "text": [
            "[CV 2/5] END activation_Function=linear, init=uniform;, score=0.811 total time= 1.2min\n"
          ]
        },
        {
          "output_type": "stream",
          "name": "stderr",
          "text": [
            "/usr/local/lib/python3.10/dist-packages/scikeras/wrappers.py:915: UserWarning:\n",
            "\n",
            "``build_fn`` will be renamed to ``model`` in a future release, at which point use of ``build_fn`` will raise an Error instead.\n",
            "\n"
          ]
        },
        {
          "output_type": "stream",
          "name": "stdout",
          "text": [
            "[CV 3/5] END activation_Function=linear, init=uniform;, score=0.814 total time= 1.4min\n"
          ]
        },
        {
          "output_type": "stream",
          "name": "stderr",
          "text": [
            "/usr/local/lib/python3.10/dist-packages/scikeras/wrappers.py:915: UserWarning:\n",
            "\n",
            "``build_fn`` will be renamed to ``model`` in a future release, at which point use of ``build_fn`` will raise an Error instead.\n",
            "\n"
          ]
        },
        {
          "output_type": "stream",
          "name": "stdout",
          "text": [
            "[CV 4/5] END activation_Function=linear, init=uniform;, score=0.812 total time= 1.4min\n"
          ]
        },
        {
          "output_type": "stream",
          "name": "stderr",
          "text": [
            "/usr/local/lib/python3.10/dist-packages/scikeras/wrappers.py:915: UserWarning:\n",
            "\n",
            "``build_fn`` will be renamed to ``model`` in a future release, at which point use of ``build_fn`` will raise an Error instead.\n",
            "\n"
          ]
        },
        {
          "output_type": "stream",
          "name": "stdout",
          "text": [
            "[CV 5/5] END activation_Function=linear, init=uniform;, score=0.804 total time= 1.4min\n"
          ]
        },
        {
          "output_type": "stream",
          "name": "stderr",
          "text": [
            "/usr/local/lib/python3.10/dist-packages/scikeras/wrappers.py:915: UserWarning:\n",
            "\n",
            "``build_fn`` will be renamed to ``model`` in a future release, at which point use of ``build_fn`` will raise an Error instead.\n",
            "\n"
          ]
        },
        {
          "output_type": "stream",
          "name": "stdout",
          "text": [
            "[CV 1/5] END activation_Function=linear, init=normal;, score=0.793 total time= 1.4min\n"
          ]
        },
        {
          "output_type": "stream",
          "name": "stderr",
          "text": [
            "/usr/local/lib/python3.10/dist-packages/scikeras/wrappers.py:915: UserWarning:\n",
            "\n",
            "``build_fn`` will be renamed to ``model`` in a future release, at which point use of ``build_fn`` will raise an Error instead.\n",
            "\n"
          ]
        },
        {
          "output_type": "stream",
          "name": "stdout",
          "text": [
            "[CV 2/5] END activation_Function=linear, init=normal;, score=0.811 total time= 1.4min\n"
          ]
        },
        {
          "output_type": "stream",
          "name": "stderr",
          "text": [
            "/usr/local/lib/python3.10/dist-packages/scikeras/wrappers.py:915: UserWarning:\n",
            "\n",
            "``build_fn`` will be renamed to ``model`` in a future release, at which point use of ``build_fn`` will raise an Error instead.\n",
            "\n"
          ]
        },
        {
          "output_type": "stream",
          "name": "stdout",
          "text": [
            "[CV 3/5] END activation_Function=linear, init=normal;, score=0.808 total time= 1.2min\n"
          ]
        },
        {
          "output_type": "stream",
          "name": "stderr",
          "text": [
            "/usr/local/lib/python3.10/dist-packages/scikeras/wrappers.py:915: UserWarning:\n",
            "\n",
            "``build_fn`` will be renamed to ``model`` in a future release, at which point use of ``build_fn`` will raise an Error instead.\n",
            "\n"
          ]
        },
        {
          "output_type": "stream",
          "name": "stdout",
          "text": [
            "[CV 4/5] END activation_Function=linear, init=normal;, score=0.807 total time= 1.2min\n"
          ]
        },
        {
          "output_type": "stream",
          "name": "stderr",
          "text": [
            "/usr/local/lib/python3.10/dist-packages/scikeras/wrappers.py:915: UserWarning:\n",
            "\n",
            "``build_fn`` will be renamed to ``model`` in a future release, at which point use of ``build_fn`` will raise an Error instead.\n",
            "\n"
          ]
        },
        {
          "output_type": "stream",
          "name": "stdout",
          "text": [
            "[CV 5/5] END activation_Function=linear, init=normal;, score=0.815 total time= 1.2min\n"
          ]
        },
        {
          "output_type": "stream",
          "name": "stderr",
          "text": [
            "/usr/local/lib/python3.10/dist-packages/scikeras/wrappers.py:915: UserWarning:\n",
            "\n",
            "``build_fn`` will be renamed to ``model`` in a future release, at which point use of ``build_fn`` will raise an Error instead.\n",
            "\n"
          ]
        }
      ]
    },
    {
      "cell_type": "code",
      "source": [
        "print(result1.best_params_,result1.best_score_)"
      ],
      "metadata": {
        "colab": {
          "base_uri": "https://localhost:8080/"
        },
        "id": "ggouZA7FIfQY",
        "outputId": "d596728b-f8b4-4b4c-8789-806f859eee01"
      },
      "execution_count": 41,
      "outputs": [
        {
          "output_type": "stream",
          "name": "stdout",
          "text": [
            "{'activation_Function': 'relu', 'init': 'zero'} 0.8095379562521288\n"
          ]
        }
      ]
    },
    {
      "cell_type": "code",
      "source": [
        "def create_model():\n",
        "  model=Sequential()\n",
        "  model.add(Dense(12,input_dim=3,kernel_initializer='uniform',activation='tanh'))\n",
        "  model.add(Dropout(0.1))\n",
        "  model.add(Dense(8,kernel_initializer='uniform',activation='tanh'))\n",
        "  model.add(Dropout(0.1))\n",
        "  model.add(Dense(1,kernel_initializer='uniform',activation='tanh'))\n",
        "  adam=Adam(learning_rate=0.001)\n",
        "  model.compile(loss='binary_crossentropy',metrics='accuracy',optimizer=adam)\n",
        "  return model"
      ],
      "metadata": {
        "id": "563Qt7vebB75"
      },
      "execution_count": 42,
      "outputs": []
    },
    {
      "cell_type": "code",
      "source": [
        "model=KerasClassifier(build_fn=create_model,batch_size=10,epochs=50)\n",
        "model.fit(X_train,y_train)"
      ],
      "metadata": {
        "colab": {
          "base_uri": "https://localhost:8080/",
          "height": 1000
        },
        "id": "IQjg0CuRbFdP",
        "outputId": "7f57f601-b005-4f15-94ee-629e95c24458"
      },
      "execution_count": 43,
      "outputs": [
        {
          "output_type": "stream",
          "name": "stdout",
          "text": [
            "Epoch 1/50\n"
          ]
        },
        {
          "output_type": "stream",
          "name": "stderr",
          "text": [
            "/usr/local/lib/python3.10/dist-packages/scikeras/wrappers.py:915: UserWarning:\n",
            "\n",
            "``build_fn`` will be renamed to ``model`` in a future release, at which point use of ``build_fn`` will raise an Error instead.\n",
            "\n"
          ]
        },
        {
          "output_type": "stream",
          "name": "stdout",
          "text": [
            "1053/1053 [==============================] - 6s 4ms/step - loss: 0.5189 - accuracy: 0.8095\n",
            "Epoch 2/50\n",
            "1053/1053 [==============================] - 2s 2ms/step - loss: 0.4485 - accuracy: 0.8095\n",
            "Epoch 3/50\n",
            "1053/1053 [==============================] - 2s 2ms/step - loss: 0.4442 - accuracy: 0.8090\n",
            "Epoch 4/50\n",
            "1053/1053 [==============================] - 2s 2ms/step - loss: 0.4354 - accuracy: 0.8090\n",
            "Epoch 5/50\n",
            "1053/1053 [==============================] - 2s 2ms/step - loss: 0.4294 - accuracy: 0.8086\n",
            "Epoch 6/50\n",
            "1053/1053 [==============================] - 3s 3ms/step - loss: 0.4262 - accuracy: 0.8079\n",
            "Epoch 7/50\n",
            "1053/1053 [==============================] - 2s 2ms/step - loss: 0.4390 - accuracy: 0.8073\n",
            "Epoch 8/50\n",
            "1053/1053 [==============================] - 2s 2ms/step - loss: 0.4250 - accuracy: 0.8059\n",
            "Epoch 9/50\n",
            "1053/1053 [==============================] - 2s 2ms/step - loss: 0.4310 - accuracy: 0.8063\n",
            "Epoch 10/50\n",
            "1053/1053 [==============================] - 2s 2ms/step - loss: 0.4243 - accuracy: 0.8080\n",
            "Epoch 11/50\n",
            "1053/1053 [==============================] - 3s 2ms/step - loss: 0.4287 - accuracy: 0.8086\n",
            "Epoch 12/50\n",
            "1053/1053 [==============================] - 3s 3ms/step - loss: 0.4391 - accuracy: 0.8069\n",
            "Epoch 13/50\n",
            "1053/1053 [==============================] - 2s 2ms/step - loss: 0.4255 - accuracy: 0.8103\n",
            "Epoch 14/50\n",
            "1053/1053 [==============================] - 2s 2ms/step - loss: 0.4263 - accuracy: 0.8089\n",
            "Epoch 15/50\n",
            "1053/1053 [==============================] - 2s 2ms/step - loss: 0.4250 - accuracy: 0.8101\n",
            "Epoch 16/50\n",
            "1053/1053 [==============================] - 2s 2ms/step - loss: 0.4325 - accuracy: 0.8066\n",
            "Epoch 17/50\n",
            "1053/1053 [==============================] - 3s 3ms/step - loss: 0.4286 - accuracy: 0.8076\n",
            "Epoch 18/50\n",
            "1053/1053 [==============================] - 2s 2ms/step - loss: 0.4217 - accuracy: 0.8091\n",
            "Epoch 19/50\n",
            "1053/1053 [==============================] - 2s 2ms/step - loss: 0.4285 - accuracy: 0.8084\n",
            "Epoch 20/50\n",
            "1053/1053 [==============================] - 2s 2ms/step - loss: 0.4257 - accuracy: 0.8089\n",
            "Epoch 21/50\n",
            "1053/1053 [==============================] - 4s 4ms/step - loss: 0.4246 - accuracy: 0.8076\n",
            "Epoch 22/50\n",
            "1053/1053 [==============================] - 4s 4ms/step - loss: 0.4299 - accuracy: 0.8084\n",
            "Epoch 23/50\n",
            "1053/1053 [==============================] - 2s 2ms/step - loss: 0.4248 - accuracy: 0.8085\n",
            "Epoch 24/50\n",
            "1053/1053 [==============================] - 2s 2ms/step - loss: 0.4364 - accuracy: 0.8078\n",
            "Epoch 25/50\n",
            "1053/1053 [==============================] - 2s 2ms/step - loss: 0.4244 - accuracy: 0.8102\n",
            "Epoch 26/50\n",
            "1053/1053 [==============================] - 3s 3ms/step - loss: 0.4318 - accuracy: 0.8091\n",
            "Epoch 27/50\n",
            "1053/1053 [==============================] - 2s 2ms/step - loss: 0.4432 - accuracy: 0.8073\n",
            "Epoch 28/50\n",
            "1053/1053 [==============================] - 2s 2ms/step - loss: 0.4282 - accuracy: 0.8093\n",
            "Epoch 29/50\n",
            "1053/1053 [==============================] - 2s 2ms/step - loss: 0.4280 - accuracy: 0.8089\n",
            "Epoch 30/50\n",
            "1053/1053 [==============================] - 2s 2ms/step - loss: 0.4613 - accuracy: 0.8041\n",
            "Epoch 31/50\n",
            "1053/1053 [==============================] - 2s 2ms/step - loss: 0.4507 - accuracy: 0.8095\n",
            "Epoch 32/50\n",
            "1053/1053 [==============================] - 3s 3ms/step - loss: 0.4343 - accuracy: 0.8093\n",
            "Epoch 33/50\n",
            "1053/1053 [==============================] - 2s 2ms/step - loss: 0.4288 - accuracy: 0.8103\n",
            "Epoch 34/50\n",
            "1053/1053 [==============================] - 2s 2ms/step - loss: 0.4346 - accuracy: 0.8067\n",
            "Epoch 35/50\n",
            "1053/1053 [==============================] - 2s 2ms/step - loss: 0.4338 - accuracy: 0.8095\n",
            "Epoch 36/50\n",
            "1053/1053 [==============================] - 2s 2ms/step - loss: 0.4222 - accuracy: 0.8101\n",
            "Epoch 37/50\n",
            "1053/1053 [==============================] - 3s 3ms/step - loss: 0.4250 - accuracy: 0.8102\n",
            "Epoch 38/50\n",
            "1053/1053 [==============================] - 2s 2ms/step - loss: 0.4379 - accuracy: 0.8097\n",
            "Epoch 39/50\n",
            "1053/1053 [==============================] - 2s 2ms/step - loss: 0.4612 - accuracy: 0.8100\n",
            "Epoch 40/50\n",
            "1053/1053 [==============================] - 2s 2ms/step - loss: 0.4648 - accuracy: 0.8095\n",
            "Epoch 41/50\n",
            "1053/1053 [==============================] - 2s 2ms/step - loss: 0.4566 - accuracy: 0.8095\n",
            "Epoch 42/50\n",
            "1053/1053 [==============================] - 3s 3ms/step - loss: 0.4420 - accuracy: 0.8095\n",
            "Epoch 43/50\n",
            "1053/1053 [==============================] - 3s 2ms/step - loss: 0.4275 - accuracy: 0.8100\n",
            "Epoch 44/50\n",
            "1053/1053 [==============================] - 2s 2ms/step - loss: 0.4253 - accuracy: 0.8101\n",
            "Epoch 45/50\n",
            "1053/1053 [==============================] - 2s 2ms/step - loss: 0.4422 - accuracy: 0.8085\n",
            "Epoch 46/50\n",
            "1053/1053 [==============================] - 2s 2ms/step - loss: 0.4314 - accuracy: 0.8093\n",
            "Epoch 47/50\n",
            "1053/1053 [==============================] - 3s 2ms/step - loss: 0.4246 - accuracy: 0.8097\n",
            "Epoch 48/50\n",
            "1053/1053 [==============================] - 3s 3ms/step - loss: 0.4264 - accuracy: 0.8090\n",
            "Epoch 49/50\n",
            "1053/1053 [==============================] - 2s 2ms/step - loss: 0.4298 - accuracy: 0.8087\n",
            "Epoch 50/50\n",
            "1053/1053 [==============================] - 2s 2ms/step - loss: 0.4236 - accuracy: 0.8089\n"
          ]
        },
        {
          "output_type": "execute_result",
          "data": {
            "text/plain": [
              "KerasClassifier(\n",
              "\tmodel=None\n",
              "\tbuild_fn=<function create_model at 0x7e91b4e5cca0>\n",
              "\twarm_start=False\n",
              "\trandom_state=None\n",
              "\toptimizer=rmsprop\n",
              "\tloss=None\n",
              "\tmetrics=None\n",
              "\tbatch_size=10\n",
              "\tvalidation_batch_size=None\n",
              "\tverbose=1\n",
              "\tcallbacks=None\n",
              "\tvalidation_split=0.0\n",
              "\tshuffle=True\n",
              "\trun_eagerly=False\n",
              "\tepochs=50\n",
              "\tclass_weight=None\n",
              ")"
            ],
            "text/html": [
              "<style>#sk-container-id-1 {color: black;background-color: white;}#sk-container-id-1 pre{padding: 0;}#sk-container-id-1 div.sk-toggleable {background-color: white;}#sk-container-id-1 label.sk-toggleable__label {cursor: pointer;display: block;width: 100%;margin-bottom: 0;padding: 0.3em;box-sizing: border-box;text-align: center;}#sk-container-id-1 label.sk-toggleable__label-arrow:before {content: \"▸\";float: left;margin-right: 0.25em;color: #696969;}#sk-container-id-1 label.sk-toggleable__label-arrow:hover:before {color: black;}#sk-container-id-1 div.sk-estimator:hover label.sk-toggleable__label-arrow:before {color: black;}#sk-container-id-1 div.sk-toggleable__content {max-height: 0;max-width: 0;overflow: hidden;text-align: left;background-color: #f0f8ff;}#sk-container-id-1 div.sk-toggleable__content pre {margin: 0.2em;color: black;border-radius: 0.25em;background-color: #f0f8ff;}#sk-container-id-1 input.sk-toggleable__control:checked~div.sk-toggleable__content {max-height: 200px;max-width: 100%;overflow: auto;}#sk-container-id-1 input.sk-toggleable__control:checked~label.sk-toggleable__label-arrow:before {content: \"▾\";}#sk-container-id-1 div.sk-estimator input.sk-toggleable__control:checked~label.sk-toggleable__label {background-color: #d4ebff;}#sk-container-id-1 div.sk-label input.sk-toggleable__control:checked~label.sk-toggleable__label {background-color: #d4ebff;}#sk-container-id-1 input.sk-hidden--visually {border: 0;clip: rect(1px 1px 1px 1px);clip: rect(1px, 1px, 1px, 1px);height: 1px;margin: -1px;overflow: hidden;padding: 0;position: absolute;width: 1px;}#sk-container-id-1 div.sk-estimator {font-family: monospace;background-color: #f0f8ff;border: 1px dotted black;border-radius: 0.25em;box-sizing: border-box;margin-bottom: 0.5em;}#sk-container-id-1 div.sk-estimator:hover {background-color: #d4ebff;}#sk-container-id-1 div.sk-parallel-item::after {content: \"\";width: 100%;border-bottom: 1px solid gray;flex-grow: 1;}#sk-container-id-1 div.sk-label:hover label.sk-toggleable__label {background-color: #d4ebff;}#sk-container-id-1 div.sk-serial::before {content: \"\";position: absolute;border-left: 1px solid gray;box-sizing: border-box;top: 0;bottom: 0;left: 50%;z-index: 0;}#sk-container-id-1 div.sk-serial {display: flex;flex-direction: column;align-items: center;background-color: white;padding-right: 0.2em;padding-left: 0.2em;position: relative;}#sk-container-id-1 div.sk-item {position: relative;z-index: 1;}#sk-container-id-1 div.sk-parallel {display: flex;align-items: stretch;justify-content: center;background-color: white;position: relative;}#sk-container-id-1 div.sk-item::before, #sk-container-id-1 div.sk-parallel-item::before {content: \"\";position: absolute;border-left: 1px solid gray;box-sizing: border-box;top: 0;bottom: 0;left: 50%;z-index: -1;}#sk-container-id-1 div.sk-parallel-item {display: flex;flex-direction: column;z-index: 1;position: relative;background-color: white;}#sk-container-id-1 div.sk-parallel-item:first-child::after {align-self: flex-end;width: 50%;}#sk-container-id-1 div.sk-parallel-item:last-child::after {align-self: flex-start;width: 50%;}#sk-container-id-1 div.sk-parallel-item:only-child::after {width: 0;}#sk-container-id-1 div.sk-dashed-wrapped {border: 1px dashed gray;margin: 0 0.4em 0.5em 0.4em;box-sizing: border-box;padding-bottom: 0.4em;background-color: white;}#sk-container-id-1 div.sk-label label {font-family: monospace;font-weight: bold;display: inline-block;line-height: 1.2em;}#sk-container-id-1 div.sk-label-container {text-align: center;}#sk-container-id-1 div.sk-container {/* jupyter's `normalize.less` sets `[hidden] { display: none; }` but bootstrap.min.css set `[hidden] { display: none !important; }` so we also need the `!important` here to be able to override the default hidden behavior on the sphinx rendered scikit-learn.org. See: https://github.com/scikit-learn/scikit-learn/issues/21755 */display: inline-block !important;position: relative;}#sk-container-id-1 div.sk-text-repr-fallback {display: none;}</style><div id=\"sk-container-id-1\" class=\"sk-top-container\"><div class=\"sk-text-repr-fallback\"><pre>KerasClassifier(\n",
              "\tmodel=None\n",
              "\tbuild_fn=&lt;function create_model at 0x7e91b4e5cca0&gt;\n",
              "\twarm_start=False\n",
              "\trandom_state=None\n",
              "\toptimizer=rmsprop\n",
              "\tloss=None\n",
              "\tmetrics=None\n",
              "\tbatch_size=10\n",
              "\tvalidation_batch_size=None\n",
              "\tverbose=1\n",
              "\tcallbacks=None\n",
              "\tvalidation_split=0.0\n",
              "\tshuffle=True\n",
              "\trun_eagerly=False\n",
              "\tepochs=50\n",
              "\tclass_weight=None\n",
              ")</pre><b>In a Jupyter environment, please rerun this cell to show the HTML representation or trust the notebook. <br />On GitHub, the HTML representation is unable to render, please try loading this page with nbviewer.org.</b></div><div class=\"sk-container\" hidden><div class=\"sk-item\"><div class=\"sk-estimator sk-toggleable\"><input class=\"sk-toggleable__control sk-hidden--visually\" id=\"sk-estimator-id-1\" type=\"checkbox\" checked><label for=\"sk-estimator-id-1\" class=\"sk-toggleable__label sk-toggleable__label-arrow\">KerasClassifier</label><div class=\"sk-toggleable__content\"><pre>KerasClassifier(\n",
              "\tmodel=None\n",
              "\tbuild_fn=&lt;function create_model at 0x7e91b4e5cca0&gt;\n",
              "\twarm_start=False\n",
              "\trandom_state=None\n",
              "\toptimizer=rmsprop\n",
              "\tloss=None\n",
              "\tmetrics=None\n",
              "\tbatch_size=10\n",
              "\tvalidation_batch_size=None\n",
              "\tverbose=1\n",
              "\tcallbacks=None\n",
              "\tvalidation_split=0.0\n",
              "\tshuffle=True\n",
              "\trun_eagerly=False\n",
              "\tepochs=50\n",
              "\tclass_weight=None\n",
              ")</pre></div></div></div></div></div>"
            ]
          },
          "metadata": {},
          "execution_count": 43
        }
      ]
    },
    {
      "cell_type": "code",
      "source": [
        "y_pred_train=model.predict(X_train)"
      ],
      "metadata": {
        "colab": {
          "base_uri": "https://localhost:8080/"
        },
        "id": "mlVHJpgLbIPc",
        "outputId": "36878d59-2a9e-4def-acbf-4791e14507c0"
      },
      "execution_count": 44,
      "outputs": [
        {
          "output_type": "stream",
          "name": "stdout",
          "text": [
            "1053/1053 [==============================] - 5s 4ms/step\n"
          ]
        }
      ]
    },
    {
      "cell_type": "code",
      "source": [
        "y_pred_test=model.predict(x_test)"
      ],
      "metadata": {
        "colab": {
          "base_uri": "https://localhost:8080/"
        },
        "id": "rhDTctL1b2Vi",
        "outputId": "ce64c320-8be6-4cab-c95e-19bb145b139f"
      },
      "execution_count": 45,
      "outputs": [
        {
          "output_type": "stream",
          "name": "stdout",
          "text": [
            "452/452 [==============================] - 1s 3ms/step\n"
          ]
        }
      ]
    },
    {
      "cell_type": "code",
      "source": [
        "from sklearn.metrics import classification_report\n",
        "print(classification_report(y_train,y_pred_train))"
      ],
      "metadata": {
        "colab": {
          "base_uri": "https://localhost:8080/"
        },
        "id": "_5bD0fewb55S",
        "outputId": "b072bbdd-9053-477e-f9c1-553254c700d7"
      },
      "execution_count": 46,
      "outputs": [
        {
          "output_type": "stream",
          "name": "stdout",
          "text": [
            "              precision    recall  f1-score   support\n",
            "\n",
            "           0       0.81      1.00      0.89      8522\n",
            "           1       0.00      0.00      0.00      2005\n",
            "\n",
            "    accuracy                           0.81     10527\n",
            "   macro avg       0.40      0.50      0.45     10527\n",
            "weighted avg       0.66      0.81      0.72     10527\n",
            "\n"
          ]
        },
        {
          "output_type": "stream",
          "name": "stderr",
          "text": [
            "/usr/local/lib/python3.10/dist-packages/sklearn/metrics/_classification.py:1344: UndefinedMetricWarning:\n",
            "\n",
            "Precision and F-score are ill-defined and being set to 0.0 in labels with no predicted samples. Use `zero_division` parameter to control this behavior.\n",
            "\n",
            "/usr/local/lib/python3.10/dist-packages/sklearn/metrics/_classification.py:1344: UndefinedMetricWarning:\n",
            "\n",
            "Precision and F-score are ill-defined and being set to 0.0 in labels with no predicted samples. Use `zero_division` parameter to control this behavior.\n",
            "\n",
            "/usr/local/lib/python3.10/dist-packages/sklearn/metrics/_classification.py:1344: UndefinedMetricWarning:\n",
            "\n",
            "Precision and F-score are ill-defined and being set to 0.0 in labels with no predicted samples. Use `zero_division` parameter to control this behavior.\n",
            "\n"
          ]
        }
      ]
    },
    {
      "cell_type": "code",
      "source": [
        "accuracy_score(y_train,y_pred_train)"
      ],
      "metadata": {
        "colab": {
          "base_uri": "https://localhost:8080/"
        },
        "id": "h9u4mQ8Wb9jy",
        "outputId": "f6a668c3-a88a-4c21-bc45-8f17ed087251"
      },
      "execution_count": 47,
      "outputs": [
        {
          "output_type": "execute_result",
          "data": {
            "text/plain": [
              "0.8095373800702954"
            ]
          },
          "metadata": {},
          "execution_count": 47
        }
      ]
    },
    {
      "cell_type": "code",
      "source": [
        "print(classification_report(y_test,y_pred_test))"
      ],
      "metadata": {
        "colab": {
          "base_uri": "https://localhost:8080/"
        },
        "id": "nMgtgKx5cAUX",
        "outputId": "09f57ac5-9a6a-47ba-de16-d5756c36e8ab"
      },
      "execution_count": 48,
      "outputs": [
        {
          "output_type": "stream",
          "name": "stdout",
          "text": [
            "              precision    recall  f1-score   support\n",
            "\n",
            "           0       0.82      1.00      0.90      3681\n",
            "           1       0.00      0.00      0.00       831\n",
            "\n",
            "    accuracy                           0.82      4512\n",
            "   macro avg       0.41      0.50      0.45      4512\n",
            "weighted avg       0.67      0.82      0.73      4512\n",
            "\n"
          ]
        },
        {
          "output_type": "stream",
          "name": "stderr",
          "text": [
            "/usr/local/lib/python3.10/dist-packages/sklearn/metrics/_classification.py:1344: UndefinedMetricWarning:\n",
            "\n",
            "Precision and F-score are ill-defined and being set to 0.0 in labels with no predicted samples. Use `zero_division` parameter to control this behavior.\n",
            "\n",
            "/usr/local/lib/python3.10/dist-packages/sklearn/metrics/_classification.py:1344: UndefinedMetricWarning:\n",
            "\n",
            "Precision and F-score are ill-defined and being set to 0.0 in labels with no predicted samples. Use `zero_division` parameter to control this behavior.\n",
            "\n",
            "/usr/local/lib/python3.10/dist-packages/sklearn/metrics/_classification.py:1344: UndefinedMetricWarning:\n",
            "\n",
            "Precision and F-score are ill-defined and being set to 0.0 in labels with no predicted samples. Use `zero_division` parameter to control this behavior.\n",
            "\n"
          ]
        }
      ]
    },
    {
      "cell_type": "code",
      "source": [
        "accuracy_score(y_test,y_pred_test)"
      ],
      "metadata": {
        "colab": {
          "base_uri": "https://localhost:8080/"
        },
        "id": "w4h1-FvVcQn-",
        "outputId": "21462bd7-365f-4894-e80c-fe51224de99f"
      },
      "execution_count": 49,
      "outputs": [
        {
          "output_type": "execute_result",
          "data": {
            "text/plain": [
              "0.8158244680851063"
            ]
          },
          "metadata": {},
          "execution_count": 49
        }
      ]
    }
  ],
  "metadata": {
    "colab": {
      "provenance": []
    },
    "kernelspec": {
      "display_name": "Python 3",
      "name": "python3"
    },
    "language_info": {
      "name": "python"
    }
  },
  "nbformat": 4,
  "nbformat_minor": 0
}